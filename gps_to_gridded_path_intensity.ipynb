{
 "cells": [
  {
   "cell_type": "code",
   "execution_count": 1,
   "id": "4fd679be-f391-4d14-912b-ca06c70accd9",
   "metadata": {},
   "outputs": [],
   "source": [
    "import os\n",
    "import pandas as pd\n",
    "import geopandas as gpd\n",
    "import xarray as xr\n",
    "import numpy as np\n",
    "import itertools\n",
    "import datetime\n",
    "from shapely.geometry import GeometryCollection, Point, LineString\n",
    "from lotek.conversion import shp2mask\n",
    "from lotek.gps import make_steps, graze_intensity\n",
    "from rasterio.enums import MergeAlg\n",
    "from tqdm.notebook import tqdm\n",
    "import pyproj\n",
    "import math"
   ]
  },
  {
   "cell_type": "code",
   "execution_count": 2,
   "id": "3ad9609c-7c14-41fc-b46f-d2a93a6d4fc2",
   "metadata": {},
   "outputs": [],
   "source": [
    "\"\"\"\n",
    "Setup a cluster for parallel processing\n",
    "\"\"\"\n",
    "from distributed import Client, LocalCluster\n",
    "cluster = LocalCluster(n_workers=5, threads_per_worker=2)\n",
    "client = Client(cluster)"
   ]
  },
  {
   "cell_type": "code",
   "execution_count": 3,
   "id": "184a6900-28d7-425c-b13c-f7882bb58709",
   "metadata": {},
   "outputs": [],
   "source": [
    "\"\"\"\n",
    "Setup for calculating bearing of steps\n",
    "\"\"\"\n",
    "geodesic = pyproj.Geod(ellps='WGS84')\n",
    "utm_13N = pyproj.Proj(32613)"
   ]
  },
  {
   "cell_type": "code",
   "execution_count": 4,
   "id": "03e270f5-018d-49f0-871d-6f4a9a8990bc",
   "metadata": {},
   "outputs": [],
   "source": [
    "\"\"\"\n",
    "Define I/O\n",
    "\"\"\"\n",
    "# set the year of analysis\n",
    "year = 2016\n",
    "\n",
    "# Inputs\n",
    "# path to main directory\n",
    "inDIR = 'C:/SPK_local/for_others/Augustine_lotek'\n",
    "# file name of cleaned gps data (from gps_cleaning.ipynb)\n",
    "gps_f = 'TRMappended_GoodDays_' + str(year) + 'TrackQ3_cleaned.csv'\n",
    "# path to 1 m vegetation raster as grid template\n",
    "veg_f = 'G:/neon_v18/neon_class_2017_v18.tif'\n",
    "# path to 30 m raster as grid template\n",
    "tif_30m_f = 'C:/SPK_local/data/rasters/Masks/CPER_dist_to_fence_2017.tif'\n",
    "# path to shapefile with pasture boundaries\n",
    "cper_f = \"C:/SPK_local/data/vectors/Pasture_Boundaries/Shapefiles/cper_pastures_2017_clip.shp\"\n",
    "\n",
    "# Outputs\n",
    "# path to output directory\n",
    "outDIR = 'C:/Users/sean.kearney/OneDrive - USDA/Documents/Projects/GPS_v_hetgen/data'\n",
    "# file name of gridded output\n",
    "out_gridded_f = str(year) + '_grazing_time_gridded_all.csv'"
   ]
  },
  {
   "cell_type": "code",
   "execution_count": 5,
   "id": "f59bc8f7-4ee4-4a18-8e7c-0aa6db8e25fe",
   "metadata": {},
   "outputs": [],
   "source": [
    "\"\"\"\n",
    "Read in data and pre-format\n",
    "\"\"\"\n",
    "# read in GPS data\n",
    "df_gps = pd.read_csv(os.path.join(inDIR, gps_f), engine='python', parse_dates=['Fix_Date', 'Fix_DateTime'])\n",
    "\n",
    "# read in CPER pasture shapefile\n",
    "df_cper = gpd.read_file(cper_f)\n",
    "\n",
    "# dissolve by pasture to make sure each pasture is a single polygon\n",
    "df_cper = df_cper.dissolve(by='Past_Name_').reset_index().rename(columns={'Past_Name_': 'Pasture'})\n",
    "\n",
    "# convert pasture polygons to an xarray (1 m gridded raster) object with pasture name as value\n",
    "cper_info = df_cper[['Pasture', 'geometry']].reset_index(drop=True).reset_index().rename(columns={'index': 'id'})\n",
    "past_dict = {row.id+1: row.Pasture for _, row in cper_info.iterrows()}\n",
    "past_dict[0] = 'UNK'\n",
    "past_mask_shp = [(row.geometry, row.id+1) for _, row in cper_info.iterrows()]"
   ]
  },
  {
   "cell_type": "code",
   "execution_count": 6,
   "id": "0b8a332e-50b2-484f-9008-270621847ea9",
   "metadata": {},
   "outputs": [],
   "source": [
    "\"\"\"\n",
    "Create daily and weekly groupings of GPS data\n",
    "\"\"\"\n",
    "# create unique ID by Pasture-Steer combo\n",
    "df_gps['Pasture_Steer_ID'] = df_gps['Pasture'] + '_' + df_gps['Steer_ID']\n",
    "\n",
    "# create daily grouping and count number of unique Pastures, Steers and Pasture-Steer combos on each day\n",
    "df_gps_daily = df_gps.groupby(\n",
    "    'Fix_Date').agg({'Pasture': lambda x: x.unique(),\n",
    "                     'Steer_ID': lambda x: x.unique(),\n",
    "                     'Pasture_Steer_ID': lambda x: x.unique()}).reset_index()\n",
    "\n",
    "# create weekly grouping listing all pastures, Steers and Pasture-Steer combos present all days in the week\n",
    "df_gps_wkly = df_gps_daily.groupby(\n",
    "    df_gps_daily['Fix_Date'].dt.isocalendar().week).agg(\n",
    "    {'Pasture': lambda x: [i for i in list(df_gps['Pasture'].unique()) if all(i in y for y in x)],\n",
    "     'Steer_ID': lambda x: [i for i in list(df_gps['Steer_ID'].unique()) if all(i in y for y in x)],\n",
    "     'Pasture_Steer_ID': lambda x: [i for i in list(df_gps['Pasture_Steer_ID'].unique()) if all(i in y for y in x)]}).reset_index()"
   ]
  },
  {
   "cell_type": "code",
   "execution_count": 7,
   "id": "2b3469e5-1a27-4d0f-90d2-95637207e614",
   "metadata": {},
   "outputs": [
    {
     "data": {
      "text/plain": [
       "str"
      ]
     },
     "execution_count": 7,
     "metadata": {},
     "output_type": "execute_result"
    }
   ],
   "source": [
    "type(df_gps_daily['Pasture'][0])"
   ]
  },
  {
   "cell_type": "code",
   "execution_count": 8,
   "id": "d04cdb35-bd40-4d87-b9e7-68aedd7a95be",
   "metadata": {
    "scrolled": true,
    "tags": []
   },
   "outputs": [
    {
     "name": "stdout",
     "output_type": "stream",
     "text": [
      "\n",
      "\n",
      "-------------------------------------\n",
      "No. Pastures: 5\n",
      "Max no. weeks: 18\n",
      "-------------------------------------\n",
      "Pastures=5: ['5E', '7NW', '17N', '19N', '20SE']\n",
      "Weeks=18 (start dates): ['May 16', 'May 23', 'May 30', 'Jun 06', 'Jun 13', 'Jun 20', 'Jul 04', 'Jul 11', 'Jul 18', 'Jul 25', 'Aug 01', 'Aug 08', 'Aug 15', 'Aug 22', 'Sep 05', 'Sep 12', 'Sep 19', 'Sep 26']\n",
      "Steers: [9, 11, 11, 11, 10, 11, 10, 11, 11, 10, 10, 11, 11, 11, 9, 10, 11, 11]\n",
      "\n",
      "Pastures=5: ['5E', '7NW', '17N', '19N', '31E']\n",
      "Weeks=18 (start dates): ['May 16', 'May 23', 'May 30', 'Jun 06', 'Jun 13', 'Jun 20', 'Jul 04', 'Jul 11', 'Jul 18', 'Jul 25', 'Aug 01', 'Aug 08', 'Aug 15', 'Aug 22', 'Sep 05', 'Sep 12', 'Sep 19', 'Sep 26']\n",
      "Steers: [10, 11, 11, 11, 10, 11, 9, 11, 11, 10, 10, 11, 11, 11, 8, 9, 10, 10]\n",
      "\n",
      "Pastures=5: ['5E', '7NW', '17N', '20SE', '31E']\n",
      "Weeks=18 (start dates): ['May 16', 'May 23', 'May 30', 'Jun 06', 'Jun 13', 'Jun 20', 'Jul 04', 'Jul 11', 'Jul 18', 'Jul 25', 'Aug 01', 'Aug 08', 'Aug 15', 'Aug 22', 'Sep 05', 'Sep 12', 'Sep 19', 'Sep 26']\n",
      "Steers: [9, 11, 11, 11, 10, 11, 9, 11, 11, 11, 11, 11, 11, 11, 9, 10, 11, 11]\n",
      "\n",
      "Pastures=5: ['5E', '7NW', '19N', '20SE', '31E']\n",
      "Weeks=18 (start dates): ['May 16', 'May 23', 'May 30', 'Jun 06', 'Jun 13', 'Jun 20', 'Jul 04', 'Jul 11', 'Jul 18', 'Jul 25', 'Aug 01', 'Aug 08', 'Aug 15', 'Aug 22', 'Sep 05', 'Sep 12', 'Sep 19', 'Sep 26']\n",
      "Steers: [9, 11, 11, 11, 10, 11, 9, 11, 11, 10, 10, 11, 11, 11, 8, 9, 10, 10]\n",
      "\n",
      "Pastures=5: ['5E', '17N', '19N', '20SE', '31E']\n",
      "Weeks=18 (start dates): ['May 16', 'May 23', 'May 30', 'Jun 06', 'Jun 13', 'Jun 20', 'Jul 04', 'Jul 11', 'Jul 18', 'Jul 25', 'Aug 01', 'Aug 08', 'Aug 15', 'Aug 22', 'Sep 05', 'Sep 12', 'Sep 19', 'Sep 26']\n",
      "Steers: [9, 11, 12, 12, 11, 11, 10, 11, 11, 10, 10, 11, 11, 11, 8, 9, 10, 10]\n",
      "\n",
      "Pastures=5: ['7NW', '17N', '19N', '20SE', '31E']\n",
      "Weeks=18 (start dates): ['May 16', 'May 23', 'May 30', 'Jun 06', 'Jun 13', 'Jun 20', 'Jul 04', 'Jul 11', 'Jul 18', 'Jul 25', 'Aug 01', 'Aug 08', 'Aug 15', 'Aug 22', 'Sep 05', 'Sep 12', 'Sep 19', 'Sep 26']\n",
      "Steers: [9, 10, 9, 9, 9, 10, 8, 10, 10, 9, 9, 10, 10, 10, 8, 8, 8, 8]\n",
      "\n",
      "Pastures=5: ['5E', '7NW', '17N', '19N', '24W']\n",
      "Weeks=16 (start dates): ['May 16', 'May 23', 'Jun 06', 'Jun 13', 'Jun 20', 'Jul 04', 'Jul 11', 'Jul 18', 'Jul 25', 'Aug 01', 'Aug 08', 'Aug 15', 'Sep 05', 'Sep 12', 'Sep 19', 'Sep 26']\n",
      "Steers: [10, 11, 11, 10, 10, 10, 11, 10, 9, 9, 10, 10, 8, 9, 10, 10]\n",
      "\n",
      "Pastures=5: ['5E', '7NW', '17N', '19N', '15E']\n",
      "Weeks=16 (start dates): ['May 23', 'May 30', 'Jun 06', 'Jun 13', 'Jun 20', 'Jul 04', 'Jul 11', 'Jul 18', 'Jul 25', 'Aug 01', 'Aug 08', 'Aug 15', 'Aug 22', 'Sep 12', 'Sep 19', 'Sep 26']\n",
      "Steers: [10, 11, 11, 9, 10, 9, 10, 10, 9, 9, 10, 10, 10, 10, 11, 11]\n",
      "\n",
      "Pastures=5: ['5E', '7NW', '17N', '19N', '26E']\n",
      "Weeks=16 (start dates): ['May 16', 'May 23', 'May 30', 'Jun 06', 'Jun 20', 'Jul 04', 'Jul 18', 'Jul 25', 'Aug 01', 'Aug 08', 'Aug 15', 'Aug 22', 'Sep 05', 'Sep 12', 'Sep 19', 'Sep 26']\n",
      "Steers: [9, 11, 11, 11, 10, 9, 10, 9, 9, 10, 10, 10, 8, 9, 10, 10]\n",
      "\n",
      "Pastures=5: ['5E', '7NW', '17N', '19N', '25SE']\n",
      "Weeks=16 (start dates): ['May 30', 'Jun 06', 'Jun 13', 'Jun 20', 'Jul 04', 'Jul 11', 'Jul 18', 'Jul 25', 'Aug 01', 'Aug 08', 'Aug 15', 'Aug 22', 'Sep 05', 'Sep 12', 'Sep 19', 'Sep 26']\n",
      "Steers: [11, 11, 10, 11, 10, 11, 10, 10, 10, 11, 11, 11, 8, 9, 10, 11]\n",
      "\n",
      "Pastures=5: ['5E', '7NW', '17N', '20SE', '24W']\n",
      "Weeks=16 (start dates): ['May 16', 'May 23', 'Jun 06', 'Jun 13', 'Jun 20', 'Jul 04', 'Jul 11', 'Jul 18', 'Jul 25', 'Aug 01', 'Aug 08', 'Aug 15', 'Sep 05', 'Sep 12', 'Sep 19', 'Sep 26']\n",
      "Steers: [9, 11, 11, 10, 10, 10, 11, 10, 10, 10, 10, 10, 9, 10, 11, 11]\n",
      "\n",
      "Pastures=5: ['5E', '7NW', '17N', '20SE', '15E']\n",
      "Weeks=16 (start dates): ['May 23', 'May 30', 'Jun 06', 'Jun 13', 'Jun 20', 'Jul 04', 'Jul 11', 'Jul 18', 'Jul 25', 'Aug 01', 'Aug 08', 'Aug 15', 'Aug 22', 'Sep 12', 'Sep 19', 'Sep 26']\n",
      "Steers: [10, 11, 11, 9, 10, 9, 10, 10, 10, 10, 10, 10, 10, 11, 12, 12]\n",
      "\n",
      "Pastures=5: ['5E', '7NW', '17N', '20SE', '26E']\n",
      "Weeks=16 (start dates): ['May 16', 'May 23', 'May 30', 'Jun 06', 'Jun 20', 'Jul 04', 'Jul 18', 'Jul 25', 'Aug 01', 'Aug 08', 'Aug 15', 'Aug 22', 'Sep 05', 'Sep 12', 'Sep 19', 'Sep 26']\n",
      "Steers: [8, 11, 11, 11, 10, 9, 10, 10, 10, 10, 10, 10, 9, 10, 11, 11]\n",
      "\n",
      "Pastures=5: ['5E', '7NW', '17N', '20SE', '25SE']\n",
      "Weeks=16 (start dates): ['May 30', 'Jun 06', 'Jun 13', 'Jun 20', 'Jul 04', 'Jul 11', 'Jul 18', 'Jul 25', 'Aug 01', 'Aug 08', 'Aug 15', 'Aug 22', 'Sep 05', 'Sep 12', 'Sep 19', 'Sep 26']\n",
      "Steers: [11, 11, 10, 11, 10, 11, 10, 11, 11, 11, 11, 11, 9, 10, 11, 12]\n",
      "\n",
      "Pastures=5: ['5E', '7NW', '17N', '31E', '24W']\n",
      "Weeks=16 (start dates): ['May 16', 'May 23', 'Jun 06', 'Jun 13', 'Jun 20', 'Jul 04', 'Jul 11', 'Jul 18', 'Jul 25', 'Aug 01', 'Aug 08', 'Aug 15', 'Sep 05', 'Sep 12', 'Sep 19', 'Sep 26']\n",
      "Steers: [10, 11, 11, 10, 10, 9, 11, 10, 10, 10, 10, 10, 8, 9, 10, 10]\n",
      "\n",
      "Pastures=5: ['5E', '7NW', '17N', '31E', '15E']\n",
      "Weeks=16 (start dates): ['May 23', 'May 30', 'Jun 06', 'Jun 13', 'Jun 20', 'Jul 04', 'Jul 11', 'Jul 18', 'Jul 25', 'Aug 01', 'Aug 08', 'Aug 15', 'Aug 22', 'Sep 12', 'Sep 19', 'Sep 26']\n",
      "Steers: [10, 11, 11, 9, 10, 8, 10, 10, 10, 10, 10, 10, 10, 10, 11, 11]\n",
      "\n",
      "Pastures=5: ['5E', '7NW', '17N', '31E', '26E']\n",
      "Weeks=16 (start dates): ['May 16', 'May 23', 'May 30', 'Jun 06', 'Jun 20', 'Jul 04', 'Jul 18', 'Jul 25', 'Aug 01', 'Aug 08', 'Aug 15', 'Aug 22', 'Sep 05', 'Sep 12', 'Sep 19', 'Sep 26']\n",
      "Steers: [9, 11, 11, 11, 10, 8, 10, 10, 10, 10, 10, 10, 8, 9, 10, 10]\n",
      "\n",
      "Pastures=5: ['5E', '7NW', '17N', '31E', '25SE']\n",
      "Weeks=16 (start dates): ['May 30', 'Jun 06', 'Jun 13', 'Jun 20', 'Jul 04', 'Jul 11', 'Jul 18', 'Jul 25', 'Aug 01', 'Aug 08', 'Aug 15', 'Aug 22', 'Sep 05', 'Sep 12', 'Sep 19', 'Sep 26']\n",
      "Steers: [11, 11, 10, 11, 9, 11, 10, 11, 11, 11, 11, 11, 8, 9, 10, 11]\n",
      "\n",
      "Pastures=5: ['5E', '7NW', '19N', '20SE', '24W']\n",
      "Weeks=16 (start dates): ['May 16', 'May 23', 'Jun 06', 'Jun 13', 'Jun 20', 'Jul 04', 'Jul 11', 'Jul 18', 'Jul 25', 'Aug 01', 'Aug 08', 'Aug 15', 'Sep 05', 'Sep 12', 'Sep 19', 'Sep 26']\n",
      "Steers: [9, 11, 11, 10, 10, 10, 11, 10, 9, 9, 10, 10, 8, 9, 10, 10]\n",
      "\n",
      "Pastures=5: ['5E', '7NW', '19N', '20SE', '15E']\n",
      "Weeks=16 (start dates): ['May 23', 'May 30', 'Jun 06', 'Jun 13', 'Jun 20', 'Jul 04', 'Jul 11', 'Jul 18', 'Jul 25', 'Aug 01', 'Aug 08', 'Aug 15', 'Aug 22', 'Sep 12', 'Sep 19', 'Sep 26']\n",
      "Steers: [10, 11, 11, 9, 10, 9, 10, 10, 9, 9, 10, 10, 10, 10, 11, 11]\n",
      "\n",
      "Pastures=5: ['5E', '7NW', '19N', '20SE', '26E']\n",
      "Weeks=16 (start dates): ['May 16', 'May 23', 'May 30', 'Jun 06', 'Jun 20', 'Jul 04', 'Jul 18', 'Jul 25', 'Aug 01', 'Aug 08', 'Aug 15', 'Aug 22', 'Sep 05', 'Sep 12', 'Sep 19', 'Sep 26']\n",
      "Steers: [8, 11, 11, 11, 10, 9, 10, 9, 9, 10, 10, 10, 8, 9, 10, 10]\n",
      "\n",
      "Pastures=5: ['5E', '7NW', '19N', '20SE', '25SE']\n",
      "Weeks=16 (start dates): ['May 30', 'Jun 06', 'Jun 13', 'Jun 20', 'Jul 04', 'Jul 11', 'Jul 18', 'Jul 25', 'Aug 01', 'Aug 08', 'Aug 15', 'Aug 22', 'Sep 05', 'Sep 12', 'Sep 19', 'Sep 26']\n",
      "Steers: [11, 11, 10, 11, 10, 11, 10, 10, 10, 11, 11, 11, 8, 9, 10, 11]\n",
      "\n",
      "Pastures=5: ['5E', '7NW', '19N', '31E', '24W']\n",
      "Weeks=16 (start dates): ['May 16', 'May 23', 'Jun 06', 'Jun 13', 'Jun 20', 'Jul 04', 'Jul 11', 'Jul 18', 'Jul 25', 'Aug 01', 'Aug 08', 'Aug 15', 'Sep 05', 'Sep 12', 'Sep 19', 'Sep 26']\n",
      "Steers: [10, 11, 11, 10, 10, 9, 11, 10, 9, 9, 10, 10, 7, 8, 9, 9]\n",
      "\n",
      "Pastures=5: ['5E', '7NW', '19N', '31E', '15E']\n",
      "Weeks=16 (start dates): ['May 23', 'May 30', 'Jun 06', 'Jun 13', 'Jun 20', 'Jul 04', 'Jul 11', 'Jul 18', 'Jul 25', 'Aug 01', 'Aug 08', 'Aug 15', 'Aug 22', 'Sep 12', 'Sep 19', 'Sep 26']\n",
      "Steers: [10, 11, 11, 9, 10, 8, 10, 10, 9, 9, 10, 10, 10, 9, 10, 10]\n",
      "\n",
      "Pastures=5: ['5E', '7NW', '19N', '31E', '26E']\n",
      "Weeks=16 (start dates): ['May 16', 'May 23', 'May 30', 'Jun 06', 'Jun 20', 'Jul 04', 'Jul 18', 'Jul 25', 'Aug 01', 'Aug 08', 'Aug 15', 'Aug 22', 'Sep 05', 'Sep 12', 'Sep 19', 'Sep 26']\n",
      "Steers: [9, 11, 11, 11, 10, 8, 10, 9, 9, 10, 10, 10, 7, 8, 9, 9]\n",
      "\n",
      "Pastures=5: ['5E', '7NW', '19N', '31E', '25SE']\n",
      "Weeks=16 (start dates): ['May 30', 'Jun 06', 'Jun 13', 'Jun 20', 'Jul 04', 'Jul 11', 'Jul 18', 'Jul 25', 'Aug 01', 'Aug 08', 'Aug 15', 'Aug 22', 'Sep 05', 'Sep 12', 'Sep 19', 'Sep 26']\n",
      "Steers: [11, 11, 10, 11, 9, 11, 10, 10, 10, 11, 11, 11, 7, 8, 9, 10]\n",
      "\n",
      "Pastures=5: ['5E', '7NW', '20SE', '31E', '24W']\n",
      "Weeks=16 (start dates): ['May 16', 'May 23', 'Jun 06', 'Jun 13', 'Jun 20', 'Jul 04', 'Jul 11', 'Jul 18', 'Jul 25', 'Aug 01', 'Aug 08', 'Aug 15', 'Sep 05', 'Sep 12', 'Sep 19', 'Sep 26']\n",
      "Steers: [9, 11, 11, 10, 10, 9, 11, 10, 10, 10, 10, 10, 8, 9, 10, 10]\n",
      "\n",
      "Pastures=5: ['5E', '7NW', '20SE', '31E', '15E']\n",
      "Weeks=16 (start dates): ['May 23', 'May 30', 'Jun 06', 'Jun 13', 'Jun 20', 'Jul 04', 'Jul 11', 'Jul 18', 'Jul 25', 'Aug 01', 'Aug 08', 'Aug 15', 'Aug 22', 'Sep 12', 'Sep 19', 'Sep 26']\n",
      "Steers: [10, 11, 11, 9, 10, 8, 10, 10, 10, 10, 10, 10, 10, 10, 11, 11]\n",
      "\n",
      "Pastures=5: ['5E', '7NW', '20SE', '31E', '26E']\n",
      "Weeks=16 (start dates): ['May 16', 'May 23', 'May 30', 'Jun 06', 'Jun 20', 'Jul 04', 'Jul 18', 'Jul 25', 'Aug 01', 'Aug 08', 'Aug 15', 'Aug 22', 'Sep 05', 'Sep 12', 'Sep 19', 'Sep 26']\n",
      "Steers: [8, 11, 11, 11, 10, 8, 10, 10, 10, 10, 10, 10, 8, 9, 10, 10]\n",
      "\n",
      "Pastures=5: ['5E', '7NW', '20SE', '31E', '25SE']\n",
      "Weeks=16 (start dates): ['May 30', 'Jun 06', 'Jun 13', 'Jun 20', 'Jul 04', 'Jul 11', 'Jul 18', 'Jul 25', 'Aug 01', 'Aug 08', 'Aug 15', 'Aug 22', 'Sep 05', 'Sep 12', 'Sep 19', 'Sep 26']\n",
      "Steers: [11, 11, 10, 11, 9, 11, 10, 11, 11, 11, 11, 11, 8, 9, 10, 11]\n",
      "\n",
      "Pastures=5: ['5E', '17N', '19N', '20SE', '24W']\n",
      "Weeks=16 (start dates): ['May 16', 'May 23', 'Jun 06', 'Jun 13', 'Jun 20', 'Jul 04', 'Jul 11', 'Jul 18', 'Jul 25', 'Aug 01', 'Aug 08', 'Aug 15', 'Sep 05', 'Sep 12', 'Sep 19', 'Sep 26']\n",
      "Steers: [9, 11, 12, 11, 10, 11, 11, 10, 9, 9, 10, 10, 8, 9, 10, 10]\n",
      "\n",
      "Pastures=5: ['5E', '17N', '19N', '20SE', '15E']\n",
      "Weeks=16 (start dates): ['May 23', 'May 30', 'Jun 06', 'Jun 13', 'Jun 20', 'Jul 04', 'Jul 11', 'Jul 18', 'Jul 25', 'Aug 01', 'Aug 08', 'Aug 15', 'Aug 22', 'Sep 12', 'Sep 19', 'Sep 26']\n",
      "Steers: [10, 12, 12, 10, 10, 10, 10, 10, 9, 9, 10, 10, 10, 10, 11, 11]\n",
      "\n",
      "Pastures=5: ['5E', '17N', '19N', '20SE', '26E']\n",
      "Weeks=16 (start dates): ['May 16', 'May 23', 'May 30', 'Jun 06', 'Jun 20', 'Jul 04', 'Jul 18', 'Jul 25', 'Aug 01', 'Aug 08', 'Aug 15', 'Aug 22', 'Sep 05', 'Sep 12', 'Sep 19', 'Sep 26']\n",
      "Steers: [8, 11, 12, 12, 10, 10, 10, 9, 9, 10, 10, 10, 8, 9, 10, 10]\n",
      "\n",
      "Pastures=5: ['5E', '17N', '19N', '20SE', '25SE']\n",
      "Weeks=16 (start dates): ['May 30', 'Jun 06', 'Jun 13', 'Jun 20', 'Jul 04', 'Jul 11', 'Jul 18', 'Jul 25', 'Aug 01', 'Aug 08', 'Aug 15', 'Aug 22', 'Sep 05', 'Sep 12', 'Sep 19', 'Sep 26']\n",
      "Steers: [12, 12, 11, 11, 11, 11, 10, 10, 10, 11, 11, 11, 8, 9, 10, 11]\n",
      "\n",
      "Pastures=5: ['5E', '17N', '19N', '31E', '24W']\n",
      "Weeks=16 (start dates): ['May 16', 'May 23', 'Jun 06', 'Jun 13', 'Jun 20', 'Jul 04', 'Jul 11', 'Jul 18', 'Jul 25', 'Aug 01', 'Aug 08', 'Aug 15', 'Sep 05', 'Sep 12', 'Sep 19', 'Sep 26']\n",
      "Steers: [10, 11, 12, 11, 10, 10, 11, 10, 9, 9, 10, 10, 7, 8, 9, 9]\n",
      "\n",
      "Pastures=5: ['5E', '17N', '19N', '31E', '15E']\n",
      "Weeks=16 (start dates): ['May 23', 'May 30', 'Jun 06', 'Jun 13', 'Jun 20', 'Jul 04', 'Jul 11', 'Jul 18', 'Jul 25', 'Aug 01', 'Aug 08', 'Aug 15', 'Aug 22', 'Sep 12', 'Sep 19', 'Sep 26']\n",
      "Steers: [10, 12, 12, 10, 10, 9, 10, 10, 9, 9, 10, 10, 10, 9, 10, 10]\n",
      "\n",
      "Pastures=5: ['5E', '17N', '19N', '31E', '26E']\n",
      "Weeks=16 (start dates): ['May 16', 'May 23', 'May 30', 'Jun 06', 'Jun 20', 'Jul 04', 'Jul 18', 'Jul 25', 'Aug 01', 'Aug 08', 'Aug 15', 'Aug 22', 'Sep 05', 'Sep 12', 'Sep 19', 'Sep 26']\n",
      "Steers: [9, 11, 12, 12, 10, 9, 10, 9, 9, 10, 10, 10, 7, 8, 9, 9]\n",
      "\n",
      "Pastures=5: ['5E', '17N', '19N', '31E', '25SE']\n",
      "Weeks=16 (start dates): ['May 30', 'Jun 06', 'Jun 13', 'Jun 20', 'Jul 04', 'Jul 11', 'Jul 18', 'Jul 25', 'Aug 01', 'Aug 08', 'Aug 15', 'Aug 22', 'Sep 05', 'Sep 12', 'Sep 19', 'Sep 26']\n",
      "Steers: [12, 12, 11, 11, 10, 11, 10, 10, 10, 11, 11, 11, 7, 8, 9, 10]\n",
      "\n",
      "Pastures=5: ['5E', '17N', '20SE', '31E', '24W']\n",
      "Weeks=16 (start dates): ['May 16', 'May 23', 'Jun 06', 'Jun 13', 'Jun 20', 'Jul 04', 'Jul 11', 'Jul 18', 'Jul 25', 'Aug 01', 'Aug 08', 'Aug 15', 'Sep 05', 'Sep 12', 'Sep 19', 'Sep 26']\n",
      "Steers: [9, 11, 12, 11, 10, 10, 11, 10, 10, 10, 10, 10, 8, 9, 10, 10]\n",
      "\n",
      "Pastures=5: ['5E', '17N', '20SE', '31E', '15E']\n",
      "Weeks=16 (start dates): ['May 23', 'May 30', 'Jun 06', 'Jun 13', 'Jun 20', 'Jul 04', 'Jul 11', 'Jul 18', 'Jul 25', 'Aug 01', 'Aug 08', 'Aug 15', 'Aug 22', 'Sep 12', 'Sep 19', 'Sep 26']\n",
      "Steers: [10, 12, 12, 10, 10, 9, 10, 10, 10, 10, 10, 10, 10, 10, 11, 11]\n",
      "\n",
      "Pastures=5: ['5E', '17N', '20SE', '31E', '26E']\n",
      "Weeks=16 (start dates): ['May 16', 'May 23', 'May 30', 'Jun 06', 'Jun 20', 'Jul 04', 'Jul 18', 'Jul 25', 'Aug 01', 'Aug 08', 'Aug 15', 'Aug 22', 'Sep 05', 'Sep 12', 'Sep 19', 'Sep 26']\n",
      "Steers: [8, 11, 12, 12, 10, 9, 10, 10, 10, 10, 10, 10, 8, 9, 10, 10]\n",
      "\n",
      "Pastures=5: ['5E', '17N', '20SE', '31E', '25SE']\n",
      "Weeks=16 (start dates): ['May 30', 'Jun 06', 'Jun 13', 'Jun 20', 'Jul 04', 'Jul 11', 'Jul 18', 'Jul 25', 'Aug 01', 'Aug 08', 'Aug 15', 'Aug 22', 'Sep 05', 'Sep 12', 'Sep 19', 'Sep 26']\n",
      "Steers: [12, 12, 11, 11, 10, 11, 10, 11, 11, 11, 11, 11, 8, 9, 10, 11]\n",
      "\n",
      "Pastures=5: ['5E', '19N', '20SE', '31E', '24W']\n",
      "Weeks=16 (start dates): ['May 16', 'May 23', 'Jun 06', 'Jun 13', 'Jun 20', 'Jul 04', 'Jul 11', 'Jul 18', 'Jul 25', 'Aug 01', 'Aug 08', 'Aug 15', 'Sep 05', 'Sep 12', 'Sep 19', 'Sep 26']\n",
      "Steers: [9, 11, 12, 11, 10, 10, 11, 10, 9, 9, 10, 10, 7, 8, 9, 9]\n",
      "\n",
      "Pastures=5: ['5E', '19N', '20SE', '31E', '15E']\n",
      "Weeks=16 (start dates): ['May 23', 'May 30', 'Jun 06', 'Jun 13', 'Jun 20', 'Jul 04', 'Jul 11', 'Jul 18', 'Jul 25', 'Aug 01', 'Aug 08', 'Aug 15', 'Aug 22', 'Sep 12', 'Sep 19', 'Sep 26']\n",
      "Steers: [10, 12, 12, 10, 10, 9, 10, 10, 9, 9, 10, 10, 10, 9, 10, 10]\n",
      "\n",
      "Pastures=5: ['5E', '19N', '20SE', '31E', '26E']\n",
      "Weeks=16 (start dates): ['May 16', 'May 23', 'May 30', 'Jun 06', 'Jun 20', 'Jul 04', 'Jul 18', 'Jul 25', 'Aug 01', 'Aug 08', 'Aug 15', 'Aug 22', 'Sep 05', 'Sep 12', 'Sep 19', 'Sep 26']\n",
      "Steers: [8, 11, 12, 12, 10, 9, 10, 9, 9, 10, 10, 10, 7, 8, 9, 9]\n",
      "\n",
      "Pastures=5: ['5E', '19N', '20SE', '31E', '25SE']\n",
      "Weeks=16 (start dates): ['May 30', 'Jun 06', 'Jun 13', 'Jun 20', 'Jul 04', 'Jul 11', 'Jul 18', 'Jul 25', 'Aug 01', 'Aug 08', 'Aug 15', 'Aug 22', 'Sep 05', 'Sep 12', 'Sep 19', 'Sep 26']\n",
      "Steers: [12, 12, 11, 11, 10, 11, 10, 10, 10, 11, 11, 11, 7, 8, 9, 10]\n",
      "\n",
      "Pastures=5: ['7NW', '17N', '19N', '20SE', '24W']\n",
      "Weeks=16 (start dates): ['May 16', 'May 23', 'Jun 06', 'Jun 13', 'Jun 20', 'Jul 04', 'Jul 11', 'Jul 18', 'Jul 25', 'Aug 01', 'Aug 08', 'Aug 15', 'Sep 05', 'Sep 12', 'Sep 19', 'Sep 26']\n",
      "Steers: [9, 10, 9, 9, 9, 9, 10, 9, 8, 8, 9, 9, 8, 8, 8, 8]\n",
      "\n",
      "Pastures=5: ['7NW', '17N', '19N', '20SE', '15E']\n",
      "Weeks=16 (start dates): ['May 23', 'May 30', 'Jun 06', 'Jun 13', 'Jun 20', 'Jul 04', 'Jul 11', 'Jul 18', 'Jul 25', 'Aug 01', 'Aug 08', 'Aug 15', 'Aug 22', 'Sep 12', 'Sep 19', 'Sep 26']\n",
      "Steers: [9, 9, 9, 8, 9, 8, 9, 9, 8, 8, 9, 9, 9, 9, 9, 9]\n",
      "\n",
      "Pastures=5: ['7NW', '17N', '19N', '20SE', '26E']\n",
      "Weeks=16 (start dates): ['May 16', 'May 23', 'May 30', 'Jun 06', 'Jun 20', 'Jul 04', 'Jul 18', 'Jul 25', 'Aug 01', 'Aug 08', 'Aug 15', 'Aug 22', 'Sep 05', 'Sep 12', 'Sep 19', 'Sep 26']\n",
      "Steers: [8, 10, 9, 9, 9, 8, 9, 8, 8, 9, 9, 9, 8, 8, 8, 8]\n",
      "\n",
      "Pastures=5: ['7NW', '17N', '19N', '20SE', '25SE']\n",
      "Weeks=16 (start dates): ['May 30', 'Jun 06', 'Jun 13', 'Jun 20', 'Jul 04', 'Jul 11', 'Jul 18', 'Jul 25', 'Aug 01', 'Aug 08', 'Aug 15', 'Aug 22', 'Sep 05', 'Sep 12', 'Sep 19', 'Sep 26']\n",
      "Steers: [9, 9, 9, 10, 9, 10, 9, 9, 9, 10, 10, 10, 8, 8, 8, 9]\n",
      "\n",
      "Pastures=5: ['7NW', '17N', '19N', '31E', '24W']\n",
      "Weeks=16 (start dates): ['May 16', 'May 23', 'Jun 06', 'Jun 13', 'Jun 20', 'Jul 04', 'Jul 11', 'Jul 18', 'Jul 25', 'Aug 01', 'Aug 08', 'Aug 15', 'Sep 05', 'Sep 12', 'Sep 19', 'Sep 26']\n",
      "Steers: [10, 10, 9, 9, 9, 8, 10, 9, 8, 8, 9, 9, 7, 7, 7, 7]\n",
      "\n",
      "Pastures=5: ['7NW', '17N', '19N', '31E', '15E']\n",
      "Weeks=16 (start dates): ['May 23', 'May 30', 'Jun 06', 'Jun 13', 'Jun 20', 'Jul 04', 'Jul 11', 'Jul 18', 'Jul 25', 'Aug 01', 'Aug 08', 'Aug 15', 'Aug 22', 'Sep 12', 'Sep 19', 'Sep 26']\n",
      "Steers: [9, 9, 9, 8, 9, 7, 9, 9, 8, 8, 9, 9, 9, 8, 8, 8]\n",
      "\n",
      "Pastures=5: ['7NW', '17N', '19N', '31E', '26E']\n",
      "Weeks=16 (start dates): ['May 16', 'May 23', 'May 30', 'Jun 06', 'Jun 20', 'Jul 04', 'Jul 18', 'Jul 25', 'Aug 01', 'Aug 08', 'Aug 15', 'Aug 22', 'Sep 05', 'Sep 12', 'Sep 19', 'Sep 26']\n",
      "Steers: [9, 10, 9, 9, 9, 7, 9, 8, 8, 9, 9, 9, 7, 7, 7, 7]\n",
      "\n",
      "Pastures=5: ['7NW', '17N', '19N', '31E', '25SE']\n",
      "Weeks=16 (start dates): ['May 30', 'Jun 06', 'Jun 13', 'Jun 20', 'Jul 04', 'Jul 11', 'Jul 18', 'Jul 25', 'Aug 01', 'Aug 08', 'Aug 15', 'Aug 22', 'Sep 05', 'Sep 12', 'Sep 19', 'Sep 26']\n",
      "Steers: [9, 9, 9, 10, 8, 10, 9, 9, 9, 10, 10, 10, 7, 7, 7, 8]\n",
      "\n",
      "Pastures=5: ['7NW', '17N', '20SE', '31E', '24W']\n",
      "Weeks=16 (start dates): ['May 16', 'May 23', 'Jun 06', 'Jun 13', 'Jun 20', 'Jul 04', 'Jul 11', 'Jul 18', 'Jul 25', 'Aug 01', 'Aug 08', 'Aug 15', 'Sep 05', 'Sep 12', 'Sep 19', 'Sep 26']\n",
      "Steers: [9, 10, 9, 9, 9, 8, 10, 9, 9, 9, 9, 9, 8, 8, 8, 8]\n",
      "\n",
      "Pastures=5: ['7NW', '17N', '20SE', '31E', '15E']\n",
      "Weeks=16 (start dates): ['May 23', 'May 30', 'Jun 06', 'Jun 13', 'Jun 20', 'Jul 04', 'Jul 11', 'Jul 18', 'Jul 25', 'Aug 01', 'Aug 08', 'Aug 15', 'Aug 22', 'Sep 12', 'Sep 19', 'Sep 26']\n",
      "Steers: [9, 9, 9, 8, 9, 7, 9, 9, 9, 9, 9, 9, 9, 9, 9, 9]\n",
      "\n",
      "Pastures=5: ['7NW', '17N', '20SE', '31E', '26E']\n",
      "Weeks=16 (start dates): ['May 16', 'May 23', 'May 30', 'Jun 06', 'Jun 20', 'Jul 04', 'Jul 18', 'Jul 25', 'Aug 01', 'Aug 08', 'Aug 15', 'Aug 22', 'Sep 05', 'Sep 12', 'Sep 19', 'Sep 26']\n",
      "Steers: [8, 10, 9, 9, 9, 7, 9, 9, 9, 9, 9, 9, 8, 8, 8, 8]\n",
      "\n",
      "Pastures=5: ['7NW', '17N', '20SE', '31E', '25SE']\n",
      "Weeks=16 (start dates): ['May 30', 'Jun 06', 'Jun 13', 'Jun 20', 'Jul 04', 'Jul 11', 'Jul 18', 'Jul 25', 'Aug 01', 'Aug 08', 'Aug 15', 'Aug 22', 'Sep 05', 'Sep 12', 'Sep 19', 'Sep 26']\n",
      "Steers: [9, 9, 9, 10, 8, 10, 9, 10, 10, 10, 10, 10, 8, 8, 8, 9]\n",
      "\n",
      "Pastures=5: ['7NW', '19N', '20SE', '31E', '24W']\n",
      "Weeks=16 (start dates): ['May 16', 'May 23', 'Jun 06', 'Jun 13', 'Jun 20', 'Jul 04', 'Jul 11', 'Jul 18', 'Jul 25', 'Aug 01', 'Aug 08', 'Aug 15', 'Sep 05', 'Sep 12', 'Sep 19', 'Sep 26']\n",
      "Steers: [9, 10, 9, 9, 9, 8, 10, 9, 8, 8, 9, 9, 7, 7, 7, 7]\n",
      "\n",
      "Pastures=5: ['7NW', '19N', '20SE', '31E', '15E']\n",
      "Weeks=16 (start dates): ['May 23', 'May 30', 'Jun 06', 'Jun 13', 'Jun 20', 'Jul 04', 'Jul 11', 'Jul 18', 'Jul 25', 'Aug 01', 'Aug 08', 'Aug 15', 'Aug 22', 'Sep 12', 'Sep 19', 'Sep 26']\n",
      "Steers: [9, 9, 9, 8, 9, 7, 9, 9, 8, 8, 9, 9, 9, 8, 8, 8]\n",
      "\n",
      "Pastures=5: ['7NW', '19N', '20SE', '31E', '26E']\n",
      "Weeks=16 (start dates): ['May 16', 'May 23', 'May 30', 'Jun 06', 'Jun 20', 'Jul 04', 'Jul 18', 'Jul 25', 'Aug 01', 'Aug 08', 'Aug 15', 'Aug 22', 'Sep 05', 'Sep 12', 'Sep 19', 'Sep 26']\n",
      "Steers: [8, 10, 9, 9, 9, 7, 9, 8, 8, 9, 9, 9, 7, 7, 7, 7]\n",
      "\n",
      "Pastures=5: ['7NW', '19N', '20SE', '31E', '25SE']\n",
      "Weeks=16 (start dates): ['May 30', 'Jun 06', 'Jun 13', 'Jun 20', 'Jul 04', 'Jul 11', 'Jul 18', 'Jul 25', 'Aug 01', 'Aug 08', 'Aug 15', 'Aug 22', 'Sep 05', 'Sep 12', 'Sep 19', 'Sep 26']\n",
      "Steers: [9, 9, 9, 10, 8, 10, 9, 9, 9, 10, 10, 10, 7, 7, 7, 8]\n",
      "\n",
      "Pastures=5: ['17N', '19N', '20SE', '31E', '24W']\n",
      "Weeks=16 (start dates): ['May 16', 'May 23', 'Jun 06', 'Jun 13', 'Jun 20', 'Jul 04', 'Jul 11', 'Jul 18', 'Jul 25', 'Aug 01', 'Aug 08', 'Aug 15', 'Sep 05', 'Sep 12', 'Sep 19', 'Sep 26']\n",
      "Steers: [9, 10, 10, 10, 9, 9, 10, 9, 8, 8, 9, 9, 7, 7, 7, 7]\n",
      "\n",
      "Pastures=5: ['17N', '19N', '20SE', '31E', '15E']\n",
      "Weeks=16 (start dates): ['May 23', 'May 30', 'Jun 06', 'Jun 13', 'Jun 20', 'Jul 04', 'Jul 11', 'Jul 18', 'Jul 25', 'Aug 01', 'Aug 08', 'Aug 15', 'Aug 22', 'Sep 12', 'Sep 19', 'Sep 26']\n",
      "Steers: [9, 10, 10, 9, 9, 8, 9, 9, 8, 8, 9, 9, 9, 8, 8, 8]\n",
      "\n",
      "Pastures=5: ['17N', '19N', '20SE', '31E', '26E']\n",
      "Weeks=16 (start dates): ['May 16', 'May 23', 'May 30', 'Jun 06', 'Jun 20', 'Jul 04', 'Jul 18', 'Jul 25', 'Aug 01', 'Aug 08', 'Aug 15', 'Aug 22', 'Sep 05', 'Sep 12', 'Sep 19', 'Sep 26']\n",
      "Steers: [8, 10, 10, 10, 9, 8, 9, 8, 8, 9, 9, 9, 7, 7, 7, 7]\n",
      "\n",
      "Pastures=5: ['17N', '19N', '20SE', '31E', '25SE']\n",
      "Weeks=16 (start dates): ['May 30', 'Jun 06', 'Jun 13', 'Jun 20', 'Jul 04', 'Jul 11', 'Jul 18', 'Jul 25', 'Aug 01', 'Aug 08', 'Aug 15', 'Aug 22', 'Sep 05', 'Sep 12', 'Sep 19', 'Sep 26']\n",
      "Steers: [10, 10, 10, 10, 9, 10, 9, 9, 9, 10, 10, 10, 7, 7, 7, 8]\n",
      "\n",
      "Pastures=5: ['5E', '7NW', '17N', '15E', '25SE']\n",
      "Weeks=15 (start dates): ['May 30', 'Jun 06', 'Jun 13', 'Jun 20', 'Jul 04', 'Jul 11', 'Jul 18', 'Jul 25', 'Aug 01', 'Aug 08', 'Aug 15', 'Aug 22', 'Sep 12', 'Sep 19', 'Sep 26']\n",
      "Steers: [11, 11, 9, 10, 9, 10, 9, 10, 10, 10, 10, 10, 10, 11, 12]\n",
      "\n",
      "Pastures=5: ['5E', '7NW', '19N', '15E', '25SE']\n",
      "Weeks=15 (start dates): ['May 30', 'Jun 06', 'Jun 13', 'Jun 20', 'Jul 04', 'Jul 11', 'Jul 18', 'Jul 25', 'Aug 01', 'Aug 08', 'Aug 15', 'Aug 22', 'Sep 12', 'Sep 19', 'Sep 26']\n",
      "Steers: [11, 11, 9, 10, 9, 10, 9, 9, 9, 10, 10, 10, 9, 10, 11]\n",
      "\n",
      "Pastures=5: ['5E', '7NW', '20SE', '15E', '25SE']\n",
      "Weeks=15 (start dates): ['May 30', 'Jun 06', 'Jun 13', 'Jun 20', 'Jul 04', 'Jul 11', 'Jul 18', 'Jul 25', 'Aug 01', 'Aug 08', 'Aug 15', 'Aug 22', 'Sep 12', 'Sep 19', 'Sep 26']\n",
      "Steers: [11, 11, 9, 10, 9, 10, 9, 10, 10, 10, 10, 10, 10, 11, 12]\n",
      "\n",
      "Pastures=5: ['5E', '7NW', '31E', '15E', '25SE']\n",
      "Weeks=15 (start dates): ['May 30', 'Jun 06', 'Jun 13', 'Jun 20', 'Jul 04', 'Jul 11', 'Jul 18', 'Jul 25', 'Aug 01', 'Aug 08', 'Aug 15', 'Aug 22', 'Sep 12', 'Sep 19', 'Sep 26']\n",
      "Steers: [11, 11, 9, 10, 8, 10, 9, 10, 10, 10, 10, 10, 9, 10, 11]\n",
      "\n",
      "Pastures=5: ['5E', '17N', '19N', '15E', '25SE']\n",
      "Weeks=15 (start dates): ['May 30', 'Jun 06', 'Jun 13', 'Jun 20', 'Jul 04', 'Jul 11', 'Jul 18', 'Jul 25', 'Aug 01', 'Aug 08', 'Aug 15', 'Aug 22', 'Sep 12', 'Sep 19', 'Sep 26']\n",
      "Steers: [12, 12, 10, 10, 10, 10, 9, 9, 9, 10, 10, 10, 9, 10, 11]\n",
      "\n",
      "Pastures=5: ['5E', '17N', '20SE', '15E', '25SE']\n",
      "Weeks=15 (start dates): ['May 30', 'Jun 06', 'Jun 13', 'Jun 20', 'Jul 04', 'Jul 11', 'Jul 18', 'Jul 25', 'Aug 01', 'Aug 08', 'Aug 15', 'Aug 22', 'Sep 12', 'Sep 19', 'Sep 26']\n",
      "Steers: [12, 12, 10, 10, 10, 10, 9, 10, 10, 10, 10, 10, 10, 11, 12]\n",
      "\n",
      "Pastures=5: ['5E', '17N', '31E', '15E', '25SE']\n",
      "Weeks=15 (start dates): ['May 30', 'Jun 06', 'Jun 13', 'Jun 20', 'Jul 04', 'Jul 11', 'Jul 18', 'Jul 25', 'Aug 01', 'Aug 08', 'Aug 15', 'Aug 22', 'Sep 12', 'Sep 19', 'Sep 26']\n",
      "Steers: [12, 12, 10, 10, 9, 10, 9, 10, 10, 10, 10, 10, 9, 10, 11]\n",
      "\n",
      "Pastures=5: ['5E', '19N', '20SE', '15E', '25SE']\n",
      "Weeks=15 (start dates): ['May 30', 'Jun 06', 'Jun 13', 'Jun 20', 'Jul 04', 'Jul 11', 'Jul 18', 'Jul 25', 'Aug 01', 'Aug 08', 'Aug 15', 'Aug 22', 'Sep 12', 'Sep 19', 'Sep 26']\n",
      "Steers: [12, 12, 10, 10, 10, 10, 9, 9, 9, 10, 10, 10, 9, 10, 11]\n",
      "\n",
      "Pastures=5: ['5E', '19N', '31E', '15E', '25SE']\n",
      "Weeks=15 (start dates): ['May 30', 'Jun 06', 'Jun 13', 'Jun 20', 'Jul 04', 'Jul 11', 'Jul 18', 'Jul 25', 'Aug 01', 'Aug 08', 'Aug 15', 'Aug 22', 'Sep 12', 'Sep 19', 'Sep 26']\n",
      "Steers: [12, 12, 10, 10, 9, 10, 9, 9, 9, 10, 10, 10, 8, 9, 10]\n",
      "\n",
      "Pastures=5: ['5E', '20SE', '31E', '15E', '25SE']\n",
      "Weeks=15 (start dates): ['May 30', 'Jun 06', 'Jun 13', 'Jun 20', 'Jul 04', 'Jul 11', 'Jul 18', 'Jul 25', 'Aug 01', 'Aug 08', 'Aug 15', 'Aug 22', 'Sep 12', 'Sep 19', 'Sep 26']\n",
      "Steers: [12, 12, 10, 10, 9, 10, 9, 10, 10, 10, 10, 10, 9, 10, 11]\n",
      "\n",
      "Pastures=5: ['7NW', '17N', '19N', '15E', '25SE']\n",
      "Weeks=15 (start dates): ['May 30', 'Jun 06', 'Jun 13', 'Jun 20', 'Jul 04', 'Jul 11', 'Jul 18', 'Jul 25', 'Aug 01', 'Aug 08', 'Aug 15', 'Aug 22', 'Sep 12', 'Sep 19', 'Sep 26']\n",
      "Steers: [9, 9, 8, 9, 8, 9, 8, 8, 8, 9, 9, 9, 8, 8, 9]\n",
      "\n",
      "Pastures=5: ['7NW', '17N', '20SE', '15E', '25SE']\n",
      "Weeks=15 (start dates): ['May 30', 'Jun 06', 'Jun 13', 'Jun 20', 'Jul 04', 'Jul 11', 'Jul 18', 'Jul 25', 'Aug 01', 'Aug 08', 'Aug 15', 'Aug 22', 'Sep 12', 'Sep 19', 'Sep 26']\n",
      "Steers: [9, 9, 8, 9, 8, 9, 8, 9, 9, 9, 9, 9, 9, 9, 10]\n",
      "\n",
      "Pastures=5: ['7NW', '17N', '31E', '15E', '25SE']\n",
      "Weeks=15 (start dates): ['May 30', 'Jun 06', 'Jun 13', 'Jun 20', 'Jul 04', 'Jul 11', 'Jul 18', 'Jul 25', 'Aug 01', 'Aug 08', 'Aug 15', 'Aug 22', 'Sep 12', 'Sep 19', 'Sep 26']\n",
      "Steers: [9, 9, 8, 9, 7, 9, 8, 9, 9, 9, 9, 9, 8, 8, 9]\n",
      "\n",
      "Pastures=5: ['7NW', '19N', '20SE', '15E', '25SE']\n",
      "Weeks=15 (start dates): ['May 30', 'Jun 06', 'Jun 13', 'Jun 20', 'Jul 04', 'Jul 11', 'Jul 18', 'Jul 25', 'Aug 01', 'Aug 08', 'Aug 15', 'Aug 22', 'Sep 12', 'Sep 19', 'Sep 26']\n",
      "Steers: [9, 9, 8, 9, 8, 9, 8, 8, 8, 9, 9, 9, 8, 8, 9]\n",
      "\n",
      "Pastures=5: ['7NW', '19N', '31E', '15E', '25SE']\n",
      "Weeks=15 (start dates): ['May 30', 'Jun 06', 'Jun 13', 'Jun 20', 'Jul 04', 'Jul 11', 'Jul 18', 'Jul 25', 'Aug 01', 'Aug 08', 'Aug 15', 'Aug 22', 'Sep 12', 'Sep 19', 'Sep 26']\n",
      "Steers: [9, 9, 8, 9, 7, 9, 8, 8, 8, 9, 9, 9, 7, 7, 8]\n",
      "\n",
      "Pastures=5: ['7NW', '20SE', '31E', '15E', '25SE']\n",
      "Weeks=15 (start dates): ['May 30', 'Jun 06', 'Jun 13', 'Jun 20', 'Jul 04', 'Jul 11', 'Jul 18', 'Jul 25', 'Aug 01', 'Aug 08', 'Aug 15', 'Aug 22', 'Sep 12', 'Sep 19', 'Sep 26']\n",
      "Steers: [9, 9, 8, 9, 7, 9, 8, 9, 9, 9, 9, 9, 8, 8, 9]\n",
      "\n",
      "Pastures=5: ['17N', '19N', '20SE', '15E', '25SE']\n",
      "Weeks=15 (start dates): ['May 30', 'Jun 06', 'Jun 13', 'Jun 20', 'Jul 04', 'Jul 11', 'Jul 18', 'Jul 25', 'Aug 01', 'Aug 08', 'Aug 15', 'Aug 22', 'Sep 12', 'Sep 19', 'Sep 26']\n",
      "Steers: [10, 10, 9, 9, 9, 9, 8, 8, 8, 9, 9, 9, 8, 8, 9]\n",
      "\n",
      "Pastures=5: ['17N', '19N', '31E', '15E', '25SE']\n",
      "Weeks=15 (start dates): ['May 30', 'Jun 06', 'Jun 13', 'Jun 20', 'Jul 04', 'Jul 11', 'Jul 18', 'Jul 25', 'Aug 01', 'Aug 08', 'Aug 15', 'Aug 22', 'Sep 12', 'Sep 19', 'Sep 26']\n",
      "Steers: [10, 10, 9, 9, 8, 9, 8, 8, 8, 9, 9, 9, 7, 7, 8]\n",
      "\n",
      "Pastures=5: ['17N', '20SE', '31E', '15E', '25SE']\n",
      "Weeks=15 (start dates): ['May 30', 'Jun 06', 'Jun 13', 'Jun 20', 'Jul 04', 'Jul 11', 'Jul 18', 'Jul 25', 'Aug 01', 'Aug 08', 'Aug 15', 'Aug 22', 'Sep 12', 'Sep 19', 'Sep 26']\n",
      "Steers: [10, 10, 9, 9, 8, 9, 8, 9, 9, 9, 9, 9, 8, 8, 9]\n",
      "\n",
      "Pastures=5: ['19N', '20SE', '31E', '15E', '25SE']\n",
      "Weeks=15 (start dates): ['May 30', 'Jun 06', 'Jun 13', 'Jun 20', 'Jul 04', 'Jul 11', 'Jul 18', 'Jul 25', 'Aug 01', 'Aug 08', 'Aug 15', 'Aug 22', 'Sep 12', 'Sep 19', 'Sep 26']\n",
      "Steers: [10, 10, 9, 9, 8, 9, 8, 8, 8, 9, 9, 9, 7, 7, 8]\n",
      "\n",
      "Pastures=5: ['5E', '7NW', '17N', '24W', '15E']\n",
      "Weeks=14 (start dates): ['May 23', 'Jun 06', 'Jun 13', 'Jun 20', 'Jul 04', 'Jul 11', 'Jul 18', 'Jul 25', 'Aug 01', 'Aug 08', 'Aug 15', 'Sep 12', 'Sep 19', 'Sep 26']\n",
      "Steers: [10, 11, 9, 9, 9, 10, 9, 9, 9, 9, 9, 10, 11, 11]\n",
      "\n",
      "Pastures=5: ['5E', '7NW', '17N', '24W', '26E']\n",
      "Weeks=14 (start dates): ['May 16', 'May 23', 'Jun 06', 'Jun 20', 'Jul 04', 'Jul 18', 'Jul 25', 'Aug 01', 'Aug 08', 'Aug 15', 'Sep 05', 'Sep 12', 'Sep 19', 'Sep 26']\n",
      "Steers: [9, 11, 11, 9, 9, 9, 9, 9, 9, 9, 8, 9, 10, 10]\n",
      "\n",
      "Pastures=5: ['5E', '7NW', '17N', '24W', '25SE']\n",
      "Weeks=14 (start dates): ['Jun 06', 'Jun 13', 'Jun 20', 'Jul 04', 'Jul 11', 'Jul 18', 'Jul 25', 'Aug 01', 'Aug 08', 'Aug 15', 'Sep 05', 'Sep 12', 'Sep 19', 'Sep 26']\n",
      "Steers: [11, 10, 10, 10, 11, 9, 10, 10, 10, 10, 8, 9, 10, 11]\n",
      "\n",
      "Pastures=5: ['5E', '7NW', '17N', '15E', '26E']\n",
      "Weeks=14 (start dates): ['May 23', 'May 30', 'Jun 06', 'Jun 20', 'Jul 04', 'Jul 18', 'Jul 25', 'Aug 01', 'Aug 08', 'Aug 15', 'Aug 22', 'Sep 12', 'Sep 19', 'Sep 26']\n",
      "Steers: [10, 11, 11, 9, 8, 9, 9, 9, 9, 9, 9, 10, 11, 11]\n",
      "\n",
      "Pastures=5: ['5E', '7NW', '17N', '26E', '25SE']\n",
      "Weeks=14 (start dates): ['May 30', 'Jun 06', 'Jun 20', 'Jul 04', 'Jul 18', 'Jul 25', 'Aug 01', 'Aug 08', 'Aug 15', 'Aug 22', 'Sep 05', 'Sep 12', 'Sep 19', 'Sep 26']\n",
      "Steers: [11, 11, 10, 9, 9, 10, 10, 10, 10, 10, 8, 9, 10, 11]\n",
      "\n",
      "Pastures=5: ['5E', '7NW', '19N', '24W', '15E']\n",
      "Weeks=14 (start dates): ['May 23', 'Jun 06', 'Jun 13', 'Jun 20', 'Jul 04', 'Jul 11', 'Jul 18', 'Jul 25', 'Aug 01', 'Aug 08', 'Aug 15', 'Sep 12', 'Sep 19', 'Sep 26']\n",
      "Steers: [10, 11, 9, 9, 9, 10, 9, 8, 8, 9, 9, 9, 10, 10]\n",
      "\n",
      "Pastures=5: ['5E', '7NW', '19N', '24W', '26E']\n",
      "Weeks=14 (start dates): ['May 16', 'May 23', 'Jun 06', 'Jun 20', 'Jul 04', 'Jul 18', 'Jul 25', 'Aug 01', 'Aug 08', 'Aug 15', 'Sep 05', 'Sep 12', 'Sep 19', 'Sep 26']\n",
      "Steers: [9, 11, 11, 9, 9, 9, 8, 8, 9, 9, 7, 8, 9, 9]\n",
      "\n",
      "Pastures=5: ['5E', '7NW', '19N', '24W', '25SE']\n",
      "Weeks=14 (start dates): ['Jun 06', 'Jun 13', 'Jun 20', 'Jul 04', 'Jul 11', 'Jul 18', 'Jul 25', 'Aug 01', 'Aug 08', 'Aug 15', 'Sep 05', 'Sep 12', 'Sep 19', 'Sep 26']\n",
      "Steers: [11, 10, 10, 10, 11, 9, 9, 9, 10, 10, 7, 8, 9, 10]\n",
      "\n",
      "Pastures=5: ['5E', '7NW', '19N', '15E', '26E']\n",
      "Weeks=14 (start dates): ['May 23', 'May 30', 'Jun 06', 'Jun 20', 'Jul 04', 'Jul 18', 'Jul 25', 'Aug 01', 'Aug 08', 'Aug 15', 'Aug 22', 'Sep 12', 'Sep 19', 'Sep 26']\n",
      "Steers: [10, 11, 11, 9, 8, 9, 8, 8, 9, 9, 9, 9, 10, 10]\n",
      "\n",
      "Pastures=5: ['5E', '7NW', '19N', '26E', '25SE']\n",
      "Weeks=14 (start dates): ['May 30', 'Jun 06', 'Jun 20', 'Jul 04', 'Jul 18', 'Jul 25', 'Aug 01', 'Aug 08', 'Aug 15', 'Aug 22', 'Sep 05', 'Sep 12', 'Sep 19', 'Sep 26']\n",
      "Steers: [11, 11, 10, 9, 9, 9, 9, 10, 10, 10, 7, 8, 9, 10]\n",
      "\n",
      "Pastures=5: ['5E', '7NW', '20SE', '24W', '15E']\n",
      "Weeks=14 (start dates): ['May 23', 'Jun 06', 'Jun 13', 'Jun 20', 'Jul 04', 'Jul 11', 'Jul 18', 'Jul 25', 'Aug 01', 'Aug 08', 'Aug 15', 'Sep 12', 'Sep 19', 'Sep 26']\n",
      "Steers: [10, 11, 9, 9, 9, 10, 9, 9, 9, 9, 9, 10, 11, 11]\n",
      "\n",
      "Pastures=5: ['5E', '7NW', '20SE', '24W', '26E']\n",
      "Weeks=14 (start dates): ['May 16', 'May 23', 'Jun 06', 'Jun 20', 'Jul 04', 'Jul 18', 'Jul 25', 'Aug 01', 'Aug 08', 'Aug 15', 'Sep 05', 'Sep 12', 'Sep 19', 'Sep 26']\n",
      "Steers: [8, 11, 11, 9, 9, 9, 9, 9, 9, 9, 8, 9, 10, 10]\n",
      "\n",
      "Pastures=5: ['5E', '7NW', '20SE', '24W', '25SE']\n",
      "Weeks=14 (start dates): ['Jun 06', 'Jun 13', 'Jun 20', 'Jul 04', 'Jul 11', 'Jul 18', 'Jul 25', 'Aug 01', 'Aug 08', 'Aug 15', 'Sep 05', 'Sep 12', 'Sep 19', 'Sep 26']\n",
      "Steers: [11, 10, 10, 10, 11, 9, 10, 10, 10, 10, 8, 9, 10, 11]\n",
      "\n",
      "Pastures=5: ['5E', '7NW', '20SE', '15E', '26E']\n",
      "Weeks=14 (start dates): ['May 23', 'May 30', 'Jun 06', 'Jun 20', 'Jul 04', 'Jul 18', 'Jul 25', 'Aug 01', 'Aug 08', 'Aug 15', 'Aug 22', 'Sep 12', 'Sep 19', 'Sep 26']\n",
      "Steers: [10, 11, 11, 9, 8, 9, 9, 9, 9, 9, 9, 10, 11, 11]\n",
      "\n",
      "Pastures=5: ['5E', '7NW', '20SE', '26E', '25SE']\n",
      "Weeks=14 (start dates): ['May 30', 'Jun 06', 'Jun 20', 'Jul 04', 'Jul 18', 'Jul 25', 'Aug 01', 'Aug 08', 'Aug 15', 'Aug 22', 'Sep 05', 'Sep 12', 'Sep 19', 'Sep 26']\n",
      "Steers: [11, 11, 10, 9, 9, 10, 10, 10, 10, 10, 8, 9, 10, 11]\n",
      "\n",
      "Pastures=5: ['5E', '7NW', '31E', '24W', '15E']\n",
      "Weeks=14 (start dates): ['May 23', 'Jun 06', 'Jun 13', 'Jun 20', 'Jul 04', 'Jul 11', 'Jul 18', 'Jul 25', 'Aug 01', 'Aug 08', 'Aug 15', 'Sep 12', 'Sep 19', 'Sep 26']\n",
      "Steers: [10, 11, 9, 9, 8, 10, 9, 9, 9, 9, 9, 9, 10, 10]\n",
      "\n",
      "Pastures=5: ['5E', '7NW', '31E', '24W', '26E']\n",
      "Weeks=14 (start dates): ['May 16', 'May 23', 'Jun 06', 'Jun 20', 'Jul 04', 'Jul 18', 'Jul 25', 'Aug 01', 'Aug 08', 'Aug 15', 'Sep 05', 'Sep 12', 'Sep 19', 'Sep 26']\n",
      "Steers: [9, 11, 11, 9, 8, 9, 9, 9, 9, 9, 7, 8, 9, 9]\n",
      "\n",
      "Pastures=5: ['5E', '7NW', '31E', '24W', '25SE']\n",
      "Weeks=14 (start dates): ['Jun 06', 'Jun 13', 'Jun 20', 'Jul 04', 'Jul 11', 'Jul 18', 'Jul 25', 'Aug 01', 'Aug 08', 'Aug 15', 'Sep 05', 'Sep 12', 'Sep 19', 'Sep 26']\n",
      "Steers: [11, 10, 10, 9, 11, 9, 10, 10, 10, 10, 7, 8, 9, 10]\n",
      "\n",
      "Pastures=5: ['5E', '7NW', '31E', '15E', '26E']\n",
      "Weeks=14 (start dates): ['May 23', 'May 30', 'Jun 06', 'Jun 20', 'Jul 04', 'Jul 18', 'Jul 25', 'Aug 01', 'Aug 08', 'Aug 15', 'Aug 22', 'Sep 12', 'Sep 19', 'Sep 26']\n",
      "Steers: [10, 11, 11, 9, 7, 9, 9, 9, 9, 9, 9, 9, 10, 10]\n",
      "\n",
      "Pastures=5: ['5E', '7NW', '31E', '26E', '25SE']\n",
      "Weeks=14 (start dates): ['May 30', 'Jun 06', 'Jun 20', 'Jul 04', 'Jul 18', 'Jul 25', 'Aug 01', 'Aug 08', 'Aug 15', 'Aug 22', 'Sep 05', 'Sep 12', 'Sep 19', 'Sep 26']\n",
      "Steers: [11, 11, 10, 8, 9, 10, 10, 10, 10, 10, 7, 8, 9, 10]\n",
      "\n",
      "Pastures=5: ['5E', '17N', '19N', '24W', '15E']\n",
      "Weeks=14 (start dates): ['May 23', 'Jun 06', 'Jun 13', 'Jun 20', 'Jul 04', 'Jul 11', 'Jul 18', 'Jul 25', 'Aug 01', 'Aug 08', 'Aug 15', 'Sep 12', 'Sep 19', 'Sep 26']\n",
      "Steers: [10, 12, 10, 9, 10, 10, 9, 8, 8, 9, 9, 9, 10, 10]\n",
      "\n",
      "Pastures=5: ['5E', '17N', '19N', '24W', '26E']\n",
      "Weeks=14 (start dates): ['May 16', 'May 23', 'Jun 06', 'Jun 20', 'Jul 04', 'Jul 18', 'Jul 25', 'Aug 01', 'Aug 08', 'Aug 15', 'Sep 05', 'Sep 12', 'Sep 19', 'Sep 26']\n",
      "Steers: [9, 11, 12, 9, 10, 9, 8, 8, 9, 9, 7, 8, 9, 9]\n",
      "\n",
      "Pastures=5: ['5E', '17N', '19N', '24W', '25SE']\n",
      "Weeks=14 (start dates): ['Jun 06', 'Jun 13', 'Jun 20', 'Jul 04', 'Jul 11', 'Jul 18', 'Jul 25', 'Aug 01', 'Aug 08', 'Aug 15', 'Sep 05', 'Sep 12', 'Sep 19', 'Sep 26']\n",
      "Steers: [12, 11, 10, 11, 11, 9, 9, 9, 10, 10, 7, 8, 9, 10]\n",
      "\n",
      "Pastures=5: ['5E', '17N', '19N', '15E', '26E']\n",
      "Weeks=14 (start dates): ['May 23', 'May 30', 'Jun 06', 'Jun 20', 'Jul 04', 'Jul 18', 'Jul 25', 'Aug 01', 'Aug 08', 'Aug 15', 'Aug 22', 'Sep 12', 'Sep 19', 'Sep 26']\n",
      "Steers: [10, 12, 12, 9, 9, 9, 8, 8, 9, 9, 9, 9, 10, 10]\n",
      "\n",
      "Pastures=5: ['5E', '17N', '19N', '26E', '25SE']\n",
      "Weeks=14 (start dates): ['May 30', 'Jun 06', 'Jun 20', 'Jul 04', 'Jul 18', 'Jul 25', 'Aug 01', 'Aug 08', 'Aug 15', 'Aug 22', 'Sep 05', 'Sep 12', 'Sep 19', 'Sep 26']\n",
      "Steers: [12, 12, 10, 10, 9, 9, 9, 10, 10, 10, 7, 8, 9, 10]\n",
      "\n",
      "Pastures=5: ['5E', '17N', '20SE', '24W', '15E']\n",
      "Weeks=14 (start dates): ['May 23', 'Jun 06', 'Jun 13', 'Jun 20', 'Jul 04', 'Jul 11', 'Jul 18', 'Jul 25', 'Aug 01', 'Aug 08', 'Aug 15', 'Sep 12', 'Sep 19', 'Sep 26']\n",
      "Steers: [10, 12, 10, 9, 10, 10, 9, 9, 9, 9, 9, 10, 11, 11]\n",
      "\n",
      "Pastures=5: ['5E', '17N', '20SE', '24W', '26E']\n",
      "Weeks=14 (start dates): ['May 16', 'May 23', 'Jun 06', 'Jun 20', 'Jul 04', 'Jul 18', 'Jul 25', 'Aug 01', 'Aug 08', 'Aug 15', 'Sep 05', 'Sep 12', 'Sep 19', 'Sep 26']\n",
      "Steers: [8, 11, 12, 9, 10, 9, 9, 9, 9, 9, 8, 9, 10, 10]\n",
      "\n",
      "Pastures=5: ['5E', '17N', '20SE', '24W', '25SE']\n",
      "Weeks=14 (start dates): ['Jun 06', 'Jun 13', 'Jun 20', 'Jul 04', 'Jul 11', 'Jul 18', 'Jul 25', 'Aug 01', 'Aug 08', 'Aug 15', 'Sep 05', 'Sep 12', 'Sep 19', 'Sep 26']\n",
      "Steers: [12, 11, 10, 11, 11, 9, 10, 10, 10, 10, 8, 9, 10, 11]\n",
      "\n",
      "Pastures=5: ['5E', '17N', '20SE', '15E', '26E']\n",
      "Weeks=14 (start dates): ['May 23', 'May 30', 'Jun 06', 'Jun 20', 'Jul 04', 'Jul 18', 'Jul 25', 'Aug 01', 'Aug 08', 'Aug 15', 'Aug 22', 'Sep 12', 'Sep 19', 'Sep 26']\n",
      "Steers: [10, 12, 12, 9, 9, 9, 9, 9, 9, 9, 9, 10, 11, 11]\n",
      "\n",
      "Pastures=5: ['5E', '17N', '20SE', '26E', '25SE']\n",
      "Weeks=14 (start dates): ['May 30', 'Jun 06', 'Jun 20', 'Jul 04', 'Jul 18', 'Jul 25', 'Aug 01', 'Aug 08', 'Aug 15', 'Aug 22', 'Sep 05', 'Sep 12', 'Sep 19', 'Sep 26']\n",
      "Steers: [12, 12, 10, 10, 9, 10, 10, 10, 10, 10, 8, 9, 10, 11]\n",
      "\n",
      "Pastures=5: ['5E', '17N', '31E', '24W', '15E']\n",
      "Weeks=14 (start dates): ['May 23', 'Jun 06', 'Jun 13', 'Jun 20', 'Jul 04', 'Jul 11', 'Jul 18', 'Jul 25', 'Aug 01', 'Aug 08', 'Aug 15', 'Sep 12', 'Sep 19', 'Sep 26']\n",
      "Steers: [10, 12, 10, 9, 9, 10, 9, 9, 9, 9, 9, 9, 10, 10]\n",
      "\n",
      "Pastures=5: ['5E', '17N', '31E', '24W', '26E']\n",
      "Weeks=14 (start dates): ['May 16', 'May 23', 'Jun 06', 'Jun 20', 'Jul 04', 'Jul 18', 'Jul 25', 'Aug 01', 'Aug 08', 'Aug 15', 'Sep 05', 'Sep 12', 'Sep 19', 'Sep 26']\n",
      "Steers: [9, 11, 12, 9, 9, 9, 9, 9, 9, 9, 7, 8, 9, 9]\n",
      "\n",
      "Pastures=5: ['5E', '17N', '31E', '24W', '25SE']\n",
      "Weeks=14 (start dates): ['Jun 06', 'Jun 13', 'Jun 20', 'Jul 04', 'Jul 11', 'Jul 18', 'Jul 25', 'Aug 01', 'Aug 08', 'Aug 15', 'Sep 05', 'Sep 12', 'Sep 19', 'Sep 26']\n",
      "Steers: [12, 11, 10, 10, 11, 9, 10, 10, 10, 10, 7, 8, 9, 10]\n",
      "\n",
      "Pastures=5: ['5E', '17N', '31E', '15E', '26E']\n",
      "Weeks=14 (start dates): ['May 23', 'May 30', 'Jun 06', 'Jun 20', 'Jul 04', 'Jul 18', 'Jul 25', 'Aug 01', 'Aug 08', 'Aug 15', 'Aug 22', 'Sep 12', 'Sep 19', 'Sep 26']\n",
      "Steers: [10, 12, 12, 9, 8, 9, 9, 9, 9, 9, 9, 9, 10, 10]\n",
      "\n",
      "Pastures=5: ['5E', '17N', '31E', '26E', '25SE']\n",
      "Weeks=14 (start dates): ['May 30', 'Jun 06', 'Jun 20', 'Jul 04', 'Jul 18', 'Jul 25', 'Aug 01', 'Aug 08', 'Aug 15', 'Aug 22', 'Sep 05', 'Sep 12', 'Sep 19', 'Sep 26']\n",
      "Steers: [12, 12, 10, 9, 9, 10, 10, 10, 10, 10, 7, 8, 9, 10]\n",
      "\n",
      "Pastures=5: ['5E', '19N', '20SE', '24W', '15E']\n",
      "Weeks=14 (start dates): ['May 23', 'Jun 06', 'Jun 13', 'Jun 20', 'Jul 04', 'Jul 11', 'Jul 18', 'Jul 25', 'Aug 01', 'Aug 08', 'Aug 15', 'Sep 12', 'Sep 19', 'Sep 26']\n",
      "Steers: [10, 12, 10, 9, 10, 10, 9, 8, 8, 9, 9, 9, 10, 10]\n",
      "\n",
      "Pastures=5: ['5E', '19N', '20SE', '24W', '26E']\n",
      "Weeks=14 (start dates): ['May 16', 'May 23', 'Jun 06', 'Jun 20', 'Jul 04', 'Jul 18', 'Jul 25', 'Aug 01', 'Aug 08', 'Aug 15', 'Sep 05', 'Sep 12', 'Sep 19', 'Sep 26']\n",
      "Steers: [8, 11, 12, 9, 10, 9, 8, 8, 9, 9, 7, 8, 9, 9]\n",
      "\n",
      "Pastures=5: ['5E', '19N', '20SE', '24W', '25SE']\n",
      "Weeks=14 (start dates): ['Jun 06', 'Jun 13', 'Jun 20', 'Jul 04', 'Jul 11', 'Jul 18', 'Jul 25', 'Aug 01', 'Aug 08', 'Aug 15', 'Sep 05', 'Sep 12', 'Sep 19', 'Sep 26']\n",
      "Steers: [12, 11, 10, 11, 11, 9, 9, 9, 10, 10, 7, 8, 9, 10]\n",
      "\n",
      "Pastures=5: ['5E', '19N', '20SE', '15E', '26E']\n",
      "Weeks=14 (start dates): ['May 23', 'May 30', 'Jun 06', 'Jun 20', 'Jul 04', 'Jul 18', 'Jul 25', 'Aug 01', 'Aug 08', 'Aug 15', 'Aug 22', 'Sep 12', 'Sep 19', 'Sep 26']\n",
      "Steers: [10, 12, 12, 9, 9, 9, 8, 8, 9, 9, 9, 9, 10, 10]\n",
      "\n",
      "Pastures=5: ['5E', '19N', '20SE', '26E', '25SE']\n",
      "Weeks=14 (start dates): ['May 30', 'Jun 06', 'Jun 20', 'Jul 04', 'Jul 18', 'Jul 25', 'Aug 01', 'Aug 08', 'Aug 15', 'Aug 22', 'Sep 05', 'Sep 12', 'Sep 19', 'Sep 26']\n",
      "Steers: [12, 12, 10, 10, 9, 9, 9, 10, 10, 10, 7, 8, 9, 10]\n",
      "\n",
      "Pastures=5: ['5E', '19N', '31E', '24W', '15E']\n",
      "Weeks=14 (start dates): ['May 23', 'Jun 06', 'Jun 13', 'Jun 20', 'Jul 04', 'Jul 11', 'Jul 18', 'Jul 25', 'Aug 01', 'Aug 08', 'Aug 15', 'Sep 12', 'Sep 19', 'Sep 26']\n",
      "Steers: [10, 12, 10, 9, 9, 10, 9, 8, 8, 9, 9, 8, 9, 9]\n",
      "\n",
      "Pastures=5: ['5E', '19N', '31E', '24W', '26E']\n",
      "Weeks=14 (start dates): ['May 16', 'May 23', 'Jun 06', 'Jun 20', 'Jul 04', 'Jul 18', 'Jul 25', 'Aug 01', 'Aug 08', 'Aug 15', 'Sep 05', 'Sep 12', 'Sep 19', 'Sep 26']\n",
      "Steers: [9, 11, 12, 9, 9, 9, 8, 8, 9, 9, 6, 7, 8, 8]\n",
      "\n",
      "Pastures=5: ['5E', '19N', '31E', '24W', '25SE']\n",
      "Weeks=14 (start dates): ['Jun 06', 'Jun 13', 'Jun 20', 'Jul 04', 'Jul 11', 'Jul 18', 'Jul 25', 'Aug 01', 'Aug 08', 'Aug 15', 'Sep 05', 'Sep 12', 'Sep 19', 'Sep 26']\n",
      "Steers: [12, 11, 10, 10, 11, 9, 9, 9, 10, 10, 6, 7, 8, 9]\n",
      "\n",
      "Pastures=5: ['5E', '19N', '31E', '15E', '26E']\n",
      "Weeks=14 (start dates): ['May 23', 'May 30', 'Jun 06', 'Jun 20', 'Jul 04', 'Jul 18', 'Jul 25', 'Aug 01', 'Aug 08', 'Aug 15', 'Aug 22', 'Sep 12', 'Sep 19', 'Sep 26']\n",
      "Steers: [10, 12, 12, 9, 8, 9, 8, 8, 9, 9, 9, 8, 9, 9]\n",
      "\n",
      "Pastures=5: ['5E', '19N', '31E', '26E', '25SE']\n",
      "Weeks=14 (start dates): ['May 30', 'Jun 06', 'Jun 20', 'Jul 04', 'Jul 18', 'Jul 25', 'Aug 01', 'Aug 08', 'Aug 15', 'Aug 22', 'Sep 05', 'Sep 12', 'Sep 19', 'Sep 26']\n",
      "Steers: [12, 12, 10, 9, 9, 9, 9, 10, 10, 10, 6, 7, 8, 9]\n",
      "\n",
      "Pastures=5: ['5E', '20SE', '31E', '24W', '15E']\n",
      "Weeks=14 (start dates): ['May 23', 'Jun 06', 'Jun 13', 'Jun 20', 'Jul 04', 'Jul 11', 'Jul 18', 'Jul 25', 'Aug 01', 'Aug 08', 'Aug 15', 'Sep 12', 'Sep 19', 'Sep 26']\n",
      "Steers: [10, 12, 10, 9, 9, 10, 9, 9, 9, 9, 9, 9, 10, 10]\n",
      "\n",
      "Pastures=5: ['5E', '20SE', '31E', '24W', '26E']\n",
      "Weeks=14 (start dates): ['May 16', 'May 23', 'Jun 06', 'Jun 20', 'Jul 04', 'Jul 18', 'Jul 25', 'Aug 01', 'Aug 08', 'Aug 15', 'Sep 05', 'Sep 12', 'Sep 19', 'Sep 26']\n",
      "Steers: [8, 11, 12, 9, 9, 9, 9, 9, 9, 9, 7, 8, 9, 9]\n",
      "\n",
      "Pastures=5: ['5E', '20SE', '31E', '24W', '25SE']\n",
      "Weeks=14 (start dates): ['Jun 06', 'Jun 13', 'Jun 20', 'Jul 04', 'Jul 11', 'Jul 18', 'Jul 25', 'Aug 01', 'Aug 08', 'Aug 15', 'Sep 05', 'Sep 12', 'Sep 19', 'Sep 26']\n",
      "Steers: [12, 11, 10, 10, 11, 9, 10, 10, 10, 10, 7, 8, 9, 10]\n",
      "\n",
      "Pastures=5: ['5E', '20SE', '31E', '15E', '26E']\n",
      "Weeks=14 (start dates): ['May 23', 'May 30', 'Jun 06', 'Jun 20', 'Jul 04', 'Jul 18', 'Jul 25', 'Aug 01', 'Aug 08', 'Aug 15', 'Aug 22', 'Sep 12', 'Sep 19', 'Sep 26']\n",
      "Steers: [10, 12, 12, 9, 8, 9, 9, 9, 9, 9, 9, 9, 10, 10]\n",
      "\n",
      "Pastures=5: ['5E', '20SE', '31E', '26E', '25SE']\n",
      "Weeks=14 (start dates): ['May 30', 'Jun 06', 'Jun 20', 'Jul 04', 'Jul 18', 'Jul 25', 'Aug 01', 'Aug 08', 'Aug 15', 'Aug 22', 'Sep 05', 'Sep 12', 'Sep 19', 'Sep 26']\n",
      "Steers: [12, 12, 10, 9, 9, 10, 10, 10, 10, 10, 7, 8, 9, 10]\n",
      "\n",
      "Pastures=5: ['7NW', '17N', '19N', '24W', '15E']\n",
      "Weeks=14 (start dates): ['May 23', 'Jun 06', 'Jun 13', 'Jun 20', 'Jul 04', 'Jul 11', 'Jul 18', 'Jul 25', 'Aug 01', 'Aug 08', 'Aug 15', 'Sep 12', 'Sep 19', 'Sep 26']\n",
      "Steers: [9, 9, 8, 8, 8, 9, 8, 7, 7, 8, 8, 8, 8, 8]\n",
      "\n",
      "Pastures=5: ['7NW', '17N', '19N', '24W', '26E']\n",
      "Weeks=14 (start dates): ['May 16', 'May 23', 'Jun 06', 'Jun 20', 'Jul 04', 'Jul 18', 'Jul 25', 'Aug 01', 'Aug 08', 'Aug 15', 'Sep 05', 'Sep 12', 'Sep 19', 'Sep 26']\n",
      "Steers: [9, 10, 9, 8, 8, 8, 7, 7, 8, 8, 7, 7, 7, 7]\n",
      "\n",
      "Pastures=5: ['7NW', '17N', '19N', '24W', '25SE']\n",
      "Weeks=14 (start dates): ['Jun 06', 'Jun 13', 'Jun 20', 'Jul 04', 'Jul 11', 'Jul 18', 'Jul 25', 'Aug 01', 'Aug 08', 'Aug 15', 'Sep 05', 'Sep 12', 'Sep 19', 'Sep 26']\n",
      "Steers: [9, 9, 9, 9, 10, 8, 8, 8, 9, 9, 7, 7, 7, 8]\n",
      "\n",
      "Pastures=5: ['7NW', '17N', '19N', '15E', '26E']\n",
      "Weeks=14 (start dates): ['May 23', 'May 30', 'Jun 06', 'Jun 20', 'Jul 04', 'Jul 18', 'Jul 25', 'Aug 01', 'Aug 08', 'Aug 15', 'Aug 22', 'Sep 12', 'Sep 19', 'Sep 26']\n",
      "Steers: [9, 9, 9, 8, 7, 8, 7, 7, 8, 8, 8, 8, 8, 8]\n",
      "\n",
      "Pastures=5: ['7NW', '17N', '19N', '26E', '25SE']\n",
      "Weeks=14 (start dates): ['May 30', 'Jun 06', 'Jun 20', 'Jul 04', 'Jul 18', 'Jul 25', 'Aug 01', 'Aug 08', 'Aug 15', 'Aug 22', 'Sep 05', 'Sep 12', 'Sep 19', 'Sep 26']\n",
      "Steers: [9, 9, 9, 8, 8, 8, 8, 9, 9, 9, 7, 7, 7, 8]\n",
      "\n",
      "Pastures=5: ['7NW', '17N', '20SE', '24W', '15E']\n",
      "Weeks=14 (start dates): ['May 23', 'Jun 06', 'Jun 13', 'Jun 20', 'Jul 04', 'Jul 11', 'Jul 18', 'Jul 25', 'Aug 01', 'Aug 08', 'Aug 15', 'Sep 12', 'Sep 19', 'Sep 26']\n",
      "Steers: [9, 9, 8, 8, 8, 9, 8, 8, 8, 8, 8, 9, 9, 9]\n",
      "\n",
      "Pastures=5: ['7NW', '17N', '20SE', '24W', '26E']\n",
      "Weeks=14 (start dates): ['May 16', 'May 23', 'Jun 06', 'Jun 20', 'Jul 04', 'Jul 18', 'Jul 25', 'Aug 01', 'Aug 08', 'Aug 15', 'Sep 05', 'Sep 12', 'Sep 19', 'Sep 26']\n",
      "Steers: [8, 10, 9, 8, 8, 8, 8, 8, 8, 8, 8, 8, 8, 8]\n",
      "\n",
      "Pastures=5: ['7NW', '17N', '20SE', '24W', '25SE']\n",
      "Weeks=14 (start dates): ['Jun 06', 'Jun 13', 'Jun 20', 'Jul 04', 'Jul 11', 'Jul 18', 'Jul 25', 'Aug 01', 'Aug 08', 'Aug 15', 'Sep 05', 'Sep 12', 'Sep 19', 'Sep 26']\n",
      "Steers: [9, 9, 9, 9, 10, 8, 9, 9, 9, 9, 8, 8, 8, 9]\n",
      "\n",
      "Pastures=5: ['7NW', '17N', '20SE', '15E', '26E']\n",
      "Weeks=14 (start dates): ['May 23', 'May 30', 'Jun 06', 'Jun 20', 'Jul 04', 'Jul 18', 'Jul 25', 'Aug 01', 'Aug 08', 'Aug 15', 'Aug 22', 'Sep 12', 'Sep 19', 'Sep 26']\n",
      "Steers: [9, 9, 9, 8, 7, 8, 8, 8, 8, 8, 8, 9, 9, 9]\n",
      "\n",
      "Pastures=5: ['7NW', '17N', '20SE', '26E', '25SE']\n",
      "Weeks=14 (start dates): ['May 30', 'Jun 06', 'Jun 20', 'Jul 04', 'Jul 18', 'Jul 25', 'Aug 01', 'Aug 08', 'Aug 15', 'Aug 22', 'Sep 05', 'Sep 12', 'Sep 19', 'Sep 26']\n",
      "Steers: [9, 9, 9, 8, 8, 9, 9, 9, 9, 9, 8, 8, 8, 9]\n",
      "\n",
      "Pastures=5: ['7NW', '17N', '31E', '24W', '15E']\n",
      "Weeks=14 (start dates): ['May 23', 'Jun 06', 'Jun 13', 'Jun 20', 'Jul 04', 'Jul 11', 'Jul 18', 'Jul 25', 'Aug 01', 'Aug 08', 'Aug 15', 'Sep 12', 'Sep 19', 'Sep 26']\n",
      "Steers: [9, 9, 8, 8, 7, 9, 8, 8, 8, 8, 8, 8, 8, 8]\n",
      "\n",
      "Pastures=5: ['7NW', '17N', '31E', '24W', '26E']\n",
      "Weeks=14 (start dates): ['May 16', 'May 23', 'Jun 06', 'Jun 20', 'Jul 04', 'Jul 18', 'Jul 25', 'Aug 01', 'Aug 08', 'Aug 15', 'Sep 05', 'Sep 12', 'Sep 19', 'Sep 26']\n",
      "Steers: [9, 10, 9, 8, 7, 8, 8, 8, 8, 8, 7, 7, 7, 7]\n",
      "\n",
      "Pastures=5: ['7NW', '17N', '31E', '24W', '25SE']\n",
      "Weeks=14 (start dates): ['Jun 06', 'Jun 13', 'Jun 20', 'Jul 04', 'Jul 11', 'Jul 18', 'Jul 25', 'Aug 01', 'Aug 08', 'Aug 15', 'Sep 05', 'Sep 12', 'Sep 19', 'Sep 26']\n",
      "Steers: [9, 9, 9, 8, 10, 8, 9, 9, 9, 9, 7, 7, 7, 8]\n",
      "\n",
      "Pastures=5: ['7NW', '17N', '31E', '15E', '26E']\n",
      "Weeks=14 (start dates): ['May 23', 'May 30', 'Jun 06', 'Jun 20', 'Jul 04', 'Jul 18', 'Jul 25', 'Aug 01', 'Aug 08', 'Aug 15', 'Aug 22', 'Sep 12', 'Sep 19', 'Sep 26']\n",
      "Steers: [9, 9, 9, 8, 6, 8, 8, 8, 8, 8, 8, 8, 8, 8]\n",
      "\n",
      "Pastures=5: ['7NW', '17N', '31E', '26E', '25SE']\n",
      "Weeks=14 (start dates): ['May 30', 'Jun 06', 'Jun 20', 'Jul 04', 'Jul 18', 'Jul 25', 'Aug 01', 'Aug 08', 'Aug 15', 'Aug 22', 'Sep 05', 'Sep 12', 'Sep 19', 'Sep 26']\n",
      "Steers: [9, 9, 9, 7, 8, 9, 9, 9, 9, 9, 7, 7, 7, 8]\n",
      "\n",
      "Pastures=5: ['7NW', '19N', '20SE', '24W', '15E']\n",
      "Weeks=14 (start dates): ['May 23', 'Jun 06', 'Jun 13', 'Jun 20', 'Jul 04', 'Jul 11', 'Jul 18', 'Jul 25', 'Aug 01', 'Aug 08', 'Aug 15', 'Sep 12', 'Sep 19', 'Sep 26']\n",
      "Steers: [9, 9, 8, 8, 8, 9, 8, 7, 7, 8, 8, 8, 8, 8]\n",
      "\n",
      "Pastures=5: ['7NW', '19N', '20SE', '24W', '26E']\n",
      "Weeks=14 (start dates): ['May 16', 'May 23', 'Jun 06', 'Jun 20', 'Jul 04', 'Jul 18', 'Jul 25', 'Aug 01', 'Aug 08', 'Aug 15', 'Sep 05', 'Sep 12', 'Sep 19', 'Sep 26']\n",
      "Steers: [8, 10, 9, 8, 8, 8, 7, 7, 8, 8, 7, 7, 7, 7]\n",
      "\n",
      "Pastures=5: ['7NW', '19N', '20SE', '24W', '25SE']\n",
      "Weeks=14 (start dates): ['Jun 06', 'Jun 13', 'Jun 20', 'Jul 04', 'Jul 11', 'Jul 18', 'Jul 25', 'Aug 01', 'Aug 08', 'Aug 15', 'Sep 05', 'Sep 12', 'Sep 19', 'Sep 26']\n",
      "Steers: [9, 9, 9, 9, 10, 8, 8, 8, 9, 9, 7, 7, 7, 8]\n",
      "\n",
      "Pastures=5: ['7NW', '19N', '20SE', '15E', '26E']\n",
      "Weeks=14 (start dates): ['May 23', 'May 30', 'Jun 06', 'Jun 20', 'Jul 04', 'Jul 18', 'Jul 25', 'Aug 01', 'Aug 08', 'Aug 15', 'Aug 22', 'Sep 12', 'Sep 19', 'Sep 26']\n",
      "Steers: [9, 9, 9, 8, 7, 8, 7, 7, 8, 8, 8, 8, 8, 8]\n",
      "\n",
      "Pastures=5: ['7NW', '19N', '20SE', '26E', '25SE']\n",
      "Weeks=14 (start dates): ['May 30', 'Jun 06', 'Jun 20', 'Jul 04', 'Jul 18', 'Jul 25', 'Aug 01', 'Aug 08', 'Aug 15', 'Aug 22', 'Sep 05', 'Sep 12', 'Sep 19', 'Sep 26']\n",
      "Steers: [9, 9, 9, 8, 8, 8, 8, 9, 9, 9, 7, 7, 7, 8]\n",
      "\n",
      "Pastures=5: ['7NW', '19N', '31E', '24W', '15E']\n",
      "Weeks=14 (start dates): ['May 23', 'Jun 06', 'Jun 13', 'Jun 20', 'Jul 04', 'Jul 11', 'Jul 18', 'Jul 25', 'Aug 01', 'Aug 08', 'Aug 15', 'Sep 12', 'Sep 19', 'Sep 26']\n",
      "Steers: [9, 9, 8, 8, 7, 9, 8, 7, 7, 8, 8, 7, 7, 7]\n",
      "\n",
      "Pastures=5: ['7NW', '19N', '31E', '24W', '26E']\n",
      "Weeks=14 (start dates): ['May 16', 'May 23', 'Jun 06', 'Jun 20', 'Jul 04', 'Jul 18', 'Jul 25', 'Aug 01', 'Aug 08', 'Aug 15', 'Sep 05', 'Sep 12', 'Sep 19', 'Sep 26']\n",
      "Steers: [9, 10, 9, 8, 7, 8, 7, 7, 8, 8, 6, 6, 6, 6]\n",
      "\n",
      "Pastures=5: ['7NW', '19N', '31E', '24W', '25SE']\n",
      "Weeks=14 (start dates): ['Jun 06', 'Jun 13', 'Jun 20', 'Jul 04', 'Jul 11', 'Jul 18', 'Jul 25', 'Aug 01', 'Aug 08', 'Aug 15', 'Sep 05', 'Sep 12', 'Sep 19', 'Sep 26']\n",
      "Steers: [9, 9, 9, 8, 10, 8, 8, 8, 9, 9, 6, 6, 6, 7]\n",
      "\n",
      "Pastures=5: ['7NW', '19N', '31E', '15E', '26E']\n",
      "Weeks=14 (start dates): ['May 23', 'May 30', 'Jun 06', 'Jun 20', 'Jul 04', 'Jul 18', 'Jul 25', 'Aug 01', 'Aug 08', 'Aug 15', 'Aug 22', 'Sep 12', 'Sep 19', 'Sep 26']\n",
      "Steers: [9, 9, 9, 8, 6, 8, 7, 7, 8, 8, 8, 7, 7, 7]\n",
      "\n",
      "Pastures=5: ['7NW', '19N', '31E', '26E', '25SE']\n",
      "Weeks=14 (start dates): ['May 30', 'Jun 06', 'Jun 20', 'Jul 04', 'Jul 18', 'Jul 25', 'Aug 01', 'Aug 08', 'Aug 15', 'Aug 22', 'Sep 05', 'Sep 12', 'Sep 19', 'Sep 26']\n",
      "Steers: [9, 9, 9, 7, 8, 8, 8, 9, 9, 9, 6, 6, 6, 7]\n",
      "\n",
      "Pastures=5: ['7NW', '20SE', '31E', '24W', '15E']\n",
      "Weeks=14 (start dates): ['May 23', 'Jun 06', 'Jun 13', 'Jun 20', 'Jul 04', 'Jul 11', 'Jul 18', 'Jul 25', 'Aug 01', 'Aug 08', 'Aug 15', 'Sep 12', 'Sep 19', 'Sep 26']\n",
      "Steers: [9, 9, 8, 8, 7, 9, 8, 8, 8, 8, 8, 8, 8, 8]\n",
      "\n",
      "Pastures=5: ['7NW', '20SE', '31E', '24W', '26E']\n",
      "Weeks=14 (start dates): ['May 16', 'May 23', 'Jun 06', 'Jun 20', 'Jul 04', 'Jul 18', 'Jul 25', 'Aug 01', 'Aug 08', 'Aug 15', 'Sep 05', 'Sep 12', 'Sep 19', 'Sep 26']\n",
      "Steers: [8, 10, 9, 8, 7, 8, 8, 8, 8, 8, 7, 7, 7, 7]\n",
      "\n",
      "Pastures=5: ['7NW', '20SE', '31E', '24W', '25SE']\n",
      "Weeks=14 (start dates): ['Jun 06', 'Jun 13', 'Jun 20', 'Jul 04', 'Jul 11', 'Jul 18', 'Jul 25', 'Aug 01', 'Aug 08', 'Aug 15', 'Sep 05', 'Sep 12', 'Sep 19', 'Sep 26']\n",
      "Steers: [9, 9, 9, 8, 10, 8, 9, 9, 9, 9, 7, 7, 7, 8]\n",
      "\n",
      "Pastures=5: ['7NW', '20SE', '31E', '15E', '26E']\n",
      "Weeks=14 (start dates): ['May 23', 'May 30', 'Jun 06', 'Jun 20', 'Jul 04', 'Jul 18', 'Jul 25', 'Aug 01', 'Aug 08', 'Aug 15', 'Aug 22', 'Sep 12', 'Sep 19', 'Sep 26']\n",
      "Steers: [9, 9, 9, 8, 6, 8, 8, 8, 8, 8, 8, 8, 8, 8]\n",
      "\n",
      "Pastures=5: ['7NW', '20SE', '31E', '26E', '25SE']\n",
      "Weeks=14 (start dates): ['May 30', 'Jun 06', 'Jun 20', 'Jul 04', 'Jul 18', 'Jul 25', 'Aug 01', 'Aug 08', 'Aug 15', 'Aug 22', 'Sep 05', 'Sep 12', 'Sep 19', 'Sep 26']\n",
      "Steers: [9, 9, 9, 7, 8, 9, 9, 9, 9, 9, 7, 7, 7, 8]\n",
      "\n",
      "Pastures=5: ['17N', '19N', '20SE', '24W', '15E']\n",
      "Weeks=14 (start dates): ['May 23', 'Jun 06', 'Jun 13', 'Jun 20', 'Jul 04', 'Jul 11', 'Jul 18', 'Jul 25', 'Aug 01', 'Aug 08', 'Aug 15', 'Sep 12', 'Sep 19', 'Sep 26']\n",
      "Steers: [9, 10, 9, 8, 9, 9, 8, 7, 7, 8, 8, 8, 8, 8]\n",
      "\n",
      "Pastures=5: ['17N', '19N', '20SE', '24W', '26E']\n",
      "Weeks=14 (start dates): ['May 16', 'May 23', 'Jun 06', 'Jun 20', 'Jul 04', 'Jul 18', 'Jul 25', 'Aug 01', 'Aug 08', 'Aug 15', 'Sep 05', 'Sep 12', 'Sep 19', 'Sep 26']\n",
      "Steers: [8, 10, 10, 8, 9, 8, 7, 7, 8, 8, 7, 7, 7, 7]\n",
      "\n",
      "Pastures=5: ['17N', '19N', '20SE', '24W', '25SE']\n",
      "Weeks=14 (start dates): ['Jun 06', 'Jun 13', 'Jun 20', 'Jul 04', 'Jul 11', 'Jul 18', 'Jul 25', 'Aug 01', 'Aug 08', 'Aug 15', 'Sep 05', 'Sep 12', 'Sep 19', 'Sep 26']\n",
      "Steers: [10, 10, 9, 10, 10, 8, 8, 8, 9, 9, 7, 7, 7, 8]\n",
      "\n",
      "Pastures=5: ['17N', '19N', '20SE', '15E', '26E']\n",
      "Weeks=14 (start dates): ['May 23', 'May 30', 'Jun 06', 'Jun 20', 'Jul 04', 'Jul 18', 'Jul 25', 'Aug 01', 'Aug 08', 'Aug 15', 'Aug 22', 'Sep 12', 'Sep 19', 'Sep 26']\n",
      "Steers: [9, 10, 10, 8, 8, 8, 7, 7, 8, 8, 8, 8, 8, 8]\n",
      "\n",
      "Pastures=5: ['17N', '19N', '20SE', '26E', '25SE']\n",
      "Weeks=14 (start dates): ['May 30', 'Jun 06', 'Jun 20', 'Jul 04', 'Jul 18', 'Jul 25', 'Aug 01', 'Aug 08', 'Aug 15', 'Aug 22', 'Sep 05', 'Sep 12', 'Sep 19', 'Sep 26']\n",
      "Steers: [10, 10, 9, 9, 8, 8, 8, 9, 9, 9, 7, 7, 7, 8]\n",
      "\n",
      "Pastures=5: ['17N', '19N', '31E', '24W', '15E']\n",
      "Weeks=14 (start dates): ['May 23', 'Jun 06', 'Jun 13', 'Jun 20', 'Jul 04', 'Jul 11', 'Jul 18', 'Jul 25', 'Aug 01', 'Aug 08', 'Aug 15', 'Sep 12', 'Sep 19', 'Sep 26']\n",
      "Steers: [9, 10, 9, 8, 8, 9, 8, 7, 7, 8, 8, 7, 7, 7]\n",
      "\n",
      "Pastures=5: ['17N', '19N', '31E', '24W', '26E']\n",
      "Weeks=14 (start dates): ['May 16', 'May 23', 'Jun 06', 'Jun 20', 'Jul 04', 'Jul 18', 'Jul 25', 'Aug 01', 'Aug 08', 'Aug 15', 'Sep 05', 'Sep 12', 'Sep 19', 'Sep 26']\n",
      "Steers: [9, 10, 10, 8, 8, 8, 7, 7, 8, 8, 6, 6, 6, 6]\n",
      "\n",
      "Pastures=5: ['17N', '19N', '31E', '24W', '25SE']\n",
      "Weeks=14 (start dates): ['Jun 06', 'Jun 13', 'Jun 20', 'Jul 04', 'Jul 11', 'Jul 18', 'Jul 25', 'Aug 01', 'Aug 08', 'Aug 15', 'Sep 05', 'Sep 12', 'Sep 19', 'Sep 26']\n",
      "Steers: [10, 10, 9, 9, 10, 8, 8, 8, 9, 9, 6, 6, 6, 7]\n",
      "\n",
      "Pastures=5: ['17N', '19N', '31E', '15E', '26E']\n",
      "Weeks=14 (start dates): ['May 23', 'May 30', 'Jun 06', 'Jun 20', 'Jul 04', 'Jul 18', 'Jul 25', 'Aug 01', 'Aug 08', 'Aug 15', 'Aug 22', 'Sep 12', 'Sep 19', 'Sep 26']\n",
      "Steers: [9, 10, 10, 8, 7, 8, 7, 7, 8, 8, 8, 7, 7, 7]\n",
      "\n",
      "Pastures=5: ['17N', '19N', '31E', '26E', '25SE']\n",
      "Weeks=14 (start dates): ['May 30', 'Jun 06', 'Jun 20', 'Jul 04', 'Jul 18', 'Jul 25', 'Aug 01', 'Aug 08', 'Aug 15', 'Aug 22', 'Sep 05', 'Sep 12', 'Sep 19', 'Sep 26']\n",
      "Steers: [10, 10, 9, 8, 8, 8, 8, 9, 9, 9, 6, 6, 6, 7]\n",
      "\n",
      "Pastures=5: ['17N', '20SE', '31E', '24W', '15E']\n",
      "Weeks=14 (start dates): ['May 23', 'Jun 06', 'Jun 13', 'Jun 20', 'Jul 04', 'Jul 11', 'Jul 18', 'Jul 25', 'Aug 01', 'Aug 08', 'Aug 15', 'Sep 12', 'Sep 19', 'Sep 26']\n",
      "Steers: [9, 10, 9, 8, 8, 9, 8, 8, 8, 8, 8, 8, 8, 8]\n",
      "\n",
      "Pastures=5: ['17N', '20SE', '31E', '24W', '26E']\n",
      "Weeks=14 (start dates): ['May 16', 'May 23', 'Jun 06', 'Jun 20', 'Jul 04', 'Jul 18', 'Jul 25', 'Aug 01', 'Aug 08', 'Aug 15', 'Sep 05', 'Sep 12', 'Sep 19', 'Sep 26']\n",
      "Steers: [8, 10, 10, 8, 8, 8, 8, 8, 8, 8, 7, 7, 7, 7]\n",
      "\n",
      "Pastures=5: ['17N', '20SE', '31E', '24W', '25SE']\n",
      "Weeks=14 (start dates): ['Jun 06', 'Jun 13', 'Jun 20', 'Jul 04', 'Jul 11', 'Jul 18', 'Jul 25', 'Aug 01', 'Aug 08', 'Aug 15', 'Sep 05', 'Sep 12', 'Sep 19', 'Sep 26']\n",
      "Steers: [10, 10, 9, 9, 10, 8, 9, 9, 9, 9, 7, 7, 7, 8]\n",
      "\n",
      "Pastures=5: ['17N', '20SE', '31E', '15E', '26E']\n",
      "Weeks=14 (start dates): ['May 23', 'May 30', 'Jun 06', 'Jun 20', 'Jul 04', 'Jul 18', 'Jul 25', 'Aug 01', 'Aug 08', 'Aug 15', 'Aug 22', 'Sep 12', 'Sep 19', 'Sep 26']\n",
      "Steers: [9, 10, 10, 8, 7, 8, 8, 8, 8, 8, 8, 8, 8, 8]\n",
      "\n",
      "Pastures=5: ['17N', '20SE', '31E', '26E', '25SE']\n",
      "Weeks=14 (start dates): ['May 30', 'Jun 06', 'Jun 20', 'Jul 04', 'Jul 18', 'Jul 25', 'Aug 01', 'Aug 08', 'Aug 15', 'Aug 22', 'Sep 05', 'Sep 12', 'Sep 19', 'Sep 26']\n",
      "Steers: [10, 10, 9, 8, 8, 9, 9, 9, 9, 9, 7, 7, 7, 8]\n",
      "\n",
      "Pastures=5: ['19N', '20SE', '31E', '24W', '15E']\n",
      "Weeks=14 (start dates): ['May 23', 'Jun 06', 'Jun 13', 'Jun 20', 'Jul 04', 'Jul 11', 'Jul 18', 'Jul 25', 'Aug 01', 'Aug 08', 'Aug 15', 'Sep 12', 'Sep 19', 'Sep 26']\n",
      "Steers: [9, 10, 9, 8, 8, 9, 8, 7, 7, 8, 8, 7, 7, 7]\n",
      "\n",
      "Pastures=5: ['19N', '20SE', '31E', '24W', '26E']\n",
      "Weeks=14 (start dates): ['May 16', 'May 23', 'Jun 06', 'Jun 20', 'Jul 04', 'Jul 18', 'Jul 25', 'Aug 01', 'Aug 08', 'Aug 15', 'Sep 05', 'Sep 12', 'Sep 19', 'Sep 26']\n",
      "Steers: [8, 10, 10, 8, 8, 8, 7, 7, 8, 8, 6, 6, 6, 6]\n",
      "\n",
      "Pastures=5: ['19N', '20SE', '31E', '24W', '25SE']\n",
      "Weeks=14 (start dates): ['Jun 06', 'Jun 13', 'Jun 20', 'Jul 04', 'Jul 11', 'Jul 18', 'Jul 25', 'Aug 01', 'Aug 08', 'Aug 15', 'Sep 05', 'Sep 12', 'Sep 19', 'Sep 26']\n",
      "Steers: [10, 10, 9, 9, 10, 8, 8, 8, 9, 9, 6, 6, 6, 7]\n",
      "\n",
      "Pastures=5: ['19N', '20SE', '31E', '15E', '26E']\n",
      "Weeks=14 (start dates): ['May 23', 'May 30', 'Jun 06', 'Jun 20', 'Jul 04', 'Jul 18', 'Jul 25', 'Aug 01', 'Aug 08', 'Aug 15', 'Aug 22', 'Sep 12', 'Sep 19', 'Sep 26']\n",
      "Steers: [9, 10, 10, 8, 7, 8, 7, 7, 8, 8, 8, 7, 7, 7]\n",
      "\n",
      "Pastures=5: ['19N', '20SE', '31E', '26E', '25SE']\n",
      "Weeks=14 (start dates): ['May 30', 'Jun 06', 'Jun 20', 'Jul 04', 'Jul 18', 'Jul 25', 'Aug 01', 'Aug 08', 'Aug 15', 'Aug 22', 'Sep 05', 'Sep 12', 'Sep 19', 'Sep 26']\n",
      "Steers: [10, 10, 9, 8, 8, 8, 8, 9, 9, 9, 6, 6, 6, 7]\n",
      "\n",
      "Pastures=5: ['5E', '7NW', '24W', '15E', '25SE']\n",
      "Weeks=13 (start dates): ['Jun 06', 'Jun 13', 'Jun 20', 'Jul 04', 'Jul 11', 'Jul 18', 'Jul 25', 'Aug 01', 'Aug 08', 'Aug 15', 'Sep 12', 'Sep 19', 'Sep 26']\n",
      "Steers: [11, 9, 9, 9, 10, 8, 9, 9, 9, 9, 9, 10, 11]\n",
      "\n",
      "Pastures=5: ['5E', '7NW', '15E', '26E', '25SE']\n",
      "Weeks=13 (start dates): ['May 30', 'Jun 06', 'Jun 20', 'Jul 04', 'Jul 18', 'Jul 25', 'Aug 01', 'Aug 08', 'Aug 15', 'Aug 22', 'Sep 12', 'Sep 19', 'Sep 26']\n",
      "Steers: [11, 11, 9, 8, 8, 9, 9, 9, 9, 9, 9, 10, 11]\n",
      "\n",
      "Pastures=5: ['5E', '17N', '24W', '15E', '25SE']\n",
      "Weeks=13 (start dates): ['Jun 06', 'Jun 13', 'Jun 20', 'Jul 04', 'Jul 11', 'Jul 18', 'Jul 25', 'Aug 01', 'Aug 08', 'Aug 15', 'Sep 12', 'Sep 19', 'Sep 26']\n",
      "Steers: [12, 10, 9, 10, 10, 8, 9, 9, 9, 9, 9, 10, 11]\n",
      "\n",
      "Pastures=5: ['5E', '17N', '15E', '26E', '25SE']\n",
      "Weeks=13 (start dates): ['May 30', 'Jun 06', 'Jun 20', 'Jul 04', 'Jul 18', 'Jul 25', 'Aug 01', 'Aug 08', 'Aug 15', 'Aug 22', 'Sep 12', 'Sep 19', 'Sep 26']\n",
      "Steers: [12, 12, 9, 9, 8, 9, 9, 9, 9, 9, 9, 10, 11]\n",
      "\n",
      "Pastures=5: ['5E', '19N', '24W', '15E', '25SE']\n",
      "Weeks=13 (start dates): ['Jun 06', 'Jun 13', 'Jun 20', 'Jul 04', 'Jul 11', 'Jul 18', 'Jul 25', 'Aug 01', 'Aug 08', 'Aug 15', 'Sep 12', 'Sep 19', 'Sep 26']\n",
      "Steers: [12, 10, 9, 10, 10, 8, 8, 8, 9, 9, 8, 9, 10]\n",
      "\n",
      "Pastures=5: ['5E', '19N', '15E', '26E', '25SE']\n",
      "Weeks=13 (start dates): ['May 30', 'Jun 06', 'Jun 20', 'Jul 04', 'Jul 18', 'Jul 25', 'Aug 01', 'Aug 08', 'Aug 15', 'Aug 22', 'Sep 12', 'Sep 19', 'Sep 26']\n",
      "Steers: [12, 12, 9, 9, 8, 8, 8, 9, 9, 9, 8, 9, 10]\n",
      "\n",
      "Pastures=5: ['5E', '20SE', '24W', '15E', '25SE']\n",
      "Weeks=13 (start dates): ['Jun 06', 'Jun 13', 'Jun 20', 'Jul 04', 'Jul 11', 'Jul 18', 'Jul 25', 'Aug 01', 'Aug 08', 'Aug 15', 'Sep 12', 'Sep 19', 'Sep 26']\n",
      "Steers: [12, 10, 9, 10, 10, 8, 9, 9, 9, 9, 9, 10, 11]\n",
      "\n",
      "Pastures=5: ['5E', '20SE', '15E', '26E', '25SE']\n",
      "Weeks=13 (start dates): ['May 30', 'Jun 06', 'Jun 20', 'Jul 04', 'Jul 18', 'Jul 25', 'Aug 01', 'Aug 08', 'Aug 15', 'Aug 22', 'Sep 12', 'Sep 19', 'Sep 26']\n",
      "Steers: [12, 12, 9, 9, 8, 9, 9, 9, 9, 9, 9, 10, 11]\n",
      "\n",
      "Pastures=5: ['5E', '31E', '24W', '15E', '25SE']\n",
      "Weeks=13 (start dates): ['Jun 06', 'Jun 13', 'Jun 20', 'Jul 04', 'Jul 11', 'Jul 18', 'Jul 25', 'Aug 01', 'Aug 08', 'Aug 15', 'Sep 12', 'Sep 19', 'Sep 26']\n",
      "Steers: [12, 10, 9, 9, 10, 8, 9, 9, 9, 9, 8, 9, 10]\n",
      "\n",
      "Pastures=5: ['5E', '31E', '15E', '26E', '25SE']\n",
      "Weeks=13 (start dates): ['May 30', 'Jun 06', 'Jun 20', 'Jul 04', 'Jul 18', 'Jul 25', 'Aug 01', 'Aug 08', 'Aug 15', 'Aug 22', 'Sep 12', 'Sep 19', 'Sep 26']\n",
      "Steers: [12, 12, 9, 8, 8, 9, 9, 9, 9, 9, 8, 9, 10]\n",
      "\n",
      "Pastures=5: ['7NW', '17N', '24W', '15E', '25SE']\n",
      "Weeks=13 (start dates): ['Jun 06', 'Jun 13', 'Jun 20', 'Jul 04', 'Jul 11', 'Jul 18', 'Jul 25', 'Aug 01', 'Aug 08', 'Aug 15', 'Sep 12', 'Sep 19', 'Sep 26']\n",
      "Steers: [9, 8, 8, 8, 9, 7, 8, 8, 8, 8, 8, 8, 9]\n",
      "\n",
      "Pastures=5: ['7NW', '17N', '15E', '26E', '25SE']\n",
      "Weeks=13 (start dates): ['May 30', 'Jun 06', 'Jun 20', 'Jul 04', 'Jul 18', 'Jul 25', 'Aug 01', 'Aug 08', 'Aug 15', 'Aug 22', 'Sep 12', 'Sep 19', 'Sep 26']\n",
      "Steers: [9, 9, 8, 7, 7, 8, 8, 8, 8, 8, 8, 8, 9]\n",
      "\n",
      "Pastures=5: ['7NW', '19N', '24W', '15E', '25SE']\n",
      "Weeks=13 (start dates): ['Jun 06', 'Jun 13', 'Jun 20', 'Jul 04', 'Jul 11', 'Jul 18', 'Jul 25', 'Aug 01', 'Aug 08', 'Aug 15', 'Sep 12', 'Sep 19', 'Sep 26']\n",
      "Steers: [9, 8, 8, 8, 9, 7, 7, 7, 8, 8, 7, 7, 8]\n",
      "\n",
      "Pastures=5: ['7NW', '19N', '15E', '26E', '25SE']\n",
      "Weeks=13 (start dates): ['May 30', 'Jun 06', 'Jun 20', 'Jul 04', 'Jul 18', 'Jul 25', 'Aug 01', 'Aug 08', 'Aug 15', 'Aug 22', 'Sep 12', 'Sep 19', 'Sep 26']\n",
      "Steers: [9, 9, 8, 7, 7, 7, 7, 8, 8, 8, 7, 7, 8]\n",
      "\n",
      "Pastures=5: ['7NW', '20SE', '24W', '15E', '25SE']\n",
      "Weeks=13 (start dates): ['Jun 06', 'Jun 13', 'Jun 20', 'Jul 04', 'Jul 11', 'Jul 18', 'Jul 25', 'Aug 01', 'Aug 08', 'Aug 15', 'Sep 12', 'Sep 19', 'Sep 26']\n",
      "Steers: [9, 8, 8, 8, 9, 7, 8, 8, 8, 8, 8, 8, 9]\n",
      "\n",
      "Pastures=5: ['7NW', '20SE', '15E', '26E', '25SE']\n",
      "Weeks=13 (start dates): ['May 30', 'Jun 06', 'Jun 20', 'Jul 04', 'Jul 18', 'Jul 25', 'Aug 01', 'Aug 08', 'Aug 15', 'Aug 22', 'Sep 12', 'Sep 19', 'Sep 26']\n",
      "Steers: [9, 9, 8, 7, 7, 8, 8, 8, 8, 8, 8, 8, 9]\n",
      "\n",
      "Pastures=5: ['7NW', '31E', '24W', '15E', '25SE']\n",
      "Weeks=13 (start dates): ['Jun 06', 'Jun 13', 'Jun 20', 'Jul 04', 'Jul 11', 'Jul 18', 'Jul 25', 'Aug 01', 'Aug 08', 'Aug 15', 'Sep 12', 'Sep 19', 'Sep 26']\n",
      "Steers: [9, 8, 8, 7, 9, 7, 8, 8, 8, 8, 7, 7, 8]\n",
      "\n",
      "Pastures=5: ['7NW', '31E', '15E', '26E', '25SE']\n",
      "Weeks=13 (start dates): ['May 30', 'Jun 06', 'Jun 20', 'Jul 04', 'Jul 18', 'Jul 25', 'Aug 01', 'Aug 08', 'Aug 15', 'Aug 22', 'Sep 12', 'Sep 19', 'Sep 26']\n",
      "Steers: [9, 9, 8, 6, 7, 8, 8, 8, 8, 8, 7, 7, 8]\n",
      "\n",
      "Pastures=5: ['17N', '19N', '24W', '15E', '25SE']\n",
      "Weeks=13 (start dates): ['Jun 06', 'Jun 13', 'Jun 20', 'Jul 04', 'Jul 11', 'Jul 18', 'Jul 25', 'Aug 01', 'Aug 08', 'Aug 15', 'Sep 12', 'Sep 19', 'Sep 26']\n",
      "Steers: [10, 9, 8, 9, 9, 7, 7, 7, 8, 8, 7, 7, 8]\n",
      "\n",
      "Pastures=5: ['17N', '19N', '15E', '26E', '25SE']\n",
      "Weeks=13 (start dates): ['May 30', 'Jun 06', 'Jun 20', 'Jul 04', 'Jul 18', 'Jul 25', 'Aug 01', 'Aug 08', 'Aug 15', 'Aug 22', 'Sep 12', 'Sep 19', 'Sep 26']\n",
      "Steers: [10, 10, 8, 8, 7, 7, 7, 8, 8, 8, 7, 7, 8]\n",
      "\n",
      "Pastures=5: ['17N', '20SE', '24W', '15E', '25SE']\n",
      "Weeks=13 (start dates): ['Jun 06', 'Jun 13', 'Jun 20', 'Jul 04', 'Jul 11', 'Jul 18', 'Jul 25', 'Aug 01', 'Aug 08', 'Aug 15', 'Sep 12', 'Sep 19', 'Sep 26']\n",
      "Steers: [10, 9, 8, 9, 9, 7, 8, 8, 8, 8, 8, 8, 9]\n",
      "\n",
      "Pastures=5: ['17N', '20SE', '15E', '26E', '25SE']\n",
      "Weeks=13 (start dates): ['May 30', 'Jun 06', 'Jun 20', 'Jul 04', 'Jul 18', 'Jul 25', 'Aug 01', 'Aug 08', 'Aug 15', 'Aug 22', 'Sep 12', 'Sep 19', 'Sep 26']\n",
      "Steers: [10, 10, 8, 8, 7, 8, 8, 8, 8, 8, 8, 8, 9]\n",
      "\n",
      "Pastures=5: ['17N', '31E', '24W', '15E', '25SE']\n",
      "Weeks=13 (start dates): ['Jun 06', 'Jun 13', 'Jun 20', 'Jul 04', 'Jul 11', 'Jul 18', 'Jul 25', 'Aug 01', 'Aug 08', 'Aug 15', 'Sep 12', 'Sep 19', 'Sep 26']\n",
      "Steers: [10, 9, 8, 8, 9, 7, 8, 8, 8, 8, 7, 7, 8]\n",
      "\n",
      "Pastures=5: ['17N', '31E', '15E', '26E', '25SE']\n",
      "Weeks=13 (start dates): ['May 30', 'Jun 06', 'Jun 20', 'Jul 04', 'Jul 18', 'Jul 25', 'Aug 01', 'Aug 08', 'Aug 15', 'Aug 22', 'Sep 12', 'Sep 19', 'Sep 26']\n",
      "Steers: [10, 10, 8, 7, 7, 8, 8, 8, 8, 8, 7, 7, 8]\n",
      "\n",
      "Pastures=5: ['19N', '20SE', '24W', '15E', '25SE']\n",
      "Weeks=13 (start dates): ['Jun 06', 'Jun 13', 'Jun 20', 'Jul 04', 'Jul 11', 'Jul 18', 'Jul 25', 'Aug 01', 'Aug 08', 'Aug 15', 'Sep 12', 'Sep 19', 'Sep 26']\n",
      "Steers: [10, 9, 8, 9, 9, 7, 7, 7, 8, 8, 7, 7, 8]\n",
      "\n",
      "Pastures=5: ['19N', '20SE', '15E', '26E', '25SE']\n",
      "Weeks=13 (start dates): ['May 30', 'Jun 06', 'Jun 20', 'Jul 04', 'Jul 18', 'Jul 25', 'Aug 01', 'Aug 08', 'Aug 15', 'Aug 22', 'Sep 12', 'Sep 19', 'Sep 26']\n",
      "Steers: [10, 10, 8, 8, 7, 7, 7, 8, 8, 8, 7, 7, 8]\n",
      "\n",
      "Pastures=5: ['19N', '31E', '24W', '15E', '25SE']\n",
      "Weeks=13 (start dates): ['Jun 06', 'Jun 13', 'Jun 20', 'Jul 04', 'Jul 11', 'Jul 18', 'Jul 25', 'Aug 01', 'Aug 08', 'Aug 15', 'Sep 12', 'Sep 19', 'Sep 26']\n",
      "Steers: [10, 9, 8, 8, 9, 7, 7, 7, 8, 8, 6, 6, 7]\n",
      "\n",
      "Pastures=5: ['19N', '31E', '15E', '26E', '25SE']\n",
      "Weeks=13 (start dates): ['May 30', 'Jun 06', 'Jun 20', 'Jul 04', 'Jul 18', 'Jul 25', 'Aug 01', 'Aug 08', 'Aug 15', 'Aug 22', 'Sep 12', 'Sep 19', 'Sep 26']\n",
      "Steers: [10, 10, 8, 7, 7, 7, 7, 8, 8, 8, 6, 6, 7]\n",
      "\n",
      "Pastures=5: ['20SE', '31E', '24W', '15E', '25SE']\n",
      "Weeks=13 (start dates): ['Jun 06', 'Jun 13', 'Jun 20', 'Jul 04', 'Jul 11', 'Jul 18', 'Jul 25', 'Aug 01', 'Aug 08', 'Aug 15', 'Sep 12', 'Sep 19', 'Sep 26']\n",
      "Steers: [10, 9, 8, 8, 9, 7, 8, 8, 8, 8, 7, 7, 8]\n",
      "\n",
      "Pastures=5: ['20SE', '31E', '15E', '26E', '25SE']\n",
      "Weeks=13 (start dates): ['May 30', 'Jun 06', 'Jun 20', 'Jul 04', 'Jul 18', 'Jul 25', 'Aug 01', 'Aug 08', 'Aug 15', 'Aug 22', 'Sep 12', 'Sep 19', 'Sep 26']\n",
      "Steers: [10, 10, 8, 7, 7, 8, 8, 8, 8, 8, 7, 7, 8]\n",
      "\n",
      "Pastures=5: ['5E', '7NW', '24W', '15E', '26E']\n",
      "Weeks=12 (start dates): ['May 23', 'Jun 06', 'Jun 20', 'Jul 04', 'Jul 18', 'Jul 25', 'Aug 01', 'Aug 08', 'Aug 15', 'Sep 12', 'Sep 19', 'Sep 26']\n",
      "Steers: [10, 11, 8, 8, 8, 8, 8, 8, 8, 9, 10, 10]\n",
      "\n",
      "Pastures=5: ['5E', '7NW', '24W', '26E', '25SE']\n",
      "Weeks=12 (start dates): ['Jun 06', 'Jun 20', 'Jul 04', 'Jul 18', 'Jul 25', 'Aug 01', 'Aug 08', 'Aug 15', 'Sep 05', 'Sep 12', 'Sep 19', 'Sep 26']\n",
      "Steers: [11, 9, 9, 8, 9, 9, 9, 9, 7, 8, 9, 10]\n",
      "\n",
      "Pastures=5: ['5E', '17N', '24W', '15E', '26E']\n",
      "Weeks=12 (start dates): ['May 23', 'Jun 06', 'Jun 20', 'Jul 04', 'Jul 18', 'Jul 25', 'Aug 01', 'Aug 08', 'Aug 15', 'Sep 12', 'Sep 19', 'Sep 26']\n",
      "Steers: [10, 12, 8, 9, 8, 8, 8, 8, 8, 9, 10, 10]\n",
      "\n",
      "Pastures=5: ['5E', '17N', '24W', '26E', '25SE']\n",
      "Weeks=12 (start dates): ['Jun 06', 'Jun 20', 'Jul 04', 'Jul 18', 'Jul 25', 'Aug 01', 'Aug 08', 'Aug 15', 'Sep 05', 'Sep 12', 'Sep 19', 'Sep 26']\n",
      "Steers: [12, 9, 10, 8, 9, 9, 9, 9, 7, 8, 9, 10]\n",
      "\n",
      "Pastures=5: ['5E', '19N', '24W', '15E', '26E']\n",
      "Weeks=12 (start dates): ['May 23', 'Jun 06', 'Jun 20', 'Jul 04', 'Jul 18', 'Jul 25', 'Aug 01', 'Aug 08', 'Aug 15', 'Sep 12', 'Sep 19', 'Sep 26']\n",
      "Steers: [10, 12, 8, 9, 8, 7, 7, 8, 8, 8, 9, 9]\n",
      "\n",
      "Pastures=5: ['5E', '19N', '24W', '26E', '25SE']\n",
      "Weeks=12 (start dates): ['Jun 06', 'Jun 20', 'Jul 04', 'Jul 18', 'Jul 25', 'Aug 01', 'Aug 08', 'Aug 15', 'Sep 05', 'Sep 12', 'Sep 19', 'Sep 26']\n",
      "Steers: [12, 9, 10, 8, 8, 8, 9, 9, 6, 7, 8, 9]\n",
      "\n",
      "Pastures=5: ['5E', '20SE', '24W', '15E', '26E']\n",
      "Weeks=12 (start dates): ['May 23', 'Jun 06', 'Jun 20', 'Jul 04', 'Jul 18', 'Jul 25', 'Aug 01', 'Aug 08', 'Aug 15', 'Sep 12', 'Sep 19', 'Sep 26']\n",
      "Steers: [10, 12, 8, 9, 8, 8, 8, 8, 8, 9, 10, 10]\n",
      "\n",
      "Pastures=5: ['5E', '20SE', '24W', '26E', '25SE']\n",
      "Weeks=12 (start dates): ['Jun 06', 'Jun 20', 'Jul 04', 'Jul 18', 'Jul 25', 'Aug 01', 'Aug 08', 'Aug 15', 'Sep 05', 'Sep 12', 'Sep 19', 'Sep 26']\n",
      "Steers: [12, 9, 10, 8, 9, 9, 9, 9, 7, 8, 9, 10]\n",
      "\n",
      "Pastures=5: ['5E', '31E', '24W', '15E', '26E']\n",
      "Weeks=12 (start dates): ['May 23', 'Jun 06', 'Jun 20', 'Jul 04', 'Jul 18', 'Jul 25', 'Aug 01', 'Aug 08', 'Aug 15', 'Sep 12', 'Sep 19', 'Sep 26']\n",
      "Steers: [10, 12, 8, 8, 8, 8, 8, 8, 8, 8, 9, 9]\n",
      "\n",
      "Pastures=5: ['5E', '31E', '24W', '26E', '25SE']\n",
      "Weeks=12 (start dates): ['Jun 06', 'Jun 20', 'Jul 04', 'Jul 18', 'Jul 25', 'Aug 01', 'Aug 08', 'Aug 15', 'Sep 05', 'Sep 12', 'Sep 19', 'Sep 26']\n",
      "Steers: [12, 9, 9, 8, 9, 9, 9, 9, 6, 7, 8, 9]\n",
      "\n",
      "Pastures=5: ['7NW', '17N', '24W', '15E', '26E']\n",
      "Weeks=12 (start dates): ['May 23', 'Jun 06', 'Jun 20', 'Jul 04', 'Jul 18', 'Jul 25', 'Aug 01', 'Aug 08', 'Aug 15', 'Sep 12', 'Sep 19', 'Sep 26']\n",
      "Steers: [9, 9, 7, 7, 7, 7, 7, 7, 7, 8, 8, 8]\n",
      "\n",
      "Pastures=5: ['7NW', '17N', '24W', '26E', '25SE']\n",
      "Weeks=12 (start dates): ['Jun 06', 'Jun 20', 'Jul 04', 'Jul 18', 'Jul 25', 'Aug 01', 'Aug 08', 'Aug 15', 'Sep 05', 'Sep 12', 'Sep 19', 'Sep 26']\n",
      "Steers: [9, 8, 8, 7, 8, 8, 8, 8, 7, 7, 7, 8]\n",
      "\n",
      "Pastures=5: ['7NW', '19N', '24W', '15E', '26E']\n",
      "Weeks=12 (start dates): ['May 23', 'Jun 06', 'Jun 20', 'Jul 04', 'Jul 18', 'Jul 25', 'Aug 01', 'Aug 08', 'Aug 15', 'Sep 12', 'Sep 19', 'Sep 26']\n",
      "Steers: [9, 9, 7, 7, 7, 6, 6, 7, 7, 7, 7, 7]\n",
      "\n",
      "Pastures=5: ['7NW', '19N', '24W', '26E', '25SE']\n",
      "Weeks=12 (start dates): ['Jun 06', 'Jun 20', 'Jul 04', 'Jul 18', 'Jul 25', 'Aug 01', 'Aug 08', 'Aug 15', 'Sep 05', 'Sep 12', 'Sep 19', 'Sep 26']\n",
      "Steers: [9, 8, 8, 7, 7, 7, 8, 8, 6, 6, 6, 7]\n",
      "\n",
      "Pastures=5: ['7NW', '20SE', '24W', '15E', '26E']\n",
      "Weeks=12 (start dates): ['May 23', 'Jun 06', 'Jun 20', 'Jul 04', 'Jul 18', 'Jul 25', 'Aug 01', 'Aug 08', 'Aug 15', 'Sep 12', 'Sep 19', 'Sep 26']\n",
      "Steers: [9, 9, 7, 7, 7, 7, 7, 7, 7, 8, 8, 8]\n",
      "\n",
      "Pastures=5: ['7NW', '20SE', '24W', '26E', '25SE']\n",
      "Weeks=12 (start dates): ['Jun 06', 'Jun 20', 'Jul 04', 'Jul 18', 'Jul 25', 'Aug 01', 'Aug 08', 'Aug 15', 'Sep 05', 'Sep 12', 'Sep 19', 'Sep 26']\n",
      "Steers: [9, 8, 8, 7, 8, 8, 8, 8, 7, 7, 7, 8]\n",
      "\n",
      "Pastures=5: ['7NW', '31E', '24W', '15E', '26E']\n",
      "Weeks=12 (start dates): ['May 23', 'Jun 06', 'Jun 20', 'Jul 04', 'Jul 18', 'Jul 25', 'Aug 01', 'Aug 08', 'Aug 15', 'Sep 12', 'Sep 19', 'Sep 26']\n",
      "Steers: [9, 9, 7, 6, 7, 7, 7, 7, 7, 7, 7, 7]\n",
      "\n",
      "Pastures=5: ['7NW', '31E', '24W', '26E', '25SE']\n",
      "Weeks=12 (start dates): ['Jun 06', 'Jun 20', 'Jul 04', 'Jul 18', 'Jul 25', 'Aug 01', 'Aug 08', 'Aug 15', 'Sep 05', 'Sep 12', 'Sep 19', 'Sep 26']\n",
      "Steers: [9, 8, 7, 7, 8, 8, 8, 8, 6, 6, 6, 7]\n",
      "\n",
      "Pastures=5: ['17N', '19N', '24W', '15E', '26E']\n",
      "Weeks=12 (start dates): ['May 23', 'Jun 06', 'Jun 20', 'Jul 04', 'Jul 18', 'Jul 25', 'Aug 01', 'Aug 08', 'Aug 15', 'Sep 12', 'Sep 19', 'Sep 26']\n",
      "Steers: [9, 10, 7, 8, 7, 6, 6, 7, 7, 7, 7, 7]\n",
      "\n",
      "Pastures=5: ['17N', '19N', '24W', '26E', '25SE']\n",
      "Weeks=12 (start dates): ['Jun 06', 'Jun 20', 'Jul 04', 'Jul 18', 'Jul 25', 'Aug 01', 'Aug 08', 'Aug 15', 'Sep 05', 'Sep 12', 'Sep 19', 'Sep 26']\n",
      "Steers: [10, 8, 9, 7, 7, 7, 8, 8, 6, 6, 6, 7]\n",
      "\n",
      "Pastures=5: ['17N', '20SE', '24W', '15E', '26E']\n",
      "Weeks=12 (start dates): ['May 23', 'Jun 06', 'Jun 20', 'Jul 04', 'Jul 18', 'Jul 25', 'Aug 01', 'Aug 08', 'Aug 15', 'Sep 12', 'Sep 19', 'Sep 26']\n",
      "Steers: [9, 10, 7, 8, 7, 7, 7, 7, 7, 8, 8, 8]\n",
      "\n",
      "Pastures=5: ['17N', '20SE', '24W', '26E', '25SE']\n",
      "Weeks=12 (start dates): ['Jun 06', 'Jun 20', 'Jul 04', 'Jul 18', 'Jul 25', 'Aug 01', 'Aug 08', 'Aug 15', 'Sep 05', 'Sep 12', 'Sep 19', 'Sep 26']\n",
      "Steers: [10, 8, 9, 7, 8, 8, 8, 8, 7, 7, 7, 8]\n",
      "\n",
      "Pastures=5: ['17N', '31E', '24W', '15E', '26E']\n",
      "Weeks=12 (start dates): ['May 23', 'Jun 06', 'Jun 20', 'Jul 04', 'Jul 18', 'Jul 25', 'Aug 01', 'Aug 08', 'Aug 15', 'Sep 12', 'Sep 19', 'Sep 26']\n",
      "Steers: [9, 10, 7, 7, 7, 7, 7, 7, 7, 7, 7, 7]\n",
      "\n",
      "Pastures=5: ['17N', '31E', '24W', '26E', '25SE']\n",
      "Weeks=12 (start dates): ['Jun 06', 'Jun 20', 'Jul 04', 'Jul 18', 'Jul 25', 'Aug 01', 'Aug 08', 'Aug 15', 'Sep 05', 'Sep 12', 'Sep 19', 'Sep 26']\n",
      "Steers: [10, 8, 8, 7, 8, 8, 8, 8, 6, 6, 6, 7]\n",
      "\n",
      "Pastures=5: ['19N', '20SE', '24W', '15E', '26E']\n",
      "Weeks=12 (start dates): ['May 23', 'Jun 06', 'Jun 20', 'Jul 04', 'Jul 18', 'Jul 25', 'Aug 01', 'Aug 08', 'Aug 15', 'Sep 12', 'Sep 19', 'Sep 26']\n",
      "Steers: [9, 10, 7, 8, 7, 6, 6, 7, 7, 7, 7, 7]\n",
      "\n",
      "Pastures=5: ['19N', '20SE', '24W', '26E', '25SE']\n",
      "Weeks=12 (start dates): ['Jun 06', 'Jun 20', 'Jul 04', 'Jul 18', 'Jul 25', 'Aug 01', 'Aug 08', 'Aug 15', 'Sep 05', 'Sep 12', 'Sep 19', 'Sep 26']\n",
      "Steers: [10, 8, 9, 7, 7, 7, 8, 8, 6, 6, 6, 7]\n",
      "\n",
      "Pastures=5: ['19N', '31E', '24W', '15E', '26E']\n",
      "Weeks=12 (start dates): ['May 23', 'Jun 06', 'Jun 20', 'Jul 04', 'Jul 18', 'Jul 25', 'Aug 01', 'Aug 08', 'Aug 15', 'Sep 12', 'Sep 19', 'Sep 26']\n",
      "Steers: [9, 10, 7, 7, 7, 6, 6, 7, 7, 6, 6, 6]\n",
      "\n",
      "Pastures=5: ['19N', '31E', '24W', '26E', '25SE']\n",
      "Weeks=12 (start dates): ['Jun 06', 'Jun 20', 'Jul 04', 'Jul 18', 'Jul 25', 'Aug 01', 'Aug 08', 'Aug 15', 'Sep 05', 'Sep 12', 'Sep 19', 'Sep 26']\n",
      "Steers: [10, 8, 8, 7, 7, 7, 8, 8, 5, 5, 5, 6]\n",
      "\n",
      "Pastures=5: ['20SE', '31E', '24W', '15E', '26E']\n",
      "Weeks=12 (start dates): ['May 23', 'Jun 06', 'Jun 20', 'Jul 04', 'Jul 18', 'Jul 25', 'Aug 01', 'Aug 08', 'Aug 15', 'Sep 12', 'Sep 19', 'Sep 26']\n",
      "Steers: [9, 10, 7, 7, 7, 7, 7, 7, 7, 7, 7, 7]\n",
      "\n",
      "Pastures=5: ['20SE', '31E', '24W', '26E', '25SE']\n",
      "Weeks=12 (start dates): ['Jun 06', 'Jun 20', 'Jul 04', 'Jul 18', 'Jul 25', 'Aug 01', 'Aug 08', 'Aug 15', 'Sep 05', 'Sep 12', 'Sep 19', 'Sep 26']\n",
      "Steers: [10, 8, 8, 7, 8, 8, 8, 8, 6, 6, 6, 7]\n",
      "\n",
      "Pastures=5: ['5E', '24W', '15E', '26E', '25SE']\n",
      "Weeks=11 (start dates): ['Jun 06', 'Jun 20', 'Jul 04', 'Jul 18', 'Jul 25', 'Aug 01', 'Aug 08', 'Aug 15', 'Sep 12', 'Sep 19', 'Sep 26']\n",
      "Steers: [12, 8, 9, 7, 8, 8, 8, 8, 8, 9, 10]\n",
      "\n",
      "Pastures=5: ['7NW', '24W', '15E', '26E', '25SE']\n",
      "Weeks=11 (start dates): ['Jun 06', 'Jun 20', 'Jul 04', 'Jul 18', 'Jul 25', 'Aug 01', 'Aug 08', 'Aug 15', 'Sep 12', 'Sep 19', 'Sep 26']\n",
      "Steers: [9, 7, 7, 6, 7, 7, 7, 7, 7, 7, 8]\n",
      "\n",
      "Pastures=5: ['17N', '24W', '15E', '26E', '25SE']\n",
      "Weeks=11 (start dates): ['Jun 06', 'Jun 20', 'Jul 04', 'Jul 18', 'Jul 25', 'Aug 01', 'Aug 08', 'Aug 15', 'Sep 12', 'Sep 19', 'Sep 26']\n",
      "Steers: [10, 7, 8, 6, 7, 7, 7, 7, 7, 7, 8]\n",
      "\n",
      "Pastures=5: ['19N', '24W', '15E', '26E', '25SE']\n",
      "Weeks=11 (start dates): ['Jun 06', 'Jun 20', 'Jul 04', 'Jul 18', 'Jul 25', 'Aug 01', 'Aug 08', 'Aug 15', 'Sep 12', 'Sep 19', 'Sep 26']\n",
      "Steers: [10, 7, 8, 6, 6, 6, 7, 7, 6, 6, 7]\n",
      "\n",
      "Pastures=5: ['20SE', '24W', '15E', '26E', '25SE']\n",
      "Weeks=11 (start dates): ['Jun 06', 'Jun 20', 'Jul 04', 'Jul 18', 'Jul 25', 'Aug 01', 'Aug 08', 'Aug 15', 'Sep 12', 'Sep 19', 'Sep 26']\n",
      "Steers: [10, 7, 8, 6, 7, 7, 7, 7, 7, 7, 8]\n",
      "\n",
      "Pastures=5: ['31E', '24W', '15E', '26E', '25SE']\n",
      "Weeks=11 (start dates): ['Jun 06', 'Jun 20', 'Jul 04', 'Jul 18', 'Jul 25', 'Aug 01', 'Aug 08', 'Aug 15', 'Sep 12', 'Sep 19', 'Sep 26']\n",
      "Steers: [10, 7, 7, 6, 7, 7, 7, 7, 6, 6, 7]\n",
      "\n",
      "\n",
      "\n",
      "-------------------------------------\n",
      "No. Pastures: 6\n",
      "Max no. weeks: 18\n",
      "-------------------------------------\n",
      "Pastures=6: ['5E', '7NW', '17N', '19N', '20SE', '31E']\n",
      "Weeks=18 (start dates): ['May 16', 'May 23', 'May 30', 'Jun 06', 'Jun 13', 'Jun 20', 'Jul 04', 'Jul 11', 'Jul 18', 'Jul 25', 'Aug 01', 'Aug 08', 'Aug 15', 'Aug 22', 'Sep 05', 'Sep 12', 'Sep 19', 'Sep 26']\n",
      "Steers: [11, 13, 13, 13, 12, 13, 11, 13, 13, 12, 12, 13, 13, 13, 10, 11, 12, 12]\n",
      "\n",
      "Pastures=6: ['5E', '7NW', '17N', '19N', '20SE', '24W']\n",
      "Weeks=16 (start dates): ['May 16', 'May 23', 'Jun 06', 'Jun 13', 'Jun 20', 'Jul 04', 'Jul 11', 'Jul 18', 'Jul 25', 'Aug 01', 'Aug 08', 'Aug 15', 'Sep 05', 'Sep 12', 'Sep 19', 'Sep 26']\n",
      "Steers: [11, 13, 13, 12, 12, 12, 13, 12, 11, 11, 12, 12, 10, 11, 12, 12]\n",
      "\n",
      "Pastures=6: ['5E', '7NW', '17N', '19N', '20SE', '15E']\n",
      "Weeks=16 (start dates): ['May 23', 'May 30', 'Jun 06', 'Jun 13', 'Jun 20', 'Jul 04', 'Jul 11', 'Jul 18', 'Jul 25', 'Aug 01', 'Aug 08', 'Aug 15', 'Aug 22', 'Sep 12', 'Sep 19', 'Sep 26']\n",
      "Steers: [12, 13, 13, 11, 12, 11, 12, 12, 11, 11, 12, 12, 12, 12, 13, 13]\n",
      "\n",
      "Pastures=6: ['5E', '7NW', '17N', '19N', '20SE', '26E']\n",
      "Weeks=16 (start dates): ['May 16', 'May 23', 'May 30', 'Jun 06', 'Jun 20', 'Jul 04', 'Jul 18', 'Jul 25', 'Aug 01', 'Aug 08', 'Aug 15', 'Aug 22', 'Sep 05', 'Sep 12', 'Sep 19', 'Sep 26']\n",
      "Steers: [10, 13, 13, 13, 12, 11, 12, 11, 11, 12, 12, 12, 10, 11, 12, 12]\n",
      "\n",
      "Pastures=6: ['5E', '7NW', '17N', '19N', '20SE', '25SE']\n",
      "Weeks=16 (start dates): ['May 30', 'Jun 06', 'Jun 13', 'Jun 20', 'Jul 04', 'Jul 11', 'Jul 18', 'Jul 25', 'Aug 01', 'Aug 08', 'Aug 15', 'Aug 22', 'Sep 05', 'Sep 12', 'Sep 19', 'Sep 26']\n",
      "Steers: [13, 13, 12, 13, 12, 13, 12, 12, 12, 13, 13, 13, 10, 11, 12, 13]\n",
      "\n",
      "Pastures=6: ['5E', '7NW', '17N', '19N', '31E', '24W']\n",
      "Weeks=16 (start dates): ['May 16', 'May 23', 'Jun 06', 'Jun 13', 'Jun 20', 'Jul 04', 'Jul 11', 'Jul 18', 'Jul 25', 'Aug 01', 'Aug 08', 'Aug 15', 'Sep 05', 'Sep 12', 'Sep 19', 'Sep 26']\n",
      "Steers: [12, 13, 13, 12, 12, 11, 13, 12, 11, 11, 12, 12, 9, 10, 11, 11]\n",
      "\n",
      "Pastures=6: ['5E', '7NW', '17N', '19N', '31E', '15E']\n",
      "Weeks=16 (start dates): ['May 23', 'May 30', 'Jun 06', 'Jun 13', 'Jun 20', 'Jul 04', 'Jul 11', 'Jul 18', 'Jul 25', 'Aug 01', 'Aug 08', 'Aug 15', 'Aug 22', 'Sep 12', 'Sep 19', 'Sep 26']\n",
      "Steers: [12, 13, 13, 11, 12, 10, 12, 12, 11, 11, 12, 12, 12, 11, 12, 12]\n",
      "\n",
      "Pastures=6: ['5E', '7NW', '17N', '19N', '31E', '26E']\n",
      "Weeks=16 (start dates): ['May 16', 'May 23', 'May 30', 'Jun 06', 'Jun 20', 'Jul 04', 'Jul 18', 'Jul 25', 'Aug 01', 'Aug 08', 'Aug 15', 'Aug 22', 'Sep 05', 'Sep 12', 'Sep 19', 'Sep 26']\n",
      "Steers: [11, 13, 13, 13, 12, 10, 12, 11, 11, 12, 12, 12, 9, 10, 11, 11]\n",
      "\n",
      "Pastures=6: ['5E', '7NW', '17N', '19N', '31E', '25SE']\n",
      "Weeks=16 (start dates): ['May 30', 'Jun 06', 'Jun 13', 'Jun 20', 'Jul 04', 'Jul 11', 'Jul 18', 'Jul 25', 'Aug 01', 'Aug 08', 'Aug 15', 'Aug 22', 'Sep 05', 'Sep 12', 'Sep 19', 'Sep 26']\n",
      "Steers: [13, 13, 12, 13, 11, 13, 12, 12, 12, 13, 13, 13, 9, 10, 11, 12]\n",
      "\n",
      "Pastures=6: ['5E', '7NW', '17N', '20SE', '31E', '24W']\n",
      "Weeks=16 (start dates): ['May 16', 'May 23', 'Jun 06', 'Jun 13', 'Jun 20', 'Jul 04', 'Jul 11', 'Jul 18', 'Jul 25', 'Aug 01', 'Aug 08', 'Aug 15', 'Sep 05', 'Sep 12', 'Sep 19', 'Sep 26']\n",
      "Steers: [11, 13, 13, 12, 12, 11, 13, 12, 12, 12, 12, 12, 10, 11, 12, 12]\n",
      "\n",
      "Pastures=6: ['5E', '7NW', '17N', '20SE', '31E', '15E']\n",
      "Weeks=16 (start dates): ['May 23', 'May 30', 'Jun 06', 'Jun 13', 'Jun 20', 'Jul 04', 'Jul 11', 'Jul 18', 'Jul 25', 'Aug 01', 'Aug 08', 'Aug 15', 'Aug 22', 'Sep 12', 'Sep 19', 'Sep 26']\n",
      "Steers: [12, 13, 13, 11, 12, 10, 12, 12, 12, 12, 12, 12, 12, 12, 13, 13]\n",
      "\n",
      "Pastures=6: ['5E', '7NW', '17N', '20SE', '31E', '26E']\n",
      "Weeks=16 (start dates): ['May 16', 'May 23', 'May 30', 'Jun 06', 'Jun 20', 'Jul 04', 'Jul 18', 'Jul 25', 'Aug 01', 'Aug 08', 'Aug 15', 'Aug 22', 'Sep 05', 'Sep 12', 'Sep 19', 'Sep 26']\n",
      "Steers: [10, 13, 13, 13, 12, 10, 12, 12, 12, 12, 12, 12, 10, 11, 12, 12]\n",
      "\n",
      "Pastures=6: ['5E', '7NW', '17N', '20SE', '31E', '25SE']\n",
      "Weeks=16 (start dates): ['May 30', 'Jun 06', 'Jun 13', 'Jun 20', 'Jul 04', 'Jul 11', 'Jul 18', 'Jul 25', 'Aug 01', 'Aug 08', 'Aug 15', 'Aug 22', 'Sep 05', 'Sep 12', 'Sep 19', 'Sep 26']\n",
      "Steers: [13, 13, 12, 13, 11, 13, 12, 13, 13, 13, 13, 13, 10, 11, 12, 13]\n",
      "\n",
      "Pastures=6: ['5E', '7NW', '19N', '20SE', '31E', '24W']\n",
      "Weeks=16 (start dates): ['May 16', 'May 23', 'Jun 06', 'Jun 13', 'Jun 20', 'Jul 04', 'Jul 11', 'Jul 18', 'Jul 25', 'Aug 01', 'Aug 08', 'Aug 15', 'Sep 05', 'Sep 12', 'Sep 19', 'Sep 26']\n",
      "Steers: [11, 13, 13, 12, 12, 11, 13, 12, 11, 11, 12, 12, 9, 10, 11, 11]\n",
      "\n",
      "Pastures=6: ['5E', '7NW', '19N', '20SE', '31E', '15E']\n",
      "Weeks=16 (start dates): ['May 23', 'May 30', 'Jun 06', 'Jun 13', 'Jun 20', 'Jul 04', 'Jul 11', 'Jul 18', 'Jul 25', 'Aug 01', 'Aug 08', 'Aug 15', 'Aug 22', 'Sep 12', 'Sep 19', 'Sep 26']\n",
      "Steers: [12, 13, 13, 11, 12, 10, 12, 12, 11, 11, 12, 12, 12, 11, 12, 12]\n",
      "\n",
      "Pastures=6: ['5E', '7NW', '19N', '20SE', '31E', '26E']\n",
      "Weeks=16 (start dates): ['May 16', 'May 23', 'May 30', 'Jun 06', 'Jun 20', 'Jul 04', 'Jul 18', 'Jul 25', 'Aug 01', 'Aug 08', 'Aug 15', 'Aug 22', 'Sep 05', 'Sep 12', 'Sep 19', 'Sep 26']\n",
      "Steers: [10, 13, 13, 13, 12, 10, 12, 11, 11, 12, 12, 12, 9, 10, 11, 11]\n",
      "\n",
      "Pastures=6: ['5E', '7NW', '19N', '20SE', '31E', '25SE']\n",
      "Weeks=16 (start dates): ['May 30', 'Jun 06', 'Jun 13', 'Jun 20', 'Jul 04', 'Jul 11', 'Jul 18', 'Jul 25', 'Aug 01', 'Aug 08', 'Aug 15', 'Aug 22', 'Sep 05', 'Sep 12', 'Sep 19', 'Sep 26']\n",
      "Steers: [13, 13, 12, 13, 11, 13, 12, 12, 12, 13, 13, 13, 9, 10, 11, 12]\n",
      "\n",
      "Pastures=6: ['5E', '17N', '19N', '20SE', '31E', '24W']\n",
      "Weeks=16 (start dates): ['May 16', 'May 23', 'Jun 06', 'Jun 13', 'Jun 20', 'Jul 04', 'Jul 11', 'Jul 18', 'Jul 25', 'Aug 01', 'Aug 08', 'Aug 15', 'Sep 05', 'Sep 12', 'Sep 19', 'Sep 26']\n",
      "Steers: [11, 13, 14, 13, 12, 12, 13, 12, 11, 11, 12, 12, 9, 10, 11, 11]\n",
      "\n",
      "Pastures=6: ['5E', '17N', '19N', '20SE', '31E', '15E']\n",
      "Weeks=16 (start dates): ['May 23', 'May 30', 'Jun 06', 'Jun 13', 'Jun 20', 'Jul 04', 'Jul 11', 'Jul 18', 'Jul 25', 'Aug 01', 'Aug 08', 'Aug 15', 'Aug 22', 'Sep 12', 'Sep 19', 'Sep 26']\n",
      "Steers: [12, 14, 14, 12, 12, 11, 12, 12, 11, 11, 12, 12, 12, 11, 12, 12]\n",
      "\n",
      "Pastures=6: ['5E', '17N', '19N', '20SE', '31E', '26E']\n",
      "Weeks=16 (start dates): ['May 16', 'May 23', 'May 30', 'Jun 06', 'Jun 20', 'Jul 04', 'Jul 18', 'Jul 25', 'Aug 01', 'Aug 08', 'Aug 15', 'Aug 22', 'Sep 05', 'Sep 12', 'Sep 19', 'Sep 26']\n",
      "Steers: [10, 13, 14, 14, 12, 11, 12, 11, 11, 12, 12, 12, 9, 10, 11, 11]\n",
      "\n",
      "Pastures=6: ['5E', '17N', '19N', '20SE', '31E', '25SE']\n",
      "Weeks=16 (start dates): ['May 30', 'Jun 06', 'Jun 13', 'Jun 20', 'Jul 04', 'Jul 11', 'Jul 18', 'Jul 25', 'Aug 01', 'Aug 08', 'Aug 15', 'Aug 22', 'Sep 05', 'Sep 12', 'Sep 19', 'Sep 26']\n",
      "Steers: [14, 14, 13, 13, 12, 13, 12, 12, 12, 13, 13, 13, 9, 10, 11, 12]\n",
      "\n",
      "Pastures=6: ['7NW', '17N', '19N', '20SE', '31E', '24W']\n",
      "Weeks=16 (start dates): ['May 16', 'May 23', 'Jun 06', 'Jun 13', 'Jun 20', 'Jul 04', 'Jul 11', 'Jul 18', 'Jul 25', 'Aug 01', 'Aug 08', 'Aug 15', 'Sep 05', 'Sep 12', 'Sep 19', 'Sep 26']\n",
      "Steers: [11, 12, 11, 11, 11, 10, 12, 11, 10, 10, 11, 11, 9, 9, 9, 9]\n",
      "\n",
      "Pastures=6: ['7NW', '17N', '19N', '20SE', '31E', '15E']\n",
      "Weeks=16 (start dates): ['May 23', 'May 30', 'Jun 06', 'Jun 13', 'Jun 20', 'Jul 04', 'Jul 11', 'Jul 18', 'Jul 25', 'Aug 01', 'Aug 08', 'Aug 15', 'Aug 22', 'Sep 12', 'Sep 19', 'Sep 26']\n",
      "Steers: [11, 11, 11, 10, 11, 9, 11, 11, 10, 10, 11, 11, 11, 10, 10, 10]\n",
      "\n",
      "Pastures=6: ['7NW', '17N', '19N', '20SE', '31E', '26E']\n",
      "Weeks=16 (start dates): ['May 16', 'May 23', 'May 30', 'Jun 06', 'Jun 20', 'Jul 04', 'Jul 18', 'Jul 25', 'Aug 01', 'Aug 08', 'Aug 15', 'Aug 22', 'Sep 05', 'Sep 12', 'Sep 19', 'Sep 26']\n",
      "Steers: [10, 12, 11, 11, 11, 9, 11, 10, 10, 11, 11, 11, 9, 9, 9, 9]\n",
      "\n",
      "Pastures=6: ['7NW', '17N', '19N', '20SE', '31E', '25SE']\n",
      "Weeks=16 (start dates): ['May 30', 'Jun 06', 'Jun 13', 'Jun 20', 'Jul 04', 'Jul 11', 'Jul 18', 'Jul 25', 'Aug 01', 'Aug 08', 'Aug 15', 'Aug 22', 'Sep 05', 'Sep 12', 'Sep 19', 'Sep 26']\n",
      "Steers: [11, 11, 11, 12, 10, 12, 11, 11, 11, 12, 12, 12, 9, 9, 9, 10]\n",
      "\n",
      "Pastures=6: ['5E', '7NW', '17N', '19N', '15E', '25SE']\n",
      "Weeks=15 (start dates): ['May 30', 'Jun 06', 'Jun 13', 'Jun 20', 'Jul 04', 'Jul 11', 'Jul 18', 'Jul 25', 'Aug 01', 'Aug 08', 'Aug 15', 'Aug 22', 'Sep 12', 'Sep 19', 'Sep 26']\n",
      "Steers: [13, 13, 11, 12, 11, 12, 11, 11, 11, 12, 12, 12, 11, 12, 13]\n",
      "\n",
      "Pastures=6: ['5E', '7NW', '17N', '20SE', '15E', '25SE']\n",
      "Weeks=15 (start dates): ['May 30', 'Jun 06', 'Jun 13', 'Jun 20', 'Jul 04', 'Jul 11', 'Jul 18', 'Jul 25', 'Aug 01', 'Aug 08', 'Aug 15', 'Aug 22', 'Sep 12', 'Sep 19', 'Sep 26']\n",
      "Steers: [13, 13, 11, 12, 11, 12, 11, 12, 12, 12, 12, 12, 12, 13, 14]\n",
      "\n",
      "Pastures=6: ['5E', '7NW', '17N', '31E', '15E', '25SE']\n",
      "Weeks=15 (start dates): ['May 30', 'Jun 06', 'Jun 13', 'Jun 20', 'Jul 04', 'Jul 11', 'Jul 18', 'Jul 25', 'Aug 01', 'Aug 08', 'Aug 15', 'Aug 22', 'Sep 12', 'Sep 19', 'Sep 26']\n",
      "Steers: [13, 13, 11, 12, 10, 12, 11, 12, 12, 12, 12, 12, 11, 12, 13]\n",
      "\n",
      "Pastures=6: ['5E', '7NW', '19N', '20SE', '15E', '25SE']\n",
      "Weeks=15 (start dates): ['May 30', 'Jun 06', 'Jun 13', 'Jun 20', 'Jul 04', 'Jul 11', 'Jul 18', 'Jul 25', 'Aug 01', 'Aug 08', 'Aug 15', 'Aug 22', 'Sep 12', 'Sep 19', 'Sep 26']\n",
      "Steers: [13, 13, 11, 12, 11, 12, 11, 11, 11, 12, 12, 12, 11, 12, 13]\n",
      "\n",
      "Pastures=6: ['5E', '7NW', '19N', '31E', '15E', '25SE']\n",
      "Weeks=15 (start dates): ['May 30', 'Jun 06', 'Jun 13', 'Jun 20', 'Jul 04', 'Jul 11', 'Jul 18', 'Jul 25', 'Aug 01', 'Aug 08', 'Aug 15', 'Aug 22', 'Sep 12', 'Sep 19', 'Sep 26']\n",
      "Steers: [13, 13, 11, 12, 10, 12, 11, 11, 11, 12, 12, 12, 10, 11, 12]\n",
      "\n",
      "Pastures=6: ['5E', '7NW', '20SE', '31E', '15E', '25SE']\n",
      "Weeks=15 (start dates): ['May 30', 'Jun 06', 'Jun 13', 'Jun 20', 'Jul 04', 'Jul 11', 'Jul 18', 'Jul 25', 'Aug 01', 'Aug 08', 'Aug 15', 'Aug 22', 'Sep 12', 'Sep 19', 'Sep 26']\n",
      "Steers: [13, 13, 11, 12, 10, 12, 11, 12, 12, 12, 12, 12, 11, 12, 13]\n",
      "\n",
      "Pastures=6: ['5E', '17N', '19N', '20SE', '15E', '25SE']\n",
      "Weeks=15 (start dates): ['May 30', 'Jun 06', 'Jun 13', 'Jun 20', 'Jul 04', 'Jul 11', 'Jul 18', 'Jul 25', 'Aug 01', 'Aug 08', 'Aug 15', 'Aug 22', 'Sep 12', 'Sep 19', 'Sep 26']\n",
      "Steers: [14, 14, 12, 12, 12, 12, 11, 11, 11, 12, 12, 12, 11, 12, 13]\n",
      "\n",
      "Pastures=6: ['5E', '17N', '19N', '31E', '15E', '25SE']\n",
      "Weeks=15 (start dates): ['May 30', 'Jun 06', 'Jun 13', 'Jun 20', 'Jul 04', 'Jul 11', 'Jul 18', 'Jul 25', 'Aug 01', 'Aug 08', 'Aug 15', 'Aug 22', 'Sep 12', 'Sep 19', 'Sep 26']\n",
      "Steers: [14, 14, 12, 12, 11, 12, 11, 11, 11, 12, 12, 12, 10, 11, 12]\n",
      "\n",
      "Pastures=6: ['5E', '17N', '20SE', '31E', '15E', '25SE']\n",
      "Weeks=15 (start dates): ['May 30', 'Jun 06', 'Jun 13', 'Jun 20', 'Jul 04', 'Jul 11', 'Jul 18', 'Jul 25', 'Aug 01', 'Aug 08', 'Aug 15', 'Aug 22', 'Sep 12', 'Sep 19', 'Sep 26']\n",
      "Steers: [14, 14, 12, 12, 11, 12, 11, 12, 12, 12, 12, 12, 11, 12, 13]\n",
      "\n",
      "Pastures=6: ['5E', '19N', '20SE', '31E', '15E', '25SE']\n",
      "Weeks=15 (start dates): ['May 30', 'Jun 06', 'Jun 13', 'Jun 20', 'Jul 04', 'Jul 11', 'Jul 18', 'Jul 25', 'Aug 01', 'Aug 08', 'Aug 15', 'Aug 22', 'Sep 12', 'Sep 19', 'Sep 26']\n",
      "Steers: [14, 14, 12, 12, 11, 12, 11, 11, 11, 12, 12, 12, 10, 11, 12]\n",
      "\n",
      "Pastures=6: ['7NW', '17N', '19N', '20SE', '15E', '25SE']\n",
      "Weeks=15 (start dates): ['May 30', 'Jun 06', 'Jun 13', 'Jun 20', 'Jul 04', 'Jul 11', 'Jul 18', 'Jul 25', 'Aug 01', 'Aug 08', 'Aug 15', 'Aug 22', 'Sep 12', 'Sep 19', 'Sep 26']\n",
      "Steers: [11, 11, 10, 11, 10, 11, 10, 10, 10, 11, 11, 11, 10, 10, 11]\n",
      "\n",
      "Pastures=6: ['7NW', '17N', '19N', '31E', '15E', '25SE']\n",
      "Weeks=15 (start dates): ['May 30', 'Jun 06', 'Jun 13', 'Jun 20', 'Jul 04', 'Jul 11', 'Jul 18', 'Jul 25', 'Aug 01', 'Aug 08', 'Aug 15', 'Aug 22', 'Sep 12', 'Sep 19', 'Sep 26']\n",
      "Steers: [11, 11, 10, 11, 9, 11, 10, 10, 10, 11, 11, 11, 9, 9, 10]\n",
      "\n",
      "Pastures=6: ['7NW', '17N', '20SE', '31E', '15E', '25SE']\n",
      "Weeks=15 (start dates): ['May 30', 'Jun 06', 'Jun 13', 'Jun 20', 'Jul 04', 'Jul 11', 'Jul 18', 'Jul 25', 'Aug 01', 'Aug 08', 'Aug 15', 'Aug 22', 'Sep 12', 'Sep 19', 'Sep 26']\n",
      "Steers: [11, 11, 10, 11, 9, 11, 10, 11, 11, 11, 11, 11, 10, 10, 11]\n",
      "\n",
      "Pastures=6: ['7NW', '19N', '20SE', '31E', '15E', '25SE']\n",
      "Weeks=15 (start dates): ['May 30', 'Jun 06', 'Jun 13', 'Jun 20', 'Jul 04', 'Jul 11', 'Jul 18', 'Jul 25', 'Aug 01', 'Aug 08', 'Aug 15', 'Aug 22', 'Sep 12', 'Sep 19', 'Sep 26']\n",
      "Steers: [11, 11, 10, 11, 9, 11, 10, 10, 10, 11, 11, 11, 9, 9, 10]\n",
      "\n",
      "Pastures=6: ['17N', '19N', '20SE', '31E', '15E', '25SE']\n",
      "Weeks=15 (start dates): ['May 30', 'Jun 06', 'Jun 13', 'Jun 20', 'Jul 04', 'Jul 11', 'Jul 18', 'Jul 25', 'Aug 01', 'Aug 08', 'Aug 15', 'Aug 22', 'Sep 12', 'Sep 19', 'Sep 26']\n",
      "Steers: [12, 12, 11, 11, 10, 11, 10, 10, 10, 11, 11, 11, 9, 9, 10]\n",
      "\n",
      "Pastures=6: ['5E', '7NW', '17N', '19N', '24W', '15E']\n",
      "Weeks=14 (start dates): ['May 23', 'Jun 06', 'Jun 13', 'Jun 20', 'Jul 04', 'Jul 11', 'Jul 18', 'Jul 25', 'Aug 01', 'Aug 08', 'Aug 15', 'Sep 12', 'Sep 19', 'Sep 26']\n",
      "Steers: [12, 13, 11, 11, 11, 12, 11, 10, 10, 11, 11, 11, 12, 12]\n",
      "\n",
      "Pastures=6: ['5E', '7NW', '17N', '19N', '24W', '26E']\n",
      "Weeks=14 (start dates): ['May 16', 'May 23', 'Jun 06', 'Jun 20', 'Jul 04', 'Jul 18', 'Jul 25', 'Aug 01', 'Aug 08', 'Aug 15', 'Sep 05', 'Sep 12', 'Sep 19', 'Sep 26']\n",
      "Steers: [11, 13, 13, 11, 11, 11, 10, 10, 11, 11, 9, 10, 11, 11]\n",
      "\n",
      "Pastures=6: ['5E', '7NW', '17N', '19N', '24W', '25SE']\n",
      "Weeks=14 (start dates): ['Jun 06', 'Jun 13', 'Jun 20', 'Jul 04', 'Jul 11', 'Jul 18', 'Jul 25', 'Aug 01', 'Aug 08', 'Aug 15', 'Sep 05', 'Sep 12', 'Sep 19', 'Sep 26']\n",
      "Steers: [13, 12, 12, 12, 13, 11, 11, 11, 12, 12, 9, 10, 11, 12]\n",
      "\n",
      "Pastures=6: ['5E', '7NW', '17N', '19N', '15E', '26E']\n",
      "Weeks=14 (start dates): ['May 23', 'May 30', 'Jun 06', 'Jun 20', 'Jul 04', 'Jul 18', 'Jul 25', 'Aug 01', 'Aug 08', 'Aug 15', 'Aug 22', 'Sep 12', 'Sep 19', 'Sep 26']\n",
      "Steers: [12, 13, 13, 11, 10, 11, 10, 10, 11, 11, 11, 11, 12, 12]\n",
      "\n",
      "Pastures=6: ['5E', '7NW', '17N', '19N', '26E', '25SE']\n",
      "Weeks=14 (start dates): ['May 30', 'Jun 06', 'Jun 20', 'Jul 04', 'Jul 18', 'Jul 25', 'Aug 01', 'Aug 08', 'Aug 15', 'Aug 22', 'Sep 05', 'Sep 12', 'Sep 19', 'Sep 26']\n",
      "Steers: [13, 13, 12, 11, 11, 11, 11, 12, 12, 12, 9, 10, 11, 12]\n",
      "\n",
      "Pastures=6: ['5E', '7NW', '17N', '20SE', '24W', '15E']\n",
      "Weeks=14 (start dates): ['May 23', 'Jun 06', 'Jun 13', 'Jun 20', 'Jul 04', 'Jul 11', 'Jul 18', 'Jul 25', 'Aug 01', 'Aug 08', 'Aug 15', 'Sep 12', 'Sep 19', 'Sep 26']\n",
      "Steers: [12, 13, 11, 11, 11, 12, 11, 11, 11, 11, 11, 12, 13, 13]\n",
      "\n",
      "Pastures=6: ['5E', '7NW', '17N', '20SE', '24W', '26E']\n",
      "Weeks=14 (start dates): ['May 16', 'May 23', 'Jun 06', 'Jun 20', 'Jul 04', 'Jul 18', 'Jul 25', 'Aug 01', 'Aug 08', 'Aug 15', 'Sep 05', 'Sep 12', 'Sep 19', 'Sep 26']\n",
      "Steers: [10, 13, 13, 11, 11, 11, 11, 11, 11, 11, 10, 11, 12, 12]\n",
      "\n",
      "Pastures=6: ['5E', '7NW', '17N', '20SE', '24W', '25SE']\n",
      "Weeks=14 (start dates): ['Jun 06', 'Jun 13', 'Jun 20', 'Jul 04', 'Jul 11', 'Jul 18', 'Jul 25', 'Aug 01', 'Aug 08', 'Aug 15', 'Sep 05', 'Sep 12', 'Sep 19', 'Sep 26']\n",
      "Steers: [13, 12, 12, 12, 13, 11, 12, 12, 12, 12, 10, 11, 12, 13]\n",
      "\n",
      "Pastures=6: ['5E', '7NW', '17N', '20SE', '15E', '26E']\n",
      "Weeks=14 (start dates): ['May 23', 'May 30', 'Jun 06', 'Jun 20', 'Jul 04', 'Jul 18', 'Jul 25', 'Aug 01', 'Aug 08', 'Aug 15', 'Aug 22', 'Sep 12', 'Sep 19', 'Sep 26']\n",
      "Steers: [12, 13, 13, 11, 10, 11, 11, 11, 11, 11, 11, 12, 13, 13]\n",
      "\n",
      "Pastures=6: ['5E', '7NW', '17N', '20SE', '26E', '25SE']\n",
      "Weeks=14 (start dates): ['May 30', 'Jun 06', 'Jun 20', 'Jul 04', 'Jul 18', 'Jul 25', 'Aug 01', 'Aug 08', 'Aug 15', 'Aug 22', 'Sep 05', 'Sep 12', 'Sep 19', 'Sep 26']\n",
      "Steers: [13, 13, 12, 11, 11, 12, 12, 12, 12, 12, 10, 11, 12, 13]\n",
      "\n",
      "Pastures=6: ['5E', '7NW', '17N', '31E', '24W', '15E']\n",
      "Weeks=14 (start dates): ['May 23', 'Jun 06', 'Jun 13', 'Jun 20', 'Jul 04', 'Jul 11', 'Jul 18', 'Jul 25', 'Aug 01', 'Aug 08', 'Aug 15', 'Sep 12', 'Sep 19', 'Sep 26']\n",
      "Steers: [12, 13, 11, 11, 10, 12, 11, 11, 11, 11, 11, 11, 12, 12]\n",
      "\n",
      "Pastures=6: ['5E', '7NW', '17N', '31E', '24W', '26E']\n",
      "Weeks=14 (start dates): ['May 16', 'May 23', 'Jun 06', 'Jun 20', 'Jul 04', 'Jul 18', 'Jul 25', 'Aug 01', 'Aug 08', 'Aug 15', 'Sep 05', 'Sep 12', 'Sep 19', 'Sep 26']\n",
      "Steers: [11, 13, 13, 11, 10, 11, 11, 11, 11, 11, 9, 10, 11, 11]\n",
      "\n",
      "Pastures=6: ['5E', '7NW', '17N', '31E', '24W', '25SE']\n",
      "Weeks=14 (start dates): ['Jun 06', 'Jun 13', 'Jun 20', 'Jul 04', 'Jul 11', 'Jul 18', 'Jul 25', 'Aug 01', 'Aug 08', 'Aug 15', 'Sep 05', 'Sep 12', 'Sep 19', 'Sep 26']\n",
      "Steers: [13, 12, 12, 11, 13, 11, 12, 12, 12, 12, 9, 10, 11, 12]\n",
      "\n",
      "Pastures=6: ['5E', '7NW', '17N', '31E', '15E', '26E']\n",
      "Weeks=14 (start dates): ['May 23', 'May 30', 'Jun 06', 'Jun 20', 'Jul 04', 'Jul 18', 'Jul 25', 'Aug 01', 'Aug 08', 'Aug 15', 'Aug 22', 'Sep 12', 'Sep 19', 'Sep 26']\n",
      "Steers: [12, 13, 13, 11, 9, 11, 11, 11, 11, 11, 11, 11, 12, 12]\n",
      "\n",
      "Pastures=6: ['5E', '7NW', '17N', '31E', '26E', '25SE']\n",
      "Weeks=14 (start dates): ['May 30', 'Jun 06', 'Jun 20', 'Jul 04', 'Jul 18', 'Jul 25', 'Aug 01', 'Aug 08', 'Aug 15', 'Aug 22', 'Sep 05', 'Sep 12', 'Sep 19', 'Sep 26']\n",
      "Steers: [13, 13, 12, 10, 11, 12, 12, 12, 12, 12, 9, 10, 11, 12]\n",
      "\n",
      "Pastures=6: ['5E', '7NW', '19N', '20SE', '24W', '15E']\n",
      "Weeks=14 (start dates): ['May 23', 'Jun 06', 'Jun 13', 'Jun 20', 'Jul 04', 'Jul 11', 'Jul 18', 'Jul 25', 'Aug 01', 'Aug 08', 'Aug 15', 'Sep 12', 'Sep 19', 'Sep 26']\n",
      "Steers: [12, 13, 11, 11, 11, 12, 11, 10, 10, 11, 11, 11, 12, 12]\n",
      "\n",
      "Pastures=6: ['5E', '7NW', '19N', '20SE', '24W', '26E']\n",
      "Weeks=14 (start dates): ['May 16', 'May 23', 'Jun 06', 'Jun 20', 'Jul 04', 'Jul 18', 'Jul 25', 'Aug 01', 'Aug 08', 'Aug 15', 'Sep 05', 'Sep 12', 'Sep 19', 'Sep 26']\n",
      "Steers: [10, 13, 13, 11, 11, 11, 10, 10, 11, 11, 9, 10, 11, 11]\n",
      "\n",
      "Pastures=6: ['5E', '7NW', '19N', '20SE', '24W', '25SE']\n",
      "Weeks=14 (start dates): ['Jun 06', 'Jun 13', 'Jun 20', 'Jul 04', 'Jul 11', 'Jul 18', 'Jul 25', 'Aug 01', 'Aug 08', 'Aug 15', 'Sep 05', 'Sep 12', 'Sep 19', 'Sep 26']\n",
      "Steers: [13, 12, 12, 12, 13, 11, 11, 11, 12, 12, 9, 10, 11, 12]\n",
      "\n",
      "Pastures=6: ['5E', '7NW', '19N', '20SE', '15E', '26E']\n",
      "Weeks=14 (start dates): ['May 23', 'May 30', 'Jun 06', 'Jun 20', 'Jul 04', 'Jul 18', 'Jul 25', 'Aug 01', 'Aug 08', 'Aug 15', 'Aug 22', 'Sep 12', 'Sep 19', 'Sep 26']\n",
      "Steers: [12, 13, 13, 11, 10, 11, 10, 10, 11, 11, 11, 11, 12, 12]\n",
      "\n",
      "Pastures=6: ['5E', '7NW', '19N', '20SE', '26E', '25SE']\n",
      "Weeks=14 (start dates): ['May 30', 'Jun 06', 'Jun 20', 'Jul 04', 'Jul 18', 'Jul 25', 'Aug 01', 'Aug 08', 'Aug 15', 'Aug 22', 'Sep 05', 'Sep 12', 'Sep 19', 'Sep 26']\n",
      "Steers: [13, 13, 12, 11, 11, 11, 11, 12, 12, 12, 9, 10, 11, 12]\n",
      "\n",
      "Pastures=6: ['5E', '7NW', '19N', '31E', '24W', '15E']\n",
      "Weeks=14 (start dates): ['May 23', 'Jun 06', 'Jun 13', 'Jun 20', 'Jul 04', 'Jul 11', 'Jul 18', 'Jul 25', 'Aug 01', 'Aug 08', 'Aug 15', 'Sep 12', 'Sep 19', 'Sep 26']\n",
      "Steers: [12, 13, 11, 11, 10, 12, 11, 10, 10, 11, 11, 10, 11, 11]\n",
      "\n",
      "Pastures=6: ['5E', '7NW', '19N', '31E', '24W', '26E']\n",
      "Weeks=14 (start dates): ['May 16', 'May 23', 'Jun 06', 'Jun 20', 'Jul 04', 'Jul 18', 'Jul 25', 'Aug 01', 'Aug 08', 'Aug 15', 'Sep 05', 'Sep 12', 'Sep 19', 'Sep 26']\n",
      "Steers: [11, 13, 13, 11, 10, 11, 10, 10, 11, 11, 8, 9, 10, 10]\n",
      "\n",
      "Pastures=6: ['5E', '7NW', '19N', '31E', '24W', '25SE']\n",
      "Weeks=14 (start dates): ['Jun 06', 'Jun 13', 'Jun 20', 'Jul 04', 'Jul 11', 'Jul 18', 'Jul 25', 'Aug 01', 'Aug 08', 'Aug 15', 'Sep 05', 'Sep 12', 'Sep 19', 'Sep 26']\n",
      "Steers: [13, 12, 12, 11, 13, 11, 11, 11, 12, 12, 8, 9, 10, 11]\n",
      "\n",
      "Pastures=6: ['5E', '7NW', '19N', '31E', '15E', '26E']\n",
      "Weeks=14 (start dates): ['May 23', 'May 30', 'Jun 06', 'Jun 20', 'Jul 04', 'Jul 18', 'Jul 25', 'Aug 01', 'Aug 08', 'Aug 15', 'Aug 22', 'Sep 12', 'Sep 19', 'Sep 26']\n",
      "Steers: [12, 13, 13, 11, 9, 11, 10, 10, 11, 11, 11, 10, 11, 11]\n",
      "\n",
      "Pastures=6: ['5E', '7NW', '19N', '31E', '26E', '25SE']\n",
      "Weeks=14 (start dates): ['May 30', 'Jun 06', 'Jun 20', 'Jul 04', 'Jul 18', 'Jul 25', 'Aug 01', 'Aug 08', 'Aug 15', 'Aug 22', 'Sep 05', 'Sep 12', 'Sep 19', 'Sep 26']\n",
      "Steers: [13, 13, 12, 10, 11, 11, 11, 12, 12, 12, 8, 9, 10, 11]\n",
      "\n",
      "Pastures=6: ['5E', '7NW', '20SE', '31E', '24W', '15E']\n",
      "Weeks=14 (start dates): ['May 23', 'Jun 06', 'Jun 13', 'Jun 20', 'Jul 04', 'Jul 11', 'Jul 18', 'Jul 25', 'Aug 01', 'Aug 08', 'Aug 15', 'Sep 12', 'Sep 19', 'Sep 26']\n",
      "Steers: [12, 13, 11, 11, 10, 12, 11, 11, 11, 11, 11, 11, 12, 12]\n",
      "\n",
      "Pastures=6: ['5E', '7NW', '20SE', '31E', '24W', '26E']\n",
      "Weeks=14 (start dates): ['May 16', 'May 23', 'Jun 06', 'Jun 20', 'Jul 04', 'Jul 18', 'Jul 25', 'Aug 01', 'Aug 08', 'Aug 15', 'Sep 05', 'Sep 12', 'Sep 19', 'Sep 26']\n",
      "Steers: [10, 13, 13, 11, 10, 11, 11, 11, 11, 11, 9, 10, 11, 11]\n",
      "\n",
      "Pastures=6: ['5E', '7NW', '20SE', '31E', '24W', '25SE']\n",
      "Weeks=14 (start dates): ['Jun 06', 'Jun 13', 'Jun 20', 'Jul 04', 'Jul 11', 'Jul 18', 'Jul 25', 'Aug 01', 'Aug 08', 'Aug 15', 'Sep 05', 'Sep 12', 'Sep 19', 'Sep 26']\n",
      "Steers: [13, 12, 12, 11, 13, 11, 12, 12, 12, 12, 9, 10, 11, 12]\n",
      "\n",
      "Pastures=6: ['5E', '7NW', '20SE', '31E', '15E', '26E']\n",
      "Weeks=14 (start dates): ['May 23', 'May 30', 'Jun 06', 'Jun 20', 'Jul 04', 'Jul 18', 'Jul 25', 'Aug 01', 'Aug 08', 'Aug 15', 'Aug 22', 'Sep 12', 'Sep 19', 'Sep 26']\n",
      "Steers: [12, 13, 13, 11, 9, 11, 11, 11, 11, 11, 11, 11, 12, 12]\n",
      "\n",
      "Pastures=6: ['5E', '7NW', '20SE', '31E', '26E', '25SE']\n",
      "Weeks=14 (start dates): ['May 30', 'Jun 06', 'Jun 20', 'Jul 04', 'Jul 18', 'Jul 25', 'Aug 01', 'Aug 08', 'Aug 15', 'Aug 22', 'Sep 05', 'Sep 12', 'Sep 19', 'Sep 26']\n",
      "Steers: [13, 13, 12, 10, 11, 12, 12, 12, 12, 12, 9, 10, 11, 12]\n",
      "\n",
      "Pastures=6: ['5E', '17N', '19N', '20SE', '24W', '15E']\n",
      "Weeks=14 (start dates): ['May 23', 'Jun 06', 'Jun 13', 'Jun 20', 'Jul 04', 'Jul 11', 'Jul 18', 'Jul 25', 'Aug 01', 'Aug 08', 'Aug 15', 'Sep 12', 'Sep 19', 'Sep 26']\n",
      "Steers: [12, 14, 12, 11, 12, 12, 11, 10, 10, 11, 11, 11, 12, 12]\n",
      "\n",
      "Pastures=6: ['5E', '17N', '19N', '20SE', '24W', '26E']\n",
      "Weeks=14 (start dates): ['May 16', 'May 23', 'Jun 06', 'Jun 20', 'Jul 04', 'Jul 18', 'Jul 25', 'Aug 01', 'Aug 08', 'Aug 15', 'Sep 05', 'Sep 12', 'Sep 19', 'Sep 26']\n",
      "Steers: [10, 13, 14, 11, 12, 11, 10, 10, 11, 11, 9, 10, 11, 11]\n",
      "\n",
      "Pastures=6: ['5E', '17N', '19N', '20SE', '24W', '25SE']\n",
      "Weeks=14 (start dates): ['Jun 06', 'Jun 13', 'Jun 20', 'Jul 04', 'Jul 11', 'Jul 18', 'Jul 25', 'Aug 01', 'Aug 08', 'Aug 15', 'Sep 05', 'Sep 12', 'Sep 19', 'Sep 26']\n",
      "Steers: [14, 13, 12, 13, 13, 11, 11, 11, 12, 12, 9, 10, 11, 12]\n",
      "\n",
      "Pastures=6: ['5E', '17N', '19N', '20SE', '15E', '26E']\n",
      "Weeks=14 (start dates): ['May 23', 'May 30', 'Jun 06', 'Jun 20', 'Jul 04', 'Jul 18', 'Jul 25', 'Aug 01', 'Aug 08', 'Aug 15', 'Aug 22', 'Sep 12', 'Sep 19', 'Sep 26']\n",
      "Steers: [12, 14, 14, 11, 11, 11, 10, 10, 11, 11, 11, 11, 12, 12]\n",
      "\n",
      "Pastures=6: ['5E', '17N', '19N', '20SE', '26E', '25SE']\n",
      "Weeks=14 (start dates): ['May 30', 'Jun 06', 'Jun 20', 'Jul 04', 'Jul 18', 'Jul 25', 'Aug 01', 'Aug 08', 'Aug 15', 'Aug 22', 'Sep 05', 'Sep 12', 'Sep 19', 'Sep 26']\n",
      "Steers: [14, 14, 12, 12, 11, 11, 11, 12, 12, 12, 9, 10, 11, 12]\n",
      "\n",
      "Pastures=6: ['5E', '17N', '19N', '31E', '24W', '15E']\n",
      "Weeks=14 (start dates): ['May 23', 'Jun 06', 'Jun 13', 'Jun 20', 'Jul 04', 'Jul 11', 'Jul 18', 'Jul 25', 'Aug 01', 'Aug 08', 'Aug 15', 'Sep 12', 'Sep 19', 'Sep 26']\n",
      "Steers: [12, 14, 12, 11, 11, 12, 11, 10, 10, 11, 11, 10, 11, 11]\n",
      "\n",
      "Pastures=6: ['5E', '17N', '19N', '31E', '24W', '26E']\n",
      "Weeks=14 (start dates): ['May 16', 'May 23', 'Jun 06', 'Jun 20', 'Jul 04', 'Jul 18', 'Jul 25', 'Aug 01', 'Aug 08', 'Aug 15', 'Sep 05', 'Sep 12', 'Sep 19', 'Sep 26']\n",
      "Steers: [11, 13, 14, 11, 11, 11, 10, 10, 11, 11, 8, 9, 10, 10]\n",
      "\n",
      "Pastures=6: ['5E', '17N', '19N', '31E', '24W', '25SE']\n",
      "Weeks=14 (start dates): ['Jun 06', 'Jun 13', 'Jun 20', 'Jul 04', 'Jul 11', 'Jul 18', 'Jul 25', 'Aug 01', 'Aug 08', 'Aug 15', 'Sep 05', 'Sep 12', 'Sep 19', 'Sep 26']\n",
      "Steers: [14, 13, 12, 12, 13, 11, 11, 11, 12, 12, 8, 9, 10, 11]\n",
      "\n",
      "Pastures=6: ['5E', '17N', '19N', '31E', '15E', '26E']\n",
      "Weeks=14 (start dates): ['May 23', 'May 30', 'Jun 06', 'Jun 20', 'Jul 04', 'Jul 18', 'Jul 25', 'Aug 01', 'Aug 08', 'Aug 15', 'Aug 22', 'Sep 12', 'Sep 19', 'Sep 26']\n",
      "Steers: [12, 14, 14, 11, 10, 11, 10, 10, 11, 11, 11, 10, 11, 11]\n",
      "\n",
      "Pastures=6: ['5E', '17N', '19N', '31E', '26E', '25SE']\n",
      "Weeks=14 (start dates): ['May 30', 'Jun 06', 'Jun 20', 'Jul 04', 'Jul 18', 'Jul 25', 'Aug 01', 'Aug 08', 'Aug 15', 'Aug 22', 'Sep 05', 'Sep 12', 'Sep 19', 'Sep 26']\n",
      "Steers: [14, 14, 12, 11, 11, 11, 11, 12, 12, 12, 8, 9, 10, 11]\n",
      "\n",
      "Pastures=6: ['5E', '17N', '20SE', '31E', '24W', '15E']\n",
      "Weeks=14 (start dates): ['May 23', 'Jun 06', 'Jun 13', 'Jun 20', 'Jul 04', 'Jul 11', 'Jul 18', 'Jul 25', 'Aug 01', 'Aug 08', 'Aug 15', 'Sep 12', 'Sep 19', 'Sep 26']\n",
      "Steers: [12, 14, 12, 11, 11, 12, 11, 11, 11, 11, 11, 11, 12, 12]\n",
      "\n",
      "Pastures=6: ['5E', '17N', '20SE', '31E', '24W', '26E']\n",
      "Weeks=14 (start dates): ['May 16', 'May 23', 'Jun 06', 'Jun 20', 'Jul 04', 'Jul 18', 'Jul 25', 'Aug 01', 'Aug 08', 'Aug 15', 'Sep 05', 'Sep 12', 'Sep 19', 'Sep 26']\n",
      "Steers: [10, 13, 14, 11, 11, 11, 11, 11, 11, 11, 9, 10, 11, 11]\n",
      "\n",
      "Pastures=6: ['5E', '17N', '20SE', '31E', '24W', '25SE']\n",
      "Weeks=14 (start dates): ['Jun 06', 'Jun 13', 'Jun 20', 'Jul 04', 'Jul 11', 'Jul 18', 'Jul 25', 'Aug 01', 'Aug 08', 'Aug 15', 'Sep 05', 'Sep 12', 'Sep 19', 'Sep 26']\n",
      "Steers: [14, 13, 12, 12, 13, 11, 12, 12, 12, 12, 9, 10, 11, 12]\n",
      "\n",
      "Pastures=6: ['5E', '17N', '20SE', '31E', '15E', '26E']\n",
      "Weeks=14 (start dates): ['May 23', 'May 30', 'Jun 06', 'Jun 20', 'Jul 04', 'Jul 18', 'Jul 25', 'Aug 01', 'Aug 08', 'Aug 15', 'Aug 22', 'Sep 12', 'Sep 19', 'Sep 26']\n",
      "Steers: [12, 14, 14, 11, 10, 11, 11, 11, 11, 11, 11, 11, 12, 12]\n",
      "\n",
      "Pastures=6: ['5E', '17N', '20SE', '31E', '26E', '25SE']\n",
      "Weeks=14 (start dates): ['May 30', 'Jun 06', 'Jun 20', 'Jul 04', 'Jul 18', 'Jul 25', 'Aug 01', 'Aug 08', 'Aug 15', 'Aug 22', 'Sep 05', 'Sep 12', 'Sep 19', 'Sep 26']\n",
      "Steers: [14, 14, 12, 11, 11, 12, 12, 12, 12, 12, 9, 10, 11, 12]\n",
      "\n",
      "Pastures=6: ['5E', '19N', '20SE', '31E', '24W', '15E']\n",
      "Weeks=14 (start dates): ['May 23', 'Jun 06', 'Jun 13', 'Jun 20', 'Jul 04', 'Jul 11', 'Jul 18', 'Jul 25', 'Aug 01', 'Aug 08', 'Aug 15', 'Sep 12', 'Sep 19', 'Sep 26']\n",
      "Steers: [12, 14, 12, 11, 11, 12, 11, 10, 10, 11, 11, 10, 11, 11]\n",
      "\n",
      "Pastures=6: ['5E', '19N', '20SE', '31E', '24W', '26E']\n",
      "Weeks=14 (start dates): ['May 16', 'May 23', 'Jun 06', 'Jun 20', 'Jul 04', 'Jul 18', 'Jul 25', 'Aug 01', 'Aug 08', 'Aug 15', 'Sep 05', 'Sep 12', 'Sep 19', 'Sep 26']\n",
      "Steers: [10, 13, 14, 11, 11, 11, 10, 10, 11, 11, 8, 9, 10, 10]\n",
      "\n",
      "Pastures=6: ['5E', '19N', '20SE', '31E', '24W', '25SE']\n",
      "Weeks=14 (start dates): ['Jun 06', 'Jun 13', 'Jun 20', 'Jul 04', 'Jul 11', 'Jul 18', 'Jul 25', 'Aug 01', 'Aug 08', 'Aug 15', 'Sep 05', 'Sep 12', 'Sep 19', 'Sep 26']\n",
      "Steers: [14, 13, 12, 12, 13, 11, 11, 11, 12, 12, 8, 9, 10, 11]\n",
      "\n",
      "Pastures=6: ['5E', '19N', '20SE', '31E', '15E', '26E']\n",
      "Weeks=14 (start dates): ['May 23', 'May 30', 'Jun 06', 'Jun 20', 'Jul 04', 'Jul 18', 'Jul 25', 'Aug 01', 'Aug 08', 'Aug 15', 'Aug 22', 'Sep 12', 'Sep 19', 'Sep 26']\n",
      "Steers: [12, 14, 14, 11, 10, 11, 10, 10, 11, 11, 11, 10, 11, 11]\n",
      "\n",
      "Pastures=6: ['5E', '19N', '20SE', '31E', '26E', '25SE']\n",
      "Weeks=14 (start dates): ['May 30', 'Jun 06', 'Jun 20', 'Jul 04', 'Jul 18', 'Jul 25', 'Aug 01', 'Aug 08', 'Aug 15', 'Aug 22', 'Sep 05', 'Sep 12', 'Sep 19', 'Sep 26']\n",
      "Steers: [14, 14, 12, 11, 11, 11, 11, 12, 12, 12, 8, 9, 10, 11]\n",
      "\n",
      "Pastures=6: ['7NW', '17N', '19N', '20SE', '24W', '15E']\n",
      "Weeks=14 (start dates): ['May 23', 'Jun 06', 'Jun 13', 'Jun 20', 'Jul 04', 'Jul 11', 'Jul 18', 'Jul 25', 'Aug 01', 'Aug 08', 'Aug 15', 'Sep 12', 'Sep 19', 'Sep 26']\n",
      "Steers: [11, 11, 10, 10, 10, 11, 10, 9, 9, 10, 10, 10, 10, 10]\n",
      "\n",
      "Pastures=6: ['7NW', '17N', '19N', '20SE', '24W', '26E']\n",
      "Weeks=14 (start dates): ['May 16', 'May 23', 'Jun 06', 'Jun 20', 'Jul 04', 'Jul 18', 'Jul 25', 'Aug 01', 'Aug 08', 'Aug 15', 'Sep 05', 'Sep 12', 'Sep 19', 'Sep 26']\n",
      "Steers: [10, 12, 11, 10, 10, 10, 9, 9, 10, 10, 9, 9, 9, 9]\n",
      "\n",
      "Pastures=6: ['7NW', '17N', '19N', '20SE', '24W', '25SE']\n",
      "Weeks=14 (start dates): ['Jun 06', 'Jun 13', 'Jun 20', 'Jul 04', 'Jul 11', 'Jul 18', 'Jul 25', 'Aug 01', 'Aug 08', 'Aug 15', 'Sep 05', 'Sep 12', 'Sep 19', 'Sep 26']\n",
      "Steers: [11, 11, 11, 11, 12, 10, 10, 10, 11, 11, 9, 9, 9, 10]\n",
      "\n",
      "Pastures=6: ['7NW', '17N', '19N', '20SE', '15E', '26E']\n",
      "Weeks=14 (start dates): ['May 23', 'May 30', 'Jun 06', 'Jun 20', 'Jul 04', 'Jul 18', 'Jul 25', 'Aug 01', 'Aug 08', 'Aug 15', 'Aug 22', 'Sep 12', 'Sep 19', 'Sep 26']\n",
      "Steers: [11, 11, 11, 10, 9, 10, 9, 9, 10, 10, 10, 10, 10, 10]\n",
      "\n",
      "Pastures=6: ['7NW', '17N', '19N', '20SE', '26E', '25SE']\n",
      "Weeks=14 (start dates): ['May 30', 'Jun 06', 'Jun 20', 'Jul 04', 'Jul 18', 'Jul 25', 'Aug 01', 'Aug 08', 'Aug 15', 'Aug 22', 'Sep 05', 'Sep 12', 'Sep 19', 'Sep 26']\n",
      "Steers: [11, 11, 11, 10, 10, 10, 10, 11, 11, 11, 9, 9, 9, 10]\n",
      "\n",
      "Pastures=6: ['7NW', '17N', '19N', '31E', '24W', '15E']\n",
      "Weeks=14 (start dates): ['May 23', 'Jun 06', 'Jun 13', 'Jun 20', 'Jul 04', 'Jul 11', 'Jul 18', 'Jul 25', 'Aug 01', 'Aug 08', 'Aug 15', 'Sep 12', 'Sep 19', 'Sep 26']\n",
      "Steers: [11, 11, 10, 10, 9, 11, 10, 9, 9, 10, 10, 9, 9, 9]\n",
      "\n",
      "Pastures=6: ['7NW', '17N', '19N', '31E', '24W', '26E']\n",
      "Weeks=14 (start dates): ['May 16', 'May 23', 'Jun 06', 'Jun 20', 'Jul 04', 'Jul 18', 'Jul 25', 'Aug 01', 'Aug 08', 'Aug 15', 'Sep 05', 'Sep 12', 'Sep 19', 'Sep 26']\n",
      "Steers: [11, 12, 11, 10, 9, 10, 9, 9, 10, 10, 8, 8, 8, 8]\n",
      "\n",
      "Pastures=6: ['7NW', '17N', '19N', '31E', '24W', '25SE']\n",
      "Weeks=14 (start dates): ['Jun 06', 'Jun 13', 'Jun 20', 'Jul 04', 'Jul 11', 'Jul 18', 'Jul 25', 'Aug 01', 'Aug 08', 'Aug 15', 'Sep 05', 'Sep 12', 'Sep 19', 'Sep 26']\n",
      "Steers: [11, 11, 11, 10, 12, 10, 10, 10, 11, 11, 8, 8, 8, 9]\n",
      "\n",
      "Pastures=6: ['7NW', '17N', '19N', '31E', '15E', '26E']\n",
      "Weeks=14 (start dates): ['May 23', 'May 30', 'Jun 06', 'Jun 20', 'Jul 04', 'Jul 18', 'Jul 25', 'Aug 01', 'Aug 08', 'Aug 15', 'Aug 22', 'Sep 12', 'Sep 19', 'Sep 26']\n",
      "Steers: [11, 11, 11, 10, 8, 10, 9, 9, 10, 10, 10, 9, 9, 9]\n",
      "\n",
      "Pastures=6: ['7NW', '17N', '19N', '31E', '26E', '25SE']\n",
      "Weeks=14 (start dates): ['May 30', 'Jun 06', 'Jun 20', 'Jul 04', 'Jul 18', 'Jul 25', 'Aug 01', 'Aug 08', 'Aug 15', 'Aug 22', 'Sep 05', 'Sep 12', 'Sep 19', 'Sep 26']\n",
      "Steers: [11, 11, 11, 9, 10, 10, 10, 11, 11, 11, 8, 8, 8, 9]\n",
      "\n",
      "Pastures=6: ['7NW', '17N', '20SE', '31E', '24W', '15E']\n",
      "Weeks=14 (start dates): ['May 23', 'Jun 06', 'Jun 13', 'Jun 20', 'Jul 04', 'Jul 11', 'Jul 18', 'Jul 25', 'Aug 01', 'Aug 08', 'Aug 15', 'Sep 12', 'Sep 19', 'Sep 26']\n",
      "Steers: [11, 11, 10, 10, 9, 11, 10, 10, 10, 10, 10, 10, 10, 10]\n",
      "\n",
      "Pastures=6: ['7NW', '17N', '20SE', '31E', '24W', '26E']\n",
      "Weeks=14 (start dates): ['May 16', 'May 23', 'Jun 06', 'Jun 20', 'Jul 04', 'Jul 18', 'Jul 25', 'Aug 01', 'Aug 08', 'Aug 15', 'Sep 05', 'Sep 12', 'Sep 19', 'Sep 26']\n",
      "Steers: [10, 12, 11, 10, 9, 10, 10, 10, 10, 10, 9, 9, 9, 9]\n",
      "\n",
      "Pastures=6: ['7NW', '17N', '20SE', '31E', '24W', '25SE']\n",
      "Weeks=14 (start dates): ['Jun 06', 'Jun 13', 'Jun 20', 'Jul 04', 'Jul 11', 'Jul 18', 'Jul 25', 'Aug 01', 'Aug 08', 'Aug 15', 'Sep 05', 'Sep 12', 'Sep 19', 'Sep 26']\n",
      "Steers: [11, 11, 11, 10, 12, 10, 11, 11, 11, 11, 9, 9, 9, 10]\n",
      "\n",
      "Pastures=6: ['7NW', '17N', '20SE', '31E', '15E', '26E']\n",
      "Weeks=14 (start dates): ['May 23', 'May 30', 'Jun 06', 'Jun 20', 'Jul 04', 'Jul 18', 'Jul 25', 'Aug 01', 'Aug 08', 'Aug 15', 'Aug 22', 'Sep 12', 'Sep 19', 'Sep 26']\n",
      "Steers: [11, 11, 11, 10, 8, 10, 10, 10, 10, 10, 10, 10, 10, 10]\n",
      "\n",
      "Pastures=6: ['7NW', '17N', '20SE', '31E', '26E', '25SE']\n",
      "Weeks=14 (start dates): ['May 30', 'Jun 06', 'Jun 20', 'Jul 04', 'Jul 18', 'Jul 25', 'Aug 01', 'Aug 08', 'Aug 15', 'Aug 22', 'Sep 05', 'Sep 12', 'Sep 19', 'Sep 26']\n",
      "Steers: [11, 11, 11, 9, 10, 11, 11, 11, 11, 11, 9, 9, 9, 10]\n",
      "\n",
      "Pastures=6: ['7NW', '19N', '20SE', '31E', '24W', '15E']\n",
      "Weeks=14 (start dates): ['May 23', 'Jun 06', 'Jun 13', 'Jun 20', 'Jul 04', 'Jul 11', 'Jul 18', 'Jul 25', 'Aug 01', 'Aug 08', 'Aug 15', 'Sep 12', 'Sep 19', 'Sep 26']\n",
      "Steers: [11, 11, 10, 10, 9, 11, 10, 9, 9, 10, 10, 9, 9, 9]\n",
      "\n",
      "Pastures=6: ['7NW', '19N', '20SE', '31E', '24W', '26E']\n",
      "Weeks=14 (start dates): ['May 16', 'May 23', 'Jun 06', 'Jun 20', 'Jul 04', 'Jul 18', 'Jul 25', 'Aug 01', 'Aug 08', 'Aug 15', 'Sep 05', 'Sep 12', 'Sep 19', 'Sep 26']\n",
      "Steers: [10, 12, 11, 10, 9, 10, 9, 9, 10, 10, 8, 8, 8, 8]\n",
      "\n",
      "Pastures=6: ['7NW', '19N', '20SE', '31E', '24W', '25SE']\n",
      "Weeks=14 (start dates): ['Jun 06', 'Jun 13', 'Jun 20', 'Jul 04', 'Jul 11', 'Jul 18', 'Jul 25', 'Aug 01', 'Aug 08', 'Aug 15', 'Sep 05', 'Sep 12', 'Sep 19', 'Sep 26']\n",
      "Steers: [11, 11, 11, 10, 12, 10, 10, 10, 11, 11, 8, 8, 8, 9]\n",
      "\n",
      "Pastures=6: ['7NW', '19N', '20SE', '31E', '15E', '26E']\n",
      "Weeks=14 (start dates): ['May 23', 'May 30', 'Jun 06', 'Jun 20', 'Jul 04', 'Jul 18', 'Jul 25', 'Aug 01', 'Aug 08', 'Aug 15', 'Aug 22', 'Sep 12', 'Sep 19', 'Sep 26']\n",
      "Steers: [11, 11, 11, 10, 8, 10, 9, 9, 10, 10, 10, 9, 9, 9]\n",
      "\n",
      "Pastures=6: ['7NW', '19N', '20SE', '31E', '26E', '25SE']\n",
      "Weeks=14 (start dates): ['May 30', 'Jun 06', 'Jun 20', 'Jul 04', 'Jul 18', 'Jul 25', 'Aug 01', 'Aug 08', 'Aug 15', 'Aug 22', 'Sep 05', 'Sep 12', 'Sep 19', 'Sep 26']\n",
      "Steers: [11, 11, 11, 9, 10, 10, 10, 11, 11, 11, 8, 8, 8, 9]\n",
      "\n",
      "Pastures=6: ['17N', '19N', '20SE', '31E', '24W', '15E']\n",
      "Weeks=14 (start dates): ['May 23', 'Jun 06', 'Jun 13', 'Jun 20', 'Jul 04', 'Jul 11', 'Jul 18', 'Jul 25', 'Aug 01', 'Aug 08', 'Aug 15', 'Sep 12', 'Sep 19', 'Sep 26']\n",
      "Steers: [11, 12, 11, 10, 10, 11, 10, 9, 9, 10, 10, 9, 9, 9]\n",
      "\n",
      "Pastures=6: ['17N', '19N', '20SE', '31E', '24W', '26E']\n",
      "Weeks=14 (start dates): ['May 16', 'May 23', 'Jun 06', 'Jun 20', 'Jul 04', 'Jul 18', 'Jul 25', 'Aug 01', 'Aug 08', 'Aug 15', 'Sep 05', 'Sep 12', 'Sep 19', 'Sep 26']\n",
      "Steers: [10, 12, 12, 10, 10, 10, 9, 9, 10, 10, 8, 8, 8, 8]\n",
      "\n",
      "Pastures=6: ['17N', '19N', '20SE', '31E', '24W', '25SE']\n",
      "Weeks=14 (start dates): ['Jun 06', 'Jun 13', 'Jun 20', 'Jul 04', 'Jul 11', 'Jul 18', 'Jul 25', 'Aug 01', 'Aug 08', 'Aug 15', 'Sep 05', 'Sep 12', 'Sep 19', 'Sep 26']\n",
      "Steers: [12, 12, 11, 11, 12, 10, 10, 10, 11, 11, 8, 8, 8, 9]\n",
      "\n",
      "Pastures=6: ['17N', '19N', '20SE', '31E', '15E', '26E']\n",
      "Weeks=14 (start dates): ['May 23', 'May 30', 'Jun 06', 'Jun 20', 'Jul 04', 'Jul 18', 'Jul 25', 'Aug 01', 'Aug 08', 'Aug 15', 'Aug 22', 'Sep 12', 'Sep 19', 'Sep 26']\n",
      "Steers: [11, 12, 12, 10, 9, 10, 9, 9, 10, 10, 10, 9, 9, 9]\n",
      "\n",
      "Pastures=6: ['17N', '19N', '20SE', '31E', '26E', '25SE']\n",
      "Weeks=14 (start dates): ['May 30', 'Jun 06', 'Jun 20', 'Jul 04', 'Jul 18', 'Jul 25', 'Aug 01', 'Aug 08', 'Aug 15', 'Aug 22', 'Sep 05', 'Sep 12', 'Sep 19', 'Sep 26']\n",
      "Steers: [12, 12, 11, 10, 10, 10, 10, 11, 11, 11, 8, 8, 8, 9]\n",
      "\n",
      "Pastures=6: ['5E', '7NW', '17N', '24W', '15E', '25SE']\n",
      "Weeks=13 (start dates): ['Jun 06', 'Jun 13', 'Jun 20', 'Jul 04', 'Jul 11', 'Jul 18', 'Jul 25', 'Aug 01', 'Aug 08', 'Aug 15', 'Sep 12', 'Sep 19', 'Sep 26']\n",
      "Steers: [13, 11, 11, 11, 12, 10, 11, 11, 11, 11, 11, 12, 13]\n",
      "\n",
      "Pastures=6: ['5E', '7NW', '17N', '15E', '26E', '25SE']\n",
      "Weeks=13 (start dates): ['May 30', 'Jun 06', 'Jun 20', 'Jul 04', 'Jul 18', 'Jul 25', 'Aug 01', 'Aug 08', 'Aug 15', 'Aug 22', 'Sep 12', 'Sep 19', 'Sep 26']\n",
      "Steers: [13, 13, 11, 10, 10, 11, 11, 11, 11, 11, 11, 12, 13]\n",
      "\n",
      "Pastures=6: ['5E', '7NW', '19N', '24W', '15E', '25SE']\n",
      "Weeks=13 (start dates): ['Jun 06', 'Jun 13', 'Jun 20', 'Jul 04', 'Jul 11', 'Jul 18', 'Jul 25', 'Aug 01', 'Aug 08', 'Aug 15', 'Sep 12', 'Sep 19', 'Sep 26']\n",
      "Steers: [13, 11, 11, 11, 12, 10, 10, 10, 11, 11, 10, 11, 12]\n",
      "\n",
      "Pastures=6: ['5E', '7NW', '19N', '15E', '26E', '25SE']\n",
      "Weeks=13 (start dates): ['May 30', 'Jun 06', 'Jun 20', 'Jul 04', 'Jul 18', 'Jul 25', 'Aug 01', 'Aug 08', 'Aug 15', 'Aug 22', 'Sep 12', 'Sep 19', 'Sep 26']\n",
      "Steers: [13, 13, 11, 10, 10, 10, 10, 11, 11, 11, 10, 11, 12]\n",
      "\n",
      "Pastures=6: ['5E', '7NW', '20SE', '24W', '15E', '25SE']\n",
      "Weeks=13 (start dates): ['Jun 06', 'Jun 13', 'Jun 20', 'Jul 04', 'Jul 11', 'Jul 18', 'Jul 25', 'Aug 01', 'Aug 08', 'Aug 15', 'Sep 12', 'Sep 19', 'Sep 26']\n",
      "Steers: [13, 11, 11, 11, 12, 10, 11, 11, 11, 11, 11, 12, 13]\n",
      "\n",
      "Pastures=6: ['5E', '7NW', '20SE', '15E', '26E', '25SE']\n",
      "Weeks=13 (start dates): ['May 30', 'Jun 06', 'Jun 20', 'Jul 04', 'Jul 18', 'Jul 25', 'Aug 01', 'Aug 08', 'Aug 15', 'Aug 22', 'Sep 12', 'Sep 19', 'Sep 26']\n",
      "Steers: [13, 13, 11, 10, 10, 11, 11, 11, 11, 11, 11, 12, 13]\n",
      "\n",
      "Pastures=6: ['5E', '7NW', '31E', '24W', '15E', '25SE']\n",
      "Weeks=13 (start dates): ['Jun 06', 'Jun 13', 'Jun 20', 'Jul 04', 'Jul 11', 'Jul 18', 'Jul 25', 'Aug 01', 'Aug 08', 'Aug 15', 'Sep 12', 'Sep 19', 'Sep 26']\n",
      "Steers: [13, 11, 11, 10, 12, 10, 11, 11, 11, 11, 10, 11, 12]\n",
      "\n",
      "Pastures=6: ['5E', '7NW', '31E', '15E', '26E', '25SE']\n",
      "Weeks=13 (start dates): ['May 30', 'Jun 06', 'Jun 20', 'Jul 04', 'Jul 18', 'Jul 25', 'Aug 01', 'Aug 08', 'Aug 15', 'Aug 22', 'Sep 12', 'Sep 19', 'Sep 26']\n",
      "Steers: [13, 13, 11, 9, 10, 11, 11, 11, 11, 11, 10, 11, 12]\n",
      "\n",
      "Pastures=6: ['5E', '17N', '19N', '24W', '15E', '25SE']\n",
      "Weeks=13 (start dates): ['Jun 06', 'Jun 13', 'Jun 20', 'Jul 04', 'Jul 11', 'Jul 18', 'Jul 25', 'Aug 01', 'Aug 08', 'Aug 15', 'Sep 12', 'Sep 19', 'Sep 26']\n",
      "Steers: [14, 12, 11, 12, 12, 10, 10, 10, 11, 11, 10, 11, 12]\n",
      "\n",
      "Pastures=6: ['5E', '17N', '19N', '15E', '26E', '25SE']\n",
      "Weeks=13 (start dates): ['May 30', 'Jun 06', 'Jun 20', 'Jul 04', 'Jul 18', 'Jul 25', 'Aug 01', 'Aug 08', 'Aug 15', 'Aug 22', 'Sep 12', 'Sep 19', 'Sep 26']\n",
      "Steers: [14, 14, 11, 11, 10, 10, 10, 11, 11, 11, 10, 11, 12]\n",
      "\n",
      "Pastures=6: ['5E', '17N', '20SE', '24W', '15E', '25SE']\n",
      "Weeks=13 (start dates): ['Jun 06', 'Jun 13', 'Jun 20', 'Jul 04', 'Jul 11', 'Jul 18', 'Jul 25', 'Aug 01', 'Aug 08', 'Aug 15', 'Sep 12', 'Sep 19', 'Sep 26']\n",
      "Steers: [14, 12, 11, 12, 12, 10, 11, 11, 11, 11, 11, 12, 13]\n",
      "\n",
      "Pastures=6: ['5E', '17N', '20SE', '15E', '26E', '25SE']\n",
      "Weeks=13 (start dates): ['May 30', 'Jun 06', 'Jun 20', 'Jul 04', 'Jul 18', 'Jul 25', 'Aug 01', 'Aug 08', 'Aug 15', 'Aug 22', 'Sep 12', 'Sep 19', 'Sep 26']\n",
      "Steers: [14, 14, 11, 11, 10, 11, 11, 11, 11, 11, 11, 12, 13]\n",
      "\n",
      "Pastures=6: ['5E', '17N', '31E', '24W', '15E', '25SE']\n",
      "Weeks=13 (start dates): ['Jun 06', 'Jun 13', 'Jun 20', 'Jul 04', 'Jul 11', 'Jul 18', 'Jul 25', 'Aug 01', 'Aug 08', 'Aug 15', 'Sep 12', 'Sep 19', 'Sep 26']\n",
      "Steers: [14, 12, 11, 11, 12, 10, 11, 11, 11, 11, 10, 11, 12]\n",
      "\n",
      "Pastures=6: ['5E', '17N', '31E', '15E', '26E', '25SE']\n",
      "Weeks=13 (start dates): ['May 30', 'Jun 06', 'Jun 20', 'Jul 04', 'Jul 18', 'Jul 25', 'Aug 01', 'Aug 08', 'Aug 15', 'Aug 22', 'Sep 12', 'Sep 19', 'Sep 26']\n",
      "Steers: [14, 14, 11, 10, 10, 11, 11, 11, 11, 11, 10, 11, 12]\n",
      "\n",
      "Pastures=6: ['5E', '19N', '20SE', '24W', '15E', '25SE']\n",
      "Weeks=13 (start dates): ['Jun 06', 'Jun 13', 'Jun 20', 'Jul 04', 'Jul 11', 'Jul 18', 'Jul 25', 'Aug 01', 'Aug 08', 'Aug 15', 'Sep 12', 'Sep 19', 'Sep 26']\n",
      "Steers: [14, 12, 11, 12, 12, 10, 10, 10, 11, 11, 10, 11, 12]\n",
      "\n",
      "Pastures=6: ['5E', '19N', '20SE', '15E', '26E', '25SE']\n",
      "Weeks=13 (start dates): ['May 30', 'Jun 06', 'Jun 20', 'Jul 04', 'Jul 18', 'Jul 25', 'Aug 01', 'Aug 08', 'Aug 15', 'Aug 22', 'Sep 12', 'Sep 19', 'Sep 26']\n",
      "Steers: [14, 14, 11, 11, 10, 10, 10, 11, 11, 11, 10, 11, 12]\n",
      "\n",
      "Pastures=6: ['5E', '19N', '31E', '24W', '15E', '25SE']\n",
      "Weeks=13 (start dates): ['Jun 06', 'Jun 13', 'Jun 20', 'Jul 04', 'Jul 11', 'Jul 18', 'Jul 25', 'Aug 01', 'Aug 08', 'Aug 15', 'Sep 12', 'Sep 19', 'Sep 26']\n",
      "Steers: [14, 12, 11, 11, 12, 10, 10, 10, 11, 11, 9, 10, 11]\n",
      "\n",
      "Pastures=6: ['5E', '19N', '31E', '15E', '26E', '25SE']\n",
      "Weeks=13 (start dates): ['May 30', 'Jun 06', 'Jun 20', 'Jul 04', 'Jul 18', 'Jul 25', 'Aug 01', 'Aug 08', 'Aug 15', 'Aug 22', 'Sep 12', 'Sep 19', 'Sep 26']\n",
      "Steers: [14, 14, 11, 10, 10, 10, 10, 11, 11, 11, 9, 10, 11]\n",
      "\n",
      "Pastures=6: ['5E', '20SE', '31E', '24W', '15E', '25SE']\n",
      "Weeks=13 (start dates): ['Jun 06', 'Jun 13', 'Jun 20', 'Jul 04', 'Jul 11', 'Jul 18', 'Jul 25', 'Aug 01', 'Aug 08', 'Aug 15', 'Sep 12', 'Sep 19', 'Sep 26']\n",
      "Steers: [14, 12, 11, 11, 12, 10, 11, 11, 11, 11, 10, 11, 12]\n",
      "\n",
      "Pastures=6: ['5E', '20SE', '31E', '15E', '26E', '25SE']\n",
      "Weeks=13 (start dates): ['May 30', 'Jun 06', 'Jun 20', 'Jul 04', 'Jul 18', 'Jul 25', 'Aug 01', 'Aug 08', 'Aug 15', 'Aug 22', 'Sep 12', 'Sep 19', 'Sep 26']\n",
      "Steers: [14, 14, 11, 10, 10, 11, 11, 11, 11, 11, 10, 11, 12]\n",
      "\n",
      "Pastures=6: ['7NW', '17N', '19N', '24W', '15E', '25SE']\n",
      "Weeks=13 (start dates): ['Jun 06', 'Jun 13', 'Jun 20', 'Jul 04', 'Jul 11', 'Jul 18', 'Jul 25', 'Aug 01', 'Aug 08', 'Aug 15', 'Sep 12', 'Sep 19', 'Sep 26']\n",
      "Steers: [11, 10, 10, 10, 11, 9, 9, 9, 10, 10, 9, 9, 10]\n",
      "\n",
      "Pastures=6: ['7NW', '17N', '19N', '15E', '26E', '25SE']\n",
      "Weeks=13 (start dates): ['May 30', 'Jun 06', 'Jun 20', 'Jul 04', 'Jul 18', 'Jul 25', 'Aug 01', 'Aug 08', 'Aug 15', 'Aug 22', 'Sep 12', 'Sep 19', 'Sep 26']\n",
      "Steers: [11, 11, 10, 9, 9, 9, 9, 10, 10, 10, 9, 9, 10]\n",
      "\n",
      "Pastures=6: ['7NW', '17N', '20SE', '24W', '15E', '25SE']\n",
      "Weeks=13 (start dates): ['Jun 06', 'Jun 13', 'Jun 20', 'Jul 04', 'Jul 11', 'Jul 18', 'Jul 25', 'Aug 01', 'Aug 08', 'Aug 15', 'Sep 12', 'Sep 19', 'Sep 26']\n",
      "Steers: [11, 10, 10, 10, 11, 9, 10, 10, 10, 10, 10, 10, 11]\n",
      "\n",
      "Pastures=6: ['7NW', '17N', '20SE', '15E', '26E', '25SE']\n",
      "Weeks=13 (start dates): ['May 30', 'Jun 06', 'Jun 20', 'Jul 04', 'Jul 18', 'Jul 25', 'Aug 01', 'Aug 08', 'Aug 15', 'Aug 22', 'Sep 12', 'Sep 19', 'Sep 26']\n",
      "Steers: [11, 11, 10, 9, 9, 10, 10, 10, 10, 10, 10, 10, 11]\n",
      "\n",
      "Pastures=6: ['7NW', '17N', '31E', '24W', '15E', '25SE']\n",
      "Weeks=13 (start dates): ['Jun 06', 'Jun 13', 'Jun 20', 'Jul 04', 'Jul 11', 'Jul 18', 'Jul 25', 'Aug 01', 'Aug 08', 'Aug 15', 'Sep 12', 'Sep 19', 'Sep 26']\n",
      "Steers: [11, 10, 10, 9, 11, 9, 10, 10, 10, 10, 9, 9, 10]\n",
      "\n",
      "Pastures=6: ['7NW', '17N', '31E', '15E', '26E', '25SE']\n",
      "Weeks=13 (start dates): ['May 30', 'Jun 06', 'Jun 20', 'Jul 04', 'Jul 18', 'Jul 25', 'Aug 01', 'Aug 08', 'Aug 15', 'Aug 22', 'Sep 12', 'Sep 19', 'Sep 26']\n",
      "Steers: [11, 11, 10, 8, 9, 10, 10, 10, 10, 10, 9, 9, 10]\n",
      "\n",
      "Pastures=6: ['7NW', '19N', '20SE', '24W', '15E', '25SE']\n",
      "Weeks=13 (start dates): ['Jun 06', 'Jun 13', 'Jun 20', 'Jul 04', 'Jul 11', 'Jul 18', 'Jul 25', 'Aug 01', 'Aug 08', 'Aug 15', 'Sep 12', 'Sep 19', 'Sep 26']\n",
      "Steers: [11, 10, 10, 10, 11, 9, 9, 9, 10, 10, 9, 9, 10]\n",
      "\n",
      "Pastures=6: ['7NW', '19N', '20SE', '15E', '26E', '25SE']\n",
      "Weeks=13 (start dates): ['May 30', 'Jun 06', 'Jun 20', 'Jul 04', 'Jul 18', 'Jul 25', 'Aug 01', 'Aug 08', 'Aug 15', 'Aug 22', 'Sep 12', 'Sep 19', 'Sep 26']\n",
      "Steers: [11, 11, 10, 9, 9, 9, 9, 10, 10, 10, 9, 9, 10]\n",
      "\n",
      "Pastures=6: ['7NW', '19N', '31E', '24W', '15E', '25SE']\n",
      "Weeks=13 (start dates): ['Jun 06', 'Jun 13', 'Jun 20', 'Jul 04', 'Jul 11', 'Jul 18', 'Jul 25', 'Aug 01', 'Aug 08', 'Aug 15', 'Sep 12', 'Sep 19', 'Sep 26']\n",
      "Steers: [11, 10, 10, 9, 11, 9, 9, 9, 10, 10, 8, 8, 9]\n",
      "\n",
      "Pastures=6: ['7NW', '19N', '31E', '15E', '26E', '25SE']\n",
      "Weeks=13 (start dates): ['May 30', 'Jun 06', 'Jun 20', 'Jul 04', 'Jul 18', 'Jul 25', 'Aug 01', 'Aug 08', 'Aug 15', 'Aug 22', 'Sep 12', 'Sep 19', 'Sep 26']\n",
      "Steers: [11, 11, 10, 8, 9, 9, 9, 10, 10, 10, 8, 8, 9]\n",
      "\n",
      "Pastures=6: ['7NW', '20SE', '31E', '24W', '15E', '25SE']\n",
      "Weeks=13 (start dates): ['Jun 06', 'Jun 13', 'Jun 20', 'Jul 04', 'Jul 11', 'Jul 18', 'Jul 25', 'Aug 01', 'Aug 08', 'Aug 15', 'Sep 12', 'Sep 19', 'Sep 26']\n",
      "Steers: [11, 10, 10, 9, 11, 9, 10, 10, 10, 10, 9, 9, 10]\n",
      "\n",
      "Pastures=6: ['7NW', '20SE', '31E', '15E', '26E', '25SE']\n",
      "Weeks=13 (start dates): ['May 30', 'Jun 06', 'Jun 20', 'Jul 04', 'Jul 18', 'Jul 25', 'Aug 01', 'Aug 08', 'Aug 15', 'Aug 22', 'Sep 12', 'Sep 19', 'Sep 26']\n",
      "Steers: [11, 11, 10, 8, 9, 10, 10, 10, 10, 10, 9, 9, 10]\n",
      "\n",
      "Pastures=6: ['17N', '19N', '20SE', '24W', '15E', '25SE']\n",
      "Weeks=13 (start dates): ['Jun 06', 'Jun 13', 'Jun 20', 'Jul 04', 'Jul 11', 'Jul 18', 'Jul 25', 'Aug 01', 'Aug 08', 'Aug 15', 'Sep 12', 'Sep 19', 'Sep 26']\n",
      "Steers: [12, 11, 10, 11, 11, 9, 9, 9, 10, 10, 9, 9, 10]\n",
      "\n",
      "Pastures=6: ['17N', '19N', '20SE', '15E', '26E', '25SE']\n",
      "Weeks=13 (start dates): ['May 30', 'Jun 06', 'Jun 20', 'Jul 04', 'Jul 18', 'Jul 25', 'Aug 01', 'Aug 08', 'Aug 15', 'Aug 22', 'Sep 12', 'Sep 19', 'Sep 26']\n",
      "Steers: [12, 12, 10, 10, 9, 9, 9, 10, 10, 10, 9, 9, 10]\n",
      "\n",
      "Pastures=6: ['17N', '19N', '31E', '24W', '15E', '25SE']\n",
      "Weeks=13 (start dates): ['Jun 06', 'Jun 13', 'Jun 20', 'Jul 04', 'Jul 11', 'Jul 18', 'Jul 25', 'Aug 01', 'Aug 08', 'Aug 15', 'Sep 12', 'Sep 19', 'Sep 26']\n",
      "Steers: [12, 11, 10, 10, 11, 9, 9, 9, 10, 10, 8, 8, 9]\n",
      "\n",
      "Pastures=6: ['17N', '19N', '31E', '15E', '26E', '25SE']\n",
      "Weeks=13 (start dates): ['May 30', 'Jun 06', 'Jun 20', 'Jul 04', 'Jul 18', 'Jul 25', 'Aug 01', 'Aug 08', 'Aug 15', 'Aug 22', 'Sep 12', 'Sep 19', 'Sep 26']\n",
      "Steers: [12, 12, 10, 9, 9, 9, 9, 10, 10, 10, 8, 8, 9]\n",
      "\n",
      "Pastures=6: ['17N', '20SE', '31E', '24W', '15E', '25SE']\n",
      "Weeks=13 (start dates): ['Jun 06', 'Jun 13', 'Jun 20', 'Jul 04', 'Jul 11', 'Jul 18', 'Jul 25', 'Aug 01', 'Aug 08', 'Aug 15', 'Sep 12', 'Sep 19', 'Sep 26']\n",
      "Steers: [12, 11, 10, 10, 11, 9, 10, 10, 10, 10, 9, 9, 10]\n",
      "\n",
      "Pastures=6: ['17N', '20SE', '31E', '15E', '26E', '25SE']\n",
      "Weeks=13 (start dates): ['May 30', 'Jun 06', 'Jun 20', 'Jul 04', 'Jul 18', 'Jul 25', 'Aug 01', 'Aug 08', 'Aug 15', 'Aug 22', 'Sep 12', 'Sep 19', 'Sep 26']\n",
      "Steers: [12, 12, 10, 9, 9, 10, 10, 10, 10, 10, 9, 9, 10]\n",
      "\n",
      "Pastures=6: ['19N', '20SE', '31E', '24W', '15E', '25SE']\n",
      "Weeks=13 (start dates): ['Jun 06', 'Jun 13', 'Jun 20', 'Jul 04', 'Jul 11', 'Jul 18', 'Jul 25', 'Aug 01', 'Aug 08', 'Aug 15', 'Sep 12', 'Sep 19', 'Sep 26']\n",
      "Steers: [12, 11, 10, 10, 11, 9, 9, 9, 10, 10, 8, 8, 9]\n",
      "\n",
      "Pastures=6: ['19N', '20SE', '31E', '15E', '26E', '25SE']\n",
      "Weeks=13 (start dates): ['May 30', 'Jun 06', 'Jun 20', 'Jul 04', 'Jul 18', 'Jul 25', 'Aug 01', 'Aug 08', 'Aug 15', 'Aug 22', 'Sep 12', 'Sep 19', 'Sep 26']\n",
      "Steers: [12, 12, 10, 9, 9, 9, 9, 10, 10, 10, 8, 8, 9]\n",
      "\n",
      "Pastures=6: ['5E', '7NW', '17N', '24W', '15E', '26E']\n",
      "Weeks=12 (start dates): ['May 23', 'Jun 06', 'Jun 20', 'Jul 04', 'Jul 18', 'Jul 25', 'Aug 01', 'Aug 08', 'Aug 15', 'Sep 12', 'Sep 19', 'Sep 26']\n",
      "Steers: [12, 13, 10, 10, 10, 10, 10, 10, 10, 11, 12, 12]\n",
      "\n",
      "Pastures=6: ['5E', '7NW', '17N', '24W', '26E', '25SE']\n",
      "Weeks=12 (start dates): ['Jun 06', 'Jun 20', 'Jul 04', 'Jul 18', 'Jul 25', 'Aug 01', 'Aug 08', 'Aug 15', 'Sep 05', 'Sep 12', 'Sep 19', 'Sep 26']\n",
      "Steers: [13, 11, 11, 10, 11, 11, 11, 11, 9, 10, 11, 12]\n",
      "\n",
      "Pastures=6: ['5E', '7NW', '19N', '24W', '15E', '26E']\n",
      "Weeks=12 (start dates): ['May 23', 'Jun 06', 'Jun 20', 'Jul 04', 'Jul 18', 'Jul 25', 'Aug 01', 'Aug 08', 'Aug 15', 'Sep 12', 'Sep 19', 'Sep 26']\n",
      "Steers: [12, 13, 10, 10, 10, 9, 9, 10, 10, 10, 11, 11]\n",
      "\n",
      "Pastures=6: ['5E', '7NW', '19N', '24W', '26E', '25SE']\n",
      "Weeks=12 (start dates): ['Jun 06', 'Jun 20', 'Jul 04', 'Jul 18', 'Jul 25', 'Aug 01', 'Aug 08', 'Aug 15', 'Sep 05', 'Sep 12', 'Sep 19', 'Sep 26']\n",
      "Steers: [13, 11, 11, 10, 10, 10, 11, 11, 8, 9, 10, 11]\n",
      "\n",
      "Pastures=6: ['5E', '7NW', '20SE', '24W', '15E', '26E']\n",
      "Weeks=12 (start dates): ['May 23', 'Jun 06', 'Jun 20', 'Jul 04', 'Jul 18', 'Jul 25', 'Aug 01', 'Aug 08', 'Aug 15', 'Sep 12', 'Sep 19', 'Sep 26']\n",
      "Steers: [12, 13, 10, 10, 10, 10, 10, 10, 10, 11, 12, 12]\n",
      "\n",
      "Pastures=6: ['5E', '7NW', '20SE', '24W', '26E', '25SE']\n",
      "Weeks=12 (start dates): ['Jun 06', 'Jun 20', 'Jul 04', 'Jul 18', 'Jul 25', 'Aug 01', 'Aug 08', 'Aug 15', 'Sep 05', 'Sep 12', 'Sep 19', 'Sep 26']\n",
      "Steers: [13, 11, 11, 10, 11, 11, 11, 11, 9, 10, 11, 12]\n",
      "\n",
      "Pastures=6: ['5E', '7NW', '31E', '24W', '15E', '26E']\n",
      "Weeks=12 (start dates): ['May 23', 'Jun 06', 'Jun 20', 'Jul 04', 'Jul 18', 'Jul 25', 'Aug 01', 'Aug 08', 'Aug 15', 'Sep 12', 'Sep 19', 'Sep 26']\n",
      "Steers: [12, 13, 10, 9, 10, 10, 10, 10, 10, 10, 11, 11]\n",
      "\n",
      "Pastures=6: ['5E', '7NW', '31E', '24W', '26E', '25SE']\n",
      "Weeks=12 (start dates): ['Jun 06', 'Jun 20', 'Jul 04', 'Jul 18', 'Jul 25', 'Aug 01', 'Aug 08', 'Aug 15', 'Sep 05', 'Sep 12', 'Sep 19', 'Sep 26']\n",
      "Steers: [13, 11, 10, 10, 11, 11, 11, 11, 8, 9, 10, 11]\n",
      "\n",
      "Pastures=6: ['5E', '17N', '19N', '24W', '15E', '26E']\n",
      "Weeks=12 (start dates): ['May 23', 'Jun 06', 'Jun 20', 'Jul 04', 'Jul 18', 'Jul 25', 'Aug 01', 'Aug 08', 'Aug 15', 'Sep 12', 'Sep 19', 'Sep 26']\n",
      "Steers: [12, 14, 10, 11, 10, 9, 9, 10, 10, 10, 11, 11]\n",
      "\n",
      "Pastures=6: ['5E', '17N', '19N', '24W', '26E', '25SE']\n",
      "Weeks=12 (start dates): ['Jun 06', 'Jun 20', 'Jul 04', 'Jul 18', 'Jul 25', 'Aug 01', 'Aug 08', 'Aug 15', 'Sep 05', 'Sep 12', 'Sep 19', 'Sep 26']\n",
      "Steers: [14, 11, 12, 10, 10, 10, 11, 11, 8, 9, 10, 11]\n",
      "\n",
      "Pastures=6: ['5E', '17N', '20SE', '24W', '15E', '26E']\n",
      "Weeks=12 (start dates): ['May 23', 'Jun 06', 'Jun 20', 'Jul 04', 'Jul 18', 'Jul 25', 'Aug 01', 'Aug 08', 'Aug 15', 'Sep 12', 'Sep 19', 'Sep 26']\n",
      "Steers: [12, 14, 10, 11, 10, 10, 10, 10, 10, 11, 12, 12]\n",
      "\n",
      "Pastures=6: ['5E', '17N', '20SE', '24W', '26E', '25SE']\n",
      "Weeks=12 (start dates): ['Jun 06', 'Jun 20', 'Jul 04', 'Jul 18', 'Jul 25', 'Aug 01', 'Aug 08', 'Aug 15', 'Sep 05', 'Sep 12', 'Sep 19', 'Sep 26']\n",
      "Steers: [14, 11, 12, 10, 11, 11, 11, 11, 9, 10, 11, 12]\n",
      "\n",
      "Pastures=6: ['5E', '17N', '31E', '24W', '15E', '26E']\n",
      "Weeks=12 (start dates): ['May 23', 'Jun 06', 'Jun 20', 'Jul 04', 'Jul 18', 'Jul 25', 'Aug 01', 'Aug 08', 'Aug 15', 'Sep 12', 'Sep 19', 'Sep 26']\n",
      "Steers: [12, 14, 10, 10, 10, 10, 10, 10, 10, 10, 11, 11]\n",
      "\n",
      "Pastures=6: ['5E', '17N', '31E', '24W', '26E', '25SE']\n",
      "Weeks=12 (start dates): ['Jun 06', 'Jun 20', 'Jul 04', 'Jul 18', 'Jul 25', 'Aug 01', 'Aug 08', 'Aug 15', 'Sep 05', 'Sep 12', 'Sep 19', 'Sep 26']\n",
      "Steers: [14, 11, 11, 10, 11, 11, 11, 11, 8, 9, 10, 11]\n",
      "\n",
      "Pastures=6: ['5E', '19N', '20SE', '24W', '15E', '26E']\n",
      "Weeks=12 (start dates): ['May 23', 'Jun 06', 'Jun 20', 'Jul 04', 'Jul 18', 'Jul 25', 'Aug 01', 'Aug 08', 'Aug 15', 'Sep 12', 'Sep 19', 'Sep 26']\n",
      "Steers: [12, 14, 10, 11, 10, 9, 9, 10, 10, 10, 11, 11]\n",
      "\n",
      "Pastures=6: ['5E', '19N', '20SE', '24W', '26E', '25SE']\n",
      "Weeks=12 (start dates): ['Jun 06', 'Jun 20', 'Jul 04', 'Jul 18', 'Jul 25', 'Aug 01', 'Aug 08', 'Aug 15', 'Sep 05', 'Sep 12', 'Sep 19', 'Sep 26']\n",
      "Steers: [14, 11, 12, 10, 10, 10, 11, 11, 8, 9, 10, 11]\n",
      "\n",
      "Pastures=6: ['5E', '19N', '31E', '24W', '15E', '26E']\n",
      "Weeks=12 (start dates): ['May 23', 'Jun 06', 'Jun 20', 'Jul 04', 'Jul 18', 'Jul 25', 'Aug 01', 'Aug 08', 'Aug 15', 'Sep 12', 'Sep 19', 'Sep 26']\n",
      "Steers: [12, 14, 10, 10, 10, 9, 9, 10, 10, 9, 10, 10]\n",
      "\n",
      "Pastures=6: ['5E', '19N', '31E', '24W', '26E', '25SE']\n",
      "Weeks=12 (start dates): ['Jun 06', 'Jun 20', 'Jul 04', 'Jul 18', 'Jul 25', 'Aug 01', 'Aug 08', 'Aug 15', 'Sep 05', 'Sep 12', 'Sep 19', 'Sep 26']\n",
      "Steers: [14, 11, 11, 10, 10, 10, 11, 11, 7, 8, 9, 10]\n",
      "\n",
      "Pastures=6: ['5E', '20SE', '31E', '24W', '15E', '26E']\n",
      "Weeks=12 (start dates): ['May 23', 'Jun 06', 'Jun 20', 'Jul 04', 'Jul 18', 'Jul 25', 'Aug 01', 'Aug 08', 'Aug 15', 'Sep 12', 'Sep 19', 'Sep 26']\n",
      "Steers: [12, 14, 10, 10, 10, 10, 10, 10, 10, 10, 11, 11]\n",
      "\n",
      "Pastures=6: ['5E', '20SE', '31E', '24W', '26E', '25SE']\n",
      "Weeks=12 (start dates): ['Jun 06', 'Jun 20', 'Jul 04', 'Jul 18', 'Jul 25', 'Aug 01', 'Aug 08', 'Aug 15', 'Sep 05', 'Sep 12', 'Sep 19', 'Sep 26']\n",
      "Steers: [14, 11, 11, 10, 11, 11, 11, 11, 8, 9, 10, 11]\n",
      "\n",
      "Pastures=6: ['7NW', '17N', '19N', '24W', '15E', '26E']\n",
      "Weeks=12 (start dates): ['May 23', 'Jun 06', 'Jun 20', 'Jul 04', 'Jul 18', 'Jul 25', 'Aug 01', 'Aug 08', 'Aug 15', 'Sep 12', 'Sep 19', 'Sep 26']\n",
      "Steers: [11, 11, 9, 9, 9, 8, 8, 9, 9, 9, 9, 9]\n",
      "\n",
      "Pastures=6: ['7NW', '17N', '19N', '24W', '26E', '25SE']\n",
      "Weeks=12 (start dates): ['Jun 06', 'Jun 20', 'Jul 04', 'Jul 18', 'Jul 25', 'Aug 01', 'Aug 08', 'Aug 15', 'Sep 05', 'Sep 12', 'Sep 19', 'Sep 26']\n",
      "Steers: [11, 10, 10, 9, 9, 9, 10, 10, 8, 8, 8, 9]\n",
      "\n",
      "Pastures=6: ['7NW', '17N', '20SE', '24W', '15E', '26E']\n",
      "Weeks=12 (start dates): ['May 23', 'Jun 06', 'Jun 20', 'Jul 04', 'Jul 18', 'Jul 25', 'Aug 01', 'Aug 08', 'Aug 15', 'Sep 12', 'Sep 19', 'Sep 26']\n",
      "Steers: [11, 11, 9, 9, 9, 9, 9, 9, 9, 10, 10, 10]\n",
      "\n",
      "Pastures=6: ['7NW', '17N', '20SE', '24W', '26E', '25SE']\n",
      "Weeks=12 (start dates): ['Jun 06', 'Jun 20', 'Jul 04', 'Jul 18', 'Jul 25', 'Aug 01', 'Aug 08', 'Aug 15', 'Sep 05', 'Sep 12', 'Sep 19', 'Sep 26']\n",
      "Steers: [11, 10, 10, 9, 10, 10, 10, 10, 9, 9, 9, 10]\n",
      "\n",
      "Pastures=6: ['7NW', '17N', '31E', '24W', '15E', '26E']\n",
      "Weeks=12 (start dates): ['May 23', 'Jun 06', 'Jun 20', 'Jul 04', 'Jul 18', 'Jul 25', 'Aug 01', 'Aug 08', 'Aug 15', 'Sep 12', 'Sep 19', 'Sep 26']\n",
      "Steers: [11, 11, 9, 8, 9, 9, 9, 9, 9, 9, 9, 9]\n",
      "\n",
      "Pastures=6: ['7NW', '17N', '31E', '24W', '26E', '25SE']\n",
      "Weeks=12 (start dates): ['Jun 06', 'Jun 20', 'Jul 04', 'Jul 18', 'Jul 25', 'Aug 01', 'Aug 08', 'Aug 15', 'Sep 05', 'Sep 12', 'Sep 19', 'Sep 26']\n",
      "Steers: [11, 10, 9, 9, 10, 10, 10, 10, 8, 8, 8, 9]\n",
      "\n",
      "Pastures=6: ['7NW', '19N', '20SE', '24W', '15E', '26E']\n",
      "Weeks=12 (start dates): ['May 23', 'Jun 06', 'Jun 20', 'Jul 04', 'Jul 18', 'Jul 25', 'Aug 01', 'Aug 08', 'Aug 15', 'Sep 12', 'Sep 19', 'Sep 26']\n",
      "Steers: [11, 11, 9, 9, 9, 8, 8, 9, 9, 9, 9, 9]\n",
      "\n",
      "Pastures=6: ['7NW', '19N', '20SE', '24W', '26E', '25SE']\n",
      "Weeks=12 (start dates): ['Jun 06', 'Jun 20', 'Jul 04', 'Jul 18', 'Jul 25', 'Aug 01', 'Aug 08', 'Aug 15', 'Sep 05', 'Sep 12', 'Sep 19', 'Sep 26']\n",
      "Steers: [11, 10, 10, 9, 9, 9, 10, 10, 8, 8, 8, 9]\n",
      "\n",
      "Pastures=6: ['7NW', '19N', '31E', '24W', '15E', '26E']\n",
      "Weeks=12 (start dates): ['May 23', 'Jun 06', 'Jun 20', 'Jul 04', 'Jul 18', 'Jul 25', 'Aug 01', 'Aug 08', 'Aug 15', 'Sep 12', 'Sep 19', 'Sep 26']\n",
      "Steers: [11, 11, 9, 8, 9, 8, 8, 9, 9, 8, 8, 8]\n",
      "\n",
      "Pastures=6: ['7NW', '19N', '31E', '24W', '26E', '25SE']\n",
      "Weeks=12 (start dates): ['Jun 06', 'Jun 20', 'Jul 04', 'Jul 18', 'Jul 25', 'Aug 01', 'Aug 08', 'Aug 15', 'Sep 05', 'Sep 12', 'Sep 19', 'Sep 26']\n",
      "Steers: [11, 10, 9, 9, 9, 9, 10, 10, 7, 7, 7, 8]\n",
      "\n",
      "Pastures=6: ['7NW', '20SE', '31E', '24W', '15E', '26E']\n",
      "Weeks=12 (start dates): ['May 23', 'Jun 06', 'Jun 20', 'Jul 04', 'Jul 18', 'Jul 25', 'Aug 01', 'Aug 08', 'Aug 15', 'Sep 12', 'Sep 19', 'Sep 26']\n",
      "Steers: [11, 11, 9, 8, 9, 9, 9, 9, 9, 9, 9, 9]\n",
      "\n",
      "Pastures=6: ['7NW', '20SE', '31E', '24W', '26E', '25SE']\n",
      "Weeks=12 (start dates): ['Jun 06', 'Jun 20', 'Jul 04', 'Jul 18', 'Jul 25', 'Aug 01', 'Aug 08', 'Aug 15', 'Sep 05', 'Sep 12', 'Sep 19', 'Sep 26']\n",
      "Steers: [11, 10, 9, 9, 10, 10, 10, 10, 8, 8, 8, 9]\n",
      "\n",
      "Pastures=6: ['17N', '19N', '20SE', '24W', '15E', '26E']\n",
      "Weeks=12 (start dates): ['May 23', 'Jun 06', 'Jun 20', 'Jul 04', 'Jul 18', 'Jul 25', 'Aug 01', 'Aug 08', 'Aug 15', 'Sep 12', 'Sep 19', 'Sep 26']\n",
      "Steers: [11, 12, 9, 10, 9, 8, 8, 9, 9, 9, 9, 9]\n",
      "\n",
      "Pastures=6: ['17N', '19N', '20SE', '24W', '26E', '25SE']\n",
      "Weeks=12 (start dates): ['Jun 06', 'Jun 20', 'Jul 04', 'Jul 18', 'Jul 25', 'Aug 01', 'Aug 08', 'Aug 15', 'Sep 05', 'Sep 12', 'Sep 19', 'Sep 26']\n",
      "Steers: [12, 10, 11, 9, 9, 9, 10, 10, 8, 8, 8, 9]\n",
      "\n",
      "Pastures=6: ['17N', '19N', '31E', '24W', '15E', '26E']\n",
      "Weeks=12 (start dates): ['May 23', 'Jun 06', 'Jun 20', 'Jul 04', 'Jul 18', 'Jul 25', 'Aug 01', 'Aug 08', 'Aug 15', 'Sep 12', 'Sep 19', 'Sep 26']\n",
      "Steers: [11, 12, 9, 9, 9, 8, 8, 9, 9, 8, 8, 8]\n",
      "\n",
      "Pastures=6: ['17N', '19N', '31E', '24W', '26E', '25SE']\n",
      "Weeks=12 (start dates): ['Jun 06', 'Jun 20', 'Jul 04', 'Jul 18', 'Jul 25', 'Aug 01', 'Aug 08', 'Aug 15', 'Sep 05', 'Sep 12', 'Sep 19', 'Sep 26']\n",
      "Steers: [12, 10, 10, 9, 9, 9, 10, 10, 7, 7, 7, 8]\n",
      "\n",
      "Pastures=6: ['17N', '20SE', '31E', '24W', '15E', '26E']\n",
      "Weeks=12 (start dates): ['May 23', 'Jun 06', 'Jun 20', 'Jul 04', 'Jul 18', 'Jul 25', 'Aug 01', 'Aug 08', 'Aug 15', 'Sep 12', 'Sep 19', 'Sep 26']\n",
      "Steers: [11, 12, 9, 9, 9, 9, 9, 9, 9, 9, 9, 9]\n",
      "\n",
      "Pastures=6: ['17N', '20SE', '31E', '24W', '26E', '25SE']\n",
      "Weeks=12 (start dates): ['Jun 06', 'Jun 20', 'Jul 04', 'Jul 18', 'Jul 25', 'Aug 01', 'Aug 08', 'Aug 15', 'Sep 05', 'Sep 12', 'Sep 19', 'Sep 26']\n",
      "Steers: [12, 10, 10, 9, 10, 10, 10, 10, 8, 8, 8, 9]\n",
      "\n",
      "Pastures=6: ['19N', '20SE', '31E', '24W', '15E', '26E']\n",
      "Weeks=12 (start dates): ['May 23', 'Jun 06', 'Jun 20', 'Jul 04', 'Jul 18', 'Jul 25', 'Aug 01', 'Aug 08', 'Aug 15', 'Sep 12', 'Sep 19', 'Sep 26']\n",
      "Steers: [11, 12, 9, 9, 9, 8, 8, 9, 9, 8, 8, 8]\n",
      "\n",
      "Pastures=6: ['19N', '20SE', '31E', '24W', '26E', '25SE']\n",
      "Weeks=12 (start dates): ['Jun 06', 'Jun 20', 'Jul 04', 'Jul 18', 'Jul 25', 'Aug 01', 'Aug 08', 'Aug 15', 'Sep 05', 'Sep 12', 'Sep 19', 'Sep 26']\n",
      "Steers: [12, 10, 10, 9, 9, 9, 10, 10, 7, 7, 7, 8]\n",
      "\n",
      "Pastures=6: ['5E', '7NW', '24W', '15E', '26E', '25SE']\n",
      "Weeks=11 (start dates): ['Jun 06', 'Jun 20', 'Jul 04', 'Jul 18', 'Jul 25', 'Aug 01', 'Aug 08', 'Aug 15', 'Sep 12', 'Sep 19', 'Sep 26']\n",
      "Steers: [13, 10, 10, 9, 10, 10, 10, 10, 10, 11, 12]\n",
      "\n",
      "Pastures=6: ['5E', '17N', '24W', '15E', '26E', '25SE']\n",
      "Weeks=11 (start dates): ['Jun 06', 'Jun 20', 'Jul 04', 'Jul 18', 'Jul 25', 'Aug 01', 'Aug 08', 'Aug 15', 'Sep 12', 'Sep 19', 'Sep 26']\n",
      "Steers: [14, 10, 11, 9, 10, 10, 10, 10, 10, 11, 12]\n",
      "\n",
      "Pastures=6: ['5E', '19N', '24W', '15E', '26E', '25SE']\n",
      "Weeks=11 (start dates): ['Jun 06', 'Jun 20', 'Jul 04', 'Jul 18', 'Jul 25', 'Aug 01', 'Aug 08', 'Aug 15', 'Sep 12', 'Sep 19', 'Sep 26']\n",
      "Steers: [14, 10, 11, 9, 9, 9, 10, 10, 9, 10, 11]\n",
      "\n",
      "Pastures=6: ['5E', '20SE', '24W', '15E', '26E', '25SE']\n",
      "Weeks=11 (start dates): ['Jun 06', 'Jun 20', 'Jul 04', 'Jul 18', 'Jul 25', 'Aug 01', 'Aug 08', 'Aug 15', 'Sep 12', 'Sep 19', 'Sep 26']\n",
      "Steers: [14, 10, 11, 9, 10, 10, 10, 10, 10, 11, 12]\n",
      "\n",
      "Pastures=6: ['5E', '31E', '24W', '15E', '26E', '25SE']\n",
      "Weeks=11 (start dates): ['Jun 06', 'Jun 20', 'Jul 04', 'Jul 18', 'Jul 25', 'Aug 01', 'Aug 08', 'Aug 15', 'Sep 12', 'Sep 19', 'Sep 26']\n",
      "Steers: [14, 10, 10, 9, 10, 10, 10, 10, 9, 10, 11]\n",
      "\n",
      "Pastures=6: ['7NW', '17N', '24W', '15E', '26E', '25SE']\n",
      "Weeks=11 (start dates): ['Jun 06', 'Jun 20', 'Jul 04', 'Jul 18', 'Jul 25', 'Aug 01', 'Aug 08', 'Aug 15', 'Sep 12', 'Sep 19', 'Sep 26']\n",
      "Steers: [11, 9, 9, 8, 9, 9, 9, 9, 9, 9, 10]\n",
      "\n",
      "Pastures=6: ['7NW', '19N', '24W', '15E', '26E', '25SE']\n",
      "Weeks=11 (start dates): ['Jun 06', 'Jun 20', 'Jul 04', 'Jul 18', 'Jul 25', 'Aug 01', 'Aug 08', 'Aug 15', 'Sep 12', 'Sep 19', 'Sep 26']\n",
      "Steers: [11, 9, 9, 8, 8, 8, 9, 9, 8, 8, 9]\n",
      "\n",
      "Pastures=6: ['7NW', '20SE', '24W', '15E', '26E', '25SE']\n",
      "Weeks=11 (start dates): ['Jun 06', 'Jun 20', 'Jul 04', 'Jul 18', 'Jul 25', 'Aug 01', 'Aug 08', 'Aug 15', 'Sep 12', 'Sep 19', 'Sep 26']\n",
      "Steers: [11, 9, 9, 8, 9, 9, 9, 9, 9, 9, 10]\n",
      "\n",
      "Pastures=6: ['7NW', '31E', '24W', '15E', '26E', '25SE']\n",
      "Weeks=11 (start dates): ['Jun 06', 'Jun 20', 'Jul 04', 'Jul 18', 'Jul 25', 'Aug 01', 'Aug 08', 'Aug 15', 'Sep 12', 'Sep 19', 'Sep 26']\n",
      "Steers: [11, 9, 8, 8, 9, 9, 9, 9, 8, 8, 9]\n",
      "\n",
      "Pastures=6: ['17N', '19N', '24W', '15E', '26E', '25SE']\n",
      "Weeks=11 (start dates): ['Jun 06', 'Jun 20', 'Jul 04', 'Jul 18', 'Jul 25', 'Aug 01', 'Aug 08', 'Aug 15', 'Sep 12', 'Sep 19', 'Sep 26']\n",
      "Steers: [12, 9, 10, 8, 8, 8, 9, 9, 8, 8, 9]\n",
      "\n",
      "Pastures=6: ['17N', '20SE', '24W', '15E', '26E', '25SE']\n",
      "Weeks=11 (start dates): ['Jun 06', 'Jun 20', 'Jul 04', 'Jul 18', 'Jul 25', 'Aug 01', 'Aug 08', 'Aug 15', 'Sep 12', 'Sep 19', 'Sep 26']\n",
      "Steers: [12, 9, 10, 8, 9, 9, 9, 9, 9, 9, 10]\n",
      "\n",
      "Pastures=6: ['17N', '31E', '24W', '15E', '26E', '25SE']\n",
      "Weeks=11 (start dates): ['Jun 06', 'Jun 20', 'Jul 04', 'Jul 18', 'Jul 25', 'Aug 01', 'Aug 08', 'Aug 15', 'Sep 12', 'Sep 19', 'Sep 26']\n",
      "Steers: [12, 9, 9, 8, 9, 9, 9, 9, 8, 8, 9]\n",
      "\n",
      "Pastures=6: ['19N', '20SE', '24W', '15E', '26E', '25SE']\n",
      "Weeks=11 (start dates): ['Jun 06', 'Jun 20', 'Jul 04', 'Jul 18', 'Jul 25', 'Aug 01', 'Aug 08', 'Aug 15', 'Sep 12', 'Sep 19', 'Sep 26']\n",
      "Steers: [12, 9, 10, 8, 8, 8, 9, 9, 8, 8, 9]\n",
      "\n",
      "Pastures=6: ['19N', '31E', '24W', '15E', '26E', '25SE']\n",
      "Weeks=11 (start dates): ['Jun 06', 'Jun 20', 'Jul 04', 'Jul 18', 'Jul 25', 'Aug 01', 'Aug 08', 'Aug 15', 'Sep 12', 'Sep 19', 'Sep 26']\n",
      "Steers: [12, 9, 9, 8, 8, 8, 9, 9, 7, 7, 8]\n",
      "\n",
      "Pastures=6: ['20SE', '31E', '24W', '15E', '26E', '25SE']\n",
      "Weeks=11 (start dates): ['Jun 06', 'Jun 20', 'Jul 04', 'Jul 18', 'Jul 25', 'Aug 01', 'Aug 08', 'Aug 15', 'Sep 12', 'Sep 19', 'Sep 26']\n",
      "Steers: [12, 9, 9, 8, 9, 9, 9, 9, 8, 8, 9]\n",
      "\n",
      "\n",
      "\n",
      "-------------------------------------\n",
      "No. Pastures: 7\n",
      "Max no. weeks: 16\n",
      "-------------------------------------\n",
      "Pastures=7: ['5E', '7NW', '17N', '19N', '20SE', '31E', '24W']\n",
      "Weeks=16 (start dates): ['May 16', 'May 23', 'Jun 06', 'Jun 13', 'Jun 20', 'Jul 04', 'Jul 11', 'Jul 18', 'Jul 25', 'Aug 01', 'Aug 08', 'Aug 15', 'Sep 05', 'Sep 12', 'Sep 19', 'Sep 26']\n",
      "Steers: [13, 15, 15, 14, 14, 13, 15, 14, 13, 13, 14, 14, 11, 12, 13, 13]\n",
      "\n",
      "Pastures=7: ['5E', '7NW', '17N', '19N', '20SE', '31E', '15E']\n",
      "Weeks=16 (start dates): ['May 23', 'May 30', 'Jun 06', 'Jun 13', 'Jun 20', 'Jul 04', 'Jul 11', 'Jul 18', 'Jul 25', 'Aug 01', 'Aug 08', 'Aug 15', 'Aug 22', 'Sep 12', 'Sep 19', 'Sep 26']\n",
      "Steers: [14, 15, 15, 13, 14, 12, 14, 14, 13, 13, 14, 14, 14, 13, 14, 14]\n",
      "\n",
      "Pastures=7: ['5E', '7NW', '17N', '19N', '20SE', '31E', '26E']\n",
      "Weeks=16 (start dates): ['May 16', 'May 23', 'May 30', 'Jun 06', 'Jun 20', 'Jul 04', 'Jul 18', 'Jul 25', 'Aug 01', 'Aug 08', 'Aug 15', 'Aug 22', 'Sep 05', 'Sep 12', 'Sep 19', 'Sep 26']\n",
      "Steers: [12, 15, 15, 15, 14, 12, 14, 13, 13, 14, 14, 14, 11, 12, 13, 13]\n",
      "\n",
      "Pastures=7: ['5E', '7NW', '17N', '19N', '20SE', '31E', '25SE']\n",
      "Weeks=16 (start dates): ['May 30', 'Jun 06', 'Jun 13', 'Jun 20', 'Jul 04', 'Jul 11', 'Jul 18', 'Jul 25', 'Aug 01', 'Aug 08', 'Aug 15', 'Aug 22', 'Sep 05', 'Sep 12', 'Sep 19', 'Sep 26']\n",
      "Steers: [15, 15, 14, 15, 13, 15, 14, 14, 14, 15, 15, 15, 11, 12, 13, 14]\n",
      "\n",
      "Pastures=7: ['5E', '7NW', '17N', '19N', '20SE', '15E', '25SE']\n",
      "Weeks=15 (start dates): ['May 30', 'Jun 06', 'Jun 13', 'Jun 20', 'Jul 04', 'Jul 11', 'Jul 18', 'Jul 25', 'Aug 01', 'Aug 08', 'Aug 15', 'Aug 22', 'Sep 12', 'Sep 19', 'Sep 26']\n",
      "Steers: [15, 15, 13, 14, 13, 14, 13, 13, 13, 14, 14, 14, 13, 14, 15]\n",
      "\n",
      "Pastures=7: ['5E', '7NW', '17N', '19N', '31E', '15E', '25SE']\n",
      "Weeks=15 (start dates): ['May 30', 'Jun 06', 'Jun 13', 'Jun 20', 'Jul 04', 'Jul 11', 'Jul 18', 'Jul 25', 'Aug 01', 'Aug 08', 'Aug 15', 'Aug 22', 'Sep 12', 'Sep 19', 'Sep 26']\n",
      "Steers: [15, 15, 13, 14, 12, 14, 13, 13, 13, 14, 14, 14, 12, 13, 14]\n",
      "\n",
      "Pastures=7: ['5E', '7NW', '17N', '20SE', '31E', '15E', '25SE']\n",
      "Weeks=15 (start dates): ['May 30', 'Jun 06', 'Jun 13', 'Jun 20', 'Jul 04', 'Jul 11', 'Jul 18', 'Jul 25', 'Aug 01', 'Aug 08', 'Aug 15', 'Aug 22', 'Sep 12', 'Sep 19', 'Sep 26']\n",
      "Steers: [15, 15, 13, 14, 12, 14, 13, 14, 14, 14, 14, 14, 13, 14, 15]\n",
      "\n",
      "Pastures=7: ['5E', '7NW', '19N', '20SE', '31E', '15E', '25SE']\n",
      "Weeks=15 (start dates): ['May 30', 'Jun 06', 'Jun 13', 'Jun 20', 'Jul 04', 'Jul 11', 'Jul 18', 'Jul 25', 'Aug 01', 'Aug 08', 'Aug 15', 'Aug 22', 'Sep 12', 'Sep 19', 'Sep 26']\n",
      "Steers: [15, 15, 13, 14, 12, 14, 13, 13, 13, 14, 14, 14, 12, 13, 14]\n",
      "\n",
      "Pastures=7: ['5E', '17N', '19N', '20SE', '31E', '15E', '25SE']\n",
      "Weeks=15 (start dates): ['May 30', 'Jun 06', 'Jun 13', 'Jun 20', 'Jul 04', 'Jul 11', 'Jul 18', 'Jul 25', 'Aug 01', 'Aug 08', 'Aug 15', 'Aug 22', 'Sep 12', 'Sep 19', 'Sep 26']\n",
      "Steers: [16, 16, 14, 14, 13, 14, 13, 13, 13, 14, 14, 14, 12, 13, 14]\n",
      "\n",
      "Pastures=7: ['7NW', '17N', '19N', '20SE', '31E', '15E', '25SE']\n",
      "Weeks=15 (start dates): ['May 30', 'Jun 06', 'Jun 13', 'Jun 20', 'Jul 04', 'Jul 11', 'Jul 18', 'Jul 25', 'Aug 01', 'Aug 08', 'Aug 15', 'Aug 22', 'Sep 12', 'Sep 19', 'Sep 26']\n",
      "Steers: [13, 13, 12, 13, 11, 13, 12, 12, 12, 13, 13, 13, 11, 11, 12]\n",
      "\n",
      "Pastures=7: ['5E', '7NW', '17N', '19N', '20SE', '24W', '15E']\n",
      "Weeks=14 (start dates): ['May 23', 'Jun 06', 'Jun 13', 'Jun 20', 'Jul 04', 'Jul 11', 'Jul 18', 'Jul 25', 'Aug 01', 'Aug 08', 'Aug 15', 'Sep 12', 'Sep 19', 'Sep 26']\n",
      "Steers: [14, 15, 13, 13, 13, 14, 13, 12, 12, 13, 13, 13, 14, 14]\n",
      "\n",
      "Pastures=7: ['5E', '7NW', '17N', '19N', '20SE', '24W', '26E']\n",
      "Weeks=14 (start dates): ['May 16', 'May 23', 'Jun 06', 'Jun 20', 'Jul 04', 'Jul 18', 'Jul 25', 'Aug 01', 'Aug 08', 'Aug 15', 'Sep 05', 'Sep 12', 'Sep 19', 'Sep 26']\n",
      "Steers: [12, 15, 15, 13, 13, 13, 12, 12, 13, 13, 11, 12, 13, 13]\n",
      "\n",
      "Pastures=7: ['5E', '7NW', '17N', '19N', '20SE', '24W', '25SE']\n",
      "Weeks=14 (start dates): ['Jun 06', 'Jun 13', 'Jun 20', 'Jul 04', 'Jul 11', 'Jul 18', 'Jul 25', 'Aug 01', 'Aug 08', 'Aug 15', 'Sep 05', 'Sep 12', 'Sep 19', 'Sep 26']\n",
      "Steers: [15, 14, 14, 14, 15, 13, 13, 13, 14, 14, 11, 12, 13, 14]\n",
      "\n",
      "Pastures=7: ['5E', '7NW', '17N', '19N', '20SE', '15E', '26E']\n",
      "Weeks=14 (start dates): ['May 23', 'May 30', 'Jun 06', 'Jun 20', 'Jul 04', 'Jul 18', 'Jul 25', 'Aug 01', 'Aug 08', 'Aug 15', 'Aug 22', 'Sep 12', 'Sep 19', 'Sep 26']\n",
      "Steers: [14, 15, 15, 13, 12, 13, 12, 12, 13, 13, 13, 13, 14, 14]\n",
      "\n",
      "Pastures=7: ['5E', '7NW', '17N', '19N', '20SE', '26E', '25SE']\n",
      "Weeks=14 (start dates): ['May 30', 'Jun 06', 'Jun 20', 'Jul 04', 'Jul 18', 'Jul 25', 'Aug 01', 'Aug 08', 'Aug 15', 'Aug 22', 'Sep 05', 'Sep 12', 'Sep 19', 'Sep 26']\n",
      "Steers: [15, 15, 14, 13, 13, 13, 13, 14, 14, 14, 11, 12, 13, 14]\n",
      "\n",
      "Pastures=7: ['5E', '7NW', '17N', '19N', '31E', '24W', '15E']\n",
      "Weeks=14 (start dates): ['May 23', 'Jun 06', 'Jun 13', 'Jun 20', 'Jul 04', 'Jul 11', 'Jul 18', 'Jul 25', 'Aug 01', 'Aug 08', 'Aug 15', 'Sep 12', 'Sep 19', 'Sep 26']\n",
      "Steers: [14, 15, 13, 13, 12, 14, 13, 12, 12, 13, 13, 12, 13, 13]\n",
      "\n",
      "Pastures=7: ['5E', '7NW', '17N', '19N', '31E', '24W', '26E']\n",
      "Weeks=14 (start dates): ['May 16', 'May 23', 'Jun 06', 'Jun 20', 'Jul 04', 'Jul 18', 'Jul 25', 'Aug 01', 'Aug 08', 'Aug 15', 'Sep 05', 'Sep 12', 'Sep 19', 'Sep 26']\n",
      "Steers: [13, 15, 15, 13, 12, 13, 12, 12, 13, 13, 10, 11, 12, 12]\n",
      "\n",
      "Pastures=7: ['5E', '7NW', '17N', '19N', '31E', '24W', '25SE']\n",
      "Weeks=14 (start dates): ['Jun 06', 'Jun 13', 'Jun 20', 'Jul 04', 'Jul 11', 'Jul 18', 'Jul 25', 'Aug 01', 'Aug 08', 'Aug 15', 'Sep 05', 'Sep 12', 'Sep 19', 'Sep 26']\n",
      "Steers: [15, 14, 14, 13, 15, 13, 13, 13, 14, 14, 10, 11, 12, 13]\n",
      "\n",
      "Pastures=7: ['5E', '7NW', '17N', '19N', '31E', '15E', '26E']\n",
      "Weeks=14 (start dates): ['May 23', 'May 30', 'Jun 06', 'Jun 20', 'Jul 04', 'Jul 18', 'Jul 25', 'Aug 01', 'Aug 08', 'Aug 15', 'Aug 22', 'Sep 12', 'Sep 19', 'Sep 26']\n",
      "Steers: [14, 15, 15, 13, 11, 13, 12, 12, 13, 13, 13, 12, 13, 13]\n",
      "\n",
      "Pastures=7: ['5E', '7NW', '17N', '19N', '31E', '26E', '25SE']\n",
      "Weeks=14 (start dates): ['May 30', 'Jun 06', 'Jun 20', 'Jul 04', 'Jul 18', 'Jul 25', 'Aug 01', 'Aug 08', 'Aug 15', 'Aug 22', 'Sep 05', 'Sep 12', 'Sep 19', 'Sep 26']\n",
      "Steers: [15, 15, 14, 12, 13, 13, 13, 14, 14, 14, 10, 11, 12, 13]\n",
      "\n",
      "Pastures=7: ['5E', '7NW', '17N', '20SE', '31E', '24W', '15E']\n",
      "Weeks=14 (start dates): ['May 23', 'Jun 06', 'Jun 13', 'Jun 20', 'Jul 04', 'Jul 11', 'Jul 18', 'Jul 25', 'Aug 01', 'Aug 08', 'Aug 15', 'Sep 12', 'Sep 19', 'Sep 26']\n",
      "Steers: [14, 15, 13, 13, 12, 14, 13, 13, 13, 13, 13, 13, 14, 14]\n",
      "\n",
      "Pastures=7: ['5E', '7NW', '17N', '20SE', '31E', '24W', '26E']\n",
      "Weeks=14 (start dates): ['May 16', 'May 23', 'Jun 06', 'Jun 20', 'Jul 04', 'Jul 18', 'Jul 25', 'Aug 01', 'Aug 08', 'Aug 15', 'Sep 05', 'Sep 12', 'Sep 19', 'Sep 26']\n",
      "Steers: [12, 15, 15, 13, 12, 13, 13, 13, 13, 13, 11, 12, 13, 13]\n",
      "\n",
      "Pastures=7: ['5E', '7NW', '17N', '20SE', '31E', '24W', '25SE']\n",
      "Weeks=14 (start dates): ['Jun 06', 'Jun 13', 'Jun 20', 'Jul 04', 'Jul 11', 'Jul 18', 'Jul 25', 'Aug 01', 'Aug 08', 'Aug 15', 'Sep 05', 'Sep 12', 'Sep 19', 'Sep 26']\n",
      "Steers: [15, 14, 14, 13, 15, 13, 14, 14, 14, 14, 11, 12, 13, 14]\n",
      "\n",
      "Pastures=7: ['5E', '7NW', '17N', '20SE', '31E', '15E', '26E']\n",
      "Weeks=14 (start dates): ['May 23', 'May 30', 'Jun 06', 'Jun 20', 'Jul 04', 'Jul 18', 'Jul 25', 'Aug 01', 'Aug 08', 'Aug 15', 'Aug 22', 'Sep 12', 'Sep 19', 'Sep 26']\n",
      "Steers: [14, 15, 15, 13, 11, 13, 13, 13, 13, 13, 13, 13, 14, 14]\n",
      "\n",
      "Pastures=7: ['5E', '7NW', '17N', '20SE', '31E', '26E', '25SE']\n",
      "Weeks=14 (start dates): ['May 30', 'Jun 06', 'Jun 20', 'Jul 04', 'Jul 18', 'Jul 25', 'Aug 01', 'Aug 08', 'Aug 15', 'Aug 22', 'Sep 05', 'Sep 12', 'Sep 19', 'Sep 26']\n",
      "Steers: [15, 15, 14, 12, 13, 14, 14, 14, 14, 14, 11, 12, 13, 14]\n",
      "\n",
      "Pastures=7: ['5E', '7NW', '19N', '20SE', '31E', '24W', '15E']\n",
      "Weeks=14 (start dates): ['May 23', 'Jun 06', 'Jun 13', 'Jun 20', 'Jul 04', 'Jul 11', 'Jul 18', 'Jul 25', 'Aug 01', 'Aug 08', 'Aug 15', 'Sep 12', 'Sep 19', 'Sep 26']\n",
      "Steers: [14, 15, 13, 13, 12, 14, 13, 12, 12, 13, 13, 12, 13, 13]\n",
      "\n",
      "Pastures=7: ['5E', '7NW', '19N', '20SE', '31E', '24W', '26E']\n",
      "Weeks=14 (start dates): ['May 16', 'May 23', 'Jun 06', 'Jun 20', 'Jul 04', 'Jul 18', 'Jul 25', 'Aug 01', 'Aug 08', 'Aug 15', 'Sep 05', 'Sep 12', 'Sep 19', 'Sep 26']\n",
      "Steers: [12, 15, 15, 13, 12, 13, 12, 12, 13, 13, 10, 11, 12, 12]\n",
      "\n",
      "Pastures=7: ['5E', '7NW', '19N', '20SE', '31E', '24W', '25SE']\n",
      "Weeks=14 (start dates): ['Jun 06', 'Jun 13', 'Jun 20', 'Jul 04', 'Jul 11', 'Jul 18', 'Jul 25', 'Aug 01', 'Aug 08', 'Aug 15', 'Sep 05', 'Sep 12', 'Sep 19', 'Sep 26']\n",
      "Steers: [15, 14, 14, 13, 15, 13, 13, 13, 14, 14, 10, 11, 12, 13]\n",
      "\n",
      "Pastures=7: ['5E', '7NW', '19N', '20SE', '31E', '15E', '26E']\n",
      "Weeks=14 (start dates): ['May 23', 'May 30', 'Jun 06', 'Jun 20', 'Jul 04', 'Jul 18', 'Jul 25', 'Aug 01', 'Aug 08', 'Aug 15', 'Aug 22', 'Sep 12', 'Sep 19', 'Sep 26']\n",
      "Steers: [14, 15, 15, 13, 11, 13, 12, 12, 13, 13, 13, 12, 13, 13]\n",
      "\n",
      "Pastures=7: ['5E', '7NW', '19N', '20SE', '31E', '26E', '25SE']\n",
      "Weeks=14 (start dates): ['May 30', 'Jun 06', 'Jun 20', 'Jul 04', 'Jul 18', 'Jul 25', 'Aug 01', 'Aug 08', 'Aug 15', 'Aug 22', 'Sep 05', 'Sep 12', 'Sep 19', 'Sep 26']\n",
      "Steers: [15, 15, 14, 12, 13, 13, 13, 14, 14, 14, 10, 11, 12, 13]\n",
      "\n",
      "Pastures=7: ['5E', '17N', '19N', '20SE', '31E', '24W', '15E']\n",
      "Weeks=14 (start dates): ['May 23', 'Jun 06', 'Jun 13', 'Jun 20', 'Jul 04', 'Jul 11', 'Jul 18', 'Jul 25', 'Aug 01', 'Aug 08', 'Aug 15', 'Sep 12', 'Sep 19', 'Sep 26']\n",
      "Steers: [14, 16, 14, 13, 13, 14, 13, 12, 12, 13, 13, 12, 13, 13]\n",
      "\n",
      "Pastures=7: ['5E', '17N', '19N', '20SE', '31E', '24W', '26E']\n",
      "Weeks=14 (start dates): ['May 16', 'May 23', 'Jun 06', 'Jun 20', 'Jul 04', 'Jul 18', 'Jul 25', 'Aug 01', 'Aug 08', 'Aug 15', 'Sep 05', 'Sep 12', 'Sep 19', 'Sep 26']\n",
      "Steers: [12, 15, 16, 13, 13, 13, 12, 12, 13, 13, 10, 11, 12, 12]\n",
      "\n",
      "Pastures=7: ['5E', '17N', '19N', '20SE', '31E', '24W', '25SE']\n",
      "Weeks=14 (start dates): ['Jun 06', 'Jun 13', 'Jun 20', 'Jul 04', 'Jul 11', 'Jul 18', 'Jul 25', 'Aug 01', 'Aug 08', 'Aug 15', 'Sep 05', 'Sep 12', 'Sep 19', 'Sep 26']\n",
      "Steers: [16, 15, 14, 14, 15, 13, 13, 13, 14, 14, 10, 11, 12, 13]\n",
      "\n",
      "Pastures=7: ['5E', '17N', '19N', '20SE', '31E', '15E', '26E']\n",
      "Weeks=14 (start dates): ['May 23', 'May 30', 'Jun 06', 'Jun 20', 'Jul 04', 'Jul 18', 'Jul 25', 'Aug 01', 'Aug 08', 'Aug 15', 'Aug 22', 'Sep 12', 'Sep 19', 'Sep 26']\n",
      "Steers: [14, 16, 16, 13, 12, 13, 12, 12, 13, 13, 13, 12, 13, 13]\n",
      "\n",
      "Pastures=7: ['5E', '17N', '19N', '20SE', '31E', '26E', '25SE']\n",
      "Weeks=14 (start dates): ['May 30', 'Jun 06', 'Jun 20', 'Jul 04', 'Jul 18', 'Jul 25', 'Aug 01', 'Aug 08', 'Aug 15', 'Aug 22', 'Sep 05', 'Sep 12', 'Sep 19', 'Sep 26']\n",
      "Steers: [16, 16, 14, 13, 13, 13, 13, 14, 14, 14, 10, 11, 12, 13]\n",
      "\n",
      "Pastures=7: ['7NW', '17N', '19N', '20SE', '31E', '24W', '15E']\n",
      "Weeks=14 (start dates): ['May 23', 'Jun 06', 'Jun 13', 'Jun 20', 'Jul 04', 'Jul 11', 'Jul 18', 'Jul 25', 'Aug 01', 'Aug 08', 'Aug 15', 'Sep 12', 'Sep 19', 'Sep 26']\n",
      "Steers: [13, 13, 12, 12, 11, 13, 12, 11, 11, 12, 12, 11, 11, 11]\n",
      "\n",
      "Pastures=7: ['7NW', '17N', '19N', '20SE', '31E', '24W', '26E']\n",
      "Weeks=14 (start dates): ['May 16', 'May 23', 'Jun 06', 'Jun 20', 'Jul 04', 'Jul 18', 'Jul 25', 'Aug 01', 'Aug 08', 'Aug 15', 'Sep 05', 'Sep 12', 'Sep 19', 'Sep 26']\n",
      "Steers: [12, 14, 13, 12, 11, 12, 11, 11, 12, 12, 10, 10, 10, 10]\n",
      "\n",
      "Pastures=7: ['7NW', '17N', '19N', '20SE', '31E', '24W', '25SE']\n",
      "Weeks=14 (start dates): ['Jun 06', 'Jun 13', 'Jun 20', 'Jul 04', 'Jul 11', 'Jul 18', 'Jul 25', 'Aug 01', 'Aug 08', 'Aug 15', 'Sep 05', 'Sep 12', 'Sep 19', 'Sep 26']\n",
      "Steers: [13, 13, 13, 12, 14, 12, 12, 12, 13, 13, 10, 10, 10, 11]\n",
      "\n",
      "Pastures=7: ['7NW', '17N', '19N', '20SE', '31E', '15E', '26E']\n",
      "Weeks=14 (start dates): ['May 23', 'May 30', 'Jun 06', 'Jun 20', 'Jul 04', 'Jul 18', 'Jul 25', 'Aug 01', 'Aug 08', 'Aug 15', 'Aug 22', 'Sep 12', 'Sep 19', 'Sep 26']\n",
      "Steers: [13, 13, 13, 12, 10, 12, 11, 11, 12, 12, 12, 11, 11, 11]\n",
      "\n",
      "Pastures=7: ['7NW', '17N', '19N', '20SE', '31E', '26E', '25SE']\n",
      "Weeks=14 (start dates): ['May 30', 'Jun 06', 'Jun 20', 'Jul 04', 'Jul 18', 'Jul 25', 'Aug 01', 'Aug 08', 'Aug 15', 'Aug 22', 'Sep 05', 'Sep 12', 'Sep 19', 'Sep 26']\n",
      "Steers: [13, 13, 13, 11, 12, 12, 12, 13, 13, 13, 10, 10, 10, 11]\n",
      "\n",
      "Pastures=7: ['5E', '7NW', '17N', '19N', '24W', '15E', '25SE']\n",
      "Weeks=13 (start dates): ['Jun 06', 'Jun 13', 'Jun 20', 'Jul 04', 'Jul 11', 'Jul 18', 'Jul 25', 'Aug 01', 'Aug 08', 'Aug 15', 'Sep 12', 'Sep 19', 'Sep 26']\n",
      "Steers: [15, 13, 13, 13, 14, 12, 12, 12, 13, 13, 12, 13, 14]\n",
      "\n",
      "Pastures=7: ['5E', '7NW', '17N', '19N', '15E', '26E', '25SE']\n",
      "Weeks=13 (start dates): ['May 30', 'Jun 06', 'Jun 20', 'Jul 04', 'Jul 18', 'Jul 25', 'Aug 01', 'Aug 08', 'Aug 15', 'Aug 22', 'Sep 12', 'Sep 19', 'Sep 26']\n",
      "Steers: [15, 15, 13, 12, 12, 12, 12, 13, 13, 13, 12, 13, 14]\n",
      "\n",
      "Pastures=7: ['5E', '7NW', '17N', '20SE', '24W', '15E', '25SE']\n",
      "Weeks=13 (start dates): ['Jun 06', 'Jun 13', 'Jun 20', 'Jul 04', 'Jul 11', 'Jul 18', 'Jul 25', 'Aug 01', 'Aug 08', 'Aug 15', 'Sep 12', 'Sep 19', 'Sep 26']\n",
      "Steers: [15, 13, 13, 13, 14, 12, 13, 13, 13, 13, 13, 14, 15]\n",
      "\n",
      "Pastures=7: ['5E', '7NW', '17N', '20SE', '15E', '26E', '25SE']\n",
      "Weeks=13 (start dates): ['May 30', 'Jun 06', 'Jun 20', 'Jul 04', 'Jul 18', 'Jul 25', 'Aug 01', 'Aug 08', 'Aug 15', 'Aug 22', 'Sep 12', 'Sep 19', 'Sep 26']\n",
      "Steers: [15, 15, 13, 12, 12, 13, 13, 13, 13, 13, 13, 14, 15]\n",
      "\n",
      "Pastures=7: ['5E', '7NW', '17N', '31E', '24W', '15E', '25SE']\n",
      "Weeks=13 (start dates): ['Jun 06', 'Jun 13', 'Jun 20', 'Jul 04', 'Jul 11', 'Jul 18', 'Jul 25', 'Aug 01', 'Aug 08', 'Aug 15', 'Sep 12', 'Sep 19', 'Sep 26']\n",
      "Steers: [15, 13, 13, 12, 14, 12, 13, 13, 13, 13, 12, 13, 14]\n",
      "\n",
      "Pastures=7: ['5E', '7NW', '17N', '31E', '15E', '26E', '25SE']\n",
      "Weeks=13 (start dates): ['May 30', 'Jun 06', 'Jun 20', 'Jul 04', 'Jul 18', 'Jul 25', 'Aug 01', 'Aug 08', 'Aug 15', 'Aug 22', 'Sep 12', 'Sep 19', 'Sep 26']\n",
      "Steers: [15, 15, 13, 11, 12, 13, 13, 13, 13, 13, 12, 13, 14]\n",
      "\n",
      "Pastures=7: ['5E', '7NW', '19N', '20SE', '24W', '15E', '25SE']\n",
      "Weeks=13 (start dates): ['Jun 06', 'Jun 13', 'Jun 20', 'Jul 04', 'Jul 11', 'Jul 18', 'Jul 25', 'Aug 01', 'Aug 08', 'Aug 15', 'Sep 12', 'Sep 19', 'Sep 26']\n",
      "Steers: [15, 13, 13, 13, 14, 12, 12, 12, 13, 13, 12, 13, 14]\n",
      "\n",
      "Pastures=7: ['5E', '7NW', '19N', '20SE', '15E', '26E', '25SE']\n",
      "Weeks=13 (start dates): ['May 30', 'Jun 06', 'Jun 20', 'Jul 04', 'Jul 18', 'Jul 25', 'Aug 01', 'Aug 08', 'Aug 15', 'Aug 22', 'Sep 12', 'Sep 19', 'Sep 26']\n",
      "Steers: [15, 15, 13, 12, 12, 12, 12, 13, 13, 13, 12, 13, 14]\n",
      "\n",
      "Pastures=7: ['5E', '7NW', '19N', '31E', '24W', '15E', '25SE']\n",
      "Weeks=13 (start dates): ['Jun 06', 'Jun 13', 'Jun 20', 'Jul 04', 'Jul 11', 'Jul 18', 'Jul 25', 'Aug 01', 'Aug 08', 'Aug 15', 'Sep 12', 'Sep 19', 'Sep 26']\n",
      "Steers: [15, 13, 13, 12, 14, 12, 12, 12, 13, 13, 11, 12, 13]\n",
      "\n",
      "Pastures=7: ['5E', '7NW', '19N', '31E', '15E', '26E', '25SE']\n",
      "Weeks=13 (start dates): ['May 30', 'Jun 06', 'Jun 20', 'Jul 04', 'Jul 18', 'Jul 25', 'Aug 01', 'Aug 08', 'Aug 15', 'Aug 22', 'Sep 12', 'Sep 19', 'Sep 26']\n",
      "Steers: [15, 15, 13, 11, 12, 12, 12, 13, 13, 13, 11, 12, 13]\n",
      "\n",
      "Pastures=7: ['5E', '7NW', '20SE', '31E', '24W', '15E', '25SE']\n",
      "Weeks=13 (start dates): ['Jun 06', 'Jun 13', 'Jun 20', 'Jul 04', 'Jul 11', 'Jul 18', 'Jul 25', 'Aug 01', 'Aug 08', 'Aug 15', 'Sep 12', 'Sep 19', 'Sep 26']\n",
      "Steers: [15, 13, 13, 12, 14, 12, 13, 13, 13, 13, 12, 13, 14]\n",
      "\n",
      "Pastures=7: ['5E', '7NW', '20SE', '31E', '15E', '26E', '25SE']\n",
      "Weeks=13 (start dates): ['May 30', 'Jun 06', 'Jun 20', 'Jul 04', 'Jul 18', 'Jul 25', 'Aug 01', 'Aug 08', 'Aug 15', 'Aug 22', 'Sep 12', 'Sep 19', 'Sep 26']\n",
      "Steers: [15, 15, 13, 11, 12, 13, 13, 13, 13, 13, 12, 13, 14]\n",
      "\n",
      "Pastures=7: ['5E', '17N', '19N', '20SE', '24W', '15E', '25SE']\n",
      "Weeks=13 (start dates): ['Jun 06', 'Jun 13', 'Jun 20', 'Jul 04', 'Jul 11', 'Jul 18', 'Jul 25', 'Aug 01', 'Aug 08', 'Aug 15', 'Sep 12', 'Sep 19', 'Sep 26']\n",
      "Steers: [16, 14, 13, 14, 14, 12, 12, 12, 13, 13, 12, 13, 14]\n",
      "\n",
      "Pastures=7: ['5E', '17N', '19N', '20SE', '15E', '26E', '25SE']\n",
      "Weeks=13 (start dates): ['May 30', 'Jun 06', 'Jun 20', 'Jul 04', 'Jul 18', 'Jul 25', 'Aug 01', 'Aug 08', 'Aug 15', 'Aug 22', 'Sep 12', 'Sep 19', 'Sep 26']\n",
      "Steers: [16, 16, 13, 13, 12, 12, 12, 13, 13, 13, 12, 13, 14]\n",
      "\n",
      "Pastures=7: ['5E', '17N', '19N', '31E', '24W', '15E', '25SE']\n",
      "Weeks=13 (start dates): ['Jun 06', 'Jun 13', 'Jun 20', 'Jul 04', 'Jul 11', 'Jul 18', 'Jul 25', 'Aug 01', 'Aug 08', 'Aug 15', 'Sep 12', 'Sep 19', 'Sep 26']\n",
      "Steers: [16, 14, 13, 13, 14, 12, 12, 12, 13, 13, 11, 12, 13]\n",
      "\n",
      "Pastures=7: ['5E', '17N', '19N', '31E', '15E', '26E', '25SE']\n",
      "Weeks=13 (start dates): ['May 30', 'Jun 06', 'Jun 20', 'Jul 04', 'Jul 18', 'Jul 25', 'Aug 01', 'Aug 08', 'Aug 15', 'Aug 22', 'Sep 12', 'Sep 19', 'Sep 26']\n",
      "Steers: [16, 16, 13, 12, 12, 12, 12, 13, 13, 13, 11, 12, 13]\n",
      "\n",
      "Pastures=7: ['5E', '17N', '20SE', '31E', '24W', '15E', '25SE']\n",
      "Weeks=13 (start dates): ['Jun 06', 'Jun 13', 'Jun 20', 'Jul 04', 'Jul 11', 'Jul 18', 'Jul 25', 'Aug 01', 'Aug 08', 'Aug 15', 'Sep 12', 'Sep 19', 'Sep 26']\n",
      "Steers: [16, 14, 13, 13, 14, 12, 13, 13, 13, 13, 12, 13, 14]\n",
      "\n",
      "Pastures=7: ['5E', '17N', '20SE', '31E', '15E', '26E', '25SE']\n",
      "Weeks=13 (start dates): ['May 30', 'Jun 06', 'Jun 20', 'Jul 04', 'Jul 18', 'Jul 25', 'Aug 01', 'Aug 08', 'Aug 15', 'Aug 22', 'Sep 12', 'Sep 19', 'Sep 26']\n",
      "Steers: [16, 16, 13, 12, 12, 13, 13, 13, 13, 13, 12, 13, 14]\n",
      "\n",
      "Pastures=7: ['5E', '19N', '20SE', '31E', '24W', '15E', '25SE']\n",
      "Weeks=13 (start dates): ['Jun 06', 'Jun 13', 'Jun 20', 'Jul 04', 'Jul 11', 'Jul 18', 'Jul 25', 'Aug 01', 'Aug 08', 'Aug 15', 'Sep 12', 'Sep 19', 'Sep 26']\n",
      "Steers: [16, 14, 13, 13, 14, 12, 12, 12, 13, 13, 11, 12, 13]\n",
      "\n",
      "Pastures=7: ['5E', '19N', '20SE', '31E', '15E', '26E', '25SE']\n",
      "Weeks=13 (start dates): ['May 30', 'Jun 06', 'Jun 20', 'Jul 04', 'Jul 18', 'Jul 25', 'Aug 01', 'Aug 08', 'Aug 15', 'Aug 22', 'Sep 12', 'Sep 19', 'Sep 26']\n",
      "Steers: [16, 16, 13, 12, 12, 12, 12, 13, 13, 13, 11, 12, 13]\n",
      "\n",
      "Pastures=7: ['7NW', '17N', '19N', '20SE', '24W', '15E', '25SE']\n",
      "Weeks=13 (start dates): ['Jun 06', 'Jun 13', 'Jun 20', 'Jul 04', 'Jul 11', 'Jul 18', 'Jul 25', 'Aug 01', 'Aug 08', 'Aug 15', 'Sep 12', 'Sep 19', 'Sep 26']\n",
      "Steers: [13, 12, 12, 12, 13, 11, 11, 11, 12, 12, 11, 11, 12]\n",
      "\n",
      "Pastures=7: ['7NW', '17N', '19N', '20SE', '15E', '26E', '25SE']\n",
      "Weeks=13 (start dates): ['May 30', 'Jun 06', 'Jun 20', 'Jul 04', 'Jul 18', 'Jul 25', 'Aug 01', 'Aug 08', 'Aug 15', 'Aug 22', 'Sep 12', 'Sep 19', 'Sep 26']\n",
      "Steers: [13, 13, 12, 11, 11, 11, 11, 12, 12, 12, 11, 11, 12]\n",
      "\n",
      "Pastures=7: ['7NW', '17N', '19N', '31E', '24W', '15E', '25SE']\n",
      "Weeks=13 (start dates): ['Jun 06', 'Jun 13', 'Jun 20', 'Jul 04', 'Jul 11', 'Jul 18', 'Jul 25', 'Aug 01', 'Aug 08', 'Aug 15', 'Sep 12', 'Sep 19', 'Sep 26']\n",
      "Steers: [13, 12, 12, 11, 13, 11, 11, 11, 12, 12, 10, 10, 11]\n",
      "\n",
      "Pastures=7: ['7NW', '17N', '19N', '31E', '15E', '26E', '25SE']\n",
      "Weeks=13 (start dates): ['May 30', 'Jun 06', 'Jun 20', 'Jul 04', 'Jul 18', 'Jul 25', 'Aug 01', 'Aug 08', 'Aug 15', 'Aug 22', 'Sep 12', 'Sep 19', 'Sep 26']\n",
      "Steers: [13, 13, 12, 10, 11, 11, 11, 12, 12, 12, 10, 10, 11]\n",
      "\n",
      "Pastures=7: ['7NW', '17N', '20SE', '31E', '24W', '15E', '25SE']\n",
      "Weeks=13 (start dates): ['Jun 06', 'Jun 13', 'Jun 20', 'Jul 04', 'Jul 11', 'Jul 18', 'Jul 25', 'Aug 01', 'Aug 08', 'Aug 15', 'Sep 12', 'Sep 19', 'Sep 26']\n",
      "Steers: [13, 12, 12, 11, 13, 11, 12, 12, 12, 12, 11, 11, 12]\n",
      "\n",
      "Pastures=7: ['7NW', '17N', '20SE', '31E', '15E', '26E', '25SE']\n",
      "Weeks=13 (start dates): ['May 30', 'Jun 06', 'Jun 20', 'Jul 04', 'Jul 18', 'Jul 25', 'Aug 01', 'Aug 08', 'Aug 15', 'Aug 22', 'Sep 12', 'Sep 19', 'Sep 26']\n",
      "Steers: [13, 13, 12, 10, 11, 12, 12, 12, 12, 12, 11, 11, 12]\n",
      "\n",
      "Pastures=7: ['7NW', '19N', '20SE', '31E', '24W', '15E', '25SE']\n",
      "Weeks=13 (start dates): ['Jun 06', 'Jun 13', 'Jun 20', 'Jul 04', 'Jul 11', 'Jul 18', 'Jul 25', 'Aug 01', 'Aug 08', 'Aug 15', 'Sep 12', 'Sep 19', 'Sep 26']\n",
      "Steers: [13, 12, 12, 11, 13, 11, 11, 11, 12, 12, 10, 10, 11]\n",
      "\n",
      "Pastures=7: ['7NW', '19N', '20SE', '31E', '15E', '26E', '25SE']\n",
      "Weeks=13 (start dates): ['May 30', 'Jun 06', 'Jun 20', 'Jul 04', 'Jul 18', 'Jul 25', 'Aug 01', 'Aug 08', 'Aug 15', 'Aug 22', 'Sep 12', 'Sep 19', 'Sep 26']\n",
      "Steers: [13, 13, 12, 10, 11, 11, 11, 12, 12, 12, 10, 10, 11]\n",
      "\n",
      "Pastures=7: ['17N', '19N', '20SE', '31E', '24W', '15E', '25SE']\n",
      "Weeks=13 (start dates): ['Jun 06', 'Jun 13', 'Jun 20', 'Jul 04', 'Jul 11', 'Jul 18', 'Jul 25', 'Aug 01', 'Aug 08', 'Aug 15', 'Sep 12', 'Sep 19', 'Sep 26']\n",
      "Steers: [14, 13, 12, 12, 13, 11, 11, 11, 12, 12, 10, 10, 11]\n",
      "\n",
      "Pastures=7: ['17N', '19N', '20SE', '31E', '15E', '26E', '25SE']\n",
      "Weeks=13 (start dates): ['May 30', 'Jun 06', 'Jun 20', 'Jul 04', 'Jul 18', 'Jul 25', 'Aug 01', 'Aug 08', 'Aug 15', 'Aug 22', 'Sep 12', 'Sep 19', 'Sep 26']\n",
      "Steers: [14, 14, 12, 11, 11, 11, 11, 12, 12, 12, 10, 10, 11]\n",
      "\n",
      "Pastures=7: ['5E', '7NW', '17N', '19N', '24W', '15E', '26E']\n",
      "Weeks=12 (start dates): ['May 23', 'Jun 06', 'Jun 20', 'Jul 04', 'Jul 18', 'Jul 25', 'Aug 01', 'Aug 08', 'Aug 15', 'Sep 12', 'Sep 19', 'Sep 26']\n",
      "Steers: [14, 15, 12, 12, 12, 11, 11, 12, 12, 12, 13, 13]\n",
      "\n",
      "Pastures=7: ['5E', '7NW', '17N', '19N', '24W', '26E', '25SE']\n",
      "Weeks=12 (start dates): ['Jun 06', 'Jun 20', 'Jul 04', 'Jul 18', 'Jul 25', 'Aug 01', 'Aug 08', 'Aug 15', 'Sep 05', 'Sep 12', 'Sep 19', 'Sep 26']\n",
      "Steers: [15, 13, 13, 12, 12, 12, 13, 13, 10, 11, 12, 13]\n",
      "\n",
      "Pastures=7: ['5E', '7NW', '17N', '20SE', '24W', '15E', '26E']\n",
      "Weeks=12 (start dates): ['May 23', 'Jun 06', 'Jun 20', 'Jul 04', 'Jul 18', 'Jul 25', 'Aug 01', 'Aug 08', 'Aug 15', 'Sep 12', 'Sep 19', 'Sep 26']\n",
      "Steers: [14, 15, 12, 12, 12, 12, 12, 12, 12, 13, 14, 14]\n",
      "\n",
      "Pastures=7: ['5E', '7NW', '17N', '20SE', '24W', '26E', '25SE']\n",
      "Weeks=12 (start dates): ['Jun 06', 'Jun 20', 'Jul 04', 'Jul 18', 'Jul 25', 'Aug 01', 'Aug 08', 'Aug 15', 'Sep 05', 'Sep 12', 'Sep 19', 'Sep 26']\n",
      "Steers: [15, 13, 13, 12, 13, 13, 13, 13, 11, 12, 13, 14]\n",
      "\n",
      "Pastures=7: ['5E', '7NW', '17N', '31E', '24W', '15E', '26E']\n",
      "Weeks=12 (start dates): ['May 23', 'Jun 06', 'Jun 20', 'Jul 04', 'Jul 18', 'Jul 25', 'Aug 01', 'Aug 08', 'Aug 15', 'Sep 12', 'Sep 19', 'Sep 26']\n",
      "Steers: [14, 15, 12, 11, 12, 12, 12, 12, 12, 12, 13, 13]\n",
      "\n",
      "Pastures=7: ['5E', '7NW', '17N', '31E', '24W', '26E', '25SE']\n",
      "Weeks=12 (start dates): ['Jun 06', 'Jun 20', 'Jul 04', 'Jul 18', 'Jul 25', 'Aug 01', 'Aug 08', 'Aug 15', 'Sep 05', 'Sep 12', 'Sep 19', 'Sep 26']\n",
      "Steers: [15, 13, 12, 12, 13, 13, 13, 13, 10, 11, 12, 13]\n",
      "\n",
      "Pastures=7: ['5E', '7NW', '19N', '20SE', '24W', '15E', '26E']\n",
      "Weeks=12 (start dates): ['May 23', 'Jun 06', 'Jun 20', 'Jul 04', 'Jul 18', 'Jul 25', 'Aug 01', 'Aug 08', 'Aug 15', 'Sep 12', 'Sep 19', 'Sep 26']\n",
      "Steers: [14, 15, 12, 12, 12, 11, 11, 12, 12, 12, 13, 13]\n",
      "\n",
      "Pastures=7: ['5E', '7NW', '19N', '20SE', '24W', '26E', '25SE']\n",
      "Weeks=12 (start dates): ['Jun 06', 'Jun 20', 'Jul 04', 'Jul 18', 'Jul 25', 'Aug 01', 'Aug 08', 'Aug 15', 'Sep 05', 'Sep 12', 'Sep 19', 'Sep 26']\n",
      "Steers: [15, 13, 13, 12, 12, 12, 13, 13, 10, 11, 12, 13]\n",
      "\n",
      "Pastures=7: ['5E', '7NW', '19N', '31E', '24W', '15E', '26E']\n",
      "Weeks=12 (start dates): ['May 23', 'Jun 06', 'Jun 20', 'Jul 04', 'Jul 18', 'Jul 25', 'Aug 01', 'Aug 08', 'Aug 15', 'Sep 12', 'Sep 19', 'Sep 26']\n",
      "Steers: [14, 15, 12, 11, 12, 11, 11, 12, 12, 11, 12, 12]\n",
      "\n",
      "Pastures=7: ['5E', '7NW', '19N', '31E', '24W', '26E', '25SE']\n",
      "Weeks=12 (start dates): ['Jun 06', 'Jun 20', 'Jul 04', 'Jul 18', 'Jul 25', 'Aug 01', 'Aug 08', 'Aug 15', 'Sep 05', 'Sep 12', 'Sep 19', 'Sep 26']\n",
      "Steers: [15, 13, 12, 12, 12, 12, 13, 13, 9, 10, 11, 12]\n",
      "\n",
      "Pastures=7: ['5E', '7NW', '20SE', '31E', '24W', '15E', '26E']\n",
      "Weeks=12 (start dates): ['May 23', 'Jun 06', 'Jun 20', 'Jul 04', 'Jul 18', 'Jul 25', 'Aug 01', 'Aug 08', 'Aug 15', 'Sep 12', 'Sep 19', 'Sep 26']\n",
      "Steers: [14, 15, 12, 11, 12, 12, 12, 12, 12, 12, 13, 13]\n",
      "\n",
      "Pastures=7: ['5E', '7NW', '20SE', '31E', '24W', '26E', '25SE']\n",
      "Weeks=12 (start dates): ['Jun 06', 'Jun 20', 'Jul 04', 'Jul 18', 'Jul 25', 'Aug 01', 'Aug 08', 'Aug 15', 'Sep 05', 'Sep 12', 'Sep 19', 'Sep 26']\n",
      "Steers: [15, 13, 12, 12, 13, 13, 13, 13, 10, 11, 12, 13]\n",
      "\n",
      "Pastures=7: ['5E', '17N', '19N', '20SE', '24W', '15E', '26E']\n",
      "Weeks=12 (start dates): ['May 23', 'Jun 06', 'Jun 20', 'Jul 04', 'Jul 18', 'Jul 25', 'Aug 01', 'Aug 08', 'Aug 15', 'Sep 12', 'Sep 19', 'Sep 26']\n",
      "Steers: [14, 16, 12, 13, 12, 11, 11, 12, 12, 12, 13, 13]\n",
      "\n",
      "Pastures=7: ['5E', '17N', '19N', '20SE', '24W', '26E', '25SE']\n",
      "Weeks=12 (start dates): ['Jun 06', 'Jun 20', 'Jul 04', 'Jul 18', 'Jul 25', 'Aug 01', 'Aug 08', 'Aug 15', 'Sep 05', 'Sep 12', 'Sep 19', 'Sep 26']\n",
      "Steers: [16, 13, 14, 12, 12, 12, 13, 13, 10, 11, 12, 13]\n",
      "\n",
      "Pastures=7: ['5E', '17N', '19N', '31E', '24W', '15E', '26E']\n",
      "Weeks=12 (start dates): ['May 23', 'Jun 06', 'Jun 20', 'Jul 04', 'Jul 18', 'Jul 25', 'Aug 01', 'Aug 08', 'Aug 15', 'Sep 12', 'Sep 19', 'Sep 26']\n",
      "Steers: [14, 16, 12, 12, 12, 11, 11, 12, 12, 11, 12, 12]\n",
      "\n",
      "Pastures=7: ['5E', '17N', '19N', '31E', '24W', '26E', '25SE']\n",
      "Weeks=12 (start dates): ['Jun 06', 'Jun 20', 'Jul 04', 'Jul 18', 'Jul 25', 'Aug 01', 'Aug 08', 'Aug 15', 'Sep 05', 'Sep 12', 'Sep 19', 'Sep 26']\n",
      "Steers: [16, 13, 13, 12, 12, 12, 13, 13, 9, 10, 11, 12]\n",
      "\n",
      "Pastures=7: ['5E', '17N', '20SE', '31E', '24W', '15E', '26E']\n",
      "Weeks=12 (start dates): ['May 23', 'Jun 06', 'Jun 20', 'Jul 04', 'Jul 18', 'Jul 25', 'Aug 01', 'Aug 08', 'Aug 15', 'Sep 12', 'Sep 19', 'Sep 26']\n",
      "Steers: [14, 16, 12, 12, 12, 12, 12, 12, 12, 12, 13, 13]\n",
      "\n",
      "Pastures=7: ['5E', '17N', '20SE', '31E', '24W', '26E', '25SE']\n",
      "Weeks=12 (start dates): ['Jun 06', 'Jun 20', 'Jul 04', 'Jul 18', 'Jul 25', 'Aug 01', 'Aug 08', 'Aug 15', 'Sep 05', 'Sep 12', 'Sep 19', 'Sep 26']\n",
      "Steers: [16, 13, 13, 12, 13, 13, 13, 13, 10, 11, 12, 13]\n",
      "\n",
      "Pastures=7: ['5E', '19N', '20SE', '31E', '24W', '15E', '26E']\n",
      "Weeks=12 (start dates): ['May 23', 'Jun 06', 'Jun 20', 'Jul 04', 'Jul 18', 'Jul 25', 'Aug 01', 'Aug 08', 'Aug 15', 'Sep 12', 'Sep 19', 'Sep 26']\n",
      "Steers: [14, 16, 12, 12, 12, 11, 11, 12, 12, 11, 12, 12]\n",
      "\n",
      "Pastures=7: ['5E', '19N', '20SE', '31E', '24W', '26E', '25SE']\n",
      "Weeks=12 (start dates): ['Jun 06', 'Jun 20', 'Jul 04', 'Jul 18', 'Jul 25', 'Aug 01', 'Aug 08', 'Aug 15', 'Sep 05', 'Sep 12', 'Sep 19', 'Sep 26']\n",
      "Steers: [16, 13, 13, 12, 12, 12, 13, 13, 9, 10, 11, 12]\n",
      "\n",
      "Pastures=7: ['7NW', '17N', '19N', '20SE', '24W', '15E', '26E']\n",
      "Weeks=12 (start dates): ['May 23', 'Jun 06', 'Jun 20', 'Jul 04', 'Jul 18', 'Jul 25', 'Aug 01', 'Aug 08', 'Aug 15', 'Sep 12', 'Sep 19', 'Sep 26']\n",
      "Steers: [13, 13, 11, 11, 11, 10, 10, 11, 11, 11, 11, 11]\n",
      "\n",
      "Pastures=7: ['7NW', '17N', '19N', '20SE', '24W', '26E', '25SE']\n",
      "Weeks=12 (start dates): ['Jun 06', 'Jun 20', 'Jul 04', 'Jul 18', 'Jul 25', 'Aug 01', 'Aug 08', 'Aug 15', 'Sep 05', 'Sep 12', 'Sep 19', 'Sep 26']\n",
      "Steers: [13, 12, 12, 11, 11, 11, 12, 12, 10, 10, 10, 11]\n",
      "\n",
      "Pastures=7: ['7NW', '17N', '19N', '31E', '24W', '15E', '26E']\n",
      "Weeks=12 (start dates): ['May 23', 'Jun 06', 'Jun 20', 'Jul 04', 'Jul 18', 'Jul 25', 'Aug 01', 'Aug 08', 'Aug 15', 'Sep 12', 'Sep 19', 'Sep 26']\n",
      "Steers: [13, 13, 11, 10, 11, 10, 10, 11, 11, 10, 10, 10]\n",
      "\n",
      "Pastures=7: ['7NW', '17N', '19N', '31E', '24W', '26E', '25SE']\n",
      "Weeks=12 (start dates): ['Jun 06', 'Jun 20', 'Jul 04', 'Jul 18', 'Jul 25', 'Aug 01', 'Aug 08', 'Aug 15', 'Sep 05', 'Sep 12', 'Sep 19', 'Sep 26']\n",
      "Steers: [13, 12, 11, 11, 11, 11, 12, 12, 9, 9, 9, 10]\n",
      "\n",
      "Pastures=7: ['7NW', '17N', '20SE', '31E', '24W', '15E', '26E']\n",
      "Weeks=12 (start dates): ['May 23', 'Jun 06', 'Jun 20', 'Jul 04', 'Jul 18', 'Jul 25', 'Aug 01', 'Aug 08', 'Aug 15', 'Sep 12', 'Sep 19', 'Sep 26']\n",
      "Steers: [13, 13, 11, 10, 11, 11, 11, 11, 11, 11, 11, 11]\n",
      "\n",
      "Pastures=7: ['7NW', '17N', '20SE', '31E', '24W', '26E', '25SE']\n",
      "Weeks=12 (start dates): ['Jun 06', 'Jun 20', 'Jul 04', 'Jul 18', 'Jul 25', 'Aug 01', 'Aug 08', 'Aug 15', 'Sep 05', 'Sep 12', 'Sep 19', 'Sep 26']\n",
      "Steers: [13, 12, 11, 11, 12, 12, 12, 12, 10, 10, 10, 11]\n",
      "\n",
      "Pastures=7: ['7NW', '19N', '20SE', '31E', '24W', '15E', '26E']\n",
      "Weeks=12 (start dates): ['May 23', 'Jun 06', 'Jun 20', 'Jul 04', 'Jul 18', 'Jul 25', 'Aug 01', 'Aug 08', 'Aug 15', 'Sep 12', 'Sep 19', 'Sep 26']\n",
      "Steers: [13, 13, 11, 10, 11, 10, 10, 11, 11, 10, 10, 10]\n",
      "\n",
      "Pastures=7: ['7NW', '19N', '20SE', '31E', '24W', '26E', '25SE']\n",
      "Weeks=12 (start dates): ['Jun 06', 'Jun 20', 'Jul 04', 'Jul 18', 'Jul 25', 'Aug 01', 'Aug 08', 'Aug 15', 'Sep 05', 'Sep 12', 'Sep 19', 'Sep 26']\n",
      "Steers: [13, 12, 11, 11, 11, 11, 12, 12, 9, 9, 9, 10]\n",
      "\n",
      "Pastures=7: ['17N', '19N', '20SE', '31E', '24W', '15E', '26E']\n",
      "Weeks=12 (start dates): ['May 23', 'Jun 06', 'Jun 20', 'Jul 04', 'Jul 18', 'Jul 25', 'Aug 01', 'Aug 08', 'Aug 15', 'Sep 12', 'Sep 19', 'Sep 26']\n",
      "Steers: [13, 14, 11, 11, 11, 10, 10, 11, 11, 10, 10, 10]\n",
      "\n",
      "Pastures=7: ['17N', '19N', '20SE', '31E', '24W', '26E', '25SE']\n",
      "Weeks=12 (start dates): ['Jun 06', 'Jun 20', 'Jul 04', 'Jul 18', 'Jul 25', 'Aug 01', 'Aug 08', 'Aug 15', 'Sep 05', 'Sep 12', 'Sep 19', 'Sep 26']\n",
      "Steers: [14, 12, 12, 11, 11, 11, 12, 12, 9, 9, 9, 10]\n",
      "\n",
      "Pastures=7: ['5E', '7NW', '17N', '24W', '15E', '26E', '25SE']\n",
      "Weeks=11 (start dates): ['Jun 06', 'Jun 20', 'Jul 04', 'Jul 18', 'Jul 25', 'Aug 01', 'Aug 08', 'Aug 15', 'Sep 12', 'Sep 19', 'Sep 26']\n",
      "Steers: [15, 12, 12, 11, 12, 12, 12, 12, 12, 13, 14]\n",
      "\n",
      "Pastures=7: ['5E', '7NW', '19N', '24W', '15E', '26E', '25SE']\n",
      "Weeks=11 (start dates): ['Jun 06', 'Jun 20', 'Jul 04', 'Jul 18', 'Jul 25', 'Aug 01', 'Aug 08', 'Aug 15', 'Sep 12', 'Sep 19', 'Sep 26']\n",
      "Steers: [15, 12, 12, 11, 11, 11, 12, 12, 11, 12, 13]\n",
      "\n",
      "Pastures=7: ['5E', '7NW', '20SE', '24W', '15E', '26E', '25SE']\n",
      "Weeks=11 (start dates): ['Jun 06', 'Jun 20', 'Jul 04', 'Jul 18', 'Jul 25', 'Aug 01', 'Aug 08', 'Aug 15', 'Sep 12', 'Sep 19', 'Sep 26']\n",
      "Steers: [15, 12, 12, 11, 12, 12, 12, 12, 12, 13, 14]\n",
      "\n",
      "Pastures=7: ['5E', '7NW', '31E', '24W', '15E', '26E', '25SE']\n",
      "Weeks=11 (start dates): ['Jun 06', 'Jun 20', 'Jul 04', 'Jul 18', 'Jul 25', 'Aug 01', 'Aug 08', 'Aug 15', 'Sep 12', 'Sep 19', 'Sep 26']\n",
      "Steers: [15, 12, 11, 11, 12, 12, 12, 12, 11, 12, 13]\n",
      "\n",
      "Pastures=7: ['5E', '17N', '19N', '24W', '15E', '26E', '25SE']\n",
      "Weeks=11 (start dates): ['Jun 06', 'Jun 20', 'Jul 04', 'Jul 18', 'Jul 25', 'Aug 01', 'Aug 08', 'Aug 15', 'Sep 12', 'Sep 19', 'Sep 26']\n",
      "Steers: [16, 12, 13, 11, 11, 11, 12, 12, 11, 12, 13]\n",
      "\n",
      "Pastures=7: ['5E', '17N', '20SE', '24W', '15E', '26E', '25SE']\n",
      "Weeks=11 (start dates): ['Jun 06', 'Jun 20', 'Jul 04', 'Jul 18', 'Jul 25', 'Aug 01', 'Aug 08', 'Aug 15', 'Sep 12', 'Sep 19', 'Sep 26']\n",
      "Steers: [16, 12, 13, 11, 12, 12, 12, 12, 12, 13, 14]\n",
      "\n",
      "Pastures=7: ['5E', '17N', '31E', '24W', '15E', '26E', '25SE']\n",
      "Weeks=11 (start dates): ['Jun 06', 'Jun 20', 'Jul 04', 'Jul 18', 'Jul 25', 'Aug 01', 'Aug 08', 'Aug 15', 'Sep 12', 'Sep 19', 'Sep 26']\n",
      "Steers: [16, 12, 12, 11, 12, 12, 12, 12, 11, 12, 13]\n",
      "\n",
      "Pastures=7: ['5E', '19N', '20SE', '24W', '15E', '26E', '25SE']\n",
      "Weeks=11 (start dates): ['Jun 06', 'Jun 20', 'Jul 04', 'Jul 18', 'Jul 25', 'Aug 01', 'Aug 08', 'Aug 15', 'Sep 12', 'Sep 19', 'Sep 26']\n",
      "Steers: [16, 12, 13, 11, 11, 11, 12, 12, 11, 12, 13]\n",
      "\n",
      "Pastures=7: ['5E', '19N', '31E', '24W', '15E', '26E', '25SE']\n",
      "Weeks=11 (start dates): ['Jun 06', 'Jun 20', 'Jul 04', 'Jul 18', 'Jul 25', 'Aug 01', 'Aug 08', 'Aug 15', 'Sep 12', 'Sep 19', 'Sep 26']\n",
      "Steers: [16, 12, 12, 11, 11, 11, 12, 12, 10, 11, 12]\n",
      "\n",
      "Pastures=7: ['5E', '20SE', '31E', '24W', '15E', '26E', '25SE']\n",
      "Weeks=11 (start dates): ['Jun 06', 'Jun 20', 'Jul 04', 'Jul 18', 'Jul 25', 'Aug 01', 'Aug 08', 'Aug 15', 'Sep 12', 'Sep 19', 'Sep 26']\n",
      "Steers: [16, 12, 12, 11, 12, 12, 12, 12, 11, 12, 13]\n",
      "\n",
      "Pastures=7: ['7NW', '17N', '19N', '24W', '15E', '26E', '25SE']\n",
      "Weeks=11 (start dates): ['Jun 06', 'Jun 20', 'Jul 04', 'Jul 18', 'Jul 25', 'Aug 01', 'Aug 08', 'Aug 15', 'Sep 12', 'Sep 19', 'Sep 26']\n",
      "Steers: [13, 11, 11, 10, 10, 10, 11, 11, 10, 10, 11]\n",
      "\n",
      "Pastures=7: ['7NW', '17N', '20SE', '24W', '15E', '26E', '25SE']\n",
      "Weeks=11 (start dates): ['Jun 06', 'Jun 20', 'Jul 04', 'Jul 18', 'Jul 25', 'Aug 01', 'Aug 08', 'Aug 15', 'Sep 12', 'Sep 19', 'Sep 26']\n",
      "Steers: [13, 11, 11, 10, 11, 11, 11, 11, 11, 11, 12]\n",
      "\n",
      "Pastures=7: ['7NW', '17N', '31E', '24W', '15E', '26E', '25SE']\n",
      "Weeks=11 (start dates): ['Jun 06', 'Jun 20', 'Jul 04', 'Jul 18', 'Jul 25', 'Aug 01', 'Aug 08', 'Aug 15', 'Sep 12', 'Sep 19', 'Sep 26']\n",
      "Steers: [13, 11, 10, 10, 11, 11, 11, 11, 10, 10, 11]\n",
      "\n",
      "Pastures=7: ['7NW', '19N', '20SE', '24W', '15E', '26E', '25SE']\n",
      "Weeks=11 (start dates): ['Jun 06', 'Jun 20', 'Jul 04', 'Jul 18', 'Jul 25', 'Aug 01', 'Aug 08', 'Aug 15', 'Sep 12', 'Sep 19', 'Sep 26']\n",
      "Steers: [13, 11, 11, 10, 10, 10, 11, 11, 10, 10, 11]\n",
      "\n",
      "Pastures=7: ['7NW', '19N', '31E', '24W', '15E', '26E', '25SE']\n",
      "Weeks=11 (start dates): ['Jun 06', 'Jun 20', 'Jul 04', 'Jul 18', 'Jul 25', 'Aug 01', 'Aug 08', 'Aug 15', 'Sep 12', 'Sep 19', 'Sep 26']\n",
      "Steers: [13, 11, 10, 10, 10, 10, 11, 11, 9, 9, 10]\n",
      "\n",
      "Pastures=7: ['7NW', '20SE', '31E', '24W', '15E', '26E', '25SE']\n",
      "Weeks=11 (start dates): ['Jun 06', 'Jun 20', 'Jul 04', 'Jul 18', 'Jul 25', 'Aug 01', 'Aug 08', 'Aug 15', 'Sep 12', 'Sep 19', 'Sep 26']\n",
      "Steers: [13, 11, 10, 10, 11, 11, 11, 11, 10, 10, 11]\n",
      "\n",
      "Pastures=7: ['17N', '19N', '20SE', '24W', '15E', '26E', '25SE']\n",
      "Weeks=11 (start dates): ['Jun 06', 'Jun 20', 'Jul 04', 'Jul 18', 'Jul 25', 'Aug 01', 'Aug 08', 'Aug 15', 'Sep 12', 'Sep 19', 'Sep 26']\n",
      "Steers: [14, 11, 12, 10, 10, 10, 11, 11, 10, 10, 11]\n",
      "\n",
      "Pastures=7: ['17N', '19N', '31E', '24W', '15E', '26E', '25SE']\n",
      "Weeks=11 (start dates): ['Jun 06', 'Jun 20', 'Jul 04', 'Jul 18', 'Jul 25', 'Aug 01', 'Aug 08', 'Aug 15', 'Sep 12', 'Sep 19', 'Sep 26']\n",
      "Steers: [14, 11, 11, 10, 10, 10, 11, 11, 9, 9, 10]\n",
      "\n",
      "Pastures=7: ['17N', '20SE', '31E', '24W', '15E', '26E', '25SE']\n",
      "Weeks=11 (start dates): ['Jun 06', 'Jun 20', 'Jul 04', 'Jul 18', 'Jul 25', 'Aug 01', 'Aug 08', 'Aug 15', 'Sep 12', 'Sep 19', 'Sep 26']\n",
      "Steers: [14, 11, 11, 10, 11, 11, 11, 11, 10, 10, 11]\n",
      "\n",
      "Pastures=7: ['19N', '20SE', '31E', '24W', '15E', '26E', '25SE']\n",
      "Weeks=11 (start dates): ['Jun 06', 'Jun 20', 'Jul 04', 'Jul 18', 'Jul 25', 'Aug 01', 'Aug 08', 'Aug 15', 'Sep 12', 'Sep 19', 'Sep 26']\n",
      "Steers: [14, 11, 11, 10, 10, 10, 11, 11, 9, 9, 10]\n",
      "\n",
      "\n",
      "\n",
      "-------------------------------------\n",
      "No. Pastures: 8\n",
      "Max no. weeks: 15\n",
      "-------------------------------------\n",
      "Pastures=8: ['5E', '7NW', '17N', '19N', '20SE', '31E', '15E', '25SE']\n",
      "Weeks=15 (start dates): ['May 30', 'Jun 06', 'Jun 13', 'Jun 20', 'Jul 04', 'Jul 11', 'Jul 18', 'Jul 25', 'Aug 01', 'Aug 08', 'Aug 15', 'Aug 22', 'Sep 12', 'Sep 19', 'Sep 26']\n",
      "Steers: [17, 17, 15, 16, 14, 16, 15, 15, 15, 16, 16, 16, 14, 15, 16]\n",
      "\n",
      "Pastures=8: ['5E', '7NW', '17N', '19N', '20SE', '31E', '24W', '15E']\n",
      "Weeks=14 (start dates): ['May 23', 'Jun 06', 'Jun 13', 'Jun 20', 'Jul 04', 'Jul 11', 'Jul 18', 'Jul 25', 'Aug 01', 'Aug 08', 'Aug 15', 'Sep 12', 'Sep 19', 'Sep 26']\n",
      "Steers: [16, 17, 15, 15, 14, 16, 15, 14, 14, 15, 15, 14, 15, 15]\n",
      "\n",
      "Pastures=8: ['5E', '7NW', '17N', '19N', '20SE', '31E', '24W', '26E']\n",
      "Weeks=14 (start dates): ['May 16', 'May 23', 'Jun 06', 'Jun 20', 'Jul 04', 'Jul 18', 'Jul 25', 'Aug 01', 'Aug 08', 'Aug 15', 'Sep 05', 'Sep 12', 'Sep 19', 'Sep 26']\n",
      "Steers: [14, 17, 17, 15, 14, 15, 14, 14, 15, 15, 12, 13, 14, 14]\n",
      "\n",
      "Pastures=8: ['5E', '7NW', '17N', '19N', '20SE', '31E', '24W', '25SE']\n",
      "Weeks=14 (start dates): ['Jun 06', 'Jun 13', 'Jun 20', 'Jul 04', 'Jul 11', 'Jul 18', 'Jul 25', 'Aug 01', 'Aug 08', 'Aug 15', 'Sep 05', 'Sep 12', 'Sep 19', 'Sep 26']\n",
      "Steers: [17, 16, 16, 15, 17, 15, 15, 15, 16, 16, 12, 13, 14, 15]\n",
      "\n",
      "Pastures=8: ['5E', '7NW', '17N', '19N', '20SE', '31E', '15E', '26E']\n",
      "Weeks=14 (start dates): ['May 23', 'May 30', 'Jun 06', 'Jun 20', 'Jul 04', 'Jul 18', 'Jul 25', 'Aug 01', 'Aug 08', 'Aug 15', 'Aug 22', 'Sep 12', 'Sep 19', 'Sep 26']\n",
      "Steers: [16, 17, 17, 15, 13, 15, 14, 14, 15, 15, 15, 14, 15, 15]\n",
      "\n",
      "Pastures=8: ['5E', '7NW', '17N', '19N', '20SE', '31E', '26E', '25SE']\n",
      "Weeks=14 (start dates): ['May 30', 'Jun 06', 'Jun 20', 'Jul 04', 'Jul 18', 'Jul 25', 'Aug 01', 'Aug 08', 'Aug 15', 'Aug 22', 'Sep 05', 'Sep 12', 'Sep 19', 'Sep 26']\n",
      "Steers: [17, 17, 16, 14, 15, 15, 15, 16, 16, 16, 12, 13, 14, 15]\n",
      "\n",
      "Pastures=8: ['5E', '7NW', '17N', '19N', '20SE', '24W', '15E', '25SE']\n",
      "Weeks=13 (start dates): ['Jun 06', 'Jun 13', 'Jun 20', 'Jul 04', 'Jul 11', 'Jul 18', 'Jul 25', 'Aug 01', 'Aug 08', 'Aug 15', 'Sep 12', 'Sep 19', 'Sep 26']\n",
      "Steers: [17, 15, 15, 15, 16, 14, 14, 14, 15, 15, 14, 15, 16]\n",
      "\n",
      "Pastures=8: ['5E', '7NW', '17N', '19N', '20SE', '15E', '26E', '25SE']\n",
      "Weeks=13 (start dates): ['May 30', 'Jun 06', 'Jun 20', 'Jul 04', 'Jul 18', 'Jul 25', 'Aug 01', 'Aug 08', 'Aug 15', 'Aug 22', 'Sep 12', 'Sep 19', 'Sep 26']\n",
      "Steers: [17, 17, 15, 14, 14, 14, 14, 15, 15, 15, 14, 15, 16]\n",
      "\n",
      "Pastures=8: ['5E', '7NW', '17N', '19N', '31E', '24W', '15E', '25SE']\n",
      "Weeks=13 (start dates): ['Jun 06', 'Jun 13', 'Jun 20', 'Jul 04', 'Jul 11', 'Jul 18', 'Jul 25', 'Aug 01', 'Aug 08', 'Aug 15', 'Sep 12', 'Sep 19', 'Sep 26']\n",
      "Steers: [17, 15, 15, 14, 16, 14, 14, 14, 15, 15, 13, 14, 15]\n",
      "\n",
      "Pastures=8: ['5E', '7NW', '17N', '19N', '31E', '15E', '26E', '25SE']\n",
      "Weeks=13 (start dates): ['May 30', 'Jun 06', 'Jun 20', 'Jul 04', 'Jul 18', 'Jul 25', 'Aug 01', 'Aug 08', 'Aug 15', 'Aug 22', 'Sep 12', 'Sep 19', 'Sep 26']\n",
      "Steers: [17, 17, 15, 13, 14, 14, 14, 15, 15, 15, 13, 14, 15]\n",
      "\n",
      "Pastures=8: ['5E', '7NW', '17N', '20SE', '31E', '24W', '15E', '25SE']\n",
      "Weeks=13 (start dates): ['Jun 06', 'Jun 13', 'Jun 20', 'Jul 04', 'Jul 11', 'Jul 18', 'Jul 25', 'Aug 01', 'Aug 08', 'Aug 15', 'Sep 12', 'Sep 19', 'Sep 26']\n",
      "Steers: [17, 15, 15, 14, 16, 14, 15, 15, 15, 15, 14, 15, 16]\n",
      "\n",
      "Pastures=8: ['5E', '7NW', '17N', '20SE', '31E', '15E', '26E', '25SE']\n",
      "Weeks=13 (start dates): ['May 30', 'Jun 06', 'Jun 20', 'Jul 04', 'Jul 18', 'Jul 25', 'Aug 01', 'Aug 08', 'Aug 15', 'Aug 22', 'Sep 12', 'Sep 19', 'Sep 26']\n",
      "Steers: [17, 17, 15, 13, 14, 15, 15, 15, 15, 15, 14, 15, 16]\n",
      "\n",
      "Pastures=8: ['5E', '7NW', '19N', '20SE', '31E', '24W', '15E', '25SE']\n",
      "Weeks=13 (start dates): ['Jun 06', 'Jun 13', 'Jun 20', 'Jul 04', 'Jul 11', 'Jul 18', 'Jul 25', 'Aug 01', 'Aug 08', 'Aug 15', 'Sep 12', 'Sep 19', 'Sep 26']\n",
      "Steers: [17, 15, 15, 14, 16, 14, 14, 14, 15, 15, 13, 14, 15]\n",
      "\n",
      "Pastures=8: ['5E', '7NW', '19N', '20SE', '31E', '15E', '26E', '25SE']\n",
      "Weeks=13 (start dates): ['May 30', 'Jun 06', 'Jun 20', 'Jul 04', 'Jul 18', 'Jul 25', 'Aug 01', 'Aug 08', 'Aug 15', 'Aug 22', 'Sep 12', 'Sep 19', 'Sep 26']\n",
      "Steers: [17, 17, 15, 13, 14, 14, 14, 15, 15, 15, 13, 14, 15]\n",
      "\n",
      "Pastures=8: ['5E', '17N', '19N', '20SE', '31E', '24W', '15E', '25SE']\n",
      "Weeks=13 (start dates): ['Jun 06', 'Jun 13', 'Jun 20', 'Jul 04', 'Jul 11', 'Jul 18', 'Jul 25', 'Aug 01', 'Aug 08', 'Aug 15', 'Sep 12', 'Sep 19', 'Sep 26']\n",
      "Steers: [18, 16, 15, 15, 16, 14, 14, 14, 15, 15, 13, 14, 15]\n",
      "\n",
      "Pastures=8: ['5E', '17N', '19N', '20SE', '31E', '15E', '26E', '25SE']\n",
      "Weeks=13 (start dates): ['May 30', 'Jun 06', 'Jun 20', 'Jul 04', 'Jul 18', 'Jul 25', 'Aug 01', 'Aug 08', 'Aug 15', 'Aug 22', 'Sep 12', 'Sep 19', 'Sep 26']\n",
      "Steers: [18, 18, 15, 14, 14, 14, 14, 15, 15, 15, 13, 14, 15]\n",
      "\n",
      "Pastures=8: ['7NW', '17N', '19N', '20SE', '31E', '24W', '15E', '25SE']\n",
      "Weeks=13 (start dates): ['Jun 06', 'Jun 13', 'Jun 20', 'Jul 04', 'Jul 11', 'Jul 18', 'Jul 25', 'Aug 01', 'Aug 08', 'Aug 15', 'Sep 12', 'Sep 19', 'Sep 26']\n",
      "Steers: [15, 14, 14, 13, 15, 13, 13, 13, 14, 14, 12, 12, 13]\n",
      "\n",
      "Pastures=8: ['7NW', '17N', '19N', '20SE', '31E', '15E', '26E', '25SE']\n",
      "Weeks=13 (start dates): ['May 30', 'Jun 06', 'Jun 20', 'Jul 04', 'Jul 18', 'Jul 25', 'Aug 01', 'Aug 08', 'Aug 15', 'Aug 22', 'Sep 12', 'Sep 19', 'Sep 26']\n",
      "Steers: [15, 15, 14, 12, 13, 13, 13, 14, 14, 14, 12, 12, 13]\n",
      "\n",
      "Pastures=8: ['5E', '7NW', '17N', '19N', '20SE', '24W', '15E', '26E']\n",
      "Weeks=12 (start dates): ['May 23', 'Jun 06', 'Jun 20', 'Jul 04', 'Jul 18', 'Jul 25', 'Aug 01', 'Aug 08', 'Aug 15', 'Sep 12', 'Sep 19', 'Sep 26']\n",
      "Steers: [16, 17, 14, 14, 14, 13, 13, 14, 14, 14, 15, 15]\n",
      "\n",
      "Pastures=8: ['5E', '7NW', '17N', '19N', '20SE', '24W', '26E', '25SE']\n",
      "Weeks=12 (start dates): ['Jun 06', 'Jun 20', 'Jul 04', 'Jul 18', 'Jul 25', 'Aug 01', 'Aug 08', 'Aug 15', 'Sep 05', 'Sep 12', 'Sep 19', 'Sep 26']\n",
      "Steers: [17, 15, 15, 14, 14, 14, 15, 15, 12, 13, 14, 15]\n",
      "\n",
      "Pastures=8: ['5E', '7NW', '17N', '19N', '31E', '24W', '15E', '26E']\n",
      "Weeks=12 (start dates): ['May 23', 'Jun 06', 'Jun 20', 'Jul 04', 'Jul 18', 'Jul 25', 'Aug 01', 'Aug 08', 'Aug 15', 'Sep 12', 'Sep 19', 'Sep 26']\n",
      "Steers: [16, 17, 14, 13, 14, 13, 13, 14, 14, 13, 14, 14]\n",
      "\n",
      "Pastures=8: ['5E', '7NW', '17N', '19N', '31E', '24W', '26E', '25SE']\n",
      "Weeks=12 (start dates): ['Jun 06', 'Jun 20', 'Jul 04', 'Jul 18', 'Jul 25', 'Aug 01', 'Aug 08', 'Aug 15', 'Sep 05', 'Sep 12', 'Sep 19', 'Sep 26']\n",
      "Steers: [17, 15, 14, 14, 14, 14, 15, 15, 11, 12, 13, 14]\n",
      "\n",
      "Pastures=8: ['5E', '7NW', '17N', '20SE', '31E', '24W', '15E', '26E']\n",
      "Weeks=12 (start dates): ['May 23', 'Jun 06', 'Jun 20', 'Jul 04', 'Jul 18', 'Jul 25', 'Aug 01', 'Aug 08', 'Aug 15', 'Sep 12', 'Sep 19', 'Sep 26']\n",
      "Steers: [16, 17, 14, 13, 14, 14, 14, 14, 14, 14, 15, 15]\n",
      "\n",
      "Pastures=8: ['5E', '7NW', '17N', '20SE', '31E', '24W', '26E', '25SE']\n",
      "Weeks=12 (start dates): ['Jun 06', 'Jun 20', 'Jul 04', 'Jul 18', 'Jul 25', 'Aug 01', 'Aug 08', 'Aug 15', 'Sep 05', 'Sep 12', 'Sep 19', 'Sep 26']\n",
      "Steers: [17, 15, 14, 14, 15, 15, 15, 15, 12, 13, 14, 15]\n",
      "\n",
      "Pastures=8: ['5E', '7NW', '19N', '20SE', '31E', '24W', '15E', '26E']\n",
      "Weeks=12 (start dates): ['May 23', 'Jun 06', 'Jun 20', 'Jul 04', 'Jul 18', 'Jul 25', 'Aug 01', 'Aug 08', 'Aug 15', 'Sep 12', 'Sep 19', 'Sep 26']\n",
      "Steers: [16, 17, 14, 13, 14, 13, 13, 14, 14, 13, 14, 14]\n",
      "\n",
      "Pastures=8: ['5E', '7NW', '19N', '20SE', '31E', '24W', '26E', '25SE']\n",
      "Weeks=12 (start dates): ['Jun 06', 'Jun 20', 'Jul 04', 'Jul 18', 'Jul 25', 'Aug 01', 'Aug 08', 'Aug 15', 'Sep 05', 'Sep 12', 'Sep 19', 'Sep 26']\n",
      "Steers: [17, 15, 14, 14, 14, 14, 15, 15, 11, 12, 13, 14]\n",
      "\n",
      "Pastures=8: ['5E', '17N', '19N', '20SE', '31E', '24W', '15E', '26E']\n",
      "Weeks=12 (start dates): ['May 23', 'Jun 06', 'Jun 20', 'Jul 04', 'Jul 18', 'Jul 25', 'Aug 01', 'Aug 08', 'Aug 15', 'Sep 12', 'Sep 19', 'Sep 26']\n",
      "Steers: [16, 18, 14, 14, 14, 13, 13, 14, 14, 13, 14, 14]\n",
      "\n",
      "Pastures=8: ['5E', '17N', '19N', '20SE', '31E', '24W', '26E', '25SE']\n",
      "Weeks=12 (start dates): ['Jun 06', 'Jun 20', 'Jul 04', 'Jul 18', 'Jul 25', 'Aug 01', 'Aug 08', 'Aug 15', 'Sep 05', 'Sep 12', 'Sep 19', 'Sep 26']\n",
      "Steers: [18, 15, 15, 14, 14, 14, 15, 15, 11, 12, 13, 14]\n",
      "\n",
      "Pastures=8: ['7NW', '17N', '19N', '20SE', '31E', '24W', '15E', '26E']\n",
      "Weeks=12 (start dates): ['May 23', 'Jun 06', 'Jun 20', 'Jul 04', 'Jul 18', 'Jul 25', 'Aug 01', 'Aug 08', 'Aug 15', 'Sep 12', 'Sep 19', 'Sep 26']\n",
      "Steers: [15, 15, 13, 12, 13, 12, 12, 13, 13, 12, 12, 12]\n",
      "\n",
      "Pastures=8: ['7NW', '17N', '19N', '20SE', '31E', '24W', '26E', '25SE']\n",
      "Weeks=12 (start dates): ['Jun 06', 'Jun 20', 'Jul 04', 'Jul 18', 'Jul 25', 'Aug 01', 'Aug 08', 'Aug 15', 'Sep 05', 'Sep 12', 'Sep 19', 'Sep 26']\n",
      "Steers: [15, 14, 13, 13, 13, 13, 14, 14, 11, 11, 11, 12]\n",
      "\n",
      "Pastures=8: ['5E', '7NW', '17N', '19N', '24W', '15E', '26E', '25SE']\n",
      "Weeks=11 (start dates): ['Jun 06', 'Jun 20', 'Jul 04', 'Jul 18', 'Jul 25', 'Aug 01', 'Aug 08', 'Aug 15', 'Sep 12', 'Sep 19', 'Sep 26']\n",
      "Steers: [17, 14, 14, 13, 13, 13, 14, 14, 13, 14, 15]\n",
      "\n",
      "Pastures=8: ['5E', '7NW', '17N', '20SE', '24W', '15E', '26E', '25SE']\n",
      "Weeks=11 (start dates): ['Jun 06', 'Jun 20', 'Jul 04', 'Jul 18', 'Jul 25', 'Aug 01', 'Aug 08', 'Aug 15', 'Sep 12', 'Sep 19', 'Sep 26']\n",
      "Steers: [17, 14, 14, 13, 14, 14, 14, 14, 14, 15, 16]\n",
      "\n",
      "Pastures=8: ['5E', '7NW', '17N', '31E', '24W', '15E', '26E', '25SE']\n",
      "Weeks=11 (start dates): ['Jun 06', 'Jun 20', 'Jul 04', 'Jul 18', 'Jul 25', 'Aug 01', 'Aug 08', 'Aug 15', 'Sep 12', 'Sep 19', 'Sep 26']\n",
      "Steers: [17, 14, 13, 13, 14, 14, 14, 14, 13, 14, 15]\n",
      "\n",
      "Pastures=8: ['5E', '7NW', '19N', '20SE', '24W', '15E', '26E', '25SE']\n",
      "Weeks=11 (start dates): ['Jun 06', 'Jun 20', 'Jul 04', 'Jul 18', 'Jul 25', 'Aug 01', 'Aug 08', 'Aug 15', 'Sep 12', 'Sep 19', 'Sep 26']\n",
      "Steers: [17, 14, 14, 13, 13, 13, 14, 14, 13, 14, 15]\n",
      "\n",
      "Pastures=8: ['5E', '7NW', '19N', '31E', '24W', '15E', '26E', '25SE']\n",
      "Weeks=11 (start dates): ['Jun 06', 'Jun 20', 'Jul 04', 'Jul 18', 'Jul 25', 'Aug 01', 'Aug 08', 'Aug 15', 'Sep 12', 'Sep 19', 'Sep 26']\n",
      "Steers: [17, 14, 13, 13, 13, 13, 14, 14, 12, 13, 14]\n",
      "\n",
      "Pastures=8: ['5E', '7NW', '20SE', '31E', '24W', '15E', '26E', '25SE']\n",
      "Weeks=11 (start dates): ['Jun 06', 'Jun 20', 'Jul 04', 'Jul 18', 'Jul 25', 'Aug 01', 'Aug 08', 'Aug 15', 'Sep 12', 'Sep 19', 'Sep 26']\n",
      "Steers: [17, 14, 13, 13, 14, 14, 14, 14, 13, 14, 15]\n",
      "\n",
      "Pastures=8: ['5E', '17N', '19N', '20SE', '24W', '15E', '26E', '25SE']\n",
      "Weeks=11 (start dates): ['Jun 06', 'Jun 20', 'Jul 04', 'Jul 18', 'Jul 25', 'Aug 01', 'Aug 08', 'Aug 15', 'Sep 12', 'Sep 19', 'Sep 26']\n",
      "Steers: [18, 14, 15, 13, 13, 13, 14, 14, 13, 14, 15]\n",
      "\n",
      "Pastures=8: ['5E', '17N', '19N', '31E', '24W', '15E', '26E', '25SE']\n",
      "Weeks=11 (start dates): ['Jun 06', 'Jun 20', 'Jul 04', 'Jul 18', 'Jul 25', 'Aug 01', 'Aug 08', 'Aug 15', 'Sep 12', 'Sep 19', 'Sep 26']\n",
      "Steers: [18, 14, 14, 13, 13, 13, 14, 14, 12, 13, 14]\n",
      "\n",
      "Pastures=8: ['5E', '17N', '20SE', '31E', '24W', '15E', '26E', '25SE']\n",
      "Weeks=11 (start dates): ['Jun 06', 'Jun 20', 'Jul 04', 'Jul 18', 'Jul 25', 'Aug 01', 'Aug 08', 'Aug 15', 'Sep 12', 'Sep 19', 'Sep 26']\n",
      "Steers: [18, 14, 14, 13, 14, 14, 14, 14, 13, 14, 15]\n",
      "\n",
      "Pastures=8: ['5E', '19N', '20SE', '31E', '24W', '15E', '26E', '25SE']\n",
      "Weeks=11 (start dates): ['Jun 06', 'Jun 20', 'Jul 04', 'Jul 18', 'Jul 25', 'Aug 01', 'Aug 08', 'Aug 15', 'Sep 12', 'Sep 19', 'Sep 26']\n",
      "Steers: [18, 14, 14, 13, 13, 13, 14, 14, 12, 13, 14]\n",
      "\n",
      "Pastures=8: ['7NW', '17N', '19N', '20SE', '24W', '15E', '26E', '25SE']\n",
      "Weeks=11 (start dates): ['Jun 06', 'Jun 20', 'Jul 04', 'Jul 18', 'Jul 25', 'Aug 01', 'Aug 08', 'Aug 15', 'Sep 12', 'Sep 19', 'Sep 26']\n",
      "Steers: [15, 13, 13, 12, 12, 12, 13, 13, 12, 12, 13]\n",
      "\n",
      "Pastures=8: ['7NW', '17N', '19N', '31E', '24W', '15E', '26E', '25SE']\n",
      "Weeks=11 (start dates): ['Jun 06', 'Jun 20', 'Jul 04', 'Jul 18', 'Jul 25', 'Aug 01', 'Aug 08', 'Aug 15', 'Sep 12', 'Sep 19', 'Sep 26']\n",
      "Steers: [15, 13, 12, 12, 12, 12, 13, 13, 11, 11, 12]\n",
      "\n",
      "Pastures=8: ['7NW', '17N', '20SE', '31E', '24W', '15E', '26E', '25SE']\n",
      "Weeks=11 (start dates): ['Jun 06', 'Jun 20', 'Jul 04', 'Jul 18', 'Jul 25', 'Aug 01', 'Aug 08', 'Aug 15', 'Sep 12', 'Sep 19', 'Sep 26']\n",
      "Steers: [15, 13, 12, 12, 13, 13, 13, 13, 12, 12, 13]\n",
      "\n",
      "Pastures=8: ['7NW', '19N', '20SE', '31E', '24W', '15E', '26E', '25SE']\n",
      "Weeks=11 (start dates): ['Jun 06', 'Jun 20', 'Jul 04', 'Jul 18', 'Jul 25', 'Aug 01', 'Aug 08', 'Aug 15', 'Sep 12', 'Sep 19', 'Sep 26']\n",
      "Steers: [15, 13, 12, 12, 12, 12, 13, 13, 11, 11, 12]\n",
      "\n",
      "Pastures=8: ['17N', '19N', '20SE', '31E', '24W', '15E', '26E', '25SE']\n",
      "Weeks=11 (start dates): ['Jun 06', 'Jun 20', 'Jul 04', 'Jul 18', 'Jul 25', 'Aug 01', 'Aug 08', 'Aug 15', 'Sep 12', 'Sep 19', 'Sep 26']\n",
      "Steers: [16, 13, 13, 12, 12, 12, 13, 13, 11, 11, 12]\n",
      "\n",
      "\n",
      "\n",
      "-------------------------------------\n",
      "No. Pastures: 9\n",
      "Max no. weeks: 13\n",
      "-------------------------------------\n",
      "Pastures=9: ['5E', '7NW', '17N', '19N', '20SE', '31E', '24W', '15E', '25SE']\n",
      "Weeks=13 (start dates): ['Jun 06', 'Jun 13', 'Jun 20', 'Jul 04', 'Jul 11', 'Jul 18', 'Jul 25', 'Aug 01', 'Aug 08', 'Aug 15', 'Sep 12', 'Sep 19', 'Sep 26']\n",
      "Steers: [19, 17, 17, 16, 18, 16, 16, 16, 17, 17, 15, 16, 17]\n",
      "\n",
      "Pastures=9: ['5E', '7NW', '17N', '19N', '20SE', '31E', '15E', '26E', '25SE']\n",
      "Weeks=13 (start dates): ['May 30', 'Jun 06', 'Jun 20', 'Jul 04', 'Jul 18', 'Jul 25', 'Aug 01', 'Aug 08', 'Aug 15', 'Aug 22', 'Sep 12', 'Sep 19', 'Sep 26']\n",
      "Steers: [19, 19, 17, 15, 16, 16, 16, 17, 17, 17, 15, 16, 17]\n",
      "\n",
      "Pastures=9: ['5E', '7NW', '17N', '19N', '20SE', '31E', '24W', '15E', '26E']\n",
      "Weeks=12 (start dates): ['May 23', 'Jun 06', 'Jun 20', 'Jul 04', 'Jul 18', 'Jul 25', 'Aug 01', 'Aug 08', 'Aug 15', 'Sep 12', 'Sep 19', 'Sep 26']\n",
      "Steers: [18, 19, 16, 15, 16, 15, 15, 16, 16, 15, 16, 16]\n",
      "\n",
      "Pastures=9: ['5E', '7NW', '17N', '19N', '20SE', '31E', '24W', '26E', '25SE']\n",
      "Weeks=12 (start dates): ['Jun 06', 'Jun 20', 'Jul 04', 'Jul 18', 'Jul 25', 'Aug 01', 'Aug 08', 'Aug 15', 'Sep 05', 'Sep 12', 'Sep 19', 'Sep 26']\n",
      "Steers: [19, 17, 16, 16, 16, 16, 17, 17, 13, 14, 15, 16]\n",
      "\n",
      "Pastures=9: ['5E', '7NW', '17N', '19N', '20SE', '24W', '15E', '26E', '25SE']\n",
      "Weeks=11 (start dates): ['Jun 06', 'Jun 20', 'Jul 04', 'Jul 18', 'Jul 25', 'Aug 01', 'Aug 08', 'Aug 15', 'Sep 12', 'Sep 19', 'Sep 26']\n",
      "Steers: [19, 16, 16, 15, 15, 15, 16, 16, 15, 16, 17]\n",
      "\n",
      "Pastures=9: ['5E', '7NW', '17N', '19N', '31E', '24W', '15E', '26E', '25SE']\n",
      "Weeks=11 (start dates): ['Jun 06', 'Jun 20', 'Jul 04', 'Jul 18', 'Jul 25', 'Aug 01', 'Aug 08', 'Aug 15', 'Sep 12', 'Sep 19', 'Sep 26']\n",
      "Steers: [19, 16, 15, 15, 15, 15, 16, 16, 14, 15, 16]\n",
      "\n",
      "Pastures=9: ['5E', '7NW', '17N', '20SE', '31E', '24W', '15E', '26E', '25SE']\n",
      "Weeks=11 (start dates): ['Jun 06', 'Jun 20', 'Jul 04', 'Jul 18', 'Jul 25', 'Aug 01', 'Aug 08', 'Aug 15', 'Sep 12', 'Sep 19', 'Sep 26']\n",
      "Steers: [19, 16, 15, 15, 16, 16, 16, 16, 15, 16, 17]\n",
      "\n",
      "Pastures=9: ['5E', '7NW', '19N', '20SE', '31E', '24W', '15E', '26E', '25SE']\n",
      "Weeks=11 (start dates): ['Jun 06', 'Jun 20', 'Jul 04', 'Jul 18', 'Jul 25', 'Aug 01', 'Aug 08', 'Aug 15', 'Sep 12', 'Sep 19', 'Sep 26']\n",
      "Steers: [19, 16, 15, 15, 15, 15, 16, 16, 14, 15, 16]\n",
      "\n",
      "Pastures=9: ['5E', '17N', '19N', '20SE', '31E', '24W', '15E', '26E', '25SE']\n",
      "Weeks=11 (start dates): ['Jun 06', 'Jun 20', 'Jul 04', 'Jul 18', 'Jul 25', 'Aug 01', 'Aug 08', 'Aug 15', 'Sep 12', 'Sep 19', 'Sep 26']\n",
      "Steers: [20, 16, 16, 15, 15, 15, 16, 16, 14, 15, 16]\n",
      "\n",
      "Pastures=9: ['7NW', '17N', '19N', '20SE', '31E', '24W', '15E', '26E', '25SE']\n",
      "Weeks=11 (start dates): ['Jun 06', 'Jun 20', 'Jul 04', 'Jul 18', 'Jul 25', 'Aug 01', 'Aug 08', 'Aug 15', 'Sep 12', 'Sep 19', 'Sep 26']\n",
      "Steers: [17, 15, 14, 14, 14, 14, 15, 15, 13, 13, 14]\n",
      "\n"
     ]
    }
   ],
   "source": [
    "\"\"\"\n",
    "Print out all combos of Pastures available for each week across a set range of weeks\n",
    "\"\"\"\n",
    "reqd_pastures = []\n",
    "min_n_pastures = 5\n",
    "for r in range(min_n_pastures, 10):\n",
    "    past_combos = list(itertools.combinations(df_gps['Pasture'].unique(), r))\n",
    "    past_combos_sum = np.array(\n",
    "        [sum(all(elem in test2 for elem in test1) for test2 in df_gps_wkly['Pasture']) for test1 in past_combos])\n",
    "    top_combos = np.array(past_combos)[(past_combos_sum == np.max(past_combos_sum)) | (past_combos_sum > 5)]\n",
    "    if len(reqd_pastures) > 0:\n",
    "        reqd_mask = [all(p in x for p in reqd_pastures) for x in top_combos]\n",
    "        top_combos = top_combos[reqd_mask]\n",
    "    top_combos = [list(x) for x in top_combos]\n",
    "    top_dates = []\n",
    "    for combo in top_combos:\n",
    "        mask = [all(j in i for j in combo) for i in df_gps_wkly['Pasture']]\n",
    "        top_dates.append(\n",
    "            [datetime.date.fromisocalendar(year, x, 1).strftime('%b %d') for x in df_gps_wkly['week'][mask].values])\n",
    "    print('\\n\\n' + '-------------------------------------' + '\\n' + \n",
    "          'No. Pastures: ' + str(r) + '\\n'\n",
    "          'Max no. weeks: ' + str(np.max(past_combos_sum)) + '\\n' +\n",
    "          '-------------------------------------')\n",
    "    for dates, combo in [(y, x) for y, x in sorted(zip(top_dates, top_combos), key=lambda pair: len(pair[0]), reverse=True)]:\n",
    "        print('Pastures=' + str(len(combo)) + ': ' + str(combo))\n",
    "        past_mask = [all(j in i for j in combo) for i in df_gps_wkly['Pasture']]\n",
    "        #steer_mask = [all([j in y] for y in i for j in combo) for i in df_gps_wkly['Pasture_Steer_ID']]\n",
    "        steer_ct = [sum([sum([j in y for j in combo]) for y in x]) for x in df_gps_wkly['Pasture_Steer_ID'][past_mask]]\n",
    "        #steers = [len(x) for x in df_gps_wkly['Pasture_Steer_ID'][steer_mask]]\n",
    "        #dates = [datetime.date.fromisocalendar(2017, x, 1).strftime('%B %d') for x in df_gps_wkly['week'][mask].values]\n",
    "        print('Weeks=' + str(len(dates)) + ' (start dates): ' + str(dates))\n",
    "        print('Steers: ' + str(steer_ct) + '\\n')\n"
   ]
  },
  {
   "cell_type": "code",
   "execution_count": 9,
   "id": "0e0cd574-3874-4387-a26c-762bb7f37894",
   "metadata": {
    "tags": []
   },
   "outputs": [
    {
     "data": {
      "text/plain": [
       "array([21, 22, 23, 25, 27, 29, 30, 31, 32, 33, 34, 37, 38, 39],\n",
       "      dtype=int64)"
      ]
     },
     "execution_count": 9,
     "metadata": {},
     "output_type": "execute_result"
    }
   ],
   "source": [
    "\"\"\"\n",
    "Set the final combo of training pastures for modelling and create mask for extracting weeks when all are available\n",
    "\"\"\"\n",
    "# specific final pastures\n",
    "fnl_pastures = ['7NW', '17N', '20SE', '15E', '26E', '31E']\n",
    "#fnl_pastures = ['7NW', '17N', '24W', '26E', '25SE', '31E']\n",
    "\n",
    "# create mask of final weeks based on pastures\n",
    "wk_mask = [all(j in i for j in fnl_pastures) for i in df_gps_wkly['Pasture']]\n",
    "\n",
    "# check which weeks are in final dataset\n",
    "df_gps_wkly['week'][wk_mask].values"
   ]
  },
  {
   "cell_type": "code",
   "execution_count": 10,
   "id": "80f45d40-6713-421f-be88-a1b579900c61",
   "metadata": {},
   "outputs": [],
   "source": [
    "# read in CPER pasture shapefile\n",
    "df_cper = gpd.read_file(cper_f)\n",
    "\n",
    "# dissolve by pasture to make sure each pasture is a single polygon\n",
    "df_cper = df_cper.dissolve(by='Past_Name_').reset_index().rename(columns={'Past_Name_': 'Pasture'})\n",
    "\n",
    "# convert pasture polygons to an xarray (1 m gridded raster) object with pasture name as value\n",
    "cper_info = df_cper[['Pasture', 'geometry']].reset_index(drop=True).reset_index().rename(columns={'index': 'id'})\n",
    "past_dict = {row.id+1: row.Pasture for _, row in cper_info.iterrows()}\n",
    "past_dict[0] = 'UNK'\n",
    "past_mask_shp = [(row.geometry, row.id+1) for _, row in cper_info.iterrows()]"
   ]
  },
  {
   "cell_type": "code",
   "execution_count": 11,
   "id": "694d4749-c8d8-4215-8eb8-a5d39a23bba4",
   "metadata": {},
   "outputs": [],
   "source": [
    "\"\"\"\n",
    "Create 1 m and 30 m raster template for subsequent analysis\n",
    "\"\"\"\n",
    "# read in 1 m vegetation community raster as template and create pasture mask at 1 m\n",
    "xr_veg = xr.open_rasterio(veg_f).squeeze('band')\n",
    "past_mask_1m = shp2mask(shp=past_mask_shp, xr_object=xr_veg)\n",
    "past_mask_1m.values = np.array([past_dict[i] for i in past_mask_1m.values.flatten()]).reshape(past_mask_1m.shape)\n",
    "\n",
    "# read in 30 m template and create pasture mask at 30 m\n",
    "xr_30m = xr.open_rasterio(tif_30m_f).squeeze().reset_coords(drop=True)\n",
    "past_mask_30m = shp2mask(shp=past_mask_shp, xr_object=xr_30m)\n",
    "past_mask_30m.values = np.array([past_dict[i] for i in past_mask_30m.values.flatten()]).reshape(past_mask_30m.shape)"
   ]
  },
  {
   "cell_type": "code",
   "execution_count": 12,
   "id": "10dbd4a0-c5ae-4492-8901-83d2cd0f51a7",
   "metadata": {
    "scrolled": true,
    "tags": []
   },
   "outputs": [
    {
     "data": {
      "application/vnd.jupyter.widget-view+json": {
       "model_id": "bf9500559cac4365bca2ce6d2629f59d",
       "version_major": 2,
       "version_minor": 0
      },
      "text/plain": [
       "  0%|          | 0/21 [00:00<?, ?it/s]"
      ]
     },
     "metadata": {},
     "output_type": "display_data"
    },
    {
     "name": "stdout",
     "output_type": "stream",
     "text": [
      "-------------Week starting: May 08 (19) -------------\n",
      "Pasture: 24W (test)\n",
      "  3770_D1_2016\n",
      "GPS grazing hrs: 38.42\n",
      "Grid (1 m) grazing hrs: 38.4\n",
      "Grid (30 m) grazing hrs: 34.16\n",
      "  3771_D1_2016\n",
      "GPS grazing hrs: 42.48\n",
      "Grid (1 m) grazing hrs: 42.45\n",
      "Grid (30 m) grazing hrs: 34.59\n",
      "-------------Week starting: May 15 (20) -------------\n",
      "Pasture: 5E (test)\n",
      "  2285_D1_2016\n",
      "GPS grazing hrs: 76.24\n",
      "Grid (1 m) grazing hrs: 76.28\n",
      "Grid (30 m) grazing hrs: 69.28\n",
      "  2286_D1_2016\n"
     ]
    },
    {
     "name": "stderr",
     "output_type": "stream",
     "text": [
      "distributed.utils_perf - WARNING - full garbage collections took 11% CPU time recently (threshold: 10%)\n",
      "distributed.utils_perf - WARNING - full garbage collections took 11% CPU time recently (threshold: 10%)\n",
      "distributed.utils_perf - WARNING - full garbage collections took 11% CPU time recently (threshold: 10%)\n",
      "distributed.utils_perf - WARNING - full garbage collections took 11% CPU time recently (threshold: 10%)\n",
      "distributed.utils_perf - WARNING - full garbage collections took 11% CPU time recently (threshold: 10%)\n",
      "distributed.utils_perf - WARNING - full garbage collections took 11% CPU time recently (threshold: 10%)\n"
     ]
    },
    {
     "name": "stdout",
     "output_type": "stream",
     "text": [
      "GPS grazing hrs: 63.21\n",
      "Grid (1 m) grazing hrs: 63.31\n",
      "Grid (30 m) grazing hrs: 52.98\n",
      "Pasture: 7NW (test)\n",
      "  2287_D1_2016\n"
     ]
    },
    {
     "name": "stderr",
     "output_type": "stream",
     "text": [
      "distributed.utils_perf - WARNING - full garbage collections took 12% CPU time recently (threshold: 10%)\n",
      "distributed.utils_perf - WARNING - full garbage collections took 12% CPU time recently (threshold: 10%)\n",
      "distributed.utils_perf - WARNING - full garbage collections took 12% CPU time recently (threshold: 10%)\n",
      "distributed.utils_perf - WARNING - full garbage collections took 12% CPU time recently (threshold: 10%)\n",
      "distributed.utils_perf - WARNING - full garbage collections took 12% CPU time recently (threshold: 10%)\n",
      "distributed.utils_perf - WARNING - full garbage collections took 12% CPU time recently (threshold: 10%)\n",
      "distributed.utils_perf - WARNING - full garbage collections took 13% CPU time recently (threshold: 10%)\n"
     ]
    },
    {
     "name": "stdout",
     "output_type": "stream",
     "text": [
      "GPS grazing hrs: 66.58\n",
      "Grid (1 m) grazing hrs: 66.64\n",
      "Grid (30 m) grazing hrs: 55.06\n",
      "  2288_D1_2016\n"
     ]
    },
    {
     "name": "stderr",
     "output_type": "stream",
     "text": [
      "distributed.utils_perf - WARNING - full garbage collections took 10% CPU time recently (threshold: 10%)\n",
      "distributed.utils_perf - WARNING - full garbage collections took 10% CPU time recently (threshold: 10%)\n",
      "distributed.utils_perf - WARNING - full garbage collections took 10% CPU time recently (threshold: 10%)\n",
      "distributed.utils_perf - WARNING - full garbage collections took 10% CPU time recently (threshold: 10%)\n",
      "distributed.utils_perf - WARNING - full garbage collections took 10% CPU time recently (threshold: 10%)\n",
      "distributed.utils_perf - WARNING - full garbage collections took 10% CPU time recently (threshold: 10%)\n",
      "distributed.utils_perf - WARNING - full garbage collections took 10% CPU time recently (threshold: 10%)\n",
      "distributed.utils_perf - WARNING - full garbage collections took 10% CPU time recently (threshold: 10%)\n",
      "distributed.utils_perf - WARNING - full garbage collections took 10% CPU time recently (threshold: 10%)\n",
      "distributed.utils_perf - WARNING - full garbage collections took 10% CPU time recently (threshold: 10%)\n",
      "distributed.utils_perf - WARNING - full garbage collections took 14% CPU time recently (threshold: 10%)\n"
     ]
    },
    {
     "name": "stdout",
     "output_type": "stream",
     "text": [
      "GPS grazing hrs: 76.94\n",
      "Grid (1 m) grazing hrs: 77.02\n",
      "Grid (30 m) grazing hrs: 69.16\n",
      "Pasture: 17N (test)\n",
      "  2289_D1_2016\n",
      "GPS grazing hrs: 74.37\n",
      "Grid (1 m) grazing hrs: 74.43\n",
      "Grid (30 m) grazing hrs: 60.0\n",
      "  2290_D1_2016\n"
     ]
    },
    {
     "name": "stderr",
     "output_type": "stream",
     "text": [
      "distributed.utils_perf - WARNING - full garbage collections took 11% CPU time recently (threshold: 10%)\n",
      "distributed.utils_perf - WARNING - full garbage collections took 11% CPU time recently (threshold: 10%)\n",
      "distributed.utils_perf - WARNING - full garbage collections took 11% CPU time recently (threshold: 10%)\n",
      "distributed.utils_perf - WARNING - full garbage collections took 11% CPU time recently (threshold: 10%)\n",
      "distributed.utils_perf - WARNING - full garbage collections took 11% CPU time recently (threshold: 10%)\n",
      "distributed.utils_perf - WARNING - full garbage collections took 11% CPU time recently (threshold: 10%)\n",
      "distributed.utils_perf - WARNING - full garbage collections took 11% CPU time recently (threshold: 10%)\n"
     ]
    },
    {
     "name": "stdout",
     "output_type": "stream",
     "text": [
      "GPS grazing hrs: 63.22\n",
      "Grid (1 m) grazing hrs: 63.17\n",
      "Grid (30 m) grazing hrs: 49.27\n",
      "Pasture: 19N (test)\n",
      "  2291_D1_2016\n"
     ]
    },
    {
     "name": "stderr",
     "output_type": "stream",
     "text": [
      "distributed.utils_perf - WARNING - full garbage collections took 13% CPU time recently (threshold: 10%)\n",
      "distributed.utils_perf - WARNING - full garbage collections took 13% CPU time recently (threshold: 10%)\n"
     ]
    },
    {
     "name": "stdout",
     "output_type": "stream",
     "text": [
      "GPS grazing hrs: 63.19\n",
      "Grid (1 m) grazing hrs: 63.24\n",
      "Grid (30 m) grazing hrs: 52.83\n",
      "  4597_D1_2016\n"
     ]
    },
    {
     "name": "stderr",
     "output_type": "stream",
     "text": [
      "distributed.utils_perf - WARNING - full garbage collections took 12% CPU time recently (threshold: 10%)\n",
      "distributed.utils_perf - WARNING - full garbage collections took 12% CPU time recently (threshold: 10%)\n",
      "distributed.utils_perf - WARNING - full garbage collections took 12% CPU time recently (threshold: 10%)\n",
      "distributed.utils_perf - WARNING - full garbage collections took 12% CPU time recently (threshold: 10%)\n",
      "distributed.utils_perf - WARNING - full garbage collections took 12% CPU time recently (threshold: 10%)\n"
     ]
    },
    {
     "name": "stdout",
     "output_type": "stream",
     "text": [
      "GPS grazing hrs: 56.25\n",
      "Grid (1 m) grazing hrs: 56.34\n",
      "Grid (30 m) grazing hrs: 49.12\n",
      "Pasture: 20SE (test)\n",
      "  2294_D1_2016\n"
     ]
    },
    {
     "name": "stderr",
     "output_type": "stream",
     "text": [
      "distributed.utils_perf - WARNING - full garbage collections took 10% CPU time recently (threshold: 10%)\n",
      "distributed.utils_perf - WARNING - full garbage collections took 13% CPU time recently (threshold: 10%)\n",
      "distributed.utils_perf - WARNING - full garbage collections took 13% CPU time recently (threshold: 10%)\n",
      "distributed.utils_perf - WARNING - full garbage collections took 13% CPU time recently (threshold: 10%)\n",
      "distributed.utils_perf - WARNING - full garbage collections took 13% CPU time recently (threshold: 10%)\n",
      "distributed.utils_perf - WARNING - full garbage collections took 13% CPU time recently (threshold: 10%)\n",
      "distributed.utils_perf - WARNING - full garbage collections took 13% CPU time recently (threshold: 10%)\n"
     ]
    },
    {
     "name": "stdout",
     "output_type": "stream",
     "text": [
      "GPS grazing hrs: 69.93\n",
      "Grid (1 m) grazing hrs: 69.97\n",
      "Grid (30 m) grazing hrs: 59.36\n",
      "Pasture: 31E (test)\n",
      "  3769_D1_2016\n"
     ]
    },
    {
     "name": "stderr",
     "output_type": "stream",
     "text": [
      "distributed.utils_perf - WARNING - full garbage collections took 13% CPU time recently (threshold: 10%)\n",
      "distributed.utils_perf - WARNING - full garbage collections took 13% CPU time recently (threshold: 10%)\n",
      "distributed.utils_perf - WARNING - full garbage collections took 13% CPU time recently (threshold: 10%)\n",
      "distributed.utils_perf - WARNING - full garbage collections took 13% CPU time recently (threshold: 10%)\n",
      "distributed.utils_perf - WARNING - full garbage collections took 12% CPU time recently (threshold: 10%)\n",
      "distributed.utils_perf - WARNING - full garbage collections took 12% CPU time recently (threshold: 10%)\n",
      "distributed.utils_perf - WARNING - full garbage collections took 12% CPU time recently (threshold: 10%)\n",
      "distributed.utils_perf - WARNING - full garbage collections took 12% CPU time recently (threshold: 10%)\n",
      "distributed.utils_perf - WARNING - full garbage collections took 12% CPU time recently (threshold: 10%)\n"
     ]
    },
    {
     "name": "stdout",
     "output_type": "stream",
     "text": [
      "GPS grazing hrs: 70.69\n",
      "Grid (1 m) grazing hrs: 70.71\n",
      "Grid (30 m) grazing hrs: 66.98\n",
      "  4598_D1_2016\n"
     ]
    },
    {
     "name": "stderr",
     "output_type": "stream",
     "text": [
      "distributed.utils_perf - WARNING - full garbage collections took 12% CPU time recently (threshold: 10%)\n",
      "distributed.utils_perf - WARNING - full garbage collections took 12% CPU time recently (threshold: 10%)\n",
      "distributed.utils_perf - WARNING - full garbage collections took 12% CPU time recently (threshold: 10%)\n",
      "distributed.utils_perf - WARNING - full garbage collections took 12% CPU time recently (threshold: 10%)\n",
      "distributed.utils_perf - WARNING - full garbage collections took 11% CPU time recently (threshold: 10%)\n",
      "distributed.utils_perf - WARNING - full garbage collections took 11% CPU time recently (threshold: 10%)\n",
      "distributed.utils_perf - WARNING - full garbage collections took 11% CPU time recently (threshold: 10%)\n",
      "distributed.utils_perf - WARNING - full garbage collections took 10% CPU time recently (threshold: 10%)\n",
      "distributed.utils_perf - WARNING - full garbage collections took 10% CPU time recently (threshold: 10%)\n",
      "distributed.utils_perf - WARNING - full garbage collections took 10% CPU time recently (threshold: 10%)\n"
     ]
    },
    {
     "name": "stdout",
     "output_type": "stream",
     "text": [
      "GPS grazing hrs: 64.4\n",
      "Grid (1 m) grazing hrs: 64.38\n",
      "Grid (30 m) grazing hrs: 56.61\n",
      "Pasture: 24W (test)\n",
      "  3770_D1_2016\n"
     ]
    },
    {
     "name": "stderr",
     "output_type": "stream",
     "text": [
      "distributed.utils_perf - WARNING - full garbage collections took 10% CPU time recently (threshold: 10%)\n",
      "distributed.utils_perf - WARNING - full garbage collections took 10% CPU time recently (threshold: 10%)\n",
      "distributed.utils_perf - WARNING - full garbage collections took 10% CPU time recently (threshold: 10%)\n",
      "distributed.utils_perf - WARNING - full garbage collections took 10% CPU time recently (threshold: 10%)\n",
      "distributed.utils_perf - WARNING - full garbage collections took 10% CPU time recently (threshold: 10%)\n",
      "distributed.utils_perf - WARNING - full garbage collections took 10% CPU time recently (threshold: 10%)\n",
      "distributed.utils_perf - WARNING - full garbage collections took 10% CPU time recently (threshold: 10%)\n"
     ]
    },
    {
     "name": "stdout",
     "output_type": "stream",
     "text": [
      "GPS grazing hrs: 72.64\n",
      "Grid (1 m) grazing hrs: 72.69\n",
      "Grid (30 m) grazing hrs: 67.61\n",
      "  3771_D1_2016\n"
     ]
    },
    {
     "name": "stderr",
     "output_type": "stream",
     "text": [
      "distributed.utils_perf - WARNING - full garbage collections took 10% CPU time recently (threshold: 10%)\n",
      "distributed.utils_perf - WARNING - full garbage collections took 10% CPU time recently (threshold: 10%)\n",
      "distributed.utils_perf - WARNING - full garbage collections took 10% CPU time recently (threshold: 10%)\n",
      "distributed.utils_perf - WARNING - full garbage collections took 10% CPU time recently (threshold: 10%)\n",
      "distributed.utils_perf - WARNING - full garbage collections took 10% CPU time recently (threshold: 10%)\n",
      "distributed.utils_perf - WARNING - full garbage collections took 10% CPU time recently (threshold: 10%)\n",
      "distributed.utils_perf - WARNING - full garbage collections took 10% CPU time recently (threshold: 10%)\n",
      "distributed.utils_perf - WARNING - full garbage collections took 10% CPU time recently (threshold: 10%)\n"
     ]
    },
    {
     "name": "stdout",
     "output_type": "stream",
     "text": [
      "GPS grazing hrs: 75.73\n",
      "Grid (1 m) grazing hrs: 75.57\n",
      "Grid (30 m) grazing hrs: 70.84\n",
      "Pasture: 26E (test)\n",
      "  3774_D1_2016\n"
     ]
    },
    {
     "name": "stderr",
     "output_type": "stream",
     "text": [
      "distributed.utils_perf - WARNING - full garbage collections took 11% CPU time recently (threshold: 10%)\n",
      "distributed.utils_perf - WARNING - full garbage collections took 11% CPU time recently (threshold: 10%)\n",
      "distributed.utils_perf - WARNING - full garbage collections took 12% CPU time recently (threshold: 10%)\n",
      "distributed.utils_perf - WARNING - full garbage collections took 12% CPU time recently (threshold: 10%)\n",
      "distributed.utils_perf - WARNING - full garbage collections took 12% CPU time recently (threshold: 10%)\n",
      "distributed.utils_perf - WARNING - full garbage collections took 11% CPU time recently (threshold: 10%)\n",
      "distributed.utils_perf - WARNING - full garbage collections took 11% CPU time recently (threshold: 10%)\n",
      "distributed.utils_perf - WARNING - full garbage collections took 11% CPU time recently (threshold: 10%)\n"
     ]
    },
    {
     "name": "stdout",
     "output_type": "stream",
     "text": [
      "GPS grazing hrs: 80.51\n",
      "Grid (1 m) grazing hrs: 80.63\n",
      "Grid (30 m) grazing hrs: 75.78\n",
      "-------------Week starting: May 22 (21) -------------\n",
      "Pasture: 5E (test)\n",
      "  2285_D1_2016\n"
     ]
    },
    {
     "name": "stderr",
     "output_type": "stream",
     "text": [
      "distributed.utils_perf - WARNING - full garbage collections took 12% CPU time recently (threshold: 10%)\n",
      "distributed.utils_perf - WARNING - full garbage collections took 12% CPU time recently (threshold: 10%)\n",
      "distributed.utils_perf - WARNING - full garbage collections took 12% CPU time recently (threshold: 10%)\n",
      "distributed.utils_perf - WARNING - full garbage collections took 12% CPU time recently (threshold: 10%)\n",
      "distributed.utils_perf - WARNING - full garbage collections took 12% CPU time recently (threshold: 10%)\n",
      "distributed.utils_perf - WARNING - full garbage collections took 12% CPU time recently (threshold: 10%)\n",
      "distributed.utils_perf - WARNING - full garbage collections took 12% CPU time recently (threshold: 10%)\n"
     ]
    },
    {
     "name": "stdout",
     "output_type": "stream",
     "text": [
      "GPS grazing hrs: 75.91\n",
      "Grid (1 m) grazing hrs: 75.91\n",
      "Grid (30 m) grazing hrs: 71.27\n",
      "  2286_D1_2016\n"
     ]
    },
    {
     "name": "stderr",
     "output_type": "stream",
     "text": [
      "distributed.utils_perf - WARNING - full garbage collections took 12% CPU time recently (threshold: 10%)\n",
      "distributed.utils_perf - WARNING - full garbage collections took 12% CPU time recently (threshold: 10%)\n",
      "distributed.utils_perf - WARNING - full garbage collections took 12% CPU time recently (threshold: 10%)\n",
      "distributed.utils_perf - WARNING - full garbage collections took 12% CPU time recently (threshold: 10%)\n"
     ]
    },
    {
     "name": "stdout",
     "output_type": "stream",
     "text": [
      "GPS grazing hrs: 65.55\n",
      "Grid (1 m) grazing hrs: 65.69\n",
      "Grid (30 m) grazing hrs: 58.94\n",
      "  3773_D1_2016\n",
      "    SKIPPING STEER: All points masked.\n",
      "Pasture: 7NW (train)\n",
      "  2287_D1_2016\n"
     ]
    },
    {
     "name": "stderr",
     "output_type": "stream",
     "text": [
      "distributed.utils_perf - WARNING - full garbage collections took 12% CPU time recently (threshold: 10%)\n",
      "distributed.utils_perf - WARNING - full garbage collections took 12% CPU time recently (threshold: 10%)\n",
      "distributed.utils_perf - WARNING - full garbage collections took 12% CPU time recently (threshold: 10%)\n",
      "distributed.utils_perf - WARNING - full garbage collections took 12% CPU time recently (threshold: 10%)\n",
      "distributed.utils_perf - WARNING - full garbage collections took 12% CPU time recently (threshold: 10%)\n",
      "distributed.utils_perf - WARNING - full garbage collections took 12% CPU time recently (threshold: 10%)\n",
      "distributed.utils_perf - WARNING - full garbage collections took 12% CPU time recently (threshold: 10%)\n",
      "distributed.utils_perf - WARNING - full garbage collections took 12% CPU time recently (threshold: 10%)\n"
     ]
    },
    {
     "name": "stdout",
     "output_type": "stream",
     "text": [
      "GPS grazing hrs: 70.73\n",
      "Grid (1 m) grazing hrs: 70.7\n",
      "Grid (30 m) grazing hrs: 60.09\n",
      "  2288_D1_2016\n"
     ]
    },
    {
     "name": "stderr",
     "output_type": "stream",
     "text": [
      "distributed.utils_perf - WARNING - full garbage collections took 12% CPU time recently (threshold: 10%)\n",
      "distributed.utils_perf - WARNING - full garbage collections took 13% CPU time recently (threshold: 10%)\n",
      "distributed.utils_perf - WARNING - full garbage collections took 13% CPU time recently (threshold: 10%)\n",
      "distributed.utils_perf - WARNING - full garbage collections took 13% CPU time recently (threshold: 10%)\n",
      "distributed.utils_perf - WARNING - full garbage collections took 12% CPU time recently (threshold: 10%)\n",
      "distributed.utils_perf - WARNING - full garbage collections took 12% CPU time recently (threshold: 10%)\n",
      "distributed.utils_perf - WARNING - full garbage collections took 13% CPU time recently (threshold: 10%)\n"
     ]
    },
    {
     "name": "stdout",
     "output_type": "stream",
     "text": [
      "GPS grazing hrs: 78.41\n",
      "Grid (1 m) grazing hrs: 78.46\n",
      "Grid (30 m) grazing hrs: 69.83\n",
      "Pasture: 17N (train)\n",
      "  2289_D1_2016\n"
     ]
    },
    {
     "name": "stderr",
     "output_type": "stream",
     "text": [
      "distributed.utils_perf - WARNING - full garbage collections took 12% CPU time recently (threshold: 10%)\n",
      "distributed.utils_perf - WARNING - full garbage collections took 12% CPU time recently (threshold: 10%)\n",
      "distributed.utils_perf - WARNING - full garbage collections took 12% CPU time recently (threshold: 10%)\n",
      "distributed.utils_perf - WARNING - full garbage collections took 12% CPU time recently (threshold: 10%)\n",
      "distributed.utils_perf - WARNING - full garbage collections took 12% CPU time recently (threshold: 10%)\n",
      "distributed.utils_perf - WARNING - full garbage collections took 12% CPU time recently (threshold: 10%)\n",
      "distributed.utils_perf - WARNING - full garbage collections took 12% CPU time recently (threshold: 10%)\n",
      "distributed.utils_perf - WARNING - full garbage collections took 12% CPU time recently (threshold: 10%)\n",
      "distributed.utils_perf - WARNING - full garbage collections took 12% CPU time recently (threshold: 10%)\n",
      "distributed.utils_perf - WARNING - full garbage collections took 11% CPU time recently (threshold: 10%)\n",
      "distributed.utils_perf - WARNING - full garbage collections took 12% CPU time recently (threshold: 10%)\n"
     ]
    },
    {
     "name": "stdout",
     "output_type": "stream",
     "text": [
      "GPS grazing hrs: 73.41\n",
      "Grid (1 m) grazing hrs: 73.41\n",
      "Grid (30 m) grazing hrs: 62.91\n",
      "  2290_D1_2016\n"
     ]
    },
    {
     "name": "stderr",
     "output_type": "stream",
     "text": [
      "distributed.utils_perf - WARNING - full garbage collections took 12% CPU time recently (threshold: 10%)\n",
      "distributed.utils_perf - WARNING - full garbage collections took 12% CPU time recently (threshold: 10%)\n",
      "distributed.utils_perf - WARNING - full garbage collections took 11% CPU time recently (threshold: 10%)\n",
      "distributed.utils_perf - WARNING - full garbage collections took 11% CPU time recently (threshold: 10%)\n"
     ]
    },
    {
     "name": "stdout",
     "output_type": "stream",
     "text": [
      "GPS grazing hrs: 70.55\n",
      "Grid (1 m) grazing hrs: 70.64\n",
      "Grid (30 m) grazing hrs: 58.94\n",
      "Pasture: 19N (test)\n",
      "  2291_D1_2016\n"
     ]
    },
    {
     "name": "stderr",
     "output_type": "stream",
     "text": [
      "distributed.utils_perf - WARNING - full garbage collections took 12% CPU time recently (threshold: 10%)\n",
      "distributed.utils_perf - WARNING - full garbage collections took 12% CPU time recently (threshold: 10%)\n",
      "distributed.utils_perf - WARNING - full garbage collections took 13% CPU time recently (threshold: 10%)\n",
      "distributed.utils_perf - WARNING - full garbage collections took 13% CPU time recently (threshold: 10%)\n",
      "distributed.utils_perf - WARNING - full garbage collections took 13% CPU time recently (threshold: 10%)\n",
      "distributed.utils_perf - WARNING - full garbage collections took 13% CPU time recently (threshold: 10%)\n",
      "distributed.utils_perf - WARNING - full garbage collections took 13% CPU time recently (threshold: 10%)\n"
     ]
    },
    {
     "name": "stdout",
     "output_type": "stream",
     "text": [
      "GPS grazing hrs: 64.44\n",
      "Grid (1 m) grazing hrs: 64.6\n",
      "Grid (30 m) grazing hrs: 56.46\n",
      "  4597_D1_2016\n"
     ]
    },
    {
     "name": "stderr",
     "output_type": "stream",
     "text": [
      "distributed.utils_perf - WARNING - full garbage collections took 12% CPU time recently (threshold: 10%)\n",
      "distributed.utils_perf - WARNING - full garbage collections took 12% CPU time recently (threshold: 10%)\n",
      "distributed.utils_perf - WARNING - full garbage collections took 12% CPU time recently (threshold: 10%)\n",
      "distributed.utils_perf - WARNING - full garbage collections took 12% CPU time recently (threshold: 10%)\n",
      "distributed.utils_perf - WARNING - full garbage collections took 12% CPU time recently (threshold: 10%)\n"
     ]
    },
    {
     "name": "stdout",
     "output_type": "stream",
     "text": [
      "GPS grazing hrs: 55.56\n",
      "Grid (1 m) grazing hrs: 55.57\n",
      "Grid (30 m) grazing hrs: 49.41\n",
      "Pasture: 20SE (train)\n",
      "  2293_D1_2016\n"
     ]
    },
    {
     "name": "stderr",
     "output_type": "stream",
     "text": [
      "distributed.utils_perf - WARNING - full garbage collections took 11% CPU time recently (threshold: 10%)\n",
      "distributed.utils_perf - WARNING - full garbage collections took 11% CPU time recently (threshold: 10%)\n",
      "distributed.utils_perf - WARNING - full garbage collections took 11% CPU time recently (threshold: 10%)\n",
      "distributed.utils_perf - WARNING - full garbage collections took 11% CPU time recently (threshold: 10%)\n",
      "distributed.utils_perf - WARNING - full garbage collections took 11% CPU time recently (threshold: 10%)\n",
      "distributed.utils_perf - WARNING - full garbage collections took 12% CPU time recently (threshold: 10%)\n",
      "distributed.utils_perf - WARNING - full garbage collections took 12% CPU time recently (threshold: 10%)\n",
      "distributed.utils_perf - WARNING - full garbage collections took 12% CPU time recently (threshold: 10%)\n",
      "distributed.utils_perf - WARNING - full garbage collections took 11% CPU time recently (threshold: 10%)\n",
      "distributed.utils_perf - WARNING - full garbage collections took 11% CPU time recently (threshold: 10%)\n",
      "distributed.utils_perf - WARNING - full garbage collections took 11% CPU time recently (threshold: 10%)\n",
      "distributed.utils_perf - WARNING - full garbage collections took 11% CPU time recently (threshold: 10%)\n",
      "distributed.utils_perf - WARNING - full garbage collections took 11% CPU time recently (threshold: 10%)\n"
     ]
    },
    {
     "name": "stdout",
     "output_type": "stream",
     "text": [
      "GPS grazing hrs: 51.92\n",
      "Grid (1 m) grazing hrs: 51.96\n",
      "Grid (30 m) grazing hrs: 48.34\n",
      "  2294_D1_2016\n"
     ]
    },
    {
     "name": "stderr",
     "output_type": "stream",
     "text": [
      "distributed.utils_perf - WARNING - full garbage collections took 12% CPU time recently (threshold: 10%)\n",
      "distributed.utils_perf - WARNING - full garbage collections took 12% CPU time recently (threshold: 10%)\n",
      "distributed.utils_perf - WARNING - full garbage collections took 12% CPU time recently (threshold: 10%)\n",
      "distributed.utils_perf - WARNING - full garbage collections took 12% CPU time recently (threshold: 10%)\n",
      "distributed.utils_perf - WARNING - full garbage collections took 12% CPU time recently (threshold: 10%)\n",
      "distributed.utils_perf - WARNING - full garbage collections took 12% CPU time recently (threshold: 10%)\n",
      "distributed.utils_perf - WARNING - full garbage collections took 12% CPU time recently (threshold: 10%)\n",
      "distributed.utils_perf - WARNING - full garbage collections took 12% CPU time recently (threshold: 10%)\n",
      "distributed.utils_perf - WARNING - full garbage collections took 12% CPU time recently (threshold: 10%)\n",
      "distributed.utils_perf - WARNING - full garbage collections took 12% CPU time recently (threshold: 10%)\n",
      "distributed.utils_perf - WARNING - full garbage collections took 12% CPU time recently (threshold: 10%)\n",
      "distributed.utils_perf - WARNING - full garbage collections took 12% CPU time recently (threshold: 10%)\n",
      "distributed.utils_perf - WARNING - full garbage collections took 20% CPU time recently (threshold: 10%)\n",
      "distributed.utils_perf - WARNING - full garbage collections took 20% CPU time recently (threshold: 10%)\n"
     ]
    },
    {
     "name": "stdout",
     "output_type": "stream",
     "text": [
      "GPS grazing hrs: 72.49\n",
      "Grid (1 m) grazing hrs: 72.55\n",
      "Grid (30 m) grazing hrs: 65.58\n",
      "Pasture: 31E (train)\n",
      "  3769_D1_2016\n"
     ]
    },
    {
     "name": "stderr",
     "output_type": "stream",
     "text": [
      "distributed.utils_perf - WARNING - full garbage collections took 10% CPU time recently (threshold: 10%)\n",
      "distributed.utils_perf - WARNING - full garbage collections took 10% CPU time recently (threshold: 10%)\n",
      "distributed.utils_perf - WARNING - full garbage collections took 10% CPU time recently (threshold: 10%)\n",
      "distributed.utils_perf - WARNING - full garbage collections took 10% CPU time recently (threshold: 10%)\n",
      "distributed.utils_perf - WARNING - full garbage collections took 11% CPU time recently (threshold: 10%)\n",
      "distributed.utils_perf - WARNING - full garbage collections took 11% CPU time recently (threshold: 10%)\n",
      "distributed.utils_perf - WARNING - full garbage collections took 11% CPU time recently (threshold: 10%)\n",
      "distributed.utils_perf - WARNING - full garbage collections took 10% CPU time recently (threshold: 10%)\n",
      "distributed.utils_perf - WARNING - full garbage collections took 10% CPU time recently (threshold: 10%)\n",
      "distributed.utils_perf - WARNING - full garbage collections took 10% CPU time recently (threshold: 10%)\n",
      "distributed.utils_perf - WARNING - full garbage collections took 10% CPU time recently (threshold: 10%)\n"
     ]
    },
    {
     "name": "stdout",
     "output_type": "stream",
     "text": [
      "GPS grazing hrs: 71.28\n",
      "Grid (1 m) grazing hrs: 71.27\n",
      "Grid (30 m) grazing hrs: 65.41\n",
      "  4598_D1_2016\n"
     ]
    },
    {
     "name": "stderr",
     "output_type": "stream",
     "text": [
      "distributed.utils_perf - WARNING - full garbage collections took 12% CPU time recently (threshold: 10%)\n",
      "distributed.utils_perf - WARNING - full garbage collections took 12% CPU time recently (threshold: 10%)\n",
      "distributed.utils_perf - WARNING - full garbage collections took 12% CPU time recently (threshold: 10%)\n",
      "distributed.utils_perf - WARNING - full garbage collections took 11% CPU time recently (threshold: 10%)\n",
      "distributed.utils_perf - WARNING - full garbage collections took 11% CPU time recently (threshold: 10%)\n",
      "distributed.utils_perf - WARNING - full garbage collections took 11% CPU time recently (threshold: 10%)\n",
      "distributed.utils_perf - WARNING - full garbage collections took 11% CPU time recently (threshold: 10%)\n",
      "distributed.utils_perf - WARNING - full garbage collections took 11% CPU time recently (threshold: 10%)\n",
      "distributed.utils_perf - WARNING - full garbage collections took 10% CPU time recently (threshold: 10%)\n"
     ]
    },
    {
     "name": "stdout",
     "output_type": "stream",
     "text": [
      "GPS grazing hrs: 73.83\n",
      "Grid (1 m) grazing hrs: 73.85\n",
      "Grid (30 m) grazing hrs: 64.32\n",
      "Pasture: 24W (test)\n",
      "  3770_D1_2016\n"
     ]
    },
    {
     "name": "stderr",
     "output_type": "stream",
     "text": [
      "distributed.utils_perf - WARNING - full garbage collections took 14% CPU time recently (threshold: 10%)\n",
      "distributed.utils_perf - WARNING - full garbage collections took 14% CPU time recently (threshold: 10%)\n",
      "distributed.utils_perf - WARNING - full garbage collections took 14% CPU time recently (threshold: 10%)\n",
      "distributed.utils_perf - WARNING - full garbage collections took 14% CPU time recently (threshold: 10%)\n",
      "distributed.utils_perf - WARNING - full garbage collections took 14% CPU time recently (threshold: 10%)\n",
      "distributed.utils_perf - WARNING - full garbage collections took 13% CPU time recently (threshold: 10%)\n",
      "distributed.utils_perf - WARNING - full garbage collections took 13% CPU time recently (threshold: 10%)\n",
      "distributed.utils_perf - WARNING - full garbage collections took 13% CPU time recently (threshold: 10%)\n",
      "distributed.utils_perf - WARNING - full garbage collections took 13% CPU time recently (threshold: 10%)\n"
     ]
    },
    {
     "name": "stdout",
     "output_type": "stream",
     "text": [
      "GPS grazing hrs: 67.63\n",
      "Grid (1 m) grazing hrs: 67.7\n",
      "Grid (30 m) grazing hrs: 59.05\n",
      "  3771_D1_2016\n"
     ]
    },
    {
     "name": "stderr",
     "output_type": "stream",
     "text": [
      "distributed.utils_perf - WARNING - full garbage collections took 10% CPU time recently (threshold: 10%)\n",
      "distributed.utils_perf - WARNING - full garbage collections took 10% CPU time recently (threshold: 10%)\n",
      "distributed.utils_perf - WARNING - full garbage collections took 10% CPU time recently (threshold: 10%)\n",
      "distributed.utils_perf - WARNING - full garbage collections took 10% CPU time recently (threshold: 10%)\n",
      "distributed.utils_perf - WARNING - full garbage collections took 10% CPU time recently (threshold: 10%)\n",
      "distributed.utils_perf - WARNING - full garbage collections took 10% CPU time recently (threshold: 10%)\n",
      "distributed.utils_perf - WARNING - full garbage collections took 10% CPU time recently (threshold: 10%)\n",
      "distributed.utils_perf - WARNING - full garbage collections took 11% CPU time recently (threshold: 10%)\n",
      "distributed.utils_perf - WARNING - full garbage collections took 11% CPU time recently (threshold: 10%)\n"
     ]
    },
    {
     "name": "stdout",
     "output_type": "stream",
     "text": [
      "GPS grazing hrs: 75.89\n",
      "Grid (1 m) grazing hrs: 75.91\n",
      "Grid (30 m) grazing hrs: 72.39\n",
      "Pasture: 15E (train)\n",
      "  3773_D1_2016\n"
     ]
    },
    {
     "name": "stderr",
     "output_type": "stream",
     "text": [
      "distributed.utils_perf - WARNING - full garbage collections took 11% CPU time recently (threshold: 10%)\n",
      "distributed.utils_perf - WARNING - full garbage collections took 11% CPU time recently (threshold: 10%)\n",
      "distributed.utils_perf - WARNING - full garbage collections took 11% CPU time recently (threshold: 10%)\n",
      "distributed.utils_perf - WARNING - full garbage collections took 11% CPU time recently (threshold: 10%)\n",
      "distributed.utils_perf - WARNING - full garbage collections took 11% CPU time recently (threshold: 10%)\n",
      "distributed.utils_perf - WARNING - full garbage collections took 11% CPU time recently (threshold: 10%)\n"
     ]
    },
    {
     "name": "stdout",
     "output_type": "stream",
     "text": [
      "GPS grazing hrs: 51.36\n",
      "Grid (1 m) grazing hrs: 51.41\n",
      "Grid (30 m) grazing hrs: 40.15\n",
      "Pasture: 26E (train)\n",
      "  3774_D1_2016\n"
     ]
    },
    {
     "name": "stderr",
     "output_type": "stream",
     "text": [
      "distributed.utils_perf - WARNING - full garbage collections took 13% CPU time recently (threshold: 10%)\n"
     ]
    },
    {
     "name": "stdout",
     "output_type": "stream",
     "text": [
      "GPS grazing hrs: 77.39\n",
      "Grid (1 m) grazing hrs: 77.56\n",
      "Grid (30 m) grazing hrs: 70.85\n",
      "  3775_D1_2016\n"
     ]
    },
    {
     "name": "stderr",
     "output_type": "stream",
     "text": [
      "distributed.utils_perf - WARNING - full garbage collections took 10% CPU time recently (threshold: 10%)\n",
      "distributed.utils_perf - WARNING - full garbage collections took 10% CPU time recently (threshold: 10%)\n",
      "distributed.utils_perf - WARNING - full garbage collections took 10% CPU time recently (threshold: 10%)\n",
      "distributed.utils_perf - WARNING - full garbage collections took 10% CPU time recently (threshold: 10%)\n",
      "distributed.utils_perf - WARNING - full garbage collections took 10% CPU time recently (threshold: 10%)\n",
      "distributed.utils_perf - WARNING - full garbage collections took 10% CPU time recently (threshold: 10%)\n",
      "distributed.utils_perf - WARNING - full garbage collections took 10% CPU time recently (threshold: 10%)\n",
      "distributed.utils_perf - WARNING - full garbage collections took 10% CPU time recently (threshold: 10%)\n",
      "distributed.utils_perf - WARNING - full garbage collections took 12% CPU time recently (threshold: 10%)\n",
      "distributed.utils_perf - WARNING - full garbage collections took 12% CPU time recently (threshold: 10%)\n",
      "distributed.utils_perf - WARNING - full garbage collections took 12% CPU time recently (threshold: 10%)\n"
     ]
    },
    {
     "name": "stdout",
     "output_type": "stream",
     "text": [
      "GPS grazing hrs: 82.18\n",
      "Grid (1 m) grazing hrs: 82.43\n",
      "Grid (30 m) grazing hrs: 74.56\n",
      "-------------Week starting: May 29 (22) -------------\n",
      "Pasture: 5E (test)\n",
      "  2285_D1_2016\n"
     ]
    },
    {
     "name": "stderr",
     "output_type": "stream",
     "text": [
      "distributed.utils_perf - WARNING - full garbage collections took 10% CPU time recently (threshold: 10%)\n",
      "distributed.utils_perf - WARNING - full garbage collections took 10% CPU time recently (threshold: 10%)\n",
      "distributed.utils_perf - WARNING - full garbage collections took 10% CPU time recently (threshold: 10%)\n",
      "distributed.utils_perf - WARNING - full garbage collections took 10% CPU time recently (threshold: 10%)\n",
      "distributed.utils_perf - WARNING - full garbage collections took 10% CPU time recently (threshold: 10%)\n",
      "distributed.utils_perf - WARNING - full garbage collections took 10% CPU time recently (threshold: 10%)\n",
      "distributed.utils_perf - WARNING - full garbage collections took 10% CPU time recently (threshold: 10%)\n",
      "distributed.utils_perf - WARNING - full garbage collections took 14% CPU time recently (threshold: 10%)\n",
      "distributed.utils_perf - WARNING - full garbage collections took 14% CPU time recently (threshold: 10%)\n",
      "distributed.utils_perf - WARNING - full garbage collections took 14% CPU time recently (threshold: 10%)\n",
      "distributed.utils_perf - WARNING - full garbage collections took 14% CPU time recently (threshold: 10%)\n"
     ]
    },
    {
     "name": "stdout",
     "output_type": "stream",
     "text": [
      "GPS grazing hrs: 81.42\n",
      "Grid (1 m) grazing hrs: 81.29\n",
      "Grid (30 m) grazing hrs: 76.6\n",
      "  2286_D1_2016\n"
     ]
    },
    {
     "name": "stderr",
     "output_type": "stream",
     "text": [
      "distributed.utils_perf - WARNING - full garbage collections took 10% CPU time recently (threshold: 10%)\n",
      "distributed.utils_perf - WARNING - full garbage collections took 10% CPU time recently (threshold: 10%)\n",
      "distributed.utils_perf - WARNING - full garbage collections took 10% CPU time recently (threshold: 10%)\n",
      "distributed.utils_perf - WARNING - full garbage collections took 10% CPU time recently (threshold: 10%)\n",
      "distributed.utils_perf - WARNING - full garbage collections took 11% CPU time recently (threshold: 10%)\n",
      "distributed.utils_perf - WARNING - full garbage collections took 11% CPU time recently (threshold: 10%)\n",
      "distributed.utils_perf - WARNING - full garbage collections took 15% CPU time recently (threshold: 10%)\n",
      "distributed.utils_perf - WARNING - full garbage collections took 15% CPU time recently (threshold: 10%)\n",
      "distributed.utils_perf - WARNING - full garbage collections took 15% CPU time recently (threshold: 10%)\n",
      "distributed.utils_perf - WARNING - full garbage collections took 15% CPU time recently (threshold: 10%)\n",
      "distributed.utils_perf - WARNING - full garbage collections took 14% CPU time recently (threshold: 10%)\n",
      "distributed.utils_perf - WARNING - full garbage collections took 14% CPU time recently (threshold: 10%)\n"
     ]
    },
    {
     "name": "stdout",
     "output_type": "stream",
     "text": [
      "GPS grazing hrs: 71.42\n",
      "Grid (1 m) grazing hrs: 71.62\n",
      "Grid (30 m) grazing hrs: 64.21\n",
      "  3772_D1_2016\n",
      "    SKIPPING STEER: All points masked.\n",
      "  3773_D1_2016\n",
      "    SKIPPING STEER: All points masked.\n",
      "Pasture: 7NW (train)\n",
      "  2288_D1_2016\n"
     ]
    },
    {
     "name": "stderr",
     "output_type": "stream",
     "text": [
      "distributed.utils_perf - WARNING - full garbage collections took 11% CPU time recently (threshold: 10%)\n",
      "distributed.utils_perf - WARNING - full garbage collections took 11% CPU time recently (threshold: 10%)\n",
      "distributed.utils_perf - WARNING - full garbage collections took 11% CPU time recently (threshold: 10%)\n",
      "distributed.utils_perf - WARNING - full garbage collections took 11% CPU time recently (threshold: 10%)\n",
      "distributed.utils_perf - WARNING - full garbage collections took 11% CPU time recently (threshold: 10%)\n",
      "distributed.utils_perf - WARNING - full garbage collections took 11% CPU time recently (threshold: 10%)\n",
      "distributed.utils_perf - WARNING - full garbage collections took 11% CPU time recently (threshold: 10%)\n",
      "distributed.utils_perf - WARNING - full garbage collections took 15% CPU time recently (threshold: 10%)\n",
      "distributed.utils_perf - WARNING - full garbage collections took 15% CPU time recently (threshold: 10%)\n",
      "distributed.utils_perf - WARNING - full garbage collections took 14% CPU time recently (threshold: 10%)\n",
      "distributed.utils_perf - WARNING - full garbage collections took 14% CPU time recently (threshold: 10%)\n",
      "distributed.utils_perf - WARNING - full garbage collections took 14% CPU time recently (threshold: 10%)\n",
      "distributed.utils_perf - WARNING - full garbage collections took 14% CPU time recently (threshold: 10%)\n",
      "distributed.utils_perf - WARNING - full garbage collections took 14% CPU time recently (threshold: 10%)\n",
      "distributed.utils_perf - WARNING - full garbage collections took 14% CPU time recently (threshold: 10%)\n"
     ]
    },
    {
     "name": "stdout",
     "output_type": "stream",
     "text": [
      "GPS grazing hrs: 77.85\n",
      "Grid (1 m) grazing hrs: 77.85\n",
      "Grid (30 m) grazing hrs: 74.69\n",
      "Pasture: 17N (train)\n",
      "  2289_D1_2016\n"
     ]
    },
    {
     "name": "stderr",
     "output_type": "stream",
     "text": [
      "distributed.utils_perf - WARNING - full garbage collections took 11% CPU time recently (threshold: 10%)\n",
      "distributed.utils_perf - WARNING - full garbage collections took 11% CPU time recently (threshold: 10%)\n",
      "distributed.utils_perf - WARNING - full garbage collections took 11% CPU time recently (threshold: 10%)\n",
      "distributed.utils_perf - WARNING - full garbage collections took 11% CPU time recently (threshold: 10%)\n",
      "distributed.utils_perf - WARNING - full garbage collections took 11% CPU time recently (threshold: 10%)\n",
      "distributed.utils_perf - WARNING - full garbage collections took 11% CPU time recently (threshold: 10%)\n",
      "distributed.utils_perf - WARNING - full garbage collections took 11% CPU time recently (threshold: 10%)\n",
      "distributed.utils_perf - WARNING - full garbage collections took 11% CPU time recently (threshold: 10%)\n",
      "distributed.utils_perf - WARNING - full garbage collections took 11% CPU time recently (threshold: 10%)\n",
      "distributed.utils_perf - WARNING - full garbage collections took 11% CPU time recently (threshold: 10%)\n"
     ]
    },
    {
     "name": "stdout",
     "output_type": "stream",
     "text": [
      "GPS grazing hrs: 73.26\n",
      "Grid (1 m) grazing hrs: 73.26\n",
      "Grid (30 m) grazing hrs: 65.51\n",
      "  2290_D1_2016\n"
     ]
    },
    {
     "name": "stderr",
     "output_type": "stream",
     "text": [
      "distributed.utils_perf - WARNING - full garbage collections took 12% CPU time recently (threshold: 10%)\n",
      "distributed.utils_perf - WARNING - full garbage collections took 12% CPU time recently (threshold: 10%)\n",
      "distributed.utils_perf - WARNING - full garbage collections took 12% CPU time recently (threshold: 10%)\n",
      "distributed.utils_perf - WARNING - full garbage collections took 12% CPU time recently (threshold: 10%)\n",
      "distributed.utils_perf - WARNING - full garbage collections took 12% CPU time recently (threshold: 10%)\n",
      "distributed.utils_perf - WARNING - full garbage collections took 12% CPU time recently (threshold: 10%)\n",
      "distributed.utils_perf - WARNING - full garbage collections took 11% CPU time recently (threshold: 10%)\n",
      "distributed.utils_perf - WARNING - full garbage collections took 11% CPU time recently (threshold: 10%)\n",
      "distributed.utils_perf - WARNING - full garbage collections took 11% CPU time recently (threshold: 10%)\n"
     ]
    },
    {
     "name": "stdout",
     "output_type": "stream",
     "text": [
      "GPS grazing hrs: 76.68\n",
      "Grid (1 m) grazing hrs: 76.71\n",
      "Grid (30 m) grazing hrs: 64.32\n",
      "Pasture: 19N (test)\n",
      "  2291_D1_2016\n"
     ]
    },
    {
     "name": "stderr",
     "output_type": "stream",
     "text": [
      "distributed.utils_perf - WARNING - full garbage collections took 15% CPU time recently (threshold: 10%)\n",
      "distributed.utils_perf - WARNING - full garbage collections took 15% CPU time recently (threshold: 10%)\n",
      "distributed.utils_perf - WARNING - full garbage collections took 15% CPU time recently (threshold: 10%)\n",
      "distributed.utils_perf - WARNING - full garbage collections took 15% CPU time recently (threshold: 10%)\n",
      "distributed.utils_perf - WARNING - full garbage collections took 15% CPU time recently (threshold: 10%)\n",
      "distributed.utils_perf - WARNING - full garbage collections took 15% CPU time recently (threshold: 10%)\n",
      "distributed.utils_perf - WARNING - full garbage collections took 14% CPU time recently (threshold: 10%)\n",
      "distributed.utils_perf - WARNING - full garbage collections took 14% CPU time recently (threshold: 10%)\n",
      "distributed.utils_perf - WARNING - full garbage collections took 14% CPU time recently (threshold: 10%)\n",
      "distributed.utils_perf - WARNING - full garbage collections took 14% CPU time recently (threshold: 10%)\n"
     ]
    },
    {
     "name": "stdout",
     "output_type": "stream",
     "text": [
      "GPS grazing hrs: 64.75\n",
      "Grid (1 m) grazing hrs: 64.81\n",
      "Grid (30 m) grazing hrs: 55.34\n",
      "  4597_D1_2016\n"
     ]
    },
    {
     "name": "stderr",
     "output_type": "stream",
     "text": [
      "distributed.utils_perf - WARNING - full garbage collections took 13% CPU time recently (threshold: 10%)\n",
      "distributed.utils_perf - WARNING - full garbage collections took 13% CPU time recently (threshold: 10%)\n",
      "distributed.utils_perf - WARNING - full garbage collections took 13% CPU time recently (threshold: 10%)\n",
      "distributed.utils_perf - WARNING - full garbage collections took 13% CPU time recently (threshold: 10%)\n",
      "distributed.utils_perf - WARNING - full garbage collections took 12% CPU time recently (threshold: 10%)\n",
      "distributed.utils_perf - WARNING - full garbage collections took 12% CPU time recently (threshold: 10%)\n",
      "distributed.utils_perf - WARNING - full garbage collections took 12% CPU time recently (threshold: 10%)\n",
      "distributed.utils_perf - WARNING - full garbage collections took 12% CPU time recently (threshold: 10%)\n",
      "distributed.utils_perf - WARNING - full garbage collections took 12% CPU time recently (threshold: 10%)\n"
     ]
    },
    {
     "name": "stdout",
     "output_type": "stream",
     "text": [
      "GPS grazing hrs: 55.39\n",
      "Grid (1 m) grazing hrs: 55.45\n",
      "Grid (30 m) grazing hrs: 48.57\n",
      "Pasture: 20SE (train)\n",
      "  2293_D1_2016\n"
     ]
    },
    {
     "name": "stderr",
     "output_type": "stream",
     "text": [
      "distributed.utils_perf - WARNING - full garbage collections took 10% CPU time recently (threshold: 10%)\n",
      "distributed.utils_perf - WARNING - full garbage collections took 10% CPU time recently (threshold: 10%)\n",
      "distributed.utils_perf - WARNING - full garbage collections took 10% CPU time recently (threshold: 10%)\n",
      "distributed.utils_perf - WARNING - full garbage collections took 10% CPU time recently (threshold: 10%)\n",
      "distributed.utils_perf - WARNING - full garbage collections took 11% CPU time recently (threshold: 10%)\n",
      "distributed.utils_perf - WARNING - full garbage collections took 11% CPU time recently (threshold: 10%)\n",
      "distributed.utils_perf - WARNING - full garbage collections took 11% CPU time recently (threshold: 10%)\n",
      "distributed.utils_perf - WARNING - full garbage collections took 11% CPU time recently (threshold: 10%)\n",
      "distributed.utils_perf - WARNING - full garbage collections took 11% CPU time recently (threshold: 10%)\n",
      "distributed.utils_perf - WARNING - full garbage collections took 11% CPU time recently (threshold: 10%)\n",
      "distributed.utils_perf - WARNING - full garbage collections took 11% CPU time recently (threshold: 10%)\n",
      "distributed.utils_perf - WARNING - full garbage collections took 11% CPU time recently (threshold: 10%)\n"
     ]
    },
    {
     "name": "stdout",
     "output_type": "stream",
     "text": [
      "GPS grazing hrs: 56.8\n",
      "Grid (1 m) grazing hrs: 56.8\n",
      "Grid (30 m) grazing hrs: 54.04\n",
      "  2294_D1_2016\n"
     ]
    },
    {
     "name": "stderr",
     "output_type": "stream",
     "text": [
      "distributed.utils_perf - WARNING - full garbage collections took 12% CPU time recently (threshold: 10%)\n",
      "distributed.utils_perf - WARNING - full garbage collections took 12% CPU time recently (threshold: 10%)\n",
      "distributed.utils_perf - WARNING - full garbage collections took 13% CPU time recently (threshold: 10%)\n",
      "distributed.utils_perf - WARNING - full garbage collections took 13% CPU time recently (threshold: 10%)\n",
      "distributed.utils_perf - WARNING - full garbage collections took 13% CPU time recently (threshold: 10%)\n",
      "distributed.utils_perf - WARNING - full garbage collections took 13% CPU time recently (threshold: 10%)\n",
      "distributed.utils_perf - WARNING - full garbage collections took 13% CPU time recently (threshold: 10%)\n",
      "distributed.utils_perf - WARNING - full garbage collections took 13% CPU time recently (threshold: 10%)\n",
      "distributed.utils_perf - WARNING - full garbage collections took 13% CPU time recently (threshold: 10%)\n",
      "distributed.utils_perf - WARNING - full garbage collections took 13% CPU time recently (threshold: 10%)\n",
      "distributed.utils_perf - WARNING - full garbage collections took 13% CPU time recently (threshold: 10%)\n"
     ]
    },
    {
     "name": "stdout",
     "output_type": "stream",
     "text": [
      "GPS grazing hrs: 77.86\n",
      "Grid (1 m) grazing hrs: 77.88\n",
      "Grid (30 m) grazing hrs: 68.34\n",
      "Pasture: 31E (train)\n",
      "  3769_D1_2016\n"
     ]
    },
    {
     "name": "stderr",
     "output_type": "stream",
     "text": [
      "distributed.utils_perf - WARNING - full garbage collections took 13% CPU time recently (threshold: 10%)\n",
      "distributed.utils_perf - WARNING - full garbage collections took 13% CPU time recently (threshold: 10%)\n",
      "distributed.utils_perf - WARNING - full garbage collections took 13% CPU time recently (threshold: 10%)\n",
      "distributed.utils_perf - WARNING - full garbage collections took 13% CPU time recently (threshold: 10%)\n",
      "distributed.utils_perf - WARNING - full garbage collections took 13% CPU time recently (threshold: 10%)\n",
      "distributed.utils_perf - WARNING - full garbage collections took 13% CPU time recently (threshold: 10%)\n",
      "distributed.utils_perf - WARNING - full garbage collections took 13% CPU time recently (threshold: 10%)\n",
      "distributed.utils_perf - WARNING - full garbage collections took 12% CPU time recently (threshold: 10%)\n",
      "distributed.utils_perf - WARNING - full garbage collections took 12% CPU time recently (threshold: 10%)\n",
      "distributed.utils_perf - WARNING - full garbage collections took 12% CPU time recently (threshold: 10%)\n"
     ]
    },
    {
     "name": "stdout",
     "output_type": "stream",
     "text": [
      "GPS grazing hrs: 67.23\n",
      "Grid (1 m) grazing hrs: 67.4\n",
      "Grid (30 m) grazing hrs: 62.6\n",
      "  4598_D1_2016\n"
     ]
    },
    {
     "name": "stderr",
     "output_type": "stream",
     "text": [
      "distributed.utils_perf - WARNING - full garbage collections took 11% CPU time recently (threshold: 10%)\n",
      "distributed.utils_perf - WARNING - full garbage collections took 12% CPU time recently (threshold: 10%)\n",
      "distributed.utils_perf - WARNING - full garbage collections took 12% CPU time recently (threshold: 10%)\n",
      "distributed.utils_perf - WARNING - full garbage collections took 12% CPU time recently (threshold: 10%)\n",
      "distributed.utils_perf - WARNING - full garbage collections took 12% CPU time recently (threshold: 10%)\n",
      "distributed.utils_perf - WARNING - full garbage collections took 11% CPU time recently (threshold: 10%)\n",
      "distributed.utils_perf - WARNING - full garbage collections took 11% CPU time recently (threshold: 10%)\n"
     ]
    },
    {
     "name": "stdout",
     "output_type": "stream",
     "text": [
      "GPS grazing hrs: 71.11\n",
      "Grid (1 m) grazing hrs: 71.11\n",
      "Grid (30 m) grazing hrs: 61.02\n",
      "Pasture: 15E (train)\n",
      "  3772_D1_2016\n"
     ]
    },
    {
     "name": "stderr",
     "output_type": "stream",
     "text": [
      "distributed.utils_perf - WARNING - full garbage collections took 12% CPU time recently (threshold: 10%)\n",
      "distributed.utils_perf - WARNING - full garbage collections took 12% CPU time recently (threshold: 10%)\n",
      "distributed.utils_perf - WARNING - full garbage collections took 12% CPU time recently (threshold: 10%)\n",
      "distributed.utils_perf - WARNING - full garbage collections took 12% CPU time recently (threshold: 10%)\n"
     ]
    },
    {
     "name": "stdout",
     "output_type": "stream",
     "text": [
      "GPS grazing hrs: 59.68\n",
      "Grid (1 m) grazing hrs: 59.68\n",
      "Grid (30 m) grazing hrs: 47.69\n",
      "  3773_D1_2016\n"
     ]
    },
    {
     "name": "stderr",
     "output_type": "stream",
     "text": [
      "distributed.utils_perf - WARNING - full garbage collections took 10% CPU time recently (threshold: 10%)\n",
      "distributed.utils_perf - WARNING - full garbage collections took 10% CPU time recently (threshold: 10%)\n",
      "distributed.utils_perf - WARNING - full garbage collections took 10% CPU time recently (threshold: 10%)\n",
      "distributed.utils_perf - WARNING - full garbage collections took 14% CPU time recently (threshold: 10%)\n",
      "distributed.utils_perf - WARNING - full garbage collections took 14% CPU time recently (threshold: 10%)\n",
      "distributed.utils_perf - WARNING - full garbage collections took 14% CPU time recently (threshold: 10%)\n",
      "distributed.utils_perf - WARNING - full garbage collections took 14% CPU time recently (threshold: 10%)\n"
     ]
    },
    {
     "name": "stdout",
     "output_type": "stream",
     "text": [
      "GPS grazing hrs: 56.37\n",
      "Grid (1 m) grazing hrs: 56.29\n",
      "Grid (30 m) grazing hrs: 46.11\n",
      "Pasture: 26E (train)\n",
      "  3774_D1_2016\n"
     ]
    },
    {
     "name": "stderr",
     "output_type": "stream",
     "text": [
      "distributed.utils_perf - WARNING - full garbage collections took 10% CPU time recently (threshold: 10%)\n",
      "distributed.utils_perf - WARNING - full garbage collections took 10% CPU time recently (threshold: 10%)\n",
      "distributed.utils_perf - WARNING - full garbage collections took 10% CPU time recently (threshold: 10%)\n",
      "distributed.utils_perf - WARNING - full garbage collections took 10% CPU time recently (threshold: 10%)\n",
      "distributed.utils_perf - WARNING - full garbage collections took 10% CPU time recently (threshold: 10%)\n",
      "distributed.utils_perf - WARNING - full garbage collections took 10% CPU time recently (threshold: 10%)\n",
      "distributed.utils_perf - WARNING - full garbage collections took 10% CPU time recently (threshold: 10%)\n",
      "distributed.utils_perf - WARNING - full garbage collections took 14% CPU time recently (threshold: 10%)\n",
      "distributed.utils_perf - WARNING - full garbage collections took 14% CPU time recently (threshold: 10%)\n",
      "distributed.utils_perf - WARNING - full garbage collections took 14% CPU time recently (threshold: 10%)\n",
      "distributed.utils_perf - WARNING - full garbage collections took 14% CPU time recently (threshold: 10%)\n",
      "distributed.utils_perf - WARNING - full garbage collections took 14% CPU time recently (threshold: 10%)\n"
     ]
    },
    {
     "name": "stdout",
     "output_type": "stream",
     "text": [
      "GPS grazing hrs: 79.99\n",
      "Grid (1 m) grazing hrs: 80.11\n",
      "Grid (30 m) grazing hrs: 75.66\n",
      "  3775_D1_2016\n"
     ]
    },
    {
     "name": "stderr",
     "output_type": "stream",
     "text": [
      "distributed.utils_perf - WARNING - full garbage collections took 11% CPU time recently (threshold: 10%)\n",
      "distributed.utils_perf - WARNING - full garbage collections took 11% CPU time recently (threshold: 10%)\n",
      "distributed.utils_perf - WARNING - full garbage collections took 10% CPU time recently (threshold: 10%)\n",
      "distributed.utils_perf - WARNING - full garbage collections took 10% CPU time recently (threshold: 10%)\n",
      "distributed.utils_perf - WARNING - full garbage collections took 10% CPU time recently (threshold: 10%)\n",
      "distributed.utils_perf - WARNING - full garbage collections took 10% CPU time recently (threshold: 10%)\n",
      "distributed.utils_perf - WARNING - full garbage collections took 11% CPU time recently (threshold: 10%)\n",
      "distributed.utils_perf - WARNING - full garbage collections took 14% CPU time recently (threshold: 10%)\n",
      "distributed.utils_perf - WARNING - full garbage collections took 14% CPU time recently (threshold: 10%)\n",
      "distributed.utils_perf - WARNING - full garbage collections took 14% CPU time recently (threshold: 10%)\n",
      "distributed.utils_perf - WARNING - full garbage collections took 14% CPU time recently (threshold: 10%)\n",
      "distributed.utils_perf - WARNING - full garbage collections took 14% CPU time recently (threshold: 10%)\n"
     ]
    },
    {
     "name": "stdout",
     "output_type": "stream",
     "text": [
      "GPS grazing hrs: 79.56\n",
      "Grid (1 m) grazing hrs: 79.76\n",
      "Grid (30 m) grazing hrs: 73.92\n",
      "Pasture: 25SE (test)\n",
      "  3776_D1_2016\n"
     ]
    },
    {
     "name": "stderr",
     "output_type": "stream",
     "text": [
      "distributed.utils_perf - WARNING - full garbage collections took 10% CPU time recently (threshold: 10%)\n",
      "distributed.utils_perf - WARNING - full garbage collections took 10% CPU time recently (threshold: 10%)\n",
      "distributed.utils_perf - WARNING - full garbage collections took 10% CPU time recently (threshold: 10%)\n",
      "distributed.utils_perf - WARNING - full garbage collections took 10% CPU time recently (threshold: 10%)\n",
      "distributed.utils_perf - WARNING - full garbage collections took 10% CPU time recently (threshold: 10%)\n",
      "distributed.utils_perf - WARNING - full garbage collections took 10% CPU time recently (threshold: 10%)\n",
      "distributed.utils_perf - WARNING - full garbage collections took 15% CPU time recently (threshold: 10%)\n",
      "distributed.utils_perf - WARNING - full garbage collections took 15% CPU time recently (threshold: 10%)\n",
      "distributed.utils_perf - WARNING - full garbage collections took 15% CPU time recently (threshold: 10%)\n",
      "distributed.utils_perf - WARNING - full garbage collections took 15% CPU time recently (threshold: 10%)\n",
      "distributed.utils_perf - WARNING - full garbage collections took 15% CPU time recently (threshold: 10%)\n",
      "distributed.utils_perf - WARNING - full garbage collections took 15% CPU time recently (threshold: 10%)\n",
      "distributed.utils_perf - WARNING - full garbage collections took 14% CPU time recently (threshold: 10%)\n"
     ]
    },
    {
     "name": "stdout",
     "output_type": "stream",
     "text": [
      "GPS grazing hrs: 78.43\n",
      "Grid (1 m) grazing hrs: 78.62\n",
      "Grid (30 m) grazing hrs: 72.03\n",
      "  3778_D1_2016\n"
     ]
    },
    {
     "name": "stderr",
     "output_type": "stream",
     "text": [
      "distributed.utils_perf - WARNING - full garbage collections took 10% CPU time recently (threshold: 10%)\n",
      "distributed.utils_perf - WARNING - full garbage collections took 13% CPU time recently (threshold: 10%)\n",
      "distributed.utils_perf - WARNING - full garbage collections took 13% CPU time recently (threshold: 10%)\n",
      "distributed.utils_perf - WARNING - full garbage collections took 13% CPU time recently (threshold: 10%)\n",
      "distributed.utils_perf - WARNING - full garbage collections took 13% CPU time recently (threshold: 10%)\n",
      "distributed.utils_perf - WARNING - full garbage collections took 13% CPU time recently (threshold: 10%)\n",
      "distributed.utils_perf - WARNING - full garbage collections took 13% CPU time recently (threshold: 10%)\n",
      "distributed.utils_perf - WARNING - full garbage collections took 13% CPU time recently (threshold: 10%)\n",
      "distributed.utils_perf - WARNING - full garbage collections took 12% CPU time recently (threshold: 10%)\n",
      "distributed.utils_perf - WARNING - full garbage collections took 12% CPU time recently (threshold: 10%)\n",
      "distributed.utils_perf - WARNING - full garbage collections took 12% CPU time recently (threshold: 10%)\n",
      "distributed.utils_perf - WARNING - full garbage collections took 13% CPU time recently (threshold: 10%)\n",
      "distributed.utils_perf - WARNING - full garbage collections took 13% CPU time recently (threshold: 10%)\n"
     ]
    },
    {
     "name": "stdout",
     "output_type": "stream",
     "text": [
      "GPS grazing hrs: 78.02\n",
      "Grid (1 m) grazing hrs: 77.93\n",
      "Grid (30 m) grazing hrs: 69.12\n",
      "-------------Week starting: Jun 05 (23) -------------\n",
      "Pasture: 5E (test)\n",
      "  2285_D1_2016\n"
     ]
    },
    {
     "name": "stderr",
     "output_type": "stream",
     "text": [
      "distributed.utils_perf - WARNING - full garbage collections took 11% CPU time recently (threshold: 10%)\n",
      "distributed.utils_perf - WARNING - full garbage collections took 11% CPU time recently (threshold: 10%)\n",
      "distributed.utils_perf - WARNING - full garbage collections took 11% CPU time recently (threshold: 10%)\n",
      "distributed.utils_perf - WARNING - full garbage collections took 11% CPU time recently (threshold: 10%)\n",
      "distributed.utils_perf - WARNING - full garbage collections took 11% CPU time recently (threshold: 10%)\n",
      "distributed.utils_perf - WARNING - full garbage collections took 11% CPU time recently (threshold: 10%)\n",
      "distributed.utils_perf - WARNING - full garbage collections took 11% CPU time recently (threshold: 10%)\n",
      "distributed.utils_perf - WARNING - full garbage collections took 11% CPU time recently (threshold: 10%)\n",
      "distributed.utils_perf - WARNING - full garbage collections took 11% CPU time recently (threshold: 10%)\n"
     ]
    },
    {
     "name": "stdout",
     "output_type": "stream",
     "text": [
      "GPS grazing hrs: 74.21\n",
      "Grid (1 m) grazing hrs: 74.22\n",
      "Grid (30 m) grazing hrs: 65.64\n",
      "  2286_D1_2016\n"
     ]
    },
    {
     "name": "stderr",
     "output_type": "stream",
     "text": [
      "distributed.utils_perf - WARNING - full garbage collections took 13% CPU time recently (threshold: 10%)\n",
      "distributed.utils_perf - WARNING - full garbage collections took 13% CPU time recently (threshold: 10%)\n",
      "distributed.utils_perf - WARNING - full garbage collections took 13% CPU time recently (threshold: 10%)\n",
      "distributed.utils_perf - WARNING - full garbage collections took 13% CPU time recently (threshold: 10%)\n",
      "distributed.utils_perf - WARNING - full garbage collections took 13% CPU time recently (threshold: 10%)\n",
      "distributed.utils_perf - WARNING - full garbage collections took 12% CPU time recently (threshold: 10%)\n",
      "distributed.utils_perf - WARNING - full garbage collections took 12% CPU time recently (threshold: 10%)\n"
     ]
    },
    {
     "name": "stdout",
     "output_type": "stream",
     "text": [
      "GPS grazing hrs: 71.82\n",
      "Grid (1 m) grazing hrs: 71.97\n",
      "Grid (30 m) grazing hrs: 62.03\n",
      "  3772_D1_2016\n",
      "    SKIPPING STEER: All points masked.\n",
      "  3773_D1_2016\n",
      "    SKIPPING STEER: All points masked.\n",
      "Pasture: 7NW (train)\n",
      "  2287_D1_2016\n"
     ]
    },
    {
     "name": "stderr",
     "output_type": "stream",
     "text": [
      "distributed.utils_perf - WARNING - full garbage collections took 15% CPU time recently (threshold: 10%)\n",
      "distributed.utils_perf - WARNING - full garbage collections took 15% CPU time recently (threshold: 10%)\n",
      "distributed.utils_perf - WARNING - full garbage collections took 14% CPU time recently (threshold: 10%)\n",
      "distributed.utils_perf - WARNING - full garbage collections took 14% CPU time recently (threshold: 10%)\n",
      "distributed.utils_perf - WARNING - full garbage collections took 14% CPU time recently (threshold: 10%)\n",
      "distributed.utils_perf - WARNING - full garbage collections took 14% CPU time recently (threshold: 10%)\n",
      "distributed.utils_perf - WARNING - full garbage collections took 14% CPU time recently (threshold: 10%)\n"
     ]
    },
    {
     "name": "stdout",
     "output_type": "stream",
     "text": [
      "GPS grazing hrs: 65.39\n",
      "Grid (1 m) grazing hrs: 65.35\n",
      "Grid (30 m) grazing hrs: 58.42\n",
      "Pasture: 17N (train)\n",
      "  2289_D1_2016\n"
     ]
    },
    {
     "name": "stderr",
     "output_type": "stream",
     "text": [
      "distributed.utils_perf - WARNING - full garbage collections took 11% CPU time recently (threshold: 10%)\n",
      "distributed.utils_perf - WARNING - full garbage collections took 11% CPU time recently (threshold: 10%)\n",
      "distributed.utils_perf - WARNING - full garbage collections took 11% CPU time recently (threshold: 10%)\n",
      "distributed.utils_perf - WARNING - full garbage collections took 11% CPU time recently (threshold: 10%)\n",
      "distributed.utils_perf - WARNING - full garbage collections took 11% CPU time recently (threshold: 10%)\n",
      "distributed.utils_perf - WARNING - full garbage collections took 11% CPU time recently (threshold: 10%)\n",
      "distributed.utils_perf - WARNING - full garbage collections took 11% CPU time recently (threshold: 10%)\n",
      "distributed.utils_perf - WARNING - full garbage collections took 11% CPU time recently (threshold: 10%)\n",
      "distributed.utils_perf - WARNING - full garbage collections took 11% CPU time recently (threshold: 10%)\n",
      "distributed.utils_perf - WARNING - full garbage collections took 11% CPU time recently (threshold: 10%)\n",
      "distributed.utils_perf - WARNING - full garbage collections took 11% CPU time recently (threshold: 10%)\n"
     ]
    },
    {
     "name": "stdout",
     "output_type": "stream",
     "text": [
      "GPS grazing hrs: 78.14\n",
      "Grid (1 m) grazing hrs: 78.06\n",
      "Grid (30 m) grazing hrs: 68.8\n",
      "  2290_D1_2016\n"
     ]
    },
    {
     "name": "stderr",
     "output_type": "stream",
     "text": [
      "distributed.utils_perf - WARNING - full garbage collections took 11% CPU time recently (threshold: 10%)\n",
      "distributed.utils_perf - WARNING - full garbage collections took 11% CPU time recently (threshold: 10%)\n",
      "distributed.utils_perf - WARNING - full garbage collections took 11% CPU time recently (threshold: 10%)\n",
      "distributed.utils_perf - WARNING - full garbage collections took 11% CPU time recently (threshold: 10%)\n",
      "distributed.utils_perf - WARNING - full garbage collections took 12% CPU time recently (threshold: 10%)\n",
      "distributed.utils_perf - WARNING - full garbage collections took 12% CPU time recently (threshold: 10%)\n",
      "distributed.utils_perf - WARNING - full garbage collections took 12% CPU time recently (threshold: 10%)\n",
      "distributed.utils_perf - WARNING - full garbage collections took 11% CPU time recently (threshold: 10%)\n",
      "distributed.utils_perf - WARNING - full garbage collections took 11% CPU time recently (threshold: 10%)\n",
      "distributed.utils_perf - WARNING - full garbage collections took 11% CPU time recently (threshold: 10%)\n",
      "distributed.utils_perf - WARNING - full garbage collections took 11% CPU time recently (threshold: 10%)\n"
     ]
    },
    {
     "name": "stdout",
     "output_type": "stream",
     "text": [
      "GPS grazing hrs: 76.67\n",
      "Grid (1 m) grazing hrs: 76.65\n",
      "Grid (30 m) grazing hrs: 61.37\n",
      "Pasture: 19N (test)\n",
      "  2291_D1_2016\n"
     ]
    },
    {
     "name": "stderr",
     "output_type": "stream",
     "text": [
      "distributed.utils_perf - WARNING - full garbage collections took 14% CPU time recently (threshold: 10%)\n",
      "distributed.utils_perf - WARNING - full garbage collections took 14% CPU time recently (threshold: 10%)\n",
      "distributed.utils_perf - WARNING - full garbage collections took 14% CPU time recently (threshold: 10%)\n",
      "distributed.utils_perf - WARNING - full garbage collections took 14% CPU time recently (threshold: 10%)\n",
      "distributed.utils_perf - WARNING - full garbage collections took 14% CPU time recently (threshold: 10%)\n",
      "distributed.utils_perf - WARNING - full garbage collections took 14% CPU time recently (threshold: 10%)\n",
      "distributed.utils_perf - WARNING - full garbage collections took 14% CPU time recently (threshold: 10%)\n",
      "distributed.utils_perf - WARNING - full garbage collections took 14% CPU time recently (threshold: 10%)\n",
      "distributed.utils_perf - WARNING - full garbage collections took 14% CPU time recently (threshold: 10%)\n",
      "distributed.utils_perf - WARNING - full garbage collections took 14% CPU time recently (threshold: 10%)\n"
     ]
    },
    {
     "name": "stdout",
     "output_type": "stream",
     "text": [
      "GPS grazing hrs: 63.21\n",
      "Grid (1 m) grazing hrs: 63.3\n",
      "Grid (30 m) grazing hrs: 56.29\n",
      "  4597_D1_2016\n"
     ]
    },
    {
     "name": "stderr",
     "output_type": "stream",
     "text": [
      "distributed.utils_perf - WARNING - full garbage collections took 10% CPU time recently (threshold: 10%)\n",
      "distributed.utils_perf - WARNING - full garbage collections took 10% CPU time recently (threshold: 10%)\n",
      "distributed.utils_perf - WARNING - full garbage collections took 10% CPU time recently (threshold: 10%)\n",
      "distributed.utils_perf - WARNING - full garbage collections took 10% CPU time recently (threshold: 10%)\n",
      "distributed.utils_perf - WARNING - full garbage collections took 10% CPU time recently (threshold: 10%)\n",
      "distributed.utils_perf - WARNING - full garbage collections took 10% CPU time recently (threshold: 10%)\n"
     ]
    },
    {
     "name": "stdout",
     "output_type": "stream",
     "text": [
      "GPS grazing hrs: 54.9\n",
      "Grid (1 m) grazing hrs: 54.93\n",
      "Grid (30 m) grazing hrs: 50.36\n",
      "Pasture: 20SE (train)\n",
      "  2293_D1_2016\n"
     ]
    },
    {
     "name": "stderr",
     "output_type": "stream",
     "text": [
      "distributed.utils_perf - WARNING - full garbage collections took 10% CPU time recently (threshold: 10%)\n",
      "distributed.utils_perf - WARNING - full garbage collections took 10% CPU time recently (threshold: 10%)\n"
     ]
    },
    {
     "name": "stdout",
     "output_type": "stream",
     "text": [
      "GPS grazing hrs: 55.84\n",
      "Grid (1 m) grazing hrs: 55.8\n",
      "Grid (30 m) grazing hrs: 52.11\n",
      "  2294_D1_2016\n"
     ]
    },
    {
     "name": "stderr",
     "output_type": "stream",
     "text": [
      "distributed.utils_perf - WARNING - full garbage collections took 11% CPU time recently (threshold: 10%)\n",
      "distributed.utils_perf - WARNING - full garbage collections took 11% CPU time recently (threshold: 10%)\n",
      "distributed.utils_perf - WARNING - full garbage collections took 11% CPU time recently (threshold: 10%)\n",
      "distributed.utils_perf - WARNING - full garbage collections took 11% CPU time recently (threshold: 10%)\n",
      "distributed.utils_perf - WARNING - full garbage collections took 11% CPU time recently (threshold: 10%)\n",
      "distributed.utils_perf - WARNING - full garbage collections took 11% CPU time recently (threshold: 10%)\n",
      "distributed.utils_perf - WARNING - full garbage collections took 12% CPU time recently (threshold: 10%)\n",
      "distributed.utils_perf - WARNING - full garbage collections took 12% CPU time recently (threshold: 10%)\n",
      "distributed.utils_perf - WARNING - full garbage collections took 12% CPU time recently (threshold: 10%)\n",
      "distributed.utils_perf - WARNING - full garbage collections took 12% CPU time recently (threshold: 10%)\n",
      "distributed.utils_perf - WARNING - full garbage collections took 12% CPU time recently (threshold: 10%)\n",
      "distributed.utils_perf - WARNING - full garbage collections took 12% CPU time recently (threshold: 10%)\n",
      "distributed.utils_perf - WARNING - full garbage collections took 12% CPU time recently (threshold: 10%)\n",
      "distributed.utils_perf - WARNING - full garbage collections took 18% CPU time recently (threshold: 10%)\n"
     ]
    },
    {
     "name": "stdout",
     "output_type": "stream",
     "text": [
      "GPS grazing hrs: 79.79\n",
      "Grid (1 m) grazing hrs: 79.72\n",
      "Grid (30 m) grazing hrs: 70.3\n",
      "Pasture: 31E (train)\n",
      "  3769_D1_2016\n"
     ]
    },
    {
     "name": "stderr",
     "output_type": "stream",
     "text": [
      "distributed.utils_perf - WARNING - full garbage collections took 11% CPU time recently (threshold: 10%)\n",
      "distributed.utils_perf - WARNING - full garbage collections took 11% CPU time recently (threshold: 10%)\n",
      "distributed.utils_perf - WARNING - full garbage collections took 11% CPU time recently (threshold: 10%)\n",
      "distributed.utils_perf - WARNING - full garbage collections took 10% CPU time recently (threshold: 10%)\n",
      "distributed.utils_perf - WARNING - full garbage collections took 10% CPU time recently (threshold: 10%)\n",
      "distributed.utils_perf - WARNING - full garbage collections took 10% CPU time recently (threshold: 10%)\n",
      "distributed.utils_perf - WARNING - full garbage collections took 10% CPU time recently (threshold: 10%)\n",
      "distributed.utils_perf - WARNING - full garbage collections took 10% CPU time recently (threshold: 10%)\n",
      "distributed.utils_perf - WARNING - full garbage collections took 10% CPU time recently (threshold: 10%)\n",
      "distributed.utils_perf - WARNING - full garbage collections took 10% CPU time recently (threshold: 10%)\n",
      "distributed.utils_perf - WARNING - full garbage collections took 10% CPU time recently (threshold: 10%)\n",
      "distributed.utils_perf - WARNING - full garbage collections took 10% CPU time recently (threshold: 10%)\n"
     ]
    },
    {
     "name": "stdout",
     "output_type": "stream",
     "text": [
      "GPS grazing hrs: 69.59\n",
      "Grid (1 m) grazing hrs: 69.59\n",
      "Grid (30 m) grazing hrs: 61.84\n",
      "  4598_D1_2016\n"
     ]
    },
    {
     "name": "stderr",
     "output_type": "stream",
     "text": [
      "distributed.utils_perf - WARNING - full garbage collections took 13% CPU time recently (threshold: 10%)\n",
      "distributed.utils_perf - WARNING - full garbage collections took 13% CPU time recently (threshold: 10%)\n",
      "distributed.utils_perf - WARNING - full garbage collections took 13% CPU time recently (threshold: 10%)\n",
      "distributed.utils_perf - WARNING - full garbage collections took 13% CPU time recently (threshold: 10%)\n",
      "distributed.utils_perf - WARNING - full garbage collections took 13% CPU time recently (threshold: 10%)\n",
      "distributed.utils_perf - WARNING - full garbage collections took 13% CPU time recently (threshold: 10%)\n",
      "distributed.utils_perf - WARNING - full garbage collections took 13% CPU time recently (threshold: 10%)\n",
      "distributed.utils_perf - WARNING - full garbage collections took 12% CPU time recently (threshold: 10%)\n",
      "distributed.utils_perf - WARNING - full garbage collections took 12% CPU time recently (threshold: 10%)\n",
      "distributed.utils_perf - WARNING - full garbage collections took 11% CPU time recently (threshold: 10%)\n",
      "distributed.utils_perf - WARNING - full garbage collections took 12% CPU time recently (threshold: 10%)\n"
     ]
    },
    {
     "name": "stdout",
     "output_type": "stream",
     "text": [
      "GPS grazing hrs: 74.07\n",
      "Grid (1 m) grazing hrs: 74.07\n",
      "Grid (30 m) grazing hrs: 59.61\n",
      "Pasture: 24W (test)\n",
      "  3770_D1_2016\n"
     ]
    },
    {
     "name": "stderr",
     "output_type": "stream",
     "text": [
      "distributed.utils_perf - WARNING - full garbage collections took 14% CPU time recently (threshold: 10%)\n",
      "distributed.utils_perf - WARNING - full garbage collections took 14% CPU time recently (threshold: 10%)\n",
      "distributed.utils_perf - WARNING - full garbage collections took 14% CPU time recently (threshold: 10%)\n",
      "distributed.utils_perf - WARNING - full garbage collections took 14% CPU time recently (threshold: 10%)\n",
      "distributed.utils_perf - WARNING - full garbage collections took 14% CPU time recently (threshold: 10%)\n",
      "distributed.utils_perf - WARNING - full garbage collections took 14% CPU time recently (threshold: 10%)\n",
      "distributed.utils_perf - WARNING - full garbage collections took 13% CPU time recently (threshold: 10%)\n"
     ]
    },
    {
     "name": "stdout",
     "output_type": "stream",
     "text": [
      "GPS grazing hrs: 61.94\n",
      "Grid (1 m) grazing hrs: 62.0\n",
      "Grid (30 m) grazing hrs: 53.33\n",
      "  3771_D1_2016\n"
     ]
    },
    {
     "name": "stderr",
     "output_type": "stream",
     "text": [
      "distributed.utils_perf - WARNING - full garbage collections took 11% CPU time recently (threshold: 10%)\n",
      "distributed.utils_perf - WARNING - full garbage collections took 11% CPU time recently (threshold: 10%)\n",
      "distributed.utils_perf - WARNING - full garbage collections took 11% CPU time recently (threshold: 10%)\n",
      "distributed.utils_perf - WARNING - full garbage collections took 11% CPU time recently (threshold: 10%)\n",
      "distributed.utils_perf - WARNING - full garbage collections took 11% CPU time recently (threshold: 10%)\n"
     ]
    },
    {
     "name": "stdout",
     "output_type": "stream",
     "text": [
      "GPS grazing hrs: 66.35\n",
      "Grid (1 m) grazing hrs: 66.36\n",
      "Grid (30 m) grazing hrs: 60.08\n",
      "Pasture: 15E (train)\n",
      "  3772_D1_2016\n"
     ]
    },
    {
     "name": "stderr",
     "output_type": "stream",
     "text": [
      "distributed.utils_perf - WARNING - full garbage collections took 10% CPU time recently (threshold: 10%)\n",
      "distributed.utils_perf - WARNING - full garbage collections took 10% CPU time recently (threshold: 10%)\n",
      "distributed.utils_perf - WARNING - full garbage collections took 10% CPU time recently (threshold: 10%)\n",
      "distributed.utils_perf - WARNING - full garbage collections took 14% CPU time recently (threshold: 10%)\n",
      "distributed.utils_perf - WARNING - full garbage collections took 14% CPU time recently (threshold: 10%)\n",
      "distributed.utils_perf - WARNING - full garbage collections took 14% CPU time recently (threshold: 10%)\n",
      "distributed.utils_perf - WARNING - full garbage collections took 14% CPU time recently (threshold: 10%)\n",
      "distributed.utils_perf - WARNING - full garbage collections took 14% CPU time recently (threshold: 10%)\n",
      "distributed.utils_perf - WARNING - full garbage collections took 14% CPU time recently (threshold: 10%)\n"
     ]
    },
    {
     "name": "stdout",
     "output_type": "stream",
     "text": [
      "GPS grazing hrs: 61.95\n",
      "Grid (1 m) grazing hrs: 61.98\n",
      "Grid (30 m) grazing hrs: 50.63\n",
      "  3773_D1_2016\n"
     ]
    },
    {
     "name": "stderr",
     "output_type": "stream",
     "text": [
      "distributed.utils_perf - WARNING - full garbage collections took 11% CPU time recently (threshold: 10%)\n",
      "distributed.utils_perf - WARNING - full garbage collections took 11% CPU time recently (threshold: 10%)\n",
      "distributed.utils_perf - WARNING - full garbage collections took 11% CPU time recently (threshold: 10%)\n",
      "distributed.utils_perf - WARNING - full garbage collections took 11% CPU time recently (threshold: 10%)\n",
      "distributed.utils_perf - WARNING - full garbage collections took 11% CPU time recently (threshold: 10%)\n",
      "distributed.utils_perf - WARNING - full garbage collections took 11% CPU time recently (threshold: 10%)\n",
      "distributed.utils_perf - WARNING - full garbage collections took 17% CPU time recently (threshold: 10%)\n",
      "distributed.utils_perf - WARNING - full garbage collections took 17% CPU time recently (threshold: 10%)\n",
      "distributed.utils_perf - WARNING - full garbage collections took 17% CPU time recently (threshold: 10%)\n",
      "distributed.utils_perf - WARNING - full garbage collections took 17% CPU time recently (threshold: 10%)\n"
     ]
    },
    {
     "name": "stdout",
     "output_type": "stream",
     "text": [
      "GPS grazing hrs: 65.37\n",
      "Grid (1 m) grazing hrs: 65.4\n",
      "Grid (30 m) grazing hrs: 56.15\n",
      "Pasture: 26E (train)\n",
      "  3774_D1_2016\n"
     ]
    },
    {
     "name": "stderr",
     "output_type": "stream",
     "text": [
      "distributed.utils_perf - WARNING - full garbage collections took 15% CPU time recently (threshold: 10%)\n",
      "distributed.utils_perf - WARNING - full garbage collections took 12% CPU time recently (threshold: 10%)\n",
      "distributed.utils_perf - WARNING - full garbage collections took 12% CPU time recently (threshold: 10%)\n",
      "distributed.utils_perf - WARNING - full garbage collections took 12% CPU time recently (threshold: 10%)\n",
      "distributed.utils_perf - WARNING - full garbage collections took 12% CPU time recently (threshold: 10%)\n",
      "distributed.utils_perf - WARNING - full garbage collections took 12% CPU time recently (threshold: 10%)\n",
      "distributed.utils_perf - WARNING - full garbage collections took 15% CPU time recently (threshold: 10%)\n",
      "distributed.utils_perf - WARNING - full garbage collections took 16% CPU time recently (threshold: 10%)\n",
      "distributed.utils_perf - WARNING - full garbage collections took 16% CPU time recently (threshold: 10%)\n",
      "distributed.utils_perf - WARNING - full garbage collections took 16% CPU time recently (threshold: 10%)\n",
      "distributed.utils_perf - WARNING - full garbage collections took 16% CPU time recently (threshold: 10%)\n",
      "distributed.utils_perf - WARNING - full garbage collections took 15% CPU time recently (threshold: 10%)\n",
      "distributed.utils_perf - WARNING - full garbage collections took 15% CPU time recently (threshold: 10%)\n"
     ]
    },
    {
     "name": "stdout",
     "output_type": "stream",
     "text": [
      "GPS grazing hrs: 74.12\n",
      "Grid (1 m) grazing hrs: 74.19\n",
      "Grid (30 m) grazing hrs: 71.4\n",
      "  3775_D1_2016\n"
     ]
    },
    {
     "name": "stderr",
     "output_type": "stream",
     "text": [
      "distributed.utils_perf - WARNING - full garbage collections took 10% CPU time recently (threshold: 10%)\n",
      "distributed.utils_perf - WARNING - full garbage collections took 10% CPU time recently (threshold: 10%)\n",
      "distributed.utils_perf - WARNING - full garbage collections took 10% CPU time recently (threshold: 10%)\n",
      "distributed.utils_perf - WARNING - full garbage collections took 11% CPU time recently (threshold: 10%)\n",
      "distributed.utils_perf - WARNING - full garbage collections took 11% CPU time recently (threshold: 10%)\n",
      "distributed.utils_perf - WARNING - full garbage collections took 11% CPU time recently (threshold: 10%)\n",
      "distributed.utils_perf - WARNING - full garbage collections took 11% CPU time recently (threshold: 10%)\n",
      "distributed.utils_perf - WARNING - full garbage collections took 14% CPU time recently (threshold: 10%)\n",
      "distributed.utils_perf - WARNING - full garbage collections took 14% CPU time recently (threshold: 10%)\n",
      "distributed.utils_perf - WARNING - full garbage collections took 14% CPU time recently (threshold: 10%)\n",
      "distributed.utils_perf - WARNING - full garbage collections took 14% CPU time recently (threshold: 10%)\n"
     ]
    },
    {
     "name": "stdout",
     "output_type": "stream",
     "text": [
      "GPS grazing hrs: 80.92\n",
      "Grid (1 m) grazing hrs: 81.17\n",
      "Grid (30 m) grazing hrs: 73.11\n",
      "Pasture: 25SE (test)\n",
      "  3776_D1_2016\n"
     ]
    },
    {
     "name": "stderr",
     "output_type": "stream",
     "text": [
      "distributed.utils_perf - WARNING - full garbage collections took 11% CPU time recently (threshold: 10%)\n",
      "distributed.utils_perf - WARNING - full garbage collections took 11% CPU time recently (threshold: 10%)\n",
      "distributed.utils_perf - WARNING - full garbage collections took 11% CPU time recently (threshold: 10%)\n",
      "distributed.utils_perf - WARNING - full garbage collections took 11% CPU time recently (threshold: 10%)\n",
      "distributed.utils_perf - WARNING - full garbage collections took 11% CPU time recently (threshold: 10%)\n",
      "distributed.utils_perf - WARNING - full garbage collections took 11% CPU time recently (threshold: 10%)\n",
      "distributed.utils_perf - WARNING - full garbage collections took 13% CPU time recently (threshold: 10%)\n",
      "distributed.utils_perf - WARNING - full garbage collections took 15% CPU time recently (threshold: 10%)\n",
      "distributed.utils_perf - WARNING - full garbage collections took 16% CPU time recently (threshold: 10%)\n",
      "distributed.utils_perf - WARNING - full garbage collections took 16% CPU time recently (threshold: 10%)\n",
      "distributed.utils_perf - WARNING - full garbage collections took 16% CPU time recently (threshold: 10%)\n",
      "distributed.utils_perf - WARNING - full garbage collections took 16% CPU time recently (threshold: 10%)\n",
      "distributed.utils_perf - WARNING - full garbage collections took 16% CPU time recently (threshold: 10%)\n",
      "distributed.utils_perf - WARNING - full garbage collections took 15% CPU time recently (threshold: 10%)\n"
     ]
    },
    {
     "name": "stdout",
     "output_type": "stream",
     "text": [
      "GPS grazing hrs: 74.29\n",
      "Grid (1 m) grazing hrs: 74.29\n",
      "Grid (30 m) grazing hrs: 63.91\n",
      "  3778_D1_2016\n"
     ]
    },
    {
     "name": "stderr",
     "output_type": "stream",
     "text": [
      "distributed.utils_perf - WARNING - full garbage collections took 11% CPU time recently (threshold: 10%)\n",
      "distributed.utils_perf - WARNING - full garbage collections took 11% CPU time recently (threshold: 10%)\n",
      "distributed.utils_perf - WARNING - full garbage collections took 11% CPU time recently (threshold: 10%)\n",
      "distributed.utils_perf - WARNING - full garbage collections took 11% CPU time recently (threshold: 10%)\n",
      "distributed.utils_perf - WARNING - full garbage collections took 11% CPU time recently (threshold: 10%)\n",
      "distributed.utils_perf - WARNING - full garbage collections took 16% CPU time recently (threshold: 10%)\n",
      "distributed.utils_perf - WARNING - full garbage collections took 16% CPU time recently (threshold: 10%)\n",
      "distributed.utils_perf - WARNING - full garbage collections took 16% CPU time recently (threshold: 10%)\n",
      "distributed.utils_perf - WARNING - full garbage collections took 16% CPU time recently (threshold: 10%)\n",
      "distributed.utils_perf - WARNING - full garbage collections took 16% CPU time recently (threshold: 10%)\n",
      "distributed.utils_perf - WARNING - full garbage collections took 15% CPU time recently (threshold: 10%)\n",
      "distributed.utils_perf - WARNING - full garbage collections took 15% CPU time recently (threshold: 10%)\n",
      "distributed.utils_perf - WARNING - full garbage collections took 15% CPU time recently (threshold: 10%)\n",
      "distributed.utils_perf - WARNING - full garbage collections took 15% CPU time recently (threshold: 10%)\n",
      "distributed.utils_perf - WARNING - full garbage collections took 15% CPU time recently (threshold: 10%)\n",
      "distributed.utils_perf - WARNING - full garbage collections took 15% CPU time recently (threshold: 10%)\n"
     ]
    },
    {
     "name": "stdout",
     "output_type": "stream",
     "text": [
      "GPS grazing hrs: 73.54\n",
      "Grid (1 m) grazing hrs: 73.59\n",
      "Grid (30 m) grazing hrs: 64.67\n",
      "-------------Week starting: Jun 12 (24) -------------\n",
      "Pasture: 5E (test)\n",
      "  2285_D1_2016\n"
     ]
    },
    {
     "name": "stderr",
     "output_type": "stream",
     "text": [
      "distributed.utils_perf - WARNING - full garbage collections took 13% CPU time recently (threshold: 10%)\n",
      "distributed.utils_perf - WARNING - full garbage collections took 13% CPU time recently (threshold: 10%)\n",
      "distributed.utils_perf - WARNING - full garbage collections took 13% CPU time recently (threshold: 10%)\n",
      "distributed.utils_perf - WARNING - full garbage collections took 13% CPU time recently (threshold: 10%)\n",
      "distributed.utils_perf - WARNING - full garbage collections took 13% CPU time recently (threshold: 10%)\n",
      "distributed.utils_perf - WARNING - full garbage collections took 13% CPU time recently (threshold: 10%)\n",
      "distributed.utils_perf - WARNING - full garbage collections took 13% CPU time recently (threshold: 10%)\n",
      "distributed.utils_perf - WARNING - full garbage collections took 12% CPU time recently (threshold: 10%)\n",
      "distributed.utils_perf - WARNING - full garbage collections took 12% CPU time recently (threshold: 10%)\n",
      "distributed.utils_perf - WARNING - full garbage collections took 12% CPU time recently (threshold: 10%)\n",
      "distributed.utils_perf - WARNING - full garbage collections took 12% CPU time recently (threshold: 10%)\n",
      "distributed.utils_perf - WARNING - full garbage collections took 12% CPU time recently (threshold: 10%)\n"
     ]
    },
    {
     "name": "stdout",
     "output_type": "stream",
     "text": [
      "GPS grazing hrs: 70.38\n",
      "Grid (1 m) grazing hrs: 70.46\n",
      "Grid (30 m) grazing hrs: 64.34\n",
      "  2286_D1_2016\n"
     ]
    },
    {
     "name": "stderr",
     "output_type": "stream",
     "text": [
      "distributed.utils_perf - WARNING - full garbage collections took 11% CPU time recently (threshold: 10%)\n",
      "distributed.utils_perf - WARNING - full garbage collections took 11% CPU time recently (threshold: 10%)\n",
      "distributed.utils_perf - WARNING - full garbage collections took 11% CPU time recently (threshold: 10%)\n",
      "distributed.utils_perf - WARNING - full garbage collections took 11% CPU time recently (threshold: 10%)\n",
      "distributed.utils_perf - WARNING - full garbage collections took 11% CPU time recently (threshold: 10%)\n",
      "distributed.utils_perf - WARNING - full garbage collections took 11% CPU time recently (threshold: 10%)\n",
      "distributed.utils_perf - WARNING - full garbage collections took 11% CPU time recently (threshold: 10%)\n",
      "distributed.utils_perf - WARNING - full garbage collections took 10% CPU time recently (threshold: 10%)\n",
      "distributed.utils_perf - WARNING - full garbage collections took 10% CPU time recently (threshold: 10%)\n",
      "distributed.utils_perf - WARNING - full garbage collections took 10% CPU time recently (threshold: 10%)\n",
      "distributed.utils_perf - WARNING - full garbage collections took 10% CPU time recently (threshold: 10%)\n"
     ]
    },
    {
     "name": "stdout",
     "output_type": "stream",
     "text": [
      "GPS grazing hrs: 66.93\n",
      "Grid (1 m) grazing hrs: 67.06\n",
      "Grid (30 m) grazing hrs: 60.92\n",
      "  3773_D1_2016\n",
      "    SKIPPING STEER: All points masked.\n",
      "Pasture: 7NW (test)\n",
      "  2287_D1_2016\n"
     ]
    },
    {
     "name": "stderr",
     "output_type": "stream",
     "text": [
      "distributed.utils_perf - WARNING - full garbage collections took 14% CPU time recently (threshold: 10%)\n",
      "distributed.utils_perf - WARNING - full garbage collections took 14% CPU time recently (threshold: 10%)\n",
      "distributed.utils_perf - WARNING - full garbage collections took 14% CPU time recently (threshold: 10%)\n",
      "distributed.utils_perf - WARNING - full garbage collections took 14% CPU time recently (threshold: 10%)\n",
      "distributed.utils_perf - WARNING - full garbage collections took 14% CPU time recently (threshold: 10%)\n",
      "distributed.utils_perf - WARNING - full garbage collections took 14% CPU time recently (threshold: 10%)\n",
      "distributed.utils_perf - WARNING - full garbage collections took 14% CPU time recently (threshold: 10%)\n",
      "distributed.utils_perf - WARNING - full garbage collections took 14% CPU time recently (threshold: 10%)\n",
      "distributed.utils_perf - WARNING - full garbage collections took 14% CPU time recently (threshold: 10%)\n",
      "distributed.utils_perf - WARNING - full garbage collections took 14% CPU time recently (threshold: 10%)\n"
     ]
    },
    {
     "name": "stdout",
     "output_type": "stream",
     "text": [
      "GPS grazing hrs: 58.4\n",
      "Grid (1 m) grazing hrs: 58.33\n",
      "Grid (30 m) grazing hrs: 53.49\n",
      "Pasture: 17N (test)\n",
      "  2289_D1_2016\n"
     ]
    },
    {
     "name": "stderr",
     "output_type": "stream",
     "text": [
      "distributed.utils_perf - WARNING - full garbage collections took 10% CPU time recently (threshold: 10%)\n",
      "distributed.utils_perf - WARNING - full garbage collections took 10% CPU time recently (threshold: 10%)\n",
      "distributed.utils_perf - WARNING - full garbage collections took 15% CPU time recently (threshold: 10%)\n",
      "distributed.utils_perf - WARNING - full garbage collections took 15% CPU time recently (threshold: 10%)\n",
      "distributed.utils_perf - WARNING - full garbage collections took 15% CPU time recently (threshold: 10%)\n",
      "distributed.utils_perf - WARNING - full garbage collections took 15% CPU time recently (threshold: 10%)\n",
      "distributed.utils_perf - WARNING - full garbage collections took 15% CPU time recently (threshold: 10%)\n",
      "distributed.utils_perf - WARNING - full garbage collections took 15% CPU time recently (threshold: 10%)\n",
      "distributed.utils_perf - WARNING - full garbage collections took 15% CPU time recently (threshold: 10%)\n",
      "distributed.utils_perf - WARNING - full garbage collections took 15% CPU time recently (threshold: 10%)\n",
      "distributed.utils_perf - WARNING - full garbage collections took 15% CPU time recently (threshold: 10%)\n",
      "distributed.utils_perf - WARNING - full garbage collections took 15% CPU time recently (threshold: 10%)\n",
      "distributed.utils_perf - WARNING - full garbage collections took 15% CPU time recently (threshold: 10%)\n",
      "distributed.utils_perf - WARNING - full garbage collections took 15% CPU time recently (threshold: 10%)\n"
     ]
    },
    {
     "name": "stdout",
     "output_type": "stream",
     "text": [
      "GPS grazing hrs: 71.86\n",
      "Grid (1 m) grazing hrs: 71.9\n",
      "Grid (30 m) grazing hrs: 63.35\n",
      "  2290_D1_2016\n"
     ]
    },
    {
     "name": "stderr",
     "output_type": "stream",
     "text": [
      "distributed.utils_perf - WARNING - full garbage collections took 11% CPU time recently (threshold: 10%)\n",
      "distributed.utils_perf - WARNING - full garbage collections took 14% CPU time recently (threshold: 10%)\n",
      "distributed.utils_perf - WARNING - full garbage collections took 14% CPU time recently (threshold: 10%)\n",
      "distributed.utils_perf - WARNING - full garbage collections took 14% CPU time recently (threshold: 10%)\n",
      "distributed.utils_perf - WARNING - full garbage collections took 14% CPU time recently (threshold: 10%)\n",
      "distributed.utils_perf - WARNING - full garbage collections took 14% CPU time recently (threshold: 10%)\n",
      "distributed.utils_perf - WARNING - full garbage collections took 14% CPU time recently (threshold: 10%)\n",
      "distributed.utils_perf - WARNING - full garbage collections took 14% CPU time recently (threshold: 10%)\n",
      "distributed.utils_perf - WARNING - full garbage collections took 13% CPU time recently (threshold: 10%)\n",
      "distributed.utils_perf - WARNING - full garbage collections took 13% CPU time recently (threshold: 10%)\n",
      "distributed.utils_perf - WARNING - full garbage collections took 14% CPU time recently (threshold: 10%)\n"
     ]
    },
    {
     "name": "stdout",
     "output_type": "stream",
     "text": [
      "GPS grazing hrs: 76.42\n",
      "Grid (1 m) grazing hrs: 76.4\n",
      "Grid (30 m) grazing hrs: 60.6\n",
      "Pasture: 19N (test)\n",
      "  2291_D1_2016\n"
     ]
    },
    {
     "name": "stderr",
     "output_type": "stream",
     "text": [
      "distributed.utils_perf - WARNING - full garbage collections took 10% CPU time recently (threshold: 10%)\n",
      "distributed.utils_perf - WARNING - full garbage collections took 11% CPU time recently (threshold: 10%)\n",
      "distributed.utils_perf - WARNING - full garbage collections took 11% CPU time recently (threshold: 10%)\n",
      "distributed.utils_perf - WARNING - full garbage collections took 11% CPU time recently (threshold: 10%)\n",
      "distributed.utils_perf - WARNING - full garbage collections took 11% CPU time recently (threshold: 10%)\n",
      "distributed.utils_perf - WARNING - full garbage collections took 16% CPU time recently (threshold: 10%)\n",
      "distributed.utils_perf - WARNING - full garbage collections took 16% CPU time recently (threshold: 10%)\n",
      "distributed.utils_perf - WARNING - full garbage collections took 16% CPU time recently (threshold: 10%)\n",
      "distributed.utils_perf - WARNING - full garbage collections took 16% CPU time recently (threshold: 10%)\n",
      "distributed.utils_perf - WARNING - full garbage collections took 16% CPU time recently (threshold: 10%)\n",
      "distributed.utils_perf - WARNING - full garbage collections took 16% CPU time recently (threshold: 10%)\n",
      "distributed.utils_perf - WARNING - full garbage collections took 15% CPU time recently (threshold: 10%)\n",
      "distributed.utils_perf - WARNING - full garbage collections took 15% CPU time recently (threshold: 10%)\n"
     ]
    },
    {
     "name": "stdout",
     "output_type": "stream",
     "text": [
      "GPS grazing hrs: 61.13\n",
      "Grid (1 m) grazing hrs: 61.14\n",
      "Grid (30 m) grazing hrs: 54.56\n",
      "  4597_D1_2016\n"
     ]
    },
    {
     "name": "stderr",
     "output_type": "stream",
     "text": [
      "distributed.utils_perf - WARNING - full garbage collections took 10% CPU time recently (threshold: 10%)\n",
      "distributed.utils_perf - WARNING - full garbage collections took 10% CPU time recently (threshold: 10%)\n",
      "distributed.utils_perf - WARNING - full garbage collections took 10% CPU time recently (threshold: 10%)\n",
      "distributed.utils_perf - WARNING - full garbage collections took 11% CPU time recently (threshold: 10%)\n",
      "distributed.utils_perf - WARNING - full garbage collections took 11% CPU time recently (threshold: 10%)\n",
      "distributed.utils_perf - WARNING - full garbage collections took 11% CPU time recently (threshold: 10%)\n",
      "distributed.utils_perf - WARNING - full garbage collections took 14% CPU time recently (threshold: 10%)\n",
      "distributed.utils_perf - WARNING - full garbage collections took 14% CPU time recently (threshold: 10%)\n",
      "distributed.utils_perf - WARNING - full garbage collections took 14% CPU time recently (threshold: 10%)\n",
      "distributed.utils_perf - WARNING - full garbage collections took 14% CPU time recently (threshold: 10%)\n",
      "distributed.utils_perf - WARNING - full garbage collections took 14% CPU time recently (threshold: 10%)\n",
      "distributed.utils_perf - WARNING - full garbage collections took 14% CPU time recently (threshold: 10%)\n",
      "distributed.utils_perf - WARNING - full garbage collections took 14% CPU time recently (threshold: 10%)\n"
     ]
    },
    {
     "name": "stdout",
     "output_type": "stream",
     "text": [
      "GPS grazing hrs: 57.92\n",
      "Grid (1 m) grazing hrs: 57.92\n",
      "Grid (30 m) grazing hrs: 52.46\n",
      "Pasture: 20SE (test)\n",
      "  2293_D1_2016\n"
     ]
    },
    {
     "name": "stderr",
     "output_type": "stream",
     "text": [
      "distributed.utils_perf - WARNING - full garbage collections took 11% CPU time recently (threshold: 10%)\n",
      "distributed.utils_perf - WARNING - full garbage collections took 11% CPU time recently (threshold: 10%)\n",
      "distributed.utils_perf - WARNING - full garbage collections took 11% CPU time recently (threshold: 10%)\n",
      "distributed.utils_perf - WARNING - full garbage collections took 11% CPU time recently (threshold: 10%)\n",
      "distributed.utils_perf - WARNING - full garbage collections took 14% CPU time recently (threshold: 10%)\n",
      "distributed.utils_perf - WARNING - full garbage collections took 14% CPU time recently (threshold: 10%)\n",
      "distributed.utils_perf - WARNING - full garbage collections took 15% CPU time recently (threshold: 10%)\n",
      "distributed.utils_perf - WARNING - full garbage collections took 15% CPU time recently (threshold: 10%)\n",
      "distributed.utils_perf - WARNING - full garbage collections took 15% CPU time recently (threshold: 10%)\n",
      "distributed.utils_perf - WARNING - full garbage collections took 15% CPU time recently (threshold: 10%)\n",
      "distributed.utils_perf - WARNING - full garbage collections took 15% CPU time recently (threshold: 10%)\n",
      "distributed.utils_perf - WARNING - full garbage collections took 15% CPU time recently (threshold: 10%)\n",
      "distributed.utils_perf - WARNING - full garbage collections took 15% CPU time recently (threshold: 10%)\n",
      "distributed.utils_perf - WARNING - full garbage collections took 15% CPU time recently (threshold: 10%)\n"
     ]
    },
    {
     "name": "stdout",
     "output_type": "stream",
     "text": [
      "GPS grazing hrs: 57.18\n",
      "Grid (1 m) grazing hrs: 57.18\n",
      "Grid (30 m) grazing hrs: 52.41\n",
      "  2294_D1_2016\n"
     ]
    },
    {
     "name": "stderr",
     "output_type": "stream",
     "text": [
      "distributed.utils_perf - WARNING - full garbage collections took 10% CPU time recently (threshold: 10%)\n",
      "distributed.utils_perf - WARNING - full garbage collections took 10% CPU time recently (threshold: 10%)\n",
      "distributed.utils_perf - WARNING - full garbage collections took 10% CPU time recently (threshold: 10%)\n",
      "distributed.utils_perf - WARNING - full garbage collections took 14% CPU time recently (threshold: 10%)\n",
      "distributed.utils_perf - WARNING - full garbage collections took 14% CPU time recently (threshold: 10%)\n",
      "distributed.utils_perf - WARNING - full garbage collections took 14% CPU time recently (threshold: 10%)\n",
      "distributed.utils_perf - WARNING - full garbage collections took 14% CPU time recently (threshold: 10%)\n",
      "distributed.utils_perf - WARNING - full garbage collections took 14% CPU time recently (threshold: 10%)\n",
      "distributed.utils_perf - WARNING - full garbage collections took 14% CPU time recently (threshold: 10%)\n",
      "distributed.utils_perf - WARNING - full garbage collections took 14% CPU time recently (threshold: 10%)\n",
      "distributed.utils_perf - WARNING - full garbage collections took 14% CPU time recently (threshold: 10%)\n",
      "distributed.utils_perf - WARNING - full garbage collections took 14% CPU time recently (threshold: 10%)\n",
      "distributed.utils_perf - WARNING - full garbage collections took 14% CPU time recently (threshold: 10%)\n",
      "distributed.utils_perf - WARNING - full garbage collections took 14% CPU time recently (threshold: 10%)\n",
      "distributed.utils_perf - WARNING - full garbage collections took 14% CPU time recently (threshold: 10%)\n"
     ]
    },
    {
     "name": "stdout",
     "output_type": "stream",
     "text": [
      "GPS grazing hrs: 75.84\n",
      "Grid (1 m) grazing hrs: 75.82\n",
      "Grid (30 m) grazing hrs: 66.64\n",
      "Pasture: 31E (test)\n",
      "  3769_D1_2016\n"
     ]
    },
    {
     "name": "stderr",
     "output_type": "stream",
     "text": [
      "distributed.utils_perf - WARNING - full garbage collections took 11% CPU time recently (threshold: 10%)\n",
      "distributed.utils_perf - WARNING - full garbage collections took 13% CPU time recently (threshold: 10%)\n",
      "distributed.utils_perf - WARNING - full garbage collections took 13% CPU time recently (threshold: 10%)\n",
      "distributed.utils_perf - WARNING - full garbage collections took 13% CPU time recently (threshold: 10%)\n",
      "distributed.utils_perf - WARNING - full garbage collections took 13% CPU time recently (threshold: 10%)\n",
      "distributed.utils_perf - WARNING - full garbage collections took 13% CPU time recently (threshold: 10%)\n",
      "distributed.utils_perf - WARNING - full garbage collections took 13% CPU time recently (threshold: 10%)\n",
      "distributed.utils_perf - WARNING - full garbage collections took 12% CPU time recently (threshold: 10%)\n",
      "distributed.utils_perf - WARNING - full garbage collections took 12% CPU time recently (threshold: 10%)\n",
      "distributed.utils_perf - WARNING - full garbage collections took 12% CPU time recently (threshold: 10%)\n"
     ]
    },
    {
     "name": "stdout",
     "output_type": "stream",
     "text": [
      "GPS grazing hrs: 67.68\n",
      "Grid (1 m) grazing hrs: 67.64\n",
      "Grid (30 m) grazing hrs: 62.16\n",
      "  4598_D1_2016\n"
     ]
    },
    {
     "name": "stderr",
     "output_type": "stream",
     "text": [
      "distributed.utils_perf - WARNING - full garbage collections took 13% CPU time recently (threshold: 10%)\n",
      "distributed.utils_perf - WARNING - full garbage collections took 14% CPU time recently (threshold: 10%)\n",
      "distributed.utils_perf - WARNING - full garbage collections took 14% CPU time recently (threshold: 10%)\n",
      "distributed.utils_perf - WARNING - full garbage collections took 13% CPU time recently (threshold: 10%)\n",
      "distributed.utils_perf - WARNING - full garbage collections took 13% CPU time recently (threshold: 10%)\n",
      "distributed.utils_perf - WARNING - full garbage collections took 13% CPU time recently (threshold: 10%)\n",
      "distributed.utils_perf - WARNING - full garbage collections took 13% CPU time recently (threshold: 10%)\n",
      "distributed.utils_perf - WARNING - full garbage collections took 12% CPU time recently (threshold: 10%)\n"
     ]
    },
    {
     "name": "stdout",
     "output_type": "stream",
     "text": [
      "GPS grazing hrs: 72.77\n",
      "Grid (1 m) grazing hrs: 72.63\n",
      "Grid (30 m) grazing hrs: 62.16\n",
      "Pasture: 24W (test)\n",
      "  3770_D1_2016\n"
     ]
    },
    {
     "name": "stderr",
     "output_type": "stream",
     "text": [
      "distributed.utils_perf - WARNING - full garbage collections took 10% CPU time recently (threshold: 10%)\n",
      "distributed.utils_perf - WARNING - full garbage collections took 10% CPU time recently (threshold: 10%)\n",
      "distributed.utils_perf - WARNING - full garbage collections took 10% CPU time recently (threshold: 10%)\n",
      "distributed.utils_perf - WARNING - full garbage collections took 10% CPU time recently (threshold: 10%)\n",
      "distributed.utils_perf - WARNING - full garbage collections took 10% CPU time recently (threshold: 10%)\n",
      "distributed.utils_perf - WARNING - full garbage collections took 14% CPU time recently (threshold: 10%)\n",
      "distributed.utils_perf - WARNING - full garbage collections took 14% CPU time recently (threshold: 10%)\n",
      "distributed.utils_perf - WARNING - full garbage collections took 14% CPU time recently (threshold: 10%)\n"
     ]
    },
    {
     "name": "stdout",
     "output_type": "stream",
     "text": [
      "GPS grazing hrs: 56.54\n",
      "Grid (1 m) grazing hrs: 56.58\n",
      "Grid (30 m) grazing hrs: 52.36\n",
      "  3771_D1_2016\n"
     ]
    },
    {
     "name": "stderr",
     "output_type": "stream",
     "text": [
      "distributed.utils_perf - WARNING - full garbage collections took 11% CPU time recently (threshold: 10%)\n",
      "distributed.utils_perf - WARNING - full garbage collections took 11% CPU time recently (threshold: 10%)\n",
      "distributed.utils_perf - WARNING - full garbage collections took 11% CPU time recently (threshold: 10%)\n",
      "distributed.utils_perf - WARNING - full garbage collections took 11% CPU time recently (threshold: 10%)\n",
      "distributed.utils_perf - WARNING - full garbage collections took 11% CPU time recently (threshold: 10%)\n",
      "distributed.utils_perf - WARNING - full garbage collections took 11% CPU time recently (threshold: 10%)\n",
      "distributed.utils_perf - WARNING - full garbage collections took 11% CPU time recently (threshold: 10%)\n",
      "distributed.utils_perf - WARNING - full garbage collections took 15% CPU time recently (threshold: 10%)\n",
      "distributed.utils_perf - WARNING - full garbage collections took 15% CPU time recently (threshold: 10%)\n",
      "distributed.utils_perf - WARNING - full garbage collections took 15% CPU time recently (threshold: 10%)\n",
      "distributed.utils_perf - WARNING - full garbage collections took 15% CPU time recently (threshold: 10%)\n"
     ]
    },
    {
     "name": "stdout",
     "output_type": "stream",
     "text": [
      "GPS grazing hrs: 66.09\n",
      "Grid (1 m) grazing hrs: 66.16\n",
      "Grid (30 m) grazing hrs: 60.67\n",
      "Pasture: 15E (test)\n",
      "  3773_D1_2016\n"
     ]
    },
    {
     "name": "stderr",
     "output_type": "stream",
     "text": [
      "distributed.utils_perf - WARNING - full garbage collections took 12% CPU time recently (threshold: 10%)\n",
      "distributed.utils_perf - WARNING - full garbage collections took 12% CPU time recently (threshold: 10%)\n",
      "distributed.utils_perf - WARNING - full garbage collections took 11% CPU time recently (threshold: 10%)\n",
      "distributed.utils_perf - WARNING - full garbage collections took 11% CPU time recently (threshold: 10%)\n",
      "distributed.utils_perf - WARNING - full garbage collections took 12% CPU time recently (threshold: 10%)\n",
      "distributed.utils_perf - WARNING - full garbage collections took 12% CPU time recently (threshold: 10%)\n",
      "distributed.utils_perf - WARNING - full garbage collections took 12% CPU time recently (threshold: 10%)\n",
      "distributed.utils_perf - WARNING - full garbage collections took 12% CPU time recently (threshold: 10%)\n",
      "distributed.utils_perf - WARNING - full garbage collections took 12% CPU time recently (threshold: 10%)\n",
      "distributed.utils_perf - WARNING - full garbage collections took 17% CPU time recently (threshold: 10%)\n",
      "distributed.utils_perf - WARNING - full garbage collections took 17% CPU time recently (threshold: 10%)\n",
      "distributed.utils_perf - WARNING - full garbage collections took 17% CPU time recently (threshold: 10%)\n"
     ]
    },
    {
     "name": "stdout",
     "output_type": "stream",
     "text": [
      "GPS grazing hrs: 68.3\n",
      "Grid (1 m) grazing hrs: 68.31\n",
      "Grid (30 m) grazing hrs: 60.22\n",
      "Pasture: 25SE (test)\n",
      "  3776_D1_2016\n"
     ]
    },
    {
     "name": "stderr",
     "output_type": "stream",
     "text": [
      "distributed.utils_perf - WARNING - full garbage collections took 12% CPU time recently (threshold: 10%)\n",
      "distributed.utils_perf - WARNING - full garbage collections took 12% CPU time recently (threshold: 10%)\n",
      "distributed.utils_perf - WARNING - full garbage collections took 12% CPU time recently (threshold: 10%)\n",
      "distributed.utils_perf - WARNING - full garbage collections took 12% CPU time recently (threshold: 10%)\n",
      "distributed.utils_perf - WARNING - full garbage collections took 12% CPU time recently (threshold: 10%)\n",
      "distributed.utils_perf - WARNING - full garbage collections took 12% CPU time recently (threshold: 10%)\n",
      "distributed.utils_perf - WARNING - full garbage collections took 12% CPU time recently (threshold: 10%)\n",
      "distributed.utils_perf - WARNING - full garbage collections took 16% CPU time recently (threshold: 10%)\n",
      "distributed.utils_perf - WARNING - full garbage collections took 16% CPU time recently (threshold: 10%)\n",
      "distributed.utils_perf - WARNING - full garbage collections took 16% CPU time recently (threshold: 10%)\n",
      "distributed.utils_perf - WARNING - full garbage collections took 16% CPU time recently (threshold: 10%)\n",
      "distributed.utils_perf - WARNING - full garbage collections took 16% CPU time recently (threshold: 10%)\n",
      "distributed.utils_perf - WARNING - full garbage collections took 15% CPU time recently (threshold: 10%)\n",
      "distributed.utils_perf - WARNING - full garbage collections took 15% CPU time recently (threshold: 10%)\n",
      "distributed.utils_perf - WARNING - full garbage collections took 16% CPU time recently (threshold: 10%)\n"
     ]
    },
    {
     "name": "stdout",
     "output_type": "stream",
     "text": [
      "GPS grazing hrs: 68.82\n",
      "Grid (1 m) grazing hrs: 68.87\n",
      "Grid (30 m) grazing hrs: 61.77\n",
      "  3778_D1_2016\n"
     ]
    },
    {
     "name": "stderr",
     "output_type": "stream",
     "text": [
      "distributed.utils_perf - WARNING - full garbage collections took 11% CPU time recently (threshold: 10%)\n",
      "distributed.utils_perf - WARNING - full garbage collections took 11% CPU time recently (threshold: 10%)\n",
      "distributed.utils_perf - WARNING - full garbage collections took 10% CPU time recently (threshold: 10%)\n",
      "distributed.utils_perf - WARNING - full garbage collections took 13% CPU time recently (threshold: 10%)\n",
      "distributed.utils_perf - WARNING - full garbage collections took 13% CPU time recently (threshold: 10%)\n",
      "distributed.utils_perf - WARNING - full garbage collections took 13% CPU time recently (threshold: 10%)\n",
      "distributed.utils_perf - WARNING - full garbage collections took 14% CPU time recently (threshold: 10%)\n",
      "distributed.utils_perf - WARNING - full garbage collections took 14% CPU time recently (threshold: 10%)\n",
      "distributed.utils_perf - WARNING - full garbage collections took 14% CPU time recently (threshold: 10%)\n",
      "distributed.utils_perf - WARNING - full garbage collections took 14% CPU time recently (threshold: 10%)\n",
      "distributed.utils_perf - WARNING - full garbage collections took 14% CPU time recently (threshold: 10%)\n",
      "distributed.utils_perf - WARNING - full garbage collections took 13% CPU time recently (threshold: 10%)\n",
      "distributed.utils_perf - WARNING - full garbage collections took 13% CPU time recently (threshold: 10%)\n",
      "distributed.utils_perf - WARNING - full garbage collections took 13% CPU time recently (threshold: 10%)\n",
      "distributed.utils_perf - WARNING - full garbage collections took 13% CPU time recently (threshold: 10%)\n",
      "distributed.utils_perf - WARNING - full garbage collections took 21% CPU time recently (threshold: 10%)\n",
      "distributed.utils_perf - WARNING - full garbage collections took 21% CPU time recently (threshold: 10%)\n",
      "distributed.utils_perf - WARNING - full garbage collections took 21% CPU time recently (threshold: 10%)\n"
     ]
    },
    {
     "name": "stdout",
     "output_type": "stream",
     "text": [
      "GPS grazing hrs: 75.94\n",
      "Grid (1 m) grazing hrs: 75.97\n",
      "Grid (30 m) grazing hrs: 65.62\n",
      "-------------Week starting: Jun 19 (25) -------------\n",
      "Pasture: 5E (test)\n",
      "  2285_D1_2016\n"
     ]
    },
    {
     "name": "stderr",
     "output_type": "stream",
     "text": [
      "distributed.utils_perf - WARNING - full garbage collections took 12% CPU time recently (threshold: 10%)\n",
      "distributed.utils_perf - WARNING - full garbage collections took 12% CPU time recently (threshold: 10%)\n",
      "distributed.utils_perf - WARNING - full garbage collections took 11% CPU time recently (threshold: 10%)\n",
      "distributed.utils_perf - WARNING - full garbage collections took 11% CPU time recently (threshold: 10%)\n",
      "distributed.utils_perf - WARNING - full garbage collections took 11% CPU time recently (threshold: 10%)\n",
      "distributed.utils_perf - WARNING - full garbage collections took 11% CPU time recently (threshold: 10%)\n",
      "distributed.utils_perf - WARNING - full garbage collections took 11% CPU time recently (threshold: 10%)\n",
      "distributed.utils_perf - WARNING - full garbage collections took 11% CPU time recently (threshold: 10%)\n",
      "distributed.utils_perf - WARNING - full garbage collections took 11% CPU time recently (threshold: 10%)\n",
      "distributed.utils_perf - WARNING - full garbage collections took 11% CPU time recently (threshold: 10%)\n",
      "distributed.utils_perf - WARNING - full garbage collections took 11% CPU time recently (threshold: 10%)\n",
      "distributed.utils_perf - WARNING - full garbage collections took 11% CPU time recently (threshold: 10%)\n"
     ]
    },
    {
     "name": "stdout",
     "output_type": "stream",
     "text": [
      "GPS grazing hrs: 71.71\n",
      "Grid (1 m) grazing hrs: 71.87\n",
      "Grid (30 m) grazing hrs: 64.15\n",
      "  2286_D1_2016\n"
     ]
    },
    {
     "name": "stderr",
     "output_type": "stream",
     "text": [
      "distributed.utils_perf - WARNING - full garbage collections took 13% CPU time recently (threshold: 10%)\n",
      "distributed.utils_perf - WARNING - full garbage collections took 13% CPU time recently (threshold: 10%)\n",
      "distributed.utils_perf - WARNING - full garbage collections took 13% CPU time recently (threshold: 10%)\n",
      "distributed.utils_perf - WARNING - full garbage collections took 13% CPU time recently (threshold: 10%)\n",
      "distributed.utils_perf - WARNING - full garbage collections took 13% CPU time recently (threshold: 10%)\n",
      "distributed.utils_perf - WARNING - full garbage collections took 13% CPU time recently (threshold: 10%)\n",
      "distributed.utils_perf - WARNING - full garbage collections took 14% CPU time recently (threshold: 10%)\n",
      "distributed.utils_perf - WARNING - full garbage collections took 13% CPU time recently (threshold: 10%)\n",
      "distributed.utils_perf - WARNING - full garbage collections took 13% CPU time recently (threshold: 10%)\n",
      "distributed.utils_perf - WARNING - full garbage collections took 13% CPU time recently (threshold: 10%)\n",
      "distributed.utils_perf - WARNING - full garbage collections took 14% CPU time recently (threshold: 10%)\n",
      "distributed.utils_perf - WARNING - full garbage collections took 14% CPU time recently (threshold: 10%)\n"
     ]
    },
    {
     "name": "stdout",
     "output_type": "stream",
     "text": [
      "GPS grazing hrs: 68.82\n",
      "Grid (1 m) grazing hrs: 68.84\n",
      "Grid (30 m) grazing hrs: 62.35\n",
      "  3773_D1_2016\n",
      "    SKIPPING STEER: All points masked.\n",
      "Pasture: 7NW (train)\n",
      "  2287_D1_2016\n"
     ]
    },
    {
     "name": "stderr",
     "output_type": "stream",
     "text": [
      "distributed.utils_perf - WARNING - full garbage collections took 11% CPU time recently (threshold: 10%)\n",
      "distributed.utils_perf - WARNING - full garbage collections took 11% CPU time recently (threshold: 10%)\n",
      "distributed.utils_perf - WARNING - full garbage collections took 11% CPU time recently (threshold: 10%)\n",
      "distributed.utils_perf - WARNING - full garbage collections took 11% CPU time recently (threshold: 10%)\n",
      "distributed.utils_perf - WARNING - full garbage collections took 11% CPU time recently (threshold: 10%)\n",
      "distributed.utils_perf - WARNING - full garbage collections took 12% CPU time recently (threshold: 10%)\n",
      "distributed.utils_perf - WARNING - full garbage collections took 17% CPU time recently (threshold: 10%)\n",
      "distributed.utils_perf - WARNING - full garbage collections took 18% CPU time recently (threshold: 10%)\n",
      "distributed.utils_perf - WARNING - full garbage collections took 18% CPU time recently (threshold: 10%)\n",
      "distributed.utils_perf - WARNING - full garbage collections took 18% CPU time recently (threshold: 10%)\n",
      "distributed.utils_perf - WARNING - full garbage collections took 17% CPU time recently (threshold: 10%)\n",
      "distributed.utils_perf - WARNING - full garbage collections took 17% CPU time recently (threshold: 10%)\n"
     ]
    },
    {
     "name": "stdout",
     "output_type": "stream",
     "text": [
      "GPS grazing hrs: 57.48\n",
      "Grid (1 m) grazing hrs: 57.53\n",
      "Grid (30 m) grazing hrs: 53.38\n",
      "  2288_D1_2016\n"
     ]
    },
    {
     "name": "stderr",
     "output_type": "stream",
     "text": [
      "distributed.utils_perf - WARNING - full garbage collections took 12% CPU time recently (threshold: 10%)\n",
      "distributed.utils_perf - WARNING - full garbage collections took 12% CPU time recently (threshold: 10%)\n",
      "distributed.utils_perf - WARNING - full garbage collections took 12% CPU time recently (threshold: 10%)\n",
      "distributed.utils_perf - WARNING - full garbage collections took 12% CPU time recently (threshold: 10%)\n",
      "distributed.utils_perf - WARNING - full garbage collections took 12% CPU time recently (threshold: 10%)\n",
      "distributed.utils_perf - WARNING - full garbage collections took 12% CPU time recently (threshold: 10%)\n",
      "distributed.utils_perf - WARNING - full garbage collections took 16% CPU time recently (threshold: 10%)\n",
      "distributed.utils_perf - WARNING - full garbage collections took 17% CPU time recently (threshold: 10%)\n",
      "distributed.utils_perf - WARNING - full garbage collections took 17% CPU time recently (threshold: 10%)\n",
      "distributed.utils_perf - WARNING - full garbage collections took 17% CPU time recently (threshold: 10%)\n",
      "distributed.utils_perf - WARNING - full garbage collections took 17% CPU time recently (threshold: 10%)\n",
      "distributed.utils_perf - WARNING - full garbage collections took 16% CPU time recently (threshold: 10%)\n",
      "distributed.utils_perf - WARNING - full garbage collections took 16% CPU time recently (threshold: 10%)\n",
      "distributed.utils_perf - WARNING - full garbage collections took 16% CPU time recently (threshold: 10%)\n"
     ]
    },
    {
     "name": "stdout",
     "output_type": "stream",
     "text": [
      "GPS grazing hrs: 73.54\n",
      "Grid (1 m) grazing hrs: 73.67\n",
      "Grid (30 m) grazing hrs: 68.51\n",
      "Pasture: 17N (train)\n",
      "  2289_D1_2016\n"
     ]
    },
    {
     "name": "stderr",
     "output_type": "stream",
     "text": [
      "distributed.utils_perf - WARNING - full garbage collections took 11% CPU time recently (threshold: 10%)\n",
      "distributed.utils_perf - WARNING - full garbage collections took 11% CPU time recently (threshold: 10%)\n",
      "distributed.utils_perf - WARNING - full garbage collections took 11% CPU time recently (threshold: 10%)\n",
      "distributed.utils_perf - WARNING - full garbage collections took 11% CPU time recently (threshold: 10%)\n",
      "distributed.utils_perf - WARNING - full garbage collections took 14% CPU time recently (threshold: 10%)\n",
      "distributed.utils_perf - WARNING - full garbage collections took 14% CPU time recently (threshold: 10%)\n",
      "distributed.utils_perf - WARNING - full garbage collections took 14% CPU time recently (threshold: 10%)\n",
      "distributed.utils_perf - WARNING - full garbage collections took 14% CPU time recently (threshold: 10%)\n",
      "distributed.utils_perf - WARNING - full garbage collections took 14% CPU time recently (threshold: 10%)\n",
      "distributed.utils_perf - WARNING - full garbage collections took 14% CPU time recently (threshold: 10%)\n",
      "distributed.utils_perf - WARNING - full garbage collections took 13% CPU time recently (threshold: 10%)\n",
      "distributed.utils_perf - WARNING - full garbage collections took 13% CPU time recently (threshold: 10%)\n",
      "distributed.utils_perf - WARNING - full garbage collections took 14% CPU time recently (threshold: 10%)\n"
     ]
    },
    {
     "name": "stdout",
     "output_type": "stream",
     "text": [
      "GPS grazing hrs: 71.85\n",
      "Grid (1 m) grazing hrs: 71.89\n",
      "Grid (30 m) grazing hrs: 62.57\n",
      "  2290_D1_2016\n"
     ]
    },
    {
     "name": "stderr",
     "output_type": "stream",
     "text": [
      "distributed.utils_perf - WARNING - full garbage collections took 11% CPU time recently (threshold: 10%)\n",
      "distributed.utils_perf - WARNING - full garbage collections took 11% CPU time recently (threshold: 10%)\n",
      "distributed.utils_perf - WARNING - full garbage collections took 11% CPU time recently (threshold: 10%)\n",
      "distributed.utils_perf - WARNING - full garbage collections took 15% CPU time recently (threshold: 10%)\n",
      "distributed.utils_perf - WARNING - full garbage collections took 15% CPU time recently (threshold: 10%)\n",
      "distributed.utils_perf - WARNING - full garbage collections took 16% CPU time recently (threshold: 10%)\n",
      "distributed.utils_perf - WARNING - full garbage collections took 16% CPU time recently (threshold: 10%)\n",
      "distributed.utils_perf - WARNING - full garbage collections took 16% CPU time recently (threshold: 10%)\n",
      "distributed.utils_perf - WARNING - full garbage collections took 15% CPU time recently (threshold: 10%)\n",
      "distributed.utils_perf - WARNING - full garbage collections took 15% CPU time recently (threshold: 10%)\n",
      "distributed.utils_perf - WARNING - full garbage collections took 15% CPU time recently (threshold: 10%)\n",
      "distributed.utils_perf - WARNING - full garbage collections took 14% CPU time recently (threshold: 10%)\n"
     ]
    },
    {
     "name": "stdout",
     "output_type": "stream",
     "text": [
      "GPS grazing hrs: 74.85\n",
      "Grid (1 m) grazing hrs: 74.88\n",
      "Grid (30 m) grazing hrs: 59.34\n",
      "Pasture: 19N (test)\n",
      "  2291_D1_2016\n"
     ]
    },
    {
     "name": "stderr",
     "output_type": "stream",
     "text": [
      "distributed.utils_perf - WARNING - full garbage collections took 13% CPU time recently (threshold: 10%)\n",
      "distributed.utils_perf - WARNING - full garbage collections took 11% CPU time recently (threshold: 10%)\n",
      "distributed.utils_perf - WARNING - full garbage collections took 10% CPU time recently (threshold: 10%)\n",
      "distributed.utils_perf - WARNING - full garbage collections took 10% CPU time recently (threshold: 10%)\n",
      "distributed.utils_perf - WARNING - full garbage collections took 10% CPU time recently (threshold: 10%)\n",
      "distributed.utils_perf - WARNING - full garbage collections took 16% CPU time recently (threshold: 10%)\n",
      "distributed.utils_perf - WARNING - full garbage collections took 16% CPU time recently (threshold: 10%)\n",
      "distributed.utils_perf - WARNING - full garbage collections took 16% CPU time recently (threshold: 10%)\n",
      "distributed.utils_perf - WARNING - full garbage collections took 16% CPU time recently (threshold: 10%)\n",
      "distributed.utils_perf - WARNING - full garbage collections took 16% CPU time recently (threshold: 10%)\n",
      "distributed.utils_perf - WARNING - full garbage collections took 16% CPU time recently (threshold: 10%)\n",
      "distributed.utils_perf - WARNING - full garbage collections took 15% CPU time recently (threshold: 10%)\n",
      "distributed.utils_perf - WARNING - full garbage collections took 15% CPU time recently (threshold: 10%)\n",
      "distributed.utils_perf - WARNING - full garbage collections took 15% CPU time recently (threshold: 10%)\n",
      "distributed.utils_perf - WARNING - full garbage collections took 15% CPU time recently (threshold: 10%)\n",
      "distributed.utils_perf - WARNING - full garbage collections took 15% CPU time recently (threshold: 10%)\n"
     ]
    },
    {
     "name": "stdout",
     "output_type": "stream",
     "text": [
      "GPS grazing hrs: 57.82\n",
      "Grid (1 m) grazing hrs: 57.96\n",
      "Grid (30 m) grazing hrs: 48.53\n",
      "  4597_D1_2016\n"
     ]
    },
    {
     "name": "stderr",
     "output_type": "stream",
     "text": [
      "distributed.utils_perf - WARNING - full garbage collections took 11% CPU time recently (threshold: 10%)\n",
      "distributed.utils_perf - WARNING - full garbage collections took 11% CPU time recently (threshold: 10%)\n",
      "distributed.utils_perf - WARNING - full garbage collections took 15% CPU time recently (threshold: 10%)\n",
      "distributed.utils_perf - WARNING - full garbage collections took 15% CPU time recently (threshold: 10%)\n",
      "distributed.utils_perf - WARNING - full garbage collections took 16% CPU time recently (threshold: 10%)\n",
      "distributed.utils_perf - WARNING - full garbage collections took 16% CPU time recently (threshold: 10%)\n",
      "distributed.utils_perf - WARNING - full garbage collections took 16% CPU time recently (threshold: 10%)\n",
      "distributed.utils_perf - WARNING - full garbage collections took 16% CPU time recently (threshold: 10%)\n",
      "distributed.utils_perf - WARNING - full garbage collections took 16% CPU time recently (threshold: 10%)\n",
      "distributed.utils_perf - WARNING - full garbage collections took 15% CPU time recently (threshold: 10%)\n",
      "distributed.utils_perf - WARNING - full garbage collections took 15% CPU time recently (threshold: 10%)\n",
      "distributed.utils_perf - WARNING - full garbage collections took 15% CPU time recently (threshold: 10%)\n",
      "distributed.utils_perf - WARNING - full garbage collections took 15% CPU time recently (threshold: 10%)\n"
     ]
    },
    {
     "name": "stdout",
     "output_type": "stream",
     "text": [
      "GPS grazing hrs: 54.72\n",
      "Grid (1 m) grazing hrs: 54.81\n",
      "Grid (30 m) grazing hrs: 46.76\n",
      "Pasture: 20SE (train)\n",
      "  2293_D1_2016\n"
     ]
    },
    {
     "name": "stderr",
     "output_type": "stream",
     "text": [
      "distributed.utils_perf - WARNING - full garbage collections took 11% CPU time recently (threshold: 10%)\n",
      "distributed.utils_perf - WARNING - full garbage collections took 12% CPU time recently (threshold: 10%)\n",
      "distributed.utils_perf - WARNING - full garbage collections took 16% CPU time recently (threshold: 10%)\n",
      "distributed.utils_perf - WARNING - full garbage collections took 16% CPU time recently (threshold: 10%)\n",
      "distributed.utils_perf - WARNING - full garbage collections took 16% CPU time recently (threshold: 10%)\n",
      "distributed.utils_perf - WARNING - full garbage collections took 17% CPU time recently (threshold: 10%)\n",
      "distributed.utils_perf - WARNING - full garbage collections took 17% CPU time recently (threshold: 10%)\n",
      "distributed.utils_perf - WARNING - full garbage collections took 17% CPU time recently (threshold: 10%)\n",
      "distributed.utils_perf - WARNING - full garbage collections took 17% CPU time recently (threshold: 10%)\n",
      "distributed.utils_perf - WARNING - full garbage collections took 17% CPU time recently (threshold: 10%)\n",
      "distributed.utils_perf - WARNING - full garbage collections took 17% CPU time recently (threshold: 10%)\n",
      "distributed.utils_perf - WARNING - full garbage collections took 18% CPU time recently (threshold: 10%)\n",
      "distributed.utils_perf - WARNING - full garbage collections took 18% CPU time recently (threshold: 10%)\n",
      "distributed.utils_perf - WARNING - full garbage collections took 18% CPU time recently (threshold: 10%)\n"
     ]
    },
    {
     "name": "stdout",
     "output_type": "stream",
     "text": [
      "GPS grazing hrs: 56.91\n",
      "Grid (1 m) grazing hrs: 56.93\n",
      "Grid (30 m) grazing hrs: 54.95\n",
      "  2294_D1_2016\n"
     ]
    },
    {
     "name": "stderr",
     "output_type": "stream",
     "text": [
      "distributed.utils_perf - WARNING - full garbage collections took 11% CPU time recently (threshold: 10%)\n",
      "distributed.utils_perf - WARNING - full garbage collections took 11% CPU time recently (threshold: 10%)\n",
      "distributed.utils_perf - WARNING - full garbage collections took 11% CPU time recently (threshold: 10%)\n",
      "distributed.utils_perf - WARNING - full garbage collections took 14% CPU time recently (threshold: 10%)\n",
      "distributed.utils_perf - WARNING - full garbage collections took 14% CPU time recently (threshold: 10%)\n",
      "distributed.utils_perf - WARNING - full garbage collections took 14% CPU time recently (threshold: 10%)\n",
      "distributed.utils_perf - WARNING - full garbage collections took 14% CPU time recently (threshold: 10%)\n",
      "distributed.utils_perf - WARNING - full garbage collections took 14% CPU time recently (threshold: 10%)\n",
      "distributed.utils_perf - WARNING - full garbage collections took 14% CPU time recently (threshold: 10%)\n",
      "distributed.utils_perf - WARNING - full garbage collections took 14% CPU time recently (threshold: 10%)\n",
      "distributed.utils_perf - WARNING - full garbage collections took 14% CPU time recently (threshold: 10%)\n",
      "distributed.utils_perf - WARNING - full garbage collections took 14% CPU time recently (threshold: 10%)\n",
      "distributed.utils_perf - WARNING - full garbage collections took 14% CPU time recently (threshold: 10%)\n",
      "distributed.utils_perf - WARNING - full garbage collections took 14% CPU time recently (threshold: 10%)\n",
      "distributed.utils_perf - WARNING - full garbage collections took 14% CPU time recently (threshold: 10%)\n",
      "distributed.utils_perf - WARNING - full garbage collections took 14% CPU time recently (threshold: 10%)\n"
     ]
    },
    {
     "name": "stdout",
     "output_type": "stream",
     "text": [
      "GPS grazing hrs: 75.53\n",
      "Grid (1 m) grazing hrs: 75.55\n",
      "Grid (30 m) grazing hrs: 63.99\n",
      "Pasture: 31E (train)\n",
      "  3769_D1_2016\n"
     ]
    },
    {
     "name": "stderr",
     "output_type": "stream",
     "text": [
      "distributed.utils_perf - WARNING - full garbage collections took 14% CPU time recently (threshold: 10%)\n",
      "distributed.utils_perf - WARNING - full garbage collections took 14% CPU time recently (threshold: 10%)\n",
      "distributed.utils_perf - WARNING - full garbage collections took 14% CPU time recently (threshold: 10%)\n",
      "distributed.utils_perf - WARNING - full garbage collections took 13% CPU time recently (threshold: 10%)\n",
      "distributed.utils_perf - WARNING - full garbage collections took 13% CPU time recently (threshold: 10%)\n",
      "distributed.utils_perf - WARNING - full garbage collections took 13% CPU time recently (threshold: 10%)\n",
      "distributed.utils_perf - WARNING - full garbage collections took 13% CPU time recently (threshold: 10%)\n",
      "distributed.utils_perf - WARNING - full garbage collections took 13% CPU time recently (threshold: 10%)\n",
      "distributed.utils_perf - WARNING - full garbage collections took 12% CPU time recently (threshold: 10%)\n",
      "distributed.utils_perf - WARNING - full garbage collections took 12% CPU time recently (threshold: 10%)\n",
      "distributed.utils_perf - WARNING - full garbage collections took 12% CPU time recently (threshold: 10%)\n",
      "distributed.utils_perf - WARNING - full garbage collections took 12% CPU time recently (threshold: 10%)\n",
      "distributed.utils_perf - WARNING - full garbage collections took 11% CPU time recently (threshold: 10%)\n"
     ]
    },
    {
     "name": "stdout",
     "output_type": "stream",
     "text": [
      "GPS grazing hrs: 62.33\n",
      "Grid (1 m) grazing hrs: 62.32\n",
      "Grid (30 m) grazing hrs: 55.11\n",
      "  4598_D1_2016\n"
     ]
    },
    {
     "name": "stderr",
     "output_type": "stream",
     "text": [
      "distributed.utils_perf - WARNING - full garbage collections took 14% CPU time recently (threshold: 10%)\n",
      "distributed.utils_perf - WARNING - full garbage collections took 14% CPU time recently (threshold: 10%)\n",
      "distributed.utils_perf - WARNING - full garbage collections took 14% CPU time recently (threshold: 10%)\n",
      "distributed.utils_perf - WARNING - full garbage collections took 14% CPU time recently (threshold: 10%)\n",
      "distributed.utils_perf - WARNING - full garbage collections took 14% CPU time recently (threshold: 10%)\n",
      "distributed.utils_perf - WARNING - full garbage collections took 14% CPU time recently (threshold: 10%)\n",
      "distributed.utils_perf - WARNING - full garbage collections took 14% CPU time recently (threshold: 10%)\n",
      "distributed.utils_perf - WARNING - full garbage collections took 14% CPU time recently (threshold: 10%)\n",
      "distributed.utils_perf - WARNING - full garbage collections took 14% CPU time recently (threshold: 10%)\n",
      "distributed.utils_perf - WARNING - full garbage collections took 14% CPU time recently (threshold: 10%)\n",
      "distributed.utils_perf - WARNING - full garbage collections took 14% CPU time recently (threshold: 10%)\n"
     ]
    },
    {
     "name": "stdout",
     "output_type": "stream",
     "text": [
      "GPS grazing hrs: 67.37\n",
      "Grid (1 m) grazing hrs: 67.39\n",
      "Grid (30 m) grazing hrs: 56.36\n",
      "Pasture: 24W (test)\n",
      "  3770_D1_2016\n"
     ]
    },
    {
     "name": "stderr",
     "output_type": "stream",
     "text": [
      "distributed.utils_perf - WARNING - full garbage collections took 10% CPU time recently (threshold: 10%)\n",
      "distributed.utils_perf - WARNING - full garbage collections took 10% CPU time recently (threshold: 10%)\n",
      "distributed.utils_perf - WARNING - full garbage collections took 10% CPU time recently (threshold: 10%)\n",
      "distributed.utils_perf - WARNING - full garbage collections took 10% CPU time recently (threshold: 10%)\n",
      "distributed.utils_perf - WARNING - full garbage collections took 10% CPU time recently (threshold: 10%)\n",
      "distributed.utils_perf - WARNING - full garbage collections took 14% CPU time recently (threshold: 10%)\n",
      "distributed.utils_perf - WARNING - full garbage collections took 14% CPU time recently (threshold: 10%)\n",
      "distributed.utils_perf - WARNING - full garbage collections took 15% CPU time recently (threshold: 10%)\n",
      "distributed.utils_perf - WARNING - full garbage collections took 15% CPU time recently (threshold: 10%)\n",
      "distributed.utils_perf - WARNING - full garbage collections took 14% CPU time recently (threshold: 10%)\n",
      "distributed.utils_perf - WARNING - full garbage collections took 14% CPU time recently (threshold: 10%)\n",
      "distributed.utils_perf - WARNING - full garbage collections took 14% CPU time recently (threshold: 10%)\n",
      "distributed.utils_perf - WARNING - full garbage collections took 14% CPU time recently (threshold: 10%)\n"
     ]
    },
    {
     "name": "stdout",
     "output_type": "stream",
     "text": [
      "GPS grazing hrs: 57.47\n",
      "Grid (1 m) grazing hrs: 57.55\n",
      "Grid (30 m) grazing hrs: 53.48\n",
      "Pasture: 15E (train)\n",
      "  3773_D1_2016\n"
     ]
    },
    {
     "name": "stderr",
     "output_type": "stream",
     "text": [
      "distributed.utils_perf - WARNING - full garbage collections took 11% CPU time recently (threshold: 10%)\n",
      "distributed.utils_perf - WARNING - full garbage collections took 11% CPU time recently (threshold: 10%)\n",
      "distributed.utils_perf - WARNING - full garbage collections took 11% CPU time recently (threshold: 10%)\n",
      "distributed.utils_perf - WARNING - full garbage collections took 11% CPU time recently (threshold: 10%)\n",
      "distributed.utils_perf - WARNING - full garbage collections took 12% CPU time recently (threshold: 10%)\n",
      "distributed.utils_perf - WARNING - full garbage collections took 16% CPU time recently (threshold: 10%)\n",
      "distributed.utils_perf - WARNING - full garbage collections took 16% CPU time recently (threshold: 10%)\n",
      "distributed.utils_perf - WARNING - full garbage collections took 16% CPU time recently (threshold: 10%)\n",
      "distributed.utils_perf - WARNING - full garbage collections took 16% CPU time recently (threshold: 10%)\n",
      "distributed.utils_perf - WARNING - full garbage collections took 16% CPU time recently (threshold: 10%)\n",
      "distributed.utils_perf - WARNING - full garbage collections took 16% CPU time recently (threshold: 10%)\n"
     ]
    },
    {
     "name": "stdout",
     "output_type": "stream",
     "text": [
      "GPS grazing hrs: 67.13\n",
      "Grid (1 m) grazing hrs: 67.22\n",
      "Grid (30 m) grazing hrs: 55.36\n",
      "Pasture: 26E (train)\n",
      "  3775_D1_2016\n"
     ]
    },
    {
     "name": "stderr",
     "output_type": "stream",
     "text": [
      "distributed.utils_perf - WARNING - full garbage collections took 12% CPU time recently (threshold: 10%)\n",
      "distributed.utils_perf - WARNING - full garbage collections took 12% CPU time recently (threshold: 10%)\n",
      "distributed.utils_perf - WARNING - full garbage collections took 12% CPU time recently (threshold: 10%)\n",
      "distributed.utils_perf - WARNING - full garbage collections took 12% CPU time recently (threshold: 10%)\n",
      "distributed.utils_perf - WARNING - full garbage collections took 12% CPU time recently (threshold: 10%)\n",
      "distributed.utils_perf - WARNING - full garbage collections took 12% CPU time recently (threshold: 10%)\n",
      "distributed.utils_perf - WARNING - full garbage collections took 18% CPU time recently (threshold: 10%)\n",
      "distributed.utils_perf - WARNING - full garbage collections took 18% CPU time recently (threshold: 10%)\n",
      "distributed.utils_perf - WARNING - full garbage collections took 18% CPU time recently (threshold: 10%)\n",
      "distributed.utils_perf - WARNING - full garbage collections took 18% CPU time recently (threshold: 10%)\n",
      "distributed.utils_perf - WARNING - full garbage collections took 18% CPU time recently (threshold: 10%)\n",
      "distributed.utils_perf - WARNING - full garbage collections took 18% CPU time recently (threshold: 10%)\n"
     ]
    },
    {
     "name": "stdout",
     "output_type": "stream",
     "text": [
      "GPS grazing hrs: 77.83\n",
      "Grid (1 m) grazing hrs: 77.96\n",
      "Grid (30 m) grazing hrs: 70.46\n",
      "Pasture: 25SE (test)\n",
      "  3776_D1_2016\n"
     ]
    },
    {
     "name": "stderr",
     "output_type": "stream",
     "text": [
      "distributed.utils_perf - WARNING - full garbage collections took 13% CPU time recently (threshold: 10%)\n",
      "distributed.utils_perf - WARNING - full garbage collections took 12% CPU time recently (threshold: 10%)\n",
      "distributed.utils_perf - WARNING - full garbage collections took 12% CPU time recently (threshold: 10%)\n",
      "distributed.utils_perf - WARNING - full garbage collections took 12% CPU time recently (threshold: 10%)\n",
      "distributed.utils_perf - WARNING - full garbage collections took 13% CPU time recently (threshold: 10%)\n",
      "distributed.utils_perf - WARNING - full garbage collections took 13% CPU time recently (threshold: 10%)\n",
      "distributed.utils_perf - WARNING - full garbage collections took 13% CPU time recently (threshold: 10%)\n",
      "distributed.utils_perf - WARNING - full garbage collections took 18% CPU time recently (threshold: 10%)\n",
      "distributed.utils_perf - WARNING - full garbage collections took 18% CPU time recently (threshold: 10%)\n",
      "distributed.utils_perf - WARNING - full garbage collections took 18% CPU time recently (threshold: 10%)\n",
      "distributed.utils_perf - WARNING - full garbage collections took 18% CPU time recently (threshold: 10%)\n",
      "distributed.utils_perf - WARNING - full garbage collections took 18% CPU time recently (threshold: 10%)\n",
      "distributed.utils_perf - WARNING - full garbage collections took 18% CPU time recently (threshold: 10%)\n",
      "distributed.utils_perf - WARNING - full garbage collections took 18% CPU time recently (threshold: 10%)\n"
     ]
    },
    {
     "name": "stdout",
     "output_type": "stream",
     "text": [
      "GPS grazing hrs: 67.11\n",
      "Grid (1 m) grazing hrs: 67.39\n",
      "Grid (30 m) grazing hrs: 60.97\n",
      "  3778_D1_2016\n"
     ]
    },
    {
     "name": "stderr",
     "output_type": "stream",
     "text": [
      "distributed.utils_perf - WARNING - full garbage collections took 12% CPU time recently (threshold: 10%)\n",
      "distributed.utils_perf - WARNING - full garbage collections took 12% CPU time recently (threshold: 10%)\n",
      "distributed.utils_perf - WARNING - full garbage collections took 12% CPU time recently (threshold: 10%)\n",
      "distributed.utils_perf - WARNING - full garbage collections took 12% CPU time recently (threshold: 10%)\n",
      "distributed.utils_perf - WARNING - full garbage collections took 15% CPU time recently (threshold: 10%)\n",
      "distributed.utils_perf - WARNING - full garbage collections took 15% CPU time recently (threshold: 10%)\n",
      "distributed.utils_perf - WARNING - full garbage collections took 16% CPU time recently (threshold: 10%)\n",
      "distributed.utils_perf - WARNING - full garbage collections took 16% CPU time recently (threshold: 10%)\n",
      "distributed.utils_perf - WARNING - full garbage collections took 16% CPU time recently (threshold: 10%)\n",
      "distributed.utils_perf - WARNING - full garbage collections took 16% CPU time recently (threshold: 10%)\n",
      "distributed.utils_perf - WARNING - full garbage collections took 16% CPU time recently (threshold: 10%)\n",
      "distributed.utils_perf - WARNING - full garbage collections took 16% CPU time recently (threshold: 10%)\n",
      "distributed.utils_perf - WARNING - full garbage collections took 16% CPU time recently (threshold: 10%)\n",
      "distributed.utils_perf - WARNING - full garbage collections took 16% CPU time recently (threshold: 10%)\n",
      "distributed.utils_perf - WARNING - full garbage collections took 16% CPU time recently (threshold: 10%)\n",
      "distributed.utils_perf - WARNING - full garbage collections took 16% CPU time recently (threshold: 10%)\n"
     ]
    },
    {
     "name": "stdout",
     "output_type": "stream",
     "text": [
      "GPS grazing hrs: 66.41\n",
      "Grid (1 m) grazing hrs: 66.39\n",
      "Grid (30 m) grazing hrs: 58.07\n",
      "-------------Week starting: Jun 26 (26) -------------\n",
      "-------------Week starting: Jul 03 (27) -------------\n",
      "Pasture: 5E (test)\n",
      "  2285_D2_2016\n"
     ]
    },
    {
     "name": "stderr",
     "output_type": "stream",
     "text": [
      "distributed.utils_perf - WARNING - full garbage collections took 15% CPU time recently (threshold: 10%)\n",
      "distributed.utils_perf - WARNING - full garbage collections took 15% CPU time recently (threshold: 10%)\n",
      "distributed.utils_perf - WARNING - full garbage collections took 15% CPU time recently (threshold: 10%)\n",
      "distributed.utils_perf - WARNING - full garbage collections took 15% CPU time recently (threshold: 10%)\n",
      "distributed.utils_perf - WARNING - full garbage collections took 14% CPU time recently (threshold: 10%)\n",
      "distributed.utils_perf - WARNING - full garbage collections took 14% CPU time recently (threshold: 10%)\n",
      "distributed.utils_perf - WARNING - full garbage collections took 14% CPU time recently (threshold: 10%)\n",
      "distributed.utils_perf - WARNING - full garbage collections took 14% CPU time recently (threshold: 10%)\n",
      "distributed.utils_perf - WARNING - full garbage collections took 13% CPU time recently (threshold: 10%)\n",
      "distributed.utils_perf - WARNING - full garbage collections took 13% CPU time recently (threshold: 10%)\n",
      "distributed.utils_perf - WARNING - full garbage collections took 13% CPU time recently (threshold: 10%)\n",
      "distributed.utils_perf - WARNING - full garbage collections took 14% CPU time recently (threshold: 10%)\n"
     ]
    },
    {
     "name": "stdout",
     "output_type": "stream",
     "text": [
      "GPS grazing hrs: 64.67\n",
      "Grid (1 m) grazing hrs: 64.58\n",
      "Grid (30 m) grazing hrs: 58.31\n",
      "  2286_D2_2016\n"
     ]
    },
    {
     "name": "stderr",
     "output_type": "stream",
     "text": [
      "distributed.utils_perf - WARNING - full garbage collections took 10% CPU time recently (threshold: 10%)\n",
      "distributed.utils_perf - WARNING - full garbage collections took 10% CPU time recently (threshold: 10%)\n",
      "distributed.utils_perf - WARNING - full garbage collections took 14% CPU time recently (threshold: 10%)\n",
      "distributed.utils_perf - WARNING - full garbage collections took 14% CPU time recently (threshold: 10%)\n",
      "distributed.utils_perf - WARNING - full garbage collections took 14% CPU time recently (threshold: 10%)\n",
      "distributed.utils_perf - WARNING - full garbage collections took 14% CPU time recently (threshold: 10%)\n",
      "distributed.utils_perf - WARNING - full garbage collections took 14% CPU time recently (threshold: 10%)\n",
      "distributed.utils_perf - WARNING - full garbage collections took 14% CPU time recently (threshold: 10%)\n",
      "distributed.utils_perf - WARNING - full garbage collections took 14% CPU time recently (threshold: 10%)\n",
      "distributed.utils_perf - WARNING - full garbage collections took 13% CPU time recently (threshold: 10%)\n",
      "distributed.utils_perf - WARNING - full garbage collections took 13% CPU time recently (threshold: 10%)\n"
     ]
    },
    {
     "name": "stdout",
     "output_type": "stream",
     "text": [
      "GPS grazing hrs: 66.9\n",
      "Grid (1 m) grazing hrs: 67.04\n",
      "Grid (30 m) grazing hrs: 63.26\n",
      "  3772_D2_2016\n",
      "    SKIPPING STEER: All points masked.\n",
      "Pasture: 7NW (train)\n",
      "  2287_D2_2016\n"
     ]
    },
    {
     "name": "stderr",
     "output_type": "stream",
     "text": [
      "distributed.utils_perf - WARNING - full garbage collections took 10% CPU time recently (threshold: 10%)\n",
      "distributed.utils_perf - WARNING - full garbage collections took 10% CPU time recently (threshold: 10%)\n",
      "distributed.utils_perf - WARNING - full garbage collections took 10% CPU time recently (threshold: 10%)\n",
      "distributed.utils_perf - WARNING - full garbage collections took 10% CPU time recently (threshold: 10%)\n",
      "distributed.utils_perf - WARNING - full garbage collections took 10% CPU time recently (threshold: 10%)\n",
      "distributed.utils_perf - WARNING - full garbage collections took 10% CPU time recently (threshold: 10%)\n",
      "distributed.utils_perf - WARNING - full garbage collections took 10% CPU time recently (threshold: 10%)\n",
      "distributed.utils_perf - WARNING - full garbage collections took 15% CPU time recently (threshold: 10%)\n",
      "distributed.utils_perf - WARNING - full garbage collections took 15% CPU time recently (threshold: 10%)\n",
      "distributed.utils_perf - WARNING - full garbage collections took 15% CPU time recently (threshold: 10%)\n",
      "distributed.utils_perf - WARNING - full garbage collections took 15% CPU time recently (threshold: 10%)\n",
      "distributed.utils_perf - WARNING - full garbage collections took 15% CPU time recently (threshold: 10%)\n",
      "distributed.utils_perf - WARNING - full garbage collections took 15% CPU time recently (threshold: 10%)\n",
      "distributed.utils_perf - WARNING - full garbage collections took 15% CPU time recently (threshold: 10%)\n",
      "distributed.utils_perf - WARNING - full garbage collections took 15% CPU time recently (threshold: 10%)\n"
     ]
    },
    {
     "name": "stdout",
     "output_type": "stream",
     "text": [
      "GPS grazing hrs: 67.89\n",
      "Grid (1 m) grazing hrs: 67.92\n",
      "Grid (30 m) grazing hrs: 63.9\n",
      "Pasture: 17N (train)\n",
      "  2289_D2_2016\n"
     ]
    },
    {
     "name": "stderr",
     "output_type": "stream",
     "text": [
      "distributed.utils_perf - WARNING - full garbage collections took 11% CPU time recently (threshold: 10%)\n",
      "distributed.utils_perf - WARNING - full garbage collections took 11% CPU time recently (threshold: 10%)\n",
      "distributed.utils_perf - WARNING - full garbage collections took 11% CPU time recently (threshold: 10%)\n",
      "distributed.utils_perf - WARNING - full garbage collections took 11% CPU time recently (threshold: 10%)\n",
      "distributed.utils_perf - WARNING - full garbage collections took 16% CPU time recently (threshold: 10%)\n",
      "distributed.utils_perf - WARNING - full garbage collections took 16% CPU time recently (threshold: 10%)\n",
      "distributed.utils_perf - WARNING - full garbage collections took 16% CPU time recently (threshold: 10%)\n",
      "distributed.utils_perf - WARNING - full garbage collections took 16% CPU time recently (threshold: 10%)\n",
      "distributed.utils_perf - WARNING - full garbage collections took 16% CPU time recently (threshold: 10%)\n"
     ]
    },
    {
     "name": "stdout",
     "output_type": "stream",
     "text": [
      "GPS grazing hrs: 71.67\n",
      "Grid (1 m) grazing hrs: 71.69\n",
      "Grid (30 m) grazing hrs: 59.28\n",
      "  2290_D2_2016\n"
     ]
    },
    {
     "name": "stderr",
     "output_type": "stream",
     "text": [
      "distributed.utils_perf - WARNING - full garbage collections took 12% CPU time recently (threshold: 10%)\n",
      "distributed.utils_perf - WARNING - full garbage collections took 12% CPU time recently (threshold: 10%)\n",
      "distributed.utils_perf - WARNING - full garbage collections took 12% CPU time recently (threshold: 10%)\n",
      "distributed.utils_perf - WARNING - full garbage collections took 12% CPU time recently (threshold: 10%)\n",
      "distributed.utils_perf - WARNING - full garbage collections took 12% CPU time recently (threshold: 10%)\n",
      "distributed.utils_perf - WARNING - full garbage collections took 12% CPU time recently (threshold: 10%)\n",
      "distributed.utils_perf - WARNING - full garbage collections took 17% CPU time recently (threshold: 10%)\n",
      "distributed.utils_perf - WARNING - full garbage collections took 17% CPU time recently (threshold: 10%)\n",
      "distributed.utils_perf - WARNING - full garbage collections took 17% CPU time recently (threshold: 10%)\n",
      "distributed.utils_perf - WARNING - full garbage collections took 17% CPU time recently (threshold: 10%)\n",
      "distributed.utils_perf - WARNING - full garbage collections took 17% CPU time recently (threshold: 10%)\n"
     ]
    },
    {
     "name": "stdout",
     "output_type": "stream",
     "text": [
      "GPS grazing hrs: 62.02\n",
      "Grid (1 m) grazing hrs: 61.98\n",
      "Grid (30 m) grazing hrs: 52.68\n",
      "Pasture: 19N (test)\n",
      "  2291_D2_2016\n"
     ]
    },
    {
     "name": "stderr",
     "output_type": "stream",
     "text": [
      "distributed.utils_perf - WARNING - full garbage collections took 13% CPU time recently (threshold: 10%)\n",
      "distributed.utils_perf - WARNING - full garbage collections took 13% CPU time recently (threshold: 10%)\n",
      "distributed.utils_perf - WARNING - full garbage collections took 13% CPU time recently (threshold: 10%)\n",
      "distributed.utils_perf - WARNING - full garbage collections took 12% CPU time recently (threshold: 10%)\n",
      "distributed.utils_perf - WARNING - full garbage collections took 13% CPU time recently (threshold: 10%)\n",
      "distributed.utils_perf - WARNING - full garbage collections took 13% CPU time recently (threshold: 10%)\n",
      "distributed.utils_perf - WARNING - full garbage collections took 13% CPU time recently (threshold: 10%)\n",
      "distributed.utils_perf - WARNING - full garbage collections took 13% CPU time recently (threshold: 10%)\n",
      "distributed.utils_perf - WARNING - full garbage collections took 13% CPU time recently (threshold: 10%)\n",
      "distributed.utils_perf - WARNING - full garbage collections took 13% CPU time recently (threshold: 10%)\n",
      "distributed.utils_perf - WARNING - full garbage collections took 18% CPU time recently (threshold: 10%)\n"
     ]
    },
    {
     "name": "stdout",
     "output_type": "stream",
     "text": [
      "GPS grazing hrs: 77.11\n",
      "Grid (1 m) grazing hrs: 77.38\n",
      "Grid (30 m) grazing hrs: 60.63\n",
      "  4597_D2_2016\n"
     ]
    },
    {
     "name": "stderr",
     "output_type": "stream",
     "text": [
      "distributed.utils_perf - WARNING - full garbage collections took 13% CPU time recently (threshold: 10%)\n",
      "distributed.utils_perf - WARNING - full garbage collections took 13% CPU time recently (threshold: 10%)\n",
      "distributed.utils_perf - WARNING - full garbage collections took 13% CPU time recently (threshold: 10%)\n",
      "distributed.utils_perf - WARNING - full garbage collections took 13% CPU time recently (threshold: 10%)\n",
      "distributed.utils_perf - WARNING - full garbage collections took 13% CPU time recently (threshold: 10%)\n",
      "distributed.utils_perf - WARNING - full garbage collections took 13% CPU time recently (threshold: 10%)\n",
      "distributed.utils_perf - WARNING - full garbage collections took 14% CPU time recently (threshold: 10%)\n",
      "distributed.utils_perf - WARNING - full garbage collections took 13% CPU time recently (threshold: 10%)\n",
      "distributed.utils_perf - WARNING - full garbage collections took 18% CPU time recently (threshold: 10%)\n",
      "distributed.utils_perf - WARNING - full garbage collections took 17% CPU time recently (threshold: 10%)\n",
      "distributed.utils_perf - WARNING - full garbage collections took 17% CPU time recently (threshold: 10%)\n",
      "distributed.utils_perf - WARNING - full garbage collections took 17% CPU time recently (threshold: 10%)\n",
      "distributed.utils_perf - WARNING - full garbage collections took 17% CPU time recently (threshold: 10%)\n"
     ]
    },
    {
     "name": "stdout",
     "output_type": "stream",
     "text": [
      "GPS grazing hrs: 74.98\n",
      "Grid (1 m) grazing hrs: 75.0\n",
      "Grid (30 m) grazing hrs: 64.76\n",
      "Pasture: 20SE (train)\n",
      "  2293_D2_2016\n"
     ]
    },
    {
     "name": "stderr",
     "output_type": "stream",
     "text": [
      "distributed.utils_perf - WARNING - full garbage collections took 11% CPU time recently (threshold: 10%)\n",
      "distributed.utils_perf - WARNING - full garbage collections took 11% CPU time recently (threshold: 10%)\n",
      "distributed.utils_perf - WARNING - full garbage collections took 11% CPU time recently (threshold: 10%)\n",
      "distributed.utils_perf - WARNING - full garbage collections took 11% CPU time recently (threshold: 10%)\n",
      "distributed.utils_perf - WARNING - full garbage collections took 11% CPU time recently (threshold: 10%)\n",
      "distributed.utils_perf - WARNING - full garbage collections took 12% CPU time recently (threshold: 10%)\n",
      "distributed.utils_perf - WARNING - full garbage collections took 15% CPU time recently (threshold: 10%)\n",
      "distributed.utils_perf - WARNING - full garbage collections took 15% CPU time recently (threshold: 10%)\n",
      "distributed.utils_perf - WARNING - full garbage collections took 15% CPU time recently (threshold: 10%)\n",
      "distributed.utils_perf - WARNING - full garbage collections took 15% CPU time recently (threshold: 10%)\n",
      "distributed.utils_perf - WARNING - full garbage collections took 15% CPU time recently (threshold: 10%)\n",
      "distributed.utils_perf - WARNING - full garbage collections took 15% CPU time recently (threshold: 10%)\n",
      "distributed.utils_perf - WARNING - full garbage collections took 15% CPU time recently (threshold: 10%)\n",
      "distributed.utils_perf - WARNING - full garbage collections took 13% CPU time recently (threshold: 10%)\n"
     ]
    },
    {
     "name": "stdout",
     "output_type": "stream",
     "text": [
      "GPS grazing hrs: 56.29\n",
      "Grid (1 m) grazing hrs: 56.31\n",
      "Grid (30 m) grazing hrs: 53.98\n",
      "  2294_D2_2016\n"
     ]
    },
    {
     "name": "stderr",
     "output_type": "stream",
     "text": [
      "distributed.utils_perf - WARNING - full garbage collections took 10% CPU time recently (threshold: 10%)\n",
      "distributed.utils_perf - WARNING - full garbage collections took 10% CPU time recently (threshold: 10%)\n",
      "distributed.utils_perf - WARNING - full garbage collections took 10% CPU time recently (threshold: 10%)\n",
      "distributed.utils_perf - WARNING - full garbage collections took 12% CPU time recently (threshold: 10%)\n",
      "distributed.utils_perf - WARNING - full garbage collections took 12% CPU time recently (threshold: 10%)\n",
      "distributed.utils_perf - WARNING - full garbage collections took 12% CPU time recently (threshold: 10%)\n",
      "distributed.utils_perf - WARNING - full garbage collections took 13% CPU time recently (threshold: 10%)\n",
      "distributed.utils_perf - WARNING - full garbage collections took 13% CPU time recently (threshold: 10%)\n",
      "distributed.utils_perf - WARNING - full garbage collections took 13% CPU time recently (threshold: 10%)\n",
      "distributed.utils_perf - WARNING - full garbage collections took 13% CPU time recently (threshold: 10%)\n",
      "distributed.utils_perf - WARNING - full garbage collections took 13% CPU time recently (threshold: 10%)\n",
      "distributed.utils_perf - WARNING - full garbage collections took 13% CPU time recently (threshold: 10%)\n",
      "distributed.utils_perf - WARNING - full garbage collections took 13% CPU time recently (threshold: 10%)\n",
      "distributed.utils_perf - WARNING - full garbage collections took 13% CPU time recently (threshold: 10%)\n",
      "distributed.utils_perf - WARNING - full garbage collections took 13% CPU time recently (threshold: 10%)\n",
      "distributed.utils_perf - WARNING - full garbage collections took 13% CPU time recently (threshold: 10%)\n"
     ]
    },
    {
     "name": "stdout",
     "output_type": "stream",
     "text": [
      "GPS grazing hrs: 73.92\n",
      "Grid (1 m) grazing hrs: 74.12\n",
      "Grid (30 m) grazing hrs: 67.34\n",
      "Pasture: 31E (train)\n",
      "  3769_D2_2016\n"
     ]
    },
    {
     "name": "stderr",
     "output_type": "stream",
     "text": [
      "distributed.utils_perf - WARNING - full garbage collections took 14% CPU time recently (threshold: 10%)\n",
      "distributed.utils_perf - WARNING - full garbage collections took 14% CPU time recently (threshold: 10%)\n",
      "distributed.utils_perf - WARNING - full garbage collections took 14% CPU time recently (threshold: 10%)\n",
      "distributed.utils_perf - WARNING - full garbage collections took 13% CPU time recently (threshold: 10%)\n",
      "distributed.utils_perf - WARNING - full garbage collections took 13% CPU time recently (threshold: 10%)\n",
      "distributed.utils_perf - WARNING - full garbage collections took 13% CPU time recently (threshold: 10%)\n",
      "distributed.utils_perf - WARNING - full garbage collections took 13% CPU time recently (threshold: 10%)\n",
      "distributed.utils_perf - WARNING - full garbage collections took 13% CPU time recently (threshold: 10%)\n",
      "distributed.utils_perf - WARNING - full garbage collections took 13% CPU time recently (threshold: 10%)\n",
      "distributed.utils_perf - WARNING - full garbage collections took 13% CPU time recently (threshold: 10%)\n",
      "distributed.utils_perf - WARNING - full garbage collections took 13% CPU time recently (threshold: 10%)\n",
      "distributed.utils_perf - WARNING - full garbage collections took 13% CPU time recently (threshold: 10%)\n"
     ]
    },
    {
     "name": "stdout",
     "output_type": "stream",
     "text": [
      "GPS grazing hrs: 67.11\n",
      "Grid (1 m) grazing hrs: 67.14\n",
      "Grid (30 m) grazing hrs: 59.98\n",
      "Pasture: 24W (test)\n",
      "  3770_D2_2016\n"
     ]
    },
    {
     "name": "stderr",
     "output_type": "stream",
     "text": [
      "distributed.utils_perf - WARNING - full garbage collections took 10% CPU time recently (threshold: 10%)\n",
      "distributed.utils_perf - WARNING - full garbage collections took 11% CPU time recently (threshold: 10%)\n",
      "distributed.utils_perf - WARNING - full garbage collections took 16% CPU time recently (threshold: 10%)\n",
      "distributed.utils_perf - WARNING - full garbage collections took 17% CPU time recently (threshold: 10%)\n",
      "distributed.utils_perf - WARNING - full garbage collections took 17% CPU time recently (threshold: 10%)\n",
      "distributed.utils_perf - WARNING - full garbage collections took 17% CPU time recently (threshold: 10%)\n",
      "distributed.utils_perf - WARNING - full garbage collections took 17% CPU time recently (threshold: 10%)\n",
      "distributed.utils_perf - WARNING - full garbage collections took 16% CPU time recently (threshold: 10%)\n",
      "distributed.utils_perf - WARNING - full garbage collections took 16% CPU time recently (threshold: 10%)\n",
      "distributed.utils_perf - WARNING - full garbage collections took 16% CPU time recently (threshold: 10%)\n",
      "distributed.utils_perf - WARNING - full garbage collections took 16% CPU time recently (threshold: 10%)\n",
      "distributed.utils_perf - WARNING - full garbage collections took 15% CPU time recently (threshold: 10%)\n"
     ]
    },
    {
     "name": "stdout",
     "output_type": "stream",
     "text": [
      "GPS grazing hrs: 71.85\n",
      "Grid (1 m) grazing hrs: 71.79\n",
      "Grid (30 m) grazing hrs: 64.9\n",
      "  3771_D2_2016\n"
     ]
    },
    {
     "name": "stderr",
     "output_type": "stream",
     "text": [
      "distributed.utils_perf - WARNING - full garbage collections took 14% CPU time recently (threshold: 10%)\n",
      "distributed.utils_perf - WARNING - full garbage collections took 11% CPU time recently (threshold: 10%)\n",
      "distributed.utils_perf - WARNING - full garbage collections took 11% CPU time recently (threshold: 10%)\n",
      "distributed.utils_perf - WARNING - full garbage collections took 11% CPU time recently (threshold: 10%)\n",
      "distributed.utils_perf - WARNING - full garbage collections took 11% CPU time recently (threshold: 10%)\n",
      "distributed.utils_perf - WARNING - full garbage collections took 11% CPU time recently (threshold: 10%)\n",
      "distributed.utils_perf - WARNING - full garbage collections took 16% CPU time recently (threshold: 10%)\n",
      "distributed.utils_perf - WARNING - full garbage collections took 17% CPU time recently (threshold: 10%)\n",
      "distributed.utils_perf - WARNING - full garbage collections took 17% CPU time recently (threshold: 10%)\n",
      "distributed.utils_perf - WARNING - full garbage collections took 17% CPU time recently (threshold: 10%)\n",
      "distributed.utils_perf - WARNING - full garbage collections took 17% CPU time recently (threshold: 10%)\n",
      "distributed.utils_perf - WARNING - full garbage collections took 17% CPU time recently (threshold: 10%)\n",
      "distributed.utils_perf - WARNING - full garbage collections took 16% CPU time recently (threshold: 10%)\n"
     ]
    },
    {
     "name": "stdout",
     "output_type": "stream",
     "text": [
      "GPS grazing hrs: 71.73\n",
      "Grid (1 m) grazing hrs: 71.89\n",
      "Grid (30 m) grazing hrs: 68.2\n",
      "Pasture: 15E (train)\n",
      "  3772_D2_2016\n"
     ]
    },
    {
     "name": "stderr",
     "output_type": "stream",
     "text": [
      "distributed.utils_perf - WARNING - full garbage collections took 12% CPU time recently (threshold: 10%)\n",
      "distributed.utils_perf - WARNING - full garbage collections took 12% CPU time recently (threshold: 10%)\n",
      "distributed.utils_perf - WARNING - full garbage collections took 12% CPU time recently (threshold: 10%)\n",
      "distributed.utils_perf - WARNING - full garbage collections took 12% CPU time recently (threshold: 10%)\n",
      "distributed.utils_perf - WARNING - full garbage collections took 12% CPU time recently (threshold: 10%)\n",
      "distributed.utils_perf - WARNING - full garbage collections took 16% CPU time recently (threshold: 10%)\n",
      "distributed.utils_perf - WARNING - full garbage collections took 17% CPU time recently (threshold: 10%)\n",
      "distributed.utils_perf - WARNING - full garbage collections took 16% CPU time recently (threshold: 10%)\n",
      "distributed.utils_perf - WARNING - full garbage collections took 16% CPU time recently (threshold: 10%)\n",
      "distributed.utils_perf - WARNING - full garbage collections took 16% CPU time recently (threshold: 10%)\n",
      "distributed.utils_perf - WARNING - full garbage collections took 16% CPU time recently (threshold: 10%)\n",
      "distributed.utils_perf - WARNING - full garbage collections took 16% CPU time recently (threshold: 10%)\n"
     ]
    },
    {
     "name": "stdout",
     "output_type": "stream",
     "text": [
      "GPS grazing hrs: 59.99\n",
      "Grid (1 m) grazing hrs: 59.96\n",
      "Grid (30 m) grazing hrs: 53.23\n",
      "Pasture: 26E (train)\n",
      "  3775_D2_2016\n"
     ]
    },
    {
     "name": "stderr",
     "output_type": "stream",
     "text": [
      "distributed.utils_perf - WARNING - full garbage collections took 12% CPU time recently (threshold: 10%)\n",
      "distributed.utils_perf - WARNING - full garbage collections took 12% CPU time recently (threshold: 10%)\n",
      "distributed.utils_perf - WARNING - full garbage collections took 12% CPU time recently (threshold: 10%)\n",
      "distributed.utils_perf - WARNING - full garbage collections took 12% CPU time recently (threshold: 10%)\n",
      "distributed.utils_perf - WARNING - full garbage collections took 12% CPU time recently (threshold: 10%)\n",
      "distributed.utils_perf - WARNING - full garbage collections took 14% CPU time recently (threshold: 10%)\n",
      "distributed.utils_perf - WARNING - full garbage collections took 17% CPU time recently (threshold: 10%)\n",
      "distributed.utils_perf - WARNING - full garbage collections took 17% CPU time recently (threshold: 10%)\n",
      "distributed.utils_perf - WARNING - full garbage collections took 18% CPU time recently (threshold: 10%)\n",
      "distributed.utils_perf - WARNING - full garbage collections took 18% CPU time recently (threshold: 10%)\n"
     ]
    },
    {
     "name": "stdout",
     "output_type": "stream",
     "text": [
      "GPS grazing hrs: 79.4\n",
      "Grid (1 m) grazing hrs: 79.64\n",
      "Grid (30 m) grazing hrs: 71.36\n",
      "Pasture: 25SE (test)\n",
      "  3776_D2_2016\n"
     ]
    },
    {
     "name": "stderr",
     "output_type": "stream",
     "text": [
      "distributed.utils_perf - WARNING - full garbage collections took 11% CPU time recently (threshold: 10%)\n",
      "distributed.utils_perf - WARNING - full garbage collections took 11% CPU time recently (threshold: 10%)\n",
      "distributed.utils_perf - WARNING - full garbage collections took 11% CPU time recently (threshold: 10%)\n",
      "distributed.utils_perf - WARNING - full garbage collections took 11% CPU time recently (threshold: 10%)\n",
      "distributed.utils_perf - WARNING - full garbage collections took 11% CPU time recently (threshold: 10%)\n",
      "distributed.utils_perf - WARNING - full garbage collections took 11% CPU time recently (threshold: 10%)\n",
      "distributed.utils_perf - WARNING - full garbage collections took 11% CPU time recently (threshold: 10%)\n",
      "distributed.utils_perf - WARNING - full garbage collections took 12% CPU time recently (threshold: 10%)\n",
      "distributed.utils_perf - WARNING - full garbage collections took 15% CPU time recently (threshold: 10%)\n",
      "distributed.utils_perf - WARNING - full garbage collections took 15% CPU time recently (threshold: 10%)\n",
      "distributed.utils_perf - WARNING - full garbage collections took 15% CPU time recently (threshold: 10%)\n",
      "distributed.utils_perf - WARNING - full garbage collections took 15% CPU time recently (threshold: 10%)\n",
      "distributed.utils_perf - WARNING - full garbage collections took 15% CPU time recently (threshold: 10%)\n",
      "distributed.utils_perf - WARNING - full garbage collections took 15% CPU time recently (threshold: 10%)\n",
      "distributed.utils_perf - WARNING - full garbage collections took 15% CPU time recently (threshold: 10%)\n"
     ]
    },
    {
     "name": "stdout",
     "output_type": "stream",
     "text": [
      "GPS grazing hrs: 71.53\n",
      "Grid (1 m) grazing hrs: 71.69\n",
      "Grid (30 m) grazing hrs: 66.53\n",
      "  3778_D2_2016\n"
     ]
    },
    {
     "name": "stderr",
     "output_type": "stream",
     "text": [
      "distributed.utils_perf - WARNING - full garbage collections took 11% CPU time recently (threshold: 10%)\n",
      "distributed.utils_perf - WARNING - full garbage collections took 11% CPU time recently (threshold: 10%)\n",
      "distributed.utils_perf - WARNING - full garbage collections took 11% CPU time recently (threshold: 10%)\n",
      "distributed.utils_perf - WARNING - full garbage collections took 11% CPU time recently (threshold: 10%)\n",
      "distributed.utils_perf - WARNING - full garbage collections took 11% CPU time recently (threshold: 10%)\n",
      "distributed.utils_perf - WARNING - full garbage collections took 14% CPU time recently (threshold: 10%)\n",
      "distributed.utils_perf - WARNING - full garbage collections took 14% CPU time recently (threshold: 10%)\n",
      "distributed.utils_perf - WARNING - full garbage collections took 14% CPU time recently (threshold: 10%)\n",
      "distributed.utils_perf - WARNING - full garbage collections took 14% CPU time recently (threshold: 10%)\n",
      "distributed.utils_perf - WARNING - full garbage collections took 14% CPU time recently (threshold: 10%)\n",
      "distributed.utils_perf - WARNING - full garbage collections took 14% CPU time recently (threshold: 10%)\n",
      "distributed.utils_perf - WARNING - full garbage collections took 13% CPU time recently (threshold: 10%)\n",
      "distributed.utils_perf - WARNING - full garbage collections took 13% CPU time recently (threshold: 10%)\n",
      "distributed.utils_perf - WARNING - full garbage collections took 13% CPU time recently (threshold: 10%)\n",
      "distributed.utils_perf - WARNING - full garbage collections took 13% CPU time recently (threshold: 10%)\n",
      "distributed.utils_perf - WARNING - full garbage collections took 23% CPU time recently (threshold: 10%)\n"
     ]
    },
    {
     "name": "stdout",
     "output_type": "stream",
     "text": [
      "GPS grazing hrs: 57.53\n",
      "Grid (1 m) grazing hrs: 57.49\n",
      "Grid (30 m) grazing hrs: 55.11\n",
      "-------------Week starting: Jul 10 (28) -------------\n",
      "Pasture: 5E (test)\n",
      "  2285_D2_2016\n"
     ]
    },
    {
     "name": "stderr",
     "output_type": "stream",
     "text": [
      "distributed.utils_perf - WARNING - full garbage collections took 12% CPU time recently (threshold: 10%)\n",
      "distributed.utils_perf - WARNING - full garbage collections took 12% CPU time recently (threshold: 10%)\n",
      "distributed.utils_perf - WARNING - full garbage collections took 12% CPU time recently (threshold: 10%)\n",
      "distributed.utils_perf - WARNING - full garbage collections took 11% CPU time recently (threshold: 10%)\n",
      "distributed.utils_perf - WARNING - full garbage collections took 11% CPU time recently (threshold: 10%)\n",
      "distributed.utils_perf - WARNING - full garbage collections took 11% CPU time recently (threshold: 10%)\n",
      "distributed.utils_perf - WARNING - full garbage collections took 11% CPU time recently (threshold: 10%)\n",
      "distributed.utils_perf - WARNING - full garbage collections took 11% CPU time recently (threshold: 10%)\n",
      "distributed.utils_perf - WARNING - full garbage collections took 11% CPU time recently (threshold: 10%)\n",
      "distributed.utils_perf - WARNING - full garbage collections took 11% CPU time recently (threshold: 10%)\n",
      "distributed.utils_perf - WARNING - full garbage collections took 11% CPU time recently (threshold: 10%)\n",
      "distributed.utils_perf - WARNING - full garbage collections took 11% CPU time recently (threshold: 10%)\n",
      "distributed.utils_perf - WARNING - full garbage collections took 11% CPU time recently (threshold: 10%)\n"
     ]
    },
    {
     "name": "stdout",
     "output_type": "stream",
     "text": [
      "GPS grazing hrs: 64.39\n",
      "Grid (1 m) grazing hrs: 64.35\n",
      "Grid (30 m) grazing hrs: 56.06\n",
      "  2286_D2_2016\n"
     ]
    },
    {
     "name": "stderr",
     "output_type": "stream",
     "text": [
      "distributed.utils_perf - WARNING - full garbage collections took 10% CPU time recently (threshold: 10%)\n",
      "distributed.utils_perf - WARNING - full garbage collections took 13% CPU time recently (threshold: 10%)\n",
      "distributed.utils_perf - WARNING - full garbage collections took 13% CPU time recently (threshold: 10%)\n",
      "distributed.utils_perf - WARNING - full garbage collections took 13% CPU time recently (threshold: 10%)\n",
      "distributed.utils_perf - WARNING - full garbage collections took 13% CPU time recently (threshold: 10%)\n",
      "distributed.utils_perf - WARNING - full garbage collections took 13% CPU time recently (threshold: 10%)\n",
      "distributed.utils_perf - WARNING - full garbage collections took 12% CPU time recently (threshold: 10%)\n",
      "distributed.utils_perf - WARNING - full garbage collections took 12% CPU time recently (threshold: 10%)\n",
      "distributed.utils_perf - WARNING - full garbage collections took 12% CPU time recently (threshold: 10%)\n",
      "distributed.utils_perf - WARNING - full garbage collections took 12% CPU time recently (threshold: 10%)\n"
     ]
    },
    {
     "name": "stdout",
     "output_type": "stream",
     "text": [
      "GPS grazing hrs: 62.88\n",
      "Grid (1 m) grazing hrs: 63.05\n",
      "Grid (30 m) grazing hrs: 58.85\n",
      "  3772_D2_2016\n",
      "    SKIPPING STEER: All points masked.\n",
      "Pasture: 7NW (test)\n",
      "  2287_D2_2016\n"
     ]
    },
    {
     "name": "stderr",
     "output_type": "stream",
     "text": [
      "distributed.utils_perf - WARNING - full garbage collections took 10% CPU time recently (threshold: 10%)\n",
      "distributed.utils_perf - WARNING - full garbage collections took 10% CPU time recently (threshold: 10%)\n",
      "distributed.utils_perf - WARNING - full garbage collections took 10% CPU time recently (threshold: 10%)\n",
      "distributed.utils_perf - WARNING - full garbage collections took 10% CPU time recently (threshold: 10%)\n",
      "distributed.utils_perf - WARNING - full garbage collections took 10% CPU time recently (threshold: 10%)\n",
      "distributed.utils_perf - WARNING - full garbage collections took 10% CPU time recently (threshold: 10%)\n",
      "distributed.utils_perf - WARNING - full garbage collections took 10% CPU time recently (threshold: 10%)\n",
      "distributed.utils_perf - WARNING - full garbage collections took 17% CPU time recently (threshold: 10%)\n",
      "distributed.utils_perf - WARNING - full garbage collections took 17% CPU time recently (threshold: 10%)\n",
      "distributed.utils_perf - WARNING - full garbage collections took 17% CPU time recently (threshold: 10%)\n",
      "distributed.utils_perf - WARNING - full garbage collections took 17% CPU time recently (threshold: 10%)\n",
      "distributed.utils_perf - WARNING - full garbage collections took 17% CPU time recently (threshold: 10%)\n",
      "distributed.utils_perf - WARNING - full garbage collections took 17% CPU time recently (threshold: 10%)\n",
      "distributed.utils_perf - WARNING - full garbage collections took 17% CPU time recently (threshold: 10%)\n",
      "distributed.utils_perf - WARNING - full garbage collections took 17% CPU time recently (threshold: 10%)\n"
     ]
    },
    {
     "name": "stdout",
     "output_type": "stream",
     "text": [
      "GPS grazing hrs: 68.62\n",
      "Grid (1 m) grazing hrs: 68.66\n",
      "Grid (30 m) grazing hrs: 63.86\n",
      "  2288_D2_2016\n"
     ]
    },
    {
     "name": "stderr",
     "output_type": "stream",
     "text": [
      "distributed.utils_perf - WARNING - full garbage collections took 12% CPU time recently (threshold: 10%)\n",
      "distributed.utils_perf - WARNING - full garbage collections took 12% CPU time recently (threshold: 10%)\n",
      "distributed.utils_perf - WARNING - full garbage collections took 12% CPU time recently (threshold: 10%)\n",
      "distributed.utils_perf - WARNING - full garbage collections took 12% CPU time recently (threshold: 10%)\n",
      "distributed.utils_perf - WARNING - full garbage collections took 12% CPU time recently (threshold: 10%)\n",
      "distributed.utils_perf - WARNING - full garbage collections took 15% CPU time recently (threshold: 10%)\n",
      "distributed.utils_perf - WARNING - full garbage collections took 15% CPU time recently (threshold: 10%)\n",
      "distributed.utils_perf - WARNING - full garbage collections took 15% CPU time recently (threshold: 10%)\n",
      "distributed.utils_perf - WARNING - full garbage collections took 15% CPU time recently (threshold: 10%)\n",
      "distributed.utils_perf - WARNING - full garbage collections took 15% CPU time recently (threshold: 10%)\n",
      "distributed.utils_perf - WARNING - full garbage collections took 15% CPU time recently (threshold: 10%)\n",
      "distributed.utils_perf - WARNING - full garbage collections took 15% CPU time recently (threshold: 10%)\n",
      "distributed.utils_perf - WARNING - full garbage collections took 16% CPU time recently (threshold: 10%)\n"
     ]
    },
    {
     "name": "stdout",
     "output_type": "stream",
     "text": [
      "GPS grazing hrs: 57.22\n",
      "Grid (1 m) grazing hrs: 57.14\n",
      "Grid (30 m) grazing hrs: 54.75\n",
      "Pasture: 17N (test)\n",
      "  2289_D2_2016\n"
     ]
    },
    {
     "name": "stderr",
     "output_type": "stream",
     "text": [
      "distributed.utils_perf - WARNING - full garbage collections took 10% CPU time recently (threshold: 10%)\n",
      "distributed.utils_perf - WARNING - full garbage collections took 10% CPU time recently (threshold: 10%)\n",
      "distributed.utils_perf - WARNING - full garbage collections took 13% CPU time recently (threshold: 10%)\n",
      "distributed.utils_perf - WARNING - full garbage collections took 13% CPU time recently (threshold: 10%)\n",
      "distributed.utils_perf - WARNING - full garbage collections took 13% CPU time recently (threshold: 10%)\n",
      "distributed.utils_perf - WARNING - full garbage collections took 13% CPU time recently (threshold: 10%)\n",
      "distributed.utils_perf - WARNING - full garbage collections took 13% CPU time recently (threshold: 10%)\n",
      "distributed.utils_perf - WARNING - full garbage collections took 13% CPU time recently (threshold: 10%)\n"
     ]
    },
    {
     "name": "stdout",
     "output_type": "stream",
     "text": [
      "GPS grazing hrs: 70.47\n",
      "Grid (1 m) grazing hrs: 70.39\n",
      "Grid (30 m) grazing hrs: 62.86\n",
      "  2290_D2_2016\n"
     ]
    },
    {
     "name": "stderr",
     "output_type": "stream",
     "text": [
      "distributed.utils_perf - WARNING - full garbage collections took 11% CPU time recently (threshold: 10%)\n",
      "distributed.utils_perf - WARNING - full garbage collections took 11% CPU time recently (threshold: 10%)\n",
      "distributed.utils_perf - WARNING - full garbage collections took 11% CPU time recently (threshold: 10%)\n",
      "distributed.utils_perf - WARNING - full garbage collections took 10% CPU time recently (threshold: 10%)\n",
      "distributed.utils_perf - WARNING - full garbage collections took 10% CPU time recently (threshold: 10%)\n",
      "distributed.utils_perf - WARNING - full garbage collections took 10% CPU time recently (threshold: 10%)\n",
      "distributed.utils_perf - WARNING - full garbage collections took 10% CPU time recently (threshold: 10%)\n",
      "distributed.utils_perf - WARNING - full garbage collections took 11% CPU time recently (threshold: 10%)\n",
      "distributed.utils_perf - WARNING - full garbage collections took 11% CPU time recently (threshold: 10%)\n",
      "distributed.utils_perf - WARNING - full garbage collections took 15% CPU time recently (threshold: 10%)\n",
      "distributed.utils_perf - WARNING - full garbage collections took 15% CPU time recently (threshold: 10%)\n",
      "distributed.utils_perf - WARNING - full garbage collections took 15% CPU time recently (threshold: 10%)\n",
      "distributed.utils_perf - WARNING - full garbage collections took 14% CPU time recently (threshold: 10%)\n"
     ]
    },
    {
     "name": "stdout",
     "output_type": "stream",
     "text": [
      "GPS grazing hrs: 61.97\n",
      "Grid (1 m) grazing hrs: 62.18\n",
      "Grid (30 m) grazing hrs: 56.92\n",
      "Pasture: 19N (test)\n",
      "  2291_D2_2016\n"
     ]
    },
    {
     "name": "stderr",
     "output_type": "stream",
     "text": [
      "distributed.utils_perf - WARNING - full garbage collections took 11% CPU time recently (threshold: 10%)\n",
      "distributed.utils_perf - WARNING - full garbage collections took 11% CPU time recently (threshold: 10%)\n",
      "distributed.utils_perf - WARNING - full garbage collections took 11% CPU time recently (threshold: 10%)\n",
      "distributed.utils_perf - WARNING - full garbage collections took 11% CPU time recently (threshold: 10%)\n",
      "distributed.utils_perf - WARNING - full garbage collections took 11% CPU time recently (threshold: 10%)\n",
      "distributed.utils_perf - WARNING - full garbage collections took 11% CPU time recently (threshold: 10%)\n",
      "distributed.utils_perf - WARNING - full garbage collections took 11% CPU time recently (threshold: 10%)\n",
      "distributed.utils_perf - WARNING - full garbage collections took 11% CPU time recently (threshold: 10%)\n",
      "distributed.utils_perf - WARNING - full garbage collections took 11% CPU time recently (threshold: 10%)\n",
      "distributed.utils_perf - WARNING - full garbage collections took 18% CPU time recently (threshold: 10%)\n",
      "distributed.utils_perf - WARNING - full garbage collections took 18% CPU time recently (threshold: 10%)\n",
      "distributed.utils_perf - WARNING - full garbage collections took 17% CPU time recently (threshold: 10%)\n",
      "distributed.utils_perf - WARNING - full garbage collections took 17% CPU time recently (threshold: 10%)\n",
      "distributed.utils_perf - WARNING - full garbage collections took 17% CPU time recently (threshold: 10%)\n",
      "distributed.utils_perf - WARNING - full garbage collections took 17% CPU time recently (threshold: 10%)\n"
     ]
    },
    {
     "name": "stdout",
     "output_type": "stream",
     "text": [
      "GPS grazing hrs: 76.82\n",
      "Grid (1 m) grazing hrs: 77.04\n",
      "Grid (30 m) grazing hrs: 60.32\n",
      "  4597_D2_2016\n"
     ]
    },
    {
     "name": "stderr",
     "output_type": "stream",
     "text": [
      "distributed.utils_perf - WARNING - full garbage collections took 11% CPU time recently (threshold: 10%)\n",
      "distributed.utils_perf - WARNING - full garbage collections took 11% CPU time recently (threshold: 10%)\n",
      "distributed.utils_perf - WARNING - full garbage collections took 14% CPU time recently (threshold: 10%)\n",
      "distributed.utils_perf - WARNING - full garbage collections took 14% CPU time recently (threshold: 10%)\n",
      "distributed.utils_perf - WARNING - full garbage collections took 14% CPU time recently (threshold: 10%)\n",
      "distributed.utils_perf - WARNING - full garbage collections took 15% CPU time recently (threshold: 10%)\n",
      "distributed.utils_perf - WARNING - full garbage collections took 15% CPU time recently (threshold: 10%)\n",
      "distributed.utils_perf - WARNING - full garbage collections took 15% CPU time recently (threshold: 10%)\n",
      "distributed.utils_perf - WARNING - full garbage collections took 15% CPU time recently (threshold: 10%)\n",
      "distributed.utils_perf - WARNING - full garbage collections took 15% CPU time recently (threshold: 10%)\n",
      "distributed.utils_perf - WARNING - full garbage collections took 15% CPU time recently (threshold: 10%)\n"
     ]
    },
    {
     "name": "stdout",
     "output_type": "stream",
     "text": [
      "GPS grazing hrs: 76.14\n",
      "Grid (1 m) grazing hrs: 76.11\n",
      "Grid (30 m) grazing hrs: 63.54\n",
      "Pasture: 20SE (test)\n",
      "  2293_D2_2016\n"
     ]
    },
    {
     "name": "stderr",
     "output_type": "stream",
     "text": [
      "distributed.utils_perf - WARNING - full garbage collections took 11% CPU time recently (threshold: 10%)\n",
      "distributed.utils_perf - WARNING - full garbage collections took 11% CPU time recently (threshold: 10%)\n",
      "distributed.utils_perf - WARNING - full garbage collections took 11% CPU time recently (threshold: 10%)\n",
      "distributed.utils_perf - WARNING - full garbage collections took 11% CPU time recently (threshold: 10%)\n",
      "distributed.utils_perf - WARNING - full garbage collections took 14% CPU time recently (threshold: 10%)\n",
      "distributed.utils_perf - WARNING - full garbage collections took 14% CPU time recently (threshold: 10%)\n",
      "distributed.utils_perf - WARNING - full garbage collections took 14% CPU time recently (threshold: 10%)\n",
      "distributed.utils_perf - WARNING - full garbage collections took 15% CPU time recently (threshold: 10%)\n",
      "distributed.utils_perf - WARNING - full garbage collections took 15% CPU time recently (threshold: 10%)\n",
      "distributed.utils_perf - WARNING - full garbage collections took 15% CPU time recently (threshold: 10%)\n",
      "distributed.utils_perf - WARNING - full garbage collections took 15% CPU time recently (threshold: 10%)\n",
      "distributed.utils_perf - WARNING - full garbage collections took 15% CPU time recently (threshold: 10%)\n",
      "distributed.utils_perf - WARNING - full garbage collections took 15% CPU time recently (threshold: 10%)\n",
      "distributed.utils_perf - WARNING - full garbage collections took 14% CPU time recently (threshold: 10%)\n",
      "distributed.utils_perf - WARNING - full garbage collections took 15% CPU time recently (threshold: 10%)\n",
      "distributed.utils_perf - WARNING - full garbage collections took 15% CPU time recently (threshold: 10%)\n",
      "distributed.utils_perf - WARNING - full garbage collections took 15% CPU time recently (threshold: 10%)\n",
      "distributed.utils_perf - WARNING - full garbage collections took 15% CPU time recently (threshold: 10%)\n",
      "distributed.utils_perf - WARNING - full garbage collections took 15% CPU time recently (threshold: 10%)\n"
     ]
    },
    {
     "name": "stdout",
     "output_type": "stream",
     "text": [
      "GPS grazing hrs: 53.04\n",
      "Grid (1 m) grazing hrs: 53.0\n",
      "Grid (30 m) grazing hrs: 48.57\n",
      "  2294_D2_2016\n"
     ]
    },
    {
     "name": "stderr",
     "output_type": "stream",
     "text": [
      "distributed.utils_perf - WARNING - full garbage collections took 16% CPU time recently (threshold: 10%)\n",
      "distributed.utils_perf - WARNING - full garbage collections took 16% CPU time recently (threshold: 10%)\n",
      "distributed.utils_perf - WARNING - full garbage collections took 16% CPU time recently (threshold: 10%)\n",
      "distributed.utils_perf - WARNING - full garbage collections took 16% CPU time recently (threshold: 10%)\n",
      "distributed.utils_perf - WARNING - full garbage collections took 16% CPU time recently (threshold: 10%)\n",
      "distributed.utils_perf - WARNING - full garbage collections took 16% CPU time recently (threshold: 10%)\n",
      "distributed.utils_perf - WARNING - full garbage collections took 16% CPU time recently (threshold: 10%)\n",
      "distributed.utils_perf - WARNING - full garbage collections took 16% CPU time recently (threshold: 10%)\n",
      "distributed.utils_perf - WARNING - full garbage collections took 16% CPU time recently (threshold: 10%)\n",
      "distributed.utils_perf - WARNING - full garbage collections took 16% CPU time recently (threshold: 10%)\n",
      "distributed.utils_perf - WARNING - full garbage collections took 16% CPU time recently (threshold: 10%)\n"
     ]
    },
    {
     "name": "stdout",
     "output_type": "stream",
     "text": [
      "GPS grazing hrs: 77.2\n",
      "Grid (1 m) grazing hrs: 78.14\n",
      "Grid (30 m) grazing hrs: 64.84\n",
      "Pasture: 31E (test)\n",
      "  3769_D2_2016\n"
     ]
    },
    {
     "name": "stderr",
     "output_type": "stream",
     "text": [
      "distributed.utils_perf - WARNING - full garbage collections took 15% CPU time recently (threshold: 10%)\n",
      "distributed.utils_perf - WARNING - full garbage collections took 15% CPU time recently (threshold: 10%)\n",
      "distributed.utils_perf - WARNING - full garbage collections took 15% CPU time recently (threshold: 10%)\n",
      "distributed.utils_perf - WARNING - full garbage collections took 15% CPU time recently (threshold: 10%)\n",
      "distributed.utils_perf - WARNING - full garbage collections took 15% CPU time recently (threshold: 10%)\n",
      "distributed.utils_perf - WARNING - full garbage collections took 15% CPU time recently (threshold: 10%)\n",
      "distributed.utils_perf - WARNING - full garbage collections took 15% CPU time recently (threshold: 10%)\n",
      "distributed.utils_perf - WARNING - full garbage collections took 15% CPU time recently (threshold: 10%)\n",
      "distributed.utils_perf - WARNING - full garbage collections took 15% CPU time recently (threshold: 10%)\n",
      "distributed.utils_perf - WARNING - full garbage collections took 14% CPU time recently (threshold: 10%)\n",
      "distributed.utils_perf - WARNING - full garbage collections took 15% CPU time recently (threshold: 10%)\n"
     ]
    },
    {
     "name": "stdout",
     "output_type": "stream",
     "text": [
      "GPS grazing hrs: 68.53\n",
      "Grid (1 m) grazing hrs: 68.45\n",
      "Grid (30 m) grazing hrs: 60.01\n",
      "  4598_D2_2016\n"
     ]
    },
    {
     "name": "stderr",
     "output_type": "stream",
     "text": [
      "distributed.utils_perf - WARNING - full garbage collections took 10% CPU time recently (threshold: 10%)\n",
      "distributed.utils_perf - WARNING - full garbage collections took 10% CPU time recently (threshold: 10%)\n",
      "distributed.utils_perf - WARNING - full garbage collections took 10% CPU time recently (threshold: 10%)\n",
      "distributed.utils_perf - WARNING - full garbage collections took 11% CPU time recently (threshold: 10%)\n",
      "distributed.utils_perf - WARNING - full garbage collections took 11% CPU time recently (threshold: 10%)\n",
      "distributed.utils_perf - WARNING - full garbage collections took 11% CPU time recently (threshold: 10%)\n",
      "distributed.utils_perf - WARNING - full garbage collections took 11% CPU time recently (threshold: 10%)\n",
      "distributed.utils_perf - WARNING - full garbage collections took 11% CPU time recently (threshold: 10%)\n",
      "distributed.utils_perf - WARNING - full garbage collections took 14% CPU time recently (threshold: 10%)\n",
      "distributed.utils_perf - WARNING - full garbage collections took 14% CPU time recently (threshold: 10%)\n",
      "distributed.utils_perf - WARNING - full garbage collections took 14% CPU time recently (threshold: 10%)\n",
      "distributed.utils_perf - WARNING - full garbage collections took 14% CPU time recently (threshold: 10%)\n",
      "distributed.utils_perf - WARNING - full garbage collections took 13% CPU time recently (threshold: 10%)\n"
     ]
    },
    {
     "name": "stdout",
     "output_type": "stream",
     "text": [
      "GPS grazing hrs: 57.08\n",
      "Grid (1 m) grazing hrs: 57.06\n",
      "Grid (30 m) grazing hrs: 54.63\n",
      "Pasture: 24W (test)\n",
      "  3770_D2_2016\n"
     ]
    },
    {
     "name": "stderr",
     "output_type": "stream",
     "text": [
      "distributed.utils_perf - WARNING - full garbage collections took 11% CPU time recently (threshold: 10%)\n",
      "distributed.utils_perf - WARNING - full garbage collections took 10% CPU time recently (threshold: 10%)\n",
      "distributed.utils_perf - WARNING - full garbage collections took 11% CPU time recently (threshold: 10%)\n",
      "distributed.utils_perf - WARNING - full garbage collections took 11% CPU time recently (threshold: 10%)\n",
      "distributed.utils_perf - WARNING - full garbage collections took 11% CPU time recently (threshold: 10%)\n",
      "distributed.utils_perf - WARNING - full garbage collections took 11% CPU time recently (threshold: 10%)\n",
      "distributed.utils_perf - WARNING - full garbage collections took 15% CPU time recently (threshold: 10%)\n",
      "distributed.utils_perf - WARNING - full garbage collections took 15% CPU time recently (threshold: 10%)\n",
      "distributed.utils_perf - WARNING - full garbage collections took 15% CPU time recently (threshold: 10%)\n",
      "distributed.utils_perf - WARNING - full garbage collections took 15% CPU time recently (threshold: 10%)\n",
      "distributed.utils_perf - WARNING - full garbage collections took 15% CPU time recently (threshold: 10%)\n",
      "distributed.utils_perf - WARNING - full garbage collections took 15% CPU time recently (threshold: 10%)\n"
     ]
    },
    {
     "name": "stdout",
     "output_type": "stream",
     "text": [
      "GPS grazing hrs: 68.89\n",
      "Grid (1 m) grazing hrs: 68.82\n",
      "Grid (30 m) grazing hrs: 62.08\n",
      "  3771_D2_2016\n"
     ]
    },
    {
     "name": "stderr",
     "output_type": "stream",
     "text": [
      "distributed.utils_perf - WARNING - full garbage collections took 12% CPU time recently (threshold: 10%)\n",
      "distributed.utils_perf - WARNING - full garbage collections took 12% CPU time recently (threshold: 10%)\n",
      "distributed.utils_perf - WARNING - full garbage collections took 12% CPU time recently (threshold: 10%)\n",
      "distributed.utils_perf - WARNING - full garbage collections took 12% CPU time recently (threshold: 10%)\n",
      "distributed.utils_perf - WARNING - full garbage collections took 12% CPU time recently (threshold: 10%)\n",
      "distributed.utils_perf - WARNING - full garbage collections took 18% CPU time recently (threshold: 10%)\n",
      "distributed.utils_perf - WARNING - full garbage collections took 18% CPU time recently (threshold: 10%)\n",
      "distributed.utils_perf - WARNING - full garbage collections took 18% CPU time recently (threshold: 10%)\n",
      "distributed.utils_perf - WARNING - full garbage collections took 18% CPU time recently (threshold: 10%)\n"
     ]
    },
    {
     "name": "stdout",
     "output_type": "stream",
     "text": [
      "GPS grazing hrs: 67.36\n",
      "Grid (1 m) grazing hrs: 67.37\n",
      "Grid (30 m) grazing hrs: 64.21\n",
      "Pasture: 15E (test)\n",
      "  3772_D2_2016\n"
     ]
    },
    {
     "name": "stderr",
     "output_type": "stream",
     "text": [
      "distributed.utils_perf - WARNING - full garbage collections took 13% CPU time recently (threshold: 10%)\n",
      "distributed.utils_perf - WARNING - full garbage collections took 13% CPU time recently (threshold: 10%)\n",
      "distributed.utils_perf - WARNING - full garbage collections took 13% CPU time recently (threshold: 10%)\n",
      "distributed.utils_perf - WARNING - full garbage collections took 13% CPU time recently (threshold: 10%)\n",
      "distributed.utils_perf - WARNING - full garbage collections took 13% CPU time recently (threshold: 10%)\n",
      "distributed.utils_perf - WARNING - full garbage collections took 13% CPU time recently (threshold: 10%)\n",
      "distributed.utils_perf - WARNING - full garbage collections took 13% CPU time recently (threshold: 10%)\n",
      "distributed.utils_perf - WARNING - full garbage collections took 13% CPU time recently (threshold: 10%)\n",
      "distributed.utils_perf - WARNING - full garbage collections took 13% CPU time recently (threshold: 10%)\n",
      "distributed.utils_perf - WARNING - full garbage collections took 16% CPU time recently (threshold: 10%)\n",
      "distributed.utils_perf - WARNING - full garbage collections took 16% CPU time recently (threshold: 10%)\n",
      "distributed.utils_perf - WARNING - full garbage collections took 16% CPU time recently (threshold: 10%)\n",
      "distributed.utils_perf - WARNING - full garbage collections took 16% CPU time recently (threshold: 10%)\n"
     ]
    },
    {
     "name": "stdout",
     "output_type": "stream",
     "text": [
      "GPS grazing hrs: 60.89\n",
      "Grid (1 m) grazing hrs: 60.77\n",
      "Grid (30 m) grazing hrs: 52.71\n",
      "Pasture: 25SE (test)\n",
      "  3776_D2_2016\n"
     ]
    },
    {
     "name": "stderr",
     "output_type": "stream",
     "text": [
      "distributed.utils_perf - WARNING - full garbage collections took 10% CPU time recently (threshold: 10%)\n",
      "distributed.utils_perf - WARNING - full garbage collections took 11% CPU time recently (threshold: 10%)\n",
      "distributed.utils_perf - WARNING - full garbage collections took 11% CPU time recently (threshold: 10%)\n",
      "distributed.utils_perf - WARNING - full garbage collections took 11% CPU time recently (threshold: 10%)\n",
      "distributed.utils_perf - WARNING - full garbage collections took 11% CPU time recently (threshold: 10%)\n",
      "distributed.utils_perf - WARNING - full garbage collections took 11% CPU time recently (threshold: 10%)\n",
      "distributed.utils_perf - WARNING - full garbage collections took 11% CPU time recently (threshold: 10%)\n",
      "distributed.utils_perf - WARNING - full garbage collections took 11% CPU time recently (threshold: 10%)\n",
      "distributed.utils_perf - WARNING - full garbage collections took 14% CPU time recently (threshold: 10%)\n",
      "distributed.utils_perf - WARNING - full garbage collections took 14% CPU time recently (threshold: 10%)\n",
      "distributed.utils_perf - WARNING - full garbage collections took 14% CPU time recently (threshold: 10%)\n",
      "distributed.utils_perf - WARNING - full garbage collections took 14% CPU time recently (threshold: 10%)\n",
      "distributed.utils_perf - WARNING - full garbage collections took 14% CPU time recently (threshold: 10%)\n",
      "distributed.utils_perf - WARNING - full garbage collections took 13% CPU time recently (threshold: 10%)\n",
      "distributed.utils_perf - WARNING - full garbage collections took 13% CPU time recently (threshold: 10%)\n"
     ]
    },
    {
     "name": "stdout",
     "output_type": "stream",
     "text": [
      "GPS grazing hrs: 69.9\n",
      "Grid (1 m) grazing hrs: 69.86\n",
      "Grid (30 m) grazing hrs: 61.57\n",
      "  3778_D2_2016\n"
     ]
    },
    {
     "name": "stderr",
     "output_type": "stream",
     "text": [
      "distributed.utils_perf - WARNING - full garbage collections took 10% CPU time recently (threshold: 10%)\n",
      "distributed.utils_perf - WARNING - full garbage collections took 10% CPU time recently (threshold: 10%)\n",
      "distributed.utils_perf - WARNING - full garbage collections took 13% CPU time recently (threshold: 10%)\n",
      "distributed.utils_perf - WARNING - full garbage collections took 13% CPU time recently (threshold: 10%)\n",
      "distributed.utils_perf - WARNING - full garbage collections took 13% CPU time recently (threshold: 10%)\n",
      "distributed.utils_perf - WARNING - full garbage collections took 13% CPU time recently (threshold: 10%)\n",
      "distributed.utils_perf - WARNING - full garbage collections took 13% CPU time recently (threshold: 10%)\n",
      "distributed.utils_perf - WARNING - full garbage collections took 13% CPU time recently (threshold: 10%)\n",
      "distributed.utils_perf - WARNING - full garbage collections took 13% CPU time recently (threshold: 10%)\n",
      "distributed.utils_perf - WARNING - full garbage collections took 13% CPU time recently (threshold: 10%)\n",
      "distributed.utils_perf - WARNING - full garbage collections took 13% CPU time recently (threshold: 10%)\n",
      "distributed.utils_perf - WARNING - full garbage collections took 13% CPU time recently (threshold: 10%)\n",
      "distributed.utils_perf - WARNING - full garbage collections took 13% CPU time recently (threshold: 10%)\n",
      "distributed.utils_perf - WARNING - full garbage collections took 13% CPU time recently (threshold: 10%)\n",
      "distributed.utils_perf - WARNING - full garbage collections took 13% CPU time recently (threshold: 10%)\n"
     ]
    },
    {
     "name": "stdout",
     "output_type": "stream",
     "text": [
      "GPS grazing hrs: 55.64\n",
      "Grid (1 m) grazing hrs: 55.74\n",
      "Grid (30 m) grazing hrs: 50.17\n",
      "-------------Week starting: Jul 17 (29) -------------\n",
      "Pasture: 5E (test)\n",
      "  2285_D2_2016\n"
     ]
    },
    {
     "name": "stderr",
     "output_type": "stream",
     "text": [
      "distributed.utils_perf - WARNING - full garbage collections took 15% CPU time recently (threshold: 10%)\n",
      "distributed.utils_perf - WARNING - full garbage collections took 15% CPU time recently (threshold: 10%)\n",
      "distributed.utils_perf - WARNING - full garbage collections took 15% CPU time recently (threshold: 10%)\n",
      "distributed.utils_perf - WARNING - full garbage collections took 14% CPU time recently (threshold: 10%)\n",
      "distributed.utils_perf - WARNING - full garbage collections took 14% CPU time recently (threshold: 10%)\n",
      "distributed.utils_perf - WARNING - full garbage collections took 14% CPU time recently (threshold: 10%)\n",
      "distributed.utils_perf - WARNING - full garbage collections took 14% CPU time recently (threshold: 10%)\n",
      "distributed.utils_perf - WARNING - full garbage collections took 13% CPU time recently (threshold: 10%)\n",
      "distributed.utils_perf - WARNING - full garbage collections took 13% CPU time recently (threshold: 10%)\n",
      "distributed.utils_perf - WARNING - full garbage collections took 13% CPU time recently (threshold: 10%)\n",
      "distributed.utils_perf - WARNING - full garbage collections took 13% CPU time recently (threshold: 10%)\n",
      "distributed.utils_perf - WARNING - full garbage collections took 14% CPU time recently (threshold: 10%)\n",
      "distributed.utils_perf - WARNING - full garbage collections took 14% CPU time recently (threshold: 10%)\n"
     ]
    },
    {
     "name": "stdout",
     "output_type": "stream",
     "text": [
      "GPS grazing hrs: 69.57\n",
      "Grid (1 m) grazing hrs: 69.55\n",
      "Grid (30 m) grazing hrs: 61.04\n",
      "  2286_D2_2016\n"
     ]
    },
    {
     "name": "stderr",
     "output_type": "stream",
     "text": [
      "distributed.utils_perf - WARNING - full garbage collections took 11% CPU time recently (threshold: 10%)\n",
      "distributed.utils_perf - WARNING - full garbage collections took 11% CPU time recently (threshold: 10%)\n",
      "distributed.utils_perf - WARNING - full garbage collections took 16% CPU time recently (threshold: 10%)\n",
      "distributed.utils_perf - WARNING - full garbage collections took 16% CPU time recently (threshold: 10%)\n",
      "distributed.utils_perf - WARNING - full garbage collections took 17% CPU time recently (threshold: 10%)\n",
      "distributed.utils_perf - WARNING - full garbage collections took 17% CPU time recently (threshold: 10%)\n",
      "distributed.utils_perf - WARNING - full garbage collections took 16% CPU time recently (threshold: 10%)\n",
      "distributed.utils_perf - WARNING - full garbage collections took 16% CPU time recently (threshold: 10%)\n",
      "distributed.utils_perf - WARNING - full garbage collections took 16% CPU time recently (threshold: 10%)\n",
      "distributed.utils_perf - WARNING - full garbage collections took 16% CPU time recently (threshold: 10%)\n"
     ]
    },
    {
     "name": "stdout",
     "output_type": "stream",
     "text": [
      "GPS grazing hrs: 62.5\n",
      "Grid (1 m) grazing hrs: 62.47\n",
      "Grid (30 m) grazing hrs: 59.5\n",
      "  3772_D2_2016\n",
      "    SKIPPING STEER: All points masked.\n",
      "Pasture: 7NW (train)\n",
      "  2287_D2_2016\n"
     ]
    },
    {
     "name": "stderr",
     "output_type": "stream",
     "text": [
      "distributed.utils_perf - WARNING - full garbage collections took 12% CPU time recently (threshold: 10%)\n",
      "distributed.utils_perf - WARNING - full garbage collections took 12% CPU time recently (threshold: 10%)\n",
      "distributed.utils_perf - WARNING - full garbage collections took 12% CPU time recently (threshold: 10%)\n",
      "distributed.utils_perf - WARNING - full garbage collections took 12% CPU time recently (threshold: 10%)\n",
      "distributed.utils_perf - WARNING - full garbage collections took 12% CPU time recently (threshold: 10%)\n",
      "distributed.utils_perf - WARNING - full garbage collections took 12% CPU time recently (threshold: 10%)\n",
      "distributed.utils_perf - WARNING - full garbage collections took 12% CPU time recently (threshold: 10%)\n",
      "distributed.utils_perf - WARNING - full garbage collections took 16% CPU time recently (threshold: 10%)\n",
      "distributed.utils_perf - WARNING - full garbage collections took 17% CPU time recently (threshold: 10%)\n",
      "distributed.utils_perf - WARNING - full garbage collections took 17% CPU time recently (threshold: 10%)\n",
      "distributed.utils_perf - WARNING - full garbage collections took 17% CPU time recently (threshold: 10%)\n",
      "distributed.utils_perf - WARNING - full garbage collections took 17% CPU time recently (threshold: 10%)\n",
      "distributed.utils_perf - WARNING - full garbage collections took 17% CPU time recently (threshold: 10%)\n",
      "distributed.utils_perf - WARNING - full garbage collections took 17% CPU time recently (threshold: 10%)\n",
      "distributed.utils_perf - WARNING - full garbage collections took 17% CPU time recently (threshold: 10%)\n",
      "distributed.utils_perf - WARNING - full garbage collections took 17% CPU time recently (threshold: 10%)\n"
     ]
    },
    {
     "name": "stdout",
     "output_type": "stream",
     "text": [
      "GPS grazing hrs: 67.69\n",
      "Grid (1 m) grazing hrs: 67.64\n",
      "Grid (30 m) grazing hrs: 63.22\n",
      "  2288_D2_2016\n"
     ]
    },
    {
     "name": "stderr",
     "output_type": "stream",
     "text": [
      "distributed.utils_perf - WARNING - full garbage collections took 12% CPU time recently (threshold: 10%)\n",
      "distributed.utils_perf - WARNING - full garbage collections took 12% CPU time recently (threshold: 10%)\n",
      "distributed.utils_perf - WARNING - full garbage collections took 12% CPU time recently (threshold: 10%)\n",
      "distributed.utils_perf - WARNING - full garbage collections took 12% CPU time recently (threshold: 10%)\n",
      "distributed.utils_perf - WARNING - full garbage collections took 15% CPU time recently (threshold: 10%)\n",
      "distributed.utils_perf - WARNING - full garbage collections took 16% CPU time recently (threshold: 10%)\n",
      "distributed.utils_perf - WARNING - full garbage collections took 16% CPU time recently (threshold: 10%)\n",
      "distributed.utils_perf - WARNING - full garbage collections took 16% CPU time recently (threshold: 10%)\n",
      "distributed.utils_perf - WARNING - full garbage collections took 16% CPU time recently (threshold: 10%)\n",
      "distributed.utils_perf - WARNING - full garbage collections took 16% CPU time recently (threshold: 10%)\n",
      "distributed.utils_perf - WARNING - full garbage collections took 16% CPU time recently (threshold: 10%)\n",
      "distributed.utils_perf - WARNING - full garbage collections took 16% CPU time recently (threshold: 10%)\n",
      "distributed.utils_perf - WARNING - full garbage collections took 16% CPU time recently (threshold: 10%)\n",
      "distributed.utils_perf - WARNING - full garbage collections took 16% CPU time recently (threshold: 10%)\n",
      "distributed.utils_perf - WARNING - full garbage collections took 26% CPU time recently (threshold: 10%)\n"
     ]
    },
    {
     "name": "stdout",
     "output_type": "stream",
     "text": [
      "GPS grazing hrs: 54.33\n",
      "Grid (1 m) grazing hrs: 54.41\n",
      "Grid (30 m) grazing hrs: 52.93\n",
      "Pasture: 17N (train)\n",
      "  2289_D2_2016\n"
     ]
    },
    {
     "name": "stderr",
     "output_type": "stream",
     "text": [
      "distributed.utils_perf - WARNING - full garbage collections took 16% CPU time recently (threshold: 10%)\n",
      "distributed.utils_perf - WARNING - full garbage collections took 16% CPU time recently (threshold: 10%)\n",
      "distributed.utils_perf - WARNING - full garbage collections took 17% CPU time recently (threshold: 10%)\n",
      "distributed.utils_perf - WARNING - full garbage collections took 17% CPU time recently (threshold: 10%)\n",
      "distributed.utils_perf - WARNING - full garbage collections took 17% CPU time recently (threshold: 10%)\n",
      "distributed.utils_perf - WARNING - full garbage collections took 16% CPU time recently (threshold: 10%)\n",
      "distributed.utils_perf - WARNING - full garbage collections took 16% CPU time recently (threshold: 10%)\n",
      "distributed.utils_perf - WARNING - full garbage collections took 16% CPU time recently (threshold: 10%)\n",
      "distributed.utils_perf - WARNING - full garbage collections took 16% CPU time recently (threshold: 10%)\n"
     ]
    },
    {
     "name": "stdout",
     "output_type": "stream",
     "text": [
      "GPS grazing hrs: 71.07\n",
      "Grid (1 m) grazing hrs: 71.05\n",
      "Grid (30 m) grazing hrs: 60.94\n",
      "  2290_D2_2016\n"
     ]
    },
    {
     "name": "stderr",
     "output_type": "stream",
     "text": [
      "distributed.utils_perf - WARNING - full garbage collections took 11% CPU time recently (threshold: 10%)\n",
      "distributed.utils_perf - WARNING - full garbage collections took 11% CPU time recently (threshold: 10%)\n",
      "distributed.utils_perf - WARNING - full garbage collections took 11% CPU time recently (threshold: 10%)\n",
      "distributed.utils_perf - WARNING - full garbage collections took 11% CPU time recently (threshold: 10%)\n",
      "distributed.utils_perf - WARNING - full garbage collections took 11% CPU time recently (threshold: 10%)\n",
      "distributed.utils_perf - WARNING - full garbage collections took 11% CPU time recently (threshold: 10%)\n",
      "distributed.utils_perf - WARNING - full garbage collections took 15% CPU time recently (threshold: 10%)\n",
      "distributed.utils_perf - WARNING - full garbage collections took 15% CPU time recently (threshold: 10%)\n",
      "distributed.utils_perf - WARNING - full garbage collections took 15% CPU time recently (threshold: 10%)\n",
      "distributed.utils_perf - WARNING - full garbage collections took 15% CPU time recently (threshold: 10%)\n"
     ]
    },
    {
     "name": "stdout",
     "output_type": "stream",
     "text": [
      "GPS grazing hrs: 60.83\n",
      "Grid (1 m) grazing hrs: 60.92\n",
      "Grid (30 m) grazing hrs: 53.57\n",
      "Pasture: 19N (test)\n",
      "  2291_D2_2016\n"
     ]
    },
    {
     "name": "stderr",
     "output_type": "stream",
     "text": [
      "distributed.utils_perf - WARNING - full garbage collections took 13% CPU time recently (threshold: 10%)\n",
      "distributed.utils_perf - WARNING - full garbage collections took 12% CPU time recently (threshold: 10%)\n",
      "distributed.utils_perf - WARNING - full garbage collections took 12% CPU time recently (threshold: 10%)\n",
      "distributed.utils_perf - WARNING - full garbage collections took 12% CPU time recently (threshold: 10%)\n",
      "distributed.utils_perf - WARNING - full garbage collections took 12% CPU time recently (threshold: 10%)\n",
      "distributed.utils_perf - WARNING - full garbage collections took 12% CPU time recently (threshold: 10%)\n",
      "distributed.utils_perf - WARNING - full garbage collections took 12% CPU time recently (threshold: 10%)\n",
      "distributed.utils_perf - WARNING - full garbage collections took 12% CPU time recently (threshold: 10%)\n",
      "distributed.utils_perf - WARNING - full garbage collections took 12% CPU time recently (threshold: 10%)\n",
      "distributed.utils_perf - WARNING - full garbage collections took 12% CPU time recently (threshold: 10%)\n",
      "distributed.utils_perf - WARNING - full garbage collections took 12% CPU time recently (threshold: 10%)\n"
     ]
    },
    {
     "name": "stdout",
     "output_type": "stream",
     "text": [
      "GPS grazing hrs: 72.85\n",
      "Grid (1 m) grazing hrs: 72.92\n",
      "Grid (30 m) grazing hrs: 60.93\n",
      "  4597_D2_2016\n"
     ]
    },
    {
     "name": "stderr",
     "output_type": "stream",
     "text": [
      "distributed.utils_perf - WARNING - full garbage collections took 13% CPU time recently (threshold: 10%)\n",
      "distributed.utils_perf - WARNING - full garbage collections took 13% CPU time recently (threshold: 10%)\n",
      "distributed.utils_perf - WARNING - full garbage collections took 13% CPU time recently (threshold: 10%)\n",
      "distributed.utils_perf - WARNING - full garbage collections took 13% CPU time recently (threshold: 10%)\n",
      "distributed.utils_perf - WARNING - full garbage collections took 13% CPU time recently (threshold: 10%)\n",
      "distributed.utils_perf - WARNING - full garbage collections took 13% CPU time recently (threshold: 10%)\n",
      "distributed.utils_perf - WARNING - full garbage collections took 13% CPU time recently (threshold: 10%)\n",
      "distributed.utils_perf - WARNING - full garbage collections took 13% CPU time recently (threshold: 10%)\n",
      "distributed.utils_perf - WARNING - full garbage collections took 13% CPU time recently (threshold: 10%)\n",
      "distributed.utils_perf - WARNING - full garbage collections took 20% CPU time recently (threshold: 10%)\n",
      "distributed.utils_perf - WARNING - full garbage collections took 20% CPU time recently (threshold: 10%)\n",
      "distributed.utils_perf - WARNING - full garbage collections took 20% CPU time recently (threshold: 10%)\n",
      "distributed.utils_perf - WARNING - full garbage collections took 18% CPU time recently (threshold: 10%)\n"
     ]
    },
    {
     "name": "stdout",
     "output_type": "stream",
     "text": [
      "GPS grazing hrs: 75.21\n",
      "Grid (1 m) grazing hrs: 75.22\n",
      "Grid (30 m) grazing hrs: 66.8\n",
      "Pasture: 20SE (train)\n",
      "  2293_D2_2016\n"
     ]
    },
    {
     "name": "stderr",
     "output_type": "stream",
     "text": [
      "distributed.utils_perf - WARNING - full garbage collections took 12% CPU time recently (threshold: 10%)\n",
      "distributed.utils_perf - WARNING - full garbage collections took 12% CPU time recently (threshold: 10%)\n",
      "distributed.utils_perf - WARNING - full garbage collections took 12% CPU time recently (threshold: 10%)\n",
      "distributed.utils_perf - WARNING - full garbage collections took 12% CPU time recently (threshold: 10%)\n",
      "distributed.utils_perf - WARNING - full garbage collections took 12% CPU time recently (threshold: 10%)\n",
      "distributed.utils_perf - WARNING - full garbage collections took 12% CPU time recently (threshold: 10%)\n",
      "distributed.utils_perf - WARNING - full garbage collections took 15% CPU time recently (threshold: 10%)\n",
      "distributed.utils_perf - WARNING - full garbage collections took 16% CPU time recently (threshold: 10%)\n",
      "distributed.utils_perf - WARNING - full garbage collections took 16% CPU time recently (threshold: 10%)\n",
      "distributed.utils_perf - WARNING - full garbage collections took 16% CPU time recently (threshold: 10%)\n",
      "distributed.utils_perf - WARNING - full garbage collections took 16% CPU time recently (threshold: 10%)\n",
      "distributed.utils_perf - WARNING - full garbage collections took 16% CPU time recently (threshold: 10%)\n",
      "distributed.utils_perf - WARNING - full garbage collections took 16% CPU time recently (threshold: 10%)\n",
      "distributed.utils_perf - WARNING - full garbage collections took 16% CPU time recently (threshold: 10%)\n",
      "distributed.utils_perf - WARNING - full garbage collections took 16% CPU time recently (threshold: 10%)\n",
      "distributed.utils_perf - WARNING - full garbage collections took 16% CPU time recently (threshold: 10%)\n"
     ]
    },
    {
     "name": "stdout",
     "output_type": "stream",
     "text": [
      "GPS grazing hrs: 55.67\n",
      "Grid (1 m) grazing hrs: 55.6\n",
      "Grid (30 m) grazing hrs: 51.62\n",
      "  2294_D2_2016\n"
     ]
    },
    {
     "name": "stderr",
     "output_type": "stream",
     "text": [
      "distributed.utils_perf - WARNING - full garbage collections took 11% CPU time recently (threshold: 10%)\n",
      "distributed.utils_perf - WARNING - full garbage collections took 14% CPU time recently (threshold: 10%)\n",
      "distributed.utils_perf - WARNING - full garbage collections took 14% CPU time recently (threshold: 10%)\n",
      "distributed.utils_perf - WARNING - full garbage collections took 14% CPU time recently (threshold: 10%)\n",
      "distributed.utils_perf - WARNING - full garbage collections took 14% CPU time recently (threshold: 10%)\n",
      "distributed.utils_perf - WARNING - full garbage collections took 14% CPU time recently (threshold: 10%)\n",
      "distributed.utils_perf - WARNING - full garbage collections took 14% CPU time recently (threshold: 10%)\n",
      "distributed.utils_perf - WARNING - full garbage collections took 14% CPU time recently (threshold: 10%)\n",
      "distributed.utils_perf - WARNING - full garbage collections took 14% CPU time recently (threshold: 10%)\n",
      "distributed.utils_perf - WARNING - full garbage collections took 14% CPU time recently (threshold: 10%)\n",
      "distributed.utils_perf - WARNING - full garbage collections took 14% CPU time recently (threshold: 10%)\n",
      "distributed.utils_perf - WARNING - full garbage collections took 14% CPU time recently (threshold: 10%)\n",
      "distributed.utils_perf - WARNING - full garbage collections took 14% CPU time recently (threshold: 10%)\n",
      "distributed.utils_perf - WARNING - full garbage collections took 15% CPU time recently (threshold: 10%)\n"
     ]
    },
    {
     "name": "stdout",
     "output_type": "stream",
     "text": [
      "GPS grazing hrs: 75.91\n",
      "Grid (1 m) grazing hrs: 75.98\n",
      "Grid (30 m) grazing hrs: 66.21\n",
      "Pasture: 31E (train)\n",
      "  3769_D2_2016\n"
     ]
    },
    {
     "name": "stderr",
     "output_type": "stream",
     "text": [
      "distributed.utils_perf - WARNING - full garbage collections took 15% CPU time recently (threshold: 10%)\n",
      "distributed.utils_perf - WARNING - full garbage collections took 16% CPU time recently (threshold: 10%)\n",
      "distributed.utils_perf - WARNING - full garbage collections took 16% CPU time recently (threshold: 10%)\n",
      "distributed.utils_perf - WARNING - full garbage collections took 16% CPU time recently (threshold: 10%)\n",
      "distributed.utils_perf - WARNING - full garbage collections took 16% CPU time recently (threshold: 10%)\n",
      "distributed.utils_perf - WARNING - full garbage collections took 16% CPU time recently (threshold: 10%)\n",
      "distributed.utils_perf - WARNING - full garbage collections took 16% CPU time recently (threshold: 10%)\n",
      "distributed.utils_perf - WARNING - full garbage collections took 15% CPU time recently (threshold: 10%)\n",
      "distributed.utils_perf - WARNING - full garbage collections took 15% CPU time recently (threshold: 10%)\n"
     ]
    },
    {
     "name": "stdout",
     "output_type": "stream",
     "text": [
      "GPS grazing hrs: 66.63\n",
      "Grid (1 m) grazing hrs: 66.69\n",
      "Grid (30 m) grazing hrs: 61.23\n",
      "  4598_D2_2016\n"
     ]
    },
    {
     "name": "stderr",
     "output_type": "stream",
     "text": [
      "distributed.utils_perf - WARNING - full garbage collections took 11% CPU time recently (threshold: 10%)\n",
      "distributed.utils_perf - WARNING - full garbage collections took 12% CPU time recently (threshold: 10%)\n",
      "distributed.utils_perf - WARNING - full garbage collections took 12% CPU time recently (threshold: 10%)\n",
      "distributed.utils_perf - WARNING - full garbage collections took 12% CPU time recently (threshold: 10%)\n",
      "distributed.utils_perf - WARNING - full garbage collections took 12% CPU time recently (threshold: 10%)\n",
      "distributed.utils_perf - WARNING - full garbage collections took 12% CPU time recently (threshold: 10%)\n",
      "distributed.utils_perf - WARNING - full garbage collections took 12% CPU time recently (threshold: 10%)\n",
      "distributed.utils_perf - WARNING - full garbage collections took 17% CPU time recently (threshold: 10%)\n",
      "distributed.utils_perf - WARNING - full garbage collections took 17% CPU time recently (threshold: 10%)\n",
      "distributed.utils_perf - WARNING - full garbage collections took 17% CPU time recently (threshold: 10%)\n",
      "distributed.utils_perf - WARNING - full garbage collections took 17% CPU time recently (threshold: 10%)\n"
     ]
    },
    {
     "name": "stdout",
     "output_type": "stream",
     "text": [
      "GPS grazing hrs: 53.59\n",
      "Grid (1 m) grazing hrs: 53.74\n",
      "Grid (30 m) grazing hrs: 51.78\n",
      "Pasture: 24W (test)\n",
      "  3770_D2_2016\n"
     ]
    },
    {
     "name": "stderr",
     "output_type": "stream",
     "text": [
      "distributed.utils_perf - WARNING - full garbage collections took 12% CPU time recently (threshold: 10%)\n",
      "distributed.utils_perf - WARNING - full garbage collections took 12% CPU time recently (threshold: 10%)\n",
      "distributed.utils_perf - WARNING - full garbage collections took 12% CPU time recently (threshold: 10%)\n",
      "distributed.utils_perf - WARNING - full garbage collections took 11% CPU time recently (threshold: 10%)\n",
      "distributed.utils_perf - WARNING - full garbage collections took 11% CPU time recently (threshold: 10%)\n",
      "distributed.utils_perf - WARNING - full garbage collections took 12% CPU time recently (threshold: 10%)\n",
      "distributed.utils_perf - WARNING - full garbage collections took 12% CPU time recently (threshold: 10%)\n",
      "distributed.utils_perf - WARNING - full garbage collections took 12% CPU time recently (threshold: 10%)\n",
      "distributed.utils_perf - WARNING - full garbage collections took 12% CPU time recently (threshold: 10%)\n",
      "distributed.utils_perf - WARNING - full garbage collections took 12% CPU time recently (threshold: 10%)\n",
      "distributed.utils_perf - WARNING - full garbage collections took 16% CPU time recently (threshold: 10%)\n",
      "distributed.utils_perf - WARNING - full garbage collections took 16% CPU time recently (threshold: 10%)\n",
      "distributed.utils_perf - WARNING - full garbage collections took 16% CPU time recently (threshold: 10%)\n",
      "distributed.utils_perf - WARNING - full garbage collections took 16% CPU time recently (threshold: 10%)\n"
     ]
    },
    {
     "name": "stdout",
     "output_type": "stream",
     "text": [
      "GPS grazing hrs: 66.27\n",
      "Grid (1 m) grazing hrs: 66.23\n",
      "Grid (30 m) grazing hrs: 57.35\n",
      "Pasture: 15E (train)\n",
      "  3772_D2_2016\n"
     ]
    },
    {
     "name": "stderr",
     "output_type": "stream",
     "text": [
      "distributed.utils_perf - WARNING - full garbage collections took 12% CPU time recently (threshold: 10%)\n",
      "distributed.utils_perf - WARNING - full garbage collections took 12% CPU time recently (threshold: 10%)\n",
      "distributed.utils_perf - WARNING - full garbage collections took 12% CPU time recently (threshold: 10%)\n",
      "distributed.utils_perf - WARNING - full garbage collections took 12% CPU time recently (threshold: 10%)\n",
      "distributed.utils_perf - WARNING - full garbage collections took 12% CPU time recently (threshold: 10%)\n",
      "distributed.utils_perf - WARNING - full garbage collections took 16% CPU time recently (threshold: 10%)\n",
      "distributed.utils_perf - WARNING - full garbage collections took 16% CPU time recently (threshold: 10%)\n",
      "distributed.utils_perf - WARNING - full garbage collections took 16% CPU time recently (threshold: 10%)\n",
      "distributed.utils_perf - WARNING - full garbage collections took 16% CPU time recently (threshold: 10%)\n"
     ]
    },
    {
     "name": "stdout",
     "output_type": "stream",
     "text": [
      "GPS grazing hrs: 58.86\n",
      "Grid (1 m) grazing hrs: 59.19\n",
      "Grid (30 m) grazing hrs: 52.42\n",
      "Pasture: 26E (train)\n",
      "  3775_D2_2016\n"
     ]
    },
    {
     "name": "stderr",
     "output_type": "stream",
     "text": [
      "distributed.utils_perf - WARNING - full garbage collections took 10% CPU time recently (threshold: 10%)\n",
      "distributed.utils_perf - WARNING - full garbage collections took 10% CPU time recently (threshold: 10%)\n",
      "distributed.utils_perf - WARNING - full garbage collections took 10% CPU time recently (threshold: 10%)\n",
      "distributed.utils_perf - WARNING - full garbage collections took 10% CPU time recently (threshold: 10%)\n",
      "distributed.utils_perf - WARNING - full garbage collections took 10% CPU time recently (threshold: 10%)\n",
      "distributed.utils_perf - WARNING - full garbage collections took 11% CPU time recently (threshold: 10%)\n",
      "distributed.utils_perf - WARNING - full garbage collections took 11% CPU time recently (threshold: 10%)\n",
      "distributed.utils_perf - WARNING - full garbage collections took 14% CPU time recently (threshold: 10%)\n",
      "distributed.utils_perf - WARNING - full garbage collections took 14% CPU time recently (threshold: 10%)\n",
      "distributed.utils_perf - WARNING - full garbage collections took 14% CPU time recently (threshold: 10%)\n"
     ]
    },
    {
     "name": "stdout",
     "output_type": "stream",
     "text": [
      "GPS grazing hrs: 75.98\n",
      "Grid (1 m) grazing hrs: 76.27\n",
      "Grid (30 m) grazing hrs: 67.06\n",
      "Pasture: 25SE (test)\n",
      "  3776_D2_2016\n"
     ]
    },
    {
     "name": "stderr",
     "output_type": "stream",
     "text": [
      "distributed.utils_perf - WARNING - full garbage collections took 11% CPU time recently (threshold: 10%)\n",
      "distributed.utils_perf - WARNING - full garbage collections took 11% CPU time recently (threshold: 10%)\n",
      "distributed.utils_perf - WARNING - full garbage collections took 11% CPU time recently (threshold: 10%)\n",
      "distributed.utils_perf - WARNING - full garbage collections took 11% CPU time recently (threshold: 10%)\n",
      "distributed.utils_perf - WARNING - full garbage collections took 11% CPU time recently (threshold: 10%)\n",
      "distributed.utils_perf - WARNING - full garbage collections took 11% CPU time recently (threshold: 10%)\n",
      "distributed.utils_perf - WARNING - full garbage collections took 11% CPU time recently (threshold: 10%)\n",
      "distributed.utils_perf - WARNING - full garbage collections took 11% CPU time recently (threshold: 10%)\n",
      "distributed.utils_perf - WARNING - full garbage collections took 11% CPU time recently (threshold: 10%)\n",
      "distributed.utils_perf - WARNING - full garbage collections took 11% CPU time recently (threshold: 10%)\n",
      "distributed.utils_perf - WARNING - full garbage collections took 11% CPU time recently (threshold: 10%)\n",
      "distributed.utils_perf - WARNING - full garbage collections took 15% CPU time recently (threshold: 10%)\n",
      "distributed.utils_perf - WARNING - full garbage collections took 14% CPU time recently (threshold: 10%)\n",
      "distributed.utils_perf - WARNING - full garbage collections took 14% CPU time recently (threshold: 10%)\n",
      "distributed.utils_perf - WARNING - full garbage collections took 14% CPU time recently (threshold: 10%)\n",
      "distributed.utils_perf - WARNING - full garbage collections took 14% CPU time recently (threshold: 10%)\n"
     ]
    },
    {
     "name": "stdout",
     "output_type": "stream",
     "text": [
      "GPS grazing hrs: 72.76\n",
      "Grid (1 m) grazing hrs: 72.87\n",
      "Grid (30 m) grazing hrs: 67.91\n",
      "-------------Week starting: Jul 24 (30) -------------\n",
      "Pasture: 5E (test)\n",
      "  2285_D2_2016\n"
     ]
    },
    {
     "name": "stderr",
     "output_type": "stream",
     "text": [
      "distributed.utils_perf - WARNING - full garbage collections took 10% CPU time recently (threshold: 10%)\n",
      "distributed.utils_perf - WARNING - full garbage collections took 10% CPU time recently (threshold: 10%)\n",
      "distributed.utils_perf - WARNING - full garbage collections took 11% CPU time recently (threshold: 10%)\n",
      "distributed.utils_perf - WARNING - full garbage collections took 11% CPU time recently (threshold: 10%)\n",
      "distributed.utils_perf - WARNING - full garbage collections took 15% CPU time recently (threshold: 10%)\n",
      "distributed.utils_perf - WARNING - full garbage collections took 16% CPU time recently (threshold: 10%)\n",
      "distributed.utils_perf - WARNING - full garbage collections took 15% CPU time recently (threshold: 10%)\n",
      "distributed.utils_perf - WARNING - full garbage collections took 15% CPU time recently (threshold: 10%)\n",
      "distributed.utils_perf - WARNING - full garbage collections took 15% CPU time recently (threshold: 10%)\n",
      "distributed.utils_perf - WARNING - full garbage collections took 15% CPU time recently (threshold: 10%)\n"
     ]
    },
    {
     "name": "stdout",
     "output_type": "stream",
     "text": [
      "GPS grazing hrs: 69.6\n",
      "Grid (1 m) grazing hrs: 69.73\n",
      "Grid (30 m) grazing hrs: 62.38\n",
      "  2286_D2_2016\n"
     ]
    },
    {
     "name": "stderr",
     "output_type": "stream",
     "text": [
      "distributed.utils_perf - WARNING - full garbage collections took 12% CPU time recently (threshold: 10%)\n",
      "distributed.utils_perf - WARNING - full garbage collections took 12% CPU time recently (threshold: 10%)\n",
      "distributed.utils_perf - WARNING - full garbage collections took 12% CPU time recently (threshold: 10%)\n",
      "distributed.utils_perf - WARNING - full garbage collections took 12% CPU time recently (threshold: 10%)\n",
      "distributed.utils_perf - WARNING - full garbage collections took 17% CPU time recently (threshold: 10%)\n",
      "distributed.utils_perf - WARNING - full garbage collections took 17% CPU time recently (threshold: 10%)\n",
      "distributed.utils_perf - WARNING - full garbage collections took 17% CPU time recently (threshold: 10%)\n",
      "distributed.utils_perf - WARNING - full garbage collections took 17% CPU time recently (threshold: 10%)\n",
      "distributed.utils_perf - WARNING - full garbage collections took 17% CPU time recently (threshold: 10%)\n",
      "distributed.utils_perf - WARNING - full garbage collections took 17% CPU time recently (threshold: 10%)\n",
      "distributed.utils_perf - WARNING - full garbage collections took 17% CPU time recently (threshold: 10%)\n"
     ]
    },
    {
     "name": "stdout",
     "output_type": "stream",
     "text": [
      "GPS grazing hrs: 65.26\n",
      "Grid (1 m) grazing hrs: 65.17\n",
      "Grid (30 m) grazing hrs: 62.55\n",
      "  3772_D2_2016\n",
      "    SKIPPING STEER: All points masked.\n",
      "Pasture: 7NW (train)\n",
      "  2287_D2_2016\n"
     ]
    },
    {
     "name": "stderr",
     "output_type": "stream",
     "text": [
      "distributed.utils_perf - WARNING - full garbage collections took 11% CPU time recently (threshold: 10%)\n",
      "distributed.utils_perf - WARNING - full garbage collections took 11% CPU time recently (threshold: 10%)\n",
      "distributed.utils_perf - WARNING - full garbage collections took 11% CPU time recently (threshold: 10%)\n",
      "distributed.utils_perf - WARNING - full garbage collections took 11% CPU time recently (threshold: 10%)\n",
      "distributed.utils_perf - WARNING - full garbage collections took 11% CPU time recently (threshold: 10%)\n",
      "distributed.utils_perf - WARNING - full garbage collections took 11% CPU time recently (threshold: 10%)\n",
      "distributed.utils_perf - WARNING - full garbage collections took 11% CPU time recently (threshold: 10%)\n",
      "distributed.utils_perf - WARNING - full garbage collections took 12% CPU time recently (threshold: 10%)\n",
      "distributed.utils_perf - WARNING - full garbage collections took 12% CPU time recently (threshold: 10%)\n",
      "distributed.utils_perf - WARNING - full garbage collections took 17% CPU time recently (threshold: 10%)\n",
      "distributed.utils_perf - WARNING - full garbage collections took 17% CPU time recently (threshold: 10%)\n",
      "distributed.utils_perf - WARNING - full garbage collections took 17% CPU time recently (threshold: 10%)\n",
      "distributed.utils_perf - WARNING - full garbage collections took 17% CPU time recently (threshold: 10%)\n",
      "distributed.utils_perf - WARNING - full garbage collections took 16% CPU time recently (threshold: 10%)\n"
     ]
    },
    {
     "name": "stdout",
     "output_type": "stream",
     "text": [
      "GPS grazing hrs: 72.6\n",
      "Grid (1 m) grazing hrs: 72.64\n",
      "Grid (30 m) grazing hrs: 64.0\n",
      "  2288_D2_2016\n"
     ]
    },
    {
     "name": "stderr",
     "output_type": "stream",
     "text": [
      "distributed.utils_perf - WARNING - full garbage collections took 12% CPU time recently (threshold: 10%)\n",
      "distributed.utils_perf - WARNING - full garbage collections took 12% CPU time recently (threshold: 10%)\n",
      "distributed.utils_perf - WARNING - full garbage collections took 12% CPU time recently (threshold: 10%)\n",
      "distributed.utils_perf - WARNING - full garbage collections took 12% CPU time recently (threshold: 10%)\n",
      "distributed.utils_perf - WARNING - full garbage collections took 12% CPU time recently (threshold: 10%)\n",
      "distributed.utils_perf - WARNING - full garbage collections took 15% CPU time recently (threshold: 10%)\n",
      "distributed.utils_perf - WARNING - full garbage collections took 16% CPU time recently (threshold: 10%)\n",
      "distributed.utils_perf - WARNING - full garbage collections took 16% CPU time recently (threshold: 10%)\n",
      "distributed.utils_perf - WARNING - full garbage collections took 16% CPU time recently (threshold: 10%)\n",
      "distributed.utils_perf - WARNING - full garbage collections took 16% CPU time recently (threshold: 10%)\n",
      "distributed.utils_perf - WARNING - full garbage collections took 15% CPU time recently (threshold: 10%)\n",
      "distributed.utils_perf - WARNING - full garbage collections took 15% CPU time recently (threshold: 10%)\n",
      "distributed.utils_perf - WARNING - full garbage collections took 15% CPU time recently (threshold: 10%)\n",
      "distributed.utils_perf - WARNING - full garbage collections took 15% CPU time recently (threshold: 10%)\n",
      "distributed.utils_perf - WARNING - full garbage collections took 15% CPU time recently (threshold: 10%)\n",
      "distributed.utils_perf - WARNING - full garbage collections took 15% CPU time recently (threshold: 10%)\n"
     ]
    },
    {
     "name": "stdout",
     "output_type": "stream",
     "text": [
      "GPS grazing hrs: 59.66\n",
      "Grid (1 m) grazing hrs: 59.67\n",
      "Grid (30 m) grazing hrs: 58.19\n",
      "Pasture: 17N (train)\n",
      "  2289_D2_2016\n"
     ]
    },
    {
     "name": "stderr",
     "output_type": "stream",
     "text": [
      "distributed.utils_perf - WARNING - full garbage collections took 16% CPU time recently (threshold: 10%)\n",
      "distributed.utils_perf - WARNING - full garbage collections took 16% CPU time recently (threshold: 10%)\n",
      "distributed.utils_perf - WARNING - full garbage collections took 16% CPU time recently (threshold: 10%)\n",
      "distributed.utils_perf - WARNING - full garbage collections took 16% CPU time recently (threshold: 10%)\n",
      "distributed.utils_perf - WARNING - full garbage collections took 17% CPU time recently (threshold: 10%)\n",
      "distributed.utils_perf - WARNING - full garbage collections took 16% CPU time recently (threshold: 10%)\n",
      "distributed.utils_perf - WARNING - full garbage collections took 16% CPU time recently (threshold: 10%)\n",
      "distributed.utils_perf - WARNING - full garbage collections took 16% CPU time recently (threshold: 10%)\n"
     ]
    },
    {
     "name": "stdout",
     "output_type": "stream",
     "text": [
      "GPS grazing hrs: 71.3\n",
      "Grid (1 m) grazing hrs: 71.49\n",
      "Grid (30 m) grazing hrs: 63.29\n",
      "  2290_D2_2016\n"
     ]
    },
    {
     "name": "stderr",
     "output_type": "stream",
     "text": [
      "distributed.utils_perf - WARNING - full garbage collections took 10% CPU time recently (threshold: 10%)\n",
      "distributed.utils_perf - WARNING - full garbage collections took 10% CPU time recently (threshold: 10%)\n",
      "distributed.utils_perf - WARNING - full garbage collections took 10% CPU time recently (threshold: 10%)\n",
      "distributed.utils_perf - WARNING - full garbage collections took 10% CPU time recently (threshold: 10%)\n",
      "distributed.utils_perf - WARNING - full garbage collections took 10% CPU time recently (threshold: 10%)\n",
      "distributed.utils_perf - WARNING - full garbage collections took 10% CPU time recently (threshold: 10%)\n",
      "distributed.utils_perf - WARNING - full garbage collections took 13% CPU time recently (threshold: 10%)\n",
      "distributed.utils_perf - WARNING - full garbage collections took 13% CPU time recently (threshold: 10%)\n",
      "distributed.utils_perf - WARNING - full garbage collections took 13% CPU time recently (threshold: 10%)\n",
      "distributed.utils_perf - WARNING - full garbage collections took 13% CPU time recently (threshold: 10%)\n",
      "distributed.utils_perf - WARNING - full garbage collections took 13% CPU time recently (threshold: 10%)\n",
      "distributed.utils_perf - WARNING - full garbage collections took 13% CPU time recently (threshold: 10%)\n",
      "distributed.utils_perf - WARNING - full garbage collections took 13% CPU time recently (threshold: 10%)\n",
      "distributed.utils_perf - WARNING - full garbage collections took 13% CPU time recently (threshold: 10%)\n"
     ]
    },
    {
     "name": "stdout",
     "output_type": "stream",
     "text": [
      "GPS grazing hrs: 62.7\n",
      "Grid (1 m) grazing hrs: 62.74\n",
      "Grid (30 m) grazing hrs: 58.59\n",
      "Pasture: 19N (test)\n",
      "  4597_D2_2016\n"
     ]
    },
    {
     "name": "stderr",
     "output_type": "stream",
     "text": [
      "distributed.utils_perf - WARNING - full garbage collections took 10% CPU time recently (threshold: 10%)\n",
      "distributed.utils_perf - WARNING - full garbage collections took 10% CPU time recently (threshold: 10%)\n",
      "distributed.utils_perf - WARNING - full garbage collections took 10% CPU time recently (threshold: 10%)\n",
      "distributed.utils_perf - WARNING - full garbage collections took 10% CPU time recently (threshold: 10%)\n",
      "distributed.utils_perf - WARNING - full garbage collections took 10% CPU time recently (threshold: 10%)\n",
      "distributed.utils_perf - WARNING - full garbage collections took 10% CPU time recently (threshold: 10%)\n",
      "distributed.utils_perf - WARNING - full garbage collections took 10% CPU time recently (threshold: 10%)\n",
      "distributed.utils_perf - WARNING - full garbage collections took 10% CPU time recently (threshold: 10%)\n",
      "distributed.utils_perf - WARNING - full garbage collections took 14% CPU time recently (threshold: 10%)\n",
      "distributed.utils_perf - WARNING - full garbage collections took 13% CPU time recently (threshold: 10%)\n",
      "distributed.utils_perf - WARNING - full garbage collections took 13% CPU time recently (threshold: 10%)\n"
     ]
    },
    {
     "name": "stdout",
     "output_type": "stream",
     "text": [
      "GPS grazing hrs: 74.03\n",
      "Grid (1 m) grazing hrs: 74.12\n",
      "Grid (30 m) grazing hrs: 65.86\n",
      "Pasture: 20SE (train)\n",
      "  2293_D2_2016\n"
     ]
    },
    {
     "name": "stderr",
     "output_type": "stream",
     "text": [
      "distributed.utils_perf - WARNING - full garbage collections took 10% CPU time recently (threshold: 10%)\n",
      "distributed.utils_perf - WARNING - full garbage collections took 10% CPU time recently (threshold: 10%)\n",
      "distributed.utils_perf - WARNING - full garbage collections took 10% CPU time recently (threshold: 10%)\n",
      "distributed.utils_perf - WARNING - full garbage collections took 10% CPU time recently (threshold: 10%)\n",
      "distributed.utils_perf - WARNING - full garbage collections took 10% CPU time recently (threshold: 10%)\n",
      "distributed.utils_perf - WARNING - full garbage collections took 15% CPU time recently (threshold: 10%)\n",
      "distributed.utils_perf - WARNING - full garbage collections took 16% CPU time recently (threshold: 10%)\n",
      "distributed.utils_perf - WARNING - full garbage collections took 16% CPU time recently (threshold: 10%)\n",
      "distributed.utils_perf - WARNING - full garbage collections took 16% CPU time recently (threshold: 10%)\n",
      "distributed.utils_perf - WARNING - full garbage collections took 16% CPU time recently (threshold: 10%)\n",
      "distributed.utils_perf - WARNING - full garbage collections took 16% CPU time recently (threshold: 10%)\n",
      "distributed.utils_perf - WARNING - full garbage collections took 16% CPU time recently (threshold: 10%)\n",
      "distributed.utils_perf - WARNING - full garbage collections took 16% CPU time recently (threshold: 10%)\n",
      "distributed.utils_perf - WARNING - full garbage collections took 16% CPU time recently (threshold: 10%)\n",
      "distributed.utils_perf - WARNING - full garbage collections took 16% CPU time recently (threshold: 10%)\n"
     ]
    },
    {
     "name": "stdout",
     "output_type": "stream",
     "text": [
      "GPS grazing hrs: 54.31\n",
      "Grid (1 m) grazing hrs: 54.23\n",
      "Grid (30 m) grazing hrs: 51.74\n",
      "  2294_D2_2016\n"
     ]
    },
    {
     "name": "stderr",
     "output_type": "stream",
     "text": [
      "distributed.utils_perf - WARNING - full garbage collections took 11% CPU time recently (threshold: 10%)\n",
      "distributed.utils_perf - WARNING - full garbage collections took 11% CPU time recently (threshold: 10%)\n",
      "distributed.utils_perf - WARNING - full garbage collections took 11% CPU time recently (threshold: 10%)\n",
      "distributed.utils_perf - WARNING - full garbage collections took 11% CPU time recently (threshold: 10%)\n",
      "distributed.utils_perf - WARNING - full garbage collections took 15% CPU time recently (threshold: 10%)\n",
      "distributed.utils_perf - WARNING - full garbage collections took 15% CPU time recently (threshold: 10%)\n",
      "distributed.utils_perf - WARNING - full garbage collections took 15% CPU time recently (threshold: 10%)\n",
      "distributed.utils_perf - WARNING - full garbage collections took 15% CPU time recently (threshold: 10%)\n",
      "distributed.utils_perf - WARNING - full garbage collections took 15% CPU time recently (threshold: 10%)\n",
      "distributed.utils_perf - WARNING - full garbage collections took 15% CPU time recently (threshold: 10%)\n",
      "distributed.utils_perf - WARNING - full garbage collections took 15% CPU time recently (threshold: 10%)\n",
      "distributed.utils_perf - WARNING - full garbage collections took 15% CPU time recently (threshold: 10%)\n",
      "distributed.utils_perf - WARNING - full garbage collections took 15% CPU time recently (threshold: 10%)\n",
      "distributed.utils_perf - WARNING - full garbage collections took 15% CPU time recently (threshold: 10%)\n",
      "distributed.utils_perf - WARNING - full garbage collections took 15% CPU time recently (threshold: 10%)\n",
      "distributed.utils_perf - WARNING - full garbage collections took 21% CPU time recently (threshold: 10%)\n",
      "distributed.utils_perf - WARNING - full garbage collections took 21% CPU time recently (threshold: 10%)\n",
      "distributed.utils_perf - WARNING - full garbage collections took 21% CPU time recently (threshold: 10%)\n"
     ]
    },
    {
     "name": "stdout",
     "output_type": "stream",
     "text": [
      "GPS grazing hrs: 77.89\n",
      "Grid (1 m) grazing hrs: 78.31\n",
      "Grid (30 m) grazing hrs: 69.48\n",
      "Pasture: 31E (train)\n",
      "  3769_D2_2016\n"
     ]
    },
    {
     "name": "stderr",
     "output_type": "stream",
     "text": [
      "distributed.utils_perf - WARNING - full garbage collections took 14% CPU time recently (threshold: 10%)\n",
      "distributed.utils_perf - WARNING - full garbage collections took 14% CPU time recently (threshold: 10%)\n",
      "distributed.utils_perf - WARNING - full garbage collections took 14% CPU time recently (threshold: 10%)\n",
      "distributed.utils_perf - WARNING - full garbage collections took 13% CPU time recently (threshold: 10%)\n",
      "distributed.utils_perf - WARNING - full garbage collections took 13% CPU time recently (threshold: 10%)\n",
      "distributed.utils_perf - WARNING - full garbage collections took 13% CPU time recently (threshold: 10%)\n",
      "distributed.utils_perf - WARNING - full garbage collections took 13% CPU time recently (threshold: 10%)\n",
      "distributed.utils_perf - WARNING - full garbage collections took 13% CPU time recently (threshold: 10%)\n",
      "distributed.utils_perf - WARNING - full garbage collections took 13% CPU time recently (threshold: 10%)\n",
      "distributed.utils_perf - WARNING - full garbage collections took 13% CPU time recently (threshold: 10%)\n",
      "distributed.utils_perf - WARNING - full garbage collections took 13% CPU time recently (threshold: 10%)\n",
      "distributed.utils_perf - WARNING - full garbage collections took 13% CPU time recently (threshold: 10%)\n",
      "distributed.utils_perf - WARNING - full garbage collections took 21% CPU time recently (threshold: 10%)\n"
     ]
    },
    {
     "name": "stdout",
     "output_type": "stream",
     "text": [
      "GPS grazing hrs: 72.94\n",
      "Grid (1 m) grazing hrs: 72.88\n",
      "Grid (30 m) grazing hrs: 65.88\n",
      "  4598_D2_2016\n"
     ]
    },
    {
     "name": "stderr",
     "output_type": "stream",
     "text": [
      "distributed.utils_perf - WARNING - full garbage collections took 14% CPU time recently (threshold: 10%)\n",
      "distributed.utils_perf - WARNING - full garbage collections took 14% CPU time recently (threshold: 10%)\n",
      "distributed.utils_perf - WARNING - full garbage collections took 14% CPU time recently (threshold: 10%)\n",
      "distributed.utils_perf - WARNING - full garbage collections took 14% CPU time recently (threshold: 10%)\n",
      "distributed.utils_perf - WARNING - full garbage collections took 14% CPU time recently (threshold: 10%)\n",
      "distributed.utils_perf - WARNING - full garbage collections took 14% CPU time recently (threshold: 10%)\n",
      "distributed.utils_perf - WARNING - full garbage collections took 14% CPU time recently (threshold: 10%)\n",
      "distributed.utils_perf - WARNING - full garbage collections took 14% CPU time recently (threshold: 10%)\n",
      "distributed.utils_perf - WARNING - full garbage collections took 14% CPU time recently (threshold: 10%)\n",
      "distributed.utils_perf - WARNING - full garbage collections took 14% CPU time recently (threshold: 10%)\n",
      "distributed.utils_perf - WARNING - full garbage collections took 14% CPU time recently (threshold: 10%)\n",
      "distributed.utils_perf - WARNING - full garbage collections took 14% CPU time recently (threshold: 10%)\n"
     ]
    },
    {
     "name": "stdout",
     "output_type": "stream",
     "text": [
      "GPS grazing hrs: 56.13\n",
      "Grid (1 m) grazing hrs: 56.1\n",
      "Grid (30 m) grazing hrs: 52.91\n",
      "Pasture: 24W (test)\n",
      "  3770_D2_2016\n"
     ]
    },
    {
     "name": "stderr",
     "output_type": "stream",
     "text": [
      "distributed.utils_perf - WARNING - full garbage collections took 13% CPU time recently (threshold: 10%)\n",
      "distributed.utils_perf - WARNING - full garbage collections took 13% CPU time recently (threshold: 10%)\n",
      "distributed.utils_perf - WARNING - full garbage collections took 13% CPU time recently (threshold: 10%)\n",
      "distributed.utils_perf - WARNING - full garbage collections took 13% CPU time recently (threshold: 10%)\n",
      "distributed.utils_perf - WARNING - full garbage collections took 13% CPU time recently (threshold: 10%)\n",
      "distributed.utils_perf - WARNING - full garbage collections took 13% CPU time recently (threshold: 10%)\n"
     ]
    },
    {
     "name": "stdout",
     "output_type": "stream",
     "text": [
      "GPS grazing hrs: 66.72\n",
      "Grid (1 m) grazing hrs: 66.82\n",
      "Grid (30 m) grazing hrs: 62.01\n",
      "Pasture: 15E (train)\n",
      "  3772_D2_2016\n"
     ]
    },
    {
     "name": "stderr",
     "output_type": "stream",
     "text": [
      "distributed.utils_perf - WARNING - full garbage collections took 10% CPU time recently (threshold: 10%)\n",
      "distributed.utils_perf - WARNING - full garbage collections took 10% CPU time recently (threshold: 10%)\n",
      "distributed.utils_perf - WARNING - full garbage collections took 10% CPU time recently (threshold: 10%)\n",
      "distributed.utils_perf - WARNING - full garbage collections took 10% CPU time recently (threshold: 10%)\n",
      "distributed.utils_perf - WARNING - full garbage collections took 10% CPU time recently (threshold: 10%)\n",
      "distributed.utils_perf - WARNING - full garbage collections took 10% CPU time recently (threshold: 10%)\n",
      "distributed.utils_perf - WARNING - full garbage collections took 10% CPU time recently (threshold: 10%)\n",
      "distributed.utils_perf - WARNING - full garbage collections took 14% CPU time recently (threshold: 10%)\n",
      "distributed.utils_perf - WARNING - full garbage collections took 14% CPU time recently (threshold: 10%)\n",
      "distributed.utils_perf - WARNING - full garbage collections took 14% CPU time recently (threshold: 10%)\n",
      "distributed.utils_perf - WARNING - full garbage collections took 14% CPU time recently (threshold: 10%)\n",
      "distributed.utils_perf - WARNING - full garbage collections took 14% CPU time recently (threshold: 10%)\n",
      "distributed.utils_perf - WARNING - full garbage collections took 14% CPU time recently (threshold: 10%)\n"
     ]
    },
    {
     "name": "stdout",
     "output_type": "stream",
     "text": [
      "GPS grazing hrs: 57.16\n",
      "Grid (1 m) grazing hrs: 57.27\n",
      "Grid (30 m) grazing hrs: 51.18\n",
      "Pasture: 26E (train)\n",
      "  3775_D2_2016\n"
     ]
    },
    {
     "name": "stderr",
     "output_type": "stream",
     "text": [
      "distributed.utils_perf - WARNING - full garbage collections took 10% CPU time recently (threshold: 10%)\n",
      "distributed.utils_perf - WARNING - full garbage collections took 10% CPU time recently (threshold: 10%)\n",
      "distributed.utils_perf - WARNING - full garbage collections took 10% CPU time recently (threshold: 10%)\n",
      "distributed.utils_perf - WARNING - full garbage collections took 10% CPU time recently (threshold: 10%)\n",
      "distributed.utils_perf - WARNING - full garbage collections took 10% CPU time recently (threshold: 10%)\n",
      "distributed.utils_perf - WARNING - full garbage collections took 11% CPU time recently (threshold: 10%)\n",
      "distributed.utils_perf - WARNING - full garbage collections took 17% CPU time recently (threshold: 10%)\n",
      "distributed.utils_perf - WARNING - full garbage collections took 17% CPU time recently (threshold: 10%)\n",
      "distributed.utils_perf - WARNING - full garbage collections took 17% CPU time recently (threshold: 10%)\n",
      "distributed.utils_perf - WARNING - full garbage collections took 17% CPU time recently (threshold: 10%)\n"
     ]
    },
    {
     "name": "stdout",
     "output_type": "stream",
     "text": [
      "GPS grazing hrs: 77.31\n",
      "Grid (1 m) grazing hrs: 77.95\n",
      "Grid (30 m) grazing hrs: 67.95\n",
      "Pasture: 25SE (test)\n",
      "  3776_D2_2016\n"
     ]
    },
    {
     "name": "stderr",
     "output_type": "stream",
     "text": [
      "distributed.utils_perf - WARNING - full garbage collections took 12% CPU time recently (threshold: 10%)\n",
      "distributed.utils_perf - WARNING - full garbage collections took 12% CPU time recently (threshold: 10%)\n",
      "distributed.utils_perf - WARNING - full garbage collections took 12% CPU time recently (threshold: 10%)\n",
      "distributed.utils_perf - WARNING - full garbage collections took 12% CPU time recently (threshold: 10%)\n",
      "distributed.utils_perf - WARNING - full garbage collections took 12% CPU time recently (threshold: 10%)\n",
      "distributed.utils_perf - WARNING - full garbage collections took 12% CPU time recently (threshold: 10%)\n",
      "distributed.utils_perf - WARNING - full garbage collections took 13% CPU time recently (threshold: 10%)\n",
      "distributed.utils_perf - WARNING - full garbage collections took 17% CPU time recently (threshold: 10%)\n",
      "distributed.utils_perf - WARNING - full garbage collections took 17% CPU time recently (threshold: 10%)\n",
      "distributed.utils_perf - WARNING - full garbage collections took 17% CPU time recently (threshold: 10%)\n",
      "distributed.utils_perf - WARNING - full garbage collections took 17% CPU time recently (threshold: 10%)\n",
      "distributed.utils_perf - WARNING - full garbage collections took 17% CPU time recently (threshold: 10%)\n",
      "distributed.utils_perf - WARNING - full garbage collections took 17% CPU time recently (threshold: 10%)\n",
      "distributed.utils_perf - WARNING - full garbage collections took 17% CPU time recently (threshold: 10%)\n"
     ]
    },
    {
     "name": "stdout",
     "output_type": "stream",
     "text": [
      "GPS grazing hrs: 72.96\n",
      "Grid (1 m) grazing hrs: 72.94\n",
      "Grid (30 m) grazing hrs: 68.61\n",
      "  3778_D2_2016\n"
     ]
    },
    {
     "name": "stderr",
     "output_type": "stream",
     "text": [
      "distributed.utils_perf - WARNING - full garbage collections took 12% CPU time recently (threshold: 10%)\n",
      "distributed.utils_perf - WARNING - full garbage collections took 12% CPU time recently (threshold: 10%)\n",
      "distributed.utils_perf - WARNING - full garbage collections took 12% CPU time recently (threshold: 10%)\n",
      "distributed.utils_perf - WARNING - full garbage collections took 12% CPU time recently (threshold: 10%)\n",
      "distributed.utils_perf - WARNING - full garbage collections took 13% CPU time recently (threshold: 10%)\n",
      "distributed.utils_perf - WARNING - full garbage collections took 13% CPU time recently (threshold: 10%)\n",
      "distributed.utils_perf - WARNING - full garbage collections took 17% CPU time recently (threshold: 10%)\n",
      "distributed.utils_perf - WARNING - full garbage collections took 17% CPU time recently (threshold: 10%)\n",
      "distributed.utils_perf - WARNING - full garbage collections took 17% CPU time recently (threshold: 10%)\n",
      "distributed.utils_perf - WARNING - full garbage collections took 17% CPU time recently (threshold: 10%)\n",
      "distributed.utils_perf - WARNING - full garbage collections took 17% CPU time recently (threshold: 10%)\n",
      "distributed.utils_perf - WARNING - full garbage collections took 17% CPU time recently (threshold: 10%)\n"
     ]
    },
    {
     "name": "stdout",
     "output_type": "stream",
     "text": [
      "GPS grazing hrs: 60.17\n",
      "Grid (1 m) grazing hrs: 60.2\n",
      "Grid (30 m) grazing hrs: 57.24\n",
      "-------------Week starting: Jul 31 (31) -------------\n",
      "Pasture: 5E (test)\n",
      "  2285_D2_2016\n"
     ]
    },
    {
     "name": "stderr",
     "output_type": "stream",
     "text": [
      "distributed.utils_perf - WARNING - full garbage collections took 13% CPU time recently (threshold: 10%)\n",
      "distributed.utils_perf - WARNING - full garbage collections took 13% CPU time recently (threshold: 10%)\n",
      "distributed.utils_perf - WARNING - full garbage collections took 13% CPU time recently (threshold: 10%)\n",
      "distributed.utils_perf - WARNING - full garbage collections took 13% CPU time recently (threshold: 10%)\n",
      "distributed.utils_perf - WARNING - full garbage collections took 17% CPU time recently (threshold: 10%)\n",
      "distributed.utils_perf - WARNING - full garbage collections took 17% CPU time recently (threshold: 10%)\n",
      "distributed.utils_perf - WARNING - full garbage collections took 17% CPU time recently (threshold: 10%)\n",
      "distributed.utils_perf - WARNING - full garbage collections took 17% CPU time recently (threshold: 10%)\n",
      "distributed.utils_perf - WARNING - full garbage collections took 17% CPU time recently (threshold: 10%)\n",
      "distributed.utils_perf - WARNING - full garbage collections took 16% CPU time recently (threshold: 10%)\n",
      "distributed.utils_perf - WARNING - full garbage collections took 16% CPU time recently (threshold: 10%)\n"
     ]
    },
    {
     "name": "stdout",
     "output_type": "stream",
     "text": [
      "GPS grazing hrs: 73.26\n",
      "Grid (1 m) grazing hrs: 73.29\n",
      "Grid (30 m) grazing hrs: 67.53\n",
      "  2286_D2_2016\n"
     ]
    },
    {
     "name": "stderr",
     "output_type": "stream",
     "text": [
      "distributed.utils_perf - WARNING - full garbage collections took 13% CPU time recently (threshold: 10%)\n",
      "distributed.utils_perf - WARNING - full garbage collections took 13% CPU time recently (threshold: 10%)\n",
      "distributed.utils_perf - WARNING - full garbage collections took 13% CPU time recently (threshold: 10%)\n",
      "distributed.utils_perf - WARNING - full garbage collections took 13% CPU time recently (threshold: 10%)\n",
      "distributed.utils_perf - WARNING - full garbage collections took 13% CPU time recently (threshold: 10%)\n",
      "distributed.utils_perf - WARNING - full garbage collections took 13% CPU time recently (threshold: 10%)\n",
      "distributed.utils_perf - WARNING - full garbage collections took 13% CPU time recently (threshold: 10%)\n",
      "distributed.utils_perf - WARNING - full garbage collections took 19% CPU time recently (threshold: 10%)\n",
      "distributed.utils_perf - WARNING - full garbage collections took 19% CPU time recently (threshold: 10%)\n",
      "distributed.utils_perf - WARNING - full garbage collections took 19% CPU time recently (threshold: 10%)\n",
      "distributed.utils_perf - WARNING - full garbage collections took 19% CPU time recently (threshold: 10%)\n",
      "distributed.utils_perf - WARNING - full garbage collections took 18% CPU time recently (threshold: 10%)\n",
      "distributed.utils_perf - WARNING - full garbage collections took 18% CPU time recently (threshold: 10%)\n"
     ]
    },
    {
     "name": "stdout",
     "output_type": "stream",
     "text": [
      "GPS grazing hrs: 65.45\n",
      "Grid (1 m) grazing hrs: 65.54\n",
      "Grid (30 m) grazing hrs: 61.9\n",
      "  3772_D2_2016\n",
      "    SKIPPING STEER: All points masked.\n",
      "Pasture: 7NW (train)\n",
      "  2287_D2_2016\n"
     ]
    },
    {
     "name": "stderr",
     "output_type": "stream",
     "text": [
      "distributed.utils_perf - WARNING - full garbage collections took 14% CPU time recently (threshold: 10%)\n",
      "distributed.utils_perf - WARNING - full garbage collections took 14% CPU time recently (threshold: 10%)\n",
      "distributed.utils_perf - WARNING - full garbage collections took 15% CPU time recently (threshold: 10%)\n",
      "distributed.utils_perf - WARNING - full garbage collections took 15% CPU time recently (threshold: 10%)\n",
      "distributed.utils_perf - WARNING - full garbage collections took 15% CPU time recently (threshold: 10%)\n",
      "distributed.utils_perf - WARNING - full garbage collections took 15% CPU time recently (threshold: 10%)\n",
      "distributed.utils_perf - WARNING - full garbage collections took 24% CPU time recently (threshold: 10%)\n",
      "distributed.utils_perf - WARNING - full garbage collections took 24% CPU time recently (threshold: 10%)\n",
      "distributed.utils_perf - WARNING - full garbage collections took 25% CPU time recently (threshold: 10%)\n",
      "distributed.utils_perf - WARNING - full garbage collections took 24% CPU time recently (threshold: 10%)\n",
      "distributed.utils_perf - WARNING - full garbage collections took 24% CPU time recently (threshold: 10%)\n",
      "distributed.utils_perf - WARNING - full garbage collections took 24% CPU time recently (threshold: 10%)\n",
      "distributed.utils_perf - WARNING - full garbage collections took 24% CPU time recently (threshold: 10%)\n"
     ]
    },
    {
     "name": "stdout",
     "output_type": "stream",
     "text": [
      "GPS grazing hrs: 75.53\n",
      "Grid (1 m) grazing hrs: 75.59\n",
      "Grid (30 m) grazing hrs: 67.22\n",
      "  2288_D2_2016\n"
     ]
    },
    {
     "name": "stderr",
     "output_type": "stream",
     "text": [
      "distributed.utils_perf - WARNING - full garbage collections took 17% CPU time recently (threshold: 10%)\n",
      "distributed.utils_perf - WARNING - full garbage collections took 17% CPU time recently (threshold: 10%)\n",
      "distributed.utils_perf - WARNING - full garbage collections took 17% CPU time recently (threshold: 10%)\n",
      "distributed.utils_perf - WARNING - full garbage collections took 17% CPU time recently (threshold: 10%)\n",
      "distributed.utils_perf - WARNING - full garbage collections took 24% CPU time recently (threshold: 10%)\n",
      "distributed.utils_perf - WARNING - full garbage collections took 25% CPU time recently (threshold: 10%)\n",
      "distributed.utils_perf - WARNING - full garbage collections took 25% CPU time recently (threshold: 10%)\n",
      "distributed.utils_perf - WARNING - full garbage collections took 25% CPU time recently (threshold: 10%)\n",
      "distributed.utils_perf - WARNING - full garbage collections took 26% CPU time recently (threshold: 10%)\n",
      "distributed.utils_perf - WARNING - full garbage collections took 26% CPU time recently (threshold: 10%)\n",
      "distributed.utils_perf - WARNING - full garbage collections took 26% CPU time recently (threshold: 10%)\n",
      "distributed.utils_perf - WARNING - full garbage collections took 26% CPU time recently (threshold: 10%)\n",
      "distributed.utils_perf - WARNING - full garbage collections took 26% CPU time recently (threshold: 10%)\n",
      "distributed.utils_perf - WARNING - full garbage collections took 26% CPU time recently (threshold: 10%)\n"
     ]
    },
    {
     "name": "stdout",
     "output_type": "stream",
     "text": [
      "GPS grazing hrs: 61.98\n",
      "Grid (1 m) grazing hrs: 61.97\n",
      "Grid (30 m) grazing hrs: 60.15\n",
      "Pasture: 17N (train)\n",
      "  2289_D2_2016\n"
     ]
    },
    {
     "name": "stderr",
     "output_type": "stream",
     "text": [
      "distributed.utils_perf - WARNING - full garbage collections took 20% CPU time recently (threshold: 10%)\n",
      "distributed.utils_perf - WARNING - full garbage collections took 19% CPU time recently (threshold: 10%)\n",
      "distributed.utils_perf - WARNING - full garbage collections took 19% CPU time recently (threshold: 10%)\n",
      "distributed.utils_perf - WARNING - full garbage collections took 25% CPU time recently (threshold: 10%)\n",
      "distributed.utils_perf - WARNING - full garbage collections took 25% CPU time recently (threshold: 10%)\n",
      "distributed.utils_perf - WARNING - full garbage collections took 25% CPU time recently (threshold: 10%)\n",
      "distributed.utils_perf - WARNING - full garbage collections took 25% CPU time recently (threshold: 10%)\n",
      "distributed.utils_perf - WARNING - full garbage collections took 25% CPU time recently (threshold: 10%)\n",
      "distributed.utils_perf - WARNING - full garbage collections took 25% CPU time recently (threshold: 10%)\n",
      "distributed.utils_perf - WARNING - full garbage collections took 24% CPU time recently (threshold: 10%)\n",
      "distributed.utils_perf - WARNING - full garbage collections took 24% CPU time recently (threshold: 10%)\n",
      "distributed.utils_perf - WARNING - full garbage collections took 23% CPU time recently (threshold: 10%)\n",
      "distributed.utils_perf - WARNING - full garbage collections took 23% CPU time recently (threshold: 10%)\n"
     ]
    },
    {
     "name": "stdout",
     "output_type": "stream",
     "text": [
      "GPS grazing hrs: 70.18\n",
      "Grid (1 m) grazing hrs: 70.22\n",
      "Grid (30 m) grazing hrs: 63.45\n",
      "  2290_D2_2016\n"
     ]
    },
    {
     "name": "stderr",
     "output_type": "stream",
     "text": [
      "distributed.utils_perf - WARNING - full garbage collections took 19% CPU time recently (threshold: 10%)\n",
      "distributed.utils_perf - WARNING - full garbage collections took 19% CPU time recently (threshold: 10%)\n",
      "distributed.utils_perf - WARNING - full garbage collections took 19% CPU time recently (threshold: 10%)\n",
      "distributed.utils_perf - WARNING - full garbage collections took 28% CPU time recently (threshold: 10%)\n",
      "distributed.utils_perf - WARNING - full garbage collections took 28% CPU time recently (threshold: 10%)\n",
      "distributed.utils_perf - WARNING - full garbage collections took 28% CPU time recently (threshold: 10%)\n",
      "distributed.utils_perf - WARNING - full garbage collections took 28% CPU time recently (threshold: 10%)\n",
      "distributed.utils_perf - WARNING - full garbage collections took 28% CPU time recently (threshold: 10%)\n",
      "distributed.utils_perf - WARNING - full garbage collections took 28% CPU time recently (threshold: 10%)\n",
      "distributed.utils_perf - WARNING - full garbage collections took 28% CPU time recently (threshold: 10%)\n",
      "distributed.utils_perf - WARNING - full garbage collections took 28% CPU time recently (threshold: 10%)\n"
     ]
    },
    {
     "name": "stdout",
     "output_type": "stream",
     "text": [
      "GPS grazing hrs: 63.87\n",
      "Grid (1 m) grazing hrs: 63.91\n",
      "Grid (30 m) grazing hrs: 58.88\n",
      "Pasture: 19N (test)\n",
      "  4597_D2_2016\n"
     ]
    },
    {
     "name": "stderr",
     "output_type": "stream",
     "text": [
      "distributed.utils_perf - WARNING - full garbage collections took 19% CPU time recently (threshold: 10%)\n",
      "distributed.utils_perf - WARNING - full garbage collections took 19% CPU time recently (threshold: 10%)\n",
      "distributed.utils_perf - WARNING - full garbage collections took 19% CPU time recently (threshold: 10%)\n",
      "distributed.utils_perf - WARNING - full garbage collections took 20% CPU time recently (threshold: 10%)\n",
      "distributed.utils_perf - WARNING - full garbage collections took 20% CPU time recently (threshold: 10%)\n",
      "distributed.utils_perf - WARNING - full garbage collections took 20% CPU time recently (threshold: 10%)\n",
      "distributed.utils_perf - WARNING - full garbage collections took 28% CPU time recently (threshold: 10%)\n",
      "distributed.utils_perf - WARNING - full garbage collections took 28% CPU time recently (threshold: 10%)\n",
      "distributed.utils_perf - WARNING - full garbage collections took 28% CPU time recently (threshold: 10%)\n",
      "distributed.utils_perf - WARNING - full garbage collections took 28% CPU time recently (threshold: 10%)\n",
      "distributed.utils_perf - WARNING - full garbage collections took 28% CPU time recently (threshold: 10%)\n"
     ]
    },
    {
     "name": "stdout",
     "output_type": "stream",
     "text": [
      "GPS grazing hrs: 79.72\n",
      "Grid (1 m) grazing hrs: 79.7\n",
      "Grid (30 m) grazing hrs: 69.72\n",
      "Pasture: 20SE (train)\n",
      "  2293_D2_2016\n"
     ]
    },
    {
     "name": "stderr",
     "output_type": "stream",
     "text": [
      "distributed.utils_perf - WARNING - full garbage collections took 20% CPU time recently (threshold: 10%)\n",
      "distributed.utils_perf - WARNING - full garbage collections took 20% CPU time recently (threshold: 10%)\n",
      "distributed.utils_perf - WARNING - full garbage collections took 20% CPU time recently (threshold: 10%)\n",
      "distributed.utils_perf - WARNING - full garbage collections took 20% CPU time recently (threshold: 10%)\n",
      "distributed.utils_perf - WARNING - full garbage collections took 21% CPU time recently (threshold: 10%)\n",
      "distributed.utils_perf - WARNING - full garbage collections took 21% CPU time recently (threshold: 10%)\n",
      "distributed.utils_perf - WARNING - full garbage collections took 21% CPU time recently (threshold: 10%)\n",
      "distributed.utils_perf - WARNING - full garbage collections took 21% CPU time recently (threshold: 10%)\n",
      "distributed.utils_perf - WARNING - full garbage collections took 27% CPU time recently (threshold: 10%)\n",
      "distributed.utils_perf - WARNING - full garbage collections took 27% CPU time recently (threshold: 10%)\n",
      "distributed.utils_perf - WARNING - full garbage collections took 27% CPU time recently (threshold: 10%)\n",
      "distributed.utils_perf - WARNING - full garbage collections took 27% CPU time recently (threshold: 10%)\n",
      "distributed.utils_perf - WARNING - full garbage collections took 27% CPU time recently (threshold: 10%)\n",
      "distributed.utils_perf - WARNING - full garbage collections took 26% CPU time recently (threshold: 10%)\n",
      "distributed.utils_perf - WARNING - full garbage collections took 26% CPU time recently (threshold: 10%)\n",
      "distributed.utils_perf - WARNING - full garbage collections took 26% CPU time recently (threshold: 10%)\n"
     ]
    },
    {
     "name": "stdout",
     "output_type": "stream",
     "text": [
      "GPS grazing hrs: 55.08\n",
      "Grid (1 m) grazing hrs: 55.05\n",
      "Grid (30 m) grazing hrs: 52.24\n",
      "  2294_D2_2016\n"
     ]
    },
    {
     "name": "stderr",
     "output_type": "stream",
     "text": [
      "distributed.utils_perf - WARNING - full garbage collections took 19% CPU time recently (threshold: 10%)\n",
      "distributed.utils_perf - WARNING - full garbage collections took 19% CPU time recently (threshold: 10%)\n",
      "distributed.utils_perf - WARNING - full garbage collections took 19% CPU time recently (threshold: 10%)\n",
      "distributed.utils_perf - WARNING - full garbage collections took 26% CPU time recently (threshold: 10%)\n",
      "distributed.utils_perf - WARNING - full garbage collections took 26% CPU time recently (threshold: 10%)\n",
      "distributed.utils_perf - WARNING - full garbage collections took 27% CPU time recently (threshold: 10%)\n",
      "distributed.utils_perf - WARNING - full garbage collections took 27% CPU time recently (threshold: 10%)\n",
      "distributed.utils_perf - WARNING - full garbage collections took 26% CPU time recently (threshold: 10%)\n",
      "distributed.utils_perf - WARNING - full garbage collections took 26% CPU time recently (threshold: 10%)\n",
      "distributed.utils_perf - WARNING - full garbage collections took 26% CPU time recently (threshold: 10%)\n",
      "distributed.utils_perf - WARNING - full garbage collections took 26% CPU time recently (threshold: 10%)\n",
      "distributed.utils_perf - WARNING - full garbage collections took 26% CPU time recently (threshold: 10%)\n"
     ]
    },
    {
     "name": "stdout",
     "output_type": "stream",
     "text": [
      "GPS grazing hrs: 75.83\n",
      "Grid (1 m) grazing hrs: 76.52\n",
      "Grid (30 m) grazing hrs: 65.26\n",
      "Pasture: 31E (train)\n",
      "  3769_D2_2016\n"
     ]
    },
    {
     "name": "stderr",
     "output_type": "stream",
     "text": [
      "distributed.utils_perf - WARNING - full garbage collections took 19% CPU time recently (threshold: 10%)\n",
      "distributed.utils_perf - WARNING - full garbage collections took 19% CPU time recently (threshold: 10%)\n",
      "distributed.utils_perf - WARNING - full garbage collections took 25% CPU time recently (threshold: 10%)\n",
      "distributed.utils_perf - WARNING - full garbage collections took 25% CPU time recently (threshold: 10%)\n",
      "distributed.utils_perf - WARNING - full garbage collections took 25% CPU time recently (threshold: 10%)\n",
      "distributed.utils_perf - WARNING - full garbage collections took 26% CPU time recently (threshold: 10%)\n",
      "distributed.utils_perf - WARNING - full garbage collections took 26% CPU time recently (threshold: 10%)\n",
      "distributed.utils_perf - WARNING - full garbage collections took 25% CPU time recently (threshold: 10%)\n",
      "distributed.utils_perf - WARNING - full garbage collections took 25% CPU time recently (threshold: 10%)\n",
      "distributed.utils_perf - WARNING - full garbage collections took 24% CPU time recently (threshold: 10%)\n",
      "distributed.utils_perf - WARNING - full garbage collections took 24% CPU time recently (threshold: 10%)\n",
      "distributed.utils_perf - WARNING - full garbage collections took 24% CPU time recently (threshold: 10%)\n",
      "distributed.utils_perf - WARNING - full garbage collections took 25% CPU time recently (threshold: 10%)\n"
     ]
    },
    {
     "name": "stdout",
     "output_type": "stream",
     "text": [
      "GPS grazing hrs: 71.6\n",
      "Grid (1 m) grazing hrs: 71.52\n",
      "Grid (30 m) grazing hrs: 65.8\n",
      "  4598_D2_2016\n"
     ]
    },
    {
     "name": "stderr",
     "output_type": "stream",
     "text": [
      "distributed.utils_perf - WARNING - full garbage collections took 20% CPU time recently (threshold: 10%)\n",
      "distributed.utils_perf - WARNING - full garbage collections took 20% CPU time recently (threshold: 10%)\n",
      "distributed.utils_perf - WARNING - full garbage collections took 20% CPU time recently (threshold: 10%)\n",
      "distributed.utils_perf - WARNING - full garbage collections took 20% CPU time recently (threshold: 10%)\n",
      "distributed.utils_perf - WARNING - full garbage collections took 20% CPU time recently (threshold: 10%)\n",
      "distributed.utils_perf - WARNING - full garbage collections took 28% CPU time recently (threshold: 10%)\n",
      "distributed.utils_perf - WARNING - full garbage collections took 28% CPU time recently (threshold: 10%)\n",
      "distributed.utils_perf - WARNING - full garbage collections took 28% CPU time recently (threshold: 10%)\n",
      "distributed.utils_perf - WARNING - full garbage collections took 27% CPU time recently (threshold: 10%)\n",
      "distributed.utils_perf - WARNING - full garbage collections took 27% CPU time recently (threshold: 10%)\n",
      "distributed.utils_perf - WARNING - full garbage collections took 26% CPU time recently (threshold: 10%)\n"
     ]
    },
    {
     "name": "stdout",
     "output_type": "stream",
     "text": [
      "GPS grazing hrs: 61.62\n",
      "Grid (1 m) grazing hrs: 61.7\n",
      "Grid (30 m) grazing hrs: 58.43\n",
      "Pasture: 24W (test)\n",
      "  3770_D2_2016\n"
     ]
    },
    {
     "name": "stderr",
     "output_type": "stream",
     "text": [
      "distributed.utils_perf - WARNING - full garbage collections took 19% CPU time recently (threshold: 10%)\n",
      "distributed.utils_perf - WARNING - full garbage collections took 20% CPU time recently (threshold: 10%)\n",
      "distributed.utils_perf - WARNING - full garbage collections took 20% CPU time recently (threshold: 10%)\n",
      "distributed.utils_perf - WARNING - full garbage collections took 19% CPU time recently (threshold: 10%)\n",
      "distributed.utils_perf - WARNING - full garbage collections took 20% CPU time recently (threshold: 10%)\n",
      "distributed.utils_perf - WARNING - full garbage collections took 20% CPU time recently (threshold: 10%)\n",
      "distributed.utils_perf - WARNING - full garbage collections took 28% CPU time recently (threshold: 10%)\n",
      "distributed.utils_perf - WARNING - full garbage collections took 29% CPU time recently (threshold: 10%)\n",
      "distributed.utils_perf - WARNING - full garbage collections took 29% CPU time recently (threshold: 10%)\n",
      "distributed.utils_perf - WARNING - full garbage collections took 29% CPU time recently (threshold: 10%)\n",
      "distributed.utils_perf - WARNING - full garbage collections took 29% CPU time recently (threshold: 10%)\n",
      "distributed.utils_perf - WARNING - full garbage collections took 29% CPU time recently (threshold: 10%)\n",
      "distributed.utils_perf - WARNING - full garbage collections took 29% CPU time recently (threshold: 10%)\n"
     ]
    },
    {
     "name": "stdout",
     "output_type": "stream",
     "text": [
      "GPS grazing hrs: 71.07\n",
      "Grid (1 m) grazing hrs: 71.13\n",
      "Grid (30 m) grazing hrs: 58.71\n",
      "Pasture: 15E (train)\n",
      "  3772_D2_2016\n"
     ]
    },
    {
     "name": "stderr",
     "output_type": "stream",
     "text": [
      "distributed.utils_perf - WARNING - full garbage collections took 22% CPU time recently (threshold: 10%)\n",
      "distributed.utils_perf - WARNING - full garbage collections took 22% CPU time recently (threshold: 10%)\n",
      "distributed.utils_perf - WARNING - full garbage collections took 22% CPU time recently (threshold: 10%)\n",
      "distributed.utils_perf - WARNING - full garbage collections took 22% CPU time recently (threshold: 10%)\n",
      "distributed.utils_perf - WARNING - full garbage collections took 22% CPU time recently (threshold: 10%)\n",
      "distributed.utils_perf - WARNING - full garbage collections took 22% CPU time recently (threshold: 10%)\n",
      "distributed.utils_perf - WARNING - full garbage collections took 29% CPU time recently (threshold: 10%)\n",
      "distributed.utils_perf - WARNING - full garbage collections took 29% CPU time recently (threshold: 10%)\n",
      "distributed.utils_perf - WARNING - full garbage collections took 29% CPU time recently (threshold: 10%)\n",
      "distributed.utils_perf - WARNING - full garbage collections took 29% CPU time recently (threshold: 10%)\n",
      "distributed.utils_perf - WARNING - full garbage collections took 25% CPU time recently (threshold: 10%)\n"
     ]
    },
    {
     "name": "stdout",
     "output_type": "stream",
     "text": [
      "GPS grazing hrs: 63.96\n",
      "Grid (1 m) grazing hrs: 63.96\n",
      "Grid (30 m) grazing hrs: 55.74\n",
      "Pasture: 26E (train)\n",
      "  3775_D2_2016\n"
     ]
    },
    {
     "name": "stderr",
     "output_type": "stream",
     "text": [
      "distributed.utils_perf - WARNING - full garbage collections took 21% CPU time recently (threshold: 10%)\n",
      "distributed.utils_perf - WARNING - full garbage collections took 21% CPU time recently (threshold: 10%)\n",
      "distributed.utils_perf - WARNING - full garbage collections took 21% CPU time recently (threshold: 10%)\n",
      "distributed.utils_perf - WARNING - full garbage collections took 21% CPU time recently (threshold: 10%)\n",
      "distributed.utils_perf - WARNING - full garbage collections took 21% CPU time recently (threshold: 10%)\n",
      "distributed.utils_perf - WARNING - full garbage collections took 22% CPU time recently (threshold: 10%)\n",
      "distributed.utils_perf - WARNING - full garbage collections took 29% CPU time recently (threshold: 10%)\n",
      "distributed.utils_perf - WARNING - full garbage collections took 29% CPU time recently (threshold: 10%)\n",
      "distributed.utils_perf - WARNING - full garbage collections took 29% CPU time recently (threshold: 10%)\n",
      "distributed.utils_perf - WARNING - full garbage collections took 29% CPU time recently (threshold: 10%)\n",
      "distributed.utils_perf - WARNING - full garbage collections took 29% CPU time recently (threshold: 10%)\n",
      "distributed.utils_perf - WARNING - full garbage collections took 29% CPU time recently (threshold: 10%)\n",
      "distributed.utils_perf - WARNING - full garbage collections took 25% CPU time recently (threshold: 10%)\n"
     ]
    },
    {
     "name": "stdout",
     "output_type": "stream",
     "text": [
      "GPS grazing hrs: 81.12\n",
      "Grid (1 m) grazing hrs: 81.24\n",
      "Grid (30 m) grazing hrs: 69.72\n",
      "Pasture: 25SE (test)\n",
      "  3776_D2_2016\n"
     ]
    },
    {
     "name": "stderr",
     "output_type": "stream",
     "text": [
      "distributed.utils_perf - WARNING - full garbage collections took 21% CPU time recently (threshold: 10%)\n",
      "distributed.utils_perf - WARNING - full garbage collections took 21% CPU time recently (threshold: 10%)\n",
      "distributed.utils_perf - WARNING - full garbage collections took 21% CPU time recently (threshold: 10%)\n",
      "distributed.utils_perf - WARNING - full garbage collections took 21% CPU time recently (threshold: 10%)\n",
      "distributed.utils_perf - WARNING - full garbage collections took 21% CPU time recently (threshold: 10%)\n",
      "distributed.utils_perf - WARNING - full garbage collections took 21% CPU time recently (threshold: 10%)\n",
      "distributed.utils_perf - WARNING - full garbage collections took 28% CPU time recently (threshold: 10%)\n",
      "distributed.utils_perf - WARNING - full garbage collections took 28% CPU time recently (threshold: 10%)\n",
      "distributed.utils_perf - WARNING - full garbage collections took 29% CPU time recently (threshold: 10%)\n",
      "distributed.utils_perf - WARNING - full garbage collections took 29% CPU time recently (threshold: 10%)\n",
      "distributed.utils_perf - WARNING - full garbage collections took 29% CPU time recently (threshold: 10%)\n",
      "distributed.utils_perf - WARNING - full garbage collections took 29% CPU time recently (threshold: 10%)\n",
      "distributed.utils_perf - WARNING - full garbage collections took 29% CPU time recently (threshold: 10%)\n",
      "distributed.utils_perf - WARNING - full garbage collections took 29% CPU time recently (threshold: 10%)\n",
      "distributed.utils_perf - WARNING - full garbage collections took 29% CPU time recently (threshold: 10%)\n"
     ]
    },
    {
     "name": "stdout",
     "output_type": "stream",
     "text": [
      "GPS grazing hrs: 72.6\n",
      "Grid (1 m) grazing hrs: 72.64\n",
      "Grid (30 m) grazing hrs: 65.24\n",
      "  3778_D2_2016\n"
     ]
    },
    {
     "name": "stderr",
     "output_type": "stream",
     "text": [
      "distributed.utils_perf - WARNING - full garbage collections took 20% CPU time recently (threshold: 10%)\n",
      "distributed.utils_perf - WARNING - full garbage collections took 23% CPU time recently (threshold: 10%)\n",
      "distributed.utils_perf - WARNING - full garbage collections took 27% CPU time recently (threshold: 10%)\n",
      "distributed.utils_perf - WARNING - full garbage collections took 28% CPU time recently (threshold: 10%)\n",
      "distributed.utils_perf - WARNING - full garbage collections took 28% CPU time recently (threshold: 10%)\n",
      "distributed.utils_perf - WARNING - full garbage collections took 28% CPU time recently (threshold: 10%)\n",
      "distributed.utils_perf - WARNING - full garbage collections took 28% CPU time recently (threshold: 10%)\n",
      "distributed.utils_perf - WARNING - full garbage collections took 28% CPU time recently (threshold: 10%)\n",
      "distributed.utils_perf - WARNING - full garbage collections took 28% CPU time recently (threshold: 10%)\n",
      "distributed.utils_perf - WARNING - full garbage collections took 27% CPU time recently (threshold: 10%)\n",
      "distributed.utils_perf - WARNING - full garbage collections took 28% CPU time recently (threshold: 10%)\n",
      "distributed.utils_perf - WARNING - full garbage collections took 28% CPU time recently (threshold: 10%)\n"
     ]
    },
    {
     "name": "stdout",
     "output_type": "stream",
     "text": [
      "GPS grazing hrs: 65.41\n",
      "Grid (1 m) grazing hrs: 65.34\n",
      "Grid (30 m) grazing hrs: 58.57\n",
      "-------------Week starting: Aug 07 (32) -------------\n",
      "Pasture: 5E (test)\n",
      "  2285_D2_2016\n"
     ]
    },
    {
     "name": "stderr",
     "output_type": "stream",
     "text": [
      "distributed.utils_perf - WARNING - full garbage collections took 20% CPU time recently (threshold: 10%)\n",
      "distributed.utils_perf - WARNING - full garbage collections took 20% CPU time recently (threshold: 10%)\n",
      "distributed.utils_perf - WARNING - full garbage collections took 22% CPU time recently (threshold: 10%)\n",
      "distributed.utils_perf - WARNING - full garbage collections took 25% CPU time recently (threshold: 10%)\n",
      "distributed.utils_perf - WARNING - full garbage collections took 26% CPU time recently (threshold: 10%)\n",
      "distributed.utils_perf - WARNING - full garbage collections took 26% CPU time recently (threshold: 10%)\n",
      "distributed.utils_perf - WARNING - full garbage collections took 26% CPU time recently (threshold: 10%)\n",
      "distributed.utils_perf - WARNING - full garbage collections took 26% CPU time recently (threshold: 10%)\n",
      "distributed.utils_perf - WARNING - full garbage collections took 25% CPU time recently (threshold: 10%)\n",
      "distributed.utils_perf - WARNING - full garbage collections took 25% CPU time recently (threshold: 10%)\n",
      "distributed.utils_perf - WARNING - full garbage collections took 25% CPU time recently (threshold: 10%)\n"
     ]
    },
    {
     "name": "stdout",
     "output_type": "stream",
     "text": [
      "GPS grazing hrs: 72.65\n",
      "Grid (1 m) grazing hrs: 72.63\n",
      "Grid (30 m) grazing hrs: 63.75\n",
      "  2286_D2_2016\n"
     ]
    },
    {
     "name": "stderr",
     "output_type": "stream",
     "text": [
      "distributed.utils_perf - WARNING - full garbage collections took 19% CPU time recently (threshold: 10%)\n",
      "distributed.utils_perf - WARNING - full garbage collections took 19% CPU time recently (threshold: 10%)\n",
      "distributed.utils_perf - WARNING - full garbage collections took 19% CPU time recently (threshold: 10%)\n",
      "distributed.utils_perf - WARNING - full garbage collections took 19% CPU time recently (threshold: 10%)\n",
      "distributed.utils_perf - WARNING - full garbage collections took 19% CPU time recently (threshold: 10%)\n",
      "distributed.utils_perf - WARNING - full garbage collections took 19% CPU time recently (threshold: 10%)\n",
      "distributed.utils_perf - WARNING - full garbage collections took 19% CPU time recently (threshold: 10%)\n",
      "distributed.utils_perf - WARNING - full garbage collections took 27% CPU time recently (threshold: 10%)\n",
      "distributed.utils_perf - WARNING - full garbage collections took 27% CPU time recently (threshold: 10%)\n",
      "distributed.utils_perf - WARNING - full garbage collections took 27% CPU time recently (threshold: 10%)\n"
     ]
    },
    {
     "name": "stdout",
     "output_type": "stream",
     "text": [
      "GPS grazing hrs: 65.69\n",
      "Grid (1 m) grazing hrs: 65.97\n",
      "Grid (30 m) grazing hrs: 62.18\n",
      "  3772_D2_2016\n",
      "    SKIPPING STEER: All points masked.\n",
      "Pasture: 7NW (train)\n",
      "  2287_D2_2016\n"
     ]
    },
    {
     "name": "stderr",
     "output_type": "stream",
     "text": [
      "distributed.utils_perf - WARNING - full garbage collections took 20% CPU time recently (threshold: 10%)\n",
      "distributed.utils_perf - WARNING - full garbage collections took 20% CPU time recently (threshold: 10%)\n",
      "distributed.utils_perf - WARNING - full garbage collections took 19% CPU time recently (threshold: 10%)\n",
      "distributed.utils_perf - WARNING - full garbage collections took 19% CPU time recently (threshold: 10%)\n",
      "distributed.utils_perf - WARNING - full garbage collections took 20% CPU time recently (threshold: 10%)\n",
      "distributed.utils_perf - WARNING - full garbage collections took 20% CPU time recently (threshold: 10%)\n",
      "distributed.utils_perf - WARNING - full garbage collections took 20% CPU time recently (threshold: 10%)\n",
      "distributed.utils_perf - WARNING - full garbage collections took 20% CPU time recently (threshold: 10%)\n",
      "distributed.utils_perf - WARNING - full garbage collections took 21% CPU time recently (threshold: 10%)\n",
      "distributed.utils_perf - WARNING - full garbage collections took 31% CPU time recently (threshold: 10%)\n",
      "distributed.utils_perf - WARNING - full garbage collections took 30% CPU time recently (threshold: 10%)\n",
      "distributed.utils_perf - WARNING - full garbage collections took 30% CPU time recently (threshold: 10%)\n",
      "distributed.utils_perf - WARNING - full garbage collections took 30% CPU time recently (threshold: 10%)\n",
      "distributed.utils_perf - WARNING - full garbage collections took 30% CPU time recently (threshold: 10%)\n",
      "distributed.utils_perf - WARNING - full garbage collections took 30% CPU time recently (threshold: 10%)\n",
      "distributed.utils_perf - WARNING - full garbage collections took 30% CPU time recently (threshold: 10%)\n"
     ]
    },
    {
     "name": "stdout",
     "output_type": "stream",
     "text": [
      "GPS grazing hrs: 72.37\n",
      "Grid (1 m) grazing hrs: 72.4\n",
      "Grid (30 m) grazing hrs: 68.37\n",
      "  2288_D2_2016\n"
     ]
    },
    {
     "name": "stderr",
     "output_type": "stream",
     "text": [
      "distributed.utils_perf - WARNING - full garbage collections took 21% CPU time recently (threshold: 10%)\n",
      "distributed.utils_perf - WARNING - full garbage collections took 20% CPU time recently (threshold: 10%)\n",
      "distributed.utils_perf - WARNING - full garbage collections took 20% CPU time recently (threshold: 10%)\n",
      "distributed.utils_perf - WARNING - full garbage collections took 20% CPU time recently (threshold: 10%)\n",
      "distributed.utils_perf - WARNING - full garbage collections took 26% CPU time recently (threshold: 10%)\n",
      "distributed.utils_perf - WARNING - full garbage collections took 26% CPU time recently (threshold: 10%)\n",
      "distributed.utils_perf - WARNING - full garbage collections took 27% CPU time recently (threshold: 10%)\n",
      "distributed.utils_perf - WARNING - full garbage collections took 27% CPU time recently (threshold: 10%)\n",
      "distributed.utils_perf - WARNING - full garbage collections took 27% CPU time recently (threshold: 10%)\n",
      "distributed.utils_perf - WARNING - full garbage collections took 28% CPU time recently (threshold: 10%)\n",
      "distributed.utils_perf - WARNING - full garbage collections took 27% CPU time recently (threshold: 10%)\n",
      "distributed.utils_perf - WARNING - full garbage collections took 27% CPU time recently (threshold: 10%)\n",
      "distributed.utils_perf - WARNING - full garbage collections took 27% CPU time recently (threshold: 10%)\n",
      "distributed.utils_perf - WARNING - full garbage collections took 27% CPU time recently (threshold: 10%)\n",
      "distributed.utils_perf - WARNING - full garbage collections took 38% CPU time recently (threshold: 10%)\n",
      "distributed.utils_perf - WARNING - full garbage collections took 39% CPU time recently (threshold: 10%)\n",
      "distributed.utils_perf - WARNING - full garbage collections took 39% CPU time recently (threshold: 10%)\n"
     ]
    },
    {
     "name": "stdout",
     "output_type": "stream",
     "text": [
      "GPS grazing hrs: 68.79\n",
      "Grid (1 m) grazing hrs: 69.01\n",
      "Grid (30 m) grazing hrs: 67.52\n",
      "Pasture: 17N (train)\n",
      "  2289_D2_2016\n"
     ]
    },
    {
     "name": "stderr",
     "output_type": "stream",
     "text": [
      "distributed.utils_perf - WARNING - full garbage collections took 25% CPU time recently (threshold: 10%)\n",
      "distributed.utils_perf - WARNING - full garbage collections took 25% CPU time recently (threshold: 10%)\n",
      "distributed.utils_perf - WARNING - full garbage collections took 25% CPU time recently (threshold: 10%)\n",
      "distributed.utils_perf - WARNING - full garbage collections took 25% CPU time recently (threshold: 10%)\n",
      "distributed.utils_perf - WARNING - full garbage collections took 24% CPU time recently (threshold: 10%)\n",
      "distributed.utils_perf - WARNING - full garbage collections took 24% CPU time recently (threshold: 10%)\n",
      "distributed.utils_perf - WARNING - full garbage collections took 24% CPU time recently (threshold: 10%)\n",
      "distributed.utils_perf - WARNING - full garbage collections took 24% CPU time recently (threshold: 10%)\n",
      "distributed.utils_perf - WARNING - full garbage collections took 25% CPU time recently (threshold: 10%)\n",
      "distributed.utils_perf - WARNING - full garbage collections took 25% CPU time recently (threshold: 10%)\n",
      "distributed.utils_perf - WARNING - full garbage collections took 25% CPU time recently (threshold: 10%)\n",
      "distributed.utils_perf - WARNING - full garbage collections took 25% CPU time recently (threshold: 10%)\n"
     ]
    },
    {
     "name": "stdout",
     "output_type": "stream",
     "text": [
      "GPS grazing hrs: 71.88\n",
      "Grid (1 m) grazing hrs: 71.92\n",
      "Grid (30 m) grazing hrs: 59.39\n",
      "  2290_D2_2016\n"
     ]
    },
    {
     "name": "stderr",
     "output_type": "stream",
     "text": [
      "distributed.utils_perf - WARNING - full garbage collections took 20% CPU time recently (threshold: 10%)\n",
      "distributed.utils_perf - WARNING - full garbage collections took 27% CPU time recently (threshold: 10%)\n",
      "distributed.utils_perf - WARNING - full garbage collections took 28% CPU time recently (threshold: 10%)\n",
      "distributed.utils_perf - WARNING - full garbage collections took 28% CPU time recently (threshold: 10%)\n",
      "distributed.utils_perf - WARNING - full garbage collections took 28% CPU time recently (threshold: 10%)\n",
      "distributed.utils_perf - WARNING - full garbage collections took 28% CPU time recently (threshold: 10%)\n",
      "distributed.utils_perf - WARNING - full garbage collections took 28% CPU time recently (threshold: 10%)\n",
      "distributed.utils_perf - WARNING - full garbage collections took 28% CPU time recently (threshold: 10%)\n",
      "distributed.utils_perf - WARNING - full garbage collections took 27% CPU time recently (threshold: 10%)\n",
      "distributed.utils_perf - WARNING - full garbage collections took 27% CPU time recently (threshold: 10%)\n",
      "distributed.utils_perf - WARNING - full garbage collections took 27% CPU time recently (threshold: 10%)\n"
     ]
    },
    {
     "name": "stdout",
     "output_type": "stream",
     "text": [
      "GPS grazing hrs: 65.77\n",
      "Grid (1 m) grazing hrs: 65.87\n",
      "Grid (30 m) grazing hrs: 60.28\n",
      "Pasture: 19N (test)\n",
      "  2291_D2_2016\n"
     ]
    },
    {
     "name": "stderr",
     "output_type": "stream",
     "text": [
      "distributed.utils_perf - WARNING - full garbage collections took 21% CPU time recently (threshold: 10%)\n",
      "distributed.utils_perf - WARNING - full garbage collections took 21% CPU time recently (threshold: 10%)\n",
      "distributed.utils_perf - WARNING - full garbage collections took 21% CPU time recently (threshold: 10%)\n",
      "distributed.utils_perf - WARNING - full garbage collections took 21% CPU time recently (threshold: 10%)\n",
      "distributed.utils_perf - WARNING - full garbage collections took 22% CPU time recently (threshold: 10%)\n",
      "distributed.utils_perf - WARNING - full garbage collections took 22% CPU time recently (threshold: 10%)\n",
      "distributed.utils_perf - WARNING - full garbage collections took 22% CPU time recently (threshold: 10%)\n",
      "distributed.utils_perf - WARNING - full garbage collections took 31% CPU time recently (threshold: 10%)\n",
      "distributed.utils_perf - WARNING - full garbage collections took 31% CPU time recently (threshold: 10%)\n",
      "distributed.utils_perf - WARNING - full garbage collections took 31% CPU time recently (threshold: 10%)\n",
      "distributed.utils_perf - WARNING - full garbage collections took 31% CPU time recently (threshold: 10%)\n"
     ]
    },
    {
     "name": "stdout",
     "output_type": "stream",
     "text": [
      "GPS grazing hrs: 66.65\n",
      "Grid (1 m) grazing hrs: 66.66\n",
      "Grid (30 m) grazing hrs: 55.86\n",
      "  4597_D2_2016\n"
     ]
    },
    {
     "name": "stderr",
     "output_type": "stream",
     "text": [
      "distributed.utils_perf - WARNING - full garbage collections took 24% CPU time recently (threshold: 10%)\n",
      "distributed.utils_perf - WARNING - full garbage collections took 23% CPU time recently (threshold: 10%)\n",
      "distributed.utils_perf - WARNING - full garbage collections took 23% CPU time recently (threshold: 10%)\n",
      "distributed.utils_perf - WARNING - full garbage collections took 23% CPU time recently (threshold: 10%)\n",
      "distributed.utils_perf - WARNING - full garbage collections took 23% CPU time recently (threshold: 10%)\n",
      "distributed.utils_perf - WARNING - full garbage collections took 24% CPU time recently (threshold: 10%)\n",
      "distributed.utils_perf - WARNING - full garbage collections took 24% CPU time recently (threshold: 10%)\n",
      "distributed.utils_perf - WARNING - full garbage collections took 24% CPU time recently (threshold: 10%)\n",
      "distributed.utils_perf - WARNING - full garbage collections took 31% CPU time recently (threshold: 10%)\n",
      "distributed.utils_perf - WARNING - full garbage collections took 31% CPU time recently (threshold: 10%)\n"
     ]
    },
    {
     "name": "stdout",
     "output_type": "stream",
     "text": [
      "GPS grazing hrs: 76.69\n",
      "Grid (1 m) grazing hrs: 76.65\n",
      "Grid (30 m) grazing hrs: 62.48\n",
      "Pasture: 20SE (train)\n",
      "  2293_D2_2016\n"
     ]
    },
    {
     "name": "stderr",
     "output_type": "stream",
     "text": [
      "distributed.utils_perf - WARNING - full garbage collections took 23% CPU time recently (threshold: 10%)\n",
      "distributed.utils_perf - WARNING - full garbage collections took 23% CPU time recently (threshold: 10%)\n",
      "distributed.utils_perf - WARNING - full garbage collections took 22% CPU time recently (threshold: 10%)\n",
      "distributed.utils_perf - WARNING - full garbage collections took 22% CPU time recently (threshold: 10%)\n",
      "distributed.utils_perf - WARNING - full garbage collections took 22% CPU time recently (threshold: 10%)\n",
      "distributed.utils_perf - WARNING - full garbage collections took 23% CPU time recently (threshold: 10%)\n",
      "distributed.utils_perf - WARNING - full garbage collections took 23% CPU time recently (threshold: 10%)\n",
      "distributed.utils_perf - WARNING - full garbage collections took 23% CPU time recently (threshold: 10%)\n",
      "distributed.utils_perf - WARNING - full garbage collections took 24% CPU time recently (threshold: 10%)\n",
      "distributed.utils_perf - WARNING - full garbage collections took 31% CPU time recently (threshold: 10%)\n",
      "distributed.utils_perf - WARNING - full garbage collections took 31% CPU time recently (threshold: 10%)\n",
      "distributed.utils_perf - WARNING - full garbage collections took 31% CPU time recently (threshold: 10%)\n",
      "distributed.utils_perf - WARNING - full garbage collections took 30% CPU time recently (threshold: 10%)\n",
      "distributed.utils_perf - WARNING - full garbage collections took 30% CPU time recently (threshold: 10%)\n",
      "distributed.utils_perf - WARNING - full garbage collections took 30% CPU time recently (threshold: 10%)\n"
     ]
    },
    {
     "name": "stdout",
     "output_type": "stream",
     "text": [
      "GPS grazing hrs: 58.84\n",
      "Grid (1 m) grazing hrs: 58.89\n",
      "Grid (30 m) grazing hrs: 54.22\n",
      "  2294_D2_2016\n"
     ]
    },
    {
     "name": "stderr",
     "output_type": "stream",
     "text": [
      "distributed.utils_perf - WARNING - full garbage collections took 21% CPU time recently (threshold: 10%)\n",
      "distributed.utils_perf - WARNING - full garbage collections took 21% CPU time recently (threshold: 10%)\n",
      "distributed.utils_perf - WARNING - full garbage collections took 21% CPU time recently (threshold: 10%)\n",
      "distributed.utils_perf - WARNING - full garbage collections took 21% CPU time recently (threshold: 10%)\n",
      "distributed.utils_perf - WARNING - full garbage collections took 21% CPU time recently (threshold: 10%)\n",
      "distributed.utils_perf - WARNING - full garbage collections took 27% CPU time recently (threshold: 10%)\n",
      "distributed.utils_perf - WARNING - full garbage collections took 27% CPU time recently (threshold: 10%)\n",
      "distributed.utils_perf - WARNING - full garbage collections took 27% CPU time recently (threshold: 10%)\n",
      "distributed.utils_perf - WARNING - full garbage collections took 28% CPU time recently (threshold: 10%)\n",
      "distributed.utils_perf - WARNING - full garbage collections took 28% CPU time recently (threshold: 10%)\n",
      "distributed.utils_perf - WARNING - full garbage collections took 27% CPU time recently (threshold: 10%)\n",
      "distributed.utils_perf - WARNING - full garbage collections took 27% CPU time recently (threshold: 10%)\n",
      "distributed.utils_perf - WARNING - full garbage collections took 27% CPU time recently (threshold: 10%)\n",
      "distributed.utils_perf - WARNING - full garbage collections took 27% CPU time recently (threshold: 10%)\n",
      "distributed.utils_perf - WARNING - full garbage collections took 27% CPU time recently (threshold: 10%)\n",
      "distributed.utils_perf - WARNING - full garbage collections took 38% CPU time recently (threshold: 10%)\n"
     ]
    },
    {
     "name": "stdout",
     "output_type": "stream",
     "text": [
      "GPS grazing hrs: 73.62\n",
      "Grid (1 m) grazing hrs: 73.7\n",
      "Grid (30 m) grazing hrs: 68.55\n",
      "Pasture: 31E (train)\n",
      "  3769_D2_2016\n"
     ]
    },
    {
     "name": "stderr",
     "output_type": "stream",
     "text": [
      "distributed.utils_perf - WARNING - full garbage collections took 25% CPU time recently (threshold: 10%)\n",
      "distributed.utils_perf - WARNING - full garbage collections took 25% CPU time recently (threshold: 10%)\n",
      "distributed.utils_perf - WARNING - full garbage collections took 25% CPU time recently (threshold: 10%)\n",
      "distributed.utils_perf - WARNING - full garbage collections took 25% CPU time recently (threshold: 10%)\n",
      "distributed.utils_perf - WARNING - full garbage collections took 25% CPU time recently (threshold: 10%)\n",
      "distributed.utils_perf - WARNING - full garbage collections took 25% CPU time recently (threshold: 10%)\n",
      "distributed.utils_perf - WARNING - full garbage collections took 25% CPU time recently (threshold: 10%)\n",
      "distributed.utils_perf - WARNING - full garbage collections took 25% CPU time recently (threshold: 10%)\n",
      "distributed.utils_perf - WARNING - full garbage collections took 25% CPU time recently (threshold: 10%)\n",
      "distributed.utils_perf - WARNING - full garbage collections took 25% CPU time recently (threshold: 10%)\n",
      "distributed.utils_perf - WARNING - full garbage collections took 25% CPU time recently (threshold: 10%)\n",
      "distributed.utils_perf - WARNING - full garbage collections took 25% CPU time recently (threshold: 10%)\n"
     ]
    },
    {
     "name": "stdout",
     "output_type": "stream",
     "text": [
      "GPS grazing hrs: 71.16\n",
      "Grid (1 m) grazing hrs: 71.21\n",
      "Grid (30 m) grazing hrs: 65.38\n",
      "  4598_D2_2016\n"
     ]
    },
    {
     "name": "stderr",
     "output_type": "stream",
     "text": [
      "distributed.utils_perf - WARNING - full garbage collections took 20% CPU time recently (threshold: 10%)\n",
      "distributed.utils_perf - WARNING - full garbage collections took 20% CPU time recently (threshold: 10%)\n",
      "distributed.utils_perf - WARNING - full garbage collections took 28% CPU time recently (threshold: 10%)\n",
      "distributed.utils_perf - WARNING - full garbage collections took 28% CPU time recently (threshold: 10%)\n",
      "distributed.utils_perf - WARNING - full garbage collections took 28% CPU time recently (threshold: 10%)\n",
      "distributed.utils_perf - WARNING - full garbage collections took 28% CPU time recently (threshold: 10%)\n",
      "distributed.utils_perf - WARNING - full garbage collections took 28% CPU time recently (threshold: 10%)\n",
      "distributed.utils_perf - WARNING - full garbage collections took 28% CPU time recently (threshold: 10%)\n",
      "distributed.utils_perf - WARNING - full garbage collections took 28% CPU time recently (threshold: 10%)\n",
      "distributed.utils_perf - WARNING - full garbage collections took 28% CPU time recently (threshold: 10%)\n",
      "distributed.utils_perf - WARNING - full garbage collections took 27% CPU time recently (threshold: 10%)\n"
     ]
    },
    {
     "name": "stdout",
     "output_type": "stream",
     "text": [
      "GPS grazing hrs: 62.55\n",
      "Grid (1 m) grazing hrs: 62.68\n",
      "Grid (30 m) grazing hrs: 58.17\n",
      "Pasture: 24W (test)\n",
      "  3770_D2_2016\n"
     ]
    },
    {
     "name": "stderr",
     "output_type": "stream",
     "text": [
      "distributed.utils_perf - WARNING - full garbage collections took 21% CPU time recently (threshold: 10%)\n",
      "distributed.utils_perf - WARNING - full garbage collections took 21% CPU time recently (threshold: 10%)\n",
      "distributed.utils_perf - WARNING - full garbage collections took 21% CPU time recently (threshold: 10%)\n",
      "distributed.utils_perf - WARNING - full garbage collections took 21% CPU time recently (threshold: 10%)\n",
      "distributed.utils_perf - WARNING - full garbage collections took 21% CPU time recently (threshold: 10%)\n",
      "distributed.utils_perf - WARNING - full garbage collections took 22% CPU time recently (threshold: 10%)\n",
      "distributed.utils_perf - WARNING - full garbage collections took 22% CPU time recently (threshold: 10%)\n",
      "distributed.utils_perf - WARNING - full garbage collections took 31% CPU time recently (threshold: 10%)\n",
      "distributed.utils_perf - WARNING - full garbage collections took 31% CPU time recently (threshold: 10%)\n",
      "distributed.utils_perf - WARNING - full garbage collections took 31% CPU time recently (threshold: 10%)\n",
      "distributed.utils_perf - WARNING - full garbage collections took 31% CPU time recently (threshold: 10%)\n"
     ]
    },
    {
     "name": "stdout",
     "output_type": "stream",
     "text": [
      "GPS grazing hrs: 70.46\n",
      "Grid (1 m) grazing hrs: 70.44\n",
      "Grid (30 m) grazing hrs: 65.94\n",
      "Pasture: 15E (train)\n",
      "  3772_D2_2016\n"
     ]
    },
    {
     "name": "stderr",
     "output_type": "stream",
     "text": [
      "distributed.utils_perf - WARNING - full garbage collections took 23% CPU time recently (threshold: 10%)\n",
      "distributed.utils_perf - WARNING - full garbage collections took 23% CPU time recently (threshold: 10%)\n",
      "distributed.utils_perf - WARNING - full garbage collections took 23% CPU time recently (threshold: 10%)\n",
      "distributed.utils_perf - WARNING - full garbage collections took 23% CPU time recently (threshold: 10%)\n",
      "distributed.utils_perf - WARNING - full garbage collections took 23% CPU time recently (threshold: 10%)\n",
      "distributed.utils_perf - WARNING - full garbage collections took 23% CPU time recently (threshold: 10%)\n",
      "distributed.utils_perf - WARNING - full garbage collections took 23% CPU time recently (threshold: 10%)\n",
      "distributed.utils_perf - WARNING - full garbage collections took 23% CPU time recently (threshold: 10%)\n",
      "distributed.utils_perf - WARNING - full garbage collections took 31% CPU time recently (threshold: 10%)\n",
      "distributed.utils_perf - WARNING - full garbage collections took 31% CPU time recently (threshold: 10%)\n"
     ]
    },
    {
     "name": "stdout",
     "output_type": "stream",
     "text": [
      "GPS grazing hrs: 63.0\n",
      "Grid (1 m) grazing hrs: 63.13\n",
      "Grid (30 m) grazing hrs: 55.56\n",
      "Pasture: 26E (train)\n",
      "  3775_D2_2016\n"
     ]
    },
    {
     "name": "stderr",
     "output_type": "stream",
     "text": [
      "distributed.utils_perf - WARNING - full garbage collections took 23% CPU time recently (threshold: 10%)\n",
      "distributed.utils_perf - WARNING - full garbage collections took 23% CPU time recently (threshold: 10%)\n",
      "distributed.utils_perf - WARNING - full garbage collections took 22% CPU time recently (threshold: 10%)\n",
      "distributed.utils_perf - WARNING - full garbage collections took 22% CPU time recently (threshold: 10%)\n",
      "distributed.utils_perf - WARNING - full garbage collections took 23% CPU time recently (threshold: 10%)\n",
      "distributed.utils_perf - WARNING - full garbage collections took 23% CPU time recently (threshold: 10%)\n",
      "distributed.utils_perf - WARNING - full garbage collections took 23% CPU time recently (threshold: 10%)\n",
      "distributed.utils_perf - WARNING - full garbage collections took 23% CPU time recently (threshold: 10%)\n",
      "distributed.utils_perf - WARNING - full garbage collections took 23% CPU time recently (threshold: 10%)\n",
      "distributed.utils_perf - WARNING - full garbage collections took 30% CPU time recently (threshold: 10%)\n",
      "distributed.utils_perf - WARNING - full garbage collections took 30% CPU time recently (threshold: 10%)\n",
      "distributed.utils_perf - WARNING - full garbage collections took 30% CPU time recently (threshold: 10%)\n"
     ]
    },
    {
     "name": "stdout",
     "output_type": "stream",
     "text": [
      "GPS grazing hrs: 78.33\n",
      "Grid (1 m) grazing hrs: 79.22\n",
      "Grid (30 m) grazing hrs: 68.96\n",
      "Pasture: 25SE (test)\n",
      "  3776_D2_2016\n"
     ]
    },
    {
     "name": "stderr",
     "output_type": "stream",
     "text": [
      "distributed.utils_perf - WARNING - full garbage collections took 23% CPU time recently (threshold: 10%)\n",
      "distributed.utils_perf - WARNING - full garbage collections took 23% CPU time recently (threshold: 10%)\n",
      "distributed.utils_perf - WARNING - full garbage collections took 22% CPU time recently (threshold: 10%)\n",
      "distributed.utils_perf - WARNING - full garbage collections took 22% CPU time recently (threshold: 10%)\n",
      "distributed.utils_perf - WARNING - full garbage collections took 22% CPU time recently (threshold: 10%)\n",
      "distributed.utils_perf - WARNING - full garbage collections took 23% CPU time recently (threshold: 10%)\n",
      "distributed.utils_perf - WARNING - full garbage collections took 23% CPU time recently (threshold: 10%)\n",
      "distributed.utils_perf - WARNING - full garbage collections took 23% CPU time recently (threshold: 10%)\n",
      "distributed.utils_perf - WARNING - full garbage collections took 31% CPU time recently (threshold: 10%)\n",
      "distributed.utils_perf - WARNING - full garbage collections took 31% CPU time recently (threshold: 10%)\n",
      "distributed.utils_perf - WARNING - full garbage collections took 31% CPU time recently (threshold: 10%)\n",
      "distributed.utils_perf - WARNING - full garbage collections took 30% CPU time recently (threshold: 10%)\n",
      "distributed.utils_perf - WARNING - full garbage collections took 30% CPU time recently (threshold: 10%)\n",
      "distributed.utils_perf - WARNING - full garbage collections took 30% CPU time recently (threshold: 10%)\n"
     ]
    },
    {
     "name": "stdout",
     "output_type": "stream",
     "text": [
      "GPS grazing hrs: 70.63\n",
      "Grid (1 m) grazing hrs: 70.63\n",
      "Grid (30 m) grazing hrs: 65.35\n",
      "  3778_D2_2016\n"
     ]
    },
    {
     "name": "stderr",
     "output_type": "stream",
     "text": [
      "distributed.utils_perf - WARNING - full garbage collections took 21% CPU time recently (threshold: 10%)\n",
      "distributed.utils_perf - WARNING - full garbage collections took 21% CPU time recently (threshold: 10%)\n",
      "distributed.utils_perf - WARNING - full garbage collections took 21% CPU time recently (threshold: 10%)\n",
      "distributed.utils_perf - WARNING - full garbage collections took 21% CPU time recently (threshold: 10%)\n",
      "distributed.utils_perf - WARNING - full garbage collections took 27% CPU time recently (threshold: 10%)\n",
      "distributed.utils_perf - WARNING - full garbage collections took 27% CPU time recently (threshold: 10%)\n",
      "distributed.utils_perf - WARNING - full garbage collections took 28% CPU time recently (threshold: 10%)\n",
      "distributed.utils_perf - WARNING - full garbage collections took 28% CPU time recently (threshold: 10%)\n",
      "distributed.utils_perf - WARNING - full garbage collections took 28% CPU time recently (threshold: 10%)\n",
      "distributed.utils_perf - WARNING - full garbage collections took 28% CPU time recently (threshold: 10%)\n",
      "distributed.utils_perf - WARNING - full garbage collections took 28% CPU time recently (threshold: 10%)\n",
      "distributed.utils_perf - WARNING - full garbage collections took 28% CPU time recently (threshold: 10%)\n",
      "distributed.utils_perf - WARNING - full garbage collections took 28% CPU time recently (threshold: 10%)\n",
      "distributed.utils_perf - WARNING - full garbage collections took 28% CPU time recently (threshold: 10%)\n",
      "distributed.utils_perf - WARNING - full garbage collections took 28% CPU time recently (threshold: 10%)\n",
      "distributed.utils_perf - WARNING - full garbage collections took 28% CPU time recently (threshold: 10%)\n"
     ]
    },
    {
     "name": "stdout",
     "output_type": "stream",
     "text": [
      "GPS grazing hrs: 62.12\n",
      "Grid (1 m) grazing hrs: 62.05\n",
      "Grid (30 m) grazing hrs: 56.61\n",
      "-------------Week starting: Aug 14 (33) -------------\n",
      "Pasture: 5E (test)\n",
      "  2285_D2_2016\n"
     ]
    },
    {
     "name": "stderr",
     "output_type": "stream",
     "text": [
      "distributed.utils_perf - WARNING - full garbage collections took 25% CPU time recently (threshold: 10%)\n",
      "distributed.utils_perf - WARNING - full garbage collections took 25% CPU time recently (threshold: 10%)\n",
      "distributed.utils_perf - WARNING - full garbage collections took 25% CPU time recently (threshold: 10%)\n",
      "distributed.utils_perf - WARNING - full garbage collections took 25% CPU time recently (threshold: 10%)\n",
      "distributed.utils_perf - WARNING - full garbage collections took 25% CPU time recently (threshold: 10%)\n",
      "distributed.utils_perf - WARNING - full garbage collections took 25% CPU time recently (threshold: 10%)\n",
      "distributed.utils_perf - WARNING - full garbage collections took 25% CPU time recently (threshold: 10%)\n",
      "distributed.utils_perf - WARNING - full garbage collections took 24% CPU time recently (threshold: 10%)\n",
      "distributed.utils_perf - WARNING - full garbage collections took 24% CPU time recently (threshold: 10%)\n",
      "distributed.utils_perf - WARNING - full garbage collections took 24% CPU time recently (threshold: 10%)\n",
      "distributed.utils_perf - WARNING - full garbage collections took 25% CPU time recently (threshold: 10%)\n"
     ]
    },
    {
     "name": "stdout",
     "output_type": "stream",
     "text": [
      "GPS grazing hrs: 73.05\n",
      "Grid (1 m) grazing hrs: 73.09\n",
      "Grid (30 m) grazing hrs: 67.36\n",
      "  2286_D2_2016\n"
     ]
    },
    {
     "name": "stderr",
     "output_type": "stream",
     "text": [
      "distributed.utils_perf - WARNING - full garbage collections took 19% CPU time recently (threshold: 10%)\n",
      "distributed.utils_perf - WARNING - full garbage collections took 20% CPU time recently (threshold: 10%)\n",
      "distributed.utils_perf - WARNING - full garbage collections took 20% CPU time recently (threshold: 10%)\n",
      "distributed.utils_perf - WARNING - full garbage collections took 27% CPU time recently (threshold: 10%)\n",
      "distributed.utils_perf - WARNING - full garbage collections took 28% CPU time recently (threshold: 10%)\n",
      "distributed.utils_perf - WARNING - full garbage collections took 28% CPU time recently (threshold: 10%)\n",
      "distributed.utils_perf - WARNING - full garbage collections took 28% CPU time recently (threshold: 10%)\n",
      "distributed.utils_perf - WARNING - full garbage collections took 28% CPU time recently (threshold: 10%)\n",
      "distributed.utils_perf - WARNING - full garbage collections took 28% CPU time recently (threshold: 10%)\n",
      "distributed.utils_perf - WARNING - full garbage collections took 28% CPU time recently (threshold: 10%)\n"
     ]
    },
    {
     "name": "stdout",
     "output_type": "stream",
     "text": [
      "GPS grazing hrs: 67.82\n",
      "Grid (1 m) grazing hrs: 67.85\n",
      "Grid (30 m) grazing hrs: 65.52\n",
      "  3772_D2_2016\n",
      "    SKIPPING STEER: All points masked.\n",
      "Pasture: 7NW (train)\n",
      "  2287_D2_2016\n"
     ]
    },
    {
     "name": "stderr",
     "output_type": "stream",
     "text": [
      "distributed.utils_perf - WARNING - full garbage collections took 21% CPU time recently (threshold: 10%)\n",
      "distributed.utils_perf - WARNING - full garbage collections took 20% CPU time recently (threshold: 10%)\n",
      "distributed.utils_perf - WARNING - full garbage collections took 20% CPU time recently (threshold: 10%)\n",
      "distributed.utils_perf - WARNING - full garbage collections took 21% CPU time recently (threshold: 10%)\n",
      "distributed.utils_perf - WARNING - full garbage collections took 21% CPU time recently (threshold: 10%)\n",
      "distributed.utils_perf - WARNING - full garbage collections took 21% CPU time recently (threshold: 10%)\n",
      "distributed.utils_perf - WARNING - full garbage collections took 21% CPU time recently (threshold: 10%)\n",
      "distributed.utils_perf - WARNING - full garbage collections took 21% CPU time recently (threshold: 10%)\n",
      "distributed.utils_perf - WARNING - full garbage collections took 22% CPU time recently (threshold: 10%)\n",
      "distributed.utils_perf - WARNING - full garbage collections took 31% CPU time recently (threshold: 10%)\n",
      "distributed.utils_perf - WARNING - full garbage collections took 30% CPU time recently (threshold: 10%)\n",
      "distributed.utils_perf - WARNING - full garbage collections took 30% CPU time recently (threshold: 10%)\n",
      "distributed.utils_perf - WARNING - full garbage collections took 30% CPU time recently (threshold: 10%)\n",
      "distributed.utils_perf - WARNING - full garbage collections took 30% CPU time recently (threshold: 10%)\n",
      "distributed.utils_perf - WARNING - full garbage collections took 30% CPU time recently (threshold: 10%)\n",
      "distributed.utils_perf - WARNING - full garbage collections took 30% CPU time recently (threshold: 10%)\n",
      "distributed.utils_perf - WARNING - full garbage collections took 30% CPU time recently (threshold: 10%)\n"
     ]
    },
    {
     "name": "stdout",
     "output_type": "stream",
     "text": [
      "GPS grazing hrs: 75.73\n",
      "Grid (1 m) grazing hrs: 75.82\n",
      "Grid (30 m) grazing hrs: 70.72\n",
      "  2288_D2_2016\n"
     ]
    },
    {
     "name": "stderr",
     "output_type": "stream",
     "text": [
      "distributed.utils_perf - WARNING - full garbage collections took 21% CPU time recently (threshold: 10%)\n",
      "distributed.utils_perf - WARNING - full garbage collections took 21% CPU time recently (threshold: 10%)\n",
      "distributed.utils_perf - WARNING - full garbage collections took 21% CPU time recently (threshold: 10%)\n",
      "distributed.utils_perf - WARNING - full garbage collections took 27% CPU time recently (threshold: 10%)\n",
      "distributed.utils_perf - WARNING - full garbage collections took 27% CPU time recently (threshold: 10%)\n",
      "distributed.utils_perf - WARNING - full garbage collections took 27% CPU time recently (threshold: 10%)\n",
      "distributed.utils_perf - WARNING - full garbage collections took 27% CPU time recently (threshold: 10%)\n",
      "distributed.utils_perf - WARNING - full garbage collections took 27% CPU time recently (threshold: 10%)\n",
      "distributed.utils_perf - WARNING - full garbage collections took 27% CPU time recently (threshold: 10%)\n",
      "distributed.utils_perf - WARNING - full garbage collections took 28% CPU time recently (threshold: 10%)\n",
      "distributed.utils_perf - WARNING - full garbage collections took 28% CPU time recently (threshold: 10%)\n",
      "distributed.utils_perf - WARNING - full garbage collections took 27% CPU time recently (threshold: 10%)\n",
      "distributed.utils_perf - WARNING - full garbage collections took 27% CPU time recently (threshold: 10%)\n",
      "distributed.utils_perf - WARNING - full garbage collections took 39% CPU time recently (threshold: 10%)\n"
     ]
    },
    {
     "name": "stdout",
     "output_type": "stream",
     "text": [
      "GPS grazing hrs: 67.37\n",
      "Grid (1 m) grazing hrs: 67.49\n",
      "Grid (30 m) grazing hrs: 66.42\n",
      "Pasture: 17N (train)\n",
      "  2289_D2_2016\n"
     ]
    },
    {
     "name": "stderr",
     "output_type": "stream",
     "text": [
      "distributed.utils_perf - WARNING - full garbage collections took 26% CPU time recently (threshold: 10%)\n",
      "distributed.utils_perf - WARNING - full garbage collections took 26% CPU time recently (threshold: 10%)\n",
      "distributed.utils_perf - WARNING - full garbage collections took 26% CPU time recently (threshold: 10%)\n",
      "distributed.utils_perf - WARNING - full garbage collections took 26% CPU time recently (threshold: 10%)\n",
      "distributed.utils_perf - WARNING - full garbage collections took 26% CPU time recently (threshold: 10%)\n",
      "distributed.utils_perf - WARNING - full garbage collections took 26% CPU time recently (threshold: 10%)\n",
      "distributed.utils_perf - WARNING - full garbage collections took 26% CPU time recently (threshold: 10%)\n",
      "distributed.utils_perf - WARNING - full garbage collections took 26% CPU time recently (threshold: 10%)\n",
      "distributed.utils_perf - WARNING - full garbage collections took 25% CPU time recently (threshold: 10%)\n",
      "distributed.utils_perf - WARNING - full garbage collections took 25% CPU time recently (threshold: 10%)\n",
      "distributed.utils_perf - WARNING - full garbage collections took 26% CPU time recently (threshold: 10%)\n",
      "distributed.utils_perf - WARNING - full garbage collections took 26% CPU time recently (threshold: 10%)\n",
      "distributed.utils_perf - WARNING - full garbage collections took 26% CPU time recently (threshold: 10%)\n"
     ]
    },
    {
     "name": "stdout",
     "output_type": "stream",
     "text": [
      "GPS grazing hrs: 71.89\n",
      "Grid (1 m) grazing hrs: 71.84\n",
      "Grid (30 m) grazing hrs: 64.94\n",
      "  2290_D2_2016\n"
     ]
    },
    {
     "name": "stderr",
     "output_type": "stream",
     "text": [
      "distributed.utils_perf - WARNING - full garbage collections took 20% CPU time recently (threshold: 10%)\n",
      "distributed.utils_perf - WARNING - full garbage collections took 20% CPU time recently (threshold: 10%)\n",
      "distributed.utils_perf - WARNING - full garbage collections took 20% CPU time recently (threshold: 10%)\n",
      "distributed.utils_perf - WARNING - full garbage collections took 29% CPU time recently (threshold: 10%)\n",
      "distributed.utils_perf - WARNING - full garbage collections took 29% CPU time recently (threshold: 10%)\n",
      "distributed.utils_perf - WARNING - full garbage collections took 29% CPU time recently (threshold: 10%)\n",
      "distributed.utils_perf - WARNING - full garbage collections took 29% CPU time recently (threshold: 10%)\n",
      "distributed.utils_perf - WARNING - full garbage collections took 29% CPU time recently (threshold: 10%)\n",
      "distributed.utils_perf - WARNING - full garbage collections took 29% CPU time recently (threshold: 10%)\n",
      "distributed.utils_perf - WARNING - full garbage collections took 29% CPU time recently (threshold: 10%)\n"
     ]
    },
    {
     "name": "stdout",
     "output_type": "stream",
     "text": [
      "GPS grazing hrs: 64.69\n",
      "Grid (1 m) grazing hrs: 64.68\n",
      "Grid (30 m) grazing hrs: 61.0\n",
      "Pasture: 19N (test)\n",
      "  2291_D2_2016\n"
     ]
    },
    {
     "name": "stderr",
     "output_type": "stream",
     "text": [
      "distributed.utils_perf - WARNING - full garbage collections took 22% CPU time recently (threshold: 10%)\n",
      "distributed.utils_perf - WARNING - full garbage collections took 21% CPU time recently (threshold: 10%)\n",
      "distributed.utils_perf - WARNING - full garbage collections took 21% CPU time recently (threshold: 10%)\n",
      "distributed.utils_perf - WARNING - full garbage collections took 21% CPU time recently (threshold: 10%)\n",
      "distributed.utils_perf - WARNING - full garbage collections took 22% CPU time recently (threshold: 10%)\n",
      "distributed.utils_perf - WARNING - full garbage collections took 22% CPU time recently (threshold: 10%)\n",
      "distributed.utils_perf - WARNING - full garbage collections took 22% CPU time recently (threshold: 10%)\n",
      "distributed.utils_perf - WARNING - full garbage collections took 30% CPU time recently (threshold: 10%)\n",
      "distributed.utils_perf - WARNING - full garbage collections took 31% CPU time recently (threshold: 10%)\n",
      "distributed.utils_perf - WARNING - full garbage collections took 30% CPU time recently (threshold: 10%)\n",
      "distributed.utils_perf - WARNING - full garbage collections took 30% CPU time recently (threshold: 10%)\n",
      "distributed.utils_perf - WARNING - full garbage collections took 30% CPU time recently (threshold: 10%)\n",
      "distributed.utils_perf - WARNING - full garbage collections took 30% CPU time recently (threshold: 10%)\n"
     ]
    },
    {
     "name": "stdout",
     "output_type": "stream",
     "text": [
      "GPS grazing hrs: 70.5\n",
      "Grid (1 m) grazing hrs: 70.68\n",
      "Grid (30 m) grazing hrs: 64.71\n",
      "  4597_D2_2016\n"
     ]
    },
    {
     "name": "stderr",
     "output_type": "stream",
     "text": [
      "distributed.utils_perf - WARNING - full garbage collections took 22% CPU time recently (threshold: 10%)\n",
      "distributed.utils_perf - WARNING - full garbage collections took 22% CPU time recently (threshold: 10%)\n",
      "distributed.utils_perf - WARNING - full garbage collections took 23% CPU time recently (threshold: 10%)\n",
      "distributed.utils_perf - WARNING - full garbage collections took 23% CPU time recently (threshold: 10%)\n",
      "distributed.utils_perf - WARNING - full garbage collections took 23% CPU time recently (threshold: 10%)\n",
      "distributed.utils_perf - WARNING - full garbage collections took 23% CPU time recently (threshold: 10%)\n",
      "distributed.utils_perf - WARNING - full garbage collections took 23% CPU time recently (threshold: 10%)\n",
      "distributed.utils_perf - WARNING - full garbage collections took 30% CPU time recently (threshold: 10%)\n",
      "distributed.utils_perf - WARNING - full garbage collections took 30% CPU time recently (threshold: 10%)\n",
      "distributed.utils_perf - WARNING - full garbage collections took 30% CPU time recently (threshold: 10%)\n",
      "distributed.utils_perf - WARNING - full garbage collections took 30% CPU time recently (threshold: 10%)\n",
      "distributed.utils_perf - WARNING - full garbage collections took 30% CPU time recently (threshold: 10%)\n"
     ]
    },
    {
     "name": "stdout",
     "output_type": "stream",
     "text": [
      "GPS grazing hrs: 75.59\n",
      "Grid (1 m) grazing hrs: 75.7\n",
      "Grid (30 m) grazing hrs: 69.76\n",
      "Pasture: 20SE (train)\n",
      "  2293_D2_2016\n"
     ]
    },
    {
     "name": "stderr",
     "output_type": "stream",
     "text": [
      "distributed.utils_perf - WARNING - full garbage collections took 21% CPU time recently (threshold: 10%)\n",
      "distributed.utils_perf - WARNING - full garbage collections took 21% CPU time recently (threshold: 10%)\n",
      "distributed.utils_perf - WARNING - full garbage collections took 22% CPU time recently (threshold: 10%)\n",
      "distributed.utils_perf - WARNING - full garbage collections took 22% CPU time recently (threshold: 10%)\n",
      "distributed.utils_perf - WARNING - full garbage collections took 22% CPU time recently (threshold: 10%)\n",
      "distributed.utils_perf - WARNING - full garbage collections took 29% CPU time recently (threshold: 10%)\n",
      "distributed.utils_perf - WARNING - full garbage collections took 30% CPU time recently (threshold: 10%)\n",
      "distributed.utils_perf - WARNING - full garbage collections took 30% CPU time recently (threshold: 10%)\n",
      "distributed.utils_perf - WARNING - full garbage collections took 30% CPU time recently (threshold: 10%)\n",
      "distributed.utils_perf - WARNING - full garbage collections took 30% CPU time recently (threshold: 10%)\n",
      "distributed.utils_perf - WARNING - full garbage collections took 30% CPU time recently (threshold: 10%)\n",
      "distributed.utils_perf - WARNING - full garbage collections took 30% CPU time recently (threshold: 10%)\n"
     ]
    },
    {
     "name": "stdout",
     "output_type": "stream",
     "text": [
      "GPS grazing hrs: 57.51\n",
      "Grid (1 m) grazing hrs: 57.54\n",
      "Grid (30 m) grazing hrs: 53.92\n",
      "  2294_D2_2016\n"
     ]
    },
    {
     "name": "stderr",
     "output_type": "stream",
     "text": [
      "distributed.utils_perf - WARNING - full garbage collections took 20% CPU time recently (threshold: 10%)\n",
      "distributed.utils_perf - WARNING - full garbage collections took 20% CPU time recently (threshold: 10%)\n",
      "distributed.utils_perf - WARNING - full garbage collections took 20% CPU time recently (threshold: 10%)\n",
      "distributed.utils_perf - WARNING - full garbage collections took 20% CPU time recently (threshold: 10%)\n",
      "distributed.utils_perf - WARNING - full garbage collections took 20% CPU time recently (threshold: 10%)\n",
      "distributed.utils_perf - WARNING - full garbage collections took 20% CPU time recently (threshold: 10%)\n",
      "distributed.utils_perf - WARNING - full garbage collections took 25% CPU time recently (threshold: 10%)\n",
      "distributed.utils_perf - WARNING - full garbage collections took 26% CPU time recently (threshold: 10%)\n",
      "distributed.utils_perf - WARNING - full garbage collections took 26% CPU time recently (threshold: 10%)\n",
      "distributed.utils_perf - WARNING - full garbage collections took 26% CPU time recently (threshold: 10%)\n",
      "distributed.utils_perf - WARNING - full garbage collections took 26% CPU time recently (threshold: 10%)\n",
      "distributed.utils_perf - WARNING - full garbage collections took 26% CPU time recently (threshold: 10%)\n",
      "distributed.utils_perf - WARNING - full garbage collections took 26% CPU time recently (threshold: 10%)\n",
      "distributed.utils_perf - WARNING - full garbage collections took 26% CPU time recently (threshold: 10%)\n"
     ]
    },
    {
     "name": "stdout",
     "output_type": "stream",
     "text": [
      "GPS grazing hrs: 70.85\n",
      "Grid (1 m) grazing hrs: 70.9\n",
      "Grid (30 m) grazing hrs: 65.03\n",
      "Pasture: 31E (train)\n",
      "  3769_D2_2016\n"
     ]
    },
    {
     "name": "stderr",
     "output_type": "stream",
     "text": [
      "distributed.utils_perf - WARNING - full garbage collections took 20% CPU time recently (threshold: 10%)\n",
      "distributed.utils_perf - WARNING - full garbage collections took 20% CPU time recently (threshold: 10%)\n",
      "distributed.utils_perf - WARNING - full garbage collections took 20% CPU time recently (threshold: 10%)\n",
      "distributed.utils_perf - WARNING - full garbage collections took 20% CPU time recently (threshold: 10%)\n",
      "distributed.utils_perf - WARNING - full garbage collections took 25% CPU time recently (threshold: 10%)\n",
      "distributed.utils_perf - WARNING - full garbage collections took 25% CPU time recently (threshold: 10%)\n",
      "distributed.utils_perf - WARNING - full garbage collections took 25% CPU time recently (threshold: 10%)\n",
      "distributed.utils_perf - WARNING - full garbage collections took 25% CPU time recently (threshold: 10%)\n",
      "distributed.utils_perf - WARNING - full garbage collections took 24% CPU time recently (threshold: 10%)\n",
      "distributed.utils_perf - WARNING - full garbage collections took 24% CPU time recently (threshold: 10%)\n",
      "distributed.utils_perf - WARNING - full garbage collections took 23% CPU time recently (threshold: 10%)\n"
     ]
    },
    {
     "name": "stdout",
     "output_type": "stream",
     "text": [
      "GPS grazing hrs: 70.34\n",
      "Grid (1 m) grazing hrs: 70.39\n",
      "Grid (30 m) grazing hrs: 63.69\n",
      "  4598_D2_2016\n"
     ]
    },
    {
     "name": "stderr",
     "output_type": "stream",
     "text": [
      "distributed.utils_perf - WARNING - full garbage collections took 18% CPU time recently (threshold: 10%)\n",
      "distributed.utils_perf - WARNING - full garbage collections took 18% CPU time recently (threshold: 10%)\n",
      "distributed.utils_perf - WARNING - full garbage collections took 18% CPU time recently (threshold: 10%)\n",
      "distributed.utils_perf - WARNING - full garbage collections took 18% CPU time recently (threshold: 10%)\n",
      "distributed.utils_perf - WARNING - full garbage collections took 18% CPU time recently (threshold: 10%)\n",
      "distributed.utils_perf - WARNING - full garbage collections took 28% CPU time recently (threshold: 10%)\n",
      "distributed.utils_perf - WARNING - full garbage collections took 28% CPU time recently (threshold: 10%)\n",
      "distributed.utils_perf - WARNING - full garbage collections took 28% CPU time recently (threshold: 10%)\n",
      "distributed.utils_perf - WARNING - full garbage collections took 28% CPU time recently (threshold: 10%)\n",
      "distributed.utils_perf - WARNING - full garbage collections took 28% CPU time recently (threshold: 10%)\n",
      "distributed.utils_perf - WARNING - full garbage collections took 27% CPU time recently (threshold: 10%)\n"
     ]
    },
    {
     "name": "stdout",
     "output_type": "stream",
     "text": [
      "GPS grazing hrs: 60.55\n",
      "Grid (1 m) grazing hrs: 60.66\n",
      "Grid (30 m) grazing hrs: 54.7\n",
      "Pasture: 24W (test)\n",
      "  3770_D2_2016\n"
     ]
    },
    {
     "name": "stderr",
     "output_type": "stream",
     "text": [
      "distributed.utils_perf - WARNING - full garbage collections took 21% CPU time recently (threshold: 10%)\n",
      "distributed.utils_perf - WARNING - full garbage collections took 21% CPU time recently (threshold: 10%)\n",
      "distributed.utils_perf - WARNING - full garbage collections took 20% CPU time recently (threshold: 10%)\n",
      "distributed.utils_perf - WARNING - full garbage collections took 20% CPU time recently (threshold: 10%)\n",
      "distributed.utils_perf - WARNING - full garbage collections took 20% CPU time recently (threshold: 10%)\n",
      "distributed.utils_perf - WARNING - full garbage collections took 20% CPU time recently (threshold: 10%)\n",
      "distributed.utils_perf - WARNING - full garbage collections took 20% CPU time recently (threshold: 10%)\n",
      "distributed.utils_perf - WARNING - full garbage collections took 20% CPU time recently (threshold: 10%)\n",
      "distributed.utils_perf - WARNING - full garbage collections took 28% CPU time recently (threshold: 10%)\n",
      "distributed.utils_perf - WARNING - full garbage collections took 29% CPU time recently (threshold: 10%)\n",
      "distributed.utils_perf - WARNING - full garbage collections took 29% CPU time recently (threshold: 10%)\n"
     ]
    },
    {
     "name": "stdout",
     "output_type": "stream",
     "text": [
      "GPS grazing hrs: 70.33\n",
      "Grid (1 m) grazing hrs: 70.29\n",
      "Grid (30 m) grazing hrs: 62.86\n",
      "Pasture: 15E (train)\n",
      "  3772_D2_2016\n"
     ]
    },
    {
     "name": "stderr",
     "output_type": "stream",
     "text": [
      "distributed.utils_perf - WARNING - full garbage collections took 21% CPU time recently (threshold: 10%)\n",
      "distributed.utils_perf - WARNING - full garbage collections took 21% CPU time recently (threshold: 10%)\n",
      "distributed.utils_perf - WARNING - full garbage collections took 21% CPU time recently (threshold: 10%)\n",
      "distributed.utils_perf - WARNING - full garbage collections took 21% CPU time recently (threshold: 10%)\n",
      "distributed.utils_perf - WARNING - full garbage collections took 21% CPU time recently (threshold: 10%)\n",
      "distributed.utils_perf - WARNING - full garbage collections took 21% CPU time recently (threshold: 10%)\n",
      "distributed.utils_perf - WARNING - full garbage collections took 22% CPU time recently (threshold: 10%)\n",
      "distributed.utils_perf - WARNING - full garbage collections took 22% CPU time recently (threshold: 10%)\n",
      "distributed.utils_perf - WARNING - full garbage collections took 29% CPU time recently (threshold: 10%)\n",
      "distributed.utils_perf - WARNING - full garbage collections took 29% CPU time recently (threshold: 10%)\n",
      "distributed.utils_perf - WARNING - full garbage collections took 30% CPU time recently (threshold: 10%)\n",
      "distributed.utils_perf - WARNING - full garbage collections took 30% CPU time recently (threshold: 10%)\n",
      "distributed.utils_perf - WARNING - full garbage collections took 30% CPU time recently (threshold: 10%)\n"
     ]
    },
    {
     "name": "stdout",
     "output_type": "stream",
     "text": [
      "GPS grazing hrs: 63.77\n",
      "Grid (1 m) grazing hrs: 63.82\n",
      "Grid (30 m) grazing hrs: 57.46\n",
      "Pasture: 26E (train)\n",
      "  3775_D2_2016\n"
     ]
    },
    {
     "name": "stderr",
     "output_type": "stream",
     "text": [
      "distributed.utils_perf - WARNING - full garbage collections took 23% CPU time recently (threshold: 10%)\n",
      "distributed.utils_perf - WARNING - full garbage collections took 22% CPU time recently (threshold: 10%)\n",
      "distributed.utils_perf - WARNING - full garbage collections took 23% CPU time recently (threshold: 10%)\n",
      "distributed.utils_perf - WARNING - full garbage collections took 23% CPU time recently (threshold: 10%)\n",
      "distributed.utils_perf - WARNING - full garbage collections took 23% CPU time recently (threshold: 10%)\n",
      "distributed.utils_perf - WARNING - full garbage collections took 23% CPU time recently (threshold: 10%)\n",
      "distributed.utils_perf - WARNING - full garbage collections took 31% CPU time recently (threshold: 10%)\n",
      "distributed.utils_perf - WARNING - full garbage collections took 31% CPU time recently (threshold: 10%)\n",
      "distributed.utils_perf - WARNING - full garbage collections took 31% CPU time recently (threshold: 10%)\n"
     ]
    },
    {
     "name": "stdout",
     "output_type": "stream",
     "text": [
      "GPS grazing hrs: 78.02\n",
      "Grid (1 m) grazing hrs: 78.13\n",
      "Grid (30 m) grazing hrs: 71.85\n",
      "Pasture: 25SE (test)\n",
      "  3776_D2_2016\n"
     ]
    },
    {
     "name": "stderr",
     "output_type": "stream",
     "text": [
      "distributed.utils_perf - WARNING - full garbage collections took 23% CPU time recently (threshold: 10%)\n",
      "distributed.utils_perf - WARNING - full garbage collections took 23% CPU time recently (threshold: 10%)\n",
      "distributed.utils_perf - WARNING - full garbage collections took 23% CPU time recently (threshold: 10%)\n",
      "distributed.utils_perf - WARNING - full garbage collections took 23% CPU time recently (threshold: 10%)\n",
      "distributed.utils_perf - WARNING - full garbage collections took 24% CPU time recently (threshold: 10%)\n",
      "distributed.utils_perf - WARNING - full garbage collections took 24% CPU time recently (threshold: 10%)\n",
      "distributed.utils_perf - WARNING - full garbage collections took 24% CPU time recently (threshold: 10%)\n",
      "distributed.utils_perf - WARNING - full garbage collections took 25% CPU time recently (threshold: 10%)\n",
      "distributed.utils_perf - WARNING - full garbage collections took 32% CPU time recently (threshold: 10%)\n",
      "distributed.utils_perf - WARNING - full garbage collections took 33% CPU time recently (threshold: 10%)\n",
      "distributed.utils_perf - WARNING - full garbage collections took 33% CPU time recently (threshold: 10%)\n",
      "distributed.utils_perf - WARNING - full garbage collections took 33% CPU time recently (threshold: 10%)\n",
      "distributed.utils_perf - WARNING - full garbage collections took 33% CPU time recently (threshold: 10%)\n",
      "distributed.utils_perf - WARNING - full garbage collections took 33% CPU time recently (threshold: 10%)\n"
     ]
    },
    {
     "name": "stdout",
     "output_type": "stream",
     "text": [
      "GPS grazing hrs: 72.61\n",
      "Grid (1 m) grazing hrs: 72.67\n",
      "Grid (30 m) grazing hrs: 67.81\n",
      "  3778_D2_2016\n"
     ]
    },
    {
     "name": "stderr",
     "output_type": "stream",
     "text": [
      "distributed.utils_perf - WARNING - full garbage collections took 23% CPU time recently (threshold: 10%)\n",
      "distributed.utils_perf - WARNING - full garbage collections took 23% CPU time recently (threshold: 10%)\n",
      "distributed.utils_perf - WARNING - full garbage collections took 23% CPU time recently (threshold: 10%)\n",
      "distributed.utils_perf - WARNING - full garbage collections took 23% CPU time recently (threshold: 10%)\n",
      "distributed.utils_perf - WARNING - full garbage collections took 23% CPU time recently (threshold: 10%)\n",
      "distributed.utils_perf - WARNING - full garbage collections took 23% CPU time recently (threshold: 10%)\n",
      "distributed.utils_perf - WARNING - full garbage collections took 24% CPU time recently (threshold: 10%)\n",
      "distributed.utils_perf - WARNING - full garbage collections took 29% CPU time recently (threshold: 10%)\n",
      "distributed.utils_perf - WARNING - full garbage collections took 29% CPU time recently (threshold: 10%)\n",
      "distributed.utils_perf - WARNING - full garbage collections took 29% CPU time recently (threshold: 10%)\n",
      "distributed.utils_perf - WARNING - full garbage collections took 28% CPU time recently (threshold: 10%)\n",
      "distributed.utils_perf - WARNING - full garbage collections took 28% CPU time recently (threshold: 10%)\n",
      "distributed.utils_perf - WARNING - full garbage collections took 28% CPU time recently (threshold: 10%)\n",
      "distributed.utils_perf - WARNING - full garbage collections took 28% CPU time recently (threshold: 10%)\n"
     ]
    },
    {
     "name": "stdout",
     "output_type": "stream",
     "text": [
      "GPS grazing hrs: 62.38\n",
      "Grid (1 m) grazing hrs: 62.49\n",
      "Grid (30 m) grazing hrs: 59.03\n",
      "-------------Week starting: Aug 21 (34) -------------\n",
      "Pasture: 5E (test)\n",
      "  2285_D2_2016\n"
     ]
    },
    {
     "name": "stderr",
     "output_type": "stream",
     "text": [
      "distributed.utils_perf - WARNING - full garbage collections took 21% CPU time recently (threshold: 10%)\n",
      "distributed.utils_perf - WARNING - full garbage collections took 21% CPU time recently (threshold: 10%)\n",
      "distributed.utils_perf - WARNING - full garbage collections took 27% CPU time recently (threshold: 10%)\n",
      "distributed.utils_perf - WARNING - full garbage collections took 27% CPU time recently (threshold: 10%)\n",
      "distributed.utils_perf - WARNING - full garbage collections took 27% CPU time recently (threshold: 10%)\n",
      "distributed.utils_perf - WARNING - full garbage collections took 27% CPU time recently (threshold: 10%)\n",
      "distributed.utils_perf - WARNING - full garbage collections took 26% CPU time recently (threshold: 10%)\n",
      "distributed.utils_perf - WARNING - full garbage collections took 26% CPU time recently (threshold: 10%)\n",
      "distributed.utils_perf - WARNING - full garbage collections took 25% CPU time recently (threshold: 10%)\n"
     ]
    },
    {
     "name": "stdout",
     "output_type": "stream",
     "text": [
      "GPS grazing hrs: 75.45\n",
      "Grid (1 m) grazing hrs: 75.56\n",
      "Grid (30 m) grazing hrs: 69.52\n",
      "  2286_D2_2016\n"
     ]
    },
    {
     "name": "stderr",
     "output_type": "stream",
     "text": [
      "distributed.utils_perf - WARNING - full garbage collections took 20% CPU time recently (threshold: 10%)\n",
      "distributed.utils_perf - WARNING - full garbage collections took 20% CPU time recently (threshold: 10%)\n",
      "distributed.utils_perf - WARNING - full garbage collections took 20% CPU time recently (threshold: 10%)\n",
      "distributed.utils_perf - WARNING - full garbage collections took 20% CPU time recently (threshold: 10%)\n",
      "distributed.utils_perf - WARNING - full garbage collections took 20% CPU time recently (threshold: 10%)\n",
      "distributed.utils_perf - WARNING - full garbage collections took 20% CPU time recently (threshold: 10%)\n",
      "distributed.utils_perf - WARNING - full garbage collections took 20% CPU time recently (threshold: 10%)\n",
      "distributed.utils_perf - WARNING - full garbage collections took 29% CPU time recently (threshold: 10%)\n",
      "distributed.utils_perf - WARNING - full garbage collections took 29% CPU time recently (threshold: 10%)\n",
      "distributed.utils_perf - WARNING - full garbage collections took 28% CPU time recently (threshold: 10%)\n",
      "distributed.utils_perf - WARNING - full garbage collections took 28% CPU time recently (threshold: 10%)\n",
      "distributed.utils_perf - WARNING - full garbage collections took 28% CPU time recently (threshold: 10%)\n"
     ]
    },
    {
     "name": "stdout",
     "output_type": "stream",
     "text": [
      "GPS grazing hrs: 65.73\n",
      "Grid (1 m) grazing hrs: 65.81\n",
      "Grid (30 m) grazing hrs: 62.4\n",
      "  3772_D2_2016\n",
      "    SKIPPING STEER: All points masked.\n",
      "Pasture: 7NW (train)\n",
      "  2287_D2_2016\n"
     ]
    },
    {
     "name": "stderr",
     "output_type": "stream",
     "text": [
      "distributed.utils_perf - WARNING - full garbage collections took 21% CPU time recently (threshold: 10%)\n",
      "distributed.utils_perf - WARNING - full garbage collections took 21% CPU time recently (threshold: 10%)\n",
      "distributed.utils_perf - WARNING - full garbage collections took 21% CPU time recently (threshold: 10%)\n",
      "distributed.utils_perf - WARNING - full garbage collections took 21% CPU time recently (threshold: 10%)\n",
      "distributed.utils_perf - WARNING - full garbage collections took 21% CPU time recently (threshold: 10%)\n",
      "distributed.utils_perf - WARNING - full garbage collections took 22% CPU time recently (threshold: 10%)\n",
      "distributed.utils_perf - WARNING - full garbage collections took 22% CPU time recently (threshold: 10%)\n",
      "distributed.utils_perf - WARNING - full garbage collections took 22% CPU time recently (threshold: 10%)\n",
      "distributed.utils_perf - WARNING - full garbage collections took 22% CPU time recently (threshold: 10%)\n",
      "distributed.utils_perf - WARNING - full garbage collections took 31% CPU time recently (threshold: 10%)\n",
      "distributed.utils_perf - WARNING - full garbage collections took 31% CPU time recently (threshold: 10%)\n",
      "distributed.utils_perf - WARNING - full garbage collections took 30% CPU time recently (threshold: 10%)\n",
      "distributed.utils_perf - WARNING - full garbage collections took 30% CPU time recently (threshold: 10%)\n",
      "distributed.utils_perf - WARNING - full garbage collections took 30% CPU time recently (threshold: 10%)\n",
      "distributed.utils_perf - WARNING - full garbage collections took 30% CPU time recently (threshold: 10%)\n",
      "distributed.utils_perf - WARNING - full garbage collections took 30% CPU time recently (threshold: 10%)\n",
      "distributed.utils_perf - WARNING - full garbage collections took 30% CPU time recently (threshold: 10%)\n"
     ]
    },
    {
     "name": "stdout",
     "output_type": "stream",
     "text": [
      "GPS grazing hrs: 77.14\n",
      "Grid (1 m) grazing hrs: 77.27\n",
      "Grid (30 m) grazing hrs: 67.51\n",
      "  2288_D2_2016\n"
     ]
    },
    {
     "name": "stderr",
     "output_type": "stream",
     "text": [
      "distributed.utils_perf - WARNING - full garbage collections took 21% CPU time recently (threshold: 10%)\n",
      "distributed.utils_perf - WARNING - full garbage collections took 27% CPU time recently (threshold: 10%)\n",
      "distributed.utils_perf - WARNING - full garbage collections took 27% CPU time recently (threshold: 10%)\n",
      "distributed.utils_perf - WARNING - full garbage collections took 27% CPU time recently (threshold: 10%)\n",
      "distributed.utils_perf - WARNING - full garbage collections took 28% CPU time recently (threshold: 10%)\n",
      "distributed.utils_perf - WARNING - full garbage collections took 28% CPU time recently (threshold: 10%)\n",
      "distributed.utils_perf - WARNING - full garbage collections took 28% CPU time recently (threshold: 10%)\n",
      "distributed.utils_perf - WARNING - full garbage collections took 28% CPU time recently (threshold: 10%)\n",
      "distributed.utils_perf - WARNING - full garbage collections took 28% CPU time recently (threshold: 10%)\n",
      "distributed.utils_perf - WARNING - full garbage collections took 28% CPU time recently (threshold: 10%)\n",
      "distributed.utils_perf - WARNING - full garbage collections took 27% CPU time recently (threshold: 10%)\n",
      "distributed.utils_perf - WARNING - full garbage collections took 27% CPU time recently (threshold: 10%)\n",
      "distributed.utils_perf - WARNING - full garbage collections took 27% CPU time recently (threshold: 10%)\n",
      "distributed.utils_perf - WARNING - full garbage collections took 38% CPU time recently (threshold: 10%)\n"
     ]
    },
    {
     "name": "stdout",
     "output_type": "stream",
     "text": [
      "GPS grazing hrs: 65.22\n",
      "Grid (1 m) grazing hrs: 65.38\n",
      "Grid (30 m) grazing hrs: 62.62\n",
      "Pasture: 17N (train)\n",
      "  2289_D2_2016\n"
     ]
    },
    {
     "name": "stderr",
     "output_type": "stream",
     "text": [
      "distributed.utils_perf - WARNING - full garbage collections took 25% CPU time recently (threshold: 10%)\n",
      "distributed.utils_perf - WARNING - full garbage collections took 25% CPU time recently (threshold: 10%)\n",
      "distributed.utils_perf - WARNING - full garbage collections took 25% CPU time recently (threshold: 10%)\n",
      "distributed.utils_perf - WARNING - full garbage collections took 25% CPU time recently (threshold: 10%)\n",
      "distributed.utils_perf - WARNING - full garbage collections took 25% CPU time recently (threshold: 10%)\n",
      "distributed.utils_perf - WARNING - full garbage collections took 25% CPU time recently (threshold: 10%)\n",
      "distributed.utils_perf - WARNING - full garbage collections took 25% CPU time recently (threshold: 10%)\n",
      "distributed.utils_perf - WARNING - full garbage collections took 24% CPU time recently (threshold: 10%)\n",
      "distributed.utils_perf - WARNING - full garbage collections took 25% CPU time recently (threshold: 10%)\n",
      "distributed.utils_perf - WARNING - full garbage collections took 25% CPU time recently (threshold: 10%)\n",
      "distributed.utils_perf - WARNING - full garbage collections took 25% CPU time recently (threshold: 10%)\n",
      "distributed.utils_perf - WARNING - full garbage collections took 25% CPU time recently (threshold: 10%)\n"
     ]
    },
    {
     "name": "stdout",
     "output_type": "stream",
     "text": [
      "GPS grazing hrs: 75.37\n",
      "Grid (1 m) grazing hrs: 75.39\n",
      "Grid (30 m) grazing hrs: 65.45\n",
      "  2290_D2_2016\n"
     ]
    },
    {
     "name": "stderr",
     "output_type": "stream",
     "text": [
      "distributed.utils_perf - WARNING - full garbage collections took 20% CPU time recently (threshold: 10%)\n",
      "distributed.utils_perf - WARNING - full garbage collections took 20% CPU time recently (threshold: 10%)\n",
      "distributed.utils_perf - WARNING - full garbage collections took 20% CPU time recently (threshold: 10%)\n",
      "distributed.utils_perf - WARNING - full garbage collections took 20% CPU time recently (threshold: 10%)\n",
      "distributed.utils_perf - WARNING - full garbage collections took 28% CPU time recently (threshold: 10%)\n",
      "distributed.utils_perf - WARNING - full garbage collections took 28% CPU time recently (threshold: 10%)\n",
      "distributed.utils_perf - WARNING - full garbage collections took 28% CPU time recently (threshold: 10%)\n",
      "distributed.utils_perf - WARNING - full garbage collections took 28% CPU time recently (threshold: 10%)\n",
      "distributed.utils_perf - WARNING - full garbage collections took 28% CPU time recently (threshold: 10%)\n",
      "distributed.utils_perf - WARNING - full garbage collections took 27% CPU time recently (threshold: 10%)\n",
      "distributed.utils_perf - WARNING - full garbage collections took 27% CPU time recently (threshold: 10%)\n"
     ]
    },
    {
     "name": "stdout",
     "output_type": "stream",
     "text": [
      "GPS grazing hrs: 65.95\n",
      "Grid (1 m) grazing hrs: 66.03\n",
      "Grid (30 m) grazing hrs: 58.56\n",
      "Pasture: 19N (test)\n",
      "  2291_D2_2016\n"
     ]
    },
    {
     "name": "stderr",
     "output_type": "stream",
     "text": [
      "distributed.utils_perf - WARNING - full garbage collections took 21% CPU time recently (threshold: 10%)\n",
      "distributed.utils_perf - WARNING - full garbage collections took 21% CPU time recently (threshold: 10%)\n",
      "distributed.utils_perf - WARNING - full garbage collections took 21% CPU time recently (threshold: 10%)\n",
      "distributed.utils_perf - WARNING - full garbage collections took 21% CPU time recently (threshold: 10%)\n",
      "distributed.utils_perf - WARNING - full garbage collections took 22% CPU time recently (threshold: 10%)\n",
      "distributed.utils_perf - WARNING - full garbage collections took 22% CPU time recently (threshold: 10%)\n",
      "distributed.utils_perf - WARNING - full garbage collections took 22% CPU time recently (threshold: 10%)\n",
      "distributed.utils_perf - WARNING - full garbage collections took 30% CPU time recently (threshold: 10%)\n",
      "distributed.utils_perf - WARNING - full garbage collections took 30% CPU time recently (threshold: 10%)\n",
      "distributed.utils_perf - WARNING - full garbage collections took 30% CPU time recently (threshold: 10%)\n",
      "distributed.utils_perf - WARNING - full garbage collections took 30% CPU time recently (threshold: 10%)\n"
     ]
    },
    {
     "name": "stdout",
     "output_type": "stream",
     "text": [
      "GPS grazing hrs: 69.24\n",
      "Grid (1 m) grazing hrs: 69.26\n",
      "Grid (30 m) grazing hrs: 58.02\n",
      "  4597_D2_2016\n"
     ]
    },
    {
     "name": "stderr",
     "output_type": "stream",
     "text": [
      "distributed.utils_perf - WARNING - full garbage collections took 23% CPU time recently (threshold: 10%)\n",
      "distributed.utils_perf - WARNING - full garbage collections took 23% CPU time recently (threshold: 10%)\n",
      "distributed.utils_perf - WARNING - full garbage collections took 22% CPU time recently (threshold: 10%)\n",
      "distributed.utils_perf - WARNING - full garbage collections took 22% CPU time recently (threshold: 10%)\n",
      "distributed.utils_perf - WARNING - full garbage collections took 23% CPU time recently (threshold: 10%)\n",
      "distributed.utils_perf - WARNING - full garbage collections took 23% CPU time recently (threshold: 10%)\n",
      "distributed.utils_perf - WARNING - full garbage collections took 23% CPU time recently (threshold: 10%)\n",
      "distributed.utils_perf - WARNING - full garbage collections took 23% CPU time recently (threshold: 10%)\n",
      "distributed.utils_perf - WARNING - full garbage collections took 30% CPU time recently (threshold: 10%)\n",
      "distributed.utils_perf - WARNING - full garbage collections took 30% CPU time recently (threshold: 10%)\n",
      "distributed.utils_perf - WARNING - full garbage collections took 30% CPU time recently (threshold: 10%)\n",
      "distributed.utils_perf - WARNING - full garbage collections took 30% CPU time recently (threshold: 10%)\n",
      "distributed.utils_perf - WARNING - full garbage collections took 30% CPU time recently (threshold: 10%)\n"
     ]
    },
    {
     "name": "stdout",
     "output_type": "stream",
     "text": [
      "GPS grazing hrs: 79.69\n",
      "Grid (1 m) grazing hrs: 79.7\n",
      "Grid (30 m) grazing hrs: 67.81\n",
      "Pasture: 20SE (train)\n",
      "  2293_D2_2016\n"
     ]
    },
    {
     "name": "stderr",
     "output_type": "stream",
     "text": [
      "distributed.utils_perf - WARNING - full garbage collections took 22% CPU time recently (threshold: 10%)\n",
      "distributed.utils_perf - WARNING - full garbage collections took 22% CPU time recently (threshold: 10%)\n",
      "distributed.utils_perf - WARNING - full garbage collections took 22% CPU time recently (threshold: 10%)\n",
      "distributed.utils_perf - WARNING - full garbage collections took 22% CPU time recently (threshold: 10%)\n",
      "distributed.utils_perf - WARNING - full garbage collections took 23% CPU time recently (threshold: 10%)\n",
      "distributed.utils_perf - WARNING - full garbage collections took 23% CPU time recently (threshold: 10%)\n",
      "distributed.utils_perf - WARNING - full garbage collections took 31% CPU time recently (threshold: 10%)\n",
      "distributed.utils_perf - WARNING - full garbage collections took 31% CPU time recently (threshold: 10%)\n",
      "distributed.utils_perf - WARNING - full garbage collections took 30% CPU time recently (threshold: 10%)\n",
      "distributed.utils_perf - WARNING - full garbage collections took 30% CPU time recently (threshold: 10%)\n",
      "distributed.utils_perf - WARNING - full garbage collections took 30% CPU time recently (threshold: 10%)\n",
      "distributed.utils_perf - WARNING - full garbage collections took 30% CPU time recently (threshold: 10%)\n",
      "distributed.utils_perf - WARNING - full garbage collections took 30% CPU time recently (threshold: 10%)\n"
     ]
    },
    {
     "name": "stdout",
     "output_type": "stream",
     "text": [
      "GPS grazing hrs: 58.32\n",
      "Grid (1 m) grazing hrs: 58.26\n",
      "Grid (30 m) grazing hrs: 54.48\n",
      "  2294_D2_2016\n"
     ]
    },
    {
     "name": "stderr",
     "output_type": "stream",
     "text": [
      "distributed.utils_perf - WARNING - full garbage collections took 21% CPU time recently (threshold: 10%)\n",
      "distributed.utils_perf - WARNING - full garbage collections took 21% CPU time recently (threshold: 10%)\n",
      "distributed.utils_perf - WARNING - full garbage collections took 21% CPU time recently (threshold: 10%)\n",
      "distributed.utils_perf - WARNING - full garbage collections took 22% CPU time recently (threshold: 10%)\n",
      "distributed.utils_perf - WARNING - full garbage collections took 28% CPU time recently (threshold: 10%)\n",
      "distributed.utils_perf - WARNING - full garbage collections took 29% CPU time recently (threshold: 10%)\n",
      "distributed.utils_perf - WARNING - full garbage collections took 29% CPU time recently (threshold: 10%)\n",
      "distributed.utils_perf - WARNING - full garbage collections took 29% CPU time recently (threshold: 10%)\n",
      "distributed.utils_perf - WARNING - full garbage collections took 28% CPU time recently (threshold: 10%)\n",
      "distributed.utils_perf - WARNING - full garbage collections took 28% CPU time recently (threshold: 10%)\n",
      "distributed.utils_perf - WARNING - full garbage collections took 28% CPU time recently (threshold: 10%)\n",
      "distributed.utils_perf - WARNING - full garbage collections took 28% CPU time recently (threshold: 10%)\n",
      "distributed.utils_perf - WARNING - full garbage collections took 28% CPU time recently (threshold: 10%)\n",
      "distributed.utils_perf - WARNING - full garbage collections took 28% CPU time recently (threshold: 10%)\n"
     ]
    },
    {
     "name": "stdout",
     "output_type": "stream",
     "text": [
      "GPS grazing hrs: 77.31\n",
      "Grid (1 m) grazing hrs: 77.53\n",
      "Grid (30 m) grazing hrs: 71.21\n",
      "Pasture: 31E (train)\n",
      "  3769_D2_2016\n"
     ]
    },
    {
     "name": "stderr",
     "output_type": "stream",
     "text": [
      "distributed.utils_perf - WARNING - full garbage collections took 20% CPU time recently (threshold: 10%)\n",
      "distributed.utils_perf - WARNING - full garbage collections took 20% CPU time recently (threshold: 10%)\n",
      "distributed.utils_perf - WARNING - full garbage collections took 20% CPU time recently (threshold: 10%)\n",
      "distributed.utils_perf - WARNING - full garbage collections took 25% CPU time recently (threshold: 10%)\n",
      "distributed.utils_perf - WARNING - full garbage collections took 25% CPU time recently (threshold: 10%)\n",
      "distributed.utils_perf - WARNING - full garbage collections took 25% CPU time recently (threshold: 10%)\n",
      "distributed.utils_perf - WARNING - full garbage collections took 25% CPU time recently (threshold: 10%)\n",
      "distributed.utils_perf - WARNING - full garbage collections took 25% CPU time recently (threshold: 10%)\n",
      "distributed.utils_perf - WARNING - full garbage collections took 25% CPU time recently (threshold: 10%)\n",
      "distributed.utils_perf - WARNING - full garbage collections took 24% CPU time recently (threshold: 10%)\n",
      "distributed.utils_perf - WARNING - full garbage collections took 25% CPU time recently (threshold: 10%)\n",
      "distributed.utils_perf - WARNING - full garbage collections took 25% CPU time recently (threshold: 10%)\n"
     ]
    },
    {
     "name": "stdout",
     "output_type": "stream",
     "text": [
      "GPS grazing hrs: 70.09\n",
      "Grid (1 m) grazing hrs: 69.96\n",
      "Grid (30 m) grazing hrs: 62.97\n",
      "  4598_D2_2016\n"
     ]
    },
    {
     "name": "stderr",
     "output_type": "stream",
     "text": [
      "distributed.utils_perf - WARNING - full garbage collections took 19% CPU time recently (threshold: 10%)\n",
      "distributed.utils_perf - WARNING - full garbage collections took 19% CPU time recently (threshold: 10%)\n",
      "distributed.utils_perf - WARNING - full garbage collections took 19% CPU time recently (threshold: 10%)\n",
      "distributed.utils_perf - WARNING - full garbage collections took 19% CPU time recently (threshold: 10%)\n",
      "distributed.utils_perf - WARNING - full garbage collections took 27% CPU time recently (threshold: 10%)\n",
      "distributed.utils_perf - WARNING - full garbage collections took 27% CPU time recently (threshold: 10%)\n",
      "distributed.utils_perf - WARNING - full garbage collections took 27% CPU time recently (threshold: 10%)\n",
      "distributed.utils_perf - WARNING - full garbage collections took 27% CPU time recently (threshold: 10%)\n",
      "distributed.utils_perf - WARNING - full garbage collections took 27% CPU time recently (threshold: 10%)\n",
      "distributed.utils_perf - WARNING - full garbage collections took 26% CPU time recently (threshold: 10%)\n",
      "distributed.utils_perf - WARNING - full garbage collections took 26% CPU time recently (threshold: 10%)\n"
     ]
    },
    {
     "name": "stdout",
     "output_type": "stream",
     "text": [
      "GPS grazing hrs: 61.04\n",
      "Grid (1 m) grazing hrs: 61.05\n",
      "Grid (30 m) grazing hrs: 55.31\n",
      "Pasture: 15E (train)\n",
      "  3772_D2_2016\n"
     ]
    },
    {
     "name": "stderr",
     "output_type": "stream",
     "text": [
      "distributed.utils_perf - WARNING - full garbage collections took 20% CPU time recently (threshold: 10%)\n",
      "distributed.utils_perf - WARNING - full garbage collections took 21% CPU time recently (threshold: 10%)\n",
      "distributed.utils_perf - WARNING - full garbage collections took 21% CPU time recently (threshold: 10%)\n",
      "distributed.utils_perf - WARNING - full garbage collections took 21% CPU time recently (threshold: 10%)\n",
      "distributed.utils_perf - WARNING - full garbage collections took 21% CPU time recently (threshold: 10%)\n",
      "distributed.utils_perf - WARNING - full garbage collections took 21% CPU time recently (threshold: 10%)\n",
      "distributed.utils_perf - WARNING - full garbage collections took 21% CPU time recently (threshold: 10%)\n",
      "distributed.utils_perf - WARNING - full garbage collections took 30% CPU time recently (threshold: 10%)\n",
      "distributed.utils_perf - WARNING - full garbage collections took 30% CPU time recently (threshold: 10%)\n",
      "distributed.utils_perf - WARNING - full garbage collections took 30% CPU time recently (threshold: 10%)\n",
      "distributed.utils_perf - WARNING - full garbage collections took 30% CPU time recently (threshold: 10%)\n"
     ]
    },
    {
     "name": "stdout",
     "output_type": "stream",
     "text": [
      "GPS grazing hrs: 63.41\n",
      "Grid (1 m) grazing hrs: 63.39\n",
      "Grid (30 m) grazing hrs: 54.49\n",
      "Pasture: 26E (train)\n",
      "  3775_D2_2016\n"
     ]
    },
    {
     "name": "stderr",
     "output_type": "stream",
     "text": [
      "distributed.utils_perf - WARNING - full garbage collections took 23% CPU time recently (threshold: 10%)\n",
      "distributed.utils_perf - WARNING - full garbage collections took 23% CPU time recently (threshold: 10%)\n",
      "distributed.utils_perf - WARNING - full garbage collections took 23% CPU time recently (threshold: 10%)\n",
      "distributed.utils_perf - WARNING - full garbage collections took 22% CPU time recently (threshold: 10%)\n",
      "distributed.utils_perf - WARNING - full garbage collections took 23% CPU time recently (threshold: 10%)\n",
      "distributed.utils_perf - WARNING - full garbage collections took 23% CPU time recently (threshold: 10%)\n",
      "distributed.utils_perf - WARNING - full garbage collections took 23% CPU time recently (threshold: 10%)\n",
      "distributed.utils_perf - WARNING - full garbage collections took 23% CPU time recently (threshold: 10%)\n",
      "distributed.utils_perf - WARNING - full garbage collections took 30% CPU time recently (threshold: 10%)\n",
      "distributed.utils_perf - WARNING - full garbage collections took 31% CPU time recently (threshold: 10%)\n",
      "distributed.utils_perf - WARNING - full garbage collections took 31% CPU time recently (threshold: 10%)\n"
     ]
    },
    {
     "name": "stdout",
     "output_type": "stream",
     "text": [
      "GPS grazing hrs: 76.96\n",
      "Grid (1 m) grazing hrs: 77.13\n",
      "Grid (30 m) grazing hrs: 65.47\n",
      "Pasture: 25SE (test)\n",
      "  3776_D2_2016\n"
     ]
    },
    {
     "name": "stderr",
     "output_type": "stream",
     "text": [
      "distributed.utils_perf - WARNING - full garbage collections took 23% CPU time recently (threshold: 10%)\n",
      "distributed.utils_perf - WARNING - full garbage collections took 23% CPU time recently (threshold: 10%)\n",
      "distributed.utils_perf - WARNING - full garbage collections took 23% CPU time recently (threshold: 10%)\n",
      "distributed.utils_perf - WARNING - full garbage collections took 22% CPU time recently (threshold: 10%)\n",
      "distributed.utils_perf - WARNING - full garbage collections took 23% CPU time recently (threshold: 10%)\n",
      "distributed.utils_perf - WARNING - full garbage collections took 23% CPU time recently (threshold: 10%)\n",
      "distributed.utils_perf - WARNING - full garbage collections took 23% CPU time recently (threshold: 10%)\n",
      "distributed.utils_perf - WARNING - full garbage collections took 23% CPU time recently (threshold: 10%)\n",
      "distributed.utils_perf - WARNING - full garbage collections took 31% CPU time recently (threshold: 10%)\n",
      "distributed.utils_perf - WARNING - full garbage collections took 31% CPU time recently (threshold: 10%)\n",
      "distributed.utils_perf - WARNING - full garbage collections took 31% CPU time recently (threshold: 10%)\n",
      "distributed.utils_perf - WARNING - full garbage collections took 30% CPU time recently (threshold: 10%)\n",
      "distributed.utils_perf - WARNING - full garbage collections took 30% CPU time recently (threshold: 10%)\n",
      "distributed.utils_perf - WARNING - full garbage collections took 30% CPU time recently (threshold: 10%)\n",
      "distributed.utils_perf - WARNING - full garbage collections took 30% CPU time recently (threshold: 10%)\n"
     ]
    },
    {
     "name": "stdout",
     "output_type": "stream",
     "text": [
      "GPS grazing hrs: 72.32\n",
      "Grid (1 m) grazing hrs: 72.28\n",
      "Grid (30 m) grazing hrs: 67.27\n",
      "  3778_D2_2016\n"
     ]
    },
    {
     "name": "stderr",
     "output_type": "stream",
     "text": [
      "distributed.utils_perf - WARNING - full garbage collections took 21% CPU time recently (threshold: 10%)\n",
      "distributed.utils_perf - WARNING - full garbage collections took 21% CPU time recently (threshold: 10%)\n",
      "distributed.utils_perf - WARNING - full garbage collections took 21% CPU time recently (threshold: 10%)\n",
      "distributed.utils_perf - WARNING - full garbage collections took 21% CPU time recently (threshold: 10%)\n",
      "distributed.utils_perf - WARNING - full garbage collections took 27% CPU time recently (threshold: 10%)\n",
      "distributed.utils_perf - WARNING - full garbage collections took 27% CPU time recently (threshold: 10%)\n",
      "distributed.utils_perf - WARNING - full garbage collections took 27% CPU time recently (threshold: 10%)\n",
      "distributed.utils_perf - WARNING - full garbage collections took 28% CPU time recently (threshold: 10%)\n",
      "distributed.utils_perf - WARNING - full garbage collections took 28% CPU time recently (threshold: 10%)\n",
      "distributed.utils_perf - WARNING - full garbage collections took 28% CPU time recently (threshold: 10%)\n",
      "distributed.utils_perf - WARNING - full garbage collections took 28% CPU time recently (threshold: 10%)\n",
      "distributed.utils_perf - WARNING - full garbage collections took 28% CPU time recently (threshold: 10%)\n",
      "distributed.utils_perf - WARNING - full garbage collections took 28% CPU time recently (threshold: 10%)\n",
      "distributed.utils_perf - WARNING - full garbage collections took 28% CPU time recently (threshold: 10%)\n",
      "distributed.utils_perf - WARNING - full garbage collections took 28% CPU time recently (threshold: 10%)\n",
      "distributed.utils_perf - WARNING - full garbage collections took 38% CPU time recently (threshold: 10%)\n"
     ]
    },
    {
     "name": "stdout",
     "output_type": "stream",
     "text": [
      "GPS grazing hrs: 61.97\n",
      "Grid (1 m) grazing hrs: 62.01\n",
      "Grid (30 m) grazing hrs: 58.5\n",
      "-------------Week starting: Aug 28 (35) -------------\n",
      "-------------Week starting: Sep 04 (36) -------------\n",
      "Pasture: 5E (test)\n",
      "  2285_D3_2016\n"
     ]
    },
    {
     "name": "stderr",
     "output_type": "stream",
     "text": [
      "distributed.utils_perf - WARNING - full garbage collections took 25% CPU time recently (threshold: 10%)\n",
      "distributed.utils_perf - WARNING - full garbage collections took 25% CPU time recently (threshold: 10%)\n",
      "distributed.utils_perf - WARNING - full garbage collections took 25% CPU time recently (threshold: 10%)\n",
      "distributed.utils_perf - WARNING - full garbage collections took 25% CPU time recently (threshold: 10%)\n",
      "distributed.utils_perf - WARNING - full garbage collections took 25% CPU time recently (threshold: 10%)\n",
      "distributed.utils_perf - WARNING - full garbage collections took 25% CPU time recently (threshold: 10%)\n",
      "distributed.utils_perf - WARNING - full garbage collections took 25% CPU time recently (threshold: 10%)\n",
      "distributed.utils_perf - WARNING - full garbage collections took 24% CPU time recently (threshold: 10%)\n",
      "distributed.utils_perf - WARNING - full garbage collections took 25% CPU time recently (threshold: 10%)\n",
      "distributed.utils_perf - WARNING - full garbage collections took 25% CPU time recently (threshold: 10%)\n",
      "distributed.utils_perf - WARNING - full garbage collections took 25% CPU time recently (threshold: 10%)\n"
     ]
    },
    {
     "name": "stdout",
     "output_type": "stream",
     "text": [
      "GPS grazing hrs: 70.09\n",
      "Grid (1 m) grazing hrs: 70.39\n",
      "Grid (30 m) grazing hrs: 66.08\n",
      "  2286_D3_2016\n"
     ]
    },
    {
     "name": "stderr",
     "output_type": "stream",
     "text": [
      "distributed.utils_perf - WARNING - full garbage collections took 20% CPU time recently (threshold: 10%)\n",
      "distributed.utils_perf - WARNING - full garbage collections took 20% CPU time recently (threshold: 10%)\n",
      "distributed.utils_perf - WARNING - full garbage collections took 20% CPU time recently (threshold: 10%)\n",
      "distributed.utils_perf - WARNING - full garbage collections took 28% CPU time recently (threshold: 10%)\n",
      "distributed.utils_perf - WARNING - full garbage collections took 28% CPU time recently (threshold: 10%)\n",
      "distributed.utils_perf - WARNING - full garbage collections took 28% CPU time recently (threshold: 10%)\n",
      "distributed.utils_perf - WARNING - full garbage collections took 28% CPU time recently (threshold: 10%)\n",
      "distributed.utils_perf - WARNING - full garbage collections took 28% CPU time recently (threshold: 10%)\n",
      "distributed.utils_perf - WARNING - full garbage collections took 28% CPU time recently (threshold: 10%)\n",
      "distributed.utils_perf - WARNING - full garbage collections took 28% CPU time recently (threshold: 10%)\n",
      "distributed.utils_perf - WARNING - full garbage collections took 24% CPU time recently (threshold: 10%)\n"
     ]
    },
    {
     "name": "stdout",
     "output_type": "stream",
     "text": [
      "GPS grazing hrs: 63.88\n",
      "Grid (1 m) grazing hrs: 63.76\n",
      "Grid (30 m) grazing hrs: 61.51\n",
      "Pasture: 7NW (test)\n",
      "  2287_D3_2016\n"
     ]
    },
    {
     "name": "stderr",
     "output_type": "stream",
     "text": [
      "distributed.utils_perf - WARNING - full garbage collections took 20% CPU time recently (threshold: 10%)\n",
      "distributed.utils_perf - WARNING - full garbage collections took 20% CPU time recently (threshold: 10%)\n",
      "distributed.utils_perf - WARNING - full garbage collections took 21% CPU time recently (threshold: 10%)\n",
      "distributed.utils_perf - WARNING - full garbage collections took 21% CPU time recently (threshold: 10%)\n",
      "distributed.utils_perf - WARNING - full garbage collections took 21% CPU time recently (threshold: 10%)\n",
      "distributed.utils_perf - WARNING - full garbage collections took 21% CPU time recently (threshold: 10%)\n",
      "distributed.utils_perf - WARNING - full garbage collections took 21% CPU time recently (threshold: 10%)\n",
      "distributed.utils_perf - WARNING - full garbage collections took 22% CPU time recently (threshold: 10%)\n",
      "distributed.utils_perf - WARNING - full garbage collections took 31% CPU time recently (threshold: 10%)\n",
      "distributed.utils_perf - WARNING - full garbage collections took 31% CPU time recently (threshold: 10%)\n",
      "distributed.utils_perf - WARNING - full garbage collections took 31% CPU time recently (threshold: 10%)\n",
      "distributed.utils_perf - WARNING - full garbage collections took 31% CPU time recently (threshold: 10%)\n",
      "distributed.utils_perf - WARNING - full garbage collections took 31% CPU time recently (threshold: 10%)\n",
      "distributed.utils_perf - WARNING - full garbage collections took 31% CPU time recently (threshold: 10%)\n",
      "distributed.utils_perf - WARNING - full garbage collections took 31% CPU time recently (threshold: 10%)\n",
      "distributed.utils_perf - WARNING - full garbage collections took 31% CPU time recently (threshold: 10%)\n",
      "distributed.utils_perf - WARNING - full garbage collections took 31% CPU time recently (threshold: 10%)\n"
     ]
    },
    {
     "name": "stdout",
     "output_type": "stream",
     "text": [
      "GPS grazing hrs: 74.71\n",
      "Grid (1 m) grazing hrs: 74.77\n",
      "Grid (30 m) grazing hrs: 68.21\n",
      "  2288_D3_2016\n"
     ]
    },
    {
     "name": "stderr",
     "output_type": "stream",
     "text": [
      "distributed.utils_perf - WARNING - full garbage collections took 21% CPU time recently (threshold: 10%)\n",
      "distributed.utils_perf - WARNING - full garbage collections took 21% CPU time recently (threshold: 10%)\n",
      "distributed.utils_perf - WARNING - full garbage collections took 27% CPU time recently (threshold: 10%)\n",
      "distributed.utils_perf - WARNING - full garbage collections took 27% CPU time recently (threshold: 10%)\n",
      "distributed.utils_perf - WARNING - full garbage collections took 27% CPU time recently (threshold: 10%)\n",
      "distributed.utils_perf - WARNING - full garbage collections took 28% CPU time recently (threshold: 10%)\n",
      "distributed.utils_perf - WARNING - full garbage collections took 28% CPU time recently (threshold: 10%)\n",
      "distributed.utils_perf - WARNING - full garbage collections took 28% CPU time recently (threshold: 10%)\n",
      "distributed.utils_perf - WARNING - full garbage collections took 28% CPU time recently (threshold: 10%)\n",
      "distributed.utils_perf - WARNING - full garbage collections took 28% CPU time recently (threshold: 10%)\n",
      "distributed.utils_perf - WARNING - full garbage collections took 28% CPU time recently (threshold: 10%)\n",
      "distributed.utils_perf - WARNING - full garbage collections took 28% CPU time recently (threshold: 10%)\n",
      "distributed.utils_perf - WARNING - full garbage collections took 31% CPU time recently (threshold: 10%)\n"
     ]
    },
    {
     "name": "stdout",
     "output_type": "stream",
     "text": [
      "GPS grazing hrs: 64.84\n",
      "Grid (1 m) grazing hrs: 64.88\n",
      "Grid (30 m) grazing hrs: 63.46\n",
      "Pasture: 17N (test)\n",
      "  2289_D3_2016\n"
     ]
    },
    {
     "name": "stderr",
     "output_type": "stream",
     "text": [
      "distributed.utils_perf - WARNING - full garbage collections took 27% CPU time recently (threshold: 10%)\n",
      "distributed.utils_perf - WARNING - full garbage collections took 27% CPU time recently (threshold: 10%)\n",
      "distributed.utils_perf - WARNING - full garbage collections took 27% CPU time recently (threshold: 10%)\n",
      "distributed.utils_perf - WARNING - full garbage collections took 27% CPU time recently (threshold: 10%)\n",
      "distributed.utils_perf - WARNING - full garbage collections took 27% CPU time recently (threshold: 10%)\n",
      "distributed.utils_perf - WARNING - full garbage collections took 26% CPU time recently (threshold: 10%)\n",
      "distributed.utils_perf - WARNING - full garbage collections took 26% CPU time recently (threshold: 10%)\n",
      "distributed.utils_perf - WARNING - full garbage collections took 26% CPU time recently (threshold: 10%)\n"
     ]
    },
    {
     "name": "stdout",
     "output_type": "stream",
     "text": [
      "GPS grazing hrs: 70.33\n",
      "Grid (1 m) grazing hrs: 70.54\n",
      "Grid (30 m) grazing hrs: 61.92\n",
      "  2290_D3_2016\n"
     ]
    },
    {
     "name": "stderr",
     "output_type": "stream",
     "text": [
      "distributed.utils_perf - WARNING - full garbage collections took 20% CPU time recently (threshold: 10%)\n",
      "distributed.utils_perf - WARNING - full garbage collections took 20% CPU time recently (threshold: 10%)\n",
      "distributed.utils_perf - WARNING - full garbage collections took 20% CPU time recently (threshold: 10%)\n",
      "distributed.utils_perf - WARNING - full garbage collections took 20% CPU time recently (threshold: 10%)\n",
      "distributed.utils_perf - WARNING - full garbage collections took 20% CPU time recently (threshold: 10%)\n",
      "distributed.utils_perf - WARNING - full garbage collections took 20% CPU time recently (threshold: 10%)\n",
      "distributed.utils_perf - WARNING - full garbage collections took 20% CPU time recently (threshold: 10%)\n",
      "distributed.utils_perf - WARNING - full garbage collections took 21% CPU time recently (threshold: 10%)\n",
      "distributed.utils_perf - WARNING - full garbage collections took 20% CPU time recently (threshold: 10%)\n",
      "distributed.utils_perf - WARNING - full garbage collections took 29% CPU time recently (threshold: 10%)\n",
      "distributed.utils_perf - WARNING - full garbage collections took 29% CPU time recently (threshold: 10%)\n"
     ]
    },
    {
     "name": "stdout",
     "output_type": "stream",
     "text": [
      "GPS grazing hrs: 56.69\n",
      "Grid (1 m) grazing hrs: 56.71\n",
      "Grid (30 m) grazing hrs: 48.28\n",
      "Pasture: 20SE (test)\n",
      "  2293_D3_2016\n"
     ]
    },
    {
     "name": "stderr",
     "output_type": "stream",
     "text": [
      "distributed.utils_perf - WARNING - full garbage collections took 22% CPU time recently (threshold: 10%)\n",
      "distributed.utils_perf - WARNING - full garbage collections took 22% CPU time recently (threshold: 10%)\n",
      "distributed.utils_perf - WARNING - full garbage collections took 22% CPU time recently (threshold: 10%)\n",
      "distributed.utils_perf - WARNING - full garbage collections took 21% CPU time recently (threshold: 10%)\n",
      "distributed.utils_perf - WARNING - full garbage collections took 21% CPU time recently (threshold: 10%)\n",
      "distributed.utils_perf - WARNING - full garbage collections took 21% CPU time recently (threshold: 10%)\n",
      "distributed.utils_perf - WARNING - full garbage collections took 21% CPU time recently (threshold: 10%)\n",
      "distributed.utils_perf - WARNING - full garbage collections took 21% CPU time recently (threshold: 10%)\n",
      "distributed.utils_perf - WARNING - full garbage collections took 22% CPU time recently (threshold: 10%)\n",
      "distributed.utils_perf - WARNING - full garbage collections took 22% CPU time recently (threshold: 10%)\n",
      "distributed.utils_perf - WARNING - full garbage collections took 22% CPU time recently (threshold: 10%)\n",
      "distributed.utils_perf - WARNING - full garbage collections took 31% CPU time recently (threshold: 10%)\n",
      "distributed.utils_perf - WARNING - full garbage collections took 31% CPU time recently (threshold: 10%)\n",
      "distributed.utils_perf - WARNING - full garbage collections took 30% CPU time recently (threshold: 10%)\n",
      "distributed.utils_perf - WARNING - full garbage collections took 30% CPU time recently (threshold: 10%)\n",
      "distributed.utils_perf - WARNING - full garbage collections took 30% CPU time recently (threshold: 10%)\n"
     ]
    },
    {
     "name": "stdout",
     "output_type": "stream",
     "text": [
      "GPS grazing hrs: 58.99\n",
      "Grid (1 m) grazing hrs: 59.0\n",
      "Grid (30 m) grazing hrs: 55.44\n",
      "  2294_D3_2016\n"
     ]
    },
    {
     "name": "stderr",
     "output_type": "stream",
     "text": [
      "distributed.utils_perf - WARNING - full garbage collections took 21% CPU time recently (threshold: 10%)\n",
      "distributed.utils_perf - WARNING - full garbage collections took 21% CPU time recently (threshold: 10%)\n",
      "distributed.utils_perf - WARNING - full garbage collections took 21% CPU time recently (threshold: 10%)\n",
      "distributed.utils_perf - WARNING - full garbage collections took 28% CPU time recently (threshold: 10%)\n",
      "distributed.utils_perf - WARNING - full garbage collections took 28% CPU time recently (threshold: 10%)\n",
      "distributed.utils_perf - WARNING - full garbage collections took 29% CPU time recently (threshold: 10%)\n",
      "distributed.utils_perf - WARNING - full garbage collections took 28% CPU time recently (threshold: 10%)\n",
      "distributed.utils_perf - WARNING - full garbage collections took 28% CPU time recently (threshold: 10%)\n",
      "distributed.utils_perf - WARNING - full garbage collections took 28% CPU time recently (threshold: 10%)\n",
      "distributed.utils_perf - WARNING - full garbage collections took 28% CPU time recently (threshold: 10%)\n",
      "distributed.utils_perf - WARNING - full garbage collections took 28% CPU time recently (threshold: 10%)\n",
      "distributed.utils_perf - WARNING - full garbage collections took 28% CPU time recently (threshold: 10%)\n"
     ]
    },
    {
     "name": "stdout",
     "output_type": "stream",
     "text": [
      "GPS grazing hrs: 69.03\n",
      "Grid (1 m) grazing hrs: 69.04\n",
      "Grid (30 m) grazing hrs: 62.51\n",
      "Pasture: 24W (test)\n",
      "  3770_D3_2016\n"
     ]
    },
    {
     "name": "stderr",
     "output_type": "stream",
     "text": [
      "distributed.utils_perf - WARNING - full garbage collections took 20% CPU time recently (threshold: 10%)\n",
      "distributed.utils_perf - WARNING - full garbage collections took 20% CPU time recently (threshold: 10%)\n",
      "distributed.utils_perf - WARNING - full garbage collections took 26% CPU time recently (threshold: 10%)\n",
      "distributed.utils_perf - WARNING - full garbage collections took 26% CPU time recently (threshold: 10%)\n",
      "distributed.utils_perf - WARNING - full garbage collections took 26% CPU time recently (threshold: 10%)\n",
      "distributed.utils_perf - WARNING - full garbage collections took 26% CPU time recently (threshold: 10%)\n",
      "distributed.utils_perf - WARNING - full garbage collections took 26% CPU time recently (threshold: 10%)\n",
      "distributed.utils_perf - WARNING - full garbage collections took 26% CPU time recently (threshold: 10%)\n"
     ]
    },
    {
     "name": "stdout",
     "output_type": "stream",
     "text": [
      "GPS grazing hrs: 69.58\n",
      "Grid (1 m) grazing hrs: 69.57\n",
      "Grid (30 m) grazing hrs: 58.87\n",
      "Pasture: 26E (test)\n",
      "  3775_D3_2016\n"
     ]
    },
    {
     "name": "stderr",
     "output_type": "stream",
     "text": [
      "distributed.utils_perf - WARNING - full garbage collections took 21% CPU time recently (threshold: 10%)\n",
      "distributed.utils_perf - WARNING - full garbage collections took 20% CPU time recently (threshold: 10%)\n",
      "distributed.utils_perf - WARNING - full garbage collections took 20% CPU time recently (threshold: 10%)\n",
      "distributed.utils_perf - WARNING - full garbage collections took 20% CPU time recently (threshold: 10%)\n",
      "distributed.utils_perf - WARNING - full garbage collections took 20% CPU time recently (threshold: 10%)\n",
      "distributed.utils_perf - WARNING - full garbage collections took 20% CPU time recently (threshold: 10%)\n",
      "distributed.utils_perf - WARNING - full garbage collections took 20% CPU time recently (threshold: 10%)\n",
      "distributed.utils_perf - WARNING - full garbage collections took 20% CPU time recently (threshold: 10%)\n",
      "distributed.utils_perf - WARNING - full garbage collections took 20% CPU time recently (threshold: 10%)\n",
      "distributed.utils_perf - WARNING - full garbage collections took 20% CPU time recently (threshold: 10%)\n",
      "distributed.utils_perf - WARNING - full garbage collections took 28% CPU time recently (threshold: 10%)\n",
      "distributed.utils_perf - WARNING - full garbage collections took 28% CPU time recently (threshold: 10%)\n"
     ]
    },
    {
     "name": "stdout",
     "output_type": "stream",
     "text": [
      "GPS grazing hrs: 63.5\n",
      "Grid (1 m) grazing hrs: 63.61\n",
      "Grid (30 m) grazing hrs: 57.78\n",
      "Pasture: 25SE (test)\n",
      "  3778_D3_2016\n"
     ]
    },
    {
     "name": "stderr",
     "output_type": "stream",
     "text": [
      "distributed.utils_perf - WARNING - full garbage collections took 21% CPU time recently (threshold: 10%)\n",
      "distributed.utils_perf - WARNING - full garbage collections took 21% CPU time recently (threshold: 10%)\n",
      "distributed.utils_perf - WARNING - full garbage collections took 21% CPU time recently (threshold: 10%)\n",
      "distributed.utils_perf - WARNING - full garbage collections took 21% CPU time recently (threshold: 10%)\n",
      "distributed.utils_perf - WARNING - full garbage collections took 21% CPU time recently (threshold: 10%)\n",
      "distributed.utils_perf - WARNING - full garbage collections took 21% CPU time recently (threshold: 10%)\n",
      "distributed.utils_perf - WARNING - full garbage collections took 22% CPU time recently (threshold: 10%)\n",
      "distributed.utils_perf - WARNING - full garbage collections took 22% CPU time recently (threshold: 10%)\n",
      "distributed.utils_perf - WARNING - full garbage collections took 22% CPU time recently (threshold: 10%)\n",
      "distributed.utils_perf - WARNING - full garbage collections took 22% CPU time recently (threshold: 10%)\n",
      "distributed.utils_perf - WARNING - full garbage collections took 30% CPU time recently (threshold: 10%)\n",
      "distributed.utils_perf - WARNING - full garbage collections took 30% CPU time recently (threshold: 10%)\n",
      "distributed.utils_perf - WARNING - full garbage collections took 30% CPU time recently (threshold: 10%)\n",
      "distributed.utils_perf - WARNING - full garbage collections took 30% CPU time recently (threshold: 10%)\n",
      "distributed.utils_perf - WARNING - full garbage collections took 29% CPU time recently (threshold: 10%)\n",
      "distributed.utils_perf - WARNING - full garbage collections took 29% CPU time recently (threshold: 10%)\n"
     ]
    },
    {
     "name": "stdout",
     "output_type": "stream",
     "text": [
      "GPS grazing hrs: 65.07\n",
      "Grid (1 m) grazing hrs: 65.13\n",
      "Grid (30 m) grazing hrs: 62.86\n",
      "Pasture: 19N (test)\n",
      "  4597_D3_2016\n"
     ]
    },
    {
     "name": "stderr",
     "output_type": "stream",
     "text": [
      "distributed.utils_perf - WARNING - full garbage collections took 21% CPU time recently (threshold: 10%)\n",
      "distributed.utils_perf - WARNING - full garbage collections took 21% CPU time recently (threshold: 10%)\n",
      "distributed.utils_perf - WARNING - full garbage collections took 27% CPU time recently (threshold: 10%)\n",
      "distributed.utils_perf - WARNING - full garbage collections took 27% CPU time recently (threshold: 10%)\n",
      "distributed.utils_perf - WARNING - full garbage collections took 27% CPU time recently (threshold: 10%)\n",
      "distributed.utils_perf - WARNING - full garbage collections took 28% CPU time recently (threshold: 10%)\n",
      "distributed.utils_perf - WARNING - full garbage collections took 28% CPU time recently (threshold: 10%)\n",
      "distributed.utils_perf - WARNING - full garbage collections took 28% CPU time recently (threshold: 10%)\n",
      "distributed.utils_perf - WARNING - full garbage collections took 28% CPU time recently (threshold: 10%)\n",
      "distributed.utils_perf - WARNING - full garbage collections took 28% CPU time recently (threshold: 10%)\n"
     ]
    },
    {
     "name": "stdout",
     "output_type": "stream",
     "text": [
      "GPS grazing hrs: 72.33\n",
      "Grid (1 m) grazing hrs: 72.34\n",
      "Grid (30 m) grazing hrs: 63.5\n",
      "Pasture: 31E (test)\n",
      "  4598_D3_2016\n"
     ]
    },
    {
     "name": "stderr",
     "output_type": "stream",
     "text": [
      "distributed.utils_perf - WARNING - full garbage collections took 22% CPU time recently (threshold: 10%)\n",
      "distributed.utils_perf - WARNING - full garbage collections took 22% CPU time recently (threshold: 10%)\n",
      "distributed.utils_perf - WARNING - full garbage collections took 21% CPU time recently (threshold: 10%)\n",
      "distributed.utils_perf - WARNING - full garbage collections took 21% CPU time recently (threshold: 10%)\n",
      "distributed.utils_perf - WARNING - full garbage collections took 27% CPU time recently (threshold: 10%)\n",
      "distributed.utils_perf - WARNING - full garbage collections took 28% CPU time recently (threshold: 10%)\n",
      "distributed.utils_perf - WARNING - full garbage collections took 28% CPU time recently (threshold: 10%)\n",
      "distributed.utils_perf - WARNING - full garbage collections took 28% CPU time recently (threshold: 10%)\n",
      "distributed.utils_perf - WARNING - full garbage collections took 28% CPU time recently (threshold: 10%)\n",
      "distributed.utils_perf - WARNING - full garbage collections took 27% CPU time recently (threshold: 10%)\n",
      "distributed.utils_perf - WARNING - full garbage collections took 27% CPU time recently (threshold: 10%)\n",
      "distributed.utils_perf - WARNING - full garbage collections took 27% CPU time recently (threshold: 10%)\n"
     ]
    },
    {
     "name": "stdout",
     "output_type": "stream",
     "text": [
      "GPS grazing hrs: 62.84\n",
      "Grid (1 m) grazing hrs: 62.8\n",
      "Grid (30 m) grazing hrs: 56.53\n",
      "-------------Week starting: Sep 11 (37) -------------\n",
      "Pasture: 5E (test)\n",
      "  2285_D3_2016\n"
     ]
    },
    {
     "name": "stderr",
     "output_type": "stream",
     "text": [
      "distributed.utils_perf - WARNING - full garbage collections took 21% CPU time recently (threshold: 10%)\n",
      "distributed.utils_perf - WARNING - full garbage collections took 22% CPU time recently (threshold: 10%)\n",
      "distributed.utils_perf - WARNING - full garbage collections took 22% CPU time recently (threshold: 10%)\n",
      "distributed.utils_perf - WARNING - full garbage collections took 22% CPU time recently (threshold: 10%)\n",
      "distributed.utils_perf - WARNING - full garbage collections took 22% CPU time recently (threshold: 10%)\n",
      "distributed.utils_perf - WARNING - full garbage collections took 22% CPU time recently (threshold: 10%)\n",
      "distributed.utils_perf - WARNING - full garbage collections took 22% CPU time recently (threshold: 10%)\n",
      "distributed.utils_perf - WARNING - full garbage collections took 22% CPU time recently (threshold: 10%)\n",
      "distributed.utils_perf - WARNING - full garbage collections took 32% CPU time recently (threshold: 10%)\n",
      "distributed.utils_perf - WARNING - full garbage collections took 32% CPU time recently (threshold: 10%)\n"
     ]
    },
    {
     "name": "stdout",
     "output_type": "stream",
     "text": [
      "GPS grazing hrs: 69.36\n",
      "Grid (1 m) grazing hrs: 69.93\n",
      "Grid (30 m) grazing hrs: 66.26\n",
      "  3772_D3_2016\n",
      "    SKIPPING STEER: All points masked.\n",
      "  3773_D3_2016\n",
      "    SKIPPING STEER: All points masked.\n",
      "Pasture: 7NW (train)\n",
      "  2287_D3_2016\n"
     ]
    },
    {
     "name": "stderr",
     "output_type": "stream",
     "text": [
      "distributed.utils_perf - WARNING - full garbage collections took 24% CPU time recently (threshold: 10%)\n",
      "distributed.utils_perf - WARNING - full garbage collections took 24% CPU time recently (threshold: 10%)\n",
      "distributed.utils_perf - WARNING - full garbage collections took 24% CPU time recently (threshold: 10%)\n",
      "distributed.utils_perf - WARNING - full garbage collections took 24% CPU time recently (threshold: 10%)\n",
      "distributed.utils_perf - WARNING - full garbage collections took 24% CPU time recently (threshold: 10%)\n",
      "distributed.utils_perf - WARNING - full garbage collections took 24% CPU time recently (threshold: 10%)\n",
      "distributed.utils_perf - WARNING - full garbage collections took 24% CPU time recently (threshold: 10%)\n",
      "distributed.utils_perf - WARNING - full garbage collections took 24% CPU time recently (threshold: 10%)\n",
      "distributed.utils_perf - WARNING - full garbage collections took 32% CPU time recently (threshold: 10%)\n",
      "distributed.utils_perf - WARNING - full garbage collections took 32% CPU time recently (threshold: 10%)\n",
      "distributed.utils_perf - WARNING - full garbage collections took 32% CPU time recently (threshold: 10%)\n",
      "distributed.utils_perf - WARNING - full garbage collections took 32% CPU time recently (threshold: 10%)\n",
      "distributed.utils_perf - WARNING - full garbage collections took 32% CPU time recently (threshold: 10%)\n",
      "distributed.utils_perf - WARNING - full garbage collections took 32% CPU time recently (threshold: 10%)\n",
      "distributed.utils_perf - WARNING - full garbage collections took 32% CPU time recently (threshold: 10%)\n",
      "distributed.utils_perf - WARNING - full garbage collections took 31% CPU time recently (threshold: 10%)\n"
     ]
    },
    {
     "name": "stdout",
     "output_type": "stream",
     "text": [
      "GPS grazing hrs: 75.0\n",
      "Grid (1 m) grazing hrs: 74.99\n",
      "Grid (30 m) grazing hrs: 72.33\n",
      "  2288_D3_2016\n"
     ]
    },
    {
     "name": "stderr",
     "output_type": "stream",
     "text": [
      "distributed.utils_perf - WARNING - full garbage collections took 22% CPU time recently (threshold: 10%)\n",
      "distributed.utils_perf - WARNING - full garbage collections took 21% CPU time recently (threshold: 10%)\n",
      "distributed.utils_perf - WARNING - full garbage collections took 22% CPU time recently (threshold: 10%)\n",
      "distributed.utils_perf - WARNING - full garbage collections took 22% CPU time recently (threshold: 10%)\n",
      "distributed.utils_perf - WARNING - full garbage collections took 28% CPU time recently (threshold: 10%)\n",
      "distributed.utils_perf - WARNING - full garbage collections took 29% CPU time recently (threshold: 10%)\n",
      "distributed.utils_perf - WARNING - full garbage collections took 29% CPU time recently (threshold: 10%)\n",
      "distributed.utils_perf - WARNING - full garbage collections took 29% CPU time recently (threshold: 10%)\n",
      "distributed.utils_perf - WARNING - full garbage collections took 28% CPU time recently (threshold: 10%)\n",
      "distributed.utils_perf - WARNING - full garbage collections took 28% CPU time recently (threshold: 10%)\n",
      "distributed.utils_perf - WARNING - full garbage collections took 28% CPU time recently (threshold: 10%)\n",
      "distributed.utils_perf - WARNING - full garbage collections took 29% CPU time recently (threshold: 10%)\n"
     ]
    },
    {
     "name": "stdout",
     "output_type": "stream",
     "text": [
      "GPS grazing hrs: 63.73\n",
      "Grid (1 m) grazing hrs: 63.69\n",
      "Grid (30 m) grazing hrs: 62.48\n",
      "Pasture: 17N (train)\n",
      "  2289_D3_2016\n"
     ]
    },
    {
     "name": "stderr",
     "output_type": "stream",
     "text": [
      "distributed.utils_perf - WARNING - full garbage collections took 21% CPU time recently (threshold: 10%)\n",
      "distributed.utils_perf - WARNING - full garbage collections took 21% CPU time recently (threshold: 10%)\n",
      "distributed.utils_perf - WARNING - full garbage collections took 26% CPU time recently (threshold: 10%)\n",
      "distributed.utils_perf - WARNING - full garbage collections took 26% CPU time recently (threshold: 10%)\n",
      "distributed.utils_perf - WARNING - full garbage collections took 27% CPU time recently (threshold: 10%)\n",
      "distributed.utils_perf - WARNING - full garbage collections took 26% CPU time recently (threshold: 10%)\n",
      "distributed.utils_perf - WARNING - full garbage collections took 26% CPU time recently (threshold: 10%)\n",
      "distributed.utils_perf - WARNING - full garbage collections took 26% CPU time recently (threshold: 10%)\n",
      "distributed.utils_perf - WARNING - full garbage collections took 26% CPU time recently (threshold: 10%)\n",
      "distributed.utils_perf - WARNING - full garbage collections took 26% CPU time recently (threshold: 10%)\n"
     ]
    },
    {
     "name": "stdout",
     "output_type": "stream",
     "text": [
      "GPS grazing hrs: 68.65\n",
      "Grid (1 m) grazing hrs: 68.6\n",
      "Grid (30 m) grazing hrs: 63.17\n",
      "  2290_D3_2016\n"
     ]
    },
    {
     "name": "stderr",
     "output_type": "stream",
     "text": [
      "distributed.utils_perf - WARNING - full garbage collections took 21% CPU time recently (threshold: 10%)\n",
      "distributed.utils_perf - WARNING - full garbage collections took 21% CPU time recently (threshold: 10%)\n",
      "distributed.utils_perf - WARNING - full garbage collections took 21% CPU time recently (threshold: 10%)\n",
      "distributed.utils_perf - WARNING - full garbage collections took 22% CPU time recently (threshold: 10%)\n",
      "distributed.utils_perf - WARNING - full garbage collections took 22% CPU time recently (threshold: 10%)\n",
      "distributed.utils_perf - WARNING - full garbage collections took 22% CPU time recently (threshold: 10%)\n",
      "distributed.utils_perf - WARNING - full garbage collections took 22% CPU time recently (threshold: 10%)\n",
      "distributed.utils_perf - WARNING - full garbage collections took 22% CPU time recently (threshold: 10%)\n",
      "distributed.utils_perf - WARNING - full garbage collections took 30% CPU time recently (threshold: 10%)\n",
      "distributed.utils_perf - WARNING - full garbage collections took 30% CPU time recently (threshold: 10%)\n"
     ]
    },
    {
     "name": "stdout",
     "output_type": "stream",
     "text": [
      "GPS grazing hrs: 60.57\n",
      "Grid (1 m) grazing hrs: 60.71\n",
      "Grid (30 m) grazing hrs: 53.53\n",
      "Pasture: 20SE (train)\n",
      "  2293_D3_2016\n"
     ]
    },
    {
     "name": "stderr",
     "output_type": "stream",
     "text": [
      "distributed.utils_perf - WARNING - full garbage collections took 23% CPU time recently (threshold: 10%)\n",
      "distributed.utils_perf - WARNING - full garbage collections took 23% CPU time recently (threshold: 10%)\n",
      "distributed.utils_perf - WARNING - full garbage collections took 23% CPU time recently (threshold: 10%)\n",
      "distributed.utils_perf - WARNING - full garbage collections took 22% CPU time recently (threshold: 10%)\n",
      "distributed.utils_perf - WARNING - full garbage collections took 22% CPU time recently (threshold: 10%)\n",
      "distributed.utils_perf - WARNING - full garbage collections took 22% CPU time recently (threshold: 10%)\n",
      "distributed.utils_perf - WARNING - full garbage collections took 23% CPU time recently (threshold: 10%)\n",
      "distributed.utils_perf - WARNING - full garbage collections took 23% CPU time recently (threshold: 10%)\n",
      "distributed.utils_perf - WARNING - full garbage collections took 23% CPU time recently (threshold: 10%)\n",
      "distributed.utils_perf - WARNING - full garbage collections took 23% CPU time recently (threshold: 10%)\n",
      "distributed.utils_perf - WARNING - full garbage collections took 32% CPU time recently (threshold: 10%)\n",
      "distributed.utils_perf - WARNING - full garbage collections took 32% CPU time recently (threshold: 10%)\n",
      "distributed.utils_perf - WARNING - full garbage collections took 31% CPU time recently (threshold: 10%)\n",
      "distributed.utils_perf - WARNING - full garbage collections took 31% CPU time recently (threshold: 10%)\n",
      "distributed.utils_perf - WARNING - full garbage collections took 31% CPU time recently (threshold: 10%)\n",
      "distributed.utils_perf - WARNING - full garbage collections took 31% CPU time recently (threshold: 10%)\n"
     ]
    },
    {
     "name": "stdout",
     "output_type": "stream",
     "text": [
      "GPS grazing hrs: 61.81\n",
      "Grid (1 m) grazing hrs: 62.05\n",
      "Grid (30 m) grazing hrs: 59.39\n",
      "  2294_D3_2016\n"
     ]
    },
    {
     "name": "stderr",
     "output_type": "stream",
     "text": [
      "distributed.utils_perf - WARNING - full garbage collections took 22% CPU time recently (threshold: 10%)\n",
      "distributed.utils_perf - WARNING - full garbage collections took 22% CPU time recently (threshold: 10%)\n",
      "distributed.utils_perf - WARNING - full garbage collections took 22% CPU time recently (threshold: 10%)\n",
      "distributed.utils_perf - WARNING - full garbage collections took 22% CPU time recently (threshold: 10%)\n",
      "distributed.utils_perf - WARNING - full garbage collections took 29% CPU time recently (threshold: 10%)\n",
      "distributed.utils_perf - WARNING - full garbage collections took 29% CPU time recently (threshold: 10%)\n",
      "distributed.utils_perf - WARNING - full garbage collections took 29% CPU time recently (threshold: 10%)\n",
      "distributed.utils_perf - WARNING - full garbage collections took 29% CPU time recently (threshold: 10%)\n",
      "distributed.utils_perf - WARNING - full garbage collections took 29% CPU time recently (threshold: 10%)\n",
      "distributed.utils_perf - WARNING - full garbage collections took 29% CPU time recently (threshold: 10%)\n",
      "distributed.utils_perf - WARNING - full garbage collections took 29% CPU time recently (threshold: 10%)\n",
      "distributed.utils_perf - WARNING - full garbage collections took 29% CPU time recently (threshold: 10%)\n"
     ]
    },
    {
     "name": "stdout",
     "output_type": "stream",
     "text": [
      "GPS grazing hrs: 69.23\n",
      "Grid (1 m) grazing hrs: 69.43\n",
      "Grid (30 m) grazing hrs: 65.33\n",
      "Pasture: 24W (test)\n",
      "  3770_D3_2016\n"
     ]
    },
    {
     "name": "stderr",
     "output_type": "stream",
     "text": [
      "distributed.utils_perf - WARNING - full garbage collections took 21% CPU time recently (threshold: 10%)\n",
      "distributed.utils_perf - WARNING - full garbage collections took 21% CPU time recently (threshold: 10%)\n",
      "distributed.utils_perf - WARNING - full garbage collections took 27% CPU time recently (threshold: 10%)\n",
      "distributed.utils_perf - WARNING - full garbage collections took 27% CPU time recently (threshold: 10%)\n",
      "distributed.utils_perf - WARNING - full garbage collections took 27% CPU time recently (threshold: 10%)\n",
      "distributed.utils_perf - WARNING - full garbage collections took 27% CPU time recently (threshold: 10%)\n",
      "distributed.utils_perf - WARNING - full garbage collections took 27% CPU time recently (threshold: 10%)\n",
      "distributed.utils_perf - WARNING - full garbage collections took 27% CPU time recently (threshold: 10%)\n",
      "distributed.utils_perf - WARNING - full garbage collections took 26% CPU time recently (threshold: 10%)\n",
      "distributed.utils_perf - WARNING - full garbage collections took 27% CPU time recently (threshold: 10%)\n"
     ]
    },
    {
     "name": "stdout",
     "output_type": "stream",
     "text": [
      "GPS grazing hrs: 73.1\n",
      "Grid (1 m) grazing hrs: 73.18\n",
      "Grid (30 m) grazing hrs: 69.29\n",
      "Pasture: 15E (train)\n",
      "  3772_D3_2016\n"
     ]
    },
    {
     "name": "stderr",
     "output_type": "stream",
     "text": [
      "distributed.utils_perf - WARNING - full garbage collections took 21% CPU time recently (threshold: 10%)\n",
      "distributed.utils_perf - WARNING - full garbage collections took 21% CPU time recently (threshold: 10%)\n",
      "distributed.utils_perf - WARNING - full garbage collections took 21% CPU time recently (threshold: 10%)\n",
      "distributed.utils_perf - WARNING - full garbage collections took 21% CPU time recently (threshold: 10%)\n",
      "distributed.utils_perf - WARNING - full garbage collections took 22% CPU time recently (threshold: 10%)\n",
      "distributed.utils_perf - WARNING - full garbage collections took 22% CPU time recently (threshold: 10%)\n",
      "distributed.utils_perf - WARNING - full garbage collections took 22% CPU time recently (threshold: 10%)\n",
      "distributed.utils_perf - WARNING - full garbage collections took 22% CPU time recently (threshold: 10%)\n",
      "distributed.utils_perf - WARNING - full garbage collections took 30% CPU time recently (threshold: 10%)\n",
      "distributed.utils_perf - WARNING - full garbage collections took 30% CPU time recently (threshold: 10%)\n"
     ]
    },
    {
     "name": "stdout",
     "output_type": "stream",
     "text": [
      "GPS grazing hrs: 63.1\n",
      "Grid (1 m) grazing hrs: 63.12\n",
      "Grid (30 m) grazing hrs: 59.12\n",
      "  3773_D3_2016\n"
     ]
    },
    {
     "name": "stderr",
     "output_type": "stream",
     "text": [
      "distributed.utils_perf - WARNING - full garbage collections took 23% CPU time recently (threshold: 10%)\n",
      "distributed.utils_perf - WARNING - full garbage collections took 22% CPU time recently (threshold: 10%)\n",
      "distributed.utils_perf - WARNING - full garbage collections took 22% CPU time recently (threshold: 10%)\n",
      "distributed.utils_perf - WARNING - full garbage collections took 22% CPU time recently (threshold: 10%)\n",
      "distributed.utils_perf - WARNING - full garbage collections took 22% CPU time recently (threshold: 10%)\n",
      "distributed.utils_perf - WARNING - full garbage collections took 22% CPU time recently (threshold: 10%)\n",
      "distributed.utils_perf - WARNING - full garbage collections took 22% CPU time recently (threshold: 10%)\n",
      "distributed.utils_perf - WARNING - full garbage collections took 22% CPU time recently (threshold: 10%)\n",
      "distributed.utils_perf - WARNING - full garbage collections took 22% CPU time recently (threshold: 10%)\n",
      "distributed.utils_perf - WARNING - full garbage collections took 22% CPU time recently (threshold: 10%)\n",
      "distributed.utils_perf - WARNING - full garbage collections took 31% CPU time recently (threshold: 10%)\n",
      "distributed.utils_perf - WARNING - full garbage collections took 31% CPU time recently (threshold: 10%)\n",
      "distributed.utils_perf - WARNING - full garbage collections took 31% CPU time recently (threshold: 10%)\n"
     ]
    },
    {
     "name": "stdout",
     "output_type": "stream",
     "text": [
      "GPS grazing hrs: 73.14\n",
      "Grid (1 m) grazing hrs: 73.1\n",
      "Grid (30 m) grazing hrs: 65.7\n",
      "Pasture: 26E (train)\n",
      "  3775_D3_2016\n"
     ]
    },
    {
     "name": "stderr",
     "output_type": "stream",
     "text": [
      "distributed.utils_perf - WARNING - full garbage collections took 24% CPU time recently (threshold: 10%)\n",
      "distributed.utils_perf - WARNING - full garbage collections took 24% CPU time recently (threshold: 10%)\n",
      "distributed.utils_perf - WARNING - full garbage collections took 24% CPU time recently (threshold: 10%)\n",
      "distributed.utils_perf - WARNING - full garbage collections took 23% CPU time recently (threshold: 10%)\n",
      "distributed.utils_perf - WARNING - full garbage collections took 24% CPU time recently (threshold: 10%)\n",
      "distributed.utils_perf - WARNING - full garbage collections took 24% CPU time recently (threshold: 10%)\n",
      "distributed.utils_perf - WARNING - full garbage collections took 24% CPU time recently (threshold: 10%)\n",
      "distributed.utils_perf - WARNING - full garbage collections took 31% CPU time recently (threshold: 10%)\n",
      "distributed.utils_perf - WARNING - full garbage collections took 31% CPU time recently (threshold: 10%)\n",
      "distributed.utils_perf - WARNING - full garbage collections took 31% CPU time recently (threshold: 10%)\n"
     ]
    },
    {
     "name": "stdout",
     "output_type": "stream",
     "text": [
      "GPS grazing hrs: 66.09\n",
      "Grid (1 m) grazing hrs: 66.17\n",
      "Grid (30 m) grazing hrs: 61.61\n",
      "Pasture: 25SE (test)\n",
      "  3778_D3_2016\n"
     ]
    },
    {
     "name": "stderr",
     "output_type": "stream",
     "text": [
      "distributed.utils_perf - WARNING - full garbage collections took 23% CPU time recently (threshold: 10%)\n",
      "distributed.utils_perf - WARNING - full garbage collections took 23% CPU time recently (threshold: 10%)\n",
      "distributed.utils_perf - WARNING - full garbage collections took 23% CPU time recently (threshold: 10%)\n",
      "distributed.utils_perf - WARNING - full garbage collections took 23% CPU time recently (threshold: 10%)\n",
      "distributed.utils_perf - WARNING - full garbage collections took 23% CPU time recently (threshold: 10%)\n",
      "distributed.utils_perf - WARNING - full garbage collections took 23% CPU time recently (threshold: 10%)\n",
      "distributed.utils_perf - WARNING - full garbage collections took 23% CPU time recently (threshold: 10%)\n",
      "distributed.utils_perf - WARNING - full garbage collections took 32% CPU time recently (threshold: 10%)\n",
      "distributed.utils_perf - WARNING - full garbage collections took 32% CPU time recently (threshold: 10%)\n",
      "distributed.utils_perf - WARNING - full garbage collections took 32% CPU time recently (threshold: 10%)\n",
      "distributed.utils_perf - WARNING - full garbage collections took 32% CPU time recently (threshold: 10%)\n",
      "distributed.utils_perf - WARNING - full garbage collections took 32% CPU time recently (threshold: 10%)\n",
      "distributed.utils_perf - WARNING - full garbage collections took 32% CPU time recently (threshold: 10%)\n",
      "distributed.utils_perf - WARNING - full garbage collections took 32% CPU time recently (threshold: 10%)\n"
     ]
    },
    {
     "name": "stdout",
     "output_type": "stream",
     "text": [
      "GPS grazing hrs: 72.25\n",
      "Grid (1 m) grazing hrs: 72.2\n",
      "Grid (30 m) grazing hrs: 67.99\n",
      "Pasture: 19N (test)\n",
      "  4597_D3_2016\n"
     ]
    },
    {
     "name": "stderr",
     "output_type": "stream",
     "text": [
      "distributed.utils_perf - WARNING - full garbage collections took 23% CPU time recently (threshold: 10%)\n",
      "distributed.utils_perf - WARNING - full garbage collections took 23% CPU time recently (threshold: 10%)\n",
      "distributed.utils_perf - WARNING - full garbage collections took 23% CPU time recently (threshold: 10%)\n",
      "distributed.utils_perf - WARNING - full garbage collections took 23% CPU time recently (threshold: 10%)\n",
      "distributed.utils_perf - WARNING - full garbage collections took 23% CPU time recently (threshold: 10%)\n",
      "distributed.utils_perf - WARNING - full garbage collections took 23% CPU time recently (threshold: 10%)\n",
      "distributed.utils_perf - WARNING - full garbage collections took 29% CPU time recently (threshold: 10%)\n",
      "distributed.utils_perf - WARNING - full garbage collections took 29% CPU time recently (threshold: 10%)\n",
      "distributed.utils_perf - WARNING - full garbage collections took 29% CPU time recently (threshold: 10%)\n",
      "distributed.utils_perf - WARNING - full garbage collections took 29% CPU time recently (threshold: 10%)\n"
     ]
    },
    {
     "name": "stdout",
     "output_type": "stream",
     "text": [
      "GPS grazing hrs: 74.46\n",
      "Grid (1 m) grazing hrs: 74.42\n",
      "Grid (30 m) grazing hrs: 64.93\n",
      "Pasture: 31E (train)\n",
      "  4598_D3_2016\n"
     ]
    },
    {
     "name": "stderr",
     "output_type": "stream",
     "text": [
      "distributed.utils_perf - WARNING - full garbage collections took 22% CPU time recently (threshold: 10%)\n",
      "distributed.utils_perf - WARNING - full garbage collections took 22% CPU time recently (threshold: 10%)\n",
      "distributed.utils_perf - WARNING - full garbage collections took 22% CPU time recently (threshold: 10%)\n",
      "distributed.utils_perf - WARNING - full garbage collections took 22% CPU time recently (threshold: 10%)\n",
      "distributed.utils_perf - WARNING - full garbage collections took 22% CPU time recently (threshold: 10%)\n",
      "distributed.utils_perf - WARNING - full garbage collections took 22% CPU time recently (threshold: 10%)\n",
      "distributed.utils_perf - WARNING - full garbage collections took 29% CPU time recently (threshold: 10%)\n",
      "distributed.utils_perf - WARNING - full garbage collections took 29% CPU time recently (threshold: 10%)\n",
      "distributed.utils_perf - WARNING - full garbage collections took 29% CPU time recently (threshold: 10%)\n",
      "distributed.utils_perf - WARNING - full garbage collections took 29% CPU time recently (threshold: 10%)\n",
      "distributed.utils_perf - WARNING - full garbage collections took 29% CPU time recently (threshold: 10%)\n",
      "distributed.utils_perf - WARNING - full garbage collections took 28% CPU time recently (threshold: 10%)\n"
     ]
    },
    {
     "name": "stdout",
     "output_type": "stream",
     "text": [
      "GPS grazing hrs: 64.89\n",
      "Grid (1 m) grazing hrs: 64.89\n",
      "Grid (30 m) grazing hrs: 59.69\n",
      "-------------Week starting: Sep 18 (38) -------------\n",
      "Pasture: 5E (test)\n",
      "  2285_D3_2016\n"
     ]
    },
    {
     "name": "stderr",
     "output_type": "stream",
     "text": [
      "distributed.utils_perf - WARNING - full garbage collections took 22% CPU time recently (threshold: 10%)\n",
      "distributed.utils_perf - WARNING - full garbage collections took 21% CPU time recently (threshold: 10%)\n",
      "distributed.utils_perf - WARNING - full garbage collections took 21% CPU time recently (threshold: 10%)\n",
      "distributed.utils_perf - WARNING - full garbage collections took 21% CPU time recently (threshold: 10%)\n",
      "distributed.utils_perf - WARNING - full garbage collections took 21% CPU time recently (threshold: 10%)\n",
      "distributed.utils_perf - WARNING - full garbage collections took 21% CPU time recently (threshold: 10%)\n",
      "distributed.utils_perf - WARNING - full garbage collections took 22% CPU time recently (threshold: 10%)\n",
      "distributed.utils_perf - WARNING - full garbage collections took 22% CPU time recently (threshold: 10%)\n",
      "distributed.utils_perf - WARNING - full garbage collections took 31% CPU time recently (threshold: 10%)\n",
      "distributed.utils_perf - WARNING - full garbage collections took 31% CPU time recently (threshold: 10%)\n",
      "distributed.utils_perf - WARNING - full garbage collections took 30% CPU time recently (threshold: 10%)\n"
     ]
    },
    {
     "name": "stdout",
     "output_type": "stream",
     "text": [
      "GPS grazing hrs: 66.97\n",
      "Grid (1 m) grazing hrs: 67.23\n",
      "Grid (30 m) grazing hrs: 62.42\n",
      "  2286_D3_2016\n"
     ]
    },
    {
     "name": "stderr",
     "output_type": "stream",
     "text": [
      "distributed.utils_perf - WARNING - full garbage collections took 23% CPU time recently (threshold: 10%)\n",
      "distributed.utils_perf - WARNING - full garbage collections took 23% CPU time recently (threshold: 10%)\n",
      "distributed.utils_perf - WARNING - full garbage collections took 23% CPU time recently (threshold: 10%)\n",
      "distributed.utils_perf - WARNING - full garbage collections took 23% CPU time recently (threshold: 10%)\n",
      "distributed.utils_perf - WARNING - full garbage collections took 23% CPU time recently (threshold: 10%)\n",
      "distributed.utils_perf - WARNING - full garbage collections took 23% CPU time recently (threshold: 10%)\n",
      "distributed.utils_perf - WARNING - full garbage collections took 23% CPU time recently (threshold: 10%)\n",
      "distributed.utils_perf - WARNING - full garbage collections took 31% CPU time recently (threshold: 10%)\n",
      "distributed.utils_perf - WARNING - full garbage collections took 31% CPU time recently (threshold: 10%)\n",
      "distributed.utils_perf - WARNING - full garbage collections took 32% CPU time recently (threshold: 10%)\n",
      "distributed.utils_perf - WARNING - full garbage collections took 32% CPU time recently (threshold: 10%)\n",
      "distributed.utils_perf - WARNING - full garbage collections took 32% CPU time recently (threshold: 10%)\n"
     ]
    },
    {
     "name": "stdout",
     "output_type": "stream",
     "text": [
      "GPS grazing hrs: 67.17\n",
      "Grid (1 m) grazing hrs: 67.21\n",
      "Grid (30 m) grazing hrs: 64.33\n",
      "  3772_D3_2016\n",
      "    SKIPPING STEER: All points masked.\n",
      "  3773_D3_2016\n",
      "    SKIPPING STEER: All points masked.\n",
      "Pasture: 7NW (train)\n",
      "  2287_D3_2016\n"
     ]
    },
    {
     "name": "stderr",
     "output_type": "stream",
     "text": [
      "distributed.utils_perf - WARNING - full garbage collections took 23% CPU time recently (threshold: 10%)\n",
      "distributed.utils_perf - WARNING - full garbage collections took 23% CPU time recently (threshold: 10%)\n",
      "distributed.utils_perf - WARNING - full garbage collections took 23% CPU time recently (threshold: 10%)\n",
      "distributed.utils_perf - WARNING - full garbage collections took 23% CPU time recently (threshold: 10%)\n",
      "distributed.utils_perf - WARNING - full garbage collections took 23% CPU time recently (threshold: 10%)\n",
      "distributed.utils_perf - WARNING - full garbage collections took 24% CPU time recently (threshold: 10%)\n",
      "distributed.utils_perf - WARNING - full garbage collections took 24% CPU time recently (threshold: 10%)\n",
      "distributed.utils_perf - WARNING - full garbage collections took 32% CPU time recently (threshold: 10%)\n",
      "distributed.utils_perf - WARNING - full garbage collections took 32% CPU time recently (threshold: 10%)\n",
      "distributed.utils_perf - WARNING - full garbage collections took 32% CPU time recently (threshold: 10%)\n",
      "distributed.utils_perf - WARNING - full garbage collections took 32% CPU time recently (threshold: 10%)\n",
      "distributed.utils_perf - WARNING - full garbage collections took 32% CPU time recently (threshold: 10%)\n",
      "distributed.utils_perf - WARNING - full garbage collections took 32% CPU time recently (threshold: 10%)\n",
      "distributed.utils_perf - WARNING - full garbage collections took 32% CPU time recently (threshold: 10%)\n",
      "distributed.utils_perf - WARNING - full garbage collections took 32% CPU time recently (threshold: 10%)\n"
     ]
    },
    {
     "name": "stdout",
     "output_type": "stream",
     "text": [
      "GPS grazing hrs: 74.25\n",
      "Grid (1 m) grazing hrs: 74.27\n",
      "Grid (30 m) grazing hrs: 67.66\n",
      "  2288_D3_2016\n"
     ]
    },
    {
     "name": "stderr",
     "output_type": "stream",
     "text": [
      "distributed.utils_perf - WARNING - full garbage collections took 22% CPU time recently (threshold: 10%)\n",
      "distributed.utils_perf - WARNING - full garbage collections took 22% CPU time recently (threshold: 10%)\n",
      "distributed.utils_perf - WARNING - full garbage collections took 22% CPU time recently (threshold: 10%)\n",
      "distributed.utils_perf - WARNING - full garbage collections took 27% CPU time recently (threshold: 10%)\n",
      "distributed.utils_perf - WARNING - full garbage collections took 27% CPU time recently (threshold: 10%)\n",
      "distributed.utils_perf - WARNING - full garbage collections took 28% CPU time recently (threshold: 10%)\n",
      "distributed.utils_perf - WARNING - full garbage collections took 28% CPU time recently (threshold: 10%)\n",
      "distributed.utils_perf - WARNING - full garbage collections took 28% CPU time recently (threshold: 10%)\n",
      "distributed.utils_perf - WARNING - full garbage collections took 29% CPU time recently (threshold: 10%)\n",
      "distributed.utils_perf - WARNING - full garbage collections took 29% CPU time recently (threshold: 10%)\n",
      "distributed.utils_perf - WARNING - full garbage collections took 29% CPU time recently (threshold: 10%)\n",
      "distributed.utils_perf - WARNING - full garbage collections took 29% CPU time recently (threshold: 10%)\n",
      "distributed.utils_perf - WARNING - full garbage collections took 28% CPU time recently (threshold: 10%)\n",
      "distributed.utils_perf - WARNING - full garbage collections took 28% CPU time recently (threshold: 10%)\n",
      "distributed.utils_perf - WARNING - full garbage collections took 28% CPU time recently (threshold: 10%)\n",
      "distributed.utils_perf - WARNING - full garbage collections took 40% CPU time recently (threshold: 10%)\n"
     ]
    },
    {
     "name": "stdout",
     "output_type": "stream",
     "text": [
      "GPS grazing hrs: 59.4\n",
      "Grid (1 m) grazing hrs: 59.44\n",
      "Grid (30 m) grazing hrs: 58.9\n",
      "Pasture: 17N (train)\n",
      "  2289_D3_2016\n"
     ]
    },
    {
     "name": "stderr",
     "output_type": "stream",
     "text": [
      "distributed.utils_perf - WARNING - full garbage collections took 27% CPU time recently (threshold: 10%)\n",
      "distributed.utils_perf - WARNING - full garbage collections took 26% CPU time recently (threshold: 10%)\n",
      "distributed.utils_perf - WARNING - full garbage collections took 26% CPU time recently (threshold: 10%)\n",
      "distributed.utils_perf - WARNING - full garbage collections took 26% CPU time recently (threshold: 10%)\n",
      "distributed.utils_perf - WARNING - full garbage collections took 26% CPU time recently (threshold: 10%)\n",
      "distributed.utils_perf - WARNING - full garbage collections took 25% CPU time recently (threshold: 10%)\n",
      "distributed.utils_perf - WARNING - full garbage collections took 25% CPU time recently (threshold: 10%)\n",
      "distributed.utils_perf - WARNING - full garbage collections took 25% CPU time recently (threshold: 10%)\n",
      "distributed.utils_perf - WARNING - full garbage collections took 25% CPU time recently (threshold: 10%)\n",
      "distributed.utils_perf - WARNING - full garbage collections took 25% CPU time recently (threshold: 10%)\n",
      "distributed.utils_perf - WARNING - full garbage collections took 25% CPU time recently (threshold: 10%)\n",
      "distributed.utils_perf - WARNING - full garbage collections took 25% CPU time recently (threshold: 10%)\n",
      "distributed.utils_perf - WARNING - full garbage collections took 25% CPU time recently (threshold: 10%)\n"
     ]
    },
    {
     "name": "stdout",
     "output_type": "stream",
     "text": [
      "GPS grazing hrs: 64.95\n",
      "Grid (1 m) grazing hrs: 64.96\n",
      "Grid (30 m) grazing hrs: 59.8\n",
      "  2290_D3_2016\n"
     ]
    },
    {
     "name": "stderr",
     "output_type": "stream",
     "text": [
      "distributed.utils_perf - WARNING - full garbage collections took 20% CPU time recently (threshold: 10%)\n",
      "distributed.utils_perf - WARNING - full garbage collections took 28% CPU time recently (threshold: 10%)\n",
      "distributed.utils_perf - WARNING - full garbage collections took 28% CPU time recently (threshold: 10%)\n",
      "distributed.utils_perf - WARNING - full garbage collections took 28% CPU time recently (threshold: 10%)\n",
      "distributed.utils_perf - WARNING - full garbage collections took 28% CPU time recently (threshold: 10%)\n",
      "distributed.utils_perf - WARNING - full garbage collections took 29% CPU time recently (threshold: 10%)\n",
      "distributed.utils_perf - WARNING - full garbage collections took 28% CPU time recently (threshold: 10%)\n",
      "distributed.utils_perf - WARNING - full garbage collections took 28% CPU time recently (threshold: 10%)\n",
      "distributed.utils_perf - WARNING - full garbage collections took 28% CPU time recently (threshold: 10%)\n",
      "distributed.utils_perf - WARNING - full garbage collections took 28% CPU time recently (threshold: 10%)\n",
      "distributed.utils_perf - WARNING - full garbage collections took 28% CPU time recently (threshold: 10%)\n"
     ]
    },
    {
     "name": "stdout",
     "output_type": "stream",
     "text": [
      "GPS grazing hrs: 58.22\n",
      "Grid (1 m) grazing hrs: 58.21\n",
      "Grid (30 m) grazing hrs: 52.44\n",
      "Pasture: 20SE (train)\n",
      "  2293_D3_2016\n"
     ]
    },
    {
     "name": "stderr",
     "output_type": "stream",
     "text": [
      "distributed.utils_perf - WARNING - full garbage collections took 21% CPU time recently (threshold: 10%)\n",
      "distributed.utils_perf - WARNING - full garbage collections took 21% CPU time recently (threshold: 10%)\n",
      "distributed.utils_perf - WARNING - full garbage collections took 22% CPU time recently (threshold: 10%)\n",
      "distributed.utils_perf - WARNING - full garbage collections took 22% CPU time recently (threshold: 10%)\n",
      "distributed.utils_perf - WARNING - full garbage collections took 22% CPU time recently (threshold: 10%)\n",
      "distributed.utils_perf - WARNING - full garbage collections took 22% CPU time recently (threshold: 10%)\n",
      "distributed.utils_perf - WARNING - full garbage collections took 32% CPU time recently (threshold: 10%)\n",
      "distributed.utils_perf - WARNING - full garbage collections took 33% CPU time recently (threshold: 10%)\n",
      "distributed.utils_perf - WARNING - full garbage collections took 33% CPU time recently (threshold: 10%)\n",
      "distributed.utils_perf - WARNING - full garbage collections took 33% CPU time recently (threshold: 10%)\n",
      "distributed.utils_perf - WARNING - full garbage collections took 32% CPU time recently (threshold: 10%)\n",
      "distributed.utils_perf - WARNING - full garbage collections took 32% CPU time recently (threshold: 10%)\n",
      "distributed.utils_perf - WARNING - full garbage collections took 28% CPU time recently (threshold: 10%)\n"
     ]
    },
    {
     "name": "stdout",
     "output_type": "stream",
     "text": [
      "GPS grazing hrs: 55.47\n",
      "Grid (1 m) grazing hrs: 55.66\n",
      "Grid (30 m) grazing hrs: 53.33\n",
      "  2294_D3_2016\n"
     ]
    },
    {
     "name": "stderr",
     "output_type": "stream",
     "text": [
      "distributed.utils_perf - WARNING - full garbage collections took 22% CPU time recently (threshold: 10%)\n",
      "distributed.utils_perf - WARNING - full garbage collections took 22% CPU time recently (threshold: 10%)\n",
      "distributed.utils_perf - WARNING - full garbage collections took 22% CPU time recently (threshold: 10%)\n",
      "distributed.utils_perf - WARNING - full garbage collections took 22% CPU time recently (threshold: 10%)\n",
      "distributed.utils_perf - WARNING - full garbage collections took 22% CPU time recently (threshold: 10%)\n",
      "distributed.utils_perf - WARNING - full garbage collections took 22% CPU time recently (threshold: 10%)\n",
      "distributed.utils_perf - WARNING - full garbage collections took 28% CPU time recently (threshold: 10%)\n",
      "distributed.utils_perf - WARNING - full garbage collections took 29% CPU time recently (threshold: 10%)\n",
      "distributed.utils_perf - WARNING - full garbage collections took 29% CPU time recently (threshold: 10%)\n",
      "distributed.utils_perf - WARNING - full garbage collections took 29% CPU time recently (threshold: 10%)\n",
      "distributed.utils_perf - WARNING - full garbage collections took 29% CPU time recently (threshold: 10%)\n",
      "distributed.utils_perf - WARNING - full garbage collections took 29% CPU time recently (threshold: 10%)\n",
      "distributed.utils_perf - WARNING - full garbage collections took 29% CPU time recently (threshold: 10%)\n",
      "distributed.utils_perf - WARNING - full garbage collections took 29% CPU time recently (threshold: 10%)\n",
      "distributed.utils_perf - WARNING - full garbage collections took 26% CPU time recently (threshold: 10%)\n"
     ]
    },
    {
     "name": "stdout",
     "output_type": "stream",
     "text": [
      "GPS grazing hrs: 70.24\n",
      "Grid (1 m) grazing hrs: 70.33\n",
      "Grid (30 m) grazing hrs: 65.27\n",
      "Pasture: 24W (test)\n",
      "  3770_D3_2016\n"
     ]
    },
    {
     "name": "stderr",
     "output_type": "stream",
     "text": [
      "distributed.utils_perf - WARNING - full garbage collections took 21% CPU time recently (threshold: 10%)\n",
      "distributed.utils_perf - WARNING - full garbage collections took 21% CPU time recently (threshold: 10%)\n",
      "distributed.utils_perf - WARNING - full garbage collections took 26% CPU time recently (threshold: 10%)\n",
      "distributed.utils_perf - WARNING - full garbage collections took 26% CPU time recently (threshold: 10%)\n",
      "distributed.utils_perf - WARNING - full garbage collections took 26% CPU time recently (threshold: 10%)\n",
      "distributed.utils_perf - WARNING - full garbage collections took 26% CPU time recently (threshold: 10%)\n",
      "distributed.utils_perf - WARNING - full garbage collections took 26% CPU time recently (threshold: 10%)\n",
      "distributed.utils_perf - WARNING - full garbage collections took 26% CPU time recently (threshold: 10%)\n",
      "distributed.utils_perf - WARNING - full garbage collections took 26% CPU time recently (threshold: 10%)\n",
      "distributed.utils_perf - WARNING - full garbage collections took 26% CPU time recently (threshold: 10%)\n",
      "distributed.utils_perf - WARNING - full garbage collections took 26% CPU time recently (threshold: 10%)\n"
     ]
    },
    {
     "name": "stdout",
     "output_type": "stream",
     "text": [
      "GPS grazing hrs: 70.08\n",
      "Grid (1 m) grazing hrs: 70.02\n",
      "Grid (30 m) grazing hrs: 64.4\n",
      "Pasture: 15E (train)\n",
      "  3772_D3_2016\n"
     ]
    },
    {
     "name": "stderr",
     "output_type": "stream",
     "text": [
      "distributed.utils_perf - WARNING - full garbage collections took 20% CPU time recently (threshold: 10%)\n",
      "distributed.utils_perf - WARNING - full garbage collections took 20% CPU time recently (threshold: 10%)\n",
      "distributed.utils_perf - WARNING - full garbage collections took 20% CPU time recently (threshold: 10%)\n",
      "distributed.utils_perf - WARNING - full garbage collections took 23% CPU time recently (threshold: 10%)\n",
      "distributed.utils_perf - WARNING - full garbage collections took 29% CPU time recently (threshold: 10%)\n",
      "distributed.utils_perf - WARNING - full garbage collections took 30% CPU time recently (threshold: 10%)\n",
      "distributed.utils_perf - WARNING - full garbage collections took 30% CPU time recently (threshold: 10%)\n",
      "distributed.utils_perf - WARNING - full garbage collections took 30% CPU time recently (threshold: 10%)\n",
      "distributed.utils_perf - WARNING - full garbage collections took 30% CPU time recently (threshold: 10%)\n",
      "distributed.utils_perf - WARNING - full garbage collections took 30% CPU time recently (threshold: 10%)\n"
     ]
    },
    {
     "name": "stdout",
     "output_type": "stream",
     "text": [
      "GPS grazing hrs: 61.33\n",
      "Grid (1 m) grazing hrs: 61.39\n",
      "Grid (30 m) grazing hrs: 51.93\n",
      "  3773_D3_2016\n"
     ]
    },
    {
     "name": "stderr",
     "output_type": "stream",
     "text": [
      "distributed.utils_perf - WARNING - full garbage collections took 23% CPU time recently (threshold: 10%)\n",
      "distributed.utils_perf - WARNING - full garbage collections took 23% CPU time recently (threshold: 10%)\n",
      "distributed.utils_perf - WARNING - full garbage collections took 22% CPU time recently (threshold: 10%)\n",
      "distributed.utils_perf - WARNING - full garbage collections took 22% CPU time recently (threshold: 10%)\n",
      "distributed.utils_perf - WARNING - full garbage collections took 22% CPU time recently (threshold: 10%)\n",
      "distributed.utils_perf - WARNING - full garbage collections took 22% CPU time recently (threshold: 10%)\n",
      "distributed.utils_perf - WARNING - full garbage collections took 22% CPU time recently (threshold: 10%)\n",
      "distributed.utils_perf - WARNING - full garbage collections took 22% CPU time recently (threshold: 10%)\n",
      "distributed.utils_perf - WARNING - full garbage collections took 24% CPU time recently (threshold: 10%)\n",
      "distributed.utils_perf - WARNING - full garbage collections took 31% CPU time recently (threshold: 10%)\n",
      "distributed.utils_perf - WARNING - full garbage collections took 31% CPU time recently (threshold: 10%)\n",
      "distributed.utils_perf - WARNING - full garbage collections took 31% CPU time recently (threshold: 10%)\n"
     ]
    },
    {
     "name": "stdout",
     "output_type": "stream",
     "text": [
      "GPS grazing hrs: 70.43\n",
      "Grid (1 m) grazing hrs: 70.42\n",
      "Grid (30 m) grazing hrs: 63.33\n",
      "Pasture: 26E (train)\n",
      "  3775_D3_2016\n"
     ]
    },
    {
     "name": "stderr",
     "output_type": "stream",
     "text": [
      "distributed.utils_perf - WARNING - full garbage collections took 24% CPU time recently (threshold: 10%)\n",
      "distributed.utils_perf - WARNING - full garbage collections took 24% CPU time recently (threshold: 10%)\n",
      "distributed.utils_perf - WARNING - full garbage collections took 24% CPU time recently (threshold: 10%)\n",
      "distributed.utils_perf - WARNING - full garbage collections took 24% CPU time recently (threshold: 10%)\n",
      "distributed.utils_perf - WARNING - full garbage collections took 23% CPU time recently (threshold: 10%)\n",
      "distributed.utils_perf - WARNING - full garbage collections took 24% CPU time recently (threshold: 10%)\n",
      "distributed.utils_perf - WARNING - full garbage collections took 24% CPU time recently (threshold: 10%)\n",
      "distributed.utils_perf - WARNING - full garbage collections took 23% CPU time recently (threshold: 10%)\n",
      "distributed.utils_perf - WARNING - full garbage collections took 31% CPU time recently (threshold: 10%)\n",
      "distributed.utils_perf - WARNING - full garbage collections took 31% CPU time recently (threshold: 10%)\n",
      "distributed.utils_perf - WARNING - full garbage collections took 31% CPU time recently (threshold: 10%)\n",
      "distributed.utils_perf - WARNING - full garbage collections took 31% CPU time recently (threshold: 10%)\n"
     ]
    },
    {
     "name": "stdout",
     "output_type": "stream",
     "text": [
      "GPS grazing hrs: 62.58\n",
      "Grid (1 m) grazing hrs: 62.84\n",
      "Grid (30 m) grazing hrs: 59.38\n",
      "Pasture: 25SE (test)\n",
      "  3778_D3_2016\n"
     ]
    },
    {
     "name": "stderr",
     "output_type": "stream",
     "text": [
      "distributed.utils_perf - WARNING - full garbage collections took 24% CPU time recently (threshold: 10%)\n",
      "distributed.utils_perf - WARNING - full garbage collections took 23% CPU time recently (threshold: 10%)\n",
      "distributed.utils_perf - WARNING - full garbage collections took 23% CPU time recently (threshold: 10%)\n",
      "distributed.utils_perf - WARNING - full garbage collections took 23% CPU time recently (threshold: 10%)\n",
      "distributed.utils_perf - WARNING - full garbage collections took 23% CPU time recently (threshold: 10%)\n",
      "distributed.utils_perf - WARNING - full garbage collections took 23% CPU time recently (threshold: 10%)\n",
      "distributed.utils_perf - WARNING - full garbage collections took 32% CPU time recently (threshold: 10%)\n",
      "distributed.utils_perf - WARNING - full garbage collections took 33% CPU time recently (threshold: 10%)\n",
      "distributed.utils_perf - WARNING - full garbage collections took 33% CPU time recently (threshold: 10%)\n",
      "distributed.utils_perf - WARNING - full garbage collections took 33% CPU time recently (threshold: 10%)\n",
      "distributed.utils_perf - WARNING - full garbage collections took 33% CPU time recently (threshold: 10%)\n",
      "distributed.utils_perf - WARNING - full garbage collections took 33% CPU time recently (threshold: 10%)\n",
      "distributed.utils_perf - WARNING - full garbage collections took 32% CPU time recently (threshold: 10%)\n",
      "distributed.utils_perf - WARNING - full garbage collections took 32% CPU time recently (threshold: 10%)\n"
     ]
    },
    {
     "name": "stdout",
     "output_type": "stream",
     "text": [
      "GPS grazing hrs: 73.61\n",
      "Grid (1 m) grazing hrs: 73.56\n",
      "Grid (30 m) grazing hrs: 70.85\n",
      "Pasture: 19N (test)\n",
      "  4597_D3_2016\n"
     ]
    },
    {
     "name": "stderr",
     "output_type": "stream",
     "text": [
      "distributed.utils_perf - WARNING - full garbage collections took 23% CPU time recently (threshold: 10%)\n",
      "distributed.utils_perf - WARNING - full garbage collections took 23% CPU time recently (threshold: 10%)\n",
      "distributed.utils_perf - WARNING - full garbage collections took 23% CPU time recently (threshold: 10%)\n",
      "distributed.utils_perf - WARNING - full garbage collections took 23% CPU time recently (threshold: 10%)\n",
      "distributed.utils_perf - WARNING - full garbage collections took 30% CPU time recently (threshold: 10%)\n",
      "distributed.utils_perf - WARNING - full garbage collections took 30% CPU time recently (threshold: 10%)\n",
      "distributed.utils_perf - WARNING - full garbage collections took 30% CPU time recently (threshold: 10%)\n",
      "distributed.utils_perf - WARNING - full garbage collections took 30% CPU time recently (threshold: 10%)\n",
      "distributed.utils_perf - WARNING - full garbage collections took 30% CPU time recently (threshold: 10%)\n",
      "distributed.utils_perf - WARNING - full garbage collections took 30% CPU time recently (threshold: 10%)\n",
      "distributed.utils_perf - WARNING - full garbage collections took 30% CPU time recently (threshold: 10%)\n"
     ]
    },
    {
     "name": "stdout",
     "output_type": "stream",
     "text": [
      "GPS grazing hrs: 75.57\n",
      "Grid (1 m) grazing hrs: 75.6\n",
      "Grid (30 m) grazing hrs: 68.86\n",
      "Pasture: 31E (train)\n",
      "  4598_D3_2016\n"
     ]
    },
    {
     "name": "stderr",
     "output_type": "stream",
     "text": [
      "distributed.utils_perf - WARNING - full garbage collections took 23% CPU time recently (threshold: 10%)\n",
      "distributed.utils_perf - WARNING - full garbage collections took 23% CPU time recently (threshold: 10%)\n",
      "distributed.utils_perf - WARNING - full garbage collections took 23% CPU time recently (threshold: 10%)\n",
      "distributed.utils_perf - WARNING - full garbage collections took 23% CPU time recently (threshold: 10%)\n",
      "distributed.utils_perf - WARNING - full garbage collections took 23% CPU time recently (threshold: 10%)\n",
      "distributed.utils_perf - WARNING - full garbage collections took 29% CPU time recently (threshold: 10%)\n",
      "distributed.utils_perf - WARNING - full garbage collections took 29% CPU time recently (threshold: 10%)\n",
      "distributed.utils_perf - WARNING - full garbage collections took 29% CPU time recently (threshold: 10%)\n",
      "distributed.utils_perf - WARNING - full garbage collections took 29% CPU time recently (threshold: 10%)\n",
      "distributed.utils_perf - WARNING - full garbage collections took 29% CPU time recently (threshold: 10%)\n"
     ]
    },
    {
     "name": "stdout",
     "output_type": "stream",
     "text": [
      "GPS grazing hrs: 62.36\n",
      "Grid (1 m) grazing hrs: 62.37\n",
      "Grid (30 m) grazing hrs: 58.46\n",
      "-------------Week starting: Sep 25 (39) -------------\n",
      "Pasture: 5E (test)\n",
      "  2285_D3_2016\n"
     ]
    },
    {
     "name": "stderr",
     "output_type": "stream",
     "text": [
      "distributed.utils_perf - WARNING - full garbage collections took 23% CPU time recently (threshold: 10%)\n",
      "distributed.utils_perf - WARNING - full garbage collections took 23% CPU time recently (threshold: 10%)\n",
      "distributed.utils_perf - WARNING - full garbage collections took 22% CPU time recently (threshold: 10%)\n",
      "distributed.utils_perf - WARNING - full garbage collections took 22% CPU time recently (threshold: 10%)\n",
      "distributed.utils_perf - WARNING - full garbage collections took 22% CPU time recently (threshold: 10%)\n",
      "distributed.utils_perf - WARNING - full garbage collections took 23% CPU time recently (threshold: 10%)\n",
      "distributed.utils_perf - WARNING - full garbage collections took 23% CPU time recently (threshold: 10%)\n",
      "distributed.utils_perf - WARNING - full garbage collections took 23% CPU time recently (threshold: 10%)\n"
     ]
    },
    {
     "name": "stdout",
     "output_type": "stream",
     "text": [
      "GPS grazing hrs: 48.0\n",
      "Grid (1 m) grazing hrs: 48.35\n",
      "Grid (30 m) grazing hrs: 44.13\n",
      "  2286_D3_2016\n"
     ]
    },
    {
     "name": "stderr",
     "output_type": "stream",
     "text": [
      "distributed.utils_perf - WARNING - full garbage collections took 19% CPU time recently (threshold: 10%)\n",
      "distributed.utils_perf - WARNING - full garbage collections took 24% CPU time recently (threshold: 10%)\n",
      "distributed.utils_perf - WARNING - full garbage collections took 24% CPU time recently (threshold: 10%)\n",
      "distributed.utils_perf - WARNING - full garbage collections took 24% CPU time recently (threshold: 10%)\n",
      "distributed.utils_perf - WARNING - full garbage collections took 24% CPU time recently (threshold: 10%)\n",
      "distributed.utils_perf - WARNING - full garbage collections took 24% CPU time recently (threshold: 10%)\n",
      "distributed.utils_perf - WARNING - full garbage collections took 25% CPU time recently (threshold: 10%)\n",
      "distributed.utils_perf - WARNING - full garbage collections took 25% CPU time recently (threshold: 10%)\n",
      "distributed.utils_perf - WARNING - full garbage collections took 25% CPU time recently (threshold: 10%)\n",
      "distributed.utils_perf - WARNING - full garbage collections took 25% CPU time recently (threshold: 10%)\n",
      "distributed.utils_perf - WARNING - full garbage collections took 25% CPU time recently (threshold: 10%)\n"
     ]
    },
    {
     "name": "stdout",
     "output_type": "stream",
     "text": [
      "GPS grazing hrs: 44.62\n",
      "Grid (1 m) grazing hrs: 44.85\n",
      "Grid (30 m) grazing hrs: 42.37\n",
      "  3772_D3_2016\n",
      "    SKIPPING STEER: All points masked.\n",
      "  3773_D3_2016\n",
      "    SKIPPING STEER: All points masked.\n",
      "Pasture: 7NW (train)\n",
      "  2287_D3_2016\n"
     ]
    },
    {
     "name": "stderr",
     "output_type": "stream",
     "text": [
      "distributed.utils_perf - WARNING - full garbage collections took 20% CPU time recently (threshold: 10%)\n",
      "distributed.utils_perf - WARNING - full garbage collections took 25% CPU time recently (threshold: 10%)\n",
      "distributed.utils_perf - WARNING - full garbage collections took 25% CPU time recently (threshold: 10%)\n",
      "distributed.utils_perf - WARNING - full garbage collections took 25% CPU time recently (threshold: 10%)\n",
      "distributed.utils_perf - WARNING - full garbage collections took 25% CPU time recently (threshold: 10%)\n",
      "distributed.utils_perf - WARNING - full garbage collections took 25% CPU time recently (threshold: 10%)\n",
      "distributed.utils_perf - WARNING - full garbage collections took 25% CPU time recently (threshold: 10%)\n",
      "distributed.utils_perf - WARNING - full garbage collections took 26% CPU time recently (threshold: 10%)\n",
      "distributed.utils_perf - WARNING - full garbage collections took 25% CPU time recently (threshold: 10%)\n",
      "distributed.utils_perf - WARNING - full garbage collections took 25% CPU time recently (threshold: 10%)\n",
      "distributed.utils_perf - WARNING - full garbage collections took 25% CPU time recently (threshold: 10%)\n",
      "distributed.utils_perf - WARNING - full garbage collections took 32% CPU time recently (threshold: 10%)\n",
      "distributed.utils_perf - WARNING - full garbage collections took 32% CPU time recently (threshold: 10%)\n",
      "distributed.utils_perf - WARNING - full garbage collections took 32% CPU time recently (threshold: 10%)\n",
      "distributed.utils_perf - WARNING - full garbage collections took 32% CPU time recently (threshold: 10%)\n",
      "distributed.utils_perf - WARNING - full garbage collections took 26% CPU time recently (threshold: 10%)\n"
     ]
    },
    {
     "name": "stdout",
     "output_type": "stream",
     "text": [
      "GPS grazing hrs: 49.63\n",
      "Grid (1 m) grazing hrs: 49.65\n",
      "Grid (30 m) grazing hrs: 40.37\n",
      "  2288_D3_2016\n"
     ]
    },
    {
     "name": "stderr",
     "output_type": "stream",
     "text": [
      "distributed.utils_perf - WARNING - full garbage collections took 23% CPU time recently (threshold: 10%)\n",
      "distributed.utils_perf - WARNING - full garbage collections took 22% CPU time recently (threshold: 10%)\n",
      "distributed.utils_perf - WARNING - full garbage collections took 22% CPU time recently (threshold: 10%)\n",
      "distributed.utils_perf - WARNING - full garbage collections took 29% CPU time recently (threshold: 10%)\n",
      "distributed.utils_perf - WARNING - full garbage collections took 29% CPU time recently (threshold: 10%)\n",
      "distributed.utils_perf - WARNING - full garbage collections took 29% CPU time recently (threshold: 10%)\n",
      "distributed.utils_perf - WARNING - full garbage collections took 29% CPU time recently (threshold: 10%)\n",
      "distributed.utils_perf - WARNING - full garbage collections took 30% CPU time recently (threshold: 10%)\n",
      "distributed.utils_perf - WARNING - full garbage collections took 30% CPU time recently (threshold: 10%)\n",
      "distributed.utils_perf - WARNING - full garbage collections took 29% CPU time recently (threshold: 10%)\n",
      "distributed.utils_perf - WARNING - full garbage collections took 29% CPU time recently (threshold: 10%)\n",
      "distributed.utils_perf - WARNING - full garbage collections took 29% CPU time recently (threshold: 10%)\n",
      "distributed.utils_perf - WARNING - full garbage collections took 28% CPU time recently (threshold: 10%)\n",
      "distributed.utils_perf - WARNING - full garbage collections took 28% CPU time recently (threshold: 10%)\n",
      "distributed.utils_perf - WARNING - full garbage collections took 40% CPU time recently (threshold: 10%)\n",
      "distributed.utils_perf - WARNING - full garbage collections took 40% CPU time recently (threshold: 10%)\n"
     ]
    },
    {
     "name": "stdout",
     "output_type": "stream",
     "text": [
      "GPS grazing hrs: 36.83\n",
      "Grid (1 m) grazing hrs: 36.97\n",
      "Grid (30 m) grazing hrs: 35.78\n",
      "Pasture: 17N (train)\n",
      "  2289_D3_2016\n"
     ]
    },
    {
     "name": "stderr",
     "output_type": "stream",
     "text": [
      "distributed.utils_perf - WARNING - full garbage collections took 27% CPU time recently (threshold: 10%)\n",
      "distributed.utils_perf - WARNING - full garbage collections took 27% CPU time recently (threshold: 10%)\n",
      "distributed.utils_perf - WARNING - full garbage collections took 27% CPU time recently (threshold: 10%)\n",
      "distributed.utils_perf - WARNING - full garbage collections took 27% CPU time recently (threshold: 10%)\n",
      "distributed.utils_perf - WARNING - full garbage collections took 26% CPU time recently (threshold: 10%)\n",
      "distributed.utils_perf - WARNING - full garbage collections took 26% CPU time recently (threshold: 10%)\n",
      "distributed.utils_perf - WARNING - full garbage collections took 26% CPU time recently (threshold: 10%)\n",
      "distributed.utils_perf - WARNING - full garbage collections took 27% CPU time recently (threshold: 10%)\n",
      "distributed.utils_perf - WARNING - full garbage collections took 27% CPU time recently (threshold: 10%)\n"
     ]
    },
    {
     "name": "stdout",
     "output_type": "stream",
     "text": [
      "GPS grazing hrs: 47.67\n",
      "Grid (1 m) grazing hrs: 47.66\n",
      "Grid (30 m) grazing hrs: 44.36\n",
      "  2290_D3_2016\n"
     ]
    },
    {
     "name": "stderr",
     "output_type": "stream",
     "text": [
      "distributed.utils_perf - WARNING - full garbage collections took 21% CPU time recently (threshold: 10%)\n",
      "distributed.utils_perf - WARNING - full garbage collections took 21% CPU time recently (threshold: 10%)\n",
      "distributed.utils_perf - WARNING - full garbage collections took 21% CPU time recently (threshold: 10%)\n",
      "distributed.utils_perf - WARNING - full garbage collections took 22% CPU time recently (threshold: 10%)\n",
      "distributed.utils_perf - WARNING - full garbage collections took 26% CPU time recently (threshold: 10%)\n",
      "distributed.utils_perf - WARNING - full garbage collections took 30% CPU time recently (threshold: 10%)\n",
      "distributed.utils_perf - WARNING - full garbage collections took 30% CPU time recently (threshold: 10%)\n",
      "distributed.utils_perf - WARNING - full garbage collections took 30% CPU time recently (threshold: 10%)\n",
      "distributed.utils_perf - WARNING - full garbage collections took 30% CPU time recently (threshold: 10%)\n",
      "distributed.utils_perf - WARNING - full garbage collections took 30% CPU time recently (threshold: 10%)\n",
      "distributed.utils_perf - WARNING - full garbage collections took 30% CPU time recently (threshold: 10%)\n"
     ]
    },
    {
     "name": "stdout",
     "output_type": "stream",
     "text": [
      "GPS grazing hrs: 44.51\n",
      "Grid (1 m) grazing hrs: 44.46\n",
      "Grid (30 m) grazing hrs: 39.26\n",
      "Pasture: 20SE (train)\n",
      "  2293_D3_2016\n"
     ]
    },
    {
     "name": "stderr",
     "output_type": "stream",
     "text": [
      "distributed.utils_perf - WARNING - full garbage collections took 23% CPU time recently (threshold: 10%)\n",
      "distributed.utils_perf - WARNING - full garbage collections took 23% CPU time recently (threshold: 10%)\n",
      "distributed.utils_perf - WARNING - full garbage collections took 23% CPU time recently (threshold: 10%)\n",
      "distributed.utils_perf - WARNING - full garbage collections took 23% CPU time recently (threshold: 10%)\n",
      "distributed.utils_perf - WARNING - full garbage collections took 23% CPU time recently (threshold: 10%)\n",
      "distributed.utils_perf - WARNING - full garbage collections took 24% CPU time recently (threshold: 10%)\n",
      "distributed.utils_perf - WARNING - full garbage collections took 24% CPU time recently (threshold: 10%)\n",
      "distributed.utils_perf - WARNING - full garbage collections took 25% CPU time recently (threshold: 10%)\n",
      "distributed.utils_perf - WARNING - full garbage collections took 24% CPU time recently (threshold: 10%)\n",
      "distributed.utils_perf - WARNING - full garbage collections took 24% CPU time recently (threshold: 10%)\n",
      "distributed.utils_perf - WARNING - full garbage collections took 34% CPU time recently (threshold: 10%)\n",
      "distributed.utils_perf - WARNING - full garbage collections took 33% CPU time recently (threshold: 10%)\n"
     ]
    },
    {
     "name": "stdout",
     "output_type": "stream",
     "text": [
      "GPS grazing hrs: 40.97\n",
      "Grid (1 m) grazing hrs: 40.96\n",
      "Grid (30 m) grazing hrs: 38.14\n",
      "  2294_D3_2016\n"
     ]
    },
    {
     "name": "stderr",
     "output_type": "stream",
     "text": [
      "distributed.utils_perf - WARNING - full garbage collections took 23% CPU time recently (threshold: 10%)\n",
      "distributed.utils_perf - WARNING - full garbage collections took 23% CPU time recently (threshold: 10%)\n",
      "distributed.utils_perf - WARNING - full garbage collections took 23% CPU time recently (threshold: 10%)\n",
      "distributed.utils_perf - WARNING - full garbage collections took 23% CPU time recently (threshold: 10%)\n",
      "distributed.utils_perf - WARNING - full garbage collections took 24% CPU time recently (threshold: 10%)\n",
      "distributed.utils_perf - WARNING - full garbage collections took 24% CPU time recently (threshold: 10%)\n",
      "distributed.utils_perf - WARNING - full garbage collections took 24% CPU time recently (threshold: 10%)\n",
      "distributed.utils_perf - WARNING - full garbage collections took 31% CPU time recently (threshold: 10%)\n",
      "distributed.utils_perf - WARNING - full garbage collections took 31% CPU time recently (threshold: 10%)\n",
      "distributed.utils_perf - WARNING - full garbage collections took 31% CPU time recently (threshold: 10%)\n",
      "distributed.utils_perf - WARNING - full garbage collections took 30% CPU time recently (threshold: 10%)\n",
      "distributed.utils_perf - WARNING - full garbage collections took 30% CPU time recently (threshold: 10%)\n",
      "distributed.utils_perf - WARNING - full garbage collections took 30% CPU time recently (threshold: 10%)\n",
      "distributed.utils_perf - WARNING - full garbage collections took 30% CPU time recently (threshold: 10%)\n",
      "distributed.utils_perf - WARNING - full garbage collections took 31% CPU time recently (threshold: 10%)\n"
     ]
    },
    {
     "name": "stdout",
     "output_type": "stream",
     "text": [
      "GPS grazing hrs: 47.24\n",
      "Grid (1 m) grazing hrs: 47.43\n",
      "Grid (30 m) grazing hrs: 44.45\n",
      "Pasture: 24W (test)\n",
      "  3770_D3_2016\n"
     ]
    },
    {
     "name": "stderr",
     "output_type": "stream",
     "text": [
      "distributed.utils_perf - WARNING - full garbage collections took 22% CPU time recently (threshold: 10%)\n",
      "distributed.utils_perf - WARNING - full garbage collections took 22% CPU time recently (threshold: 10%)\n",
      "distributed.utils_perf - WARNING - full garbage collections took 22% CPU time recently (threshold: 10%)\n",
      "distributed.utils_perf - WARNING - full garbage collections took 27% CPU time recently (threshold: 10%)\n",
      "distributed.utils_perf - WARNING - full garbage collections took 27% CPU time recently (threshold: 10%)\n",
      "distributed.utils_perf - WARNING - full garbage collections took 27% CPU time recently (threshold: 10%)\n",
      "distributed.utils_perf - WARNING - full garbage collections took 27% CPU time recently (threshold: 10%)\n",
      "distributed.utils_perf - WARNING - full garbage collections took 27% CPU time recently (threshold: 10%)\n"
     ]
    },
    {
     "name": "stdout",
     "output_type": "stream",
     "text": [
      "GPS grazing hrs: 48.61\n",
      "Grid (1 m) grazing hrs: 48.61\n",
      "Grid (30 m) grazing hrs: 47.0\n",
      "Pasture: 15E (train)\n",
      "  3772_D3_2016\n"
     ]
    },
    {
     "name": "stderr",
     "output_type": "stream",
     "text": [
      "distributed.utils_perf - WARNING - full garbage collections took 22% CPU time recently (threshold: 10%)\n",
      "distributed.utils_perf - WARNING - full garbage collections took 21% CPU time recently (threshold: 10%)\n",
      "distributed.utils_perf - WARNING - full garbage collections took 21% CPU time recently (threshold: 10%)\n",
      "distributed.utils_perf - WARNING - full garbage collections took 22% CPU time recently (threshold: 10%)\n",
      "distributed.utils_perf - WARNING - full garbage collections took 22% CPU time recently (threshold: 10%)\n",
      "distributed.utils_perf - WARNING - full garbage collections took 22% CPU time recently (threshold: 10%)\n",
      "distributed.utils_perf - WARNING - full garbage collections took 22% CPU time recently (threshold: 10%)\n",
      "distributed.utils_perf - WARNING - full garbage collections took 29% CPU time recently (threshold: 10%)\n",
      "distributed.utils_perf - WARNING - full garbage collections took 30% CPU time recently (threshold: 10%)\n",
      "distributed.utils_perf - WARNING - full garbage collections took 30% CPU time recently (threshold: 10%)\n"
     ]
    },
    {
     "name": "stdout",
     "output_type": "stream",
     "text": [
      "GPS grazing hrs: 46.33\n",
      "Grid (1 m) grazing hrs: 46.34\n",
      "Grid (30 m) grazing hrs: 43.29\n",
      "  3773_D3_2016\n"
     ]
    },
    {
     "name": "stderr",
     "output_type": "stream",
     "text": [
      "distributed.utils_perf - WARNING - full garbage collections took 24% CPU time recently (threshold: 10%)\n",
      "distributed.utils_perf - WARNING - full garbage collections took 24% CPU time recently (threshold: 10%)\n",
      "distributed.utils_perf - WARNING - full garbage collections took 23% CPU time recently (threshold: 10%)\n",
      "distributed.utils_perf - WARNING - full garbage collections took 23% CPU time recently (threshold: 10%)\n",
      "distributed.utils_perf - WARNING - full garbage collections took 23% CPU time recently (threshold: 10%)\n",
      "distributed.utils_perf - WARNING - full garbage collections took 23% CPU time recently (threshold: 10%)\n",
      "distributed.utils_perf - WARNING - full garbage collections took 23% CPU time recently (threshold: 10%)\n",
      "distributed.utils_perf - WARNING - full garbage collections took 23% CPU time recently (threshold: 10%)\n",
      "distributed.utils_perf - WARNING - full garbage collections took 23% CPU time recently (threshold: 10%)\n",
      "distributed.utils_perf - WARNING - full garbage collections took 23% CPU time recently (threshold: 10%)\n",
      "distributed.utils_perf - WARNING - full garbage collections took 23% CPU time recently (threshold: 10%)\n"
     ]
    },
    {
     "name": "stdout",
     "output_type": "stream",
     "text": [
      "GPS grazing hrs: 54.88\n",
      "Grid (1 m) grazing hrs: 54.88\n",
      "Grid (30 m) grazing hrs: 49.19\n",
      "Pasture: 26E (train)\n",
      "  3775_D3_2016\n"
     ]
    },
    {
     "name": "stderr",
     "output_type": "stream",
     "text": [
      "distributed.utils_perf - WARNING - full garbage collections took 19% CPU time recently (threshold: 10%)\n",
      "distributed.utils_perf - WARNING - full garbage collections took 26% CPU time recently (threshold: 10%)\n",
      "distributed.utils_perf - WARNING - full garbage collections took 26% CPU time recently (threshold: 10%)\n",
      "distributed.utils_perf - WARNING - full garbage collections took 26% CPU time recently (threshold: 10%)\n",
      "distributed.utils_perf - WARNING - full garbage collections took 26% CPU time recently (threshold: 10%)\n",
      "distributed.utils_perf - WARNING - full garbage collections took 26% CPU time recently (threshold: 10%)\n",
      "distributed.utils_perf - WARNING - full garbage collections took 25% CPU time recently (threshold: 10%)\n",
      "distributed.utils_perf - WARNING - full garbage collections took 25% CPU time recently (threshold: 10%)\n",
      "distributed.utils_perf - WARNING - full garbage collections took 25% CPU time recently (threshold: 10%)\n",
      "distributed.utils_perf - WARNING - full garbage collections took 33% CPU time recently (threshold: 10%)\n"
     ]
    },
    {
     "name": "stdout",
     "output_type": "stream",
     "text": [
      "GPS grazing hrs: 45.47\n",
      "Grid (1 m) grazing hrs: 45.42\n",
      "Grid (30 m) grazing hrs: 43.56\n",
      "Pasture: 25SE (test)\n",
      "  3776_D3_2016\n"
     ]
    },
    {
     "name": "stderr",
     "output_type": "stream",
     "text": [
      "distributed.utils_perf - WARNING - full garbage collections took 25% CPU time recently (threshold: 10%)\n",
      "distributed.utils_perf - WARNING - full garbage collections took 25% CPU time recently (threshold: 10%)\n",
      "distributed.utils_perf - WARNING - full garbage collections took 24% CPU time recently (threshold: 10%)\n",
      "distributed.utils_perf - WARNING - full garbage collections took 24% CPU time recently (threshold: 10%)\n",
      "distributed.utils_perf - WARNING - full garbage collections took 24% CPU time recently (threshold: 10%)\n",
      "distributed.utils_perf - WARNING - full garbage collections took 24% CPU time recently (threshold: 10%)\n",
      "distributed.utils_perf - WARNING - full garbage collections took 24% CPU time recently (threshold: 10%)\n",
      "distributed.utils_perf - WARNING - full garbage collections took 25% CPU time recently (threshold: 10%)\n",
      "distributed.utils_perf - WARNING - full garbage collections took 25% CPU time recently (threshold: 10%)\n",
      "distributed.utils_perf - WARNING - full garbage collections took 33% CPU time recently (threshold: 10%)\n",
      "distributed.utils_perf - WARNING - full garbage collections took 33% CPU time recently (threshold: 10%)\n",
      "distributed.utils_perf - WARNING - full garbage collections took 33% CPU time recently (threshold: 10%)\n",
      "distributed.utils_perf - WARNING - full garbage collections took 32% CPU time recently (threshold: 10%)\n",
      "distributed.utils_perf - WARNING - full garbage collections took 32% CPU time recently (threshold: 10%)\n",
      "distributed.utils_perf - WARNING - full garbage collections took 32% CPU time recently (threshold: 10%)\n",
      "distributed.utils_perf - WARNING - full garbage collections took 32% CPU time recently (threshold: 10%)\n"
     ]
    },
    {
     "name": "stdout",
     "output_type": "stream",
     "text": [
      "GPS grazing hrs: 52.87\n",
      "Grid (1 m) grazing hrs: 53.1\n",
      "Grid (30 m) grazing hrs: 48.99\n",
      "  3778_D3_2016\n"
     ]
    },
    {
     "name": "stderr",
     "output_type": "stream",
     "text": [
      "distributed.utils_perf - WARNING - full garbage collections took 23% CPU time recently (threshold: 10%)\n",
      "distributed.utils_perf - WARNING - full garbage collections took 23% CPU time recently (threshold: 10%)\n",
      "distributed.utils_perf - WARNING - full garbage collections took 23% CPU time recently (threshold: 10%)\n",
      "distributed.utils_perf - WARNING - full garbage collections took 23% CPU time recently (threshold: 10%)\n",
      "distributed.utils_perf - WARNING - full garbage collections took 29% CPU time recently (threshold: 10%)\n",
      "distributed.utils_perf - WARNING - full garbage collections took 30% CPU time recently (threshold: 10%)\n",
      "distributed.utils_perf - WARNING - full garbage collections took 30% CPU time recently (threshold: 10%)\n",
      "distributed.utils_perf - WARNING - full garbage collections took 30% CPU time recently (threshold: 10%)\n",
      "distributed.utils_perf - WARNING - full garbage collections took 30% CPU time recently (threshold: 10%)\n",
      "distributed.utils_perf - WARNING - full garbage collections took 30% CPU time recently (threshold: 10%)\n",
      "distributed.utils_perf - WARNING - full garbage collections took 30% CPU time recently (threshold: 10%)\n",
      "distributed.utils_perf - WARNING - full garbage collections took 31% CPU time recently (threshold: 10%)\n",
      "distributed.utils_perf - WARNING - full garbage collections took 31% CPU time recently (threshold: 10%)\n"
     ]
    },
    {
     "name": "stdout",
     "output_type": "stream",
     "text": [
      "GPS grazing hrs: 51.36\n",
      "Grid (1 m) grazing hrs: 51.43\n",
      "Grid (30 m) grazing hrs: 48.3\n",
      "Pasture: 19N (test)\n",
      "  4597_D3_2016\n"
     ]
    },
    {
     "name": "stderr",
     "output_type": "stream",
     "text": [
      "distributed.utils_perf - WARNING - full garbage collections took 22% CPU time recently (threshold: 10%)\n",
      "distributed.utils_perf - WARNING - full garbage collections took 28% CPU time recently (threshold: 10%)\n",
      "distributed.utils_perf - WARNING - full garbage collections took 28% CPU time recently (threshold: 10%)\n",
      "distributed.utils_perf - WARNING - full garbage collections took 29% CPU time recently (threshold: 10%)\n",
      "distributed.utils_perf - WARNING - full garbage collections took 29% CPU time recently (threshold: 10%)\n",
      "distributed.utils_perf - WARNING - full garbage collections took 29% CPU time recently (threshold: 10%)\n",
      "distributed.utils_perf - WARNING - full garbage collections took 29% CPU time recently (threshold: 10%)\n",
      "distributed.utils_perf - WARNING - full garbage collections took 28% CPU time recently (threshold: 10%)\n",
      "distributed.utils_perf - WARNING - full garbage collections took 28% CPU time recently (threshold: 10%)\n",
      "distributed.utils_perf - WARNING - full garbage collections took 28% CPU time recently (threshold: 10%)\n",
      "distributed.utils_perf - WARNING - full garbage collections took 28% CPU time recently (threshold: 10%)\n"
     ]
    },
    {
     "name": "stdout",
     "output_type": "stream",
     "text": [
      "GPS grazing hrs: 46.74\n",
      "Grid (1 m) grazing hrs: 46.73\n",
      "Grid (30 m) grazing hrs: 43.4\n",
      "Pasture: 31E (train)\n",
      "  4598_D3_2016\n"
     ]
    },
    {
     "name": "stderr",
     "output_type": "stream",
     "text": [
      "distributed.utils_perf - WARNING - full garbage collections took 22% CPU time recently (threshold: 10%)\n",
      "distributed.utils_perf - WARNING - full garbage collections took 22% CPU time recently (threshold: 10%)\n",
      "distributed.utils_perf - WARNING - full garbage collections took 22% CPU time recently (threshold: 10%)\n",
      "distributed.utils_perf - WARNING - full garbage collections took 22% CPU time recently (threshold: 10%)\n",
      "distributed.utils_perf - WARNING - full garbage collections took 22% CPU time recently (threshold: 10%)\n",
      "distributed.utils_perf - WARNING - full garbage collections took 23% CPU time recently (threshold: 10%)\n",
      "distributed.utils_perf - WARNING - full garbage collections took 31% CPU time recently (threshold: 10%)\n",
      "distributed.utils_perf - WARNING - full garbage collections took 31% CPU time recently (threshold: 10%)\n",
      "distributed.utils_perf - WARNING - full garbage collections took 31% CPU time recently (threshold: 10%)\n",
      "distributed.utils_perf - WARNING - full garbage collections took 31% CPU time recently (threshold: 10%)\n"
     ]
    },
    {
     "name": "stdout",
     "output_type": "stream",
     "text": [
      "GPS grazing hrs: 42.61\n",
      "Grid (1 m) grazing hrs: 42.66\n",
      "Grid (30 m) grazing hrs: 40.9\n"
     ]
    }
   ],
   "source": [
    "\"\"\"\n",
    "Loop through final pastures and weeks to extract final dataset \n",
    "of grazing time per cell for a given pasture, steer and time period\n",
    "\"\"\"\n",
    "\n",
    "# create new column in gps dataset for week-of-year\n",
    "df_gps['week'] = df_gps['Fix_Date'].dt.isocalendar().week\n",
    "\n",
    "# create DataFrame template for saving data\n",
    "df_wkly_grid = pd.DataFrame(columns=['mod_data', 'week', 'Pasture', 'Steer_ID', 'UTM_X', 'UTM_Y', 'grazing_secs'])\n",
    "\n",
    "# loop through week and pasture and steer to create each dataset\n",
    "for wk in tqdm(df_gps_wkly['week'].unique()):\n",
    "\n",
    "#for wk in df_gps_wkly['week'][wk_mask].values:\n",
    "    print('-------------' +  \n",
    "          'Week starting: ' + \n",
    "          datetime.date.fromisocalendar(2017, wk, 1).strftime('%b %d') + ' (' + str(wk) +\n",
    "         ') -------------')\n",
    "    for past in df_gps['Pasture'][df_gps['week'] == wk].unique():\n",
    "        # check if pasture+week is in training dataset\n",
    "        if past in fnl_pastures and wk in df_gps_wkly['week'][wk_mask].values:\n",
    "            mod_data = 'train'\n",
    "        else:\n",
    "            mod_data = 'test'\n",
    "        steer_mask = [past in i for i in df_gps_wkly['Pasture_Steer_ID'][df_gps_wkly['week'] == wk].iloc[0]]\n",
    "        steer_list = np.array(df_gps_wkly['Steer_ID'][df_gps_wkly['week'] == wk].iloc[0])[steer_mask]\n",
    "        if len(steer_list) > 0:\n",
    "            print('Pasture: ' + past + ' (' + mod_data + ')')\n",
    "        for steer in steer_list:\n",
    "            print('  ' + steer)\n",
    "            \n",
    "            geometry_steps = df_gps[(df_gps.week == wk) &\n",
    "                                    (df_gps.Pasture == past) &\n",
    "                                    (df_gps.Steer_ID == steer) &\n",
    "                                    (df_gps.GrazingAct == 1) &\n",
    "                                    df_gps.moverate.notnull()].apply(make_steps,\n",
    "                                                                     start_field_x='UTM_X_fnl_lag1',\n",
    "                                                                     start_field_y='UTM_Y_fnl_lag1',\n",
    "                                                                     axis=1)\n",
    "            if len(geometry_steps) == 0:\n",
    "                print(\"    SKIPPING STEER: All points masked.\")\n",
    "                continue            \n",
    "            else:\n",
    "                gdf_steps = gpd.GeoDataFrame(df_gps[(df_gps.week == wk) &\n",
    "                                                (df_gps.Pasture == past) &\n",
    "                                                (df_gps.Steer_ID == steer) &\n",
    "                                                (df_gps.GrazingAct == 1) &\n",
    "                                                df_gps.moverate.notnull()],\n",
    "                                         geometry=geometry_steps)\n",
    "                \n",
    "                steps_coords = gdf_steps.apply(lambda x: utm_13N(x.geometry.coords.xy[0],\n",
    "                                                 x.geometry.coords.xy[1], \n",
    "                                                 inverse=True), axis=1)\n",
    "\n",
    "                fwd_azimuth_all = steps_coords.apply(lambda x: geodesic.inv(x[0][0],\n",
    "                                                                            x[1][0],\n",
    "                                                                            x[0][1],\n",
    "                                                                            x[1][1])[0])\n",
    "\n",
    "                gdf_steps['bearing'] = fwd_azimuth_all\n",
    "                gdf_steps['diff45'] = abs(round(abs(fwd_azimuth_all/90)) - abs(fwd_azimuth_all/90)) * 2.0\n",
    "                gdf_steps['cell_ct'] = gdf_steps.apply(lambda x: 1 + np.round(\n",
    "                    x.steplength*math.cos(math.radians(45*x.diff45))), \n",
    "                                                       axis=1)\n",
    "\n",
    "                secs_m = gdf_steps.apply(graze_intensity, axis=1)\n",
    "\n",
    "                # add movement rate to geodata frame\n",
    "                gdf_steps['secs_m'] = secs_m.values\n",
    "\n",
    "                xr_temp_1m = past_mask_1m.where(past_mask_1m == past, drop=True)\n",
    "                xr_temp_1m = xr_temp_1m.assign_attrs({'transform': (1.0, 0.0, xr_temp_1m.x.min().values - 0.5, \n",
    "                                                           0.0, -1.0, xr_temp_1m.y.max().values + 0.5)})\n",
    "                steps_info = gdf_steps[['secs_m', 'geometry']].reset_index(drop=True).reset_index().rename(\n",
    "                    columns={'index': 'id'})\n",
    "                steps_shp = [(row.geometry, row.secs_m) for _, row in steps_info.iterrows()]\n",
    "                xr_steps_1m = shp2mask(shp=steps_shp, xr_object=xr_temp_1m, dtype='float32',\n",
    "                                    merge_alg=MergeAlg('ADD'), all_touched=False)#.stack(z=['x', 'y'])\n",
    "                xr_temp_30m = past_mask_30m.where(past_mask_30m == past, drop=True)\n",
    "                xr_temp_30m = xr_temp_30m.assign_attrs({'transform': (30.0, 0.0, xr_temp_30m.x.min().values - 15.0, \n",
    "                                                           0.0, -30.0, xr_temp_30m.y.max().values + 15.0)})\n",
    "\n",
    "                xr_interp_temp = xr_temp_30m.to_dataset(name='temp')\n",
    "                xr_interp_temp = xr_interp_temp.assign(x_30m = xr_interp_temp.x)\n",
    "                xr_interp_temp = xr_interp_temp.assign(y_30m = xr_interp_temp.y)\n",
    "                xr_interp_temp = xr_interp_temp.interp_like(xr_steps_1m, method='nearest')\n",
    "                xr_interp_temp= xr_interp_temp.assign(gi=xr_steps_1m)#.groupby(['x_30m', 'y_30m']).sum()\n",
    "\n",
    "                xr_steps_30m = xr_interp_temp.set_coords(['x_30m', 'y_30m']).swap_dims(\n",
    "                    {'x': 'x_30m',\n",
    "                     'y': 'y_30m'}).stack(\n",
    "                    points=['x_30m', 'y_30m']).groupby('points').sum().unstack().rename(\n",
    "                    {'points_level_0': 'x', 'points_level_1': 'y'}).transpose().sortby(\n",
    "                    'y', ascending=False)['gi'].where(xr_temp_30m == past)\n",
    "              \n",
    "                df_tmp = pd.DataFrame({\n",
    "                    'mod_data': mod_data,\n",
    "                    'week': wk,\n",
    "                    'Pasture': past,\n",
    "                    'Steer_ID': steer,\n",
    "                    'UTM_X': [i[0] for i in xr_steps_30m.stack(z=['x', 'y'])['z'].values],\n",
    "                    'UTM_Y': [i[1] for i in xr_steps_30m.stack(z=['x', 'y'])['z'].values],\n",
    "                    'grazing_secs': xr_steps_30m.stack(z=['x', 'y']).values\n",
    "                })\n",
    "                \n",
    "                df_tmp.loc[df_tmp['grazing_secs'] > 3.40e38, 'grazing_secs'] = np.nan\n",
    "                df_tmp = df_tmp[df_tmp['grazing_secs'].notnull()]\n",
    "                print('GPS grazing hrs: ' + str(round(gdf_steps['Fix_Duration'].sum()/60, 2)))\n",
    "                print('Grid (1 m) grazing hrs: ' + str(round(xr_steps_1m.sum().values/60/60, 2)))\n",
    "                print('Grid (30 m) grazing hrs: ' + str(round(df_tmp.grazing_secs.sum()/60/60, 2)))\n",
    "\n",
    "                df_wkly_grid = df_wkly_grid.append(df_tmp)"
   ]
  },
  {
   "cell_type": "code",
   "execution_count": 14,
   "id": "6f6ed2d2-9123-410c-97a6-b7c3401710e2",
   "metadata": {},
   "outputs": [],
   "source": [
    "\"\"\"\n",
    "Save dataset to csv\n",
    "\"\"\"\n",
    "df_wkly_grid.to_csv(os.path.join(outDIR, out_gridded_f), index_label='index_id')"
   ]
  },
  {
   "cell_type": "code",
   "execution_count": null,
   "id": "dce52fdd-c9f9-4130-98cc-108098b5212a",
   "metadata": {},
   "outputs": [],
   "source": []
  }
 ],
 "metadata": {
  "kernelspec": {
   "display_name": "Python 3 (ipykernel)",
   "language": "python",
   "name": "python3"
  },
  "language_info": {
   "codemirror_mode": {
    "name": "ipython",
    "version": 3
   },
   "file_extension": ".py",
   "mimetype": "text/x-python",
   "name": "python",
   "nbconvert_exporter": "python",
   "pygments_lexer": "ipython3",
   "version": "3.9.5"
  }
 },
 "nbformat": 4,
 "nbformat_minor": 5
}
