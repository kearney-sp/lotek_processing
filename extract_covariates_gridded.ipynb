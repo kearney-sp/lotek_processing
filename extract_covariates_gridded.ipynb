{
 "cells": [
  {
   "cell_type": "code",
   "execution_count": null,
   "id": "a19604ed-1dd6-4ad5-92a8-41b46f1abd8e",
   "metadata": {},
   "outputs": [],
   "source": [
    "import pandas as pd\n",
    "import xarray as xr\n",
    "import geopandas as gpd\n",
    "import numpy as np\n",
    "import re\n",
    "import datetime\n",
    "import matplotlib.pyplot as plt\n",
    "from rasterio.plot import show\n",
    "from skimage.filters.rank import majority\n",
    "from tqdm.notebook import tqdm\n",
    "from sklearn.neighbors import BallTree\n",
    "\n",
    "%config Completer.use_jedi = False\n",
    "%matplotlib widget\n",
    "\n",
    "from distributed import Client, LocalCluster\n",
    "cluster = LocalCluster(n_workers=5, threads_per_worker=2)\n",
    "client = Client(cluster)"
   ]
  },
  {
   "cell_type": "code",
   "execution_count": null,
   "id": "18961db2-4b0a-4934-a634-0616ce808254",
   "metadata": {},
   "outputs": [],
   "source": [
    "\"\"\"\n",
    "Define input data and covariates for extraction\n",
    "\"\"\"\n",
    "gps_f = str('C:/Users/sean.kearney/OneDrive - USDA/Documents/Projects/GPS_v_hetgen/data/' +\n",
    "            '2017_grazing_time_gridded_select.csv')\n",
    "\n",
    "ts_covariates = {\n",
    "    'Biomass': {\n",
    "        'path': 'C:/SPK_local/data/rasters/HLS/HLS_CARM_biomass/CPER_biomass_pred_simp_2017_v3.tif'},\n",
    "    'CP': {\n",
    "        'path': 'C:/SPK_local/data/rasters/HLS/HLS_quality/CPER_CP_2017.tif'},\n",
    "    'DOM': {\n",
    "        'path': 'C:/SPK_local/data/rasters/HLS/HLS_quality/CPER_DOM_2017.tif'}\n",
    "}\n",
    "static_covariates = {\n",
    "    'TPC': {\n",
    "        'path': 'C:/SPK_local/data/rasters/DEM/TopoClass25m.tif'},\n",
    "    'dFence': {\n",
    "        'path': 'C:/SPK_local/data/rasters/Masks/CPER_dist_to_fence_2017.tif'},\n",
    "    'dTank': {\n",
    "        'path': 'C:/SPK_local/data/rasters/Masks/CPER_dist_to_tank_2017.tif'}\n",
    "}\n",
    "\n",
    "veg_f = 'G:/neon_v18/neon_class_2017_v18.tif'\n",
    "\n",
    "corners_f = 'C:/SPK_local/data/vectors/CPER_features/CPER_pasture_corners.shp'"
   ]
  }
 ],
 "metadata": {
  "kernelspec": {
   "display_name": "Python 3 (ipykernel)",
   "language": "python",
   "name": "python3"
  },
  "language_info": {
   "codemirror_mode": {
    "name": "ipython",
    "version": 3
   },
   "file_extension": ".py",
   "mimetype": "text/x-python",
   "name": "python",
   "nbconvert_exporter": "python",
   "pygments_lexer": "ipython3",
   "version": "3.9.5"
  }
 },
 "nbformat": 4,
 "nbformat_minor": 5
}
