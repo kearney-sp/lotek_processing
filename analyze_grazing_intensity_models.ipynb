{
 "cells": [
  {
   "cell_type": "code",
   "execution_count": 1,
   "id": "5fd3a552-2352-4977-9d30-0e00e3cb5765",
   "metadata": {
    "tags": []
   },
   "outputs": [],
   "source": [
    "import os\n",
    "import re\n",
    "import pandas as pd\n",
    "import numpy as np\n",
    "import statsmodels.api as sm\n",
    "import matplotlib.pyplot as plt\n",
    "import seaborn as sns\n",
    "from tqdm.notebook import tqdm\n",
    "from sklearn.preprocessing import StandardScaler\n",
    "import pickle\n",
    "%config Completer.use_jedi = False\n",
    "%matplotlib widget"
   ]
  },
  {
   "cell_type": "code",
   "execution_count": 2,
   "id": "e6996b53-4466-4652-b88d-ba0214e4f9e4",
   "metadata": {
    "tags": []
   },
   "outputs": [],
   "source": [
    "\"\"\"\n",
    "Define I/O paths\n",
    "\"\"\"\n",
    "# input directores\n",
    "inDIR_data = 'C:/Users/sean.kearney/OneDrive - USDA/Documents/Projects/GPS_v_hetgen/data/'\n",
    "inDIR_mods = 'C:/Users/sean.kearney/OneDrive - USDA/Documents/Projects/GPS_v_hetgen/models/'\n",
    "\n",
    "# file name of gridded path intensity data (output from gps_to_gridded_path_intensity.ipynb)\n",
    "griddata_f = '2017_grazing_time_gridded_all_for_model.csv'\n",
    "\n",
    "# file name of model results\n",
    "results_f = '2017_grazing_intensity_model_results.csv'"
   ]
  },
  {
   "cell_type": "code",
   "execution_count": 3,
   "id": "18a4c728-4adf-48b8-b402-fdde2eb78409",
   "metadata": {},
   "outputs": [],
   "source": [
    "\"\"\"\n",
    "Define models for analyzing\n",
    "\"\"\"\n",
    "# create list of saved models\n",
    "mod_list = ['M0', 'M1', 'M2_bm', 'M2_top', 'M3_pc', 'M3_top', 'M4_top', 'M5_top']\n",
    "\n",
    "# create dictionary to map top models to original models\n",
    "top_mod_dict = {\n",
    "    'M2_top': 'M2g',\n",
    "    'M3_top': 'M3d',\n",
    "    'M4_top': 'M4h',\n",
    "    'M5_top': 'M5'\n",
    "}\n",
    "\n",
    "# create dictionaries of saved model results for AIC comparison\n",
    "mod_aic_dict = {\n",
    "    'TPC2': [top_mod_dict['M2_top'], 'M2_tpc'],\n",
    "    'TPC3': [top_mod_dict['M3_top'], 'M3_tpc'],\n",
    "    'TPC4': [top_mod_dict['M4_top'], top_mod_dict['M5_top']],\n",
    "    'Hw1': ['M1', 'M5'],\n",
    "    'Hw2': ['M2a', 'M2b', 'M2c', 'M2d', 'M2e', 'M2f', 'M2g'],\n",
    "    'Hw3': ['M2a', 'M2b', 'M2c', 'M2d', 'M2e', 'M2f', 'M2g'],\n",
    "    'Hw4a': ['M2a', 'M2b'],\n",
    "    'Hw4b': ['M2f', 'M2g'],\n",
    "    'Hw5': ['M2a', 'M2b', 'M2c', 'M2d', 'M2e', 'M2f', 'M2g'],\n",
    "    'Hw6': ['M2a', 'M2b', 'M2c', 'M2d', 'M2e', 'M2f', 'M2g'],\n",
    "    'Hw7': ['M3a', 'M3b', 'M3c', 'M3d'],\n",
    "    'Hw8': ['M3a', 'M3b', 'M3c', 'M3d'],\n",
    "    'Hw9': ['M3a', 'M3b', 'M3c', 'M3d'],\n",
    "    'Ha1': ['M0', 'M1', 'M2', 'M3'],\n",
    "    'Ha2': ['M0', 'M1', 'M2', 'M3', 'M4'],\n",
    "    'Ha3': ['M0', 'M1', 'M2', 'M3', 'M4'],\n",
    "    'Ha4': ['M0', 'M1', 'M2', 'M3', 'M4'],\n",
    "}\n",
    "\n",
    "# create dictionaries of saved scalers\n",
    "scaler_dict = {}\n",
    "for seas in ['early', 'mid', 'late']:\n",
    "    scaler_dict[seas] = {}\n",
    "    for c in ['dFence', 'dTank', 'Biomass', 'CP', 'PC_div']:\n",
    "        with open(os.path.join(inDIR_mods, 'scaler_' + seas + '_' + c + '.pkl'), 'rb') as f:\n",
    "            scaler_dict[seas][c] = pickle.load(f)"
   ]
  },
  {
   "cell_type": "code",
   "execution_count": 4,
   "id": "d72b0fce-d9b0-448a-a5a7-9f3d75e7fe4f",
   "metadata": {},
   "outputs": [],
   "source": [
    "\"\"\"\n",
    "Load data and models\n",
    "\"\"\"\n",
    "# read gridded data into dataframe\n",
    "df_wkly_grid_full = pd.read_csv(os.path.join(inDIR_data, griddata_f), engine='python')\n",
    "\n",
    "# read model results into dataframe\n",
    "df_results = pd.read_csv(os.path.join(inDIR_mods, results_f), engine='python')\n",
    "\n",
    "# create dictionary of the full models\n",
    "full_mod_dict = {}\n",
    "for mod in mod_list:\n",
    "    f_matched = [f for f in os.listdir(os.path.join(inDIR_mods, 'full')) if mod in f]\n",
    "    if len(f_matched) == 1:\n",
    "        full_mod_dict[mod] = sm.load(os.path.join(\n",
    "            inDIR_mods, 'full', f_matched[0]))\n",
    "    else:\n",
    "        print('ERROR: multiple matching files found:')\n",
    "        display(f_mathched)\n",
    "\n",
    "# create dictionary of the seasonal models\n",
    "seas_mod_dict = {}\n",
    "for seas in df_wkly_grid_full[df_wkly_grid_full['mod_data'] == 'train']['season'].unique():\n",
    "    seas_mod_dict[seas] = {}\n",
    "    for mod in mod_list:\n",
    "        f_matched = [f for f in os.listdir(os.path.join(inDIR_mods, 'seas')) if mod in f and seas in f]\n",
    "        if len(f_matched) == 1:\n",
    "            seas_mod_dict[seas][mod] = sm.load(os.path.join(\n",
    "                inDIR_mods, 'seas', f_matched[0]))\n",
    "        else:\n",
    "            print('ERROR: multiple matching files found:')\n",
    "            display(f_mathched)\n",
    "\n",
    "# create dictionary of the pasture-specific models\n",
    "past_mod_dict = {}\n",
    "for past in df_wkly_grid_full[df_wkly_grid_full['mod_data'] == 'train']['Pasture'].unique():\n",
    "    past_mod_dict[past] = {}\n",
    "    for mod in mod_list:\n",
    "        f_matched = [f for f in os.listdir(os.path.join(inDIR_mods, 'past')) if mod in f and past in f]\n",
    "        if len(f_matched) == 1:\n",
    "            past_mod_dict[past][mod] = sm.load(os.path.join(\n",
    "                inDIR_mods, 'past', f_matched[0]))\n",
    "        else:\n",
    "            print('ERROR: multiple matching files found:')\n",
    "            display(f_matched)\n",
    "            \n",
    "# scale data back to original values\n",
    "for c in ['dFence', 'dTank', 'Biomass', 'CP', 'PC_div']:\n",
    "    for seas in ['early', 'mid', 'late']:\n",
    "        scaler = scaler_dict[seas][c]\n",
    "        df_wkly_grid_full.loc[df_wkly_grid_full['season'] == seas, c + '_orig'] = scaler.inverse_transform(\n",
    "            df_wkly_grid_full.loc[df_wkly_grid_full['season'] == seas, c].values.reshape(-1, 1)).flatten()\n"
   ]
  },
  {
   "cell_type": "code",
   "execution_count": 6,
   "id": "c08b054e-8a51-4bc5-8fd0-99f5c7982fb3",
   "metadata": {},
   "outputs": [],
   "source": [
    "\"\"\"\n",
    "Convert rare classes to 'Other'\n",
    "\"\"\"\n",
    "df_wkly_grid_full['PC_dmt'].replace({'Bare_veg': 'Other', 'Bare': 'Other', 'UNK': 'Other', 'Shrub': 'Other'}, \n",
    "                               inplace=True)\n",
    "#df_wkly_grid_full = df_wkly_grid_full[~df_wkly_grid_full['PC_dmt'].isin(['Bare', 'Bare_veg', 'UNK', 'Shrub'])]\n",
    "#df_wkly_grid_full = df_wkly_grid_full[~df_wkly_grid_full['TPC_c'].isin(['Other'])]"
   ]
  },
  {
   "cell_type": "code",
   "execution_count": 7,
   "id": "6031745e-6f10-42f7-9db8-4efc5b112fed",
   "metadata": {
    "tags": []
   },
   "outputs": [],
   "source": [
    "\"\"\"\n",
    "Predict grazing intensity for all available models\n",
    "\"\"\"\n",
    "pred_model = 'M5_top'\n",
    "df_wkly_grid_full['pred_overall'] = full_mod_dict[pred_model].predict(df_wkly_grid_full) * df_wkly_grid_full['grazing_wkly_sum'] / (df_wkly_grid_full['grazing_wkly_sum'] / \n",
    "                                                                             df_wkly_grid_full.groupby(\n",
    "                                                                                 ['Pasture', 'Steer_ID', 'week'])['grazing_secs'].transform('count'))\n",
    "for seas, df_sub in df_wkly_grid_full.groupby('season'):\n",
    "    df_wkly_grid_full.loc[df_wkly_grid_full['season'] == seas, 'pred_seas'] = seas_mod_dict[seas][pred_model].predict(df_sub) * df_wkly_grid_full['grazing_wkly_sum'] / (df_wkly_grid_full['grazing_wkly_sum'] / \n",
    "                                                                             df_wkly_grid_full.groupby(\n",
    "                                                                                 ['Pasture', 'Steer_ID', 'week'])['grazing_secs'].transform('count'))\n",
    "for past, df_sub in df_wkly_grid_full.groupby('Pasture'):\n",
    "    df_wkly_grid_full.loc[df_wkly_grid_full['Pasture'] == past, 'pred_past'] = seas_mod_dict[seas][pred_model].predict(df_sub) * df_wkly_grid_full['grazing_wkly_sum'] / (df_wkly_grid_full['grazing_wkly_sum'] / \n",
    "                                                                             df_wkly_grid_full.groupby(\n",
    "                                                                                 ['Pasture', 'Steer_ID', 'week'])['grazing_secs'].transform('count'))\n",
    "#df_wkly_grid_full.loc[(df_wkly_grid_full['pred_M5_overall'] > 1.0), 'pred_M5_overall'] = 1.0\n",
    "#df_wkly_grid_full.loc[(df_wkly_grid_full['pred_M5_seas'] > 1.0), 'pred_M5_seas'] = 1.0\n",
    "#df_wkly_grid_full.loc[(df_wkly_grid_full['pred_M5_past'] > 1.0), 'pred_M5_past'] = 1.0"
   ]
  },
  {
   "cell_type": "code",
   "execution_count": 8,
   "id": "c7be114f-ad91-4a92-ae01-4519f77c4ef7",
   "metadata": {},
   "outputs": [
    {
     "data": {
      "text/plain": [
       "count    1.012720e+05\n",
       "mean     1.902312e+06\n",
       "std      3.111755e+08\n",
       "min      3.233301e-09\n",
       "25%      5.557977e-01\n",
       "50%      8.164296e-01\n",
       "75%      1.184937e+00\n",
       "max      6.428089e+10\n",
       "Name: pred_seas, dtype: float64"
      ]
     },
     "execution_count": 8,
     "metadata": {},
     "output_type": "execute_result"
    }
   ],
   "source": [
    "df_wkly_grid_full[df_wkly_grid_full['mod_data'] == 'train']['pred_seas'].describe()"
   ]
  },
  {
   "cell_type": "code",
   "execution_count": 9,
   "id": "ffab07da-c51a-4d54-87ef-8b6b214395d5",
   "metadata": {},
   "outputs": [
    {
     "data": {
      "application/vnd.jupyter.widget-view+json": {
       "model_id": "4e7a8df68a644484979b023ca504865f",
       "version_major": 2,
       "version_minor": 0
      },
      "text/plain": [
       "Canvas(toolbar=Toolbar(toolitems=[('Home', 'Reset original view', 'home', 'home'), ('Back', 'Back to previous …"
      ]
     },
     "metadata": {},
     "output_type": "display_data"
    },
    {
     "data": {
      "text/plain": [
       "<AxesSubplot:xlabel='Pasture', ylabel='Biomass'>"
      ]
     },
     "execution_count": 9,
     "metadata": {},
     "output_type": "execute_result"
    }
   ],
   "source": [
    "plt.figure()\n",
    "sns.boxplot(x='Pasture', y='Biomass', hue='week', data=df_wkly_grid_full[df_wkly_grid_full['mod_data'] == 'train'], showfliers=False)"
   ]
  },
  {
   "cell_type": "code",
   "execution_count": 10,
   "id": "e0cc0f49-37d6-46b0-bb6b-93b7ffc8ce14",
   "metadata": {},
   "outputs": [],
   "source": [
    "rel_freq_bins = [0.0, 0.4, 0.75, 1.25, 1.6, 1000.0]\n",
    "bin_labs = ['Low', 'Mod. Low', 'Avg.', 'Mod. Hi', 'Hi']\n",
    "df_wkly_grid_full['grazing_rel_freq_grp'] = pd.cut(df_wkly_grid_full['grazing_rel_freq'], \n",
    "                                          bins=rel_freq_bins, \n",
    "                                          labels=bin_labs,\n",
    "                                          include_lowest=True)"
   ]
  },
  {
   "cell_type": "code",
   "execution_count": 11,
   "id": "a8354df6-3347-4765-be9c-255076b0b0ea",
   "metadata": {
    "tags": []
   },
   "outputs": [
    {
     "data": {
      "application/vnd.jupyter.widget-view+json": {
       "model_id": "17ba8781172b45f5a78202bae2c3f7cf",
       "version_major": 2,
       "version_minor": 0
      },
      "text/plain": [
       "Canvas(toolbar=Toolbar(toolitems=[('Home', 'Reset original view', 'home', 'home'), ('Back', 'Back to previous …"
      ]
     },
     "metadata": {},
     "output_type": "display_data"
    }
   ],
   "source": [
    "#rel_freq_bins = [0.0, 0.5, 0.75, 0.9, 1.1, 1.25, 1.5, 1000.0]\n",
    "#bin_labs = ['V. Low', 'Low', 'Mod. Low', 'Avg', 'Mod. Hi', 'Hi', 'V. Hi']\n",
    "df_wkly_grid_full['pred_overall_grp'] = pd.cut(df_wkly_grid_full['pred_overall'], \n",
    "                                          bins=rel_freq_bins, \n",
    "                                          labels=bin_labs,\n",
    "                                          include_lowest=True)\n",
    "df_wkly_grid_full['pred_seas_grp'] = pd.cut(df_wkly_grid_full['pred_seas'], \n",
    "                                          bins=rel_freq_bins, \n",
    "                                          labels=bin_labs,\n",
    "                                          include_lowest=True)\n",
    "df_wkly_grid_full['pred_past_grp'] = pd.cut(df_wkly_grid_full['pred_past'], \n",
    "                                          bins=rel_freq_bins, \n",
    "                                          labels=bin_labs,\n",
    "                                          include_lowest=True)\n",
    "fig, axs = plt.subplots(nrows=1, ncols=3, sharey=True, figsize=(10, 6))\n",
    "sns.pointplot(x='pred_overall_grp', y='grazing_rel_freq', data=df_wkly_grid_full, ax=axs[0], hue='mod_data')\n",
    "sns.pointplot(x='pred_seas_grp', y='grazing_rel_freq', data=df_wkly_grid_full, ax=axs[1], hue='mod_data')\n",
    "sns.pointplot(x='pred_past_grp', y='grazing_rel_freq', data=df_wkly_grid_full, ax=axs[2], hue='mod_data')\n",
    "for ax in axs:\n",
    "    ax.axhline(y=1.0, linestyle='dashed')"
   ]
  },
  {
   "cell_type": "code",
   "execution_count": 16,
   "id": "2bf3a871-458e-462b-a298-95ea40427518",
   "metadata": {},
   "outputs": [
    {
     "data": {
      "application/vnd.jupyter.widget-view+json": {
       "model_id": "f2859f23f8d442f680de2a377fbc6974",
       "version_major": 2,
       "version_minor": 0
      },
      "text/plain": [
       "Canvas(toolbar=Toolbar(toolitems=[('Home', 'Reset original view', 'home', 'home'), ('Back', 'Back to previous …"
      ]
     },
     "metadata": {},
     "output_type": "display_data"
    }
   ],
   "source": [
    "#fig, axs = plt.subplots(nrows=4, ncols=3, sharey=False, figsize=(10, 6))\n",
    "g = sns.FacetGrid(df_wkly_grid_full, col='Pasture', col_wrap=3,  hue='mod_data',# col_order=['early', 'mid', 'late'], \n",
    "                  legend_out=True, sharey=False)\n",
    "g.map_dataframe(sns.pointplot, x='pred_seas_grp', y='grazing_rel_freq').add_legend()\n",
    "for ax in g.axes:\n",
    "    ax.axhline(y=1.0, linestyle='dashed')"
   ]
  },
  {
   "cell_type": "code",
   "execution_count": 11,
   "id": "d3278d5a-6e01-4d7b-becc-4871b40767f0",
   "metadata": {},
   "outputs": [],
   "source": [
    "aicw_func = lambda x: np.exp(-0.5 * (x - x.min())) / np.sum(np.exp(-0.5 * (x - x.min())))\n",
    "aicd_func = lambda x: x - x.min()"
   ]
  },
  {
   "cell_type": "code",
   "execution_count": 38,
   "id": "57a00736-6d86-4b32-8096-f068fc98b998",
   "metadata": {},
   "outputs": [],
   "source": [
    "\"\"\"\n",
    "Analyze best results for specific model comparisons defined in dictionary above\n",
    "\"\"\"\n",
    "for k in mod_aic_dict:\n",
    "    df_results.loc[df_results['model'].isin(mod_aic_dict[k]), \n",
    "                   'AICw_' + k] = df_results.loc[df_results['model'].isin(mod_aic_dict[k])].groupby(\n",
    "        ['week', 'Pasture'])['AIC'].transform(aicw_func)\n",
    "    df_results.loc[df_results['model'].isin(mod_aic_dict[k]), \n",
    "                   'AICd_' + k] = df_results.loc[df_results['model'].isin(mod_aic_dict[k])].groupby(\n",
    "        ['week', 'Pasture'])['AIC'].transform(aicd_func)\n",
    "    df_results['top_model_' + k] = df_results.groupby(['week', 'Pasture'])['AICw_' + k].transform(\n",
    "        lambda x: [int(i) for i in x == x.max()])\n",
    "    df_results['candidate_model_' + k] = df_results.groupby(['week', 'Pasture'])['AICd_' + k].transform(\n",
    "        lambda x: [int(i) for i in x <= 2.0])"
   ]
  },
  {
   "cell_type": "code",
   "execution_count": 39,
   "id": "c54db24c-8889-45d6-875f-a48512c7c74f",
   "metadata": {},
   "outputs": [
    {
     "data": {
      "text/html": [
       "<div>\n",
       "<style scoped>\n",
       "    .dataframe tbody tr th:only-of-type {\n",
       "        vertical-align: middle;\n",
       "    }\n",
       "\n",
       "    .dataframe tbody tr th {\n",
       "        vertical-align: top;\n",
       "    }\n",
       "\n",
       "    .dataframe thead tr th {\n",
       "        text-align: left;\n",
       "    }\n",
       "\n",
       "    .dataframe thead tr:last-of-type th {\n",
       "        text-align: right;\n",
       "    }\n",
       "</style>\n",
       "<table border=\"1\" class=\"dataframe\">\n",
       "  <thead>\n",
       "    <tr>\n",
       "      <th></th>\n",
       "      <th></th>\n",
       "      <th colspan=\"2\" halign=\"left\">AICd_Hw2</th>\n",
       "      <th colspan=\"2\" halign=\"left\">AICw_Hw2</th>\n",
       "      <th>top_model_Hw2</th>\n",
       "      <th>candidate_model_Hw2</th>\n",
       "    </tr>\n",
       "    <tr>\n",
       "      <th></th>\n",
       "      <th></th>\n",
       "      <th>median</th>\n",
       "      <th>std</th>\n",
       "      <th>mean</th>\n",
       "      <th>std</th>\n",
       "      <th>sum</th>\n",
       "      <th>sum</th>\n",
       "    </tr>\n",
       "    <tr>\n",
       "      <th>season</th>\n",
       "      <th>model</th>\n",
       "      <th></th>\n",
       "      <th></th>\n",
       "      <th></th>\n",
       "      <th></th>\n",
       "      <th></th>\n",
       "      <th></th>\n",
       "    </tr>\n",
       "  </thead>\n",
       "  <tbody>\n",
       "    <tr>\n",
       "      <th rowspan=\"7\" valign=\"top\">early</th>\n",
       "      <th>M2g</th>\n",
       "      <td>0.275</td>\n",
       "      <td>1.081198</td>\n",
       "      <td>5.061748e-01</td>\n",
       "      <td>0.296941</td>\n",
       "      <td>9</td>\n",
       "      <td>16</td>\n",
       "    </tr>\n",
       "    <tr>\n",
       "      <th>M2f</th>\n",
       "      <td>3.650</td>\n",
       "      <td>15.116630</td>\n",
       "      <td>2.215112e-01</td>\n",
       "      <td>0.240397</td>\n",
       "      <td>4</td>\n",
       "      <td>8</td>\n",
       "    </tr>\n",
       "    <tr>\n",
       "      <th>M2e</th>\n",
       "      <td>6.540</td>\n",
       "      <td>15.016862</td>\n",
       "      <td>1.527321e-01</td>\n",
       "      <td>0.249046</td>\n",
       "      <td>3</td>\n",
       "      <td>5</td>\n",
       "    </tr>\n",
       "    <tr>\n",
       "      <th>M2d</th>\n",
       "      <td>19.350</td>\n",
       "      <td>53.099368</td>\n",
       "      <td>3.105445e-02</td>\n",
       "      <td>0.063824</td>\n",
       "      <td>0</td>\n",
       "      <td>3</td>\n",
       "    </tr>\n",
       "    <tr>\n",
       "      <th>M2b</th>\n",
       "      <td>28.545</td>\n",
       "      <td>41.595856</td>\n",
       "      <td>4.482712e-02</td>\n",
       "      <td>0.091801</td>\n",
       "      <td>1</td>\n",
       "      <td>2</td>\n",
       "    </tr>\n",
       "    <tr>\n",
       "      <th>M2a</th>\n",
       "      <td>46.480</td>\n",
       "      <td>59.347148</td>\n",
       "      <td>2.105054e-02</td>\n",
       "      <td>0.066307</td>\n",
       "      <td>0</td>\n",
       "      <td>1</td>\n",
       "    </tr>\n",
       "    <tr>\n",
       "      <th>M2c</th>\n",
       "      <td>55.240</td>\n",
       "      <td>83.766058</td>\n",
       "      <td>2.264990e-02</td>\n",
       "      <td>0.095805</td>\n",
       "      <td>1</td>\n",
       "      <td>1</td>\n",
       "    </tr>\n",
       "    <tr>\n",
       "      <th rowspan=\"7\" valign=\"top\">late</th>\n",
       "      <th>M2g</th>\n",
       "      <td>0.000</td>\n",
       "      <td>1.393833</td>\n",
       "      <td>5.669245e-01</td>\n",
       "      <td>0.357838</td>\n",
       "      <td>7</td>\n",
       "      <td>10</td>\n",
       "    </tr>\n",
       "    <tr>\n",
       "      <th>M2f</th>\n",
       "      <td>3.970</td>\n",
       "      <td>13.607834</td>\n",
       "      <td>1.704526e-01</td>\n",
       "      <td>0.196187</td>\n",
       "      <td>2</td>\n",
       "      <td>5</td>\n",
       "    </tr>\n",
       "    <tr>\n",
       "      <th>M2e</th>\n",
       "      <td>17.635</td>\n",
       "      <td>17.977953</td>\n",
       "      <td>1.075712e-01</td>\n",
       "      <td>0.192545</td>\n",
       "      <td>1</td>\n",
       "      <td>3</td>\n",
       "    </tr>\n",
       "    <tr>\n",
       "      <th>M2d</th>\n",
       "      <td>22.035</td>\n",
       "      <td>29.178889</td>\n",
       "      <td>6.553204e-02</td>\n",
       "      <td>0.153503</td>\n",
       "      <td>1</td>\n",
       "      <td>2</td>\n",
       "    </tr>\n",
       "    <tr>\n",
       "      <th>M2b</th>\n",
       "      <td>28.425</td>\n",
       "      <td>32.462956</td>\n",
       "      <td>8.392830e-02</td>\n",
       "      <td>0.201161</td>\n",
       "      <td>1</td>\n",
       "      <td>2</td>\n",
       "    </tr>\n",
       "    <tr>\n",
       "      <th>M2c</th>\n",
       "      <td>34.785</td>\n",
       "      <td>163.188775</td>\n",
       "      <td>6.374583e-04</td>\n",
       "      <td>0.001683</td>\n",
       "      <td>0</td>\n",
       "      <td>0</td>\n",
       "    </tr>\n",
       "    <tr>\n",
       "      <th>M2a</th>\n",
       "      <td>48.850</td>\n",
       "      <td>38.307737</td>\n",
       "      <td>4.953916e-03</td>\n",
       "      <td>0.011591</td>\n",
       "      <td>0</td>\n",
       "      <td>0</td>\n",
       "    </tr>\n",
       "    <tr>\n",
       "      <th rowspan=\"7\" valign=\"top\">mid</th>\n",
       "      <th>M2g</th>\n",
       "      <td>0.000</td>\n",
       "      <td>1.147310</td>\n",
       "      <td>6.540285e-01</td>\n",
       "      <td>0.360957</td>\n",
       "      <td>12</td>\n",
       "      <td>16</td>\n",
       "    </tr>\n",
       "    <tr>\n",
       "      <th>M2f</th>\n",
       "      <td>10.395</td>\n",
       "      <td>34.692182</td>\n",
       "      <td>1.217726e-01</td>\n",
       "      <td>0.168370</td>\n",
       "      <td>2</td>\n",
       "      <td>6</td>\n",
       "    </tr>\n",
       "    <tr>\n",
       "      <th>M2e</th>\n",
       "      <td>16.580</td>\n",
       "      <td>29.966809</td>\n",
       "      <td>1.357531e-01</td>\n",
       "      <td>0.215604</td>\n",
       "      <td>2</td>\n",
       "      <td>5</td>\n",
       "    </tr>\n",
       "    <tr>\n",
       "      <th>M2d</th>\n",
       "      <td>35.230</td>\n",
       "      <td>36.685161</td>\n",
       "      <td>5.904228e-02</td>\n",
       "      <td>0.134963</td>\n",
       "      <td>1</td>\n",
       "      <td>2</td>\n",
       "    </tr>\n",
       "    <tr>\n",
       "      <th>M2b</th>\n",
       "      <td>90.820</td>\n",
       "      <td>106.598850</td>\n",
       "      <td>2.932907e-02</td>\n",
       "      <td>0.123558</td>\n",
       "      <td>1</td>\n",
       "      <td>1</td>\n",
       "    </tr>\n",
       "    <tr>\n",
       "      <th>M2a</th>\n",
       "      <td>105.395</td>\n",
       "      <td>110.054974</td>\n",
       "      <td>7.381332e-05</td>\n",
       "      <td>0.000313</td>\n",
       "      <td>0</td>\n",
       "      <td>0</td>\n",
       "    </tr>\n",
       "    <tr>\n",
       "      <th>M2c</th>\n",
       "      <td>160.450</td>\n",
       "      <td>114.654101</td>\n",
       "      <td>5.493250e-07</td>\n",
       "      <td>0.000002</td>\n",
       "      <td>0</td>\n",
       "      <td>0</td>\n",
       "    </tr>\n",
       "  </tbody>\n",
       "</table>\n",
       "</div>"
      ],
      "text/plain": [
       "             AICd_Hw2                  AICw_Hw2           top_model_Hw2  \\\n",
       "               median         std          mean       std           sum   \n",
       "season model                                                              \n",
       "early  M2g      0.275    1.081198  5.061748e-01  0.296941             9   \n",
       "       M2f      3.650   15.116630  2.215112e-01  0.240397             4   \n",
       "       M2e      6.540   15.016862  1.527321e-01  0.249046             3   \n",
       "       M2d     19.350   53.099368  3.105445e-02  0.063824             0   \n",
       "       M2b     28.545   41.595856  4.482712e-02  0.091801             1   \n",
       "       M2a     46.480   59.347148  2.105054e-02  0.066307             0   \n",
       "       M2c     55.240   83.766058  2.264990e-02  0.095805             1   \n",
       "late   M2g      0.000    1.393833  5.669245e-01  0.357838             7   \n",
       "       M2f      3.970   13.607834  1.704526e-01  0.196187             2   \n",
       "       M2e     17.635   17.977953  1.075712e-01  0.192545             1   \n",
       "       M2d     22.035   29.178889  6.553204e-02  0.153503             1   \n",
       "       M2b     28.425   32.462956  8.392830e-02  0.201161             1   \n",
       "       M2c     34.785  163.188775  6.374583e-04  0.001683             0   \n",
       "       M2a     48.850   38.307737  4.953916e-03  0.011591             0   \n",
       "mid    M2g      0.000    1.147310  6.540285e-01  0.360957            12   \n",
       "       M2f     10.395   34.692182  1.217726e-01  0.168370             2   \n",
       "       M2e     16.580   29.966809  1.357531e-01  0.215604             2   \n",
       "       M2d     35.230   36.685161  5.904228e-02  0.134963             1   \n",
       "       M2b     90.820  106.598850  2.932907e-02  0.123558             1   \n",
       "       M2a    105.395  110.054974  7.381332e-05  0.000313             0   \n",
       "       M2c    160.450  114.654101  5.493250e-07  0.000002             0   \n",
       "\n",
       "             candidate_model_Hw2  \n",
       "                             sum  \n",
       "season model                      \n",
       "early  M2g                    16  \n",
       "       M2f                     8  \n",
       "       M2e                     5  \n",
       "       M2d                     3  \n",
       "       M2b                     2  \n",
       "       M2a                     1  \n",
       "       M2c                     1  \n",
       "late   M2g                    10  \n",
       "       M2f                     5  \n",
       "       M2e                     3  \n",
       "       M2d                     2  \n",
       "       M2b                     2  \n",
       "       M2c                     0  \n",
       "       M2a                     0  \n",
       "mid    M2g                    16  \n",
       "       M2f                     6  \n",
       "       M2e                     5  \n",
       "       M2d                     2  \n",
       "       M2b                     1  \n",
       "       M2a                     0  \n",
       "       M2c                     0  "
      ]
     },
     "metadata": {},
     "output_type": "display_data"
    },
    {
     "data": {
      "text/html": [
       "<div>\n",
       "<style scoped>\n",
       "    .dataframe tbody tr th:only-of-type {\n",
       "        vertical-align: middle;\n",
       "    }\n",
       "\n",
       "    .dataframe tbody tr th {\n",
       "        vertical-align: top;\n",
       "    }\n",
       "\n",
       "    .dataframe thead tr th {\n",
       "        text-align: left;\n",
       "    }\n",
       "\n",
       "    .dataframe thead tr:last-of-type th {\n",
       "        text-align: right;\n",
       "    }\n",
       "</style>\n",
       "<table border=\"1\" class=\"dataframe\">\n",
       "  <thead>\n",
       "    <tr>\n",
       "      <th></th>\n",
       "      <th colspan=\"2\" halign=\"left\">AICd_Hw2</th>\n",
       "      <th colspan=\"2\" halign=\"left\">AICw_Hw2</th>\n",
       "      <th>top_model_Hw2</th>\n",
       "      <th>candidate_model_Hw2</th>\n",
       "    </tr>\n",
       "    <tr>\n",
       "      <th></th>\n",
       "      <th>median</th>\n",
       "      <th>std</th>\n",
       "      <th>mean</th>\n",
       "      <th>std</th>\n",
       "      <th>sum</th>\n",
       "      <th>sum</th>\n",
       "    </tr>\n",
       "    <tr>\n",
       "      <th>model</th>\n",
       "      <th></th>\n",
       "      <th></th>\n",
       "      <th></th>\n",
       "      <th></th>\n",
       "      <th></th>\n",
       "      <th></th>\n",
       "    </tr>\n",
       "  </thead>\n",
       "  <tbody>\n",
       "    <tr>\n",
       "      <th>M2g</th>\n",
       "      <td>0.000</td>\n",
       "      <td>1.166435</td>\n",
       "      <td>0.576807</td>\n",
       "      <td>0.336463</td>\n",
       "      <td>28</td>\n",
       "      <td>42</td>\n",
       "    </tr>\n",
       "    <tr>\n",
       "      <th>M2f</th>\n",
       "      <td>4.550</td>\n",
       "      <td>25.114508</td>\n",
       "      <td>0.171345</td>\n",
       "      <td>0.205110</td>\n",
       "      <td>8</td>\n",
       "      <td>19</td>\n",
       "    </tr>\n",
       "    <tr>\n",
       "      <th>M2e</th>\n",
       "      <td>13.790</td>\n",
       "      <td>22.678330</td>\n",
       "      <td>0.135075</td>\n",
       "      <td>0.219630</td>\n",
       "      <td>6</td>\n",
       "      <td>13</td>\n",
       "    </tr>\n",
       "    <tr>\n",
       "      <th>M2d</th>\n",
       "      <td>20.395</td>\n",
       "      <td>41.549821</td>\n",
       "      <td>0.050169</td>\n",
       "      <td>0.117503</td>\n",
       "      <td>2</td>\n",
       "      <td>7</td>\n",
       "    </tr>\n",
       "    <tr>\n",
       "      <th>M2b</th>\n",
       "      <td>38.480</td>\n",
       "      <td>83.472705</td>\n",
       "      <td>0.048791</td>\n",
       "      <td>0.136041</td>\n",
       "      <td>3</td>\n",
       "      <td>5</td>\n",
       "    </tr>\n",
       "    <tr>\n",
       "      <th>M2a</th>\n",
       "      <td>71.340</td>\n",
       "      <td>89.428555</td>\n",
       "      <td>0.009160</td>\n",
       "      <td>0.041377</td>\n",
       "      <td>0</td>\n",
       "      <td>1</td>\n",
       "    </tr>\n",
       "    <tr>\n",
       "      <th>M2c</th>\n",
       "      <td>87.710</td>\n",
       "      <td>120.894697</td>\n",
       "      <td>0.008653</td>\n",
       "      <td>0.058657</td>\n",
       "      <td>1</td>\n",
       "      <td>1</td>\n",
       "    </tr>\n",
       "  </tbody>\n",
       "</table>\n",
       "</div>"
      ],
      "text/plain": [
       "      AICd_Hw2              AICw_Hw2           top_model_Hw2  \\\n",
       "        median         std      mean       std           sum   \n",
       "model                                                          \n",
       "M2g      0.000    1.166435  0.576807  0.336463            28   \n",
       "M2f      4.550   25.114508  0.171345  0.205110             8   \n",
       "M2e     13.790   22.678330  0.135075  0.219630             6   \n",
       "M2d     20.395   41.549821  0.050169  0.117503             2   \n",
       "M2b     38.480   83.472705  0.048791  0.136041             3   \n",
       "M2a     71.340   89.428555  0.009160  0.041377             0   \n",
       "M2c     87.710  120.894697  0.008653  0.058657             1   \n",
       "\n",
       "      candidate_model_Hw2  \n",
       "                      sum  \n",
       "model                      \n",
       "M2g                    42  \n",
       "M2f                    19  \n",
       "M2e                    13  \n",
       "M2d                     7  \n",
       "M2b                     5  \n",
       "M2a                     1  \n",
       "M2c                     1  "
      ]
     },
     "metadata": {},
     "output_type": "display_data"
    }
   ],
   "source": [
    "\"\"\"\n",
    "Display the results for the desired model comparison\n",
    "\"\"\"\n",
    "mod_grp = 'Hw2'\n",
    "display(df_results.loc[df_results['model'].isin(mod_aic_dict[mod_grp])].groupby(['season', 'model'])[['top_model_' + mod_grp, 'candidate_model_' + mod_grp,\n",
    "                                                                                'AICw_' + mod_grp, 'AICd_' + mod_grp]].aggregate(\n",
    "    func={'AICd_' + mod_grp: [np.median, np.std], 'AICw_' + mod_grp: [np.mean, np.std], \n",
    "         'top_model_' + mod_grp: np.sum, 'candidate_model_' + mod_grp: np.sum}, axis=1).sort_values(['season', ('AICd_' + mod_grp, 'median')]))\n",
    "display(df_results.loc[df_results['model'].isin(mod_aic_dict[mod_grp])].groupby(['model'])[['top_model_' + mod_grp, 'candidate_model_' + mod_grp, \n",
    "                                                                      'AICw_' + mod_grp, 'AICd_' + mod_grp]].aggregate(\n",
    "    func={'AICd_' + mod_grp: [np.median, np.std], 'AICw_' + mod_grp: [np.mean, np.std], \n",
    "          'top_model_' + mod_grp: np.sum, 'candidate_model_' + mod_grp: np.sum}, axis=1).sort_values(('AICd_' + mod_grp, 'median')))"
   ]
  },
  {
   "cell_type": "code",
   "execution_count": 35,
   "id": "2881a343-122c-432c-bf47-0238192b9070",
   "metadata": {},
   "outputs": [
    {
     "data": {
      "application/vnd.jupyter.widget-view+json": {
       "model_id": "26716b360a734e22b7a8c80571f019f0",
       "version_major": 2,
       "version_minor": 0
      },
      "text/plain": [
       "  0%|          | 0/4 [00:00<?, ?it/s]"
      ]
     },
     "metadata": {},
     "output_type": "display_data"
    }
   ],
   "source": [
    "\"\"\"\n",
    "Compare models by season: how does selection change with biomass and relative CP (within season)\n",
    "\"\"\"\n",
    "cp_q_dict = {\n",
    "    'Lowest': 0.10,\n",
    "    'Below avg': 0.25,\n",
    "    'Average': 0.5,\n",
    "    'Above avg': 0.75,\n",
    "    'Highest': 0.90\n",
    "}\n",
    "ref_TPC = 'Flat Plains'\n",
    "ref_pc = 'C3_C4_mix'\n",
    "df_pred = pd.DataFrame(columns=['season','dFence_orig', 'dTank_orig', 'Biomass_orig', 'CP_orig','PC_div_orig',\n",
    "                                'PC_dmt', 'TPC_c', 'Model'])\n",
    "for mod in tqdm(['M2_bm', 'M2_top', 'M4_top', 'M5_top']):\n",
    "    for seas, df_sub in df_wkly_grid_full[df_wkly_grid_full['mod_data'] == 'train'].groupby('season'):\n",
    "        if len(df_sub[(df_sub['PC_dmt'] == ref_pc) & (df_sub['TPC_c'] == ref_TPC)]) < 100:\n",
    "            #print(len(df_tmp[(df_tmp['PC_dmt'] == ref_pc) & (df_tmp['TPC_c'] == ref_TPC)]))\n",
    "            continue\n",
    "        else:\n",
    "            df_tmp = df_sub[(df_sub['TPC_c'] == ref_TPC) & (df_sub['PC_dmt'] == ref_pc)]\n",
    "            #seas = seas_group[0]\n",
    "            #df_tmp = seas_group[1]\n",
    "            for cp_q in cp_q_dict:\n",
    "                df_pred = df_pred.append(pd.DataFrame({\n",
    "                    'season': seas,\n",
    "                    'Relative CP': cp_q,\n",
    "                    'dFence_orig': df_tmp['dFence_orig'].median(),\n",
    "                    'dTank_orig': df_tmp['dTank_orig'].median(),\n",
    "                    'Biomass_orig': np.arange(df_tmp['Biomass_orig'][np.abs(df_tmp['CP_orig'] - df_tmp['CP_orig'].quantile(cp_q_dict[cp_q])) < 0.25].min(), \n",
    "                         df_tmp['Biomass_orig'][np.abs(df_tmp['CP_orig'] - df_tmp['CP_orig'].quantile(cp_q_dict[cp_q])) < 0.25].max(),  10),\n",
    "                    'CP_orig': df_tmp['CP_orig'].quantile(cp_q_dict[cp_q]),\n",
    "                    'PC_div_orig': df_tmp['PC_div_orig'].median(),\n",
    "                    'PC_dmt': ref_pc,\n",
    "                    'TPC_c': ref_TPC,\n",
    "                    'Model': mod\n",
    "                }))\n",
    "        for c in ['dFence', 'dTank', 'Biomass', 'CP', 'PC_div']:\n",
    "            scaler = scaler_dict[seas][c]\n",
    "            df_pred.loc[df_pred['season'] == seas, c] = scaler.transform(\n",
    "                df_pred.loc[df_pred['season'] == seas, c + '_orig'].values.reshape(-1, 1)).flatten()\n",
    "        df_pred.loc[(df_pred['season'] == seas) & (df_pred['Model'] == mod), \n",
    "                    'mod_pred'] = seas_mod_dict[seas][mod].predict(df_pred.loc[(df_pred['season'] == seas) & (df_pred['Model'] == mod)])\n",
    "        #df_wkly_grid_sub = df_wkly_grid_full[(df_wkly_grid_full['season'] == 'seas') & (df_wkly_grid_full['mod_data'] == 'train')]\n",
    "        #df_pred.loc[\n",
    "        #    (df_pred['season'] == seas) & (df_pred['Model'] == mod), 'pred_rel_freq'] = (\n",
    "        #    df_pred.loc[(df_pred['season'] == seas) & (df_pred['Model'] == mod), 'mod_pred'] * \n",
    "        #                                                   df_wkly_grid_sub['grazing_wkly_sum'].mean()) / (\n",
    "        #    df_wkly_grid_sub['grazing_wkly_sum'].mean() / df_wkly_grid_sub.groupby(\n",
    "        #    ['week', 'Pasture', 'Steer_ID'])['grazing_wkly_sum'].count().mean())\n",
    "df_pred['season'] = pd.Categorical(df_pred['season'], ['early', 'mid', 'late'])\n",
    "df_pred['pred_rel_freq'] = np.nan\n",
    "for seas in df_pred.season.unique():\n",
    "    df_wkly_grid_sub = df_wkly_grid_full[(df_wkly_grid_full['season'] == seas) & (df_wkly_grid_full['mod_data'] == 'train')]\n",
    "    df_pred.loc[df_pred['season'] == seas, 'pred_rel_freq'] = (df_pred.loc[df_pred['season'] == seas, 'mod_pred'] * df_wkly_grid_sub['grazing_wkly_sum'].mean()) / (df_wkly_grid_sub['grazing_wkly_sum'].mean() / df_wkly_grid_sub.groupby(\n",
    "        ['week', 'Pasture', 'Steer_ID'])['grazing_wkly_sum'].count().mean())"
   ]
  },
  {
   "cell_type": "code",
   "execution_count": 13,
   "id": "9efaea89-88c9-4b47-8506-17b9aaf946c1",
   "metadata": {},
   "outputs": [
    {
     "data": {
      "text/plain": [
       "count    5572.000000\n",
       "mean        0.937772\n",
       "std         0.894378\n",
       "min         0.010787\n",
       "25%         0.498176\n",
       "50%         0.782924\n",
       "75%         1.095839\n",
       "max         9.204812\n",
       "Name: pred_rel_freq, dtype: float64"
      ]
     },
     "execution_count": 13,
     "metadata": {},
     "output_type": "execute_result"
    }
   ],
   "source": [
    "df_pred['pred_rel_freq'].describe()"
   ]
  },
  {
   "cell_type": "code",
   "execution_count": 41,
   "id": "41ff2faf-3ca3-4f5e-9b2f-d33a70ef7feb",
   "metadata": {},
   "outputs": [],
   "source": [
    "#df_pred"
   ]
  },
  {
   "cell_type": "code",
   "execution_count": 14,
   "id": "27d98e08-99c3-4142-905b-391e8bcd94fa",
   "metadata": {},
   "outputs": [
    {
     "data": {
      "application/vnd.jupyter.widget-view+json": {
       "model_id": "447d72b0b0fc40e3ac115b56365c3eae",
       "version_major": 2,
       "version_minor": 0
      },
      "text/plain": [
       "Canvas(toolbar=Toolbar(toolitems=[('Home', 'Reset original view', 'home', 'home'), ('Back', 'Back to previous …"
      ]
     },
     "metadata": {},
     "output_type": "display_data"
    },
    {
     "data": {
      "text/plain": [
       "<AxesSubplot:xlabel='Biomass', ylabel='pred_rel_freq'>"
      ]
     },
     "execution_count": 14,
     "metadata": {},
     "output_type": "execute_result"
    }
   ],
   "source": [
    "plt.figure()\n",
    "sns.lineplot(x='Biomass', y='pred_rel_freq', data=df_pred[df_pred['Model'] == 'M2_bm'])"
   ]
  },
  {
   "cell_type": "code",
   "execution_count": 17,
   "id": "7be92870-3785-44f0-874d-5deac3389e86",
   "metadata": {},
   "outputs": [
    {
     "data": {
      "application/vnd.jupyter.widget-view+json": {
       "model_id": "589a889f010b4dd98650784f55bcd714",
       "version_major": 2,
       "version_minor": 0
      },
      "text/plain": [
       "Canvas(toolbar=Toolbar(toolitems=[('Home', 'Reset original view', 'home', 'home'), ('Back', 'Back to previous …"
      ]
     },
     "metadata": {},
     "output_type": "display_data"
    },
    {
     "data": {
      "text/plain": [
       "Text(0.5, 0.98, 'Marginal effects of Biomass and Relative CP by Model and Season')"
      ]
     },
     "execution_count": 17,
     "metadata": {},
     "output_type": "execute_result"
    }
   ],
   "source": [
    "\"\"\"\n",
    "Plot marginal effects of biomass and relative CP by model and season\n",
    "\"\"\"\n",
    "x_var = 'Biomass_orig'\n",
    "g = sns.FacetGrid(df_pred[df_pred['Model'] != 'M2_bm'], col='season', row='Model', hue='Relative CP', col_order=['early', 'mid', 'late'], \n",
    "                  legend_out=True, sharey=True, palette='viridis')\n",
    "#plt.figure()\n",
    "g.map_dataframe(sns.lineplot, x=x_var, y='pred_rel_freq').add_legend()\n",
    "axes = g.fig.axes\n",
    "for idx, seas in enumerate(np.repeat(np.array([['early', 'mid', 'late']]), 3, axis=0).flatten()):\n",
    "    #sns.lineplot(x=x_var, y='pred_rel_freq', data=df_pred[(df_pred['Model'] == 'M2_bm') & (df_pred['season'] == seas)], \n",
    "    #             linestyle='dotted', color='black', ax=axes[idx], legend=False)\n",
    "    axes[idx].axhline(y=1.0, linestyle='dashed', color='grey')\n",
    "    if axes[idx].get_ylim()[-1] < 2.0:\n",
    "        axes[idx].set_ylim((0.0, 2.0))\n",
    "    #axes[idx].set_yscale('log')\n",
    "#g.set(yscale='log')\n",
    "g.fig.subplots_adjust(top=0.9)\n",
    "g.fig.suptitle('Marginal effects of Biomass and Relative CP by Model and Season')"
   ]
  },
  {
   "cell_type": "code",
   "execution_count": 36,
   "id": "b78c81a4-ef56-4178-a631-5254aedf81ff",
   "metadata": {},
   "outputs": [
    {
     "data": {
      "application/vnd.jupyter.widget-view+json": {
       "model_id": "1208018de96d49339317f2f3c688e8f3",
       "version_major": 2,
       "version_minor": 0
      },
      "text/plain": [
       "  0%|          | 0/4 [00:00<?, ?it/s]"
      ]
     },
     "metadata": {},
     "output_type": "display_data"
    },
    {
     "data": {
      "application/vnd.jupyter.widget-view+json": {
       "model_id": "031e5f4cb57742d1bb78796a8f89bcc7",
       "version_major": 2,
       "version_minor": 0
      },
      "text/plain": [
       "  0%|          | 0/4 [00:00<?, ?it/s]"
      ]
     },
     "metadata": {},
     "output_type": "display_data"
    },
    {
     "data": {
      "application/vnd.jupyter.widget-view+json": {
       "model_id": "aefc2d9ccc6b4356bdeb438676a54dee",
       "version_major": 2,
       "version_minor": 0
      },
      "text/plain": [
       "  0%|          | 0/4 [00:00<?, ?it/s]"
      ]
     },
     "metadata": {},
     "output_type": "display_data"
    },
    {
     "data": {
      "application/vnd.jupyter.widget-view+json": {
       "model_id": "6596afcab99647f0ab50b145f0795a50",
       "version_major": 2,
       "version_minor": 0
      },
      "text/plain": [
       "  0%|          | 0/4 [00:00<?, ?it/s]"
      ]
     },
     "metadata": {},
     "output_type": "display_data"
    },
    {
     "data": {
      "application/vnd.jupyter.widget-view+json": {
       "model_id": "24dbf17bc20f4244999cbf2955567e1d",
       "version_major": 2,
       "version_minor": 0
      },
      "text/plain": [
       "  0%|          | 0/4 [00:00<?, ?it/s]"
      ]
     },
     "metadata": {},
     "output_type": "display_data"
    }
   ],
   "source": [
    "\"\"\"\n",
    "Compare top model by plant community: how does selection change with biomass and CP across plant communities?\n",
    "\"\"\"\n",
    "cp_q_dict = {\n",
    "    'Lowest': 0.10,\n",
    "    'Below avg': 0.25,\n",
    "    'Average': 0.5,\n",
    "    'Above avg': 0.75,\n",
    "    'Highest': 0.90\n",
    "}\n",
    "ref_TPC = 'Flat Plains'\n",
    "df_pred = pd.DataFrame(columns=['season','dFence_orig', 'dTank_orig', 'Biomass_orig', 'CP_orig','PC_div_orig',\n",
    "                                'PC_dmt', 'TPC_c', 'Model'])\n",
    "for ref_pc in df_wkly_grid_full['PC_dmt'].unique():\n",
    "    for mod in tqdm(['M2_bm', 'M2_top', 'M4_top', 'M5_top']):\n",
    "        for seas, df_sub in df_wkly_grid_full[df_wkly_grid_full['mod_data'] == 'train'].groupby('season'):\n",
    "            if len(df_sub[(df_sub['PC_dmt'] == ref_pc) & (df_sub['TPC_c'] == ref_TPC)]) < 100:\n",
    "                #print(len(df_tmp[(df_tmp['PC_dmt'] == ref_pc) & (df_tmp['TPC_c'] == ref_TPC)]))\n",
    "                continue\n",
    "            else:\n",
    "                df_tmp = df_sub[(df_sub['TPC_c'] == ref_TPC) & (df_sub['PC_dmt'] == ref_pc)]\n",
    "                #seas = seas_group[0]\n",
    "                #df_tmp = seas_group[1]\n",
    "                for cp_q in cp_q_dict:\n",
    "                    df_pred = df_pred.append(pd.DataFrame({\n",
    "                        'season': seas,\n",
    "                        'Relative CP': cp_q,\n",
    "                        'dFence_orig': df_tmp['dFence_orig'].median(),\n",
    "                        'dTank_orig': df_tmp['dTank_orig'].median(),\n",
    "                        'Biomass_orig': np.arange(df_tmp['Biomass_orig'][np.abs(df_tmp['CP_orig'] - df_tmp['CP_orig'].quantile(cp_q_dict[cp_q])) < 0.25].min(), \n",
    "                             df_tmp['Biomass_orig'][np.abs(df_tmp['CP_orig'] - df_tmp['CP_orig'].quantile(cp_q_dict[cp_q])) < 0.25].max(),  10),\n",
    "                        'CP_orig': df_tmp['CP_orig'].quantile(cp_q_dict[cp_q]),\n",
    "                        'PC_div_orig': df_tmp['PC_div_orig'].median(),\n",
    "                        'PC_dmt': ref_pc,\n",
    "                        'TPC_c': ref_TPC,\n",
    "                        'Model': mod\n",
    "                    }))\n",
    "            for c in ['dFence', 'dTank', 'Biomass', 'CP', 'PC_div']:\n",
    "                scaler = scaler_dict[seas][c]\n",
    "                df_pred.loc[df_pred['season'] == seas, c] = scaler.transform(\n",
    "                    df_pred.loc[df_pred['season'] == seas, c + '_orig'].values.reshape(-1, 1)).flatten()\n",
    "            df_pred.loc[(df_pred['season'] == seas) & (df_pred['Model'] == mod), \n",
    "                        'mod_pred'] = seas_mod_dict[seas][mod].predict(df_pred.loc[(df_pred['season'] == seas) & (df_pred['Model'] == mod)])\n",
    "    #df_wkly_grid_sub = df_wkly_grid_full[(df_wkly_grid_full['season'] == 'seas') & (df_wkly_grid_full['mod_data'] == 'train')]\n",
    "        #df_pred.loc[\n",
    "        #    (df_pred['season'] == seas) & (df_pred['Model'] == mod), 'pred_rel_freq'] = (\n",
    "        #    df_pred.loc[(df_pred['season'] == seas) & (df_pred['Model'] == mod), 'mod_pred'] * \n",
    "        #                                                   df_wkly_grid_sub['grazing_wkly_sum'].mean()) / (\n",
    "        #    df_wkly_grid_sub['grazing_wkly_sum'].mean() / df_wkly_grid_sub.groupby(\n",
    "        #    ['week', 'Pasture', 'Steer_ID'])['grazing_wkly_sum'].count().mean())\n",
    "df_pred['season'] = pd.Categorical(df_pred['season'], ['early', 'mid', 'late'])\n",
    "df_pred['pred_rel_freq'] = np.nan\n",
    "for seas in df_pred.season.unique():\n",
    "    df_wkly_grid_sub = df_wkly_grid_full[(df_wkly_grid_full['season'] == seas) & (df_wkly_grid_full['mod_data'] == 'train')]\n",
    "    df_pred.loc[df_pred['season'] == seas, 'pred_rel_freq'] = (df_pred.loc[df_pred['season'] == seas, 'mod_pred'] * df_wkly_grid_sub['grazing_wkly_sum'].mean()) / (df_wkly_grid_sub['grazing_wkly_sum'].mean() / df_wkly_grid_sub.groupby(\n",
    "        ['week', 'Pasture', 'Steer_ID'])['grazing_wkly_sum'].count().mean())"
   ]
  },
  {
   "cell_type": "code",
   "execution_count": 37,
   "id": "76edabb6-7a46-40ff-aa92-36613ee1e264",
   "metadata": {},
   "outputs": [
    {
     "data": {
      "application/vnd.jupyter.widget-view+json": {
       "model_id": "90e325777b63494c89496210c31ee377",
       "version_major": 2,
       "version_minor": 0
      },
      "text/plain": [
       "Canvas(toolbar=Toolbar(toolitems=[('Home', 'Reset original view', 'home', 'home'), ('Back', 'Back to previous …"
      ]
     },
     "metadata": {},
     "output_type": "display_data"
    },
    {
     "data": {
      "text/plain": [
       "Text(0.5, 0.98, 'Marginal effects of Biomass and CP by Plant Community and season (model=M5)')"
      ]
     },
     "execution_count": 37,
     "metadata": {},
     "output_type": "execute_result"
    }
   ],
   "source": [
    "\"\"\"\n",
    "Plot marginal effects of biomass and CP by plant community and season\n",
    "\"\"\"\n",
    "x_var = 'Biomass_orig'\n",
    "g = sns.FacetGrid(df_pred, col='season', row='PC_dmt', hue='Relative CP', \n",
    "                  legend_out=True, sharey=False, palette='viridis')\n",
    "g.map_dataframe(sns.lineplot, x=x_var, y='pred_rel_freq').add_legend()\n",
    "g.fig.subplots_adjust(top=0.925)\n",
    "g.fig.suptitle('Marginal effects of Biomass and CP by Plant Community and season (model=M5)')\n",
    "axes = g.fig.axes\n",
    "for idx, seas in enumerate(np.repeat(np.array([['early', 'mid', 'late']]), 3, axis=0).flatten()):\n",
    "    #sns.lineplot(x=x_var, y='pred_rel_freq', data=df_pred[(df_pred['Model'] == 'M2_bm') & (df_pred['season'] == seas)], \n",
    "    #             linestyle='dotted', color='black', ax=axes[idx], legend=False)\n",
    "    axes[idx].axhline(y=1.0, linestyle='dashed', color='grey')\n",
    "    if axes[idx].get_ylim()[-1] < 2.0:\n",
    "        axes[idx].set_ylim((0.0, 2.0))"
   ]
  },
  {
   "cell_type": "code",
   "execution_count": 34,
   "id": "52a6bfdb-b747-4935-8faf-9efbf4f5fa48",
   "metadata": {},
   "outputs": [],
   "source": [
    "#df_wkly_grid_train = df_wkly_grid_full[df_wkly_grid_full['mod_data'] == 'train']\n",
    "df_wkly_grid_full['grazing_rel_freq_seas'] = (df_wkly_grid_full.groupby(['mod_data', 'season', 'Pasture', 'Steer_ID', 'UTM_X', 'UTM_Y']).grazing_secs.transform('sum') /\\\n",
    "(df_wkly_grid_full.groupby(['mod_data', 'season', 'Pasture', 'Steer_ID', 'UTM_X', 'UTM_Y']).grazing_wkly_sum.transform('sum') /\\\n",
    " df_wkly_grid_full.groupby(['mod_data', 'week', 'season', 'Pasture', 'Steer_ID']).grazing_secs.transform(lambda x: np.mean(len(x))))).reset_index(drop=True)"
   ]
  },
  {
   "cell_type": "code",
   "execution_count": 36,
   "id": "7c0ca21c-4518-4c62-8fa0-cd27e7c90cdc",
   "metadata": {},
   "outputs": [],
   "source": [
    "#df_wkly_grid_full[df_wkly_grid_full['mod_data'] == 'train']"
   ]
  },
  {
   "cell_type": "code",
   "execution_count": 37,
   "id": "b3a2a3b2-4c46-48ef-926e-f3f07fae6f9f",
   "metadata": {},
   "outputs": [],
   "source": [
    "#df_wkly_grid_full[(df_wkly_grid_full.Pasture == '7NW') &\n",
    "#                 (df_wkly_grid_full.UTM_X == 524055.0) & \n",
    "#                 (df_wkly_grid_full.UTM_Y == 4522695.0) &\n",
    "                  #(df_wkly_grid_full.Steer_ID == '2287_D1_2017') & \n",
    "#                 (df_wkly_grid_full.mod_data == 'train')].sort_values('Steer_ID')"
   ]
  },
  {
   "cell_type": "code",
   "execution_count": 67,
   "id": "1cec28ae-3a21-44aa-873c-353bdd8e13ef",
   "metadata": {
    "tags": []
   },
   "outputs": [],
   "source": [
    "df_wkly_grid_full['grazing_rel_freq_seas_grp'] = pd.cut(df_wkly_grid_full.groupby(['season', 'Pasture', 'UTM_X', 'UTM_Y'])['grazing_rel_freq_seas'].transform('mean'), \n",
    "                                          bins=rel_freq_bins, \n",
    "                                          labels=bin_labs,\n",
    "                                          include_lowest=True)\n",
    "df_wkly_grid_full['grazing_rel_freq_past_grp'] = pd.cut(df_wkly_grid_full.groupby(['week', 'Pasture', 'UTM_X', 'UTM_Y'])['grazing_rel_freq'].transform('mean'), \n",
    "                                          bins=rel_freq_bins, \n",
    "                                          labels=bin_labs,\n",
    "                                          include_lowest=True)"
   ]
  },
  {
   "cell_type": "code",
   "execution_count": 63,
   "id": "64f1467f-8194-4de1-9b7f-2c6ff12ec7d3",
   "metadata": {},
   "outputs": [
    {
     "data": {
      "text/plain": [
       "season          \n",
       "early   Low         34402\n",
       "        Mod. Low    25383\n",
       "        Avg.        24516\n",
       "        Hi          23705\n",
       "        Mod. Hi     11259\n",
       "late    Low         25236\n",
       "        Avg.        18552\n",
       "        Hi          17570\n",
       "        Mod. Low    16755\n",
       "        Mod. Hi      8521\n",
       "mid     Low         23758\n",
       "        Hi          15691\n",
       "        Avg.        14080\n",
       "        Mod. Low    13813\n",
       "        Mod. Hi      6521\n",
       "Name: grazing_rel_freq_seas_grp, dtype: int64"
      ]
     },
     "execution_count": 63,
     "metadata": {},
     "output_type": "execute_result"
    }
   ],
   "source": [
    "df_wkly_grid_full.groupby('season')['grazing_rel_freq_seas_grp'].value_counts()"
   ]
  },
  {
   "cell_type": "code",
   "execution_count": 42,
   "id": "43d057c0-bd63-4488-a31a-d37e4bae75e2",
   "metadata": {},
   "outputs": [],
   "source": [
    "df_seas_grid = df_wkly_grid_full.groupby(['season', 'mod_data', 'Pasture',\n",
    "                           'UTM_X', 'UTM_Y'])[['grazing_rel_freq_seas', \n",
    "                                                           'grazing_rel_freq_seas_grp',\n",
    "                                                           'Biomass',\n",
    "                                                           'CP', \n",
    "                                                           'PC_dmt', \n",
    "                                                           'PC_div']].aggregate(func={\n",
    "    'grazing_rel_freq_seas': 'last',\n",
    "    'grazing_rel_freq_seas_grp': 'last',\n",
    "    'Biomass': np.mean,\n",
    "    'CP': np.mean,\n",
    "    'PC_dmt': 'last',\n",
    "    'PC_div': 'last'\n",
    "}).reset_index()\n",
    "    #['mod_data', 'Pasture', 'Steer_ID', 'UTM_X', 'UTM_Y'])['grazing_rel_freq_wkly_grp'].transform(lambda x: '_'.join(x.astype('str')))"
   ]
  },
  {
   "cell_type": "code",
   "execution_count": 43,
   "id": "11c5bb3f-d651-4c5b-87f4-b812bfc6b150",
   "metadata": {},
   "outputs": [],
   "source": [
    "df_seas_grid = df_seas_grid[df_seas_grid['mod_data'] == 'train']\n",
    "df_seas_grid['grazing_rel_freq_seas_traj'] = df_seas_grid.groupby(['mod_data', 'Pasture', \n",
    "                      'UTM_X', 'UTM_Y'])['grazing_rel_freq_seas_grp'].transform('_'.join)\n",
    "df_seas_grid['season'] = pd.Categorical(df_seas_grid['season'], ['early', 'mid', 'late'])"
   ]
  },
  {
   "cell_type": "code",
   "execution_count": 86,
   "id": "f7f4046a-9d0c-49f1-ba69-519979ae73bc",
   "metadata": {},
   "outputs": [
    {
     "name": "stderr",
     "output_type": "stream",
     "text": [
      "C:\\Users\\SEAN~1.KEA\\AppData\\Local\\Temp/ipykernel_96040/2580292971.py:1: RuntimeWarning: More than 20 figures have been opened. Figures created through the pyplot interface (`matplotlib.pyplot.figure`) are retained until explicitly closed and may consume too much memory. (To control this warning, see the rcParam `figure.max_open_warning`).\n",
      "  plt.figure()\n"
     ]
    },
    {
     "data": {
      "application/vnd.jupyter.widget-view+json": {
       "model_id": "69cd59a3f9624fc585958083d1a4165c",
       "version_major": 2,
       "version_minor": 0
      },
      "text/plain": [
       "Canvas(toolbar=Toolbar(toolitems=[('Home', 'Reset original view', 'home', 'home'), ('Back', 'Back to previous …"
      ]
     },
     "metadata": {},
     "output_type": "display_data"
    },
    {
     "data": {
      "text/plain": [
       "<AxesSubplot:xlabel='season', ylabel='Biomass'>"
      ]
     },
     "execution_count": 86,
     "metadata": {},
     "output_type": "execute_result"
    }
   ],
   "source": [
    "plt.figure()\n",
    "sns.pointplot(x='season', y='Biomass', hue='grazing_rel_freq_seas_traj', \n",
    "            data=df_seas_grid[df_seas_grid['grazing_rel_freq_seas_traj'].isin(['Low_Low_Low',\n",
    "                                                                               'Hi_Hi_Hi'])])"
   ]
  },
  {
   "cell_type": "code",
   "execution_count": 89,
   "id": "0f48d7ea-1ffb-4ee9-9735-b53cad3bd004",
   "metadata": {},
   "outputs": [
    {
     "data": {
      "application/vnd.jupyter.widget-view+json": {
       "model_id": "4ec4099759a2492cadc664787f915be3",
       "version_major": 2,
       "version_minor": 0
      },
      "text/plain": [
       "Canvas(toolbar=Toolbar(toolitems=[('Home', 'Reset original view', 'home', 'home'), ('Back', 'Back to previous …"
      ]
     },
     "metadata": {},
     "output_type": "display_data"
    },
    {
     "data": {
      "text/plain": [
       "<AxesSubplot:xlabel='season', ylabel='PC_div'>"
      ]
     },
     "execution_count": 89,
     "metadata": {},
     "output_type": "execute_result"
    }
   ],
   "source": [
    "plt.figure()\n",
    "sns.pointplot(x='season', y='PC_div', hue='grazing_rel_freq_seas_traj', \n",
    "            data=df_seas_grid[df_seas_grid['grazing_rel_freq_seas_traj'].isin(['Low_Low_Low',\n",
    "                                                                               'Hi_Hi_Hi'])])"
   ]
  },
  {
   "cell_type": "code",
   "execution_count": 53,
   "id": "5cb8f181-b865-4197-a6dd-f9a2999e200a",
   "metadata": {},
   "outputs": [
    {
     "data": {
      "text/plain": [
       "Low_Low_Low                 733\n",
       "Hi_Hi_Hi                    296\n",
       "Mod. Low_Low_Low            276\n",
       "Low_Mod. Low_Low            245\n",
       "Low_Low_Mod. Low            171\n",
       "                           ... \n",
       "Mod. Hi_Mod. Hi_Mod. Hi      15\n",
       "Mod. Hi_Mod. Hi_Mod. Low     13\n",
       "Mod. Low_Mod. Hi_Mod. Hi     12\n",
       "Mod. Hi_Mod. Low_Mod. Hi     11\n",
       "Low_Mod. Hi_Mod. Hi           8\n",
       "Name: grazing_rel_freq_seas_traj, Length: 125, dtype: int64"
      ]
     },
     "execution_count": 53,
     "metadata": {},
     "output_type": "execute_result"
    }
   ],
   "source": [
    "df_seas_grid['grazing_rel_freq_seas_traj'][df_seas_grid['season'] == 'late'].value_counts()"
   ]
  },
  {
   "cell_type": "code",
   "execution_count": 65,
   "id": "b4696718-b237-4cb2-b992-932f01466c57",
   "metadata": {},
   "outputs": [
    {
     "data": {
      "application/vnd.jupyter.widget-view+json": {
       "model_id": "",
       "version_major": 2,
       "version_minor": 0
      },
      "text/plain": [
       "Canvas(toolbar=Toolbar(toolitems=[('Home', 'Reset original view', 'home', 'home'), ('Back', 'Back to previous …"
      ]
     },
     "metadata": {},
     "output_type": "display_data"
    },
    {
     "data": {
      "text/plain": [
       "<AxesSubplot:xlabel='season', ylabel='pct_Hi'>"
      ]
     },
     "execution_count": 65,
     "metadata": {},
     "output_type": "execute_result"
    }
   ],
   "source": [
    "#plt.figure()\n",
    "df_plot = df_wkly_grid_full[df_wkly_grid_full['mod_data'] == 'train'].groupby(\n",
    "    ['season', 'week', 'Pasture', 'Steer_ID'])['grazing_rel_freq_seas_grp'].value_counts().reset_index().groupby(\n",
    "    ['season', 'Pasture', 'level_4']).mean().reset_index().pivot(columns='level_4',\n",
    "                                                               index=['season', 'Pasture'], values='grazing_rel_freq_seas_grp').reset_index()#.plot(kind='bar', stacked=True)\n",
    "df_plot['pct_Hi'] = df_plot[['Hi']].sum(axis=1) / df_plot[['Low', 'Mod. Low', 'Avg.', \n",
    "                                                  'Mod. Hi', 'Hi']].sum(axis=1)\n",
    "df_plot['season'] = pd.Categorical(df_plot['season'], ['early', 'mid', 'late'])\n",
    "#df_plot\n",
    "plt.figure()\n",
    "sns.pointplot(x='season', y='pct_Hi', hue='Pasture', data=df_plot)"
   ]
  },
  {
   "cell_type": "code",
   "execution_count": 66,
   "id": "ed212c27-4e80-46eb-888b-7364bb67b6bf",
   "metadata": {},
   "outputs": [
    {
     "data": {
      "text/html": [
       "<div>\n",
       "<style scoped>\n",
       "    .dataframe tbody tr th:only-of-type {\n",
       "        vertical-align: middle;\n",
       "    }\n",
       "\n",
       "    .dataframe tbody tr th {\n",
       "        vertical-align: top;\n",
       "    }\n",
       "\n",
       "    .dataframe thead th {\n",
       "        text-align: right;\n",
       "    }\n",
       "</style>\n",
       "<table border=\"1\" class=\"dataframe\">\n",
       "  <thead>\n",
       "    <tr style=\"text-align: right;\">\n",
       "      <th>level_4</th>\n",
       "      <th>season</th>\n",
       "      <th>Pasture</th>\n",
       "      <th>Low</th>\n",
       "      <th>Mod. Low</th>\n",
       "      <th>Avg.</th>\n",
       "      <th>Mod. Hi</th>\n",
       "      <th>Hi</th>\n",
       "      <th>pct_Hi</th>\n",
       "    </tr>\n",
       "  </thead>\n",
       "  <tbody>\n",
       "    <tr>\n",
       "      <th>0</th>\n",
       "      <td>early</td>\n",
       "      <td>15E</td>\n",
       "      <td>524.833333</td>\n",
       "      <td>253.000000</td>\n",
       "      <td>208.666667</td>\n",
       "      <td>122.166667</td>\n",
       "      <td>318.833333</td>\n",
       "      <td>0.223351</td>\n",
       "    </tr>\n",
       "    <tr>\n",
       "      <th>1</th>\n",
       "      <td>early</td>\n",
       "      <td>17N</td>\n",
       "      <td>393.833333</td>\n",
       "      <td>342.000000</td>\n",
       "      <td>261.000000</td>\n",
       "      <td>97.666667</td>\n",
       "      <td>288.333333</td>\n",
       "      <td>0.208509</td>\n",
       "    </tr>\n",
       "    <tr>\n",
       "      <th>2</th>\n",
       "      <td>early</td>\n",
       "      <td>20SE</td>\n",
       "      <td>422.000000</td>\n",
       "      <td>294.000000</td>\n",
       "      <td>315.333333</td>\n",
       "      <td>119.666667</td>\n",
       "      <td>269.000000</td>\n",
       "      <td>0.189437</td>\n",
       "    </tr>\n",
       "    <tr>\n",
       "      <th>3</th>\n",
       "      <td>early</td>\n",
       "      <td>26E</td>\n",
       "      <td>415.333333</td>\n",
       "      <td>313.000000</td>\n",
       "      <td>272.000000</td>\n",
       "      <td>125.333333</td>\n",
       "      <td>249.333333</td>\n",
       "      <td>0.181333</td>\n",
       "    </tr>\n",
       "    <tr>\n",
       "      <th>4</th>\n",
       "      <td>early</td>\n",
       "      <td>31E</td>\n",
       "      <td>402.666667</td>\n",
       "      <td>355.333333</td>\n",
       "      <td>360.666667</td>\n",
       "      <td>179.333333</td>\n",
       "      <td>323.666667</td>\n",
       "      <td>0.199589</td>\n",
       "    </tr>\n",
       "    <tr>\n",
       "      <th>5</th>\n",
       "      <td>early</td>\n",
       "      <td>7NW</td>\n",
       "      <td>392.833333</td>\n",
       "      <td>318.000000</td>\n",
       "      <td>270.500000</td>\n",
       "      <td>140.833333</td>\n",
       "      <td>264.500000</td>\n",
       "      <td>0.190745</td>\n",
       "    </tr>\n",
       "    <tr>\n",
       "      <th>6</th>\n",
       "      <td>late</td>\n",
       "      <td>15E</td>\n",
       "      <td>354.250000</td>\n",
       "      <td>246.250000</td>\n",
       "      <td>368.500000</td>\n",
       "      <td>166.750000</td>\n",
       "      <td>295.000000</td>\n",
       "      <td>0.206186</td>\n",
       "    </tr>\n",
       "    <tr>\n",
       "      <th>7</th>\n",
       "      <td>late</td>\n",
       "      <td>17N</td>\n",
       "      <td>486.750000</td>\n",
       "      <td>249.750000</td>\n",
       "      <td>266.000000</td>\n",
       "      <td>97.250000</td>\n",
       "      <td>283.000000</td>\n",
       "      <td>0.204665</td>\n",
       "    </tr>\n",
       "    <tr>\n",
       "      <th>8</th>\n",
       "      <td>late</td>\n",
       "      <td>20SE</td>\n",
       "      <td>424.750000</td>\n",
       "      <td>291.250000</td>\n",
       "      <td>287.250000</td>\n",
       "      <td>141.250000</td>\n",
       "      <td>276.250000</td>\n",
       "      <td>0.194440</td>\n",
       "    </tr>\n",
       "    <tr>\n",
       "      <th>9</th>\n",
       "      <td>late</td>\n",
       "      <td>26E</td>\n",
       "      <td>450.500000</td>\n",
       "      <td>251.500000</td>\n",
       "      <td>264.000000</td>\n",
       "      <td>116.500000</td>\n",
       "      <td>295.000000</td>\n",
       "      <td>0.214156</td>\n",
       "    </tr>\n",
       "    <tr>\n",
       "      <th>10</th>\n",
       "      <td>late</td>\n",
       "      <td>31E</td>\n",
       "      <td>426.500000</td>\n",
       "      <td>345.000000</td>\n",
       "      <td>372.000000</td>\n",
       "      <td>172.000000</td>\n",
       "      <td>309.000000</td>\n",
       "      <td>0.190212</td>\n",
       "    </tr>\n",
       "    <tr>\n",
       "      <th>11</th>\n",
       "      <td>late</td>\n",
       "      <td>7NW</td>\n",
       "      <td>373.000000</td>\n",
       "      <td>292.000000</td>\n",
       "      <td>301.000000</td>\n",
       "      <td>150.666667</td>\n",
       "      <td>271.000000</td>\n",
       "      <td>0.195292</td>\n",
       "    </tr>\n",
       "    <tr>\n",
       "      <th>12</th>\n",
       "      <td>mid</td>\n",
       "      <td>15E</td>\n",
       "      <td>499.833333</td>\n",
       "      <td>256.500000</td>\n",
       "      <td>231.000000</td>\n",
       "      <td>127.666667</td>\n",
       "      <td>314.500000</td>\n",
       "      <td>0.220007</td>\n",
       "    </tr>\n",
       "    <tr>\n",
       "      <th>13</th>\n",
       "      <td>mid</td>\n",
       "      <td>17N</td>\n",
       "      <td>446.750000</td>\n",
       "      <td>263.000000</td>\n",
       "      <td>269.250000</td>\n",
       "      <td>110.250000</td>\n",
       "      <td>292.000000</td>\n",
       "      <td>0.211403</td>\n",
       "    </tr>\n",
       "    <tr>\n",
       "      <th>14</th>\n",
       "      <td>mid</td>\n",
       "      <td>20SE</td>\n",
       "      <td>365.666667</td>\n",
       "      <td>310.000000</td>\n",
       "      <td>338.666667</td>\n",
       "      <td>137.333333</td>\n",
       "      <td>264.666667</td>\n",
       "      <td>0.186867</td>\n",
       "    </tr>\n",
       "    <tr>\n",
       "      <th>15</th>\n",
       "      <td>mid</td>\n",
       "      <td>26E</td>\n",
       "      <td>449.000000</td>\n",
       "      <td>249.000000</td>\n",
       "      <td>269.666667</td>\n",
       "      <td>114.000000</td>\n",
       "      <td>294.666667</td>\n",
       "      <td>0.214095</td>\n",
       "    </tr>\n",
       "    <tr>\n",
       "      <th>16</th>\n",
       "      <td>mid</td>\n",
       "      <td>31E</td>\n",
       "      <td>425.666667</td>\n",
       "      <td>331.000000</td>\n",
       "      <td>373.333333</td>\n",
       "      <td>169.000000</td>\n",
       "      <td>323.333333</td>\n",
       "      <td>0.199301</td>\n",
       "    </tr>\n",
       "    <tr>\n",
       "      <th>17</th>\n",
       "      <td>mid</td>\n",
       "      <td>7NW</td>\n",
       "      <td>504.333333</td>\n",
       "      <td>192.000000</td>\n",
       "      <td>246.666667</td>\n",
       "      <td>118.333333</td>\n",
       "      <td>325.000000</td>\n",
       "      <td>0.234431</td>\n",
       "    </tr>\n",
       "  </tbody>\n",
       "</table>\n",
       "</div>"
      ],
      "text/plain": [
       "level_4 season Pasture         Low    Mod. Low        Avg.     Mod. Hi  \\\n",
       "0        early     15E  524.833333  253.000000  208.666667  122.166667   \n",
       "1        early     17N  393.833333  342.000000  261.000000   97.666667   \n",
       "2        early    20SE  422.000000  294.000000  315.333333  119.666667   \n",
       "3        early     26E  415.333333  313.000000  272.000000  125.333333   \n",
       "4        early     31E  402.666667  355.333333  360.666667  179.333333   \n",
       "5        early     7NW  392.833333  318.000000  270.500000  140.833333   \n",
       "6         late     15E  354.250000  246.250000  368.500000  166.750000   \n",
       "7         late     17N  486.750000  249.750000  266.000000   97.250000   \n",
       "8         late    20SE  424.750000  291.250000  287.250000  141.250000   \n",
       "9         late     26E  450.500000  251.500000  264.000000  116.500000   \n",
       "10        late     31E  426.500000  345.000000  372.000000  172.000000   \n",
       "11        late     7NW  373.000000  292.000000  301.000000  150.666667   \n",
       "12         mid     15E  499.833333  256.500000  231.000000  127.666667   \n",
       "13         mid     17N  446.750000  263.000000  269.250000  110.250000   \n",
       "14         mid    20SE  365.666667  310.000000  338.666667  137.333333   \n",
       "15         mid     26E  449.000000  249.000000  269.666667  114.000000   \n",
       "16         mid     31E  425.666667  331.000000  373.333333  169.000000   \n",
       "17         mid     7NW  504.333333  192.000000  246.666667  118.333333   \n",
       "\n",
       "level_4          Hi    pct_Hi  \n",
       "0        318.833333  0.223351  \n",
       "1        288.333333  0.208509  \n",
       "2        269.000000  0.189437  \n",
       "3        249.333333  0.181333  \n",
       "4        323.666667  0.199589  \n",
       "5        264.500000  0.190745  \n",
       "6        295.000000  0.206186  \n",
       "7        283.000000  0.204665  \n",
       "8        276.250000  0.194440  \n",
       "9        295.000000  0.214156  \n",
       "10       309.000000  0.190212  \n",
       "11       271.000000  0.195292  \n",
       "12       314.500000  0.220007  \n",
       "13       292.000000  0.211403  \n",
       "14       264.666667  0.186867  \n",
       "15       294.666667  0.214095  \n",
       "16       323.333333  0.199301  \n",
       "17       325.000000  0.234431  "
      ]
     },
     "execution_count": 66,
     "metadata": {},
     "output_type": "execute_result"
    }
   ],
   "source": [
    "df_wkly_grid_full[df_wkly_grid_full['mod_data'] == 'train'].pivot(index=['Pasture', 'UTM_X', 'UTM_Y'])"
   ]
  },
  {
   "cell_type": "code",
   "execution_count": null,
   "id": "153306f0-0717-4cfb-ac47-9cb2564ff18a",
   "metadata": {},
   "outputs": [],
   "source": [
    "#plt.figure()\n",
    "df_plot = df_wkly_grid_full[df_wkly_grid_full['mod_data'] == 'train'].groupby(\n",
    "    ['season', 'week', 'Pasture', 'Steer_ID'])['grazing_rel_freq_seas_grp'].value_counts().reset_index().groupby(\n",
    "    ['season', 'Pasture', 'level_4']).mean().reset_index().pivot(columns='level_4',\n",
    "                                                               index=['season', 'Pasture'], values='grazing_rel_freq_seas_grp').reset_index()#.plot(kind='bar', stacked=True)\n",
    "df_plot['pct_Hi'] = df_plot[['Hi']].sum(axis=1) / df_plot[['Low', 'Mod. Low', 'Avg.', \n",
    "                                                  'Mod. Hi', 'Hi']].sum(axis=1)\n",
    "df_plot['season'] = pd.Categorical(df_plot['season'], ['early', 'mid', 'late'])\n",
    "#df_plot\n",
    "plt.figure()\n",
    "sns.pointplot(x='season', y='pct_Hi', hue='Pasture', data=df_plot)"
   ]
  },
  {
   "cell_type": "code",
   "execution_count": 46,
   "id": "16ef6b05-fc2a-4b67-8a3f-82493caa9f02",
   "metadata": {},
   "outputs": [],
   "source": [
    "\"\"\"\n",
    "Save data to make Sankey diagrams in R\n",
    "\"\"\"\n",
    "df_sankey = pd.DataFrame(columns=['class_early', 'class_mid', 'class_late', 'value'])\n",
    "df_sankey['class_early'] = df_seas_grid[df_seas_grid['season'] == 'early']['grazing_rel_freq_seas_grp'].reset_index(drop=True)\n",
    "df_sankey['class_mid'] = df_seas_grid[df_seas_grid['season'] == 'mid']['grazing_rel_freq_seas_grp'].reset_index(drop=True)\n",
    "df_sankey['class_late'] = df_seas_grid[df_seas_grid['season'] == 'late']['grazing_rel_freq_seas_grp'].reset_index(drop=True)\n",
    "df_sankey['value'] = 1\n",
    "sankey_grp = df_sankey.groupby(['class_early', 'class_mid', 'class_late']).sum().reset_index(drop=False)\n",
    "sankey_grp = sankey_grp.reindex(columns=sankey_grp.columns.tolist())\n",
    "sankey_grp.to_csv('C:/SPK_local/zTEMP/gps_grid_sankey2.csv')"
   ]
  }
 ],
 "metadata": {
  "kernelspec": {
   "display_name": "Python 3 (ipykernel)",
   "language": "python",
   "name": "python3"
  },
  "language_info": {
   "codemirror_mode": {
    "name": "ipython",
    "version": 3
   },
   "file_extension": ".py",
   "mimetype": "text/x-python",
   "name": "python",
   "nbconvert_exporter": "python",
   "pygments_lexer": "ipython3",
   "version": "3.9.5"
  }
 },
 "nbformat": 4,
 "nbformat_minor": 5
}
