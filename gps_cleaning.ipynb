{
 "cells": [
  {
   "cell_type": "code",
   "execution_count": 1,
   "id": "0d685d6e-0c95-4a40-a187-9cbe7d52ae40",
   "metadata": {},
   "outputs": [],
   "source": [
    "import pandas as pd\n",
    "import numpy as np\n",
    "import os\n",
    "import re\n",
    "import xarray as xr\n",
    "import geopandas as gpd\n",
    "from rasterio import features\n",
    "from rasterio.enums import MergeAlg\n",
    "from rasterio.plot import show\n",
    "import seaborn as sns\n",
    "import matplotlib.pyplot as plt\n",
    "import datetime\n",
    "from shapely.geometry import Point, LineString, MultiPoint, shape\n",
    "from shapely.ops import split\n",
    "from tqdm.notebook import tqdm\n",
    "from sklearn.neighbors import BallTree\n",
    "from lotek.gps import calc_ta, calc_dist\n",
    "from lotek.conversion import shp2mask\n",
    "%config Completer.use_jedi = False\n",
    "%matplotlib widget\n",
    "\n",
    "#from distributed import Client, LocalCluster\n",
    "#cluster = LocalCluster(n_workers=5, threads_per_worker=2)\n",
    "#client = Client(cluster)\n",
    "#client"
   ]
  },
  {
   "cell_type": "code",
   "execution_count": 2,
   "id": "18a77c83-3cac-4501-a14e-cc815cd30377",
   "metadata": {},
   "outputs": [],
   "source": [
    "\"\"\"\n",
    "Define files to be used\n",
    "\"\"\"\n",
    "# CSV of GPS collar data\n",
    "#gps_f = 'C:/SPK_local/data/cattle_gps/Lotek/2017/TRMappended2017_GoodDays_TrackQ3.csv'\n",
    "inDIR = 'T:/5-CattleCollars/3-Projects/CARM_PairedComps/TRM_Appended_Files'\n",
    "outDIR = 'C:/SPK_local/for_others/Augustine_lotek'\n",
    "gps_f_name = 'TRMappended_GoodDays_2018TrackQ3.csv'\n",
    "gps_f = os.path.join(inDIR, gps_f_name)\n",
    "\n",
    "# distance to fence raster to be used as 30 m template\n",
    "tif_30m_f = 'C:/SPK_local/data/rasters/Masks/CPER_dist_to_fence_2017.tif'\n",
    "\n",
    "# plant community map to be used as 1 m template\n",
    "#veg_f = 'G:/neon_v18/neon_class_2017_v18.tif'\n",
    "veg_f = 'T:/3-GIS/CPER/Layers/NEON/veg_maps_v18/neon_class_2017_v18.tif'\n",
    "\n",
    "# pasture boundaries shapefile\n",
    "cper_f = \"C:/SPK_local/data/vectors/Pasture_Boundaries/Shapefiles/cper_pastures_2017_clip.shp\""
   ]
  },
  {
   "cell_type": "code",
   "execution_count": 3,
   "id": "766a52ef-a150-492d-8c97-0dd4de77c290",
   "metadata": {},
   "outputs": [],
   "source": [
    "\"\"\"\n",
    "Read in GPS data and format\n",
    "\"\"\"\n",
    "# read data\n",
    "df_gps = pd.read_csv(gps_f, engine='python')"
   ]
  },
  {
   "cell_type": "code",
   "execution_count": 4,
   "id": "6a37cc98-a808-48c6-bb27-b38b83dc0549",
   "metadata": {},
   "outputs": [
    {
     "data": {
      "text/plain": [
       "array(['7NW', '17N', '20SE', '24W', '15', '26', '25SE', '19N', '31', '5'],\n",
       "      dtype=object)"
      ]
     },
     "metadata": {},
     "output_type": "display_data"
    }
   ],
   "source": [
    "# fix column names as needed\n",
    "#col_remap_dict = {\n",
    "#    'Date_Time_Fix': 'Date_Time',\n",
    "#    'duration_check': 'duration'\n",
    "#}\n",
    "#df_gps = df_gps.rename(columns=col_remap_dict)\n",
    "\n",
    "# convert datetime strings to dates\n",
    "df_gps['Fix_DateTime'] = pd.to_datetime(df_gps['Fix_Date'].astype(str) + ' ' + df_gps['Fix_Time'])\n",
    "df_gps['Fix_Date'] = pd.to_datetime(df_gps['Fix_Date'])\n",
    "\n",
    "# sort data by fix time for each steer\n",
    "df_gps = df_gps.groupby('Steer_ID').apply(lambda x: x.sort_values('Fix_DateTime')).reset_index(drop=True)\n",
    "\n",
    "# calculate the actual duration between fixes\n",
    "df_gps['Fix_Duration'] = df_gps.groupby('Steer_ID').apply(\n",
    "    lambda x: (x.Fix_DateTime - x.Fix_DateTime.shift(1)).astype(\"timedelta64[s]\")).reset_index()['Fix_DateTime']\n",
    "\n",
    "# check pasture names in data\n",
    "display(df_gps['Pasture'].unique())"
   ]
  },
  {
   "cell_type": "code",
   "execution_count": null,
   "id": "acc0e73c-0f2a-46f6-90dc-90bde91412f4",
   "metadata": {},
   "outputs": [],
   "source": []
  },
  {
   "cell_type": "code",
   "execution_count": 5,
   "id": "2691b6b6-f3fa-4e96-9c02-ec7feadcad98",
   "metadata": {},
   "outputs": [],
   "source": [
    "#df_test = pd.read_csv(os.path.join(outDIR, 'TRMappended_GoodDays_2017TrackQ3_flagged.csv'), engine='python')"
   ]
  },
  {
   "cell_type": "code",
   "execution_count": 6,
   "id": "6a3e32f6-0d45-41ed-a8af-da01dfec06a2",
   "metadata": {},
   "outputs": [],
   "source": [
    "#df_test[['Date_Time', 'Fix_Date', 'Fix_Time', 'Date_Time_Fix', 'duration', 'duration_check']]"
   ]
  },
  {
   "cell_type": "code",
   "execution_count": 7,
   "id": "b5a507be-dea3-4c3a-a7d4-e95e7f9bc1a5",
   "metadata": {},
   "outputs": [],
   "source": [
    "# fix pasture names using a dictionary of form {'old':'new'}\n",
    "past_remap_dict = {\n",
    "    '31': '31E', \n",
    "    '19N': '19N',\n",
    "    '25SE': '25SE',\n",
    "    '26': '26E',\n",
    "    '15': '15E',\n",
    "    '24W': '24W',\n",
    "    '20SE': '20SE',\n",
    "    '17N': '17N',\n",
    "    '7NW': '7NW',\n",
    "    '5': '5E'\n",
    "}\n",
    "df_gps = df_gps.replace({'Pasture': past_remap_dict})"
   ]
  },
  {
   "cell_type": "code",
   "execution_count": 8,
   "id": "330a64b1-67ab-4812-858d-02f87536befe",
   "metadata": {},
   "outputs": [],
   "source": [
    "\"\"\"\n",
    "Extract pasture name of each GPS fix to identify fixes outside assigned pastures\n",
    "\"\"\"\n",
    "# read in 1 m vegetation community raster as template\n",
    "xr_veg = xr.open_rasterio(veg_f).squeeze('band')\n",
    "\n",
    "# read in CPER pasture shapefile\n",
    "df_cper = gpd.read_file(cper_f)\n",
    "\n",
    "# dissolve by pasture to make sure each pasture is a single polygon\n",
    "df_cper = df_cper.dissolve(by='Past_Name_').reset_index().rename(columns={'Past_Name_': 'Pasture'})\n",
    "\n",
    "# convert pasture polygons to an xarray (1 m gridded raster) object with pasture name as value\n",
    "cper_info = df_cper[['Pasture', 'geometry']].reset_index(drop=True).reset_index().rename(columns={'index': 'id'})\n",
    "past_dict = {row.id+1: row.Pasture for _, row in cper_info.iterrows()}\n",
    "past_dict[0] = 'UNK'\n",
    "past_mask_shp = [(row.geometry, row.id+1) for _, row in cper_info.iterrows()]\n",
    "past_mask_1m = shp2mask(shp=past_mask_shp, xr_object=xr_veg)\n",
    "past_mask_1m.values = np.array([past_dict[i] for i in past_mask_1m.values.flatten()]).reshape(past_mask_1m.shape)\n",
    "\n",
    "# convert GPS collar coordinates to xarray objects\n",
    "target_lon = xr.DataArray(df_gps['UTM_X'], dims=\"points\")\n",
    "target_lat = xr.DataArray(df_gps['UTM_Y'], dims=\"points\")\n",
    "\n",
    "# get pasture name of the nearest pixel in the 1 m pasture mask and assign to GPS dataframe\n",
    "past_tmp = past_mask_1m.sel(x=target_lon, y=target_lat, method='nearest')\n",
    "df_gps['past_mask'] = past_tmp.values"
   ]
  },
  {
   "cell_type": "code",
   "execution_count": 9,
   "id": "82d2a789-2d82-4971-8bc7-90b4b497276b",
   "metadata": {},
   "outputs": [
    {
     "data": {
      "application/vnd.jupyter.widget-view+json": {
       "model_id": "0f56f14361364b09b99d86c31acd3896",
       "version_major": 2,
       "version_minor": 0
      },
      "text/plain": [
       "  0%|          | 0/10 [00:00<?, ?it/s]"
      ]
     },
     "metadata": {},
     "output_type": "display_data"
    }
   ],
   "source": [
    "\"\"\"\n",
    "Clean up data based on distance from assigned pasture, grazing hrs per day and missing fixes per day\n",
    "\"\"\"\n",
    "# define threshold distance (m) from deployment pasture to remove GPS fixes from dataset\n",
    "dist_thresh = 100\n",
    "\n",
    "# define minimum and maximum grazing hours per day for removing days from GPS dataset\n",
    "hrs_min = 6\n",
    "hrs_max = 13\n",
    "\n",
    "# define maximum number of missing fixes allowed per day\n",
    "missing_max = 20\n",
    "\n",
    "# loop through pastures and get coordinates of nearest location within the pasture boundary for each fix\n",
    "for past_i in tqdm(df_gps['Pasture'].unique()):\n",
    "    #print(past_i)\n",
    "    xr_past_stacked = past_mask_1m.where(past_mask_1m == past_i, drop=True).stack(xy=['x', 'y'])\n",
    "    x_coords = [i[0] for i in xr_past_stacked[xr_past_stacked.notnull()]['xy'].values]\n",
    "    y_coords = [i[1] for i in xr_past_stacked[xr_past_stacked.notnull()]['xy'].values]\n",
    "\n",
    "    # Create a BallTree object\n",
    "    # borrowed from: https://stackoverflow.com/questions/58893719/find-nearest-point-in-other-dataframe-with-a-lot-of-data\n",
    "    tree = BallTree(np.array(list(zip(x_coords, y_coords))), leaf_size=2)\n",
    "\n",
    "    #Query the BallTree on all GPS coordinates from collars deployed in the pasture to find the distance\n",
    "    # to the nearest pixel within the pasture and its id\n",
    "    dist_tmp, id_tmp= tree.query(\n",
    "        df_gps.loc[df_gps['Pasture'] == past_i, ['UTM_X', 'UTM_Y']].values, # The input array for the query\n",
    "        k=1, # The number of nearest neighbors\n",
    "    )\n",
    "    df_gps.loc[df_gps['Pasture'] == past_i, 'distance_nearest'] = dist_tmp\n",
    "    df_gps.loc[df_gps['Pasture'] == past_i, 'id_nearest'] = id_tmp\n",
    "    df_gps.loc[df_gps['Pasture'] == past_i, 'UTM_X_nearest'] = np.array(x_coords)[id_tmp.squeeze()]\n",
    "    df_gps.loc[df_gps['Pasture'] == past_i, 'UTM_Y_nearest'] = np.array(y_coords)[id_tmp.squeeze()]\n",
    "    \n",
    "    # print the number of locations more than 50 m from the pasture in which the collar was deployed\n",
    "    #print(str(len(\n",
    "    #    df_gps[(df_gps['Pasture'] == past_i) & \n",
    "    #           (df_gps['Pasture'] != df_gps['past_mask']) & \n",
    "    #           (df_gps['distance_nearest'] > dist_thresh)])) +\n",
    "    #      ' locations found > ' + str(dist_thresh) + ' m from pasture. \\n')\n",
    "\n",
    "# remove all GPS locations more than 100 m from the pasture in which the collar was deployed\n",
    "df_gps = df_gps[~((df_gps['Pasture'] != df_gps['past_mask']) & (df_gps['distance_nearest'] > dist_thresh))]\n",
    "\n",
    "# create new final fix coordinates by correcting near-fence but outside coordinates\n",
    "df_gps['UTM_X_fnl'] = df_gps['UTM_X']\n",
    "df_gps['UTM_Y_fnl'] = df_gps['UTM_Y']\n",
    "df_gps.loc[df_gps['Pasture'] != df_gps['past_mask'], \n",
    "           'UTM_X_fnl'] = df_gps[df_gps['Pasture'] != df_gps['past_mask']]['UTM_X_nearest']\n",
    "df_gps.loc[df_gps['Pasture'] != df_gps['past_mask'], \n",
    "           'UTM_Y_fnl'] = df_gps[df_gps['Pasture'] != df_gps['past_mask']]['UTM_Y_nearest']"
   ]
  },
  {
   "cell_type": "code",
   "execution_count": 10,
   "id": "7000a326-51b4-4c5d-9ef0-068720fe8e40",
   "metadata": {},
   "outputs": [
    {
     "data": {
      "application/vnd.jupyter.widget-view+json": {
       "model_id": "50f076809aaf4050bccd62cd7f23b995",
       "version_major": 2,
       "version_minor": 0
      },
      "text/plain": [
       "  0%|          | 0/2142 [00:00<?, ?it/s]"
      ]
     },
     "metadata": {},
     "output_type": "display_data"
    },
    {
     "name": "stderr",
     "output_type": "stream",
     "text": [
      "C:\\Users\\sean.kearney\\Github\\lotek_processing\\lotek\\gps.py:23: RuntimeWarning: invalid value encountered in double_scalars\n",
      "  cosine_angle = np.dot(ba, bc) / (np.linalg.norm(ba) * np.linalg.norm(bc))\n",
      "C:\\Users\\sean.kearney\\Github\\lotek_processing\\lotek\\gps.py:24: RuntimeWarning: invalid value encountered in arccos\n",
      "  angle = np.arccos(cosine_angle)\n"
     ]
    }
   ],
   "source": [
    "\"\"\"\n",
    "Calculate movment stats at each GPS fix\n",
    "    turning angle (degrees): angle between previous, current and next fix, \n",
    "        converted to difference from straight line (0) with possible values ranging 0-180\n",
    "    step length (m): distance from previous to current fix\n",
    "    movement rate (m/min): distance (m) between previous and current fix divided by\n",
    "        time (mins) between previous and current fix\n",
    "\"\"\"\n",
    "\n",
    "# calculate the turning angle and distance at each fix for each day and each steer\n",
    "df_gps['steplength'] = np.nan\n",
    "df_gps['turnangle'] = np.nan\n",
    "for group in tqdm(df_gps.groupby(['Steer_ID', 'Fix_Date'])):\n",
    "    group[1]['UTM_X_fnl_lag1'] = group[1]['UTM_X_fnl'].shift(1)\n",
    "    group[1]['UTM_Y_fnl_lag1'] = group[1]['UTM_Y_fnl'].shift(1)\n",
    "    group[1]['UTM_X_fnl_lead1'] = group[1]['UTM_X_fnl'].shift(-1)\n",
    "    group[1]['UTM_Y_fnl_lead1'] = group[1]['UTM_Y_fnl'].shift(-1)\n",
    "    a_list = list(group[1][['UTM_X_fnl_lag1', 'UTM_Y_fnl_lag1']].values)\n",
    "    b_list = list(group[1][['UTM_X_fnl', 'UTM_Y_fnl']].values)\n",
    "    c_list = list(group[1][['UTM_X_fnl_lead1', 'UTM_Y_fnl_lead1']].values)\n",
    "    dist_mask = ~(np.any(np.isnan(a_list), axis=1) |  np.any(np.isnan(b_list), axis=1))\n",
    "    sl_tmp = np.ones_like(dist_mask) * np.nan\n",
    "    sl_tmp[dist_mask] = calc_dist(np.array(list(map(tuple, a_list)))[dist_mask], \n",
    "                                  np.array(list(map(tuple, b_list)))[dist_mask]).squeeze()\n",
    "    df_gps.loc[(df_gps['Steer_ID'] == group[0][0]) & (df_gps['Fix_Date'] == group[0][1]),\n",
    "               'steplength'] = sl_tmp\n",
    "    df_gps.loc[(df_gps['Steer_ID'] == group[0][0]) & (df_gps['Fix_Date'] == group[0][1]),\n",
    "               'turnangle'] = calc_ta(a_list, b_list, c_list)\n",
    "\n",
    "# Calculate movement rate from distance and timestamp\n",
    "df_gps['moverate'] = df_gps['steplength'] / df_gps['Fix_Duration']"
   ]
  },
  {
   "cell_type": "code",
   "execution_count": 11,
   "id": "97119255-c845-43ce-978b-cb4484d4f590",
   "metadata": {},
   "outputs": [],
   "source": [
    "# flag all locations suspected as jumps (movement rate > 42 m/min and turnangle > 120 degrees)\n",
    "jump_flag = (df_gps['moverate'] > 42) & (df_gps['turnangle'] > 120)\n",
    "df_gps['jump_flag'] = jump_flag.astype(int)\n",
    "\n",
    "# flag all locations with movement rate > 84 m/min while grazing\n",
    "fast_flag = (df_gps['moverate'] > 84) & (df_gps['GrazingAct'] == 1)\n",
    "df_gps['fast_flag'] = fast_flag.astype(int)\n",
    "\n",
    "# flag all days with more than the maximum number of allowed missing fixes\n",
    "missingfix_flag = df_gps.groupby(['Fix_Date', 'Steer_ID'])['GrazingAct'].transform('count') < (24 * (60 / 5) - missing_max)\n",
    "df_gps['missingfix_flag'] = missingfix_flag.astype(int)\n",
    "\n",
    "# combine the three masks above to flag any data that should not be included when calculating grazing hours\n",
    "badfix_flag = jump_flag | fast_flag | missingfix_flag\n",
    "df_gps['badfix_flag'] = badfix_flag.astype(int)\n",
    "\n",
    "# calculate total time in hrs spent grazing daily\n",
    "df_gps['grazing_hrs'] = df_gps[~badfix_flag].groupby(['Fix_Date', 'Steer_ID'])['GrazingAct'].transform('sum') * 5 / 60\n",
    "\n",
    "# flag all days with less than 6 hrs and more than 13 hrs grazing\n",
    "grazehrs_flag = (df_gps['grazing_hrs'] < hrs_min) | (df_gps['grazing_hrs'] > hrs_max)\n",
    "df_gps['grazehrs_flag'] = grazehrs_flag.astype(int)"
   ]
  },
  {
   "cell_type": "code",
   "execution_count": 12,
   "id": "4a068b90-99e4-40eb-b6b9-50c32c5590b1",
   "metadata": {},
   "outputs": [],
   "source": [
    "df_gps_flagged = df_gps.copy()\n",
    "df_gps_flagged.to_csv(os.path.join(outDIR, re.sub('.csv', '_flagged.csv', gps_f_name)), index=False)\n",
    "\n",
    "df_gps = df_gps[~(badfix_flag | grazehrs_flag)]"
   ]
  },
  {
   "cell_type": "code",
   "execution_count": 13,
   "id": "879acb3a-7b86-4153-8722-8f68acb9cf16",
   "metadata": {},
   "outputs": [
    {
     "name": "stderr",
     "output_type": "stream",
     "text": [
      "C:\\Users\\sean.kearney\\.conda\\envs\\py_geo_env\\lib\\site-packages\\pandas\\core\\frame.py:3607: SettingWithCopyWarning: \n",
      "A value is trying to be set on a copy of a slice from a DataFrame.\n",
      "Try using .loc[row_indexer,col_indexer] = value instead\n",
      "\n",
      "See the caveats in the documentation: https://pandas.pydata.org/pandas-docs/stable/user_guide/indexing.html#returning-a-view-versus-a-copy\n",
      "  self._set_item(key, value)\n",
      "C:\\Users\\sean.kearney\\.conda\\envs\\py_geo_env\\lib\\site-packages\\pandas\\core\\indexing.py:1817: SettingWithCopyWarning: \n",
      "A value is trying to be set on a copy of a slice from a DataFrame.\n",
      "Try using .loc[row_indexer,col_indexer] = value instead\n",
      "\n",
      "See the caveats in the documentation: https://pandas.pydata.org/pandas-docs/stable/user_guide/indexing.html#returning-a-view-versus-a-copy\n",
      "  self._setitem_single_column(loc, value, pi)\n"
     ]
    }
   ],
   "source": [
    "# change bouts when grazing activity changes, unless the two fixes before and two fixes after are the same\n",
    "# in detail: change to new bout if:\n",
    "# activity is not the same as the previous row\n",
    "# AND activity is the same as one of the next two rows\n",
    "# AND activitiy is not the same as one of the two rows after it\n",
    "# NOTE: this only works for bouts of 4+ fixes. We will manually classify bouts <= 3 fixes as 'Transition' bout\n",
    "df_gps['grazing_bout'] = df_gps.groupby(['Fix_Date', 'Steer_ID'])['GrazingAct'].apply(\n",
    "    lambda x: (((x != x.shift(1)) &\n",
    "                ((x == x.shift(-1)) | (x == x.shift(-2))) & \n",
    "                ((x != x.shift(2)) | (x != x.shift(3))))).cumsum())\n",
    "\n",
    "# calculate duration of each bout in minutes\n",
    "df_gps['bout_mins'] = df_gps.groupby(['Fix_Date', 'Steer_ID', 'grazing_bout'])['Fix_DateTime'].transform(lambda x: (x.max() - x.min()).seconds/60 + 5.0)\n",
    "\n",
    "# calculate the majority grazing activity for each bout to calculate bout activity\n",
    "df_gps['bout_maj'] = df_gps.groupby(['Fix_Date', 'Steer_ID', 'grazing_bout'])['GrazingAct'].transform(lambda x: x.value_counts().index[0])\n",
    "\n",
    "# create a bout activity column\n",
    "bout_act_dict = {0: 'Nongrazing',\n",
    "                1: 'Grazing'}\n",
    "df_gps['bout_act'] = df_gps['bout_maj'].apply(lambda x: bout_act_dict[x])\n",
    "df_gps.loc[df_gps['bout_mins'] < 20, 'bout_act'] = 'Transition'\n",
    "\n",
    "# calculate the number of bouts per day in each activity\n",
    "df_gps['act_bout_ct_daily'] = df_gps.groupby(['Fix_Date', 'Steer_ID', 'bout_act'])['grazing_bout'].transform('nunique')\n",
    "\n",
    "# calculate grazing activity budgets for each day and steer\n",
    "df_gps['act_budget_daily'] = df_gps.groupby(['Fix_Date', 'Steer_ID', 'bout_act'])['bout_mins'].transform('sum') / df_gps.groupby(['Fix_Date', 'Steer_ID'])['bout_mins'].transform('sum')"
   ]
  },
  {
   "cell_type": "code",
   "execution_count": 14,
   "id": "5ca0c3ed-fa00-485b-a23d-3955e111d939",
   "metadata": {},
   "outputs": [],
   "source": [
    "df_gps.to_csv(os.path.join(outDIR, re.sub('.csv', '_cleaned.csv', gps_f_name)), index=False)"
   ]
  },
  {
   "cell_type": "code",
   "execution_count": 15,
   "id": "bf42ed32-4254-4c9a-bdd2-90d0ab8c103c",
   "metadata": {},
   "outputs": [
    {
     "data": {
      "text/plain": [
       "0.06083673255249662"
      ]
     },
     "execution_count": 15,
     "metadata": {},
     "output_type": "execute_result"
    }
   ],
   "source": [
    "sum(grazehrs_flag)/len(df_gps_flagged)"
   ]
  },
  {
   "cell_type": "code",
   "execution_count": 16,
   "id": "9d2c2a61-4f17-4905-ae73-ad6a303358d7",
   "metadata": {},
   "outputs": [
    {
     "data": {
      "text/plain": [
       "726783"
      ]
     },
     "execution_count": 16,
     "metadata": {},
     "output_type": "execute_result"
    }
   ],
   "source": [
    "len(df_gps_flagged)"
   ]
  },
  {
   "cell_type": "code",
   "execution_count": 18,
   "id": "ba16070b-8c8a-4eb7-aff2-5cc2dc2c9726",
   "metadata": {},
   "outputs": [
    {
     "data": {
      "text/plain": [
       "671158"
      ]
     },
     "execution_count": 18,
     "metadata": {},
     "output_type": "execute_result"
    }
   ],
   "source": [
    "len(df_gps)"
   ]
  },
  {
   "cell_type": "code",
   "execution_count": null,
   "id": "8e7f68b4-d8ef-44fa-a8a4-611ebf83bc58",
   "metadata": {},
   "outputs": [],
   "source": []
  }
 ],
 "metadata": {
  "kernelspec": {
   "display_name": "Python 3 (ipykernel)",
   "language": "python",
   "name": "python3"
  },
  "language_info": {
   "codemirror_mode": {
    "name": "ipython",
    "version": 3
   },
   "file_extension": ".py",
   "mimetype": "text/x-python",
   "name": "python",
   "nbconvert_exporter": "python",
   "pygments_lexer": "ipython3",
   "version": "3.9.5"
  }
 },
 "nbformat": 4,
 "nbformat_minor": 5
}
