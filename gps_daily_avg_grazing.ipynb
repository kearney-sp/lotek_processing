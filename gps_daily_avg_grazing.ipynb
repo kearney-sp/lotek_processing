{
 "cells": [
  {
   "cell_type": "code",
   "execution_count": 1,
   "id": "5319716d-bda0-439a-a970-efb198bb2515",
   "metadata": {},
   "outputs": [],
   "source": [
    "import pandas as pd\n",
    "import numpy as np\n",
    "import os\n",
    "import re"
   ]
  },
  {
   "cell_type": "code",
   "execution_count": 2,
   "id": "f51bcbce-d948-4b05-98a7-6a8174edc796",
   "metadata": {},
   "outputs": [],
   "source": [
    "fDIR = 'C:/SPK_local/for_others/Augustine_lotek/'\n",
    "f_list = [x for x in os.listdir(fDIR) if 'CARM' in x and 'cleaned' in x]"
   ]
  },
  {
   "cell_type": "code",
   "execution_count": 3,
   "id": "a71d7aa6-9185-455d-ad44-06e5b339fe85",
   "metadata": {},
   "outputs": [
    {
     "name": "stdout",
     "output_type": "stream",
     "text": [
      "CARMappended2015_GoodDays_TrackQ3_cleaned.csv\n",
      "CARMappended2017_GoodDays_TrackQ3_cleaned.csv\n",
      "CARMappended2018_GoodDays_TrackQ3_cleaned.csv\n"
     ]
    }
   ],
   "source": [
    "for f in f_list:\n",
    "    print(f)\n",
    "    df = pd.read_csv(os.path.join(fDIR, f), engine='python', parse_dates=True)\n",
    "    df_daily_avg = df[df['bout_act'] == 'Grazing'].groupby(['SliceDay', 'Steer_ID']).mean()[['steplength', 'turnangle', 'moverate']]\n",
    "    df_daily_avg['bout_mins'] = df[df['bout_act'] == 'Grazing'].groupby(\n",
    "    ['SliceDay', 'Steer_ID', 'grazing_bout']).first()['bout_mins'].reset_index().groupby(\n",
    "    ['SliceDay', 'Steer_ID']).mean()['bout_mins']\n",
    "    df_daily_avg.to_csv(os.path.join(fDIR, re.sub('cleaned.csv', 'daily_avg_grazing.csv', f)))"
   ]
  },
  {
   "cell_type": "code",
   "execution_count": 4,
   "id": "1a318b04-6956-40e1-ac13-a8bffd9d098c",
   "metadata": {},
   "outputs": [
    {
     "data": {
      "text/plain": [
       "['CARMappended2015_GoodDays_TrackQ3_cleaned.csv',\n",
       " 'CARMappended2017_GoodDays_TrackQ3_cleaned.csv',\n",
       " 'CARMappended2018_GoodDays_TrackQ3_cleaned.csv']"
      ]
     },
     "execution_count": 4,
     "metadata": {},
     "output_type": "execute_result"
    }
   ],
   "source": [
    "f_list"
   ]
  },
  {
   "cell_type": "code",
   "execution_count": null,
   "id": "b536d05d-2516-4cde-ba35-fd4f31dbfe21",
   "metadata": {},
   "outputs": [],
   "source": []
  }
 ],
 "metadata": {
  "kernelspec": {
   "display_name": "Python 3 (ipykernel)",
   "language": "python",
   "name": "python3"
  },
  "language_info": {
   "codemirror_mode": {
    "name": "ipython",
    "version": 3
   },
   "file_extension": ".py",
   "mimetype": "text/x-python",
   "name": "python",
   "nbconvert_exporter": "python",
   "pygments_lexer": "ipython3",
   "version": "3.9.5"
  }
 },
 "nbformat": 4,
 "nbformat_minor": 5
}
